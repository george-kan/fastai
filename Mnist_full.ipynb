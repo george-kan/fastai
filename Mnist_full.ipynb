{
  "nbformat": 4,
  "nbformat_minor": 0,
  "metadata": {
    "colab": {
      "name": "Mnist_full.ipynb",
      "provenance": [],
      "authorship_tag": "ABX9TyOX8Pj8lorfkxAvUevPKJyG",
      "include_colab_link": true
    },
    "kernelspec": {
      "name": "python3",
      "display_name": "Python 3"
    },
    "accelerator": "GPU"
  },
  "cells": [
    {
      "cell_type": "markdown",
      "metadata": {
        "id": "view-in-github",
        "colab_type": "text"
      },
      "source": [
        "<a href=\"https://colab.research.google.com/github/george-kan/fastai/blob/main/Mnist_full.ipynb\" target=\"_parent\"><img src=\"https://colab.research.google.com/assets/colab-badge.svg\" alt=\"Open In Colab\"/></a>"
      ]
    },
    {
      "cell_type": "code",
      "metadata": {
        "id": "3Y75OGILAIct",
        "colab": {
          "base_uri": "https://localhost:8080/"
        },
        "outputId": "f835fd0c-5993-4642-f2c6-219784fb6c91"
      },
      "source": [
        "#hide\r\n",
        "!pip install -Uqq fastbook\r\n",
        "import fastbook"
      ],
      "execution_count": 1,
      "outputs": [
        {
          "output_type": "stream",
          "text": [
            "\u001b[K     |████████████████████████████████| 727kB 6.7MB/s \n",
            "\u001b[K     |████████████████████████████████| 194kB 8.8MB/s \n",
            "\u001b[K     |████████████████████████████████| 1.2MB 12.3MB/s \n",
            "\u001b[K     |████████████████████████████████| 51kB 8.2MB/s \n",
            "\u001b[K     |████████████████████████████████| 61kB 10.1MB/s \n",
            "\u001b[?25h"
          ],
          "name": "stdout"
        }
      ]
    },
    {
      "cell_type": "code",
      "metadata": {
        "id": "xYyxgCWABvkt"
      },
      "source": [
        "#hide\r\n",
        "from fastai.vision.all import *\r\n",
        "from fastbook import *"
      ],
      "execution_count": 2,
      "outputs": []
    },
    {
      "cell_type": "code",
      "metadata": {
        "id": "OgMfas_oBxXz",
        "colab": {
          "base_uri": "https://localhost:8080/",
          "height": 17
        },
        "outputId": "42b6f423-4a50-4933-acaa-59e921fa88ab"
      },
      "source": [
        "path = untar_data(URLs.MNIST)"
      ],
      "execution_count": 3,
      "outputs": [
        {
          "output_type": "display_data",
          "data": {
            "text/html": [
              ""
            ],
            "text/plain": [
              "<IPython.core.display.HTML object>"
            ]
          },
          "metadata": {
            "tags": []
          }
        }
      ]
    },
    {
      "cell_type": "code",
      "metadata": {
        "colab": {
          "base_uri": "https://localhost:8080/"
        },
        "id": "dg93Lx92B5Xi",
        "outputId": "94b37a71-72e0-479e-d970-f205983ca726"
      },
      "source": [
        "(path/'training').ls()"
      ],
      "execution_count": 4,
      "outputs": [
        {
          "output_type": "execute_result",
          "data": {
            "text/plain": [
              "(#10) [Path('/root/.fastai/data/mnist_png/training/1'),Path('/root/.fastai/data/mnist_png/training/9'),Path('/root/.fastai/data/mnist_png/training/0'),Path('/root/.fastai/data/mnist_png/training/8'),Path('/root/.fastai/data/mnist_png/training/7'),Path('/root/.fastai/data/mnist_png/training/5'),Path('/root/.fastai/data/mnist_png/training/3'),Path('/root/.fastai/data/mnist_png/training/6'),Path('/root/.fastai/data/mnist_png/training/4'),Path('/root/.fastai/data/mnist_png/training/2')]"
            ]
          },
          "metadata": {
            "tags": []
          },
          "execution_count": 4
        }
      ]
    },
    {
      "cell_type": "code",
      "metadata": {
        "id": "YxZEr-63EpI6"
      },
      "source": [
        ""
      ],
      "execution_count": 4,
      "outputs": []
    },
    {
      "cell_type": "code",
      "metadata": {
        "colab": {
          "base_uri": "https://localhost:8080/"
        },
        "id": "Ich2jhhlFDdL",
        "outputId": "610490b9-17fb-4f30-dbce-2ec4e73b749c"
      },
      "source": [
        "folder = 'training/3'\r\n",
        "\r\n",
        "(path/folder).ls()"
      ],
      "execution_count": 5,
      "outputs": [
        {
          "output_type": "execute_result",
          "data": {
            "text/plain": [
              "(#6131) [Path('/root/.fastai/data/mnist_png/training/3/25245.png'),Path('/root/.fastai/data/mnist_png/training/3/58707.png'),Path('/root/.fastai/data/mnist_png/training/3/27140.png'),Path('/root/.fastai/data/mnist_png/training/3/10214.png'),Path('/root/.fastai/data/mnist_png/training/3/33594.png'),Path('/root/.fastai/data/mnist_png/training/3/45836.png'),Path('/root/.fastai/data/mnist_png/training/3/6920.png'),Path('/root/.fastai/data/mnist_png/training/3/51091.png'),Path('/root/.fastai/data/mnist_png/training/3/17634.png'),Path('/root/.fastai/data/mnist_png/training/3/7295.png')...]"
            ]
          },
          "metadata": {
            "tags": []
          },
          "execution_count": 5
        }
      ]
    },
    {
      "cell_type": "code",
      "metadata": {
        "colab": {
          "base_uri": "https://localhost:8080/"
        },
        "id": "qdkzYQl9U4vG",
        "outputId": "c2cf4990-ae8a-48b6-cacf-0e76bb83313a"
      },
      "source": [
        "(path/'testing').ls()"
      ],
      "execution_count": 6,
      "outputs": [
        {
          "output_type": "execute_result",
          "data": {
            "text/plain": [
              "(#10) [Path('/root/.fastai/data/mnist_png/testing/1'),Path('/root/.fastai/data/mnist_png/testing/9'),Path('/root/.fastai/data/mnist_png/testing/0'),Path('/root/.fastai/data/mnist_png/testing/8'),Path('/root/.fastai/data/mnist_png/testing/7'),Path('/root/.fastai/data/mnist_png/testing/5'),Path('/root/.fastai/data/mnist_png/testing/3'),Path('/root/.fastai/data/mnist_png/testing/6'),Path('/root/.fastai/data/mnist_png/testing/4'),Path('/root/.fastai/data/mnist_png/testing/2')]"
            ]
          },
          "metadata": {
            "tags": []
          },
          "execution_count": 6
        }
      ]
    },
    {
      "cell_type": "code",
      "metadata": {
        "id": "ISW5WBUeEeCr"
      },
      "source": [
        "train_x = []\r\n",
        "train_y = []\r\n",
        "test_x = []\r\n",
        "test_y = []\r\n",
        "for digit in range(10):\r\n",
        "    folder = 'training/' + str(digit)\r\n",
        "    new_inp = [tensor(Image.open(x)) for x in (path/folder).ls()]\r\n",
        "    train_x += new_inp\r\n",
        "    train_y += [digit]*len(new_inp)\r\n",
        "    test_folder = 'testing/' + str(digit)\r\n",
        "    test_inp = [tensor(Image.open(x)) for x in (path/test_folder).ls()]\r\n",
        "    test_x += test_inp\r\n",
        "    test_y += [digit]*len(test_inp)\r\n",
        "    "
      ],
      "execution_count": 7,
      "outputs": []
    },
    {
      "cell_type": "code",
      "metadata": {
        "colab": {
          "base_uri": "https://localhost:8080/"
        },
        "id": "AWVxlaYmFfY6",
        "outputId": "df9c40d2-5a07-44f3-e670-7676c1fc59c1"
      },
      "source": [
        "train_x_stacked = torch.stack(train_x).view(-1, 28*28).float()/255\r\n",
        "train_y_stacked = tensor(train_y).view(-1, 1)\r\n",
        "train_ds = list(zip(train_x_stacked, train_y_stacked))\r\n",
        "train_dl = DataLoader(train_ds, batch_size= 256, shuffle=True)\r\n",
        "\r\n",
        "test_x_stacked = torch.stack(test_x).view(-1, 28*28).float()/255\r\n",
        "test_y_stacked = tensor(test_y).view(-1, 1)\r\n",
        "test_ds = list(zip(test_x_stacked, test_y_stacked))\r\n",
        "test_dl = DataLoader(test_ds, batch_size=256)\r\n",
        "\r\n",
        "dls = DataLoaders(train_dl, test_dl)\r\n",
        "\r\n",
        "train_x_stacked.shape, train_y_stacked.shape, test_x_stacked.shape, test_y_stacked.shape"
      ],
      "execution_count": 8,
      "outputs": [
        {
          "output_type": "execute_result",
          "data": {
            "text/plain": [
              "(torch.Size([60000, 784]),\n",
              " torch.Size([60000, 1]),\n",
              " torch.Size([10000, 784]),\n",
              " torch.Size([10000, 1]))"
            ]
          },
          "metadata": {
            "tags": []
          },
          "execution_count": 8
        }
      ]
    },
    {
      "cell_type": "code",
      "metadata": {
        "colab": {
          "base_uri": "https://localhost:8080/"
        },
        "id": "K-VIu3M3IQtZ",
        "outputId": "4f0258a2-1ab9-4d59-f92e-8f6463567364"
      },
      "source": [
        "train_x[2000]"
      ],
      "execution_count": 9,
      "outputs": [
        {
          "output_type": "execute_result",
          "data": {
            "text/plain": [
              "tensor([[  0,   0,   0,   0,   0,   0,   0,   0,   0,   0,   0,   0,   0,   0,   0,   0,   0,   0,   0,   0,   0,   0,   0,   0,   0,   0,   0,   0],\n",
              "        [  0,   0,   0,   0,   0,   0,   0,   0,   0,   0,   0,   0,   0,   0,   0,   0,   0,   0,   0,   0,   0,   0,   0,   0,   0,   0,   0,   0],\n",
              "        [  0,   0,   0,   0,   0,   0,   0,   0,   0,   0,   0,   0,   0,   0,   0,   0,   0,   0,   0,   0,   0,   0,   0,   0,   0,   0,   0,   0],\n",
              "        [  0,   0,   0,   0,   0,   0,   0,   0,   0,   0,   0,   0,   0,   0,   0,   0,   0,   0,   0,   0,   0,   0,   0,   0,   0,   0,   0,   0],\n",
              "        [  0,   0,   0,   0,   0,   0,   0,   0,   0,   0,   0,   0,  13, 101, 101, 208, 255, 119,  95,   0,   0,   0,   0,   0,   0,   0,   0,   0],\n",
              "        [  0,   0,   0,   0,   0,   0,   0,   0,   0,   0,   0,  68, 207, 253, 253, 253, 253, 253, 250, 130,   7,   0,   0,   0,   0,   0,   0,   0],\n",
              "        [  0,   0,   0,   0,   0,   0,   0,   0,   0,   0,   0, 174, 253, 253, 253, 253, 253, 253, 253, 253,  38,   0,   0,   0,   0,   0,   0,   0],\n",
              "        [  0,   0,   0,   0,   0,   0,   0,   0,   0,  15,  93, 244, 253, 253, 122, 115, 160, 186, 253, 253, 187,   0,   0,   0,   0,   0,   0,   0],\n",
              "        [  0,   0,   0,   0,   0,   0,   0,   0,   0,  39, 253, 253, 253, 153,   6,   0,   0,  17,  70, 232, 201,  14,   0,   0,   0,   0,   0,   0],\n",
              "        [  0,   0,   0,   0,   0,   0,   0,   0,   0, 124, 253, 253, 253, 123,   0,   0,   0,   0,   0,  53, 233, 175,   0,   0,   0,   0,   0,   0],\n",
              "        [  0,   0,   0,   0,   0,   0,   0,   0,  32, 213, 253, 253, 243,  82,   0,   0,   0,   0,   0,   0, 216, 245,   0,   0,   0,   0,   0,   0],\n",
              "        [  0,   0,   0,   0,   0,   0,   0,   0, 112, 253, 253, 253, 203,   0,   0,   0,   0,   0,   0,   0, 104, 251, 107,   0,   0,   0,   0,   0],\n",
              "        [  0,   0,   0,   0,   0,   0,   0,   0, 247, 253, 253, 253,  68,   0,   0,   0,   0,   0,   0,   0,  62, 253, 145,   0,   0,   0,   0,   0],\n",
              "        [  0,   0,   0,   0,   0,   0,   0,  45, 249, 253, 253, 175,   6,   0,   0,   0,   0,   0,   0,   0,  62, 253, 145,   0,   0,   0,   0,   0],\n",
              "        [  0,   0,   0,   0,   0,   0,   0, 146, 253, 253, 253,  61,   0,   0,   0,   0,   0,   0,   0,   0,  62, 253, 145,   0,   0,   0,   0,   0],\n",
              "        [  0,   0,   0,   0,   0,   0,   0, 146, 253, 253, 185,   8,   0,   0,   0,   0,   0,   0,   0,   0,  62, 253, 145,   0,   0,   0,   0,   0],\n",
              "        [  0,   0,   0,   0,   0,   0,  41, 241, 253, 219,  14,   0,   0,   0,   0,   0,   0,   0,   0,   0,  62, 253, 145,   0,   0,   0,   0,   0],\n",
              "        [  0,   0,   0,   0,   0,   0,  47, 253, 253, 214,   0,   0,   0,   0,   0,   0,   0,   0,   1,  87, 190, 253, 145,   0,   0,   0,   0,   0],\n",
              "        [  0,   0,   0,   0,   0,   0,  47, 253, 253, 214,   0,   0,   0,   0,   0,   0,   0,  32, 125, 253, 253, 253, 145,   0,   0,   0,   0,   0],\n",
              "        [  0,   0,   0,   0,   0,   0,  36, 227, 253, 224,  62,  62,  62,  62,  62, 170, 216, 226, 253, 253, 253, 251, 110,   0,   0,   0,   0,   0],\n",
              "        [  0,   0,   0,   0,   0,   0,   0, 142, 253, 253, 253, 253, 253, 253, 253, 253, 253, 253, 253, 253, 251, 238,   0,   0,   0,   0,   0,   0],\n",
              "        [  0,   0,   0,   0,   0,   0,   0,   0, 247, 253, 253, 253, 253, 253, 253, 253, 253, 253, 253, 253, 126,   0,   0,   0,   0,   0,   0,   0],\n",
              "        [  0,   0,   0,   0,   0,   0,   0,   0, 101, 199, 199, 217, 253, 253, 253, 253, 253, 238, 189,  45,   7,   0,   0,   0,   0,   0,   0,   0],\n",
              "        [  0,   0,   0,   0,   0,   0,   0,   0,   0,   0,   0,  34, 211, 253, 253, 145,  99,  72,   0,   0,   0,   0,   0,   0,   0,   0,   0,   0],\n",
              "        [  0,   0,   0,   0,   0,   0,   0,   0,   0,   0,   0,   0,   0,   0,   0,   0,   0,   0,   0,   0,   0,   0,   0,   0,   0,   0,   0,   0],\n",
              "        [  0,   0,   0,   0,   0,   0,   0,   0,   0,   0,   0,   0,   0,   0,   0,   0,   0,   0,   0,   0,   0,   0,   0,   0,   0,   0,   0,   0],\n",
              "        [  0,   0,   0,   0,   0,   0,   0,   0,   0,   0,   0,   0,   0,   0,   0,   0,   0,   0,   0,   0,   0,   0,   0,   0,   0,   0,   0,   0],\n",
              "        [  0,   0,   0,   0,   0,   0,   0,   0,   0,   0,   0,   0,   0,   0,   0,   0,   0,   0,   0,   0,   0,   0,   0,   0,   0,   0,   0,   0]], dtype=torch.uint8)"
            ]
          },
          "metadata": {
            "tags": []
          },
          "execution_count": 9
        }
      ]
    },
    {
      "cell_type": "code",
      "metadata": {
        "colab": {
          "base_uri": "https://localhost:8080/",
          "height": 645
        },
        "id": "TXv-qsNUGzjT",
        "outputId": "8f2a89c0-3dc8-46ba-8c14-39ef10ded3e1"
      },
      "source": [
        "df = pd.DataFrame(torch.trunc(tensor(train_x[2000]).float()))\r\n",
        "df.style.set_properties(**{'font-size':'6pt'}).background_gradient('Greys')"
      ],
      "execution_count": 10,
      "outputs": [
        {
          "output_type": "execute_result",
          "data": {
            "text/html": [
              "<style  type=\"text/css\" >\n",
              "#T_ac4fc384_5ae7_11eb_b4f9_0242ac1c0002row0_col0,#T_ac4fc384_5ae7_11eb_b4f9_0242ac1c0002row0_col1,#T_ac4fc384_5ae7_11eb_b4f9_0242ac1c0002row0_col2,#T_ac4fc384_5ae7_11eb_b4f9_0242ac1c0002row0_col3,#T_ac4fc384_5ae7_11eb_b4f9_0242ac1c0002row0_col4,#T_ac4fc384_5ae7_11eb_b4f9_0242ac1c0002row0_col5,#T_ac4fc384_5ae7_11eb_b4f9_0242ac1c0002row0_col6,#T_ac4fc384_5ae7_11eb_b4f9_0242ac1c0002row0_col7,#T_ac4fc384_5ae7_11eb_b4f9_0242ac1c0002row0_col8,#T_ac4fc384_5ae7_11eb_b4f9_0242ac1c0002row0_col9,#T_ac4fc384_5ae7_11eb_b4f9_0242ac1c0002row0_col10,#T_ac4fc384_5ae7_11eb_b4f9_0242ac1c0002row0_col11,#T_ac4fc384_5ae7_11eb_b4f9_0242ac1c0002row0_col12,#T_ac4fc384_5ae7_11eb_b4f9_0242ac1c0002row0_col13,#T_ac4fc384_5ae7_11eb_b4f9_0242ac1c0002row0_col14,#T_ac4fc384_5ae7_11eb_b4f9_0242ac1c0002row0_col15,#T_ac4fc384_5ae7_11eb_b4f9_0242ac1c0002row0_col16,#T_ac4fc384_5ae7_11eb_b4f9_0242ac1c0002row0_col17,#T_ac4fc384_5ae7_11eb_b4f9_0242ac1c0002row0_col18,#T_ac4fc384_5ae7_11eb_b4f9_0242ac1c0002row0_col19,#T_ac4fc384_5ae7_11eb_b4f9_0242ac1c0002row0_col20,#T_ac4fc384_5ae7_11eb_b4f9_0242ac1c0002row0_col21,#T_ac4fc384_5ae7_11eb_b4f9_0242ac1c0002row0_col22,#T_ac4fc384_5ae7_11eb_b4f9_0242ac1c0002row0_col23,#T_ac4fc384_5ae7_11eb_b4f9_0242ac1c0002row0_col24,#T_ac4fc384_5ae7_11eb_b4f9_0242ac1c0002row0_col25,#T_ac4fc384_5ae7_11eb_b4f9_0242ac1c0002row0_col26,#T_ac4fc384_5ae7_11eb_b4f9_0242ac1c0002row0_col27,#T_ac4fc384_5ae7_11eb_b4f9_0242ac1c0002row1_col0,#T_ac4fc384_5ae7_11eb_b4f9_0242ac1c0002row1_col1,#T_ac4fc384_5ae7_11eb_b4f9_0242ac1c0002row1_col2,#T_ac4fc384_5ae7_11eb_b4f9_0242ac1c0002row1_col3,#T_ac4fc384_5ae7_11eb_b4f9_0242ac1c0002row1_col4,#T_ac4fc384_5ae7_11eb_b4f9_0242ac1c0002row1_col5,#T_ac4fc384_5ae7_11eb_b4f9_0242ac1c0002row1_col6,#T_ac4fc384_5ae7_11eb_b4f9_0242ac1c0002row1_col7,#T_ac4fc384_5ae7_11eb_b4f9_0242ac1c0002row1_col8,#T_ac4fc384_5ae7_11eb_b4f9_0242ac1c0002row1_col9,#T_ac4fc384_5ae7_11eb_b4f9_0242ac1c0002row1_col10,#T_ac4fc384_5ae7_11eb_b4f9_0242ac1c0002row1_col11,#T_ac4fc384_5ae7_11eb_b4f9_0242ac1c0002row1_col12,#T_ac4fc384_5ae7_11eb_b4f9_0242ac1c0002row1_col13,#T_ac4fc384_5ae7_11eb_b4f9_0242ac1c0002row1_col14,#T_ac4fc384_5ae7_11eb_b4f9_0242ac1c0002row1_col15,#T_ac4fc384_5ae7_11eb_b4f9_0242ac1c0002row1_col16,#T_ac4fc384_5ae7_11eb_b4f9_0242ac1c0002row1_col17,#T_ac4fc384_5ae7_11eb_b4f9_0242ac1c0002row1_col18,#T_ac4fc384_5ae7_11eb_b4f9_0242ac1c0002row1_col19,#T_ac4fc384_5ae7_11eb_b4f9_0242ac1c0002row1_col20,#T_ac4fc384_5ae7_11eb_b4f9_0242ac1c0002row1_col21,#T_ac4fc384_5ae7_11eb_b4f9_0242ac1c0002row1_col22,#T_ac4fc384_5ae7_11eb_b4f9_0242ac1c0002row1_col23,#T_ac4fc384_5ae7_11eb_b4f9_0242ac1c0002row1_col24,#T_ac4fc384_5ae7_11eb_b4f9_0242ac1c0002row1_col25,#T_ac4fc384_5ae7_11eb_b4f9_0242ac1c0002row1_col26,#T_ac4fc384_5ae7_11eb_b4f9_0242ac1c0002row1_col27,#T_ac4fc384_5ae7_11eb_b4f9_0242ac1c0002row2_col0,#T_ac4fc384_5ae7_11eb_b4f9_0242ac1c0002row2_col1,#T_ac4fc384_5ae7_11eb_b4f9_0242ac1c0002row2_col2,#T_ac4fc384_5ae7_11eb_b4f9_0242ac1c0002row2_col3,#T_ac4fc384_5ae7_11eb_b4f9_0242ac1c0002row2_col4,#T_ac4fc384_5ae7_11eb_b4f9_0242ac1c0002row2_col5,#T_ac4fc384_5ae7_11eb_b4f9_0242ac1c0002row2_col6,#T_ac4fc384_5ae7_11eb_b4f9_0242ac1c0002row2_col7,#T_ac4fc384_5ae7_11eb_b4f9_0242ac1c0002row2_col8,#T_ac4fc384_5ae7_11eb_b4f9_0242ac1c0002row2_col9,#T_ac4fc384_5ae7_11eb_b4f9_0242ac1c0002row2_col10,#T_ac4fc384_5ae7_11eb_b4f9_0242ac1c0002row2_col11,#T_ac4fc384_5ae7_11eb_b4f9_0242ac1c0002row2_col12,#T_ac4fc384_5ae7_11eb_b4f9_0242ac1c0002row2_col13,#T_ac4fc384_5ae7_11eb_b4f9_0242ac1c0002row2_col14,#T_ac4fc384_5ae7_11eb_b4f9_0242ac1c0002row2_col15,#T_ac4fc384_5ae7_11eb_b4f9_0242ac1c0002row2_col16,#T_ac4fc384_5ae7_11eb_b4f9_0242ac1c0002row2_col17,#T_ac4fc384_5ae7_11eb_b4f9_0242ac1c0002row2_col18,#T_ac4fc384_5ae7_11eb_b4f9_0242ac1c0002row2_col19,#T_ac4fc384_5ae7_11eb_b4f9_0242ac1c0002row2_col20,#T_ac4fc384_5ae7_11eb_b4f9_0242ac1c0002row2_col21,#T_ac4fc384_5ae7_11eb_b4f9_0242ac1c0002row2_col22,#T_ac4fc384_5ae7_11eb_b4f9_0242ac1c0002row2_col23,#T_ac4fc384_5ae7_11eb_b4f9_0242ac1c0002row2_col24,#T_ac4fc384_5ae7_11eb_b4f9_0242ac1c0002row2_col25,#T_ac4fc384_5ae7_11eb_b4f9_0242ac1c0002row2_col26,#T_ac4fc384_5ae7_11eb_b4f9_0242ac1c0002row2_col27,#T_ac4fc384_5ae7_11eb_b4f9_0242ac1c0002row3_col0,#T_ac4fc384_5ae7_11eb_b4f9_0242ac1c0002row3_col1,#T_ac4fc384_5ae7_11eb_b4f9_0242ac1c0002row3_col2,#T_ac4fc384_5ae7_11eb_b4f9_0242ac1c0002row3_col3,#T_ac4fc384_5ae7_11eb_b4f9_0242ac1c0002row3_col4,#T_ac4fc384_5ae7_11eb_b4f9_0242ac1c0002row3_col5,#T_ac4fc384_5ae7_11eb_b4f9_0242ac1c0002row3_col6,#T_ac4fc384_5ae7_11eb_b4f9_0242ac1c0002row3_col7,#T_ac4fc384_5ae7_11eb_b4f9_0242ac1c0002row3_col8,#T_ac4fc384_5ae7_11eb_b4f9_0242ac1c0002row3_col9,#T_ac4fc384_5ae7_11eb_b4f9_0242ac1c0002row3_col10,#T_ac4fc384_5ae7_11eb_b4f9_0242ac1c0002row3_col11,#T_ac4fc384_5ae7_11eb_b4f9_0242ac1c0002row3_col12,#T_ac4fc384_5ae7_11eb_b4f9_0242ac1c0002row3_col13,#T_ac4fc384_5ae7_11eb_b4f9_0242ac1c0002row3_col14,#T_ac4fc384_5ae7_11eb_b4f9_0242ac1c0002row3_col15,#T_ac4fc384_5ae7_11eb_b4f9_0242ac1c0002row3_col16,#T_ac4fc384_5ae7_11eb_b4f9_0242ac1c0002row3_col17,#T_ac4fc384_5ae7_11eb_b4f9_0242ac1c0002row3_col18,#T_ac4fc384_5ae7_11eb_b4f9_0242ac1c0002row3_col19,#T_ac4fc384_5ae7_11eb_b4f9_0242ac1c0002row3_col20,#T_ac4fc384_5ae7_11eb_b4f9_0242ac1c0002row3_col21,#T_ac4fc384_5ae7_11eb_b4f9_0242ac1c0002row3_col22,#T_ac4fc384_5ae7_11eb_b4f9_0242ac1c0002row3_col23,#T_ac4fc384_5ae7_11eb_b4f9_0242ac1c0002row3_col24,#T_ac4fc384_5ae7_11eb_b4f9_0242ac1c0002row3_col25,#T_ac4fc384_5ae7_11eb_b4f9_0242ac1c0002row3_col26,#T_ac4fc384_5ae7_11eb_b4f9_0242ac1c0002row3_col27,#T_ac4fc384_5ae7_11eb_b4f9_0242ac1c0002row4_col0,#T_ac4fc384_5ae7_11eb_b4f9_0242ac1c0002row4_col1,#T_ac4fc384_5ae7_11eb_b4f9_0242ac1c0002row4_col2,#T_ac4fc384_5ae7_11eb_b4f9_0242ac1c0002row4_col3,#T_ac4fc384_5ae7_11eb_b4f9_0242ac1c0002row4_col4,#T_ac4fc384_5ae7_11eb_b4f9_0242ac1c0002row4_col5,#T_ac4fc384_5ae7_11eb_b4f9_0242ac1c0002row4_col6,#T_ac4fc384_5ae7_11eb_b4f9_0242ac1c0002row4_col7,#T_ac4fc384_5ae7_11eb_b4f9_0242ac1c0002row4_col8,#T_ac4fc384_5ae7_11eb_b4f9_0242ac1c0002row4_col9,#T_ac4fc384_5ae7_11eb_b4f9_0242ac1c0002row4_col10,#T_ac4fc384_5ae7_11eb_b4f9_0242ac1c0002row4_col11,#T_ac4fc384_5ae7_11eb_b4f9_0242ac1c0002row4_col19,#T_ac4fc384_5ae7_11eb_b4f9_0242ac1c0002row4_col20,#T_ac4fc384_5ae7_11eb_b4f9_0242ac1c0002row4_col21,#T_ac4fc384_5ae7_11eb_b4f9_0242ac1c0002row4_col22,#T_ac4fc384_5ae7_11eb_b4f9_0242ac1c0002row4_col23,#T_ac4fc384_5ae7_11eb_b4f9_0242ac1c0002row4_col24,#T_ac4fc384_5ae7_11eb_b4f9_0242ac1c0002row4_col25,#T_ac4fc384_5ae7_11eb_b4f9_0242ac1c0002row4_col26,#T_ac4fc384_5ae7_11eb_b4f9_0242ac1c0002row4_col27,#T_ac4fc384_5ae7_11eb_b4f9_0242ac1c0002row5_col0,#T_ac4fc384_5ae7_11eb_b4f9_0242ac1c0002row5_col1,#T_ac4fc384_5ae7_11eb_b4f9_0242ac1c0002row5_col2,#T_ac4fc384_5ae7_11eb_b4f9_0242ac1c0002row5_col3,#T_ac4fc384_5ae7_11eb_b4f9_0242ac1c0002row5_col4,#T_ac4fc384_5ae7_11eb_b4f9_0242ac1c0002row5_col5,#T_ac4fc384_5ae7_11eb_b4f9_0242ac1c0002row5_col6,#T_ac4fc384_5ae7_11eb_b4f9_0242ac1c0002row5_col7,#T_ac4fc384_5ae7_11eb_b4f9_0242ac1c0002row5_col8,#T_ac4fc384_5ae7_11eb_b4f9_0242ac1c0002row5_col9,#T_ac4fc384_5ae7_11eb_b4f9_0242ac1c0002row5_col10,#T_ac4fc384_5ae7_11eb_b4f9_0242ac1c0002row5_col21,#T_ac4fc384_5ae7_11eb_b4f9_0242ac1c0002row5_col22,#T_ac4fc384_5ae7_11eb_b4f9_0242ac1c0002row5_col23,#T_ac4fc384_5ae7_11eb_b4f9_0242ac1c0002row5_col24,#T_ac4fc384_5ae7_11eb_b4f9_0242ac1c0002row5_col25,#T_ac4fc384_5ae7_11eb_b4f9_0242ac1c0002row5_col26,#T_ac4fc384_5ae7_11eb_b4f9_0242ac1c0002row5_col27,#T_ac4fc384_5ae7_11eb_b4f9_0242ac1c0002row6_col0,#T_ac4fc384_5ae7_11eb_b4f9_0242ac1c0002row6_col1,#T_ac4fc384_5ae7_11eb_b4f9_0242ac1c0002row6_col2,#T_ac4fc384_5ae7_11eb_b4f9_0242ac1c0002row6_col3,#T_ac4fc384_5ae7_11eb_b4f9_0242ac1c0002row6_col4,#T_ac4fc384_5ae7_11eb_b4f9_0242ac1c0002row6_col5,#T_ac4fc384_5ae7_11eb_b4f9_0242ac1c0002row6_col6,#T_ac4fc384_5ae7_11eb_b4f9_0242ac1c0002row6_col7,#T_ac4fc384_5ae7_11eb_b4f9_0242ac1c0002row6_col8,#T_ac4fc384_5ae7_11eb_b4f9_0242ac1c0002row6_col9,#T_ac4fc384_5ae7_11eb_b4f9_0242ac1c0002row6_col10,#T_ac4fc384_5ae7_11eb_b4f9_0242ac1c0002row6_col21,#T_ac4fc384_5ae7_11eb_b4f9_0242ac1c0002row6_col22,#T_ac4fc384_5ae7_11eb_b4f9_0242ac1c0002row6_col23,#T_ac4fc384_5ae7_11eb_b4f9_0242ac1c0002row6_col24,#T_ac4fc384_5ae7_11eb_b4f9_0242ac1c0002row6_col25,#T_ac4fc384_5ae7_11eb_b4f9_0242ac1c0002row6_col26,#T_ac4fc384_5ae7_11eb_b4f9_0242ac1c0002row6_col27,#T_ac4fc384_5ae7_11eb_b4f9_0242ac1c0002row7_col0,#T_ac4fc384_5ae7_11eb_b4f9_0242ac1c0002row7_col1,#T_ac4fc384_5ae7_11eb_b4f9_0242ac1c0002row7_col2,#T_ac4fc384_5ae7_11eb_b4f9_0242ac1c0002row7_col3,#T_ac4fc384_5ae7_11eb_b4f9_0242ac1c0002row7_col4,#T_ac4fc384_5ae7_11eb_b4f9_0242ac1c0002row7_col5,#T_ac4fc384_5ae7_11eb_b4f9_0242ac1c0002row7_col6,#T_ac4fc384_5ae7_11eb_b4f9_0242ac1c0002row7_col7,#T_ac4fc384_5ae7_11eb_b4f9_0242ac1c0002row7_col8,#T_ac4fc384_5ae7_11eb_b4f9_0242ac1c0002row7_col21,#T_ac4fc384_5ae7_11eb_b4f9_0242ac1c0002row7_col22,#T_ac4fc384_5ae7_11eb_b4f9_0242ac1c0002row7_col23,#T_ac4fc384_5ae7_11eb_b4f9_0242ac1c0002row7_col24,#T_ac4fc384_5ae7_11eb_b4f9_0242ac1c0002row7_col25,#T_ac4fc384_5ae7_11eb_b4f9_0242ac1c0002row7_col26,#T_ac4fc384_5ae7_11eb_b4f9_0242ac1c0002row7_col27,#T_ac4fc384_5ae7_11eb_b4f9_0242ac1c0002row8_col0,#T_ac4fc384_5ae7_11eb_b4f9_0242ac1c0002row8_col1,#T_ac4fc384_5ae7_11eb_b4f9_0242ac1c0002row8_col2,#T_ac4fc384_5ae7_11eb_b4f9_0242ac1c0002row8_col3,#T_ac4fc384_5ae7_11eb_b4f9_0242ac1c0002row8_col4,#T_ac4fc384_5ae7_11eb_b4f9_0242ac1c0002row8_col5,#T_ac4fc384_5ae7_11eb_b4f9_0242ac1c0002row8_col6,#T_ac4fc384_5ae7_11eb_b4f9_0242ac1c0002row8_col7,#T_ac4fc384_5ae7_11eb_b4f9_0242ac1c0002row8_col8,#T_ac4fc384_5ae7_11eb_b4f9_0242ac1c0002row8_col15,#T_ac4fc384_5ae7_11eb_b4f9_0242ac1c0002row8_col16,#T_ac4fc384_5ae7_11eb_b4f9_0242ac1c0002row8_col22,#T_ac4fc384_5ae7_11eb_b4f9_0242ac1c0002row8_col23,#T_ac4fc384_5ae7_11eb_b4f9_0242ac1c0002row8_col24,#T_ac4fc384_5ae7_11eb_b4f9_0242ac1c0002row8_col25,#T_ac4fc384_5ae7_11eb_b4f9_0242ac1c0002row8_col26,#T_ac4fc384_5ae7_11eb_b4f9_0242ac1c0002row8_col27,#T_ac4fc384_5ae7_11eb_b4f9_0242ac1c0002row9_col0,#T_ac4fc384_5ae7_11eb_b4f9_0242ac1c0002row9_col1,#T_ac4fc384_5ae7_11eb_b4f9_0242ac1c0002row9_col2,#T_ac4fc384_5ae7_11eb_b4f9_0242ac1c0002row9_col3,#T_ac4fc384_5ae7_11eb_b4f9_0242ac1c0002row9_col4,#T_ac4fc384_5ae7_11eb_b4f9_0242ac1c0002row9_col5,#T_ac4fc384_5ae7_11eb_b4f9_0242ac1c0002row9_col6,#T_ac4fc384_5ae7_11eb_b4f9_0242ac1c0002row9_col7,#T_ac4fc384_5ae7_11eb_b4f9_0242ac1c0002row9_col8,#T_ac4fc384_5ae7_11eb_b4f9_0242ac1c0002row9_col14,#T_ac4fc384_5ae7_11eb_b4f9_0242ac1c0002row9_col15,#T_ac4fc384_5ae7_11eb_b4f9_0242ac1c0002row9_col16,#T_ac4fc384_5ae7_11eb_b4f9_0242ac1c0002row9_col17,#T_ac4fc384_5ae7_11eb_b4f9_0242ac1c0002row9_col18,#T_ac4fc384_5ae7_11eb_b4f9_0242ac1c0002row9_col22,#T_ac4fc384_5ae7_11eb_b4f9_0242ac1c0002row9_col23,#T_ac4fc384_5ae7_11eb_b4f9_0242ac1c0002row9_col24,#T_ac4fc384_5ae7_11eb_b4f9_0242ac1c0002row9_col25,#T_ac4fc384_5ae7_11eb_b4f9_0242ac1c0002row9_col26,#T_ac4fc384_5ae7_11eb_b4f9_0242ac1c0002row9_col27,#T_ac4fc384_5ae7_11eb_b4f9_0242ac1c0002row10_col0,#T_ac4fc384_5ae7_11eb_b4f9_0242ac1c0002row10_col1,#T_ac4fc384_5ae7_11eb_b4f9_0242ac1c0002row10_col2,#T_ac4fc384_5ae7_11eb_b4f9_0242ac1c0002row10_col3,#T_ac4fc384_5ae7_11eb_b4f9_0242ac1c0002row10_col4,#T_ac4fc384_5ae7_11eb_b4f9_0242ac1c0002row10_col5,#T_ac4fc384_5ae7_11eb_b4f9_0242ac1c0002row10_col6,#T_ac4fc384_5ae7_11eb_b4f9_0242ac1c0002row10_col7,#T_ac4fc384_5ae7_11eb_b4f9_0242ac1c0002row10_col14,#T_ac4fc384_5ae7_11eb_b4f9_0242ac1c0002row10_col15,#T_ac4fc384_5ae7_11eb_b4f9_0242ac1c0002row10_col16,#T_ac4fc384_5ae7_11eb_b4f9_0242ac1c0002row10_col17,#T_ac4fc384_5ae7_11eb_b4f9_0242ac1c0002row10_col18,#T_ac4fc384_5ae7_11eb_b4f9_0242ac1c0002row10_col19,#T_ac4fc384_5ae7_11eb_b4f9_0242ac1c0002row10_col22,#T_ac4fc384_5ae7_11eb_b4f9_0242ac1c0002row10_col23,#T_ac4fc384_5ae7_11eb_b4f9_0242ac1c0002row10_col24,#T_ac4fc384_5ae7_11eb_b4f9_0242ac1c0002row10_col25,#T_ac4fc384_5ae7_11eb_b4f9_0242ac1c0002row10_col26,#T_ac4fc384_5ae7_11eb_b4f9_0242ac1c0002row10_col27,#T_ac4fc384_5ae7_11eb_b4f9_0242ac1c0002row11_col0,#T_ac4fc384_5ae7_11eb_b4f9_0242ac1c0002row11_col1,#T_ac4fc384_5ae7_11eb_b4f9_0242ac1c0002row11_col2,#T_ac4fc384_5ae7_11eb_b4f9_0242ac1c0002row11_col3,#T_ac4fc384_5ae7_11eb_b4f9_0242ac1c0002row11_col4,#T_ac4fc384_5ae7_11eb_b4f9_0242ac1c0002row11_col5,#T_ac4fc384_5ae7_11eb_b4f9_0242ac1c0002row11_col6,#T_ac4fc384_5ae7_11eb_b4f9_0242ac1c0002row11_col7,#T_ac4fc384_5ae7_11eb_b4f9_0242ac1c0002row11_col13,#T_ac4fc384_5ae7_11eb_b4f9_0242ac1c0002row11_col14,#T_ac4fc384_5ae7_11eb_b4f9_0242ac1c0002row11_col15,#T_ac4fc384_5ae7_11eb_b4f9_0242ac1c0002row11_col16,#T_ac4fc384_5ae7_11eb_b4f9_0242ac1c0002row11_col17,#T_ac4fc384_5ae7_11eb_b4f9_0242ac1c0002row11_col18,#T_ac4fc384_5ae7_11eb_b4f9_0242ac1c0002row11_col19,#T_ac4fc384_5ae7_11eb_b4f9_0242ac1c0002row11_col23,#T_ac4fc384_5ae7_11eb_b4f9_0242ac1c0002row11_col24,#T_ac4fc384_5ae7_11eb_b4f9_0242ac1c0002row11_col25,#T_ac4fc384_5ae7_11eb_b4f9_0242ac1c0002row11_col26,#T_ac4fc384_5ae7_11eb_b4f9_0242ac1c0002row11_col27,#T_ac4fc384_5ae7_11eb_b4f9_0242ac1c0002row12_col0,#T_ac4fc384_5ae7_11eb_b4f9_0242ac1c0002row12_col1,#T_ac4fc384_5ae7_11eb_b4f9_0242ac1c0002row12_col2,#T_ac4fc384_5ae7_11eb_b4f9_0242ac1c0002row12_col3,#T_ac4fc384_5ae7_11eb_b4f9_0242ac1c0002row12_col4,#T_ac4fc384_5ae7_11eb_b4f9_0242ac1c0002row12_col5,#T_ac4fc384_5ae7_11eb_b4f9_0242ac1c0002row12_col6,#T_ac4fc384_5ae7_11eb_b4f9_0242ac1c0002row12_col7,#T_ac4fc384_5ae7_11eb_b4f9_0242ac1c0002row12_col13,#T_ac4fc384_5ae7_11eb_b4f9_0242ac1c0002row12_col14,#T_ac4fc384_5ae7_11eb_b4f9_0242ac1c0002row12_col15,#T_ac4fc384_5ae7_11eb_b4f9_0242ac1c0002row12_col16,#T_ac4fc384_5ae7_11eb_b4f9_0242ac1c0002row12_col17,#T_ac4fc384_5ae7_11eb_b4f9_0242ac1c0002row12_col18,#T_ac4fc384_5ae7_11eb_b4f9_0242ac1c0002row12_col19,#T_ac4fc384_5ae7_11eb_b4f9_0242ac1c0002row12_col23,#T_ac4fc384_5ae7_11eb_b4f9_0242ac1c0002row12_col24,#T_ac4fc384_5ae7_11eb_b4f9_0242ac1c0002row12_col25,#T_ac4fc384_5ae7_11eb_b4f9_0242ac1c0002row12_col26,#T_ac4fc384_5ae7_11eb_b4f9_0242ac1c0002row12_col27,#T_ac4fc384_5ae7_11eb_b4f9_0242ac1c0002row13_col0,#T_ac4fc384_5ae7_11eb_b4f9_0242ac1c0002row13_col1,#T_ac4fc384_5ae7_11eb_b4f9_0242ac1c0002row13_col2,#T_ac4fc384_5ae7_11eb_b4f9_0242ac1c0002row13_col3,#T_ac4fc384_5ae7_11eb_b4f9_0242ac1c0002row13_col4,#T_ac4fc384_5ae7_11eb_b4f9_0242ac1c0002row13_col5,#T_ac4fc384_5ae7_11eb_b4f9_0242ac1c0002row13_col6,#T_ac4fc384_5ae7_11eb_b4f9_0242ac1c0002row13_col13,#T_ac4fc384_5ae7_11eb_b4f9_0242ac1c0002row13_col14,#T_ac4fc384_5ae7_11eb_b4f9_0242ac1c0002row13_col15,#T_ac4fc384_5ae7_11eb_b4f9_0242ac1c0002row13_col16,#T_ac4fc384_5ae7_11eb_b4f9_0242ac1c0002row13_col17,#T_ac4fc384_5ae7_11eb_b4f9_0242ac1c0002row13_col18,#T_ac4fc384_5ae7_11eb_b4f9_0242ac1c0002row13_col19,#T_ac4fc384_5ae7_11eb_b4f9_0242ac1c0002row13_col23,#T_ac4fc384_5ae7_11eb_b4f9_0242ac1c0002row13_col24,#T_ac4fc384_5ae7_11eb_b4f9_0242ac1c0002row13_col25,#T_ac4fc384_5ae7_11eb_b4f9_0242ac1c0002row13_col26,#T_ac4fc384_5ae7_11eb_b4f9_0242ac1c0002row13_col27,#T_ac4fc384_5ae7_11eb_b4f9_0242ac1c0002row14_col0,#T_ac4fc384_5ae7_11eb_b4f9_0242ac1c0002row14_col1,#T_ac4fc384_5ae7_11eb_b4f9_0242ac1c0002row14_col2,#T_ac4fc384_5ae7_11eb_b4f9_0242ac1c0002row14_col3,#T_ac4fc384_5ae7_11eb_b4f9_0242ac1c0002row14_col4,#T_ac4fc384_5ae7_11eb_b4f9_0242ac1c0002row14_col5,#T_ac4fc384_5ae7_11eb_b4f9_0242ac1c0002row14_col6,#T_ac4fc384_5ae7_11eb_b4f9_0242ac1c0002row14_col12,#T_ac4fc384_5ae7_11eb_b4f9_0242ac1c0002row14_col13,#T_ac4fc384_5ae7_11eb_b4f9_0242ac1c0002row14_col14,#T_ac4fc384_5ae7_11eb_b4f9_0242ac1c0002row14_col15,#T_ac4fc384_5ae7_11eb_b4f9_0242ac1c0002row14_col16,#T_ac4fc384_5ae7_11eb_b4f9_0242ac1c0002row14_col17,#T_ac4fc384_5ae7_11eb_b4f9_0242ac1c0002row14_col18,#T_ac4fc384_5ae7_11eb_b4f9_0242ac1c0002row14_col19,#T_ac4fc384_5ae7_11eb_b4f9_0242ac1c0002row14_col23,#T_ac4fc384_5ae7_11eb_b4f9_0242ac1c0002row14_col24,#T_ac4fc384_5ae7_11eb_b4f9_0242ac1c0002row14_col25,#T_ac4fc384_5ae7_11eb_b4f9_0242ac1c0002row14_col26,#T_ac4fc384_5ae7_11eb_b4f9_0242ac1c0002row14_col27,#T_ac4fc384_5ae7_11eb_b4f9_0242ac1c0002row15_col0,#T_ac4fc384_5ae7_11eb_b4f9_0242ac1c0002row15_col1,#T_ac4fc384_5ae7_11eb_b4f9_0242ac1c0002row15_col2,#T_ac4fc384_5ae7_11eb_b4f9_0242ac1c0002row15_col3,#T_ac4fc384_5ae7_11eb_b4f9_0242ac1c0002row15_col4,#T_ac4fc384_5ae7_11eb_b4f9_0242ac1c0002row15_col5,#T_ac4fc384_5ae7_11eb_b4f9_0242ac1c0002row15_col6,#T_ac4fc384_5ae7_11eb_b4f9_0242ac1c0002row15_col12,#T_ac4fc384_5ae7_11eb_b4f9_0242ac1c0002row15_col13,#T_ac4fc384_5ae7_11eb_b4f9_0242ac1c0002row15_col14,#T_ac4fc384_5ae7_11eb_b4f9_0242ac1c0002row15_col15,#T_ac4fc384_5ae7_11eb_b4f9_0242ac1c0002row15_col16,#T_ac4fc384_5ae7_11eb_b4f9_0242ac1c0002row15_col17,#T_ac4fc384_5ae7_11eb_b4f9_0242ac1c0002row15_col18,#T_ac4fc384_5ae7_11eb_b4f9_0242ac1c0002row15_col19,#T_ac4fc384_5ae7_11eb_b4f9_0242ac1c0002row15_col23,#T_ac4fc384_5ae7_11eb_b4f9_0242ac1c0002row15_col24,#T_ac4fc384_5ae7_11eb_b4f9_0242ac1c0002row15_col25,#T_ac4fc384_5ae7_11eb_b4f9_0242ac1c0002row15_col26,#T_ac4fc384_5ae7_11eb_b4f9_0242ac1c0002row15_col27,#T_ac4fc384_5ae7_11eb_b4f9_0242ac1c0002row16_col0,#T_ac4fc384_5ae7_11eb_b4f9_0242ac1c0002row16_col1,#T_ac4fc384_5ae7_11eb_b4f9_0242ac1c0002row16_col2,#T_ac4fc384_5ae7_11eb_b4f9_0242ac1c0002row16_col3,#T_ac4fc384_5ae7_11eb_b4f9_0242ac1c0002row16_col4,#T_ac4fc384_5ae7_11eb_b4f9_0242ac1c0002row16_col5,#T_ac4fc384_5ae7_11eb_b4f9_0242ac1c0002row16_col11,#T_ac4fc384_5ae7_11eb_b4f9_0242ac1c0002row16_col12,#T_ac4fc384_5ae7_11eb_b4f9_0242ac1c0002row16_col13,#T_ac4fc384_5ae7_11eb_b4f9_0242ac1c0002row16_col14,#T_ac4fc384_5ae7_11eb_b4f9_0242ac1c0002row16_col15,#T_ac4fc384_5ae7_11eb_b4f9_0242ac1c0002row16_col16,#T_ac4fc384_5ae7_11eb_b4f9_0242ac1c0002row16_col17,#T_ac4fc384_5ae7_11eb_b4f9_0242ac1c0002row16_col18,#T_ac4fc384_5ae7_11eb_b4f9_0242ac1c0002row16_col19,#T_ac4fc384_5ae7_11eb_b4f9_0242ac1c0002row16_col23,#T_ac4fc384_5ae7_11eb_b4f9_0242ac1c0002row16_col24,#T_ac4fc384_5ae7_11eb_b4f9_0242ac1c0002row16_col25,#T_ac4fc384_5ae7_11eb_b4f9_0242ac1c0002row16_col26,#T_ac4fc384_5ae7_11eb_b4f9_0242ac1c0002row16_col27,#T_ac4fc384_5ae7_11eb_b4f9_0242ac1c0002row17_col0,#T_ac4fc384_5ae7_11eb_b4f9_0242ac1c0002row17_col1,#T_ac4fc384_5ae7_11eb_b4f9_0242ac1c0002row17_col2,#T_ac4fc384_5ae7_11eb_b4f9_0242ac1c0002row17_col3,#T_ac4fc384_5ae7_11eb_b4f9_0242ac1c0002row17_col4,#T_ac4fc384_5ae7_11eb_b4f9_0242ac1c0002row17_col5,#T_ac4fc384_5ae7_11eb_b4f9_0242ac1c0002row17_col10,#T_ac4fc384_5ae7_11eb_b4f9_0242ac1c0002row17_col11,#T_ac4fc384_5ae7_11eb_b4f9_0242ac1c0002row17_col12,#T_ac4fc384_5ae7_11eb_b4f9_0242ac1c0002row17_col13,#T_ac4fc384_5ae7_11eb_b4f9_0242ac1c0002row17_col14,#T_ac4fc384_5ae7_11eb_b4f9_0242ac1c0002row17_col15,#T_ac4fc384_5ae7_11eb_b4f9_0242ac1c0002row17_col16,#T_ac4fc384_5ae7_11eb_b4f9_0242ac1c0002row17_col17,#T_ac4fc384_5ae7_11eb_b4f9_0242ac1c0002row17_col18,#T_ac4fc384_5ae7_11eb_b4f9_0242ac1c0002row17_col23,#T_ac4fc384_5ae7_11eb_b4f9_0242ac1c0002row17_col24,#T_ac4fc384_5ae7_11eb_b4f9_0242ac1c0002row17_col25,#T_ac4fc384_5ae7_11eb_b4f9_0242ac1c0002row17_col26,#T_ac4fc384_5ae7_11eb_b4f9_0242ac1c0002row17_col27,#T_ac4fc384_5ae7_11eb_b4f9_0242ac1c0002row18_col0,#T_ac4fc384_5ae7_11eb_b4f9_0242ac1c0002row18_col1,#T_ac4fc384_5ae7_11eb_b4f9_0242ac1c0002row18_col2,#T_ac4fc384_5ae7_11eb_b4f9_0242ac1c0002row18_col3,#T_ac4fc384_5ae7_11eb_b4f9_0242ac1c0002row18_col4,#T_ac4fc384_5ae7_11eb_b4f9_0242ac1c0002row18_col5,#T_ac4fc384_5ae7_11eb_b4f9_0242ac1c0002row18_col10,#T_ac4fc384_5ae7_11eb_b4f9_0242ac1c0002row18_col11,#T_ac4fc384_5ae7_11eb_b4f9_0242ac1c0002row18_col12,#T_ac4fc384_5ae7_11eb_b4f9_0242ac1c0002row18_col13,#T_ac4fc384_5ae7_11eb_b4f9_0242ac1c0002row18_col14,#T_ac4fc384_5ae7_11eb_b4f9_0242ac1c0002row18_col15,#T_ac4fc384_5ae7_11eb_b4f9_0242ac1c0002row18_col16,#T_ac4fc384_5ae7_11eb_b4f9_0242ac1c0002row18_col23,#T_ac4fc384_5ae7_11eb_b4f9_0242ac1c0002row18_col24,#T_ac4fc384_5ae7_11eb_b4f9_0242ac1c0002row18_col25,#T_ac4fc384_5ae7_11eb_b4f9_0242ac1c0002row18_col26,#T_ac4fc384_5ae7_11eb_b4f9_0242ac1c0002row18_col27,#T_ac4fc384_5ae7_11eb_b4f9_0242ac1c0002row19_col0,#T_ac4fc384_5ae7_11eb_b4f9_0242ac1c0002row19_col1,#T_ac4fc384_5ae7_11eb_b4f9_0242ac1c0002row19_col2,#T_ac4fc384_5ae7_11eb_b4f9_0242ac1c0002row19_col3,#T_ac4fc384_5ae7_11eb_b4f9_0242ac1c0002row19_col4,#T_ac4fc384_5ae7_11eb_b4f9_0242ac1c0002row19_col5,#T_ac4fc384_5ae7_11eb_b4f9_0242ac1c0002row19_col23,#T_ac4fc384_5ae7_11eb_b4f9_0242ac1c0002row19_col24,#T_ac4fc384_5ae7_11eb_b4f9_0242ac1c0002row19_col25,#T_ac4fc384_5ae7_11eb_b4f9_0242ac1c0002row19_col26,#T_ac4fc384_5ae7_11eb_b4f9_0242ac1c0002row19_col27,#T_ac4fc384_5ae7_11eb_b4f9_0242ac1c0002row20_col0,#T_ac4fc384_5ae7_11eb_b4f9_0242ac1c0002row20_col1,#T_ac4fc384_5ae7_11eb_b4f9_0242ac1c0002row20_col2,#T_ac4fc384_5ae7_11eb_b4f9_0242ac1c0002row20_col3,#T_ac4fc384_5ae7_11eb_b4f9_0242ac1c0002row20_col4,#T_ac4fc384_5ae7_11eb_b4f9_0242ac1c0002row20_col5,#T_ac4fc384_5ae7_11eb_b4f9_0242ac1c0002row20_col6,#T_ac4fc384_5ae7_11eb_b4f9_0242ac1c0002row20_col22,#T_ac4fc384_5ae7_11eb_b4f9_0242ac1c0002row20_col23,#T_ac4fc384_5ae7_11eb_b4f9_0242ac1c0002row20_col24,#T_ac4fc384_5ae7_11eb_b4f9_0242ac1c0002row20_col25,#T_ac4fc384_5ae7_11eb_b4f9_0242ac1c0002row20_col26,#T_ac4fc384_5ae7_11eb_b4f9_0242ac1c0002row20_col27,#T_ac4fc384_5ae7_11eb_b4f9_0242ac1c0002row21_col0,#T_ac4fc384_5ae7_11eb_b4f9_0242ac1c0002row21_col1,#T_ac4fc384_5ae7_11eb_b4f9_0242ac1c0002row21_col2,#T_ac4fc384_5ae7_11eb_b4f9_0242ac1c0002row21_col3,#T_ac4fc384_5ae7_11eb_b4f9_0242ac1c0002row21_col4,#T_ac4fc384_5ae7_11eb_b4f9_0242ac1c0002row21_col5,#T_ac4fc384_5ae7_11eb_b4f9_0242ac1c0002row21_col6,#T_ac4fc384_5ae7_11eb_b4f9_0242ac1c0002row21_col7,#T_ac4fc384_5ae7_11eb_b4f9_0242ac1c0002row21_col21,#T_ac4fc384_5ae7_11eb_b4f9_0242ac1c0002row21_col22,#T_ac4fc384_5ae7_11eb_b4f9_0242ac1c0002row21_col23,#T_ac4fc384_5ae7_11eb_b4f9_0242ac1c0002row21_col24,#T_ac4fc384_5ae7_11eb_b4f9_0242ac1c0002row21_col25,#T_ac4fc384_5ae7_11eb_b4f9_0242ac1c0002row21_col26,#T_ac4fc384_5ae7_11eb_b4f9_0242ac1c0002row21_col27,#T_ac4fc384_5ae7_11eb_b4f9_0242ac1c0002row22_col0,#T_ac4fc384_5ae7_11eb_b4f9_0242ac1c0002row22_col1,#T_ac4fc384_5ae7_11eb_b4f9_0242ac1c0002row22_col2,#T_ac4fc384_5ae7_11eb_b4f9_0242ac1c0002row22_col3,#T_ac4fc384_5ae7_11eb_b4f9_0242ac1c0002row22_col4,#T_ac4fc384_5ae7_11eb_b4f9_0242ac1c0002row22_col5,#T_ac4fc384_5ae7_11eb_b4f9_0242ac1c0002row22_col6,#T_ac4fc384_5ae7_11eb_b4f9_0242ac1c0002row22_col7,#T_ac4fc384_5ae7_11eb_b4f9_0242ac1c0002row22_col21,#T_ac4fc384_5ae7_11eb_b4f9_0242ac1c0002row22_col22,#T_ac4fc384_5ae7_11eb_b4f9_0242ac1c0002row22_col23,#T_ac4fc384_5ae7_11eb_b4f9_0242ac1c0002row22_col24,#T_ac4fc384_5ae7_11eb_b4f9_0242ac1c0002row22_col25,#T_ac4fc384_5ae7_11eb_b4f9_0242ac1c0002row22_col26,#T_ac4fc384_5ae7_11eb_b4f9_0242ac1c0002row22_col27,#T_ac4fc384_5ae7_11eb_b4f9_0242ac1c0002row23_col0,#T_ac4fc384_5ae7_11eb_b4f9_0242ac1c0002row23_col1,#T_ac4fc384_5ae7_11eb_b4f9_0242ac1c0002row23_col2,#T_ac4fc384_5ae7_11eb_b4f9_0242ac1c0002row23_col3,#T_ac4fc384_5ae7_11eb_b4f9_0242ac1c0002row23_col4,#T_ac4fc384_5ae7_11eb_b4f9_0242ac1c0002row23_col5,#T_ac4fc384_5ae7_11eb_b4f9_0242ac1c0002row23_col6,#T_ac4fc384_5ae7_11eb_b4f9_0242ac1c0002row23_col7,#T_ac4fc384_5ae7_11eb_b4f9_0242ac1c0002row23_col8,#T_ac4fc384_5ae7_11eb_b4f9_0242ac1c0002row23_col9,#T_ac4fc384_5ae7_11eb_b4f9_0242ac1c0002row23_col10,#T_ac4fc384_5ae7_11eb_b4f9_0242ac1c0002row23_col18,#T_ac4fc384_5ae7_11eb_b4f9_0242ac1c0002row23_col19,#T_ac4fc384_5ae7_11eb_b4f9_0242ac1c0002row23_col20,#T_ac4fc384_5ae7_11eb_b4f9_0242ac1c0002row23_col21,#T_ac4fc384_5ae7_11eb_b4f9_0242ac1c0002row23_col22,#T_ac4fc384_5ae7_11eb_b4f9_0242ac1c0002row23_col23,#T_ac4fc384_5ae7_11eb_b4f9_0242ac1c0002row23_col24,#T_ac4fc384_5ae7_11eb_b4f9_0242ac1c0002row23_col25,#T_ac4fc384_5ae7_11eb_b4f9_0242ac1c0002row23_col26,#T_ac4fc384_5ae7_11eb_b4f9_0242ac1c0002row23_col27,#T_ac4fc384_5ae7_11eb_b4f9_0242ac1c0002row24_col0,#T_ac4fc384_5ae7_11eb_b4f9_0242ac1c0002row24_col1,#T_ac4fc384_5ae7_11eb_b4f9_0242ac1c0002row24_col2,#T_ac4fc384_5ae7_11eb_b4f9_0242ac1c0002row24_col3,#T_ac4fc384_5ae7_11eb_b4f9_0242ac1c0002row24_col4,#T_ac4fc384_5ae7_11eb_b4f9_0242ac1c0002row24_col5,#T_ac4fc384_5ae7_11eb_b4f9_0242ac1c0002row24_col6,#T_ac4fc384_5ae7_11eb_b4f9_0242ac1c0002row24_col7,#T_ac4fc384_5ae7_11eb_b4f9_0242ac1c0002row24_col8,#T_ac4fc384_5ae7_11eb_b4f9_0242ac1c0002row24_col9,#T_ac4fc384_5ae7_11eb_b4f9_0242ac1c0002row24_col10,#T_ac4fc384_5ae7_11eb_b4f9_0242ac1c0002row24_col11,#T_ac4fc384_5ae7_11eb_b4f9_0242ac1c0002row24_col12,#T_ac4fc384_5ae7_11eb_b4f9_0242ac1c0002row24_col13,#T_ac4fc384_5ae7_11eb_b4f9_0242ac1c0002row24_col14,#T_ac4fc384_5ae7_11eb_b4f9_0242ac1c0002row24_col15,#T_ac4fc384_5ae7_11eb_b4f9_0242ac1c0002row24_col16,#T_ac4fc384_5ae7_11eb_b4f9_0242ac1c0002row24_col17,#T_ac4fc384_5ae7_11eb_b4f9_0242ac1c0002row24_col18,#T_ac4fc384_5ae7_11eb_b4f9_0242ac1c0002row24_col19,#T_ac4fc384_5ae7_11eb_b4f9_0242ac1c0002row24_col20,#T_ac4fc384_5ae7_11eb_b4f9_0242ac1c0002row24_col21,#T_ac4fc384_5ae7_11eb_b4f9_0242ac1c0002row24_col22,#T_ac4fc384_5ae7_11eb_b4f9_0242ac1c0002row24_col23,#T_ac4fc384_5ae7_11eb_b4f9_0242ac1c0002row24_col24,#T_ac4fc384_5ae7_11eb_b4f9_0242ac1c0002row24_col25,#T_ac4fc384_5ae7_11eb_b4f9_0242ac1c0002row24_col26,#T_ac4fc384_5ae7_11eb_b4f9_0242ac1c0002row24_col27,#T_ac4fc384_5ae7_11eb_b4f9_0242ac1c0002row25_col0,#T_ac4fc384_5ae7_11eb_b4f9_0242ac1c0002row25_col1,#T_ac4fc384_5ae7_11eb_b4f9_0242ac1c0002row25_col2,#T_ac4fc384_5ae7_11eb_b4f9_0242ac1c0002row25_col3,#T_ac4fc384_5ae7_11eb_b4f9_0242ac1c0002row25_col4,#T_ac4fc384_5ae7_11eb_b4f9_0242ac1c0002row25_col5,#T_ac4fc384_5ae7_11eb_b4f9_0242ac1c0002row25_col6,#T_ac4fc384_5ae7_11eb_b4f9_0242ac1c0002row25_col7,#T_ac4fc384_5ae7_11eb_b4f9_0242ac1c0002row25_col8,#T_ac4fc384_5ae7_11eb_b4f9_0242ac1c0002row25_col9,#T_ac4fc384_5ae7_11eb_b4f9_0242ac1c0002row25_col10,#T_ac4fc384_5ae7_11eb_b4f9_0242ac1c0002row25_col11,#T_ac4fc384_5ae7_11eb_b4f9_0242ac1c0002row25_col12,#T_ac4fc384_5ae7_11eb_b4f9_0242ac1c0002row25_col13,#T_ac4fc384_5ae7_11eb_b4f9_0242ac1c0002row25_col14,#T_ac4fc384_5ae7_11eb_b4f9_0242ac1c0002row25_col15,#T_ac4fc384_5ae7_11eb_b4f9_0242ac1c0002row25_col16,#T_ac4fc384_5ae7_11eb_b4f9_0242ac1c0002row25_col17,#T_ac4fc384_5ae7_11eb_b4f9_0242ac1c0002row25_col18,#T_ac4fc384_5ae7_11eb_b4f9_0242ac1c0002row25_col19,#T_ac4fc384_5ae7_11eb_b4f9_0242ac1c0002row25_col20,#T_ac4fc384_5ae7_11eb_b4f9_0242ac1c0002row25_col21,#T_ac4fc384_5ae7_11eb_b4f9_0242ac1c0002row25_col22,#T_ac4fc384_5ae7_11eb_b4f9_0242ac1c0002row25_col23,#T_ac4fc384_5ae7_11eb_b4f9_0242ac1c0002row25_col24,#T_ac4fc384_5ae7_11eb_b4f9_0242ac1c0002row25_col25,#T_ac4fc384_5ae7_11eb_b4f9_0242ac1c0002row25_col26,#T_ac4fc384_5ae7_11eb_b4f9_0242ac1c0002row25_col27,#T_ac4fc384_5ae7_11eb_b4f9_0242ac1c0002row26_col0,#T_ac4fc384_5ae7_11eb_b4f9_0242ac1c0002row26_col1,#T_ac4fc384_5ae7_11eb_b4f9_0242ac1c0002row26_col2,#T_ac4fc384_5ae7_11eb_b4f9_0242ac1c0002row26_col3,#T_ac4fc384_5ae7_11eb_b4f9_0242ac1c0002row26_col4,#T_ac4fc384_5ae7_11eb_b4f9_0242ac1c0002row26_col5,#T_ac4fc384_5ae7_11eb_b4f9_0242ac1c0002row26_col6,#T_ac4fc384_5ae7_11eb_b4f9_0242ac1c0002row26_col7,#T_ac4fc384_5ae7_11eb_b4f9_0242ac1c0002row26_col8,#T_ac4fc384_5ae7_11eb_b4f9_0242ac1c0002row26_col9,#T_ac4fc384_5ae7_11eb_b4f9_0242ac1c0002row26_col10,#T_ac4fc384_5ae7_11eb_b4f9_0242ac1c0002row26_col11,#T_ac4fc384_5ae7_11eb_b4f9_0242ac1c0002row26_col12,#T_ac4fc384_5ae7_11eb_b4f9_0242ac1c0002row26_col13,#T_ac4fc384_5ae7_11eb_b4f9_0242ac1c0002row26_col14,#T_ac4fc384_5ae7_11eb_b4f9_0242ac1c0002row26_col15,#T_ac4fc384_5ae7_11eb_b4f9_0242ac1c0002row26_col16,#T_ac4fc384_5ae7_11eb_b4f9_0242ac1c0002row26_col17,#T_ac4fc384_5ae7_11eb_b4f9_0242ac1c0002row26_col18,#T_ac4fc384_5ae7_11eb_b4f9_0242ac1c0002row26_col19,#T_ac4fc384_5ae7_11eb_b4f9_0242ac1c0002row26_col20,#T_ac4fc384_5ae7_11eb_b4f9_0242ac1c0002row26_col21,#T_ac4fc384_5ae7_11eb_b4f9_0242ac1c0002row26_col22,#T_ac4fc384_5ae7_11eb_b4f9_0242ac1c0002row26_col23,#T_ac4fc384_5ae7_11eb_b4f9_0242ac1c0002row26_col24,#T_ac4fc384_5ae7_11eb_b4f9_0242ac1c0002row26_col25,#T_ac4fc384_5ae7_11eb_b4f9_0242ac1c0002row26_col26,#T_ac4fc384_5ae7_11eb_b4f9_0242ac1c0002row26_col27,#T_ac4fc384_5ae7_11eb_b4f9_0242ac1c0002row27_col0,#T_ac4fc384_5ae7_11eb_b4f9_0242ac1c0002row27_col1,#T_ac4fc384_5ae7_11eb_b4f9_0242ac1c0002row27_col2,#T_ac4fc384_5ae7_11eb_b4f9_0242ac1c0002row27_col3,#T_ac4fc384_5ae7_11eb_b4f9_0242ac1c0002row27_col4,#T_ac4fc384_5ae7_11eb_b4f9_0242ac1c0002row27_col5,#T_ac4fc384_5ae7_11eb_b4f9_0242ac1c0002row27_col6,#T_ac4fc384_5ae7_11eb_b4f9_0242ac1c0002row27_col7,#T_ac4fc384_5ae7_11eb_b4f9_0242ac1c0002row27_col8,#T_ac4fc384_5ae7_11eb_b4f9_0242ac1c0002row27_col9,#T_ac4fc384_5ae7_11eb_b4f9_0242ac1c0002row27_col10,#T_ac4fc384_5ae7_11eb_b4f9_0242ac1c0002row27_col11,#T_ac4fc384_5ae7_11eb_b4f9_0242ac1c0002row27_col12,#T_ac4fc384_5ae7_11eb_b4f9_0242ac1c0002row27_col13,#T_ac4fc384_5ae7_11eb_b4f9_0242ac1c0002row27_col14,#T_ac4fc384_5ae7_11eb_b4f9_0242ac1c0002row27_col15,#T_ac4fc384_5ae7_11eb_b4f9_0242ac1c0002row27_col16,#T_ac4fc384_5ae7_11eb_b4f9_0242ac1c0002row27_col17,#T_ac4fc384_5ae7_11eb_b4f9_0242ac1c0002row27_col18,#T_ac4fc384_5ae7_11eb_b4f9_0242ac1c0002row27_col19,#T_ac4fc384_5ae7_11eb_b4f9_0242ac1c0002row27_col20,#T_ac4fc384_5ae7_11eb_b4f9_0242ac1c0002row27_col21,#T_ac4fc384_5ae7_11eb_b4f9_0242ac1c0002row27_col22,#T_ac4fc384_5ae7_11eb_b4f9_0242ac1c0002row27_col23,#T_ac4fc384_5ae7_11eb_b4f9_0242ac1c0002row27_col24,#T_ac4fc384_5ae7_11eb_b4f9_0242ac1c0002row27_col25,#T_ac4fc384_5ae7_11eb_b4f9_0242ac1c0002row27_col26,#T_ac4fc384_5ae7_11eb_b4f9_0242ac1c0002row27_col27{\n",
              "            font-size:  6pt;\n",
              "            background-color:  #ffffff;\n",
              "            color:  #000000;\n",
              "        }#T_ac4fc384_5ae7_11eb_b4f9_0242ac1c0002row4_col12{\n",
              "            font-size:  6pt;\n",
              "            background-color:  #f9f9f9;\n",
              "            color:  #000000;\n",
              "        }#T_ac4fc384_5ae7_11eb_b4f9_0242ac1c0002row4_col13,#T_ac4fc384_5ae7_11eb_b4f9_0242ac1c0002row4_col14,#T_ac4fc384_5ae7_11eb_b4f9_0242ac1c0002row22_col8{\n",
              "            font-size:  6pt;\n",
              "            background-color:  #b5b5b5;\n",
              "            color:  #000000;\n",
              "        }#T_ac4fc384_5ae7_11eb_b4f9_0242ac1c0002row4_col15{\n",
              "            font-size:  6pt;\n",
              "            background-color:  #383838;\n",
              "            color:  #f1f1f1;\n",
              "        }#T_ac4fc384_5ae7_11eb_b4f9_0242ac1c0002row4_col16,#T_ac4fc384_5ae7_11eb_b4f9_0242ac1c0002row5_col13,#T_ac4fc384_5ae7_11eb_b4f9_0242ac1c0002row5_col14,#T_ac4fc384_5ae7_11eb_b4f9_0242ac1c0002row5_col15,#T_ac4fc384_5ae7_11eb_b4f9_0242ac1c0002row5_col17,#T_ac4fc384_5ae7_11eb_b4f9_0242ac1c0002row6_col12,#T_ac4fc384_5ae7_11eb_b4f9_0242ac1c0002row6_col13,#T_ac4fc384_5ae7_11eb_b4f9_0242ac1c0002row6_col14,#T_ac4fc384_5ae7_11eb_b4f9_0242ac1c0002row6_col15,#T_ac4fc384_5ae7_11eb_b4f9_0242ac1c0002row6_col17,#T_ac4fc384_5ae7_11eb_b4f9_0242ac1c0002row6_col18,#T_ac4fc384_5ae7_11eb_b4f9_0242ac1c0002row6_col19,#T_ac4fc384_5ae7_11eb_b4f9_0242ac1c0002row7_col12,#T_ac4fc384_5ae7_11eb_b4f9_0242ac1c0002row7_col13,#T_ac4fc384_5ae7_11eb_b4f9_0242ac1c0002row7_col18,#T_ac4fc384_5ae7_11eb_b4f9_0242ac1c0002row7_col19,#T_ac4fc384_5ae7_11eb_b4f9_0242ac1c0002row8_col10,#T_ac4fc384_5ae7_11eb_b4f9_0242ac1c0002row8_col11,#T_ac4fc384_5ae7_11eb_b4f9_0242ac1c0002row8_col12,#T_ac4fc384_5ae7_11eb_b4f9_0242ac1c0002row9_col10,#T_ac4fc384_5ae7_11eb_b4f9_0242ac1c0002row9_col11,#T_ac4fc384_5ae7_11eb_b4f9_0242ac1c0002row9_col12,#T_ac4fc384_5ae7_11eb_b4f9_0242ac1c0002row10_col10,#T_ac4fc384_5ae7_11eb_b4f9_0242ac1c0002row10_col11,#T_ac4fc384_5ae7_11eb_b4f9_0242ac1c0002row11_col9,#T_ac4fc384_5ae7_11eb_b4f9_0242ac1c0002row11_col10,#T_ac4fc384_5ae7_11eb_b4f9_0242ac1c0002row11_col11,#T_ac4fc384_5ae7_11eb_b4f9_0242ac1c0002row12_col9,#T_ac4fc384_5ae7_11eb_b4f9_0242ac1c0002row12_col10,#T_ac4fc384_5ae7_11eb_b4f9_0242ac1c0002row12_col11,#T_ac4fc384_5ae7_11eb_b4f9_0242ac1c0002row12_col21,#T_ac4fc384_5ae7_11eb_b4f9_0242ac1c0002row12_col22,#T_ac4fc384_5ae7_11eb_b4f9_0242ac1c0002row13_col9,#T_ac4fc384_5ae7_11eb_b4f9_0242ac1c0002row13_col10,#T_ac4fc384_5ae7_11eb_b4f9_0242ac1c0002row13_col21,#T_ac4fc384_5ae7_11eb_b4f9_0242ac1c0002row13_col22,#T_ac4fc384_5ae7_11eb_b4f9_0242ac1c0002row14_col8,#T_ac4fc384_5ae7_11eb_b4f9_0242ac1c0002row14_col9,#T_ac4fc384_5ae7_11eb_b4f9_0242ac1c0002row14_col10,#T_ac4fc384_5ae7_11eb_b4f9_0242ac1c0002row14_col21,#T_ac4fc384_5ae7_11eb_b4f9_0242ac1c0002row14_col22,#T_ac4fc384_5ae7_11eb_b4f9_0242ac1c0002row15_col8,#T_ac4fc384_5ae7_11eb_b4f9_0242ac1c0002row15_col9,#T_ac4fc384_5ae7_11eb_b4f9_0242ac1c0002row15_col21,#T_ac4fc384_5ae7_11eb_b4f9_0242ac1c0002row15_col22,#T_ac4fc384_5ae7_11eb_b4f9_0242ac1c0002row16_col8,#T_ac4fc384_5ae7_11eb_b4f9_0242ac1c0002row16_col21,#T_ac4fc384_5ae7_11eb_b4f9_0242ac1c0002row16_col22,#T_ac4fc384_5ae7_11eb_b4f9_0242ac1c0002row17_col6,#T_ac4fc384_5ae7_11eb_b4f9_0242ac1c0002row17_col7,#T_ac4fc384_5ae7_11eb_b4f9_0242ac1c0002row17_col8,#T_ac4fc384_5ae7_11eb_b4f9_0242ac1c0002row17_col21,#T_ac4fc384_5ae7_11eb_b4f9_0242ac1c0002row17_col22,#T_ac4fc384_5ae7_11eb_b4f9_0242ac1c0002row18_col6,#T_ac4fc384_5ae7_11eb_b4f9_0242ac1c0002row18_col7,#T_ac4fc384_5ae7_11eb_b4f9_0242ac1c0002row18_col8,#T_ac4fc384_5ae7_11eb_b4f9_0242ac1c0002row18_col19,#T_ac4fc384_5ae7_11eb_b4f9_0242ac1c0002row18_col20,#T_ac4fc384_5ae7_11eb_b4f9_0242ac1c0002row18_col21,#T_ac4fc384_5ae7_11eb_b4f9_0242ac1c0002row18_col22,#T_ac4fc384_5ae7_11eb_b4f9_0242ac1c0002row19_col8,#T_ac4fc384_5ae7_11eb_b4f9_0242ac1c0002row19_col18,#T_ac4fc384_5ae7_11eb_b4f9_0242ac1c0002row19_col19,#T_ac4fc384_5ae7_11eb_b4f9_0242ac1c0002row19_col20,#T_ac4fc384_5ae7_11eb_b4f9_0242ac1c0002row20_col8,#T_ac4fc384_5ae7_11eb_b4f9_0242ac1c0002row20_col9,#T_ac4fc384_5ae7_11eb_b4f9_0242ac1c0002row20_col10,#T_ac4fc384_5ae7_11eb_b4f9_0242ac1c0002row20_col11,#T_ac4fc384_5ae7_11eb_b4f9_0242ac1c0002row20_col12,#T_ac4fc384_5ae7_11eb_b4f9_0242ac1c0002row20_col13,#T_ac4fc384_5ae7_11eb_b4f9_0242ac1c0002row20_col14,#T_ac4fc384_5ae7_11eb_b4f9_0242ac1c0002row20_col15,#T_ac4fc384_5ae7_11eb_b4f9_0242ac1c0002row20_col17,#T_ac4fc384_5ae7_11eb_b4f9_0242ac1c0002row20_col18,#T_ac4fc384_5ae7_11eb_b4f9_0242ac1c0002row20_col19,#T_ac4fc384_5ae7_11eb_b4f9_0242ac1c0002row21_col9,#T_ac4fc384_5ae7_11eb_b4f9_0242ac1c0002row21_col10,#T_ac4fc384_5ae7_11eb_b4f9_0242ac1c0002row21_col11,#T_ac4fc384_5ae7_11eb_b4f9_0242ac1c0002row21_col12,#T_ac4fc384_5ae7_11eb_b4f9_0242ac1c0002row21_col13,#T_ac4fc384_5ae7_11eb_b4f9_0242ac1c0002row21_col14,#T_ac4fc384_5ae7_11eb_b4f9_0242ac1c0002row21_col15,#T_ac4fc384_5ae7_11eb_b4f9_0242ac1c0002row21_col17,#T_ac4fc384_5ae7_11eb_b4f9_0242ac1c0002row21_col18,#T_ac4fc384_5ae7_11eb_b4f9_0242ac1c0002row21_col19,#T_ac4fc384_5ae7_11eb_b4f9_0242ac1c0002row22_col12,#T_ac4fc384_5ae7_11eb_b4f9_0242ac1c0002row22_col13,#T_ac4fc384_5ae7_11eb_b4f9_0242ac1c0002row22_col14,#T_ac4fc384_5ae7_11eb_b4f9_0242ac1c0002row22_col15,#T_ac4fc384_5ae7_11eb_b4f9_0242ac1c0002row23_col13,#T_ac4fc384_5ae7_11eb_b4f9_0242ac1c0002row23_col14{\n",
              "            font-size:  6pt;\n",
              "            background-color:  #000000;\n",
              "            color:  #f1f1f1;\n",
              "        }#T_ac4fc384_5ae7_11eb_b4f9_0242ac1c0002row4_col17{\n",
              "            font-size:  6pt;\n",
              "            background-color:  #9f9f9f;\n",
              "            color:  #000000;\n",
              "        }#T_ac4fc384_5ae7_11eb_b4f9_0242ac1c0002row4_col18{\n",
              "            font-size:  6pt;\n",
              "            background-color:  #bdbdbd;\n",
              "            color:  #000000;\n",
              "        }#T_ac4fc384_5ae7_11eb_b4f9_0242ac1c0002row5_col11,#T_ac4fc384_5ae7_11eb_b4f9_0242ac1c0002row12_col12{\n",
              "            font-size:  6pt;\n",
              "            background-color:  #d5d5d5;\n",
              "            color:  #000000;\n",
              "        }#T_ac4fc384_5ae7_11eb_b4f9_0242ac1c0002row5_col12{\n",
              "            font-size:  6pt;\n",
              "            background-color:  #393939;\n",
              "            color:  #f1f1f1;\n",
              "        }#T_ac4fc384_5ae7_11eb_b4f9_0242ac1c0002row5_col16,#T_ac4fc384_5ae7_11eb_b4f9_0242ac1c0002row6_col16,#T_ac4fc384_5ae7_11eb_b4f9_0242ac1c0002row11_col21,#T_ac4fc384_5ae7_11eb_b4f9_0242ac1c0002row19_col21,#T_ac4fc384_5ae7_11eb_b4f9_0242ac1c0002row20_col16,#T_ac4fc384_5ae7_11eb_b4f9_0242ac1c0002row20_col20,#T_ac4fc384_5ae7_11eb_b4f9_0242ac1c0002row21_col16,#T_ac4fc384_5ae7_11eb_b4f9_0242ac1c0002row22_col16{\n",
              "            font-size:  6pt;\n",
              "            background-color:  #020202;\n",
              "            color:  #f1f1f1;\n",
              "        }#T_ac4fc384_5ae7_11eb_b4f9_0242ac1c0002row5_col18{\n",
              "            font-size:  6pt;\n",
              "            background-color:  #030303;\n",
              "            color:  #f1f1f1;\n",
              "        }#T_ac4fc384_5ae7_11eb_b4f9_0242ac1c0002row5_col19{\n",
              "            font-size:  6pt;\n",
              "            background-color:  #929292;\n",
              "            color:  #000000;\n",
              "        }#T_ac4fc384_5ae7_11eb_b4f9_0242ac1c0002row5_col20,#T_ac4fc384_5ae7_11eb_b4f9_0242ac1c0002row8_col14,#T_ac4fc384_5ae7_11eb_b4f9_0242ac1c0002row13_col12,#T_ac4fc384_5ae7_11eb_b4f9_0242ac1c0002row22_col20{\n",
              "            font-size:  6pt;\n",
              "            background-color:  #fcfcfc;\n",
              "            color:  #000000;\n",
              "        }#T_ac4fc384_5ae7_11eb_b4f9_0242ac1c0002row6_col11{\n",
              "            font-size:  6pt;\n",
              "            background-color:  #626262;\n",
              "            color:  #f1f1f1;\n",
              "        }#T_ac4fc384_5ae7_11eb_b4f9_0242ac1c0002row6_col20{\n",
              "            font-size:  6pt;\n",
              "            background-color:  #ececec;\n",
              "            color:  #000000;\n",
              "        }#T_ac4fc384_5ae7_11eb_b4f9_0242ac1c0002row7_col9,#T_ac4fc384_5ae7_11eb_b4f9_0242ac1c0002row8_col21,#T_ac4fc384_5ae7_11eb_b4f9_0242ac1c0002row16_col10{\n",
              "            font-size:  6pt;\n",
              "            background-color:  #f8f8f8;\n",
              "            color:  #000000;\n",
              "        }#T_ac4fc384_5ae7_11eb_b4f9_0242ac1c0002row7_col10{\n",
              "            font-size:  6pt;\n",
              "            background-color:  #bebebe;\n",
              "            color:  #000000;\n",
              "        }#T_ac4fc384_5ae7_11eb_b4f9_0242ac1c0002row7_col11{\n",
              "            font-size:  6pt;\n",
              "            background-color:  #0a0a0a;\n",
              "            color:  #f1f1f1;\n",
              "        }#T_ac4fc384_5ae7_11eb_b4f9_0242ac1c0002row7_col14{\n",
              "            font-size:  6pt;\n",
              "            background-color:  #9c9c9c;\n",
              "            color:  #000000;\n",
              "        }#T_ac4fc384_5ae7_11eb_b4f9_0242ac1c0002row7_col15{\n",
              "            font-size:  6pt;\n",
              "            background-color:  #a4a4a4;\n",
              "            color:  #000000;\n",
              "        }#T_ac4fc384_5ae7_11eb_b4f9_0242ac1c0002row7_col16{\n",
              "            font-size:  6pt;\n",
              "            background-color:  #727272;\n",
              "            color:  #000000;\n",
              "        }#T_ac4fc384_5ae7_11eb_b4f9_0242ac1c0002row7_col17,#T_ac4fc384_5ae7_11eb_b4f9_0242ac1c0002row11_col22{\n",
              "            font-size:  6pt;\n",
              "            background-color:  #555555;\n",
              "            color:  #f1f1f1;\n",
              "        }#T_ac4fc384_5ae7_11eb_b4f9_0242ac1c0002row7_col20{\n",
              "            font-size:  6pt;\n",
              "            background-color:  #545454;\n",
              "            color:  #f1f1f1;\n",
              "        }#T_ac4fc384_5ae7_11eb_b4f9_0242ac1c0002row8_col9{\n",
              "            font-size:  6pt;\n",
              "            background-color:  #ebebeb;\n",
              "            color:  #000000;\n",
              "        }#T_ac4fc384_5ae7_11eb_b4f9_0242ac1c0002row8_col13{\n",
              "            font-size:  6pt;\n",
              "            background-color:  #797979;\n",
              "            color:  #000000;\n",
              "        }#T_ac4fc384_5ae7_11eb_b4f9_0242ac1c0002row8_col17{\n",
              "            font-size:  6pt;\n",
              "            background-color:  #f7f7f7;\n",
              "            color:  #000000;\n",
              "        }#T_ac4fc384_5ae7_11eb_b4f9_0242ac1c0002row8_col18{\n",
              "            font-size:  6pt;\n",
              "            background-color:  #d4d4d4;\n",
              "            color:  #000000;\n",
              "        }#T_ac4fc384_5ae7_11eb_b4f9_0242ac1c0002row8_col19{\n",
              "            font-size:  6pt;\n",
              "            background-color:  #181818;\n",
              "            color:  #f1f1f1;\n",
              "        }#T_ac4fc384_5ae7_11eb_b4f9_0242ac1c0002row8_col20{\n",
              "            font-size:  6pt;\n",
              "            background-color:  #414141;\n",
              "            color:  #f1f1f1;\n",
              "        }#T_ac4fc384_5ae7_11eb_b4f9_0242ac1c0002row9_col9{\n",
              "            font-size:  6pt;\n",
              "            background-color:  #999999;\n",
              "            color:  #000000;\n",
              "        }#T_ac4fc384_5ae7_11eb_b4f9_0242ac1c0002row9_col13{\n",
              "            font-size:  6pt;\n",
              "            background-color:  #9a9a9a;\n",
              "            color:  #000000;\n",
              "        }#T_ac4fc384_5ae7_11eb_b4f9_0242ac1c0002row9_col19{\n",
              "            font-size:  6pt;\n",
              "            background-color:  #e1e1e1;\n",
              "            color:  #000000;\n",
              "        }#T_ac4fc384_5ae7_11eb_b4f9_0242ac1c0002row9_col20{\n",
              "            font-size:  6pt;\n",
              "            background-color:  #171717;\n",
              "            color:  #f1f1f1;\n",
              "        }#T_ac4fc384_5ae7_11eb_b4f9_0242ac1c0002row9_col21,#T_ac4fc384_5ae7_11eb_b4f9_0242ac1c0002row13_col11{\n",
              "            font-size:  6pt;\n",
              "            background-color:  #616161;\n",
              "            color:  #f1f1f1;\n",
              "        }#T_ac4fc384_5ae7_11eb_b4f9_0242ac1c0002row10_col8,#T_ac4fc384_5ae7_11eb_b4f9_0242ac1c0002row18_col17{\n",
              "            font-size:  6pt;\n",
              "            background-color:  #f0f0f0;\n",
              "            color:  #000000;\n",
              "        }#T_ac4fc384_5ae7_11eb_b4f9_0242ac1c0002row10_col9{\n",
              "            font-size:  6pt;\n",
              "            background-color:  #303030;\n",
              "            color:  #f1f1f1;\n",
              "        }#T_ac4fc384_5ae7_11eb_b4f9_0242ac1c0002row10_col12{\n",
              "            font-size:  6pt;\n",
              "            background-color:  #0c0c0c;\n",
              "            color:  #f1f1f1;\n",
              "        }#T_ac4fc384_5ae7_11eb_b4f9_0242ac1c0002row10_col13{\n",
              "            font-size:  6pt;\n",
              "            background-color:  #c9c9c9;\n",
              "            color:  #000000;\n",
              "        }#T_ac4fc384_5ae7_11eb_b4f9_0242ac1c0002row10_col20{\n",
              "            font-size:  6pt;\n",
              "            background-color:  #2c2c2c;\n",
              "            color:  #f1f1f1;\n",
              "        }#T_ac4fc384_5ae7_11eb_b4f9_0242ac1c0002row10_col21{\n",
              "            font-size:  6pt;\n",
              "            background-color:  #090909;\n",
              "            color:  #f1f1f1;\n",
              "        }#T_ac4fc384_5ae7_11eb_b4f9_0242ac1c0002row11_col8{\n",
              "            font-size:  6pt;\n",
              "            background-color:  #a8a8a8;\n",
              "            color:  #000000;\n",
              "        }#T_ac4fc384_5ae7_11eb_b4f9_0242ac1c0002row11_col12{\n",
              "            font-size:  6pt;\n",
              "            background-color:  #3f3f3f;\n",
              "            color:  #f1f1f1;\n",
              "        }#T_ac4fc384_5ae7_11eb_b4f9_0242ac1c0002row11_col20{\n",
              "            font-size:  6pt;\n",
              "            background-color:  #b2b2b2;\n",
              "            color:  #000000;\n",
              "        }#T_ac4fc384_5ae7_11eb_b4f9_0242ac1c0002row12_col8,#T_ac4fc384_5ae7_11eb_b4f9_0242ac1c0002row21_col8{\n",
              "            font-size:  6pt;\n",
              "            background-color:  #070707;\n",
              "            color:  #f1f1f1;\n",
              "        }#T_ac4fc384_5ae7_11eb_b4f9_0242ac1c0002row12_col20,#T_ac4fc384_5ae7_11eb_b4f9_0242ac1c0002row13_col20,#T_ac4fc384_5ae7_11eb_b4f9_0242ac1c0002row14_col20,#T_ac4fc384_5ae7_11eb_b4f9_0242ac1c0002row15_col20,#T_ac4fc384_5ae7_11eb_b4f9_0242ac1c0002row16_col20,#T_ac4fc384_5ae7_11eb_b4f9_0242ac1c0002row19_col10,#T_ac4fc384_5ae7_11eb_b4f9_0242ac1c0002row19_col11,#T_ac4fc384_5ae7_11eb_b4f9_0242ac1c0002row19_col12,#T_ac4fc384_5ae7_11eb_b4f9_0242ac1c0002row19_col13,#T_ac4fc384_5ae7_11eb_b4f9_0242ac1c0002row19_col14{\n",
              "            font-size:  6pt;\n",
              "            background-color:  #dadada;\n",
              "            color:  #000000;\n",
              "        }#T_ac4fc384_5ae7_11eb_b4f9_0242ac1c0002row13_col7,#T_ac4fc384_5ae7_11eb_b4f9_0242ac1c0002row22_col19{\n",
              "            font-size:  6pt;\n",
              "            background-color:  #e7e7e7;\n",
              "            color:  #000000;\n",
              "        }#T_ac4fc384_5ae7_11eb_b4f9_0242ac1c0002row13_col8{\n",
              "            font-size:  6pt;\n",
              "            background-color:  #050505;\n",
              "            color:  #f1f1f1;\n",
              "        }#T_ac4fc384_5ae7_11eb_b4f9_0242ac1c0002row14_col7,#T_ac4fc384_5ae7_11eb_b4f9_0242ac1c0002row15_col7{\n",
              "            font-size:  6pt;\n",
              "            background-color:  #818181;\n",
              "            color:  #000000;\n",
              "        }#T_ac4fc384_5ae7_11eb_b4f9_0242ac1c0002row14_col11{\n",
              "            font-size:  6pt;\n",
              "            background-color:  #dbdbdb;\n",
              "            color:  #000000;\n",
              "        }#T_ac4fc384_5ae7_11eb_b4f9_0242ac1c0002row15_col10{\n",
              "            font-size:  6pt;\n",
              "            background-color:  #565656;\n",
              "            color:  #f1f1f1;\n",
              "        }#T_ac4fc384_5ae7_11eb_b4f9_0242ac1c0002row15_col11{\n",
              "            font-size:  6pt;\n",
              "            background-color:  #fbfbfb;\n",
              "            color:  #000000;\n",
              "        }#T_ac4fc384_5ae7_11eb_b4f9_0242ac1c0002row16_col6{\n",
              "            font-size:  6pt;\n",
              "            background-color:  #252525;\n",
              "            color:  #f1f1f1;\n",
              "        }#T_ac4fc384_5ae7_11eb_b4f9_0242ac1c0002row16_col7{\n",
              "            font-size:  6pt;\n",
              "            background-color:  #0e0e0e;\n",
              "            color:  #f1f1f1;\n",
              "        }#T_ac4fc384_5ae7_11eb_b4f9_0242ac1c0002row16_col9{\n",
              "            font-size:  6pt;\n",
              "            background-color:  #282828;\n",
              "            color:  #f1f1f1;\n",
              "        }#T_ac4fc384_5ae7_11eb_b4f9_0242ac1c0002row17_col9,#T_ac4fc384_5ae7_11eb_b4f9_0242ac1c0002row18_col9,#T_ac4fc384_5ae7_11eb_b4f9_0242ac1c0002row19_col16{\n",
              "            font-size:  6pt;\n",
              "            background-color:  #2f2f2f;\n",
              "            color:  #f1f1f1;\n",
              "        }#T_ac4fc384_5ae7_11eb_b4f9_0242ac1c0002row17_col19{\n",
              "            font-size:  6pt;\n",
              "            background-color:  #c4c4c4;\n",
              "            color:  #000000;\n",
              "        }#T_ac4fc384_5ae7_11eb_b4f9_0242ac1c0002row17_col20{\n",
              "            font-size:  6pt;\n",
              "            background-color:  #515151;\n",
              "            color:  #f1f1f1;\n",
              "        }#T_ac4fc384_5ae7_11eb_b4f9_0242ac1c0002row18_col18{\n",
              "            font-size:  6pt;\n",
              "            background-color:  #989898;\n",
              "            color:  #000000;\n",
              "        }#T_ac4fc384_5ae7_11eb_b4f9_0242ac1c0002row19_col6{\n",
              "            font-size:  6pt;\n",
              "            background-color:  #4b4b4b;\n",
              "            color:  #f1f1f1;\n",
              "        }#T_ac4fc384_5ae7_11eb_b4f9_0242ac1c0002row19_col7{\n",
              "            font-size:  6pt;\n",
              "            background-color:  #1e1e1e;\n",
              "            color:  #f1f1f1;\n",
              "        }#T_ac4fc384_5ae7_11eb_b4f9_0242ac1c0002row19_col9{\n",
              "            font-size:  6pt;\n",
              "            background-color:  #222222;\n",
              "            color:  #f1f1f1;\n",
              "        }#T_ac4fc384_5ae7_11eb_b4f9_0242ac1c0002row19_col15{\n",
              "            font-size:  6pt;\n",
              "            background-color:  #666666;\n",
              "            color:  #f1f1f1;\n",
              "        }#T_ac4fc384_5ae7_11eb_b4f9_0242ac1c0002row19_col17{\n",
              "            font-size:  6pt;\n",
              "            background-color:  #1f1f1f;\n",
              "            color:  #f1f1f1;\n",
              "        }#T_ac4fc384_5ae7_11eb_b4f9_0242ac1c0002row19_col22{\n",
              "            font-size:  6pt;\n",
              "            background-color:  #4e4e4e;\n",
              "            color:  #f1f1f1;\n",
              "        }#T_ac4fc384_5ae7_11eb_b4f9_0242ac1c0002row20_col7{\n",
              "            font-size:  6pt;\n",
              "            background-color:  #858585;\n",
              "            color:  #000000;\n",
              "        }#T_ac4fc384_5ae7_11eb_b4f9_0242ac1c0002row20_col21,#T_ac4fc384_5ae7_11eb_b4f9_0242ac1c0002row22_col17{\n",
              "            font-size:  6pt;\n",
              "            background-color:  #111111;\n",
              "            color:  #f1f1f1;\n",
              "        }#T_ac4fc384_5ae7_11eb_b4f9_0242ac1c0002row21_col20{\n",
              "            font-size:  6pt;\n",
              "            background-color:  #979797;\n",
              "            color:  #000000;\n",
              "        }#T_ac4fc384_5ae7_11eb_b4f9_0242ac1c0002row22_col9,#T_ac4fc384_5ae7_11eb_b4f9_0242ac1c0002row22_col10{\n",
              "            font-size:  6pt;\n",
              "            background-color:  #444444;\n",
              "            color:  #f1f1f1;\n",
              "        }#T_ac4fc384_5ae7_11eb_b4f9_0242ac1c0002row22_col11{\n",
              "            font-size:  6pt;\n",
              "            background-color:  #2b2b2b;\n",
              "            color:  #f1f1f1;\n",
              "        }#T_ac4fc384_5ae7_11eb_b4f9_0242ac1c0002row22_col18{\n",
              "            font-size:  6pt;\n",
              "            background-color:  #525252;\n",
              "            color:  #f1f1f1;\n",
              "        }#T_ac4fc384_5ae7_11eb_b4f9_0242ac1c0002row23_col11{\n",
              "            font-size:  6pt;\n",
              "            background-color:  #eeeeee;\n",
              "            color:  #000000;\n",
              "        }#T_ac4fc384_5ae7_11eb_b4f9_0242ac1c0002row23_col12{\n",
              "            font-size:  6pt;\n",
              "            background-color:  #333333;\n",
              "            color:  #f1f1f1;\n",
              "        }#T_ac4fc384_5ae7_11eb_b4f9_0242ac1c0002row23_col15{\n",
              "            font-size:  6pt;\n",
              "            background-color:  #828282;\n",
              "            color:  #000000;\n",
              "        }#T_ac4fc384_5ae7_11eb_b4f9_0242ac1c0002row23_col16{\n",
              "            font-size:  6pt;\n",
              "            background-color:  #b9b9b9;\n",
              "            color:  #000000;\n",
              "        }#T_ac4fc384_5ae7_11eb_b4f9_0242ac1c0002row23_col17{\n",
              "            font-size:  6pt;\n",
              "            background-color:  #d2d2d2;\n",
              "            color:  #000000;\n",
              "        }</style><table id=\"T_ac4fc384_5ae7_11eb_b4f9_0242ac1c0002\" ><thead>    <tr>        <th class=\"blank level0\" ></th>        <th class=\"col_heading level0 col0\" >0</th>        <th class=\"col_heading level0 col1\" >1</th>        <th class=\"col_heading level0 col2\" >2</th>        <th class=\"col_heading level0 col3\" >3</th>        <th class=\"col_heading level0 col4\" >4</th>        <th class=\"col_heading level0 col5\" >5</th>        <th class=\"col_heading level0 col6\" >6</th>        <th class=\"col_heading level0 col7\" >7</th>        <th class=\"col_heading level0 col8\" >8</th>        <th class=\"col_heading level0 col9\" >9</th>        <th class=\"col_heading level0 col10\" >10</th>        <th class=\"col_heading level0 col11\" >11</th>        <th class=\"col_heading level0 col12\" >12</th>        <th class=\"col_heading level0 col13\" >13</th>        <th class=\"col_heading level0 col14\" >14</th>        <th class=\"col_heading level0 col15\" >15</th>        <th class=\"col_heading level0 col16\" >16</th>        <th class=\"col_heading level0 col17\" >17</th>        <th class=\"col_heading level0 col18\" >18</th>        <th class=\"col_heading level0 col19\" >19</th>        <th class=\"col_heading level0 col20\" >20</th>        <th class=\"col_heading level0 col21\" >21</th>        <th class=\"col_heading level0 col22\" >22</th>        <th class=\"col_heading level0 col23\" >23</th>        <th class=\"col_heading level0 col24\" >24</th>        <th class=\"col_heading level0 col25\" >25</th>        <th class=\"col_heading level0 col26\" >26</th>        <th class=\"col_heading level0 col27\" >27</th>    </tr></thead><tbody>\n",
              "                <tr>\n",
              "                        <th id=\"T_ac4fc384_5ae7_11eb_b4f9_0242ac1c0002level0_row0\" class=\"row_heading level0 row0\" >0</th>\n",
              "                        <td id=\"T_ac4fc384_5ae7_11eb_b4f9_0242ac1c0002row0_col0\" class=\"data row0 col0\" >0.000000</td>\n",
              "                        <td id=\"T_ac4fc384_5ae7_11eb_b4f9_0242ac1c0002row0_col1\" class=\"data row0 col1\" >0.000000</td>\n",
              "                        <td id=\"T_ac4fc384_5ae7_11eb_b4f9_0242ac1c0002row0_col2\" class=\"data row0 col2\" >0.000000</td>\n",
              "                        <td id=\"T_ac4fc384_5ae7_11eb_b4f9_0242ac1c0002row0_col3\" class=\"data row0 col3\" >0.000000</td>\n",
              "                        <td id=\"T_ac4fc384_5ae7_11eb_b4f9_0242ac1c0002row0_col4\" class=\"data row0 col4\" >0.000000</td>\n",
              "                        <td id=\"T_ac4fc384_5ae7_11eb_b4f9_0242ac1c0002row0_col5\" class=\"data row0 col5\" >0.000000</td>\n",
              "                        <td id=\"T_ac4fc384_5ae7_11eb_b4f9_0242ac1c0002row0_col6\" class=\"data row0 col6\" >0.000000</td>\n",
              "                        <td id=\"T_ac4fc384_5ae7_11eb_b4f9_0242ac1c0002row0_col7\" class=\"data row0 col7\" >0.000000</td>\n",
              "                        <td id=\"T_ac4fc384_5ae7_11eb_b4f9_0242ac1c0002row0_col8\" class=\"data row0 col8\" >0.000000</td>\n",
              "                        <td id=\"T_ac4fc384_5ae7_11eb_b4f9_0242ac1c0002row0_col9\" class=\"data row0 col9\" >0.000000</td>\n",
              "                        <td id=\"T_ac4fc384_5ae7_11eb_b4f9_0242ac1c0002row0_col10\" class=\"data row0 col10\" >0.000000</td>\n",
              "                        <td id=\"T_ac4fc384_5ae7_11eb_b4f9_0242ac1c0002row0_col11\" class=\"data row0 col11\" >0.000000</td>\n",
              "                        <td id=\"T_ac4fc384_5ae7_11eb_b4f9_0242ac1c0002row0_col12\" class=\"data row0 col12\" >0.000000</td>\n",
              "                        <td id=\"T_ac4fc384_5ae7_11eb_b4f9_0242ac1c0002row0_col13\" class=\"data row0 col13\" >0.000000</td>\n",
              "                        <td id=\"T_ac4fc384_5ae7_11eb_b4f9_0242ac1c0002row0_col14\" class=\"data row0 col14\" >0.000000</td>\n",
              "                        <td id=\"T_ac4fc384_5ae7_11eb_b4f9_0242ac1c0002row0_col15\" class=\"data row0 col15\" >0.000000</td>\n",
              "                        <td id=\"T_ac4fc384_5ae7_11eb_b4f9_0242ac1c0002row0_col16\" class=\"data row0 col16\" >0.000000</td>\n",
              "                        <td id=\"T_ac4fc384_5ae7_11eb_b4f9_0242ac1c0002row0_col17\" class=\"data row0 col17\" >0.000000</td>\n",
              "                        <td id=\"T_ac4fc384_5ae7_11eb_b4f9_0242ac1c0002row0_col18\" class=\"data row0 col18\" >0.000000</td>\n",
              "                        <td id=\"T_ac4fc384_5ae7_11eb_b4f9_0242ac1c0002row0_col19\" class=\"data row0 col19\" >0.000000</td>\n",
              "                        <td id=\"T_ac4fc384_5ae7_11eb_b4f9_0242ac1c0002row0_col20\" class=\"data row0 col20\" >0.000000</td>\n",
              "                        <td id=\"T_ac4fc384_5ae7_11eb_b4f9_0242ac1c0002row0_col21\" class=\"data row0 col21\" >0.000000</td>\n",
              "                        <td id=\"T_ac4fc384_5ae7_11eb_b4f9_0242ac1c0002row0_col22\" class=\"data row0 col22\" >0.000000</td>\n",
              "                        <td id=\"T_ac4fc384_5ae7_11eb_b4f9_0242ac1c0002row0_col23\" class=\"data row0 col23\" >0.000000</td>\n",
              "                        <td id=\"T_ac4fc384_5ae7_11eb_b4f9_0242ac1c0002row0_col24\" class=\"data row0 col24\" >0.000000</td>\n",
              "                        <td id=\"T_ac4fc384_5ae7_11eb_b4f9_0242ac1c0002row0_col25\" class=\"data row0 col25\" >0.000000</td>\n",
              "                        <td id=\"T_ac4fc384_5ae7_11eb_b4f9_0242ac1c0002row0_col26\" class=\"data row0 col26\" >0.000000</td>\n",
              "                        <td id=\"T_ac4fc384_5ae7_11eb_b4f9_0242ac1c0002row0_col27\" class=\"data row0 col27\" >0.000000</td>\n",
              "            </tr>\n",
              "            <tr>\n",
              "                        <th id=\"T_ac4fc384_5ae7_11eb_b4f9_0242ac1c0002level0_row1\" class=\"row_heading level0 row1\" >1</th>\n",
              "                        <td id=\"T_ac4fc384_5ae7_11eb_b4f9_0242ac1c0002row1_col0\" class=\"data row1 col0\" >0.000000</td>\n",
              "                        <td id=\"T_ac4fc384_5ae7_11eb_b4f9_0242ac1c0002row1_col1\" class=\"data row1 col1\" >0.000000</td>\n",
              "                        <td id=\"T_ac4fc384_5ae7_11eb_b4f9_0242ac1c0002row1_col2\" class=\"data row1 col2\" >0.000000</td>\n",
              "                        <td id=\"T_ac4fc384_5ae7_11eb_b4f9_0242ac1c0002row1_col3\" class=\"data row1 col3\" >0.000000</td>\n",
              "                        <td id=\"T_ac4fc384_5ae7_11eb_b4f9_0242ac1c0002row1_col4\" class=\"data row1 col4\" >0.000000</td>\n",
              "                        <td id=\"T_ac4fc384_5ae7_11eb_b4f9_0242ac1c0002row1_col5\" class=\"data row1 col5\" >0.000000</td>\n",
              "                        <td id=\"T_ac4fc384_5ae7_11eb_b4f9_0242ac1c0002row1_col6\" class=\"data row1 col6\" >0.000000</td>\n",
              "                        <td id=\"T_ac4fc384_5ae7_11eb_b4f9_0242ac1c0002row1_col7\" class=\"data row1 col7\" >0.000000</td>\n",
              "                        <td id=\"T_ac4fc384_5ae7_11eb_b4f9_0242ac1c0002row1_col8\" class=\"data row1 col8\" >0.000000</td>\n",
              "                        <td id=\"T_ac4fc384_5ae7_11eb_b4f9_0242ac1c0002row1_col9\" class=\"data row1 col9\" >0.000000</td>\n",
              "                        <td id=\"T_ac4fc384_5ae7_11eb_b4f9_0242ac1c0002row1_col10\" class=\"data row1 col10\" >0.000000</td>\n",
              "                        <td id=\"T_ac4fc384_5ae7_11eb_b4f9_0242ac1c0002row1_col11\" class=\"data row1 col11\" >0.000000</td>\n",
              "                        <td id=\"T_ac4fc384_5ae7_11eb_b4f9_0242ac1c0002row1_col12\" class=\"data row1 col12\" >0.000000</td>\n",
              "                        <td id=\"T_ac4fc384_5ae7_11eb_b4f9_0242ac1c0002row1_col13\" class=\"data row1 col13\" >0.000000</td>\n",
              "                        <td id=\"T_ac4fc384_5ae7_11eb_b4f9_0242ac1c0002row1_col14\" class=\"data row1 col14\" >0.000000</td>\n",
              "                        <td id=\"T_ac4fc384_5ae7_11eb_b4f9_0242ac1c0002row1_col15\" class=\"data row1 col15\" >0.000000</td>\n",
              "                        <td id=\"T_ac4fc384_5ae7_11eb_b4f9_0242ac1c0002row1_col16\" class=\"data row1 col16\" >0.000000</td>\n",
              "                        <td id=\"T_ac4fc384_5ae7_11eb_b4f9_0242ac1c0002row1_col17\" class=\"data row1 col17\" >0.000000</td>\n",
              "                        <td id=\"T_ac4fc384_5ae7_11eb_b4f9_0242ac1c0002row1_col18\" class=\"data row1 col18\" >0.000000</td>\n",
              "                        <td id=\"T_ac4fc384_5ae7_11eb_b4f9_0242ac1c0002row1_col19\" class=\"data row1 col19\" >0.000000</td>\n",
              "                        <td id=\"T_ac4fc384_5ae7_11eb_b4f9_0242ac1c0002row1_col20\" class=\"data row1 col20\" >0.000000</td>\n",
              "                        <td id=\"T_ac4fc384_5ae7_11eb_b4f9_0242ac1c0002row1_col21\" class=\"data row1 col21\" >0.000000</td>\n",
              "                        <td id=\"T_ac4fc384_5ae7_11eb_b4f9_0242ac1c0002row1_col22\" class=\"data row1 col22\" >0.000000</td>\n",
              "                        <td id=\"T_ac4fc384_5ae7_11eb_b4f9_0242ac1c0002row1_col23\" class=\"data row1 col23\" >0.000000</td>\n",
              "                        <td id=\"T_ac4fc384_5ae7_11eb_b4f9_0242ac1c0002row1_col24\" class=\"data row1 col24\" >0.000000</td>\n",
              "                        <td id=\"T_ac4fc384_5ae7_11eb_b4f9_0242ac1c0002row1_col25\" class=\"data row1 col25\" >0.000000</td>\n",
              "                        <td id=\"T_ac4fc384_5ae7_11eb_b4f9_0242ac1c0002row1_col26\" class=\"data row1 col26\" >0.000000</td>\n",
              "                        <td id=\"T_ac4fc384_5ae7_11eb_b4f9_0242ac1c0002row1_col27\" class=\"data row1 col27\" >0.000000</td>\n",
              "            </tr>\n",
              "            <tr>\n",
              "                        <th id=\"T_ac4fc384_5ae7_11eb_b4f9_0242ac1c0002level0_row2\" class=\"row_heading level0 row2\" >2</th>\n",
              "                        <td id=\"T_ac4fc384_5ae7_11eb_b4f9_0242ac1c0002row2_col0\" class=\"data row2 col0\" >0.000000</td>\n",
              "                        <td id=\"T_ac4fc384_5ae7_11eb_b4f9_0242ac1c0002row2_col1\" class=\"data row2 col1\" >0.000000</td>\n",
              "                        <td id=\"T_ac4fc384_5ae7_11eb_b4f9_0242ac1c0002row2_col2\" class=\"data row2 col2\" >0.000000</td>\n",
              "                        <td id=\"T_ac4fc384_5ae7_11eb_b4f9_0242ac1c0002row2_col3\" class=\"data row2 col3\" >0.000000</td>\n",
              "                        <td id=\"T_ac4fc384_5ae7_11eb_b4f9_0242ac1c0002row2_col4\" class=\"data row2 col4\" >0.000000</td>\n",
              "                        <td id=\"T_ac4fc384_5ae7_11eb_b4f9_0242ac1c0002row2_col5\" class=\"data row2 col5\" >0.000000</td>\n",
              "                        <td id=\"T_ac4fc384_5ae7_11eb_b4f9_0242ac1c0002row2_col6\" class=\"data row2 col6\" >0.000000</td>\n",
              "                        <td id=\"T_ac4fc384_5ae7_11eb_b4f9_0242ac1c0002row2_col7\" class=\"data row2 col7\" >0.000000</td>\n",
              "                        <td id=\"T_ac4fc384_5ae7_11eb_b4f9_0242ac1c0002row2_col8\" class=\"data row2 col8\" >0.000000</td>\n",
              "                        <td id=\"T_ac4fc384_5ae7_11eb_b4f9_0242ac1c0002row2_col9\" class=\"data row2 col9\" >0.000000</td>\n",
              "                        <td id=\"T_ac4fc384_5ae7_11eb_b4f9_0242ac1c0002row2_col10\" class=\"data row2 col10\" >0.000000</td>\n",
              "                        <td id=\"T_ac4fc384_5ae7_11eb_b4f9_0242ac1c0002row2_col11\" class=\"data row2 col11\" >0.000000</td>\n",
              "                        <td id=\"T_ac4fc384_5ae7_11eb_b4f9_0242ac1c0002row2_col12\" class=\"data row2 col12\" >0.000000</td>\n",
              "                        <td id=\"T_ac4fc384_5ae7_11eb_b4f9_0242ac1c0002row2_col13\" class=\"data row2 col13\" >0.000000</td>\n",
              "                        <td id=\"T_ac4fc384_5ae7_11eb_b4f9_0242ac1c0002row2_col14\" class=\"data row2 col14\" >0.000000</td>\n",
              "                        <td id=\"T_ac4fc384_5ae7_11eb_b4f9_0242ac1c0002row2_col15\" class=\"data row2 col15\" >0.000000</td>\n",
              "                        <td id=\"T_ac4fc384_5ae7_11eb_b4f9_0242ac1c0002row2_col16\" class=\"data row2 col16\" >0.000000</td>\n",
              "                        <td id=\"T_ac4fc384_5ae7_11eb_b4f9_0242ac1c0002row2_col17\" class=\"data row2 col17\" >0.000000</td>\n",
              "                        <td id=\"T_ac4fc384_5ae7_11eb_b4f9_0242ac1c0002row2_col18\" class=\"data row2 col18\" >0.000000</td>\n",
              "                        <td id=\"T_ac4fc384_5ae7_11eb_b4f9_0242ac1c0002row2_col19\" class=\"data row2 col19\" >0.000000</td>\n",
              "                        <td id=\"T_ac4fc384_5ae7_11eb_b4f9_0242ac1c0002row2_col20\" class=\"data row2 col20\" >0.000000</td>\n",
              "                        <td id=\"T_ac4fc384_5ae7_11eb_b4f9_0242ac1c0002row2_col21\" class=\"data row2 col21\" >0.000000</td>\n",
              "                        <td id=\"T_ac4fc384_5ae7_11eb_b4f9_0242ac1c0002row2_col22\" class=\"data row2 col22\" >0.000000</td>\n",
              "                        <td id=\"T_ac4fc384_5ae7_11eb_b4f9_0242ac1c0002row2_col23\" class=\"data row2 col23\" >0.000000</td>\n",
              "                        <td id=\"T_ac4fc384_5ae7_11eb_b4f9_0242ac1c0002row2_col24\" class=\"data row2 col24\" >0.000000</td>\n",
              "                        <td id=\"T_ac4fc384_5ae7_11eb_b4f9_0242ac1c0002row2_col25\" class=\"data row2 col25\" >0.000000</td>\n",
              "                        <td id=\"T_ac4fc384_5ae7_11eb_b4f9_0242ac1c0002row2_col26\" class=\"data row2 col26\" >0.000000</td>\n",
              "                        <td id=\"T_ac4fc384_5ae7_11eb_b4f9_0242ac1c0002row2_col27\" class=\"data row2 col27\" >0.000000</td>\n",
              "            </tr>\n",
              "            <tr>\n",
              "                        <th id=\"T_ac4fc384_5ae7_11eb_b4f9_0242ac1c0002level0_row3\" class=\"row_heading level0 row3\" >3</th>\n",
              "                        <td id=\"T_ac4fc384_5ae7_11eb_b4f9_0242ac1c0002row3_col0\" class=\"data row3 col0\" >0.000000</td>\n",
              "                        <td id=\"T_ac4fc384_5ae7_11eb_b4f9_0242ac1c0002row3_col1\" class=\"data row3 col1\" >0.000000</td>\n",
              "                        <td id=\"T_ac4fc384_5ae7_11eb_b4f9_0242ac1c0002row3_col2\" class=\"data row3 col2\" >0.000000</td>\n",
              "                        <td id=\"T_ac4fc384_5ae7_11eb_b4f9_0242ac1c0002row3_col3\" class=\"data row3 col3\" >0.000000</td>\n",
              "                        <td id=\"T_ac4fc384_5ae7_11eb_b4f9_0242ac1c0002row3_col4\" class=\"data row3 col4\" >0.000000</td>\n",
              "                        <td id=\"T_ac4fc384_5ae7_11eb_b4f9_0242ac1c0002row3_col5\" class=\"data row3 col5\" >0.000000</td>\n",
              "                        <td id=\"T_ac4fc384_5ae7_11eb_b4f9_0242ac1c0002row3_col6\" class=\"data row3 col6\" >0.000000</td>\n",
              "                        <td id=\"T_ac4fc384_5ae7_11eb_b4f9_0242ac1c0002row3_col7\" class=\"data row3 col7\" >0.000000</td>\n",
              "                        <td id=\"T_ac4fc384_5ae7_11eb_b4f9_0242ac1c0002row3_col8\" class=\"data row3 col8\" >0.000000</td>\n",
              "                        <td id=\"T_ac4fc384_5ae7_11eb_b4f9_0242ac1c0002row3_col9\" class=\"data row3 col9\" >0.000000</td>\n",
              "                        <td id=\"T_ac4fc384_5ae7_11eb_b4f9_0242ac1c0002row3_col10\" class=\"data row3 col10\" >0.000000</td>\n",
              "                        <td id=\"T_ac4fc384_5ae7_11eb_b4f9_0242ac1c0002row3_col11\" class=\"data row3 col11\" >0.000000</td>\n",
              "                        <td id=\"T_ac4fc384_5ae7_11eb_b4f9_0242ac1c0002row3_col12\" class=\"data row3 col12\" >0.000000</td>\n",
              "                        <td id=\"T_ac4fc384_5ae7_11eb_b4f9_0242ac1c0002row3_col13\" class=\"data row3 col13\" >0.000000</td>\n",
              "                        <td id=\"T_ac4fc384_5ae7_11eb_b4f9_0242ac1c0002row3_col14\" class=\"data row3 col14\" >0.000000</td>\n",
              "                        <td id=\"T_ac4fc384_5ae7_11eb_b4f9_0242ac1c0002row3_col15\" class=\"data row3 col15\" >0.000000</td>\n",
              "                        <td id=\"T_ac4fc384_5ae7_11eb_b4f9_0242ac1c0002row3_col16\" class=\"data row3 col16\" >0.000000</td>\n",
              "                        <td id=\"T_ac4fc384_5ae7_11eb_b4f9_0242ac1c0002row3_col17\" class=\"data row3 col17\" >0.000000</td>\n",
              "                        <td id=\"T_ac4fc384_5ae7_11eb_b4f9_0242ac1c0002row3_col18\" class=\"data row3 col18\" >0.000000</td>\n",
              "                        <td id=\"T_ac4fc384_5ae7_11eb_b4f9_0242ac1c0002row3_col19\" class=\"data row3 col19\" >0.000000</td>\n",
              "                        <td id=\"T_ac4fc384_5ae7_11eb_b4f9_0242ac1c0002row3_col20\" class=\"data row3 col20\" >0.000000</td>\n",
              "                        <td id=\"T_ac4fc384_5ae7_11eb_b4f9_0242ac1c0002row3_col21\" class=\"data row3 col21\" >0.000000</td>\n",
              "                        <td id=\"T_ac4fc384_5ae7_11eb_b4f9_0242ac1c0002row3_col22\" class=\"data row3 col22\" >0.000000</td>\n",
              "                        <td id=\"T_ac4fc384_5ae7_11eb_b4f9_0242ac1c0002row3_col23\" class=\"data row3 col23\" >0.000000</td>\n",
              "                        <td id=\"T_ac4fc384_5ae7_11eb_b4f9_0242ac1c0002row3_col24\" class=\"data row3 col24\" >0.000000</td>\n",
              "                        <td id=\"T_ac4fc384_5ae7_11eb_b4f9_0242ac1c0002row3_col25\" class=\"data row3 col25\" >0.000000</td>\n",
              "                        <td id=\"T_ac4fc384_5ae7_11eb_b4f9_0242ac1c0002row3_col26\" class=\"data row3 col26\" >0.000000</td>\n",
              "                        <td id=\"T_ac4fc384_5ae7_11eb_b4f9_0242ac1c0002row3_col27\" class=\"data row3 col27\" >0.000000</td>\n",
              "            </tr>\n",
              "            <tr>\n",
              "                        <th id=\"T_ac4fc384_5ae7_11eb_b4f9_0242ac1c0002level0_row4\" class=\"row_heading level0 row4\" >4</th>\n",
              "                        <td id=\"T_ac4fc384_5ae7_11eb_b4f9_0242ac1c0002row4_col0\" class=\"data row4 col0\" >0.000000</td>\n",
              "                        <td id=\"T_ac4fc384_5ae7_11eb_b4f9_0242ac1c0002row4_col1\" class=\"data row4 col1\" >0.000000</td>\n",
              "                        <td id=\"T_ac4fc384_5ae7_11eb_b4f9_0242ac1c0002row4_col2\" class=\"data row4 col2\" >0.000000</td>\n",
              "                        <td id=\"T_ac4fc384_5ae7_11eb_b4f9_0242ac1c0002row4_col3\" class=\"data row4 col3\" >0.000000</td>\n",
              "                        <td id=\"T_ac4fc384_5ae7_11eb_b4f9_0242ac1c0002row4_col4\" class=\"data row4 col4\" >0.000000</td>\n",
              "                        <td id=\"T_ac4fc384_5ae7_11eb_b4f9_0242ac1c0002row4_col5\" class=\"data row4 col5\" >0.000000</td>\n",
              "                        <td id=\"T_ac4fc384_5ae7_11eb_b4f9_0242ac1c0002row4_col6\" class=\"data row4 col6\" >0.000000</td>\n",
              "                        <td id=\"T_ac4fc384_5ae7_11eb_b4f9_0242ac1c0002row4_col7\" class=\"data row4 col7\" >0.000000</td>\n",
              "                        <td id=\"T_ac4fc384_5ae7_11eb_b4f9_0242ac1c0002row4_col8\" class=\"data row4 col8\" >0.000000</td>\n",
              "                        <td id=\"T_ac4fc384_5ae7_11eb_b4f9_0242ac1c0002row4_col9\" class=\"data row4 col9\" >0.000000</td>\n",
              "                        <td id=\"T_ac4fc384_5ae7_11eb_b4f9_0242ac1c0002row4_col10\" class=\"data row4 col10\" >0.000000</td>\n",
              "                        <td id=\"T_ac4fc384_5ae7_11eb_b4f9_0242ac1c0002row4_col11\" class=\"data row4 col11\" >0.000000</td>\n",
              "                        <td id=\"T_ac4fc384_5ae7_11eb_b4f9_0242ac1c0002row4_col12\" class=\"data row4 col12\" >13.000000</td>\n",
              "                        <td id=\"T_ac4fc384_5ae7_11eb_b4f9_0242ac1c0002row4_col13\" class=\"data row4 col13\" >101.000000</td>\n",
              "                        <td id=\"T_ac4fc384_5ae7_11eb_b4f9_0242ac1c0002row4_col14\" class=\"data row4 col14\" >101.000000</td>\n",
              "                        <td id=\"T_ac4fc384_5ae7_11eb_b4f9_0242ac1c0002row4_col15\" class=\"data row4 col15\" >208.000000</td>\n",
              "                        <td id=\"T_ac4fc384_5ae7_11eb_b4f9_0242ac1c0002row4_col16\" class=\"data row4 col16\" >255.000000</td>\n",
              "                        <td id=\"T_ac4fc384_5ae7_11eb_b4f9_0242ac1c0002row4_col17\" class=\"data row4 col17\" >119.000000</td>\n",
              "                        <td id=\"T_ac4fc384_5ae7_11eb_b4f9_0242ac1c0002row4_col18\" class=\"data row4 col18\" >95.000000</td>\n",
              "                        <td id=\"T_ac4fc384_5ae7_11eb_b4f9_0242ac1c0002row4_col19\" class=\"data row4 col19\" >0.000000</td>\n",
              "                        <td id=\"T_ac4fc384_5ae7_11eb_b4f9_0242ac1c0002row4_col20\" class=\"data row4 col20\" >0.000000</td>\n",
              "                        <td id=\"T_ac4fc384_5ae7_11eb_b4f9_0242ac1c0002row4_col21\" class=\"data row4 col21\" >0.000000</td>\n",
              "                        <td id=\"T_ac4fc384_5ae7_11eb_b4f9_0242ac1c0002row4_col22\" class=\"data row4 col22\" >0.000000</td>\n",
              "                        <td id=\"T_ac4fc384_5ae7_11eb_b4f9_0242ac1c0002row4_col23\" class=\"data row4 col23\" >0.000000</td>\n",
              "                        <td id=\"T_ac4fc384_5ae7_11eb_b4f9_0242ac1c0002row4_col24\" class=\"data row4 col24\" >0.000000</td>\n",
              "                        <td id=\"T_ac4fc384_5ae7_11eb_b4f9_0242ac1c0002row4_col25\" class=\"data row4 col25\" >0.000000</td>\n",
              "                        <td id=\"T_ac4fc384_5ae7_11eb_b4f9_0242ac1c0002row4_col26\" class=\"data row4 col26\" >0.000000</td>\n",
              "                        <td id=\"T_ac4fc384_5ae7_11eb_b4f9_0242ac1c0002row4_col27\" class=\"data row4 col27\" >0.000000</td>\n",
              "            </tr>\n",
              "            <tr>\n",
              "                        <th id=\"T_ac4fc384_5ae7_11eb_b4f9_0242ac1c0002level0_row5\" class=\"row_heading level0 row5\" >5</th>\n",
              "                        <td id=\"T_ac4fc384_5ae7_11eb_b4f9_0242ac1c0002row5_col0\" class=\"data row5 col0\" >0.000000</td>\n",
              "                        <td id=\"T_ac4fc384_5ae7_11eb_b4f9_0242ac1c0002row5_col1\" class=\"data row5 col1\" >0.000000</td>\n",
              "                        <td id=\"T_ac4fc384_5ae7_11eb_b4f9_0242ac1c0002row5_col2\" class=\"data row5 col2\" >0.000000</td>\n",
              "                        <td id=\"T_ac4fc384_5ae7_11eb_b4f9_0242ac1c0002row5_col3\" class=\"data row5 col3\" >0.000000</td>\n",
              "                        <td id=\"T_ac4fc384_5ae7_11eb_b4f9_0242ac1c0002row5_col4\" class=\"data row5 col4\" >0.000000</td>\n",
              "                        <td id=\"T_ac4fc384_5ae7_11eb_b4f9_0242ac1c0002row5_col5\" class=\"data row5 col5\" >0.000000</td>\n",
              "                        <td id=\"T_ac4fc384_5ae7_11eb_b4f9_0242ac1c0002row5_col6\" class=\"data row5 col6\" >0.000000</td>\n",
              "                        <td id=\"T_ac4fc384_5ae7_11eb_b4f9_0242ac1c0002row5_col7\" class=\"data row5 col7\" >0.000000</td>\n",
              "                        <td id=\"T_ac4fc384_5ae7_11eb_b4f9_0242ac1c0002row5_col8\" class=\"data row5 col8\" >0.000000</td>\n",
              "                        <td id=\"T_ac4fc384_5ae7_11eb_b4f9_0242ac1c0002row5_col9\" class=\"data row5 col9\" >0.000000</td>\n",
              "                        <td id=\"T_ac4fc384_5ae7_11eb_b4f9_0242ac1c0002row5_col10\" class=\"data row5 col10\" >0.000000</td>\n",
              "                        <td id=\"T_ac4fc384_5ae7_11eb_b4f9_0242ac1c0002row5_col11\" class=\"data row5 col11\" >68.000000</td>\n",
              "                        <td id=\"T_ac4fc384_5ae7_11eb_b4f9_0242ac1c0002row5_col12\" class=\"data row5 col12\" >207.000000</td>\n",
              "                        <td id=\"T_ac4fc384_5ae7_11eb_b4f9_0242ac1c0002row5_col13\" class=\"data row5 col13\" >253.000000</td>\n",
              "                        <td id=\"T_ac4fc384_5ae7_11eb_b4f9_0242ac1c0002row5_col14\" class=\"data row5 col14\" >253.000000</td>\n",
              "                        <td id=\"T_ac4fc384_5ae7_11eb_b4f9_0242ac1c0002row5_col15\" class=\"data row5 col15\" >253.000000</td>\n",
              "                        <td id=\"T_ac4fc384_5ae7_11eb_b4f9_0242ac1c0002row5_col16\" class=\"data row5 col16\" >253.000000</td>\n",
              "                        <td id=\"T_ac4fc384_5ae7_11eb_b4f9_0242ac1c0002row5_col17\" class=\"data row5 col17\" >253.000000</td>\n",
              "                        <td id=\"T_ac4fc384_5ae7_11eb_b4f9_0242ac1c0002row5_col18\" class=\"data row5 col18\" >250.000000</td>\n",
              "                        <td id=\"T_ac4fc384_5ae7_11eb_b4f9_0242ac1c0002row5_col19\" class=\"data row5 col19\" >130.000000</td>\n",
              "                        <td id=\"T_ac4fc384_5ae7_11eb_b4f9_0242ac1c0002row5_col20\" class=\"data row5 col20\" >7.000000</td>\n",
              "                        <td id=\"T_ac4fc384_5ae7_11eb_b4f9_0242ac1c0002row5_col21\" class=\"data row5 col21\" >0.000000</td>\n",
              "                        <td id=\"T_ac4fc384_5ae7_11eb_b4f9_0242ac1c0002row5_col22\" class=\"data row5 col22\" >0.000000</td>\n",
              "                        <td id=\"T_ac4fc384_5ae7_11eb_b4f9_0242ac1c0002row5_col23\" class=\"data row5 col23\" >0.000000</td>\n",
              "                        <td id=\"T_ac4fc384_5ae7_11eb_b4f9_0242ac1c0002row5_col24\" class=\"data row5 col24\" >0.000000</td>\n",
              "                        <td id=\"T_ac4fc384_5ae7_11eb_b4f9_0242ac1c0002row5_col25\" class=\"data row5 col25\" >0.000000</td>\n",
              "                        <td id=\"T_ac4fc384_5ae7_11eb_b4f9_0242ac1c0002row5_col26\" class=\"data row5 col26\" >0.000000</td>\n",
              "                        <td id=\"T_ac4fc384_5ae7_11eb_b4f9_0242ac1c0002row5_col27\" class=\"data row5 col27\" >0.000000</td>\n",
              "            </tr>\n",
              "            <tr>\n",
              "                        <th id=\"T_ac4fc384_5ae7_11eb_b4f9_0242ac1c0002level0_row6\" class=\"row_heading level0 row6\" >6</th>\n",
              "                        <td id=\"T_ac4fc384_5ae7_11eb_b4f9_0242ac1c0002row6_col0\" class=\"data row6 col0\" >0.000000</td>\n",
              "                        <td id=\"T_ac4fc384_5ae7_11eb_b4f9_0242ac1c0002row6_col1\" class=\"data row6 col1\" >0.000000</td>\n",
              "                        <td id=\"T_ac4fc384_5ae7_11eb_b4f9_0242ac1c0002row6_col2\" class=\"data row6 col2\" >0.000000</td>\n",
              "                        <td id=\"T_ac4fc384_5ae7_11eb_b4f9_0242ac1c0002row6_col3\" class=\"data row6 col3\" >0.000000</td>\n",
              "                        <td id=\"T_ac4fc384_5ae7_11eb_b4f9_0242ac1c0002row6_col4\" class=\"data row6 col4\" >0.000000</td>\n",
              "                        <td id=\"T_ac4fc384_5ae7_11eb_b4f9_0242ac1c0002row6_col5\" class=\"data row6 col5\" >0.000000</td>\n",
              "                        <td id=\"T_ac4fc384_5ae7_11eb_b4f9_0242ac1c0002row6_col6\" class=\"data row6 col6\" >0.000000</td>\n",
              "                        <td id=\"T_ac4fc384_5ae7_11eb_b4f9_0242ac1c0002row6_col7\" class=\"data row6 col7\" >0.000000</td>\n",
              "                        <td id=\"T_ac4fc384_5ae7_11eb_b4f9_0242ac1c0002row6_col8\" class=\"data row6 col8\" >0.000000</td>\n",
              "                        <td id=\"T_ac4fc384_5ae7_11eb_b4f9_0242ac1c0002row6_col9\" class=\"data row6 col9\" >0.000000</td>\n",
              "                        <td id=\"T_ac4fc384_5ae7_11eb_b4f9_0242ac1c0002row6_col10\" class=\"data row6 col10\" >0.000000</td>\n",
              "                        <td id=\"T_ac4fc384_5ae7_11eb_b4f9_0242ac1c0002row6_col11\" class=\"data row6 col11\" >174.000000</td>\n",
              "                        <td id=\"T_ac4fc384_5ae7_11eb_b4f9_0242ac1c0002row6_col12\" class=\"data row6 col12\" >253.000000</td>\n",
              "                        <td id=\"T_ac4fc384_5ae7_11eb_b4f9_0242ac1c0002row6_col13\" class=\"data row6 col13\" >253.000000</td>\n",
              "                        <td id=\"T_ac4fc384_5ae7_11eb_b4f9_0242ac1c0002row6_col14\" class=\"data row6 col14\" >253.000000</td>\n",
              "                        <td id=\"T_ac4fc384_5ae7_11eb_b4f9_0242ac1c0002row6_col15\" class=\"data row6 col15\" >253.000000</td>\n",
              "                        <td id=\"T_ac4fc384_5ae7_11eb_b4f9_0242ac1c0002row6_col16\" class=\"data row6 col16\" >253.000000</td>\n",
              "                        <td id=\"T_ac4fc384_5ae7_11eb_b4f9_0242ac1c0002row6_col17\" class=\"data row6 col17\" >253.000000</td>\n",
              "                        <td id=\"T_ac4fc384_5ae7_11eb_b4f9_0242ac1c0002row6_col18\" class=\"data row6 col18\" >253.000000</td>\n",
              "                        <td id=\"T_ac4fc384_5ae7_11eb_b4f9_0242ac1c0002row6_col19\" class=\"data row6 col19\" >253.000000</td>\n",
              "                        <td id=\"T_ac4fc384_5ae7_11eb_b4f9_0242ac1c0002row6_col20\" class=\"data row6 col20\" >38.000000</td>\n",
              "                        <td id=\"T_ac4fc384_5ae7_11eb_b4f9_0242ac1c0002row6_col21\" class=\"data row6 col21\" >0.000000</td>\n",
              "                        <td id=\"T_ac4fc384_5ae7_11eb_b4f9_0242ac1c0002row6_col22\" class=\"data row6 col22\" >0.000000</td>\n",
              "                        <td id=\"T_ac4fc384_5ae7_11eb_b4f9_0242ac1c0002row6_col23\" class=\"data row6 col23\" >0.000000</td>\n",
              "                        <td id=\"T_ac4fc384_5ae7_11eb_b4f9_0242ac1c0002row6_col24\" class=\"data row6 col24\" >0.000000</td>\n",
              "                        <td id=\"T_ac4fc384_5ae7_11eb_b4f9_0242ac1c0002row6_col25\" class=\"data row6 col25\" >0.000000</td>\n",
              "                        <td id=\"T_ac4fc384_5ae7_11eb_b4f9_0242ac1c0002row6_col26\" class=\"data row6 col26\" >0.000000</td>\n",
              "                        <td id=\"T_ac4fc384_5ae7_11eb_b4f9_0242ac1c0002row6_col27\" class=\"data row6 col27\" >0.000000</td>\n",
              "            </tr>\n",
              "            <tr>\n",
              "                        <th id=\"T_ac4fc384_5ae7_11eb_b4f9_0242ac1c0002level0_row7\" class=\"row_heading level0 row7\" >7</th>\n",
              "                        <td id=\"T_ac4fc384_5ae7_11eb_b4f9_0242ac1c0002row7_col0\" class=\"data row7 col0\" >0.000000</td>\n",
              "                        <td id=\"T_ac4fc384_5ae7_11eb_b4f9_0242ac1c0002row7_col1\" class=\"data row7 col1\" >0.000000</td>\n",
              "                        <td id=\"T_ac4fc384_5ae7_11eb_b4f9_0242ac1c0002row7_col2\" class=\"data row7 col2\" >0.000000</td>\n",
              "                        <td id=\"T_ac4fc384_5ae7_11eb_b4f9_0242ac1c0002row7_col3\" class=\"data row7 col3\" >0.000000</td>\n",
              "                        <td id=\"T_ac4fc384_5ae7_11eb_b4f9_0242ac1c0002row7_col4\" class=\"data row7 col4\" >0.000000</td>\n",
              "                        <td id=\"T_ac4fc384_5ae7_11eb_b4f9_0242ac1c0002row7_col5\" class=\"data row7 col5\" >0.000000</td>\n",
              "                        <td id=\"T_ac4fc384_5ae7_11eb_b4f9_0242ac1c0002row7_col6\" class=\"data row7 col6\" >0.000000</td>\n",
              "                        <td id=\"T_ac4fc384_5ae7_11eb_b4f9_0242ac1c0002row7_col7\" class=\"data row7 col7\" >0.000000</td>\n",
              "                        <td id=\"T_ac4fc384_5ae7_11eb_b4f9_0242ac1c0002row7_col8\" class=\"data row7 col8\" >0.000000</td>\n",
              "                        <td id=\"T_ac4fc384_5ae7_11eb_b4f9_0242ac1c0002row7_col9\" class=\"data row7 col9\" >15.000000</td>\n",
              "                        <td id=\"T_ac4fc384_5ae7_11eb_b4f9_0242ac1c0002row7_col10\" class=\"data row7 col10\" >93.000000</td>\n",
              "                        <td id=\"T_ac4fc384_5ae7_11eb_b4f9_0242ac1c0002row7_col11\" class=\"data row7 col11\" >244.000000</td>\n",
              "                        <td id=\"T_ac4fc384_5ae7_11eb_b4f9_0242ac1c0002row7_col12\" class=\"data row7 col12\" >253.000000</td>\n",
              "                        <td id=\"T_ac4fc384_5ae7_11eb_b4f9_0242ac1c0002row7_col13\" class=\"data row7 col13\" >253.000000</td>\n",
              "                        <td id=\"T_ac4fc384_5ae7_11eb_b4f9_0242ac1c0002row7_col14\" class=\"data row7 col14\" >122.000000</td>\n",
              "                        <td id=\"T_ac4fc384_5ae7_11eb_b4f9_0242ac1c0002row7_col15\" class=\"data row7 col15\" >115.000000</td>\n",
              "                        <td id=\"T_ac4fc384_5ae7_11eb_b4f9_0242ac1c0002row7_col16\" class=\"data row7 col16\" >160.000000</td>\n",
              "                        <td id=\"T_ac4fc384_5ae7_11eb_b4f9_0242ac1c0002row7_col17\" class=\"data row7 col17\" >186.000000</td>\n",
              "                        <td id=\"T_ac4fc384_5ae7_11eb_b4f9_0242ac1c0002row7_col18\" class=\"data row7 col18\" >253.000000</td>\n",
              "                        <td id=\"T_ac4fc384_5ae7_11eb_b4f9_0242ac1c0002row7_col19\" class=\"data row7 col19\" >253.000000</td>\n",
              "                        <td id=\"T_ac4fc384_5ae7_11eb_b4f9_0242ac1c0002row7_col20\" class=\"data row7 col20\" >187.000000</td>\n",
              "                        <td id=\"T_ac4fc384_5ae7_11eb_b4f9_0242ac1c0002row7_col21\" class=\"data row7 col21\" >0.000000</td>\n",
              "                        <td id=\"T_ac4fc384_5ae7_11eb_b4f9_0242ac1c0002row7_col22\" class=\"data row7 col22\" >0.000000</td>\n",
              "                        <td id=\"T_ac4fc384_5ae7_11eb_b4f9_0242ac1c0002row7_col23\" class=\"data row7 col23\" >0.000000</td>\n",
              "                        <td id=\"T_ac4fc384_5ae7_11eb_b4f9_0242ac1c0002row7_col24\" class=\"data row7 col24\" >0.000000</td>\n",
              "                        <td id=\"T_ac4fc384_5ae7_11eb_b4f9_0242ac1c0002row7_col25\" class=\"data row7 col25\" >0.000000</td>\n",
              "                        <td id=\"T_ac4fc384_5ae7_11eb_b4f9_0242ac1c0002row7_col26\" class=\"data row7 col26\" >0.000000</td>\n",
              "                        <td id=\"T_ac4fc384_5ae7_11eb_b4f9_0242ac1c0002row7_col27\" class=\"data row7 col27\" >0.000000</td>\n",
              "            </tr>\n",
              "            <tr>\n",
              "                        <th id=\"T_ac4fc384_5ae7_11eb_b4f9_0242ac1c0002level0_row8\" class=\"row_heading level0 row8\" >8</th>\n",
              "                        <td id=\"T_ac4fc384_5ae7_11eb_b4f9_0242ac1c0002row8_col0\" class=\"data row8 col0\" >0.000000</td>\n",
              "                        <td id=\"T_ac4fc384_5ae7_11eb_b4f9_0242ac1c0002row8_col1\" class=\"data row8 col1\" >0.000000</td>\n",
              "                        <td id=\"T_ac4fc384_5ae7_11eb_b4f9_0242ac1c0002row8_col2\" class=\"data row8 col2\" >0.000000</td>\n",
              "                        <td id=\"T_ac4fc384_5ae7_11eb_b4f9_0242ac1c0002row8_col3\" class=\"data row8 col3\" >0.000000</td>\n",
              "                        <td id=\"T_ac4fc384_5ae7_11eb_b4f9_0242ac1c0002row8_col4\" class=\"data row8 col4\" >0.000000</td>\n",
              "                        <td id=\"T_ac4fc384_5ae7_11eb_b4f9_0242ac1c0002row8_col5\" class=\"data row8 col5\" >0.000000</td>\n",
              "                        <td id=\"T_ac4fc384_5ae7_11eb_b4f9_0242ac1c0002row8_col6\" class=\"data row8 col6\" >0.000000</td>\n",
              "                        <td id=\"T_ac4fc384_5ae7_11eb_b4f9_0242ac1c0002row8_col7\" class=\"data row8 col7\" >0.000000</td>\n",
              "                        <td id=\"T_ac4fc384_5ae7_11eb_b4f9_0242ac1c0002row8_col8\" class=\"data row8 col8\" >0.000000</td>\n",
              "                        <td id=\"T_ac4fc384_5ae7_11eb_b4f9_0242ac1c0002row8_col9\" class=\"data row8 col9\" >39.000000</td>\n",
              "                        <td id=\"T_ac4fc384_5ae7_11eb_b4f9_0242ac1c0002row8_col10\" class=\"data row8 col10\" >253.000000</td>\n",
              "                        <td id=\"T_ac4fc384_5ae7_11eb_b4f9_0242ac1c0002row8_col11\" class=\"data row8 col11\" >253.000000</td>\n",
              "                        <td id=\"T_ac4fc384_5ae7_11eb_b4f9_0242ac1c0002row8_col12\" class=\"data row8 col12\" >253.000000</td>\n",
              "                        <td id=\"T_ac4fc384_5ae7_11eb_b4f9_0242ac1c0002row8_col13\" class=\"data row8 col13\" >153.000000</td>\n",
              "                        <td id=\"T_ac4fc384_5ae7_11eb_b4f9_0242ac1c0002row8_col14\" class=\"data row8 col14\" >6.000000</td>\n",
              "                        <td id=\"T_ac4fc384_5ae7_11eb_b4f9_0242ac1c0002row8_col15\" class=\"data row8 col15\" >0.000000</td>\n",
              "                        <td id=\"T_ac4fc384_5ae7_11eb_b4f9_0242ac1c0002row8_col16\" class=\"data row8 col16\" >0.000000</td>\n",
              "                        <td id=\"T_ac4fc384_5ae7_11eb_b4f9_0242ac1c0002row8_col17\" class=\"data row8 col17\" >17.000000</td>\n",
              "                        <td id=\"T_ac4fc384_5ae7_11eb_b4f9_0242ac1c0002row8_col18\" class=\"data row8 col18\" >70.000000</td>\n",
              "                        <td id=\"T_ac4fc384_5ae7_11eb_b4f9_0242ac1c0002row8_col19\" class=\"data row8 col19\" >232.000000</td>\n",
              "                        <td id=\"T_ac4fc384_5ae7_11eb_b4f9_0242ac1c0002row8_col20\" class=\"data row8 col20\" >201.000000</td>\n",
              "                        <td id=\"T_ac4fc384_5ae7_11eb_b4f9_0242ac1c0002row8_col21\" class=\"data row8 col21\" >14.000000</td>\n",
              "                        <td id=\"T_ac4fc384_5ae7_11eb_b4f9_0242ac1c0002row8_col22\" class=\"data row8 col22\" >0.000000</td>\n",
              "                        <td id=\"T_ac4fc384_5ae7_11eb_b4f9_0242ac1c0002row8_col23\" class=\"data row8 col23\" >0.000000</td>\n",
              "                        <td id=\"T_ac4fc384_5ae7_11eb_b4f9_0242ac1c0002row8_col24\" class=\"data row8 col24\" >0.000000</td>\n",
              "                        <td id=\"T_ac4fc384_5ae7_11eb_b4f9_0242ac1c0002row8_col25\" class=\"data row8 col25\" >0.000000</td>\n",
              "                        <td id=\"T_ac4fc384_5ae7_11eb_b4f9_0242ac1c0002row8_col26\" class=\"data row8 col26\" >0.000000</td>\n",
              "                        <td id=\"T_ac4fc384_5ae7_11eb_b4f9_0242ac1c0002row8_col27\" class=\"data row8 col27\" >0.000000</td>\n",
              "            </tr>\n",
              "            <tr>\n",
              "                        <th id=\"T_ac4fc384_5ae7_11eb_b4f9_0242ac1c0002level0_row9\" class=\"row_heading level0 row9\" >9</th>\n",
              "                        <td id=\"T_ac4fc384_5ae7_11eb_b4f9_0242ac1c0002row9_col0\" class=\"data row9 col0\" >0.000000</td>\n",
              "                        <td id=\"T_ac4fc384_5ae7_11eb_b4f9_0242ac1c0002row9_col1\" class=\"data row9 col1\" >0.000000</td>\n",
              "                        <td id=\"T_ac4fc384_5ae7_11eb_b4f9_0242ac1c0002row9_col2\" class=\"data row9 col2\" >0.000000</td>\n",
              "                        <td id=\"T_ac4fc384_5ae7_11eb_b4f9_0242ac1c0002row9_col3\" class=\"data row9 col3\" >0.000000</td>\n",
              "                        <td id=\"T_ac4fc384_5ae7_11eb_b4f9_0242ac1c0002row9_col4\" class=\"data row9 col4\" >0.000000</td>\n",
              "                        <td id=\"T_ac4fc384_5ae7_11eb_b4f9_0242ac1c0002row9_col5\" class=\"data row9 col5\" >0.000000</td>\n",
              "                        <td id=\"T_ac4fc384_5ae7_11eb_b4f9_0242ac1c0002row9_col6\" class=\"data row9 col6\" >0.000000</td>\n",
              "                        <td id=\"T_ac4fc384_5ae7_11eb_b4f9_0242ac1c0002row9_col7\" class=\"data row9 col7\" >0.000000</td>\n",
              "                        <td id=\"T_ac4fc384_5ae7_11eb_b4f9_0242ac1c0002row9_col8\" class=\"data row9 col8\" >0.000000</td>\n",
              "                        <td id=\"T_ac4fc384_5ae7_11eb_b4f9_0242ac1c0002row9_col9\" class=\"data row9 col9\" >124.000000</td>\n",
              "                        <td id=\"T_ac4fc384_5ae7_11eb_b4f9_0242ac1c0002row9_col10\" class=\"data row9 col10\" >253.000000</td>\n",
              "                        <td id=\"T_ac4fc384_5ae7_11eb_b4f9_0242ac1c0002row9_col11\" class=\"data row9 col11\" >253.000000</td>\n",
              "                        <td id=\"T_ac4fc384_5ae7_11eb_b4f9_0242ac1c0002row9_col12\" class=\"data row9 col12\" >253.000000</td>\n",
              "                        <td id=\"T_ac4fc384_5ae7_11eb_b4f9_0242ac1c0002row9_col13\" class=\"data row9 col13\" >123.000000</td>\n",
              "                        <td id=\"T_ac4fc384_5ae7_11eb_b4f9_0242ac1c0002row9_col14\" class=\"data row9 col14\" >0.000000</td>\n",
              "                        <td id=\"T_ac4fc384_5ae7_11eb_b4f9_0242ac1c0002row9_col15\" class=\"data row9 col15\" >0.000000</td>\n",
              "                        <td id=\"T_ac4fc384_5ae7_11eb_b4f9_0242ac1c0002row9_col16\" class=\"data row9 col16\" >0.000000</td>\n",
              "                        <td id=\"T_ac4fc384_5ae7_11eb_b4f9_0242ac1c0002row9_col17\" class=\"data row9 col17\" >0.000000</td>\n",
              "                        <td id=\"T_ac4fc384_5ae7_11eb_b4f9_0242ac1c0002row9_col18\" class=\"data row9 col18\" >0.000000</td>\n",
              "                        <td id=\"T_ac4fc384_5ae7_11eb_b4f9_0242ac1c0002row9_col19\" class=\"data row9 col19\" >53.000000</td>\n",
              "                        <td id=\"T_ac4fc384_5ae7_11eb_b4f9_0242ac1c0002row9_col20\" class=\"data row9 col20\" >233.000000</td>\n",
              "                        <td id=\"T_ac4fc384_5ae7_11eb_b4f9_0242ac1c0002row9_col21\" class=\"data row9 col21\" >175.000000</td>\n",
              "                        <td id=\"T_ac4fc384_5ae7_11eb_b4f9_0242ac1c0002row9_col22\" class=\"data row9 col22\" >0.000000</td>\n",
              "                        <td id=\"T_ac4fc384_5ae7_11eb_b4f9_0242ac1c0002row9_col23\" class=\"data row9 col23\" >0.000000</td>\n",
              "                        <td id=\"T_ac4fc384_5ae7_11eb_b4f9_0242ac1c0002row9_col24\" class=\"data row9 col24\" >0.000000</td>\n",
              "                        <td id=\"T_ac4fc384_5ae7_11eb_b4f9_0242ac1c0002row9_col25\" class=\"data row9 col25\" >0.000000</td>\n",
              "                        <td id=\"T_ac4fc384_5ae7_11eb_b4f9_0242ac1c0002row9_col26\" class=\"data row9 col26\" >0.000000</td>\n",
              "                        <td id=\"T_ac4fc384_5ae7_11eb_b4f9_0242ac1c0002row9_col27\" class=\"data row9 col27\" >0.000000</td>\n",
              "            </tr>\n",
              "            <tr>\n",
              "                        <th id=\"T_ac4fc384_5ae7_11eb_b4f9_0242ac1c0002level0_row10\" class=\"row_heading level0 row10\" >10</th>\n",
              "                        <td id=\"T_ac4fc384_5ae7_11eb_b4f9_0242ac1c0002row10_col0\" class=\"data row10 col0\" >0.000000</td>\n",
              "                        <td id=\"T_ac4fc384_5ae7_11eb_b4f9_0242ac1c0002row10_col1\" class=\"data row10 col1\" >0.000000</td>\n",
              "                        <td id=\"T_ac4fc384_5ae7_11eb_b4f9_0242ac1c0002row10_col2\" class=\"data row10 col2\" >0.000000</td>\n",
              "                        <td id=\"T_ac4fc384_5ae7_11eb_b4f9_0242ac1c0002row10_col3\" class=\"data row10 col3\" >0.000000</td>\n",
              "                        <td id=\"T_ac4fc384_5ae7_11eb_b4f9_0242ac1c0002row10_col4\" class=\"data row10 col4\" >0.000000</td>\n",
              "                        <td id=\"T_ac4fc384_5ae7_11eb_b4f9_0242ac1c0002row10_col5\" class=\"data row10 col5\" >0.000000</td>\n",
              "                        <td id=\"T_ac4fc384_5ae7_11eb_b4f9_0242ac1c0002row10_col6\" class=\"data row10 col6\" >0.000000</td>\n",
              "                        <td id=\"T_ac4fc384_5ae7_11eb_b4f9_0242ac1c0002row10_col7\" class=\"data row10 col7\" >0.000000</td>\n",
              "                        <td id=\"T_ac4fc384_5ae7_11eb_b4f9_0242ac1c0002row10_col8\" class=\"data row10 col8\" >32.000000</td>\n",
              "                        <td id=\"T_ac4fc384_5ae7_11eb_b4f9_0242ac1c0002row10_col9\" class=\"data row10 col9\" >213.000000</td>\n",
              "                        <td id=\"T_ac4fc384_5ae7_11eb_b4f9_0242ac1c0002row10_col10\" class=\"data row10 col10\" >253.000000</td>\n",
              "                        <td id=\"T_ac4fc384_5ae7_11eb_b4f9_0242ac1c0002row10_col11\" class=\"data row10 col11\" >253.000000</td>\n",
              "                        <td id=\"T_ac4fc384_5ae7_11eb_b4f9_0242ac1c0002row10_col12\" class=\"data row10 col12\" >243.000000</td>\n",
              "                        <td id=\"T_ac4fc384_5ae7_11eb_b4f9_0242ac1c0002row10_col13\" class=\"data row10 col13\" >82.000000</td>\n",
              "                        <td id=\"T_ac4fc384_5ae7_11eb_b4f9_0242ac1c0002row10_col14\" class=\"data row10 col14\" >0.000000</td>\n",
              "                        <td id=\"T_ac4fc384_5ae7_11eb_b4f9_0242ac1c0002row10_col15\" class=\"data row10 col15\" >0.000000</td>\n",
              "                        <td id=\"T_ac4fc384_5ae7_11eb_b4f9_0242ac1c0002row10_col16\" class=\"data row10 col16\" >0.000000</td>\n",
              "                        <td id=\"T_ac4fc384_5ae7_11eb_b4f9_0242ac1c0002row10_col17\" class=\"data row10 col17\" >0.000000</td>\n",
              "                        <td id=\"T_ac4fc384_5ae7_11eb_b4f9_0242ac1c0002row10_col18\" class=\"data row10 col18\" >0.000000</td>\n",
              "                        <td id=\"T_ac4fc384_5ae7_11eb_b4f9_0242ac1c0002row10_col19\" class=\"data row10 col19\" >0.000000</td>\n",
              "                        <td id=\"T_ac4fc384_5ae7_11eb_b4f9_0242ac1c0002row10_col20\" class=\"data row10 col20\" >216.000000</td>\n",
              "                        <td id=\"T_ac4fc384_5ae7_11eb_b4f9_0242ac1c0002row10_col21\" class=\"data row10 col21\" >245.000000</td>\n",
              "                        <td id=\"T_ac4fc384_5ae7_11eb_b4f9_0242ac1c0002row10_col22\" class=\"data row10 col22\" >0.000000</td>\n",
              "                        <td id=\"T_ac4fc384_5ae7_11eb_b4f9_0242ac1c0002row10_col23\" class=\"data row10 col23\" >0.000000</td>\n",
              "                        <td id=\"T_ac4fc384_5ae7_11eb_b4f9_0242ac1c0002row10_col24\" class=\"data row10 col24\" >0.000000</td>\n",
              "                        <td id=\"T_ac4fc384_5ae7_11eb_b4f9_0242ac1c0002row10_col25\" class=\"data row10 col25\" >0.000000</td>\n",
              "                        <td id=\"T_ac4fc384_5ae7_11eb_b4f9_0242ac1c0002row10_col26\" class=\"data row10 col26\" >0.000000</td>\n",
              "                        <td id=\"T_ac4fc384_5ae7_11eb_b4f9_0242ac1c0002row10_col27\" class=\"data row10 col27\" >0.000000</td>\n",
              "            </tr>\n",
              "            <tr>\n",
              "                        <th id=\"T_ac4fc384_5ae7_11eb_b4f9_0242ac1c0002level0_row11\" class=\"row_heading level0 row11\" >11</th>\n",
              "                        <td id=\"T_ac4fc384_5ae7_11eb_b4f9_0242ac1c0002row11_col0\" class=\"data row11 col0\" >0.000000</td>\n",
              "                        <td id=\"T_ac4fc384_5ae7_11eb_b4f9_0242ac1c0002row11_col1\" class=\"data row11 col1\" >0.000000</td>\n",
              "                        <td id=\"T_ac4fc384_5ae7_11eb_b4f9_0242ac1c0002row11_col2\" class=\"data row11 col2\" >0.000000</td>\n",
              "                        <td id=\"T_ac4fc384_5ae7_11eb_b4f9_0242ac1c0002row11_col3\" class=\"data row11 col3\" >0.000000</td>\n",
              "                        <td id=\"T_ac4fc384_5ae7_11eb_b4f9_0242ac1c0002row11_col4\" class=\"data row11 col4\" >0.000000</td>\n",
              "                        <td id=\"T_ac4fc384_5ae7_11eb_b4f9_0242ac1c0002row11_col5\" class=\"data row11 col5\" >0.000000</td>\n",
              "                        <td id=\"T_ac4fc384_5ae7_11eb_b4f9_0242ac1c0002row11_col6\" class=\"data row11 col6\" >0.000000</td>\n",
              "                        <td id=\"T_ac4fc384_5ae7_11eb_b4f9_0242ac1c0002row11_col7\" class=\"data row11 col7\" >0.000000</td>\n",
              "                        <td id=\"T_ac4fc384_5ae7_11eb_b4f9_0242ac1c0002row11_col8\" class=\"data row11 col8\" >112.000000</td>\n",
              "                        <td id=\"T_ac4fc384_5ae7_11eb_b4f9_0242ac1c0002row11_col9\" class=\"data row11 col9\" >253.000000</td>\n",
              "                        <td id=\"T_ac4fc384_5ae7_11eb_b4f9_0242ac1c0002row11_col10\" class=\"data row11 col10\" >253.000000</td>\n",
              "                        <td id=\"T_ac4fc384_5ae7_11eb_b4f9_0242ac1c0002row11_col11\" class=\"data row11 col11\" >253.000000</td>\n",
              "                        <td id=\"T_ac4fc384_5ae7_11eb_b4f9_0242ac1c0002row11_col12\" class=\"data row11 col12\" >203.000000</td>\n",
              "                        <td id=\"T_ac4fc384_5ae7_11eb_b4f9_0242ac1c0002row11_col13\" class=\"data row11 col13\" >0.000000</td>\n",
              "                        <td id=\"T_ac4fc384_5ae7_11eb_b4f9_0242ac1c0002row11_col14\" class=\"data row11 col14\" >0.000000</td>\n",
              "                        <td id=\"T_ac4fc384_5ae7_11eb_b4f9_0242ac1c0002row11_col15\" class=\"data row11 col15\" >0.000000</td>\n",
              "                        <td id=\"T_ac4fc384_5ae7_11eb_b4f9_0242ac1c0002row11_col16\" class=\"data row11 col16\" >0.000000</td>\n",
              "                        <td id=\"T_ac4fc384_5ae7_11eb_b4f9_0242ac1c0002row11_col17\" class=\"data row11 col17\" >0.000000</td>\n",
              "                        <td id=\"T_ac4fc384_5ae7_11eb_b4f9_0242ac1c0002row11_col18\" class=\"data row11 col18\" >0.000000</td>\n",
              "                        <td id=\"T_ac4fc384_5ae7_11eb_b4f9_0242ac1c0002row11_col19\" class=\"data row11 col19\" >0.000000</td>\n",
              "                        <td id=\"T_ac4fc384_5ae7_11eb_b4f9_0242ac1c0002row11_col20\" class=\"data row11 col20\" >104.000000</td>\n",
              "                        <td id=\"T_ac4fc384_5ae7_11eb_b4f9_0242ac1c0002row11_col21\" class=\"data row11 col21\" >251.000000</td>\n",
              "                        <td id=\"T_ac4fc384_5ae7_11eb_b4f9_0242ac1c0002row11_col22\" class=\"data row11 col22\" >107.000000</td>\n",
              "                        <td id=\"T_ac4fc384_5ae7_11eb_b4f9_0242ac1c0002row11_col23\" class=\"data row11 col23\" >0.000000</td>\n",
              "                        <td id=\"T_ac4fc384_5ae7_11eb_b4f9_0242ac1c0002row11_col24\" class=\"data row11 col24\" >0.000000</td>\n",
              "                        <td id=\"T_ac4fc384_5ae7_11eb_b4f9_0242ac1c0002row11_col25\" class=\"data row11 col25\" >0.000000</td>\n",
              "                        <td id=\"T_ac4fc384_5ae7_11eb_b4f9_0242ac1c0002row11_col26\" class=\"data row11 col26\" >0.000000</td>\n",
              "                        <td id=\"T_ac4fc384_5ae7_11eb_b4f9_0242ac1c0002row11_col27\" class=\"data row11 col27\" >0.000000</td>\n",
              "            </tr>\n",
              "            <tr>\n",
              "                        <th id=\"T_ac4fc384_5ae7_11eb_b4f9_0242ac1c0002level0_row12\" class=\"row_heading level0 row12\" >12</th>\n",
              "                        <td id=\"T_ac4fc384_5ae7_11eb_b4f9_0242ac1c0002row12_col0\" class=\"data row12 col0\" >0.000000</td>\n",
              "                        <td id=\"T_ac4fc384_5ae7_11eb_b4f9_0242ac1c0002row12_col1\" class=\"data row12 col1\" >0.000000</td>\n",
              "                        <td id=\"T_ac4fc384_5ae7_11eb_b4f9_0242ac1c0002row12_col2\" class=\"data row12 col2\" >0.000000</td>\n",
              "                        <td id=\"T_ac4fc384_5ae7_11eb_b4f9_0242ac1c0002row12_col3\" class=\"data row12 col3\" >0.000000</td>\n",
              "                        <td id=\"T_ac4fc384_5ae7_11eb_b4f9_0242ac1c0002row12_col4\" class=\"data row12 col4\" >0.000000</td>\n",
              "                        <td id=\"T_ac4fc384_5ae7_11eb_b4f9_0242ac1c0002row12_col5\" class=\"data row12 col5\" >0.000000</td>\n",
              "                        <td id=\"T_ac4fc384_5ae7_11eb_b4f9_0242ac1c0002row12_col6\" class=\"data row12 col6\" >0.000000</td>\n",
              "                        <td id=\"T_ac4fc384_5ae7_11eb_b4f9_0242ac1c0002row12_col7\" class=\"data row12 col7\" >0.000000</td>\n",
              "                        <td id=\"T_ac4fc384_5ae7_11eb_b4f9_0242ac1c0002row12_col8\" class=\"data row12 col8\" >247.000000</td>\n",
              "                        <td id=\"T_ac4fc384_5ae7_11eb_b4f9_0242ac1c0002row12_col9\" class=\"data row12 col9\" >253.000000</td>\n",
              "                        <td id=\"T_ac4fc384_5ae7_11eb_b4f9_0242ac1c0002row12_col10\" class=\"data row12 col10\" >253.000000</td>\n",
              "                        <td id=\"T_ac4fc384_5ae7_11eb_b4f9_0242ac1c0002row12_col11\" class=\"data row12 col11\" >253.000000</td>\n",
              "                        <td id=\"T_ac4fc384_5ae7_11eb_b4f9_0242ac1c0002row12_col12\" class=\"data row12 col12\" >68.000000</td>\n",
              "                        <td id=\"T_ac4fc384_5ae7_11eb_b4f9_0242ac1c0002row12_col13\" class=\"data row12 col13\" >0.000000</td>\n",
              "                        <td id=\"T_ac4fc384_5ae7_11eb_b4f9_0242ac1c0002row12_col14\" class=\"data row12 col14\" >0.000000</td>\n",
              "                        <td id=\"T_ac4fc384_5ae7_11eb_b4f9_0242ac1c0002row12_col15\" class=\"data row12 col15\" >0.000000</td>\n",
              "                        <td id=\"T_ac4fc384_5ae7_11eb_b4f9_0242ac1c0002row12_col16\" class=\"data row12 col16\" >0.000000</td>\n",
              "                        <td id=\"T_ac4fc384_5ae7_11eb_b4f9_0242ac1c0002row12_col17\" class=\"data row12 col17\" >0.000000</td>\n",
              "                        <td id=\"T_ac4fc384_5ae7_11eb_b4f9_0242ac1c0002row12_col18\" class=\"data row12 col18\" >0.000000</td>\n",
              "                        <td id=\"T_ac4fc384_5ae7_11eb_b4f9_0242ac1c0002row12_col19\" class=\"data row12 col19\" >0.000000</td>\n",
              "                        <td id=\"T_ac4fc384_5ae7_11eb_b4f9_0242ac1c0002row12_col20\" class=\"data row12 col20\" >62.000000</td>\n",
              "                        <td id=\"T_ac4fc384_5ae7_11eb_b4f9_0242ac1c0002row12_col21\" class=\"data row12 col21\" >253.000000</td>\n",
              "                        <td id=\"T_ac4fc384_5ae7_11eb_b4f9_0242ac1c0002row12_col22\" class=\"data row12 col22\" >145.000000</td>\n",
              "                        <td id=\"T_ac4fc384_5ae7_11eb_b4f9_0242ac1c0002row12_col23\" class=\"data row12 col23\" >0.000000</td>\n",
              "                        <td id=\"T_ac4fc384_5ae7_11eb_b4f9_0242ac1c0002row12_col24\" class=\"data row12 col24\" >0.000000</td>\n",
              "                        <td id=\"T_ac4fc384_5ae7_11eb_b4f9_0242ac1c0002row12_col25\" class=\"data row12 col25\" >0.000000</td>\n",
              "                        <td id=\"T_ac4fc384_5ae7_11eb_b4f9_0242ac1c0002row12_col26\" class=\"data row12 col26\" >0.000000</td>\n",
              "                        <td id=\"T_ac4fc384_5ae7_11eb_b4f9_0242ac1c0002row12_col27\" class=\"data row12 col27\" >0.000000</td>\n",
              "            </tr>\n",
              "            <tr>\n",
              "                        <th id=\"T_ac4fc384_5ae7_11eb_b4f9_0242ac1c0002level0_row13\" class=\"row_heading level0 row13\" >13</th>\n",
              "                        <td id=\"T_ac4fc384_5ae7_11eb_b4f9_0242ac1c0002row13_col0\" class=\"data row13 col0\" >0.000000</td>\n",
              "                        <td id=\"T_ac4fc384_5ae7_11eb_b4f9_0242ac1c0002row13_col1\" class=\"data row13 col1\" >0.000000</td>\n",
              "                        <td id=\"T_ac4fc384_5ae7_11eb_b4f9_0242ac1c0002row13_col2\" class=\"data row13 col2\" >0.000000</td>\n",
              "                        <td id=\"T_ac4fc384_5ae7_11eb_b4f9_0242ac1c0002row13_col3\" class=\"data row13 col3\" >0.000000</td>\n",
              "                        <td id=\"T_ac4fc384_5ae7_11eb_b4f9_0242ac1c0002row13_col4\" class=\"data row13 col4\" >0.000000</td>\n",
              "                        <td id=\"T_ac4fc384_5ae7_11eb_b4f9_0242ac1c0002row13_col5\" class=\"data row13 col5\" >0.000000</td>\n",
              "                        <td id=\"T_ac4fc384_5ae7_11eb_b4f9_0242ac1c0002row13_col6\" class=\"data row13 col6\" >0.000000</td>\n",
              "                        <td id=\"T_ac4fc384_5ae7_11eb_b4f9_0242ac1c0002row13_col7\" class=\"data row13 col7\" >45.000000</td>\n",
              "                        <td id=\"T_ac4fc384_5ae7_11eb_b4f9_0242ac1c0002row13_col8\" class=\"data row13 col8\" >249.000000</td>\n",
              "                        <td id=\"T_ac4fc384_5ae7_11eb_b4f9_0242ac1c0002row13_col9\" class=\"data row13 col9\" >253.000000</td>\n",
              "                        <td id=\"T_ac4fc384_5ae7_11eb_b4f9_0242ac1c0002row13_col10\" class=\"data row13 col10\" >253.000000</td>\n",
              "                        <td id=\"T_ac4fc384_5ae7_11eb_b4f9_0242ac1c0002row13_col11\" class=\"data row13 col11\" >175.000000</td>\n",
              "                        <td id=\"T_ac4fc384_5ae7_11eb_b4f9_0242ac1c0002row13_col12\" class=\"data row13 col12\" >6.000000</td>\n",
              "                        <td id=\"T_ac4fc384_5ae7_11eb_b4f9_0242ac1c0002row13_col13\" class=\"data row13 col13\" >0.000000</td>\n",
              "                        <td id=\"T_ac4fc384_5ae7_11eb_b4f9_0242ac1c0002row13_col14\" class=\"data row13 col14\" >0.000000</td>\n",
              "                        <td id=\"T_ac4fc384_5ae7_11eb_b4f9_0242ac1c0002row13_col15\" class=\"data row13 col15\" >0.000000</td>\n",
              "                        <td id=\"T_ac4fc384_5ae7_11eb_b4f9_0242ac1c0002row13_col16\" class=\"data row13 col16\" >0.000000</td>\n",
              "                        <td id=\"T_ac4fc384_5ae7_11eb_b4f9_0242ac1c0002row13_col17\" class=\"data row13 col17\" >0.000000</td>\n",
              "                        <td id=\"T_ac4fc384_5ae7_11eb_b4f9_0242ac1c0002row13_col18\" class=\"data row13 col18\" >0.000000</td>\n",
              "                        <td id=\"T_ac4fc384_5ae7_11eb_b4f9_0242ac1c0002row13_col19\" class=\"data row13 col19\" >0.000000</td>\n",
              "                        <td id=\"T_ac4fc384_5ae7_11eb_b4f9_0242ac1c0002row13_col20\" class=\"data row13 col20\" >62.000000</td>\n",
              "                        <td id=\"T_ac4fc384_5ae7_11eb_b4f9_0242ac1c0002row13_col21\" class=\"data row13 col21\" >253.000000</td>\n",
              "                        <td id=\"T_ac4fc384_5ae7_11eb_b4f9_0242ac1c0002row13_col22\" class=\"data row13 col22\" >145.000000</td>\n",
              "                        <td id=\"T_ac4fc384_5ae7_11eb_b4f9_0242ac1c0002row13_col23\" class=\"data row13 col23\" >0.000000</td>\n",
              "                        <td id=\"T_ac4fc384_5ae7_11eb_b4f9_0242ac1c0002row13_col24\" class=\"data row13 col24\" >0.000000</td>\n",
              "                        <td id=\"T_ac4fc384_5ae7_11eb_b4f9_0242ac1c0002row13_col25\" class=\"data row13 col25\" >0.000000</td>\n",
              "                        <td id=\"T_ac4fc384_5ae7_11eb_b4f9_0242ac1c0002row13_col26\" class=\"data row13 col26\" >0.000000</td>\n",
              "                        <td id=\"T_ac4fc384_5ae7_11eb_b4f9_0242ac1c0002row13_col27\" class=\"data row13 col27\" >0.000000</td>\n",
              "            </tr>\n",
              "            <tr>\n",
              "                        <th id=\"T_ac4fc384_5ae7_11eb_b4f9_0242ac1c0002level0_row14\" class=\"row_heading level0 row14\" >14</th>\n",
              "                        <td id=\"T_ac4fc384_5ae7_11eb_b4f9_0242ac1c0002row14_col0\" class=\"data row14 col0\" >0.000000</td>\n",
              "                        <td id=\"T_ac4fc384_5ae7_11eb_b4f9_0242ac1c0002row14_col1\" class=\"data row14 col1\" >0.000000</td>\n",
              "                        <td id=\"T_ac4fc384_5ae7_11eb_b4f9_0242ac1c0002row14_col2\" class=\"data row14 col2\" >0.000000</td>\n",
              "                        <td id=\"T_ac4fc384_5ae7_11eb_b4f9_0242ac1c0002row14_col3\" class=\"data row14 col3\" >0.000000</td>\n",
              "                        <td id=\"T_ac4fc384_5ae7_11eb_b4f9_0242ac1c0002row14_col4\" class=\"data row14 col4\" >0.000000</td>\n",
              "                        <td id=\"T_ac4fc384_5ae7_11eb_b4f9_0242ac1c0002row14_col5\" class=\"data row14 col5\" >0.000000</td>\n",
              "                        <td id=\"T_ac4fc384_5ae7_11eb_b4f9_0242ac1c0002row14_col6\" class=\"data row14 col6\" >0.000000</td>\n",
              "                        <td id=\"T_ac4fc384_5ae7_11eb_b4f9_0242ac1c0002row14_col7\" class=\"data row14 col7\" >146.000000</td>\n",
              "                        <td id=\"T_ac4fc384_5ae7_11eb_b4f9_0242ac1c0002row14_col8\" class=\"data row14 col8\" >253.000000</td>\n",
              "                        <td id=\"T_ac4fc384_5ae7_11eb_b4f9_0242ac1c0002row14_col9\" class=\"data row14 col9\" >253.000000</td>\n",
              "                        <td id=\"T_ac4fc384_5ae7_11eb_b4f9_0242ac1c0002row14_col10\" class=\"data row14 col10\" >253.000000</td>\n",
              "                        <td id=\"T_ac4fc384_5ae7_11eb_b4f9_0242ac1c0002row14_col11\" class=\"data row14 col11\" >61.000000</td>\n",
              "                        <td id=\"T_ac4fc384_5ae7_11eb_b4f9_0242ac1c0002row14_col12\" class=\"data row14 col12\" >0.000000</td>\n",
              "                        <td id=\"T_ac4fc384_5ae7_11eb_b4f9_0242ac1c0002row14_col13\" class=\"data row14 col13\" >0.000000</td>\n",
              "                        <td id=\"T_ac4fc384_5ae7_11eb_b4f9_0242ac1c0002row14_col14\" class=\"data row14 col14\" >0.000000</td>\n",
              "                        <td id=\"T_ac4fc384_5ae7_11eb_b4f9_0242ac1c0002row14_col15\" class=\"data row14 col15\" >0.000000</td>\n",
              "                        <td id=\"T_ac4fc384_5ae7_11eb_b4f9_0242ac1c0002row14_col16\" class=\"data row14 col16\" >0.000000</td>\n",
              "                        <td id=\"T_ac4fc384_5ae7_11eb_b4f9_0242ac1c0002row14_col17\" class=\"data row14 col17\" >0.000000</td>\n",
              "                        <td id=\"T_ac4fc384_5ae7_11eb_b4f9_0242ac1c0002row14_col18\" class=\"data row14 col18\" >0.000000</td>\n",
              "                        <td id=\"T_ac4fc384_5ae7_11eb_b4f9_0242ac1c0002row14_col19\" class=\"data row14 col19\" >0.000000</td>\n",
              "                        <td id=\"T_ac4fc384_5ae7_11eb_b4f9_0242ac1c0002row14_col20\" class=\"data row14 col20\" >62.000000</td>\n",
              "                        <td id=\"T_ac4fc384_5ae7_11eb_b4f9_0242ac1c0002row14_col21\" class=\"data row14 col21\" >253.000000</td>\n",
              "                        <td id=\"T_ac4fc384_5ae7_11eb_b4f9_0242ac1c0002row14_col22\" class=\"data row14 col22\" >145.000000</td>\n",
              "                        <td id=\"T_ac4fc384_5ae7_11eb_b4f9_0242ac1c0002row14_col23\" class=\"data row14 col23\" >0.000000</td>\n",
              "                        <td id=\"T_ac4fc384_5ae7_11eb_b4f9_0242ac1c0002row14_col24\" class=\"data row14 col24\" >0.000000</td>\n",
              "                        <td id=\"T_ac4fc384_5ae7_11eb_b4f9_0242ac1c0002row14_col25\" class=\"data row14 col25\" >0.000000</td>\n",
              "                        <td id=\"T_ac4fc384_5ae7_11eb_b4f9_0242ac1c0002row14_col26\" class=\"data row14 col26\" >0.000000</td>\n",
              "                        <td id=\"T_ac4fc384_5ae7_11eb_b4f9_0242ac1c0002row14_col27\" class=\"data row14 col27\" >0.000000</td>\n",
              "            </tr>\n",
              "            <tr>\n",
              "                        <th id=\"T_ac4fc384_5ae7_11eb_b4f9_0242ac1c0002level0_row15\" class=\"row_heading level0 row15\" >15</th>\n",
              "                        <td id=\"T_ac4fc384_5ae7_11eb_b4f9_0242ac1c0002row15_col0\" class=\"data row15 col0\" >0.000000</td>\n",
              "                        <td id=\"T_ac4fc384_5ae7_11eb_b4f9_0242ac1c0002row15_col1\" class=\"data row15 col1\" >0.000000</td>\n",
              "                        <td id=\"T_ac4fc384_5ae7_11eb_b4f9_0242ac1c0002row15_col2\" class=\"data row15 col2\" >0.000000</td>\n",
              "                        <td id=\"T_ac4fc384_5ae7_11eb_b4f9_0242ac1c0002row15_col3\" class=\"data row15 col3\" >0.000000</td>\n",
              "                        <td id=\"T_ac4fc384_5ae7_11eb_b4f9_0242ac1c0002row15_col4\" class=\"data row15 col4\" >0.000000</td>\n",
              "                        <td id=\"T_ac4fc384_5ae7_11eb_b4f9_0242ac1c0002row15_col5\" class=\"data row15 col5\" >0.000000</td>\n",
              "                        <td id=\"T_ac4fc384_5ae7_11eb_b4f9_0242ac1c0002row15_col6\" class=\"data row15 col6\" >0.000000</td>\n",
              "                        <td id=\"T_ac4fc384_5ae7_11eb_b4f9_0242ac1c0002row15_col7\" class=\"data row15 col7\" >146.000000</td>\n",
              "                        <td id=\"T_ac4fc384_5ae7_11eb_b4f9_0242ac1c0002row15_col8\" class=\"data row15 col8\" >253.000000</td>\n",
              "                        <td id=\"T_ac4fc384_5ae7_11eb_b4f9_0242ac1c0002row15_col9\" class=\"data row15 col9\" >253.000000</td>\n",
              "                        <td id=\"T_ac4fc384_5ae7_11eb_b4f9_0242ac1c0002row15_col10\" class=\"data row15 col10\" >185.000000</td>\n",
              "                        <td id=\"T_ac4fc384_5ae7_11eb_b4f9_0242ac1c0002row15_col11\" class=\"data row15 col11\" >8.000000</td>\n",
              "                        <td id=\"T_ac4fc384_5ae7_11eb_b4f9_0242ac1c0002row15_col12\" class=\"data row15 col12\" >0.000000</td>\n",
              "                        <td id=\"T_ac4fc384_5ae7_11eb_b4f9_0242ac1c0002row15_col13\" class=\"data row15 col13\" >0.000000</td>\n",
              "                        <td id=\"T_ac4fc384_5ae7_11eb_b4f9_0242ac1c0002row15_col14\" class=\"data row15 col14\" >0.000000</td>\n",
              "                        <td id=\"T_ac4fc384_5ae7_11eb_b4f9_0242ac1c0002row15_col15\" class=\"data row15 col15\" >0.000000</td>\n",
              "                        <td id=\"T_ac4fc384_5ae7_11eb_b4f9_0242ac1c0002row15_col16\" class=\"data row15 col16\" >0.000000</td>\n",
              "                        <td id=\"T_ac4fc384_5ae7_11eb_b4f9_0242ac1c0002row15_col17\" class=\"data row15 col17\" >0.000000</td>\n",
              "                        <td id=\"T_ac4fc384_5ae7_11eb_b4f9_0242ac1c0002row15_col18\" class=\"data row15 col18\" >0.000000</td>\n",
              "                        <td id=\"T_ac4fc384_5ae7_11eb_b4f9_0242ac1c0002row15_col19\" class=\"data row15 col19\" >0.000000</td>\n",
              "                        <td id=\"T_ac4fc384_5ae7_11eb_b4f9_0242ac1c0002row15_col20\" class=\"data row15 col20\" >62.000000</td>\n",
              "                        <td id=\"T_ac4fc384_5ae7_11eb_b4f9_0242ac1c0002row15_col21\" class=\"data row15 col21\" >253.000000</td>\n",
              "                        <td id=\"T_ac4fc384_5ae7_11eb_b4f9_0242ac1c0002row15_col22\" class=\"data row15 col22\" >145.000000</td>\n",
              "                        <td id=\"T_ac4fc384_5ae7_11eb_b4f9_0242ac1c0002row15_col23\" class=\"data row15 col23\" >0.000000</td>\n",
              "                        <td id=\"T_ac4fc384_5ae7_11eb_b4f9_0242ac1c0002row15_col24\" class=\"data row15 col24\" >0.000000</td>\n",
              "                        <td id=\"T_ac4fc384_5ae7_11eb_b4f9_0242ac1c0002row15_col25\" class=\"data row15 col25\" >0.000000</td>\n",
              "                        <td id=\"T_ac4fc384_5ae7_11eb_b4f9_0242ac1c0002row15_col26\" class=\"data row15 col26\" >0.000000</td>\n",
              "                        <td id=\"T_ac4fc384_5ae7_11eb_b4f9_0242ac1c0002row15_col27\" class=\"data row15 col27\" >0.000000</td>\n",
              "            </tr>\n",
              "            <tr>\n",
              "                        <th id=\"T_ac4fc384_5ae7_11eb_b4f9_0242ac1c0002level0_row16\" class=\"row_heading level0 row16\" >16</th>\n",
              "                        <td id=\"T_ac4fc384_5ae7_11eb_b4f9_0242ac1c0002row16_col0\" class=\"data row16 col0\" >0.000000</td>\n",
              "                        <td id=\"T_ac4fc384_5ae7_11eb_b4f9_0242ac1c0002row16_col1\" class=\"data row16 col1\" >0.000000</td>\n",
              "                        <td id=\"T_ac4fc384_5ae7_11eb_b4f9_0242ac1c0002row16_col2\" class=\"data row16 col2\" >0.000000</td>\n",
              "                        <td id=\"T_ac4fc384_5ae7_11eb_b4f9_0242ac1c0002row16_col3\" class=\"data row16 col3\" >0.000000</td>\n",
              "                        <td id=\"T_ac4fc384_5ae7_11eb_b4f9_0242ac1c0002row16_col4\" class=\"data row16 col4\" >0.000000</td>\n",
              "                        <td id=\"T_ac4fc384_5ae7_11eb_b4f9_0242ac1c0002row16_col5\" class=\"data row16 col5\" >0.000000</td>\n",
              "                        <td id=\"T_ac4fc384_5ae7_11eb_b4f9_0242ac1c0002row16_col6\" class=\"data row16 col6\" >41.000000</td>\n",
              "                        <td id=\"T_ac4fc384_5ae7_11eb_b4f9_0242ac1c0002row16_col7\" class=\"data row16 col7\" >241.000000</td>\n",
              "                        <td id=\"T_ac4fc384_5ae7_11eb_b4f9_0242ac1c0002row16_col8\" class=\"data row16 col8\" >253.000000</td>\n",
              "                        <td id=\"T_ac4fc384_5ae7_11eb_b4f9_0242ac1c0002row16_col9\" class=\"data row16 col9\" >219.000000</td>\n",
              "                        <td id=\"T_ac4fc384_5ae7_11eb_b4f9_0242ac1c0002row16_col10\" class=\"data row16 col10\" >14.000000</td>\n",
              "                        <td id=\"T_ac4fc384_5ae7_11eb_b4f9_0242ac1c0002row16_col11\" class=\"data row16 col11\" >0.000000</td>\n",
              "                        <td id=\"T_ac4fc384_5ae7_11eb_b4f9_0242ac1c0002row16_col12\" class=\"data row16 col12\" >0.000000</td>\n",
              "                        <td id=\"T_ac4fc384_5ae7_11eb_b4f9_0242ac1c0002row16_col13\" class=\"data row16 col13\" >0.000000</td>\n",
              "                        <td id=\"T_ac4fc384_5ae7_11eb_b4f9_0242ac1c0002row16_col14\" class=\"data row16 col14\" >0.000000</td>\n",
              "                        <td id=\"T_ac4fc384_5ae7_11eb_b4f9_0242ac1c0002row16_col15\" class=\"data row16 col15\" >0.000000</td>\n",
              "                        <td id=\"T_ac4fc384_5ae7_11eb_b4f9_0242ac1c0002row16_col16\" class=\"data row16 col16\" >0.000000</td>\n",
              "                        <td id=\"T_ac4fc384_5ae7_11eb_b4f9_0242ac1c0002row16_col17\" class=\"data row16 col17\" >0.000000</td>\n",
              "                        <td id=\"T_ac4fc384_5ae7_11eb_b4f9_0242ac1c0002row16_col18\" class=\"data row16 col18\" >0.000000</td>\n",
              "                        <td id=\"T_ac4fc384_5ae7_11eb_b4f9_0242ac1c0002row16_col19\" class=\"data row16 col19\" >0.000000</td>\n",
              "                        <td id=\"T_ac4fc384_5ae7_11eb_b4f9_0242ac1c0002row16_col20\" class=\"data row16 col20\" >62.000000</td>\n",
              "                        <td id=\"T_ac4fc384_5ae7_11eb_b4f9_0242ac1c0002row16_col21\" class=\"data row16 col21\" >253.000000</td>\n",
              "                        <td id=\"T_ac4fc384_5ae7_11eb_b4f9_0242ac1c0002row16_col22\" class=\"data row16 col22\" >145.000000</td>\n",
              "                        <td id=\"T_ac4fc384_5ae7_11eb_b4f9_0242ac1c0002row16_col23\" class=\"data row16 col23\" >0.000000</td>\n",
              "                        <td id=\"T_ac4fc384_5ae7_11eb_b4f9_0242ac1c0002row16_col24\" class=\"data row16 col24\" >0.000000</td>\n",
              "                        <td id=\"T_ac4fc384_5ae7_11eb_b4f9_0242ac1c0002row16_col25\" class=\"data row16 col25\" >0.000000</td>\n",
              "                        <td id=\"T_ac4fc384_5ae7_11eb_b4f9_0242ac1c0002row16_col26\" class=\"data row16 col26\" >0.000000</td>\n",
              "                        <td id=\"T_ac4fc384_5ae7_11eb_b4f9_0242ac1c0002row16_col27\" class=\"data row16 col27\" >0.000000</td>\n",
              "            </tr>\n",
              "            <tr>\n",
              "                        <th id=\"T_ac4fc384_5ae7_11eb_b4f9_0242ac1c0002level0_row17\" class=\"row_heading level0 row17\" >17</th>\n",
              "                        <td id=\"T_ac4fc384_5ae7_11eb_b4f9_0242ac1c0002row17_col0\" class=\"data row17 col0\" >0.000000</td>\n",
              "                        <td id=\"T_ac4fc384_5ae7_11eb_b4f9_0242ac1c0002row17_col1\" class=\"data row17 col1\" >0.000000</td>\n",
              "                        <td id=\"T_ac4fc384_5ae7_11eb_b4f9_0242ac1c0002row17_col2\" class=\"data row17 col2\" >0.000000</td>\n",
              "                        <td id=\"T_ac4fc384_5ae7_11eb_b4f9_0242ac1c0002row17_col3\" class=\"data row17 col3\" >0.000000</td>\n",
              "                        <td id=\"T_ac4fc384_5ae7_11eb_b4f9_0242ac1c0002row17_col4\" class=\"data row17 col4\" >0.000000</td>\n",
              "                        <td id=\"T_ac4fc384_5ae7_11eb_b4f9_0242ac1c0002row17_col5\" class=\"data row17 col5\" >0.000000</td>\n",
              "                        <td id=\"T_ac4fc384_5ae7_11eb_b4f9_0242ac1c0002row17_col6\" class=\"data row17 col6\" >47.000000</td>\n",
              "                        <td id=\"T_ac4fc384_5ae7_11eb_b4f9_0242ac1c0002row17_col7\" class=\"data row17 col7\" >253.000000</td>\n",
              "                        <td id=\"T_ac4fc384_5ae7_11eb_b4f9_0242ac1c0002row17_col8\" class=\"data row17 col8\" >253.000000</td>\n",
              "                        <td id=\"T_ac4fc384_5ae7_11eb_b4f9_0242ac1c0002row17_col9\" class=\"data row17 col9\" >214.000000</td>\n",
              "                        <td id=\"T_ac4fc384_5ae7_11eb_b4f9_0242ac1c0002row17_col10\" class=\"data row17 col10\" >0.000000</td>\n",
              "                        <td id=\"T_ac4fc384_5ae7_11eb_b4f9_0242ac1c0002row17_col11\" class=\"data row17 col11\" >0.000000</td>\n",
              "                        <td id=\"T_ac4fc384_5ae7_11eb_b4f9_0242ac1c0002row17_col12\" class=\"data row17 col12\" >0.000000</td>\n",
              "                        <td id=\"T_ac4fc384_5ae7_11eb_b4f9_0242ac1c0002row17_col13\" class=\"data row17 col13\" >0.000000</td>\n",
              "                        <td id=\"T_ac4fc384_5ae7_11eb_b4f9_0242ac1c0002row17_col14\" class=\"data row17 col14\" >0.000000</td>\n",
              "                        <td id=\"T_ac4fc384_5ae7_11eb_b4f9_0242ac1c0002row17_col15\" class=\"data row17 col15\" >0.000000</td>\n",
              "                        <td id=\"T_ac4fc384_5ae7_11eb_b4f9_0242ac1c0002row17_col16\" class=\"data row17 col16\" >0.000000</td>\n",
              "                        <td id=\"T_ac4fc384_5ae7_11eb_b4f9_0242ac1c0002row17_col17\" class=\"data row17 col17\" >0.000000</td>\n",
              "                        <td id=\"T_ac4fc384_5ae7_11eb_b4f9_0242ac1c0002row17_col18\" class=\"data row17 col18\" >1.000000</td>\n",
              "                        <td id=\"T_ac4fc384_5ae7_11eb_b4f9_0242ac1c0002row17_col19\" class=\"data row17 col19\" >87.000000</td>\n",
              "                        <td id=\"T_ac4fc384_5ae7_11eb_b4f9_0242ac1c0002row17_col20\" class=\"data row17 col20\" >190.000000</td>\n",
              "                        <td id=\"T_ac4fc384_5ae7_11eb_b4f9_0242ac1c0002row17_col21\" class=\"data row17 col21\" >253.000000</td>\n",
              "                        <td id=\"T_ac4fc384_5ae7_11eb_b4f9_0242ac1c0002row17_col22\" class=\"data row17 col22\" >145.000000</td>\n",
              "                        <td id=\"T_ac4fc384_5ae7_11eb_b4f9_0242ac1c0002row17_col23\" class=\"data row17 col23\" >0.000000</td>\n",
              "                        <td id=\"T_ac4fc384_5ae7_11eb_b4f9_0242ac1c0002row17_col24\" class=\"data row17 col24\" >0.000000</td>\n",
              "                        <td id=\"T_ac4fc384_5ae7_11eb_b4f9_0242ac1c0002row17_col25\" class=\"data row17 col25\" >0.000000</td>\n",
              "                        <td id=\"T_ac4fc384_5ae7_11eb_b4f9_0242ac1c0002row17_col26\" class=\"data row17 col26\" >0.000000</td>\n",
              "                        <td id=\"T_ac4fc384_5ae7_11eb_b4f9_0242ac1c0002row17_col27\" class=\"data row17 col27\" >0.000000</td>\n",
              "            </tr>\n",
              "            <tr>\n",
              "                        <th id=\"T_ac4fc384_5ae7_11eb_b4f9_0242ac1c0002level0_row18\" class=\"row_heading level0 row18\" >18</th>\n",
              "                        <td id=\"T_ac4fc384_5ae7_11eb_b4f9_0242ac1c0002row18_col0\" class=\"data row18 col0\" >0.000000</td>\n",
              "                        <td id=\"T_ac4fc384_5ae7_11eb_b4f9_0242ac1c0002row18_col1\" class=\"data row18 col1\" >0.000000</td>\n",
              "                        <td id=\"T_ac4fc384_5ae7_11eb_b4f9_0242ac1c0002row18_col2\" class=\"data row18 col2\" >0.000000</td>\n",
              "                        <td id=\"T_ac4fc384_5ae7_11eb_b4f9_0242ac1c0002row18_col3\" class=\"data row18 col3\" >0.000000</td>\n",
              "                        <td id=\"T_ac4fc384_5ae7_11eb_b4f9_0242ac1c0002row18_col4\" class=\"data row18 col4\" >0.000000</td>\n",
              "                        <td id=\"T_ac4fc384_5ae7_11eb_b4f9_0242ac1c0002row18_col5\" class=\"data row18 col5\" >0.000000</td>\n",
              "                        <td id=\"T_ac4fc384_5ae7_11eb_b4f9_0242ac1c0002row18_col6\" class=\"data row18 col6\" >47.000000</td>\n",
              "                        <td id=\"T_ac4fc384_5ae7_11eb_b4f9_0242ac1c0002row18_col7\" class=\"data row18 col7\" >253.000000</td>\n",
              "                        <td id=\"T_ac4fc384_5ae7_11eb_b4f9_0242ac1c0002row18_col8\" class=\"data row18 col8\" >253.000000</td>\n",
              "                        <td id=\"T_ac4fc384_5ae7_11eb_b4f9_0242ac1c0002row18_col9\" class=\"data row18 col9\" >214.000000</td>\n",
              "                        <td id=\"T_ac4fc384_5ae7_11eb_b4f9_0242ac1c0002row18_col10\" class=\"data row18 col10\" >0.000000</td>\n",
              "                        <td id=\"T_ac4fc384_5ae7_11eb_b4f9_0242ac1c0002row18_col11\" class=\"data row18 col11\" >0.000000</td>\n",
              "                        <td id=\"T_ac4fc384_5ae7_11eb_b4f9_0242ac1c0002row18_col12\" class=\"data row18 col12\" >0.000000</td>\n",
              "                        <td id=\"T_ac4fc384_5ae7_11eb_b4f9_0242ac1c0002row18_col13\" class=\"data row18 col13\" >0.000000</td>\n",
              "                        <td id=\"T_ac4fc384_5ae7_11eb_b4f9_0242ac1c0002row18_col14\" class=\"data row18 col14\" >0.000000</td>\n",
              "                        <td id=\"T_ac4fc384_5ae7_11eb_b4f9_0242ac1c0002row18_col15\" class=\"data row18 col15\" >0.000000</td>\n",
              "                        <td id=\"T_ac4fc384_5ae7_11eb_b4f9_0242ac1c0002row18_col16\" class=\"data row18 col16\" >0.000000</td>\n",
              "                        <td id=\"T_ac4fc384_5ae7_11eb_b4f9_0242ac1c0002row18_col17\" class=\"data row18 col17\" >32.000000</td>\n",
              "                        <td id=\"T_ac4fc384_5ae7_11eb_b4f9_0242ac1c0002row18_col18\" class=\"data row18 col18\" >125.000000</td>\n",
              "                        <td id=\"T_ac4fc384_5ae7_11eb_b4f9_0242ac1c0002row18_col19\" class=\"data row18 col19\" >253.000000</td>\n",
              "                        <td id=\"T_ac4fc384_5ae7_11eb_b4f9_0242ac1c0002row18_col20\" class=\"data row18 col20\" >253.000000</td>\n",
              "                        <td id=\"T_ac4fc384_5ae7_11eb_b4f9_0242ac1c0002row18_col21\" class=\"data row18 col21\" >253.000000</td>\n",
              "                        <td id=\"T_ac4fc384_5ae7_11eb_b4f9_0242ac1c0002row18_col22\" class=\"data row18 col22\" >145.000000</td>\n",
              "                        <td id=\"T_ac4fc384_5ae7_11eb_b4f9_0242ac1c0002row18_col23\" class=\"data row18 col23\" >0.000000</td>\n",
              "                        <td id=\"T_ac4fc384_5ae7_11eb_b4f9_0242ac1c0002row18_col24\" class=\"data row18 col24\" >0.000000</td>\n",
              "                        <td id=\"T_ac4fc384_5ae7_11eb_b4f9_0242ac1c0002row18_col25\" class=\"data row18 col25\" >0.000000</td>\n",
              "                        <td id=\"T_ac4fc384_5ae7_11eb_b4f9_0242ac1c0002row18_col26\" class=\"data row18 col26\" >0.000000</td>\n",
              "                        <td id=\"T_ac4fc384_5ae7_11eb_b4f9_0242ac1c0002row18_col27\" class=\"data row18 col27\" >0.000000</td>\n",
              "            </tr>\n",
              "            <tr>\n",
              "                        <th id=\"T_ac4fc384_5ae7_11eb_b4f9_0242ac1c0002level0_row19\" class=\"row_heading level0 row19\" >19</th>\n",
              "                        <td id=\"T_ac4fc384_5ae7_11eb_b4f9_0242ac1c0002row19_col0\" class=\"data row19 col0\" >0.000000</td>\n",
              "                        <td id=\"T_ac4fc384_5ae7_11eb_b4f9_0242ac1c0002row19_col1\" class=\"data row19 col1\" >0.000000</td>\n",
              "                        <td id=\"T_ac4fc384_5ae7_11eb_b4f9_0242ac1c0002row19_col2\" class=\"data row19 col2\" >0.000000</td>\n",
              "                        <td id=\"T_ac4fc384_5ae7_11eb_b4f9_0242ac1c0002row19_col3\" class=\"data row19 col3\" >0.000000</td>\n",
              "                        <td id=\"T_ac4fc384_5ae7_11eb_b4f9_0242ac1c0002row19_col4\" class=\"data row19 col4\" >0.000000</td>\n",
              "                        <td id=\"T_ac4fc384_5ae7_11eb_b4f9_0242ac1c0002row19_col5\" class=\"data row19 col5\" >0.000000</td>\n",
              "                        <td id=\"T_ac4fc384_5ae7_11eb_b4f9_0242ac1c0002row19_col6\" class=\"data row19 col6\" >36.000000</td>\n",
              "                        <td id=\"T_ac4fc384_5ae7_11eb_b4f9_0242ac1c0002row19_col7\" class=\"data row19 col7\" >227.000000</td>\n",
              "                        <td id=\"T_ac4fc384_5ae7_11eb_b4f9_0242ac1c0002row19_col8\" class=\"data row19 col8\" >253.000000</td>\n",
              "                        <td id=\"T_ac4fc384_5ae7_11eb_b4f9_0242ac1c0002row19_col9\" class=\"data row19 col9\" >224.000000</td>\n",
              "                        <td id=\"T_ac4fc384_5ae7_11eb_b4f9_0242ac1c0002row19_col10\" class=\"data row19 col10\" >62.000000</td>\n",
              "                        <td id=\"T_ac4fc384_5ae7_11eb_b4f9_0242ac1c0002row19_col11\" class=\"data row19 col11\" >62.000000</td>\n",
              "                        <td id=\"T_ac4fc384_5ae7_11eb_b4f9_0242ac1c0002row19_col12\" class=\"data row19 col12\" >62.000000</td>\n",
              "                        <td id=\"T_ac4fc384_5ae7_11eb_b4f9_0242ac1c0002row19_col13\" class=\"data row19 col13\" >62.000000</td>\n",
              "                        <td id=\"T_ac4fc384_5ae7_11eb_b4f9_0242ac1c0002row19_col14\" class=\"data row19 col14\" >62.000000</td>\n",
              "                        <td id=\"T_ac4fc384_5ae7_11eb_b4f9_0242ac1c0002row19_col15\" class=\"data row19 col15\" >170.000000</td>\n",
              "                        <td id=\"T_ac4fc384_5ae7_11eb_b4f9_0242ac1c0002row19_col16\" class=\"data row19 col16\" >216.000000</td>\n",
              "                        <td id=\"T_ac4fc384_5ae7_11eb_b4f9_0242ac1c0002row19_col17\" class=\"data row19 col17\" >226.000000</td>\n",
              "                        <td id=\"T_ac4fc384_5ae7_11eb_b4f9_0242ac1c0002row19_col18\" class=\"data row19 col18\" >253.000000</td>\n",
              "                        <td id=\"T_ac4fc384_5ae7_11eb_b4f9_0242ac1c0002row19_col19\" class=\"data row19 col19\" >253.000000</td>\n",
              "                        <td id=\"T_ac4fc384_5ae7_11eb_b4f9_0242ac1c0002row19_col20\" class=\"data row19 col20\" >253.000000</td>\n",
              "                        <td id=\"T_ac4fc384_5ae7_11eb_b4f9_0242ac1c0002row19_col21\" class=\"data row19 col21\" >251.000000</td>\n",
              "                        <td id=\"T_ac4fc384_5ae7_11eb_b4f9_0242ac1c0002row19_col22\" class=\"data row19 col22\" >110.000000</td>\n",
              "                        <td id=\"T_ac4fc384_5ae7_11eb_b4f9_0242ac1c0002row19_col23\" class=\"data row19 col23\" >0.000000</td>\n",
              "                        <td id=\"T_ac4fc384_5ae7_11eb_b4f9_0242ac1c0002row19_col24\" class=\"data row19 col24\" >0.000000</td>\n",
              "                        <td id=\"T_ac4fc384_5ae7_11eb_b4f9_0242ac1c0002row19_col25\" class=\"data row19 col25\" >0.000000</td>\n",
              "                        <td id=\"T_ac4fc384_5ae7_11eb_b4f9_0242ac1c0002row19_col26\" class=\"data row19 col26\" >0.000000</td>\n",
              "                        <td id=\"T_ac4fc384_5ae7_11eb_b4f9_0242ac1c0002row19_col27\" class=\"data row19 col27\" >0.000000</td>\n",
              "            </tr>\n",
              "            <tr>\n",
              "                        <th id=\"T_ac4fc384_5ae7_11eb_b4f9_0242ac1c0002level0_row20\" class=\"row_heading level0 row20\" >20</th>\n",
              "                        <td id=\"T_ac4fc384_5ae7_11eb_b4f9_0242ac1c0002row20_col0\" class=\"data row20 col0\" >0.000000</td>\n",
              "                        <td id=\"T_ac4fc384_5ae7_11eb_b4f9_0242ac1c0002row20_col1\" class=\"data row20 col1\" >0.000000</td>\n",
              "                        <td id=\"T_ac4fc384_5ae7_11eb_b4f9_0242ac1c0002row20_col2\" class=\"data row20 col2\" >0.000000</td>\n",
              "                        <td id=\"T_ac4fc384_5ae7_11eb_b4f9_0242ac1c0002row20_col3\" class=\"data row20 col3\" >0.000000</td>\n",
              "                        <td id=\"T_ac4fc384_5ae7_11eb_b4f9_0242ac1c0002row20_col4\" class=\"data row20 col4\" >0.000000</td>\n",
              "                        <td id=\"T_ac4fc384_5ae7_11eb_b4f9_0242ac1c0002row20_col5\" class=\"data row20 col5\" >0.000000</td>\n",
              "                        <td id=\"T_ac4fc384_5ae7_11eb_b4f9_0242ac1c0002row20_col6\" class=\"data row20 col6\" >0.000000</td>\n",
              "                        <td id=\"T_ac4fc384_5ae7_11eb_b4f9_0242ac1c0002row20_col7\" class=\"data row20 col7\" >142.000000</td>\n",
              "                        <td id=\"T_ac4fc384_5ae7_11eb_b4f9_0242ac1c0002row20_col8\" class=\"data row20 col8\" >253.000000</td>\n",
              "                        <td id=\"T_ac4fc384_5ae7_11eb_b4f9_0242ac1c0002row20_col9\" class=\"data row20 col9\" >253.000000</td>\n",
              "                        <td id=\"T_ac4fc384_5ae7_11eb_b4f9_0242ac1c0002row20_col10\" class=\"data row20 col10\" >253.000000</td>\n",
              "                        <td id=\"T_ac4fc384_5ae7_11eb_b4f9_0242ac1c0002row20_col11\" class=\"data row20 col11\" >253.000000</td>\n",
              "                        <td id=\"T_ac4fc384_5ae7_11eb_b4f9_0242ac1c0002row20_col12\" class=\"data row20 col12\" >253.000000</td>\n",
              "                        <td id=\"T_ac4fc384_5ae7_11eb_b4f9_0242ac1c0002row20_col13\" class=\"data row20 col13\" >253.000000</td>\n",
              "                        <td id=\"T_ac4fc384_5ae7_11eb_b4f9_0242ac1c0002row20_col14\" class=\"data row20 col14\" >253.000000</td>\n",
              "                        <td id=\"T_ac4fc384_5ae7_11eb_b4f9_0242ac1c0002row20_col15\" class=\"data row20 col15\" >253.000000</td>\n",
              "                        <td id=\"T_ac4fc384_5ae7_11eb_b4f9_0242ac1c0002row20_col16\" class=\"data row20 col16\" >253.000000</td>\n",
              "                        <td id=\"T_ac4fc384_5ae7_11eb_b4f9_0242ac1c0002row20_col17\" class=\"data row20 col17\" >253.000000</td>\n",
              "                        <td id=\"T_ac4fc384_5ae7_11eb_b4f9_0242ac1c0002row20_col18\" class=\"data row20 col18\" >253.000000</td>\n",
              "                        <td id=\"T_ac4fc384_5ae7_11eb_b4f9_0242ac1c0002row20_col19\" class=\"data row20 col19\" >253.000000</td>\n",
              "                        <td id=\"T_ac4fc384_5ae7_11eb_b4f9_0242ac1c0002row20_col20\" class=\"data row20 col20\" >251.000000</td>\n",
              "                        <td id=\"T_ac4fc384_5ae7_11eb_b4f9_0242ac1c0002row20_col21\" class=\"data row20 col21\" >238.000000</td>\n",
              "                        <td id=\"T_ac4fc384_5ae7_11eb_b4f9_0242ac1c0002row20_col22\" class=\"data row20 col22\" >0.000000</td>\n",
              "                        <td id=\"T_ac4fc384_5ae7_11eb_b4f9_0242ac1c0002row20_col23\" class=\"data row20 col23\" >0.000000</td>\n",
              "                        <td id=\"T_ac4fc384_5ae7_11eb_b4f9_0242ac1c0002row20_col24\" class=\"data row20 col24\" >0.000000</td>\n",
              "                        <td id=\"T_ac4fc384_5ae7_11eb_b4f9_0242ac1c0002row20_col25\" class=\"data row20 col25\" >0.000000</td>\n",
              "                        <td id=\"T_ac4fc384_5ae7_11eb_b4f9_0242ac1c0002row20_col26\" class=\"data row20 col26\" >0.000000</td>\n",
              "                        <td id=\"T_ac4fc384_5ae7_11eb_b4f9_0242ac1c0002row20_col27\" class=\"data row20 col27\" >0.000000</td>\n",
              "            </tr>\n",
              "            <tr>\n",
              "                        <th id=\"T_ac4fc384_5ae7_11eb_b4f9_0242ac1c0002level0_row21\" class=\"row_heading level0 row21\" >21</th>\n",
              "                        <td id=\"T_ac4fc384_5ae7_11eb_b4f9_0242ac1c0002row21_col0\" class=\"data row21 col0\" >0.000000</td>\n",
              "                        <td id=\"T_ac4fc384_5ae7_11eb_b4f9_0242ac1c0002row21_col1\" class=\"data row21 col1\" >0.000000</td>\n",
              "                        <td id=\"T_ac4fc384_5ae7_11eb_b4f9_0242ac1c0002row21_col2\" class=\"data row21 col2\" >0.000000</td>\n",
              "                        <td id=\"T_ac4fc384_5ae7_11eb_b4f9_0242ac1c0002row21_col3\" class=\"data row21 col3\" >0.000000</td>\n",
              "                        <td id=\"T_ac4fc384_5ae7_11eb_b4f9_0242ac1c0002row21_col4\" class=\"data row21 col4\" >0.000000</td>\n",
              "                        <td id=\"T_ac4fc384_5ae7_11eb_b4f9_0242ac1c0002row21_col5\" class=\"data row21 col5\" >0.000000</td>\n",
              "                        <td id=\"T_ac4fc384_5ae7_11eb_b4f9_0242ac1c0002row21_col6\" class=\"data row21 col6\" >0.000000</td>\n",
              "                        <td id=\"T_ac4fc384_5ae7_11eb_b4f9_0242ac1c0002row21_col7\" class=\"data row21 col7\" >0.000000</td>\n",
              "                        <td id=\"T_ac4fc384_5ae7_11eb_b4f9_0242ac1c0002row21_col8\" class=\"data row21 col8\" >247.000000</td>\n",
              "                        <td id=\"T_ac4fc384_5ae7_11eb_b4f9_0242ac1c0002row21_col9\" class=\"data row21 col9\" >253.000000</td>\n",
              "                        <td id=\"T_ac4fc384_5ae7_11eb_b4f9_0242ac1c0002row21_col10\" class=\"data row21 col10\" >253.000000</td>\n",
              "                        <td id=\"T_ac4fc384_5ae7_11eb_b4f9_0242ac1c0002row21_col11\" class=\"data row21 col11\" >253.000000</td>\n",
              "                        <td id=\"T_ac4fc384_5ae7_11eb_b4f9_0242ac1c0002row21_col12\" class=\"data row21 col12\" >253.000000</td>\n",
              "                        <td id=\"T_ac4fc384_5ae7_11eb_b4f9_0242ac1c0002row21_col13\" class=\"data row21 col13\" >253.000000</td>\n",
              "                        <td id=\"T_ac4fc384_5ae7_11eb_b4f9_0242ac1c0002row21_col14\" class=\"data row21 col14\" >253.000000</td>\n",
              "                        <td id=\"T_ac4fc384_5ae7_11eb_b4f9_0242ac1c0002row21_col15\" class=\"data row21 col15\" >253.000000</td>\n",
              "                        <td id=\"T_ac4fc384_5ae7_11eb_b4f9_0242ac1c0002row21_col16\" class=\"data row21 col16\" >253.000000</td>\n",
              "                        <td id=\"T_ac4fc384_5ae7_11eb_b4f9_0242ac1c0002row21_col17\" class=\"data row21 col17\" >253.000000</td>\n",
              "                        <td id=\"T_ac4fc384_5ae7_11eb_b4f9_0242ac1c0002row21_col18\" class=\"data row21 col18\" >253.000000</td>\n",
              "                        <td id=\"T_ac4fc384_5ae7_11eb_b4f9_0242ac1c0002row21_col19\" class=\"data row21 col19\" >253.000000</td>\n",
              "                        <td id=\"T_ac4fc384_5ae7_11eb_b4f9_0242ac1c0002row21_col20\" class=\"data row21 col20\" >126.000000</td>\n",
              "                        <td id=\"T_ac4fc384_5ae7_11eb_b4f9_0242ac1c0002row21_col21\" class=\"data row21 col21\" >0.000000</td>\n",
              "                        <td id=\"T_ac4fc384_5ae7_11eb_b4f9_0242ac1c0002row21_col22\" class=\"data row21 col22\" >0.000000</td>\n",
              "                        <td id=\"T_ac4fc384_5ae7_11eb_b4f9_0242ac1c0002row21_col23\" class=\"data row21 col23\" >0.000000</td>\n",
              "                        <td id=\"T_ac4fc384_5ae7_11eb_b4f9_0242ac1c0002row21_col24\" class=\"data row21 col24\" >0.000000</td>\n",
              "                        <td id=\"T_ac4fc384_5ae7_11eb_b4f9_0242ac1c0002row21_col25\" class=\"data row21 col25\" >0.000000</td>\n",
              "                        <td id=\"T_ac4fc384_5ae7_11eb_b4f9_0242ac1c0002row21_col26\" class=\"data row21 col26\" >0.000000</td>\n",
              "                        <td id=\"T_ac4fc384_5ae7_11eb_b4f9_0242ac1c0002row21_col27\" class=\"data row21 col27\" >0.000000</td>\n",
              "            </tr>\n",
              "            <tr>\n",
              "                        <th id=\"T_ac4fc384_5ae7_11eb_b4f9_0242ac1c0002level0_row22\" class=\"row_heading level0 row22\" >22</th>\n",
              "                        <td id=\"T_ac4fc384_5ae7_11eb_b4f9_0242ac1c0002row22_col0\" class=\"data row22 col0\" >0.000000</td>\n",
              "                        <td id=\"T_ac4fc384_5ae7_11eb_b4f9_0242ac1c0002row22_col1\" class=\"data row22 col1\" >0.000000</td>\n",
              "                        <td id=\"T_ac4fc384_5ae7_11eb_b4f9_0242ac1c0002row22_col2\" class=\"data row22 col2\" >0.000000</td>\n",
              "                        <td id=\"T_ac4fc384_5ae7_11eb_b4f9_0242ac1c0002row22_col3\" class=\"data row22 col3\" >0.000000</td>\n",
              "                        <td id=\"T_ac4fc384_5ae7_11eb_b4f9_0242ac1c0002row22_col4\" class=\"data row22 col4\" >0.000000</td>\n",
              "                        <td id=\"T_ac4fc384_5ae7_11eb_b4f9_0242ac1c0002row22_col5\" class=\"data row22 col5\" >0.000000</td>\n",
              "                        <td id=\"T_ac4fc384_5ae7_11eb_b4f9_0242ac1c0002row22_col6\" class=\"data row22 col6\" >0.000000</td>\n",
              "                        <td id=\"T_ac4fc384_5ae7_11eb_b4f9_0242ac1c0002row22_col7\" class=\"data row22 col7\" >0.000000</td>\n",
              "                        <td id=\"T_ac4fc384_5ae7_11eb_b4f9_0242ac1c0002row22_col8\" class=\"data row22 col8\" >101.000000</td>\n",
              "                        <td id=\"T_ac4fc384_5ae7_11eb_b4f9_0242ac1c0002row22_col9\" class=\"data row22 col9\" >199.000000</td>\n",
              "                        <td id=\"T_ac4fc384_5ae7_11eb_b4f9_0242ac1c0002row22_col10\" class=\"data row22 col10\" >199.000000</td>\n",
              "                        <td id=\"T_ac4fc384_5ae7_11eb_b4f9_0242ac1c0002row22_col11\" class=\"data row22 col11\" >217.000000</td>\n",
              "                        <td id=\"T_ac4fc384_5ae7_11eb_b4f9_0242ac1c0002row22_col12\" class=\"data row22 col12\" >253.000000</td>\n",
              "                        <td id=\"T_ac4fc384_5ae7_11eb_b4f9_0242ac1c0002row22_col13\" class=\"data row22 col13\" >253.000000</td>\n",
              "                        <td id=\"T_ac4fc384_5ae7_11eb_b4f9_0242ac1c0002row22_col14\" class=\"data row22 col14\" >253.000000</td>\n",
              "                        <td id=\"T_ac4fc384_5ae7_11eb_b4f9_0242ac1c0002row22_col15\" class=\"data row22 col15\" >253.000000</td>\n",
              "                        <td id=\"T_ac4fc384_5ae7_11eb_b4f9_0242ac1c0002row22_col16\" class=\"data row22 col16\" >253.000000</td>\n",
              "                        <td id=\"T_ac4fc384_5ae7_11eb_b4f9_0242ac1c0002row22_col17\" class=\"data row22 col17\" >238.000000</td>\n",
              "                        <td id=\"T_ac4fc384_5ae7_11eb_b4f9_0242ac1c0002row22_col18\" class=\"data row22 col18\" >189.000000</td>\n",
              "                        <td id=\"T_ac4fc384_5ae7_11eb_b4f9_0242ac1c0002row22_col19\" class=\"data row22 col19\" >45.000000</td>\n",
              "                        <td id=\"T_ac4fc384_5ae7_11eb_b4f9_0242ac1c0002row22_col20\" class=\"data row22 col20\" >7.000000</td>\n",
              "                        <td id=\"T_ac4fc384_5ae7_11eb_b4f9_0242ac1c0002row22_col21\" class=\"data row22 col21\" >0.000000</td>\n",
              "                        <td id=\"T_ac4fc384_5ae7_11eb_b4f9_0242ac1c0002row22_col22\" class=\"data row22 col22\" >0.000000</td>\n",
              "                        <td id=\"T_ac4fc384_5ae7_11eb_b4f9_0242ac1c0002row22_col23\" class=\"data row22 col23\" >0.000000</td>\n",
              "                        <td id=\"T_ac4fc384_5ae7_11eb_b4f9_0242ac1c0002row22_col24\" class=\"data row22 col24\" >0.000000</td>\n",
              "                        <td id=\"T_ac4fc384_5ae7_11eb_b4f9_0242ac1c0002row22_col25\" class=\"data row22 col25\" >0.000000</td>\n",
              "                        <td id=\"T_ac4fc384_5ae7_11eb_b4f9_0242ac1c0002row22_col26\" class=\"data row22 col26\" >0.000000</td>\n",
              "                        <td id=\"T_ac4fc384_5ae7_11eb_b4f9_0242ac1c0002row22_col27\" class=\"data row22 col27\" >0.000000</td>\n",
              "            </tr>\n",
              "            <tr>\n",
              "                        <th id=\"T_ac4fc384_5ae7_11eb_b4f9_0242ac1c0002level0_row23\" class=\"row_heading level0 row23\" >23</th>\n",
              "                        <td id=\"T_ac4fc384_5ae7_11eb_b4f9_0242ac1c0002row23_col0\" class=\"data row23 col0\" >0.000000</td>\n",
              "                        <td id=\"T_ac4fc384_5ae7_11eb_b4f9_0242ac1c0002row23_col1\" class=\"data row23 col1\" >0.000000</td>\n",
              "                        <td id=\"T_ac4fc384_5ae7_11eb_b4f9_0242ac1c0002row23_col2\" class=\"data row23 col2\" >0.000000</td>\n",
              "                        <td id=\"T_ac4fc384_5ae7_11eb_b4f9_0242ac1c0002row23_col3\" class=\"data row23 col3\" >0.000000</td>\n",
              "                        <td id=\"T_ac4fc384_5ae7_11eb_b4f9_0242ac1c0002row23_col4\" class=\"data row23 col4\" >0.000000</td>\n",
              "                        <td id=\"T_ac4fc384_5ae7_11eb_b4f9_0242ac1c0002row23_col5\" class=\"data row23 col5\" >0.000000</td>\n",
              "                        <td id=\"T_ac4fc384_5ae7_11eb_b4f9_0242ac1c0002row23_col6\" class=\"data row23 col6\" >0.000000</td>\n",
              "                        <td id=\"T_ac4fc384_5ae7_11eb_b4f9_0242ac1c0002row23_col7\" class=\"data row23 col7\" >0.000000</td>\n",
              "                        <td id=\"T_ac4fc384_5ae7_11eb_b4f9_0242ac1c0002row23_col8\" class=\"data row23 col8\" >0.000000</td>\n",
              "                        <td id=\"T_ac4fc384_5ae7_11eb_b4f9_0242ac1c0002row23_col9\" class=\"data row23 col9\" >0.000000</td>\n",
              "                        <td id=\"T_ac4fc384_5ae7_11eb_b4f9_0242ac1c0002row23_col10\" class=\"data row23 col10\" >0.000000</td>\n",
              "                        <td id=\"T_ac4fc384_5ae7_11eb_b4f9_0242ac1c0002row23_col11\" class=\"data row23 col11\" >34.000000</td>\n",
              "                        <td id=\"T_ac4fc384_5ae7_11eb_b4f9_0242ac1c0002row23_col12\" class=\"data row23 col12\" >211.000000</td>\n",
              "                        <td id=\"T_ac4fc384_5ae7_11eb_b4f9_0242ac1c0002row23_col13\" class=\"data row23 col13\" >253.000000</td>\n",
              "                        <td id=\"T_ac4fc384_5ae7_11eb_b4f9_0242ac1c0002row23_col14\" class=\"data row23 col14\" >253.000000</td>\n",
              "                        <td id=\"T_ac4fc384_5ae7_11eb_b4f9_0242ac1c0002row23_col15\" class=\"data row23 col15\" >145.000000</td>\n",
              "                        <td id=\"T_ac4fc384_5ae7_11eb_b4f9_0242ac1c0002row23_col16\" class=\"data row23 col16\" >99.000000</td>\n",
              "                        <td id=\"T_ac4fc384_5ae7_11eb_b4f9_0242ac1c0002row23_col17\" class=\"data row23 col17\" >72.000000</td>\n",
              "                        <td id=\"T_ac4fc384_5ae7_11eb_b4f9_0242ac1c0002row23_col18\" class=\"data row23 col18\" >0.000000</td>\n",
              "                        <td id=\"T_ac4fc384_5ae7_11eb_b4f9_0242ac1c0002row23_col19\" class=\"data row23 col19\" >0.000000</td>\n",
              "                        <td id=\"T_ac4fc384_5ae7_11eb_b4f9_0242ac1c0002row23_col20\" class=\"data row23 col20\" >0.000000</td>\n",
              "                        <td id=\"T_ac4fc384_5ae7_11eb_b4f9_0242ac1c0002row23_col21\" class=\"data row23 col21\" >0.000000</td>\n",
              "                        <td id=\"T_ac4fc384_5ae7_11eb_b4f9_0242ac1c0002row23_col22\" class=\"data row23 col22\" >0.000000</td>\n",
              "                        <td id=\"T_ac4fc384_5ae7_11eb_b4f9_0242ac1c0002row23_col23\" class=\"data row23 col23\" >0.000000</td>\n",
              "                        <td id=\"T_ac4fc384_5ae7_11eb_b4f9_0242ac1c0002row23_col24\" class=\"data row23 col24\" >0.000000</td>\n",
              "                        <td id=\"T_ac4fc384_5ae7_11eb_b4f9_0242ac1c0002row23_col25\" class=\"data row23 col25\" >0.000000</td>\n",
              "                        <td id=\"T_ac4fc384_5ae7_11eb_b4f9_0242ac1c0002row23_col26\" class=\"data row23 col26\" >0.000000</td>\n",
              "                        <td id=\"T_ac4fc384_5ae7_11eb_b4f9_0242ac1c0002row23_col27\" class=\"data row23 col27\" >0.000000</td>\n",
              "            </tr>\n",
              "            <tr>\n",
              "                        <th id=\"T_ac4fc384_5ae7_11eb_b4f9_0242ac1c0002level0_row24\" class=\"row_heading level0 row24\" >24</th>\n",
              "                        <td id=\"T_ac4fc384_5ae7_11eb_b4f9_0242ac1c0002row24_col0\" class=\"data row24 col0\" >0.000000</td>\n",
              "                        <td id=\"T_ac4fc384_5ae7_11eb_b4f9_0242ac1c0002row24_col1\" class=\"data row24 col1\" >0.000000</td>\n",
              "                        <td id=\"T_ac4fc384_5ae7_11eb_b4f9_0242ac1c0002row24_col2\" class=\"data row24 col2\" >0.000000</td>\n",
              "                        <td id=\"T_ac4fc384_5ae7_11eb_b4f9_0242ac1c0002row24_col3\" class=\"data row24 col3\" >0.000000</td>\n",
              "                        <td id=\"T_ac4fc384_5ae7_11eb_b4f9_0242ac1c0002row24_col4\" class=\"data row24 col4\" >0.000000</td>\n",
              "                        <td id=\"T_ac4fc384_5ae7_11eb_b4f9_0242ac1c0002row24_col5\" class=\"data row24 col5\" >0.000000</td>\n",
              "                        <td id=\"T_ac4fc384_5ae7_11eb_b4f9_0242ac1c0002row24_col6\" class=\"data row24 col6\" >0.000000</td>\n",
              "                        <td id=\"T_ac4fc384_5ae7_11eb_b4f9_0242ac1c0002row24_col7\" class=\"data row24 col7\" >0.000000</td>\n",
              "                        <td id=\"T_ac4fc384_5ae7_11eb_b4f9_0242ac1c0002row24_col8\" class=\"data row24 col8\" >0.000000</td>\n",
              "                        <td id=\"T_ac4fc384_5ae7_11eb_b4f9_0242ac1c0002row24_col9\" class=\"data row24 col9\" >0.000000</td>\n",
              "                        <td id=\"T_ac4fc384_5ae7_11eb_b4f9_0242ac1c0002row24_col10\" class=\"data row24 col10\" >0.000000</td>\n",
              "                        <td id=\"T_ac4fc384_5ae7_11eb_b4f9_0242ac1c0002row24_col11\" class=\"data row24 col11\" >0.000000</td>\n",
              "                        <td id=\"T_ac4fc384_5ae7_11eb_b4f9_0242ac1c0002row24_col12\" class=\"data row24 col12\" >0.000000</td>\n",
              "                        <td id=\"T_ac4fc384_5ae7_11eb_b4f9_0242ac1c0002row24_col13\" class=\"data row24 col13\" >0.000000</td>\n",
              "                        <td id=\"T_ac4fc384_5ae7_11eb_b4f9_0242ac1c0002row24_col14\" class=\"data row24 col14\" >0.000000</td>\n",
              "                        <td id=\"T_ac4fc384_5ae7_11eb_b4f9_0242ac1c0002row24_col15\" class=\"data row24 col15\" >0.000000</td>\n",
              "                        <td id=\"T_ac4fc384_5ae7_11eb_b4f9_0242ac1c0002row24_col16\" class=\"data row24 col16\" >0.000000</td>\n",
              "                        <td id=\"T_ac4fc384_5ae7_11eb_b4f9_0242ac1c0002row24_col17\" class=\"data row24 col17\" >0.000000</td>\n",
              "                        <td id=\"T_ac4fc384_5ae7_11eb_b4f9_0242ac1c0002row24_col18\" class=\"data row24 col18\" >0.000000</td>\n",
              "                        <td id=\"T_ac4fc384_5ae7_11eb_b4f9_0242ac1c0002row24_col19\" class=\"data row24 col19\" >0.000000</td>\n",
              "                        <td id=\"T_ac4fc384_5ae7_11eb_b4f9_0242ac1c0002row24_col20\" class=\"data row24 col20\" >0.000000</td>\n",
              "                        <td id=\"T_ac4fc384_5ae7_11eb_b4f9_0242ac1c0002row24_col21\" class=\"data row24 col21\" >0.000000</td>\n",
              "                        <td id=\"T_ac4fc384_5ae7_11eb_b4f9_0242ac1c0002row24_col22\" class=\"data row24 col22\" >0.000000</td>\n",
              "                        <td id=\"T_ac4fc384_5ae7_11eb_b4f9_0242ac1c0002row24_col23\" class=\"data row24 col23\" >0.000000</td>\n",
              "                        <td id=\"T_ac4fc384_5ae7_11eb_b4f9_0242ac1c0002row24_col24\" class=\"data row24 col24\" >0.000000</td>\n",
              "                        <td id=\"T_ac4fc384_5ae7_11eb_b4f9_0242ac1c0002row24_col25\" class=\"data row24 col25\" >0.000000</td>\n",
              "                        <td id=\"T_ac4fc384_5ae7_11eb_b4f9_0242ac1c0002row24_col26\" class=\"data row24 col26\" >0.000000</td>\n",
              "                        <td id=\"T_ac4fc384_5ae7_11eb_b4f9_0242ac1c0002row24_col27\" class=\"data row24 col27\" >0.000000</td>\n",
              "            </tr>\n",
              "            <tr>\n",
              "                        <th id=\"T_ac4fc384_5ae7_11eb_b4f9_0242ac1c0002level0_row25\" class=\"row_heading level0 row25\" >25</th>\n",
              "                        <td id=\"T_ac4fc384_5ae7_11eb_b4f9_0242ac1c0002row25_col0\" class=\"data row25 col0\" >0.000000</td>\n",
              "                        <td id=\"T_ac4fc384_5ae7_11eb_b4f9_0242ac1c0002row25_col1\" class=\"data row25 col1\" >0.000000</td>\n",
              "                        <td id=\"T_ac4fc384_5ae7_11eb_b4f9_0242ac1c0002row25_col2\" class=\"data row25 col2\" >0.000000</td>\n",
              "                        <td id=\"T_ac4fc384_5ae7_11eb_b4f9_0242ac1c0002row25_col3\" class=\"data row25 col3\" >0.000000</td>\n",
              "                        <td id=\"T_ac4fc384_5ae7_11eb_b4f9_0242ac1c0002row25_col4\" class=\"data row25 col4\" >0.000000</td>\n",
              "                        <td id=\"T_ac4fc384_5ae7_11eb_b4f9_0242ac1c0002row25_col5\" class=\"data row25 col5\" >0.000000</td>\n",
              "                        <td id=\"T_ac4fc384_5ae7_11eb_b4f9_0242ac1c0002row25_col6\" class=\"data row25 col6\" >0.000000</td>\n",
              "                        <td id=\"T_ac4fc384_5ae7_11eb_b4f9_0242ac1c0002row25_col7\" class=\"data row25 col7\" >0.000000</td>\n",
              "                        <td id=\"T_ac4fc384_5ae7_11eb_b4f9_0242ac1c0002row25_col8\" class=\"data row25 col8\" >0.000000</td>\n",
              "                        <td id=\"T_ac4fc384_5ae7_11eb_b4f9_0242ac1c0002row25_col9\" class=\"data row25 col9\" >0.000000</td>\n",
              "                        <td id=\"T_ac4fc384_5ae7_11eb_b4f9_0242ac1c0002row25_col10\" class=\"data row25 col10\" >0.000000</td>\n",
              "                        <td id=\"T_ac4fc384_5ae7_11eb_b4f9_0242ac1c0002row25_col11\" class=\"data row25 col11\" >0.000000</td>\n",
              "                        <td id=\"T_ac4fc384_5ae7_11eb_b4f9_0242ac1c0002row25_col12\" class=\"data row25 col12\" >0.000000</td>\n",
              "                        <td id=\"T_ac4fc384_5ae7_11eb_b4f9_0242ac1c0002row25_col13\" class=\"data row25 col13\" >0.000000</td>\n",
              "                        <td id=\"T_ac4fc384_5ae7_11eb_b4f9_0242ac1c0002row25_col14\" class=\"data row25 col14\" >0.000000</td>\n",
              "                        <td id=\"T_ac4fc384_5ae7_11eb_b4f9_0242ac1c0002row25_col15\" class=\"data row25 col15\" >0.000000</td>\n",
              "                        <td id=\"T_ac4fc384_5ae7_11eb_b4f9_0242ac1c0002row25_col16\" class=\"data row25 col16\" >0.000000</td>\n",
              "                        <td id=\"T_ac4fc384_5ae7_11eb_b4f9_0242ac1c0002row25_col17\" class=\"data row25 col17\" >0.000000</td>\n",
              "                        <td id=\"T_ac4fc384_5ae7_11eb_b4f9_0242ac1c0002row25_col18\" class=\"data row25 col18\" >0.000000</td>\n",
              "                        <td id=\"T_ac4fc384_5ae7_11eb_b4f9_0242ac1c0002row25_col19\" class=\"data row25 col19\" >0.000000</td>\n",
              "                        <td id=\"T_ac4fc384_5ae7_11eb_b4f9_0242ac1c0002row25_col20\" class=\"data row25 col20\" >0.000000</td>\n",
              "                        <td id=\"T_ac4fc384_5ae7_11eb_b4f9_0242ac1c0002row25_col21\" class=\"data row25 col21\" >0.000000</td>\n",
              "                        <td id=\"T_ac4fc384_5ae7_11eb_b4f9_0242ac1c0002row25_col22\" class=\"data row25 col22\" >0.000000</td>\n",
              "                        <td id=\"T_ac4fc384_5ae7_11eb_b4f9_0242ac1c0002row25_col23\" class=\"data row25 col23\" >0.000000</td>\n",
              "                        <td id=\"T_ac4fc384_5ae7_11eb_b4f9_0242ac1c0002row25_col24\" class=\"data row25 col24\" >0.000000</td>\n",
              "                        <td id=\"T_ac4fc384_5ae7_11eb_b4f9_0242ac1c0002row25_col25\" class=\"data row25 col25\" >0.000000</td>\n",
              "                        <td id=\"T_ac4fc384_5ae7_11eb_b4f9_0242ac1c0002row25_col26\" class=\"data row25 col26\" >0.000000</td>\n",
              "                        <td id=\"T_ac4fc384_5ae7_11eb_b4f9_0242ac1c0002row25_col27\" class=\"data row25 col27\" >0.000000</td>\n",
              "            </tr>\n",
              "            <tr>\n",
              "                        <th id=\"T_ac4fc384_5ae7_11eb_b4f9_0242ac1c0002level0_row26\" class=\"row_heading level0 row26\" >26</th>\n",
              "                        <td id=\"T_ac4fc384_5ae7_11eb_b4f9_0242ac1c0002row26_col0\" class=\"data row26 col0\" >0.000000</td>\n",
              "                        <td id=\"T_ac4fc384_5ae7_11eb_b4f9_0242ac1c0002row26_col1\" class=\"data row26 col1\" >0.000000</td>\n",
              "                        <td id=\"T_ac4fc384_5ae7_11eb_b4f9_0242ac1c0002row26_col2\" class=\"data row26 col2\" >0.000000</td>\n",
              "                        <td id=\"T_ac4fc384_5ae7_11eb_b4f9_0242ac1c0002row26_col3\" class=\"data row26 col3\" >0.000000</td>\n",
              "                        <td id=\"T_ac4fc384_5ae7_11eb_b4f9_0242ac1c0002row26_col4\" class=\"data row26 col4\" >0.000000</td>\n",
              "                        <td id=\"T_ac4fc384_5ae7_11eb_b4f9_0242ac1c0002row26_col5\" class=\"data row26 col5\" >0.000000</td>\n",
              "                        <td id=\"T_ac4fc384_5ae7_11eb_b4f9_0242ac1c0002row26_col6\" class=\"data row26 col6\" >0.000000</td>\n",
              "                        <td id=\"T_ac4fc384_5ae7_11eb_b4f9_0242ac1c0002row26_col7\" class=\"data row26 col7\" >0.000000</td>\n",
              "                        <td id=\"T_ac4fc384_5ae7_11eb_b4f9_0242ac1c0002row26_col8\" class=\"data row26 col8\" >0.000000</td>\n",
              "                        <td id=\"T_ac4fc384_5ae7_11eb_b4f9_0242ac1c0002row26_col9\" class=\"data row26 col9\" >0.000000</td>\n",
              "                        <td id=\"T_ac4fc384_5ae7_11eb_b4f9_0242ac1c0002row26_col10\" class=\"data row26 col10\" >0.000000</td>\n",
              "                        <td id=\"T_ac4fc384_5ae7_11eb_b4f9_0242ac1c0002row26_col11\" class=\"data row26 col11\" >0.000000</td>\n",
              "                        <td id=\"T_ac4fc384_5ae7_11eb_b4f9_0242ac1c0002row26_col12\" class=\"data row26 col12\" >0.000000</td>\n",
              "                        <td id=\"T_ac4fc384_5ae7_11eb_b4f9_0242ac1c0002row26_col13\" class=\"data row26 col13\" >0.000000</td>\n",
              "                        <td id=\"T_ac4fc384_5ae7_11eb_b4f9_0242ac1c0002row26_col14\" class=\"data row26 col14\" >0.000000</td>\n",
              "                        <td id=\"T_ac4fc384_5ae7_11eb_b4f9_0242ac1c0002row26_col15\" class=\"data row26 col15\" >0.000000</td>\n",
              "                        <td id=\"T_ac4fc384_5ae7_11eb_b4f9_0242ac1c0002row26_col16\" class=\"data row26 col16\" >0.000000</td>\n",
              "                        <td id=\"T_ac4fc384_5ae7_11eb_b4f9_0242ac1c0002row26_col17\" class=\"data row26 col17\" >0.000000</td>\n",
              "                        <td id=\"T_ac4fc384_5ae7_11eb_b4f9_0242ac1c0002row26_col18\" class=\"data row26 col18\" >0.000000</td>\n",
              "                        <td id=\"T_ac4fc384_5ae7_11eb_b4f9_0242ac1c0002row26_col19\" class=\"data row26 col19\" >0.000000</td>\n",
              "                        <td id=\"T_ac4fc384_5ae7_11eb_b4f9_0242ac1c0002row26_col20\" class=\"data row26 col20\" >0.000000</td>\n",
              "                        <td id=\"T_ac4fc384_5ae7_11eb_b4f9_0242ac1c0002row26_col21\" class=\"data row26 col21\" >0.000000</td>\n",
              "                        <td id=\"T_ac4fc384_5ae7_11eb_b4f9_0242ac1c0002row26_col22\" class=\"data row26 col22\" >0.000000</td>\n",
              "                        <td id=\"T_ac4fc384_5ae7_11eb_b4f9_0242ac1c0002row26_col23\" class=\"data row26 col23\" >0.000000</td>\n",
              "                        <td id=\"T_ac4fc384_5ae7_11eb_b4f9_0242ac1c0002row26_col24\" class=\"data row26 col24\" >0.000000</td>\n",
              "                        <td id=\"T_ac4fc384_5ae7_11eb_b4f9_0242ac1c0002row26_col25\" class=\"data row26 col25\" >0.000000</td>\n",
              "                        <td id=\"T_ac4fc384_5ae7_11eb_b4f9_0242ac1c0002row26_col26\" class=\"data row26 col26\" >0.000000</td>\n",
              "                        <td id=\"T_ac4fc384_5ae7_11eb_b4f9_0242ac1c0002row26_col27\" class=\"data row26 col27\" >0.000000</td>\n",
              "            </tr>\n",
              "            <tr>\n",
              "                        <th id=\"T_ac4fc384_5ae7_11eb_b4f9_0242ac1c0002level0_row27\" class=\"row_heading level0 row27\" >27</th>\n",
              "                        <td id=\"T_ac4fc384_5ae7_11eb_b4f9_0242ac1c0002row27_col0\" class=\"data row27 col0\" >0.000000</td>\n",
              "                        <td id=\"T_ac4fc384_5ae7_11eb_b4f9_0242ac1c0002row27_col1\" class=\"data row27 col1\" >0.000000</td>\n",
              "                        <td id=\"T_ac4fc384_5ae7_11eb_b4f9_0242ac1c0002row27_col2\" class=\"data row27 col2\" >0.000000</td>\n",
              "                        <td id=\"T_ac4fc384_5ae7_11eb_b4f9_0242ac1c0002row27_col3\" class=\"data row27 col3\" >0.000000</td>\n",
              "                        <td id=\"T_ac4fc384_5ae7_11eb_b4f9_0242ac1c0002row27_col4\" class=\"data row27 col4\" >0.000000</td>\n",
              "                        <td id=\"T_ac4fc384_5ae7_11eb_b4f9_0242ac1c0002row27_col5\" class=\"data row27 col5\" >0.000000</td>\n",
              "                        <td id=\"T_ac4fc384_5ae7_11eb_b4f9_0242ac1c0002row27_col6\" class=\"data row27 col6\" >0.000000</td>\n",
              "                        <td id=\"T_ac4fc384_5ae7_11eb_b4f9_0242ac1c0002row27_col7\" class=\"data row27 col7\" >0.000000</td>\n",
              "                        <td id=\"T_ac4fc384_5ae7_11eb_b4f9_0242ac1c0002row27_col8\" class=\"data row27 col8\" >0.000000</td>\n",
              "                        <td id=\"T_ac4fc384_5ae7_11eb_b4f9_0242ac1c0002row27_col9\" class=\"data row27 col9\" >0.000000</td>\n",
              "                        <td id=\"T_ac4fc384_5ae7_11eb_b4f9_0242ac1c0002row27_col10\" class=\"data row27 col10\" >0.000000</td>\n",
              "                        <td id=\"T_ac4fc384_5ae7_11eb_b4f9_0242ac1c0002row27_col11\" class=\"data row27 col11\" >0.000000</td>\n",
              "                        <td id=\"T_ac4fc384_5ae7_11eb_b4f9_0242ac1c0002row27_col12\" class=\"data row27 col12\" >0.000000</td>\n",
              "                        <td id=\"T_ac4fc384_5ae7_11eb_b4f9_0242ac1c0002row27_col13\" class=\"data row27 col13\" >0.000000</td>\n",
              "                        <td id=\"T_ac4fc384_5ae7_11eb_b4f9_0242ac1c0002row27_col14\" class=\"data row27 col14\" >0.000000</td>\n",
              "                        <td id=\"T_ac4fc384_5ae7_11eb_b4f9_0242ac1c0002row27_col15\" class=\"data row27 col15\" >0.000000</td>\n",
              "                        <td id=\"T_ac4fc384_5ae7_11eb_b4f9_0242ac1c0002row27_col16\" class=\"data row27 col16\" >0.000000</td>\n",
              "                        <td id=\"T_ac4fc384_5ae7_11eb_b4f9_0242ac1c0002row27_col17\" class=\"data row27 col17\" >0.000000</td>\n",
              "                        <td id=\"T_ac4fc384_5ae7_11eb_b4f9_0242ac1c0002row27_col18\" class=\"data row27 col18\" >0.000000</td>\n",
              "                        <td id=\"T_ac4fc384_5ae7_11eb_b4f9_0242ac1c0002row27_col19\" class=\"data row27 col19\" >0.000000</td>\n",
              "                        <td id=\"T_ac4fc384_5ae7_11eb_b4f9_0242ac1c0002row27_col20\" class=\"data row27 col20\" >0.000000</td>\n",
              "                        <td id=\"T_ac4fc384_5ae7_11eb_b4f9_0242ac1c0002row27_col21\" class=\"data row27 col21\" >0.000000</td>\n",
              "                        <td id=\"T_ac4fc384_5ae7_11eb_b4f9_0242ac1c0002row27_col22\" class=\"data row27 col22\" >0.000000</td>\n",
              "                        <td id=\"T_ac4fc384_5ae7_11eb_b4f9_0242ac1c0002row27_col23\" class=\"data row27 col23\" >0.000000</td>\n",
              "                        <td id=\"T_ac4fc384_5ae7_11eb_b4f9_0242ac1c0002row27_col24\" class=\"data row27 col24\" >0.000000</td>\n",
              "                        <td id=\"T_ac4fc384_5ae7_11eb_b4f9_0242ac1c0002row27_col25\" class=\"data row27 col25\" >0.000000</td>\n",
              "                        <td id=\"T_ac4fc384_5ae7_11eb_b4f9_0242ac1c0002row27_col26\" class=\"data row27 col26\" >0.000000</td>\n",
              "                        <td id=\"T_ac4fc384_5ae7_11eb_b4f9_0242ac1c0002row27_col27\" class=\"data row27 col27\" >0.000000</td>\n",
              "            </tr>\n",
              "    </tbody></table>"
            ],
            "text/plain": [
              "<pandas.io.formats.style.Styler at 0x7f8f98def3c8>"
            ]
          },
          "metadata": {
            "tags": []
          },
          "execution_count": 10
        }
      ]
    },
    {
      "cell_type": "code",
      "metadata": {
        "colab": {
          "base_uri": "https://localhost:8080/",
          "height": 1000
        },
        "id": "qIXLYddVImKr",
        "outputId": "acad1999-3d70-4217-d0ac-95f2e806fc33"
      },
      "source": [
        "def batch_accuracy(x, y):\r\n",
        "    preds = torch.argmax(x, 1)\r\n",
        "    correct = preds == y\r\n",
        "    return correct.float().mean()\r\n",
        "\r\n",
        "simple_net = nn.Sequential(\r\n",
        "            nn.Linear(28*28, 40),\r\n",
        "            nn.ReLU(),\r\n",
        "            nn.Linear(40, 40),\r\n",
        "            nn.ReLU(),\r\n",
        "            nn.Linear(40, 10)\r\n",
        ")\r\n",
        "loss = CrossEntropyLossFlat()\r\n",
        "learn = Learner(dls, simple_net, opt_func = SGD, loss_func = loss, metrics = batch_accuracy)\r\n",
        "learn.fit(40, 0.3)\r\n"
      ],
      "execution_count": 11,
      "outputs": [
        {
          "output_type": "display_data",
          "data": {
            "text/html": [
              "<table border=\"1\" class=\"dataframe\">\n",
              "  <thead>\n",
              "    <tr style=\"text-align: left;\">\n",
              "      <th>epoch</th>\n",
              "      <th>train_loss</th>\n",
              "      <th>valid_loss</th>\n",
              "      <th>batch_accuracy</th>\n",
              "      <th>time</th>\n",
              "    </tr>\n",
              "  </thead>\n",
              "  <tbody>\n",
              "    <tr>\n",
              "      <td>0</td>\n",
              "      <td>0.358166</td>\n",
              "      <td>0.303789</td>\n",
              "      <td>0.834277</td>\n",
              "      <td>00:01</td>\n",
              "    </tr>\n",
              "    <tr>\n",
              "      <td>1</td>\n",
              "      <td>0.222474</td>\n",
              "      <td>0.190920</td>\n",
              "      <td>0.865857</td>\n",
              "      <td>00:01</td>\n",
              "    </tr>\n",
              "    <tr>\n",
              "      <td>2</td>\n",
              "      <td>0.168673</td>\n",
              "      <td>0.169982</td>\n",
              "      <td>0.871329</td>\n",
              "      <td>00:01</td>\n",
              "    </tr>\n",
              "    <tr>\n",
              "      <td>3</td>\n",
              "      <td>0.139638</td>\n",
              "      <td>0.137890</td>\n",
              "      <td>0.880031</td>\n",
              "      <td>00:01</td>\n",
              "    </tr>\n",
              "    <tr>\n",
              "      <td>4</td>\n",
              "      <td>0.118034</td>\n",
              "      <td>0.130798</td>\n",
              "      <td>0.880909</td>\n",
              "      <td>00:01</td>\n",
              "    </tr>\n",
              "    <tr>\n",
              "      <td>5</td>\n",
              "      <td>0.107984</td>\n",
              "      <td>0.159387</td>\n",
              "      <td>0.875085</td>\n",
              "      <td>00:01</td>\n",
              "    </tr>\n",
              "    <tr>\n",
              "      <td>6</td>\n",
              "      <td>0.095751</td>\n",
              "      <td>0.160191</td>\n",
              "      <td>0.873549</td>\n",
              "      <td>00:01</td>\n",
              "    </tr>\n",
              "    <tr>\n",
              "      <td>7</td>\n",
              "      <td>0.091912</td>\n",
              "      <td>0.107333</td>\n",
              "      <td>0.889243</td>\n",
              "      <td>00:01</td>\n",
              "    </tr>\n",
              "    <tr>\n",
              "      <td>8</td>\n",
              "      <td>0.081185</td>\n",
              "      <td>0.127012</td>\n",
              "      <td>0.884239</td>\n",
              "      <td>00:01</td>\n",
              "    </tr>\n",
              "    <tr>\n",
              "      <td>9</td>\n",
              "      <td>0.071906</td>\n",
              "      <td>0.110794</td>\n",
              "      <td>0.886895</td>\n",
              "      <td>00:01</td>\n",
              "    </tr>\n",
              "    <tr>\n",
              "      <td>10</td>\n",
              "      <td>0.070655</td>\n",
              "      <td>0.100630</td>\n",
              "      <td>0.891970</td>\n",
              "      <td>00:01</td>\n",
              "    </tr>\n",
              "    <tr>\n",
              "      <td>11</td>\n",
              "      <td>0.059552</td>\n",
              "      <td>0.103424</td>\n",
              "      <td>0.889114</td>\n",
              "      <td>00:01</td>\n",
              "    </tr>\n",
              "    <tr>\n",
              "      <td>12</td>\n",
              "      <td>0.061462</td>\n",
              "      <td>0.116274</td>\n",
              "      <td>0.886407</td>\n",
              "      <td>00:01</td>\n",
              "    </tr>\n",
              "    <tr>\n",
              "      <td>13</td>\n",
              "      <td>0.060263</td>\n",
              "      <td>0.201772</td>\n",
              "      <td>0.863304</td>\n",
              "      <td>00:01</td>\n",
              "    </tr>\n",
              "    <tr>\n",
              "      <td>14</td>\n",
              "      <td>0.051820</td>\n",
              "      <td>0.086995</td>\n",
              "      <td>0.893138</td>\n",
              "      <td>00:01</td>\n",
              "    </tr>\n",
              "    <tr>\n",
              "      <td>15</td>\n",
              "      <td>0.049942</td>\n",
              "      <td>0.177869</td>\n",
              "      <td>0.872311</td>\n",
              "      <td>00:01</td>\n",
              "    </tr>\n",
              "    <tr>\n",
              "      <td>16</td>\n",
              "      <td>0.044617</td>\n",
              "      <td>0.084463</td>\n",
              "      <td>0.894372</td>\n",
              "      <td>00:01</td>\n",
              "    </tr>\n",
              "    <tr>\n",
              "      <td>17</td>\n",
              "      <td>0.046452</td>\n",
              "      <td>0.098882</td>\n",
              "      <td>0.890963</td>\n",
              "      <td>00:01</td>\n",
              "    </tr>\n",
              "    <tr>\n",
              "      <td>18</td>\n",
              "      <td>0.041807</td>\n",
              "      <td>0.087484</td>\n",
              "      <td>0.894534</td>\n",
              "      <td>00:01</td>\n",
              "    </tr>\n",
              "    <tr>\n",
              "      <td>19</td>\n",
              "      <td>0.041066</td>\n",
              "      <td>0.099936</td>\n",
              "      <td>0.891431</td>\n",
              "      <td>00:01</td>\n",
              "    </tr>\n",
              "    <tr>\n",
              "      <td>20</td>\n",
              "      <td>0.040518</td>\n",
              "      <td>0.083735</td>\n",
              "      <td>0.895811</td>\n",
              "      <td>00:01</td>\n",
              "    </tr>\n",
              "    <tr>\n",
              "      <td>21</td>\n",
              "      <td>0.036474</td>\n",
              "      <td>0.090037</td>\n",
              "      <td>0.895267</td>\n",
              "      <td>00:01</td>\n",
              "    </tr>\n",
              "    <tr>\n",
              "      <td>22</td>\n",
              "      <td>0.034821</td>\n",
              "      <td>0.088472</td>\n",
              "      <td>0.895394</td>\n",
              "      <td>00:01</td>\n",
              "    </tr>\n",
              "    <tr>\n",
              "      <td>23</td>\n",
              "      <td>0.027482</td>\n",
              "      <td>0.091756</td>\n",
              "      <td>0.894658</td>\n",
              "      <td>00:01</td>\n",
              "    </tr>\n",
              "    <tr>\n",
              "      <td>24</td>\n",
              "      <td>0.029976</td>\n",
              "      <td>0.120782</td>\n",
              "      <td>0.888082</td>\n",
              "      <td>00:01</td>\n",
              "    </tr>\n",
              "    <tr>\n",
              "      <td>25</td>\n",
              "      <td>0.028492</td>\n",
              "      <td>0.122502</td>\n",
              "      <td>0.887889</td>\n",
              "      <td>00:01</td>\n",
              "    </tr>\n",
              "    <tr>\n",
              "      <td>26</td>\n",
              "      <td>0.786861</td>\n",
              "      <td>0.702703</td>\n",
              "      <td>0.705045</td>\n",
              "      <td>00:01</td>\n",
              "    </tr>\n",
              "    <tr>\n",
              "      <td>27</td>\n",
              "      <td>0.118067</td>\n",
              "      <td>0.127062</td>\n",
              "      <td>0.883968</td>\n",
              "      <td>00:01</td>\n",
              "    </tr>\n",
              "    <tr>\n",
              "      <td>28</td>\n",
              "      <td>0.078583</td>\n",
              "      <td>0.119633</td>\n",
              "      <td>0.886524</td>\n",
              "      <td>00:01</td>\n",
              "    </tr>\n",
              "    <tr>\n",
              "      <td>29</td>\n",
              "      <td>0.068217</td>\n",
              "      <td>0.157061</td>\n",
              "      <td>0.874460</td>\n",
              "      <td>00:01</td>\n",
              "    </tr>\n",
              "    <tr>\n",
              "      <td>30</td>\n",
              "      <td>0.060479</td>\n",
              "      <td>0.102798</td>\n",
              "      <td>0.890318</td>\n",
              "      <td>00:01</td>\n",
              "    </tr>\n",
              "    <tr>\n",
              "      <td>31</td>\n",
              "      <td>0.050811</td>\n",
              "      <td>0.103365</td>\n",
              "      <td>0.890010</td>\n",
              "      <td>00:01</td>\n",
              "    </tr>\n",
              "    <tr>\n",
              "      <td>32</td>\n",
              "      <td>0.048956</td>\n",
              "      <td>0.113535</td>\n",
              "      <td>0.889135</td>\n",
              "      <td>00:01</td>\n",
              "    </tr>\n",
              "    <tr>\n",
              "      <td>33</td>\n",
              "      <td>0.049761</td>\n",
              "      <td>0.116241</td>\n",
              "      <td>0.887369</td>\n",
              "      <td>00:01</td>\n",
              "    </tr>\n",
              "    <tr>\n",
              "      <td>34</td>\n",
              "      <td>0.044514</td>\n",
              "      <td>0.141857</td>\n",
              "      <td>0.881475</td>\n",
              "      <td>00:01</td>\n",
              "    </tr>\n",
              "    <tr>\n",
              "      <td>35</td>\n",
              "      <td>0.043163</td>\n",
              "      <td>0.181606</td>\n",
              "      <td>0.873012</td>\n",
              "      <td>00:01</td>\n",
              "    </tr>\n",
              "    <tr>\n",
              "      <td>36</td>\n",
              "      <td>0.039331</td>\n",
              "      <td>0.121583</td>\n",
              "      <td>0.889123</td>\n",
              "      <td>00:01</td>\n",
              "    </tr>\n",
              "    <tr>\n",
              "      <td>37</td>\n",
              "      <td>0.037471</td>\n",
              "      <td>0.130882</td>\n",
              "      <td>0.885677</td>\n",
              "      <td>00:01</td>\n",
              "    </tr>\n",
              "    <tr>\n",
              "      <td>38</td>\n",
              "      <td>0.041705</td>\n",
              "      <td>0.105188</td>\n",
              "      <td>0.893778</td>\n",
              "      <td>00:01</td>\n",
              "    </tr>\n",
              "    <tr>\n",
              "      <td>39</td>\n",
              "      <td>0.032479</td>\n",
              "      <td>0.114120</td>\n",
              "      <td>0.890629</td>\n",
              "      <td>00:01</td>\n",
              "    </tr>\n",
              "  </tbody>\n",
              "</table>"
            ],
            "text/plain": [
              "<IPython.core.display.HTML object>"
            ]
          },
          "metadata": {
            "tags": []
          }
        }
      ]
    },
    {
      "cell_type": "code",
      "metadata": {
        "id": "ihRBdQ3raaSC"
      },
      "source": [
        "x,y = dls.one_batch()\r\n",
        "learn.get_preds(dl = [(x,y)])"
      ],
      "execution_count": null,
      "outputs": []
    },
    {
      "cell_type": "code",
      "metadata": {
        "id": "e5nfBLpaa2RL"
      },
      "source": [
        "??Learner"
      ],
      "execution_count": 13,
      "outputs": []
    },
    {
      "cell_type": "code",
      "metadata": {
        "id": "8qtZq-qaEwtg"
      },
      "source": [
        "def init_params(size1, size2): return torch.randn(size1, size2).requires_grad_()\r\n",
        "\r\n",
        "def my_linear(weights, bias, x): return x@weights + bias\r\n",
        "\r\n",
        "def my_relu(x): return torch.maximum(tensor(0), x)\r\n",
        "\r\n",
        "def my_softmax(x): \r\n",
        "    # Normalize the input to avoid numerical problems\r\n",
        "    x = x - torch.max(x, dim = 1).values.view(-1, 1)\r\n",
        "    return torch.exp(x) / torch.exp(x).sum(dim = 1).unsqueeze(1)\r\n",
        "\r\n",
        "def my_centloss(x, y): \r\n",
        "    x = my_softmax(x)\r\n",
        "    y = y.view(-1, 1)\r\n",
        "    selection = torch.gather(x, 1, y)\r\n",
        "    #print(selection)\r\n",
        "    return (1-selection).mean()\r\n",
        "\r\n"
      ],
      "execution_count": 90,
      "outputs": []
    },
    {
      "cell_type": "code",
      "metadata": {
        "id": "YSsoiPqLiC72"
      },
      "source": [
        "w1 = init_params(28*28, 20)\r\n",
        "b1 = init_params(1, 1)\r\n",
        "w2 = init_params(20, 10)\r\n",
        "b2 = init_params(1, 1)\r\n",
        "lr = 1e-1\r\n",
        "params = w1, b1, w2, b2"
      ],
      "execution_count": 95,
      "outputs": []
    },
    {
      "cell_type": "code",
      "metadata": {
        "id": "WkpQaZUXuPCy",
        "outputId": "5dea2501-9e52-4414-ef74-5c9830206dbf",
        "colab": {
          "base_uri": "https://localhost:8080/"
        }
      },
      "source": [
        "type(params)"
      ],
      "execution_count": 96,
      "outputs": [
        {
          "output_type": "execute_result",
          "data": {
            "text/plain": [
              "tuple"
            ]
          },
          "metadata": {
            "tags": []
          },
          "execution_count": 96
        }
      ]
    },
    {
      "cell_type": "code",
      "metadata": {
        "id": "0vH9nfi2tUZG"
      },
      "source": [
        "def my_model(x):\r\n",
        "    lay1 = my_linear(w1, b1, x)\r\n",
        "    nonlin = my_relu(lay1)\r\n",
        "    preds = my_linear(w2, b2, nonlin)\r\n",
        "    return(preds)\r\n",
        "\r\n",
        "def update_grads(preds, y, params):\r\n",
        "    loss = my_centloss(preds, y)\r\n",
        "    loss.backward()\r\n",
        "    for p in params:\r\n",
        "        p.data -= p.grad*lr\r\n",
        "        p.grad = None\r\n",
        "\r\n",
        "def eval_batch():\r\n",
        "    preds = my_model(test_x_stacked)\r\n",
        "    positions = torch.max(preds, dim = 1).indices\r\n",
        "    return (positions == test_y_stacked).float().mean()\r\n"
      ],
      "execution_count": 104,
      "outputs": []
    },
    {
      "cell_type": "code",
      "metadata": {
        "id": "va0TYNMku9jf",
        "outputId": "47d94b2a-0d5e-4b7e-dc2c-53623e2d8c7e",
        "colab": {
          "base_uri": "https://localhost:8080/"
        }
      },
      "source": [
        "eval_batch()"
      ],
      "execution_count": 106,
      "outputs": [
        {
          "output_type": "execute_result",
          "data": {
            "text/plain": [
              "tensor(0.0984)"
            ]
          },
          "metadata": {
            "tags": []
          },
          "execution_count": 106
        }
      ]
    },
    {
      "cell_type": "code",
      "metadata": {
        "id": "8ilrpgqGiowq",
        "outputId": "39fd90b1-d56f-41dd-bb06-f6accd251edb",
        "colab": {
          "base_uri": "https://localhost:8080/"
        }
      },
      "source": [
        "train_x_stacked[:2].shape, train_y_stacked[:2].shape"
      ],
      "execution_count": 55,
      "outputs": [
        {
          "output_type": "execute_result",
          "data": {
            "text/plain": [
              "(torch.Size([2, 784]), torch.Size([2, 1]))"
            ]
          },
          "metadata": {
            "tags": []
          },
          "execution_count": 55
        }
      ]
    },
    {
      "cell_type": "code",
      "metadata": {
        "id": "I7zqSw9akHdL"
      },
      "source": [
        "lvl1 = my_linear(w1, b1, train_x_stacked[:2])\r\n",
        "nonlin = my_relu(lvl1)\r\n",
        "pred = my_linear(w2, b2, nonlin)\r\n",
        "loss = my_centloss(pred, train_y_stacked[:2])\r\n",
        "loss.backward()\r\n",
        "w1.data -= w1.grad*lr\r\n",
        "b1.data -= b1.grad*lr\r\n",
        "w2.data -= w2.grad*lr\r\n",
        "b2.data -= b2.grad*lr\r\n",
        "w1.grad = None\r\n",
        "b1.grad = None\r\n",
        "w2.grad = None\r\n",
        "b2.grad = None"
      ],
      "execution_count": 94,
      "outputs": []
    },
    {
      "cell_type": "code",
      "metadata": {
        "id": "K0JglOhvp0NE"
      },
      "source": [
        ""
      ],
      "execution_count": null,
      "outputs": []
    },
    {
      "cell_type": "code",
      "metadata": {
        "id": "dR9YN-5vnTUH",
        "outputId": "b117ef25-a466-44bb-d898-e0ac4422715f",
        "colab": {
          "base_uri": "https://localhost:8080/",
          "height": 227
        }
      },
      "source": [
        "w1.grad.data"
      ],
      "execution_count": 84,
      "outputs": [
        {
          "output_type": "stream",
          "text": [
            "/usr/local/lib/python3.6/dist-packages/ipykernel_launcher.py:1: UserWarning: The .grad attribute of a Tensor that is not a leaf Tensor is being accessed. Its .grad attribute won't be populated during autograd.backward(). If you indeed want the gradient for a non-leaf Tensor, use .retain_grad() on the non-leaf Tensor. If you access the non-leaf Tensor by mistake, make sure you access the leaf Tensor instead. See github.com/pytorch/pytorch/pull/30531 for more informations.\n",
            "  \"\"\"Entry point for launching an IPython kernel.\n"
          ],
          "name": "stderr"
        },
        {
          "output_type": "error",
          "ename": "AttributeError",
          "evalue": "ignored",
          "traceback": [
            "\u001b[0;31m---------------------------------------------------------------------------\u001b[0m",
            "\u001b[0;31mAttributeError\u001b[0m                            Traceback (most recent call last)",
            "\u001b[0;32m<ipython-input-84-8b460ced85ed>\u001b[0m in \u001b[0;36m<module>\u001b[0;34m()\u001b[0m\n\u001b[0;32m----> 1\u001b[0;31m \u001b[0mw1\u001b[0m\u001b[0;34m.\u001b[0m\u001b[0mgrad\u001b[0m\u001b[0;34m.\u001b[0m\u001b[0mdata\u001b[0m\u001b[0;34m\u001b[0m\u001b[0;34m\u001b[0m\u001b[0m\n\u001b[0m",
            "\u001b[0;31mAttributeError\u001b[0m: 'NoneType' object has no attribute 'data'"
          ]
        }
      ]
    },
    {
      "cell_type": "code",
      "metadata": {
        "id": "Sb-v-_-EktQ8",
        "outputId": "5592af40-4a56-4444-a0e6-810ecafc2779",
        "colab": {
          "base_uri": "https://localhost:8080/"
        }
      },
      "source": [
        "pred.shape\r\n",
        "torch.exp(pred)\r\n",
        "torch.max(pred, dim = 1).values.view(-1, 1)"
      ],
      "execution_count": 74,
      "outputs": [
        {
          "output_type": "execute_result",
          "data": {
            "text/plain": [
              "tensor([[126.2350],\n",
              "        [ 91.0678]], grad_fn=<ViewBackward>)"
            ]
          },
          "metadata": {
            "tags": []
          },
          "execution_count": 74
        }
      ]
    },
    {
      "cell_type": "code",
      "metadata": {
        "id": "EWXa5FR4lpDQ",
        "outputId": "4e9c5132-9a44-4d0b-cdca-d028b403ef6e",
        "colab": {
          "base_uri": "https://localhost:8080/"
        }
      },
      "source": [
        "pred - torch.max(pred, dim = 1).values.view(-1, 1)"
      ],
      "execution_count": 75,
      "outputs": [
        {
          "output_type": "execute_result",
          "data": {
            "text/plain": [
              "tensor([[   0.0000,  -73.9121, -126.6762,  -65.5008, -125.7796, -147.9242, -130.4742, -108.4133, -147.9715, -147.6310],\n",
              "        [   0.0000,  -74.6761,  -84.4303,  -55.9350,  -90.3402, -100.4288, -111.5041,  -77.1204, -107.2406,  -87.5272]], grad_fn=<SubBackward0>)"
            ]
          },
          "metadata": {
            "tags": []
          },
          "execution_count": 75
        }
      ]
    },
    {
      "cell_type": "code",
      "metadata": {
        "id": "nw0Nj67skfmr",
        "outputId": "28fa3f8a-a1ed-47e4-8f89-04b490261ad3",
        "colab": {
          "base_uri": "https://localhost:8080/"
        }
      },
      "source": [
        "pred"
      ],
      "execution_count": 59,
      "outputs": [
        {
          "output_type": "execute_result",
          "data": {
            "text/plain": [
              "tensor([[126.2350,  52.3229,  -0.4412,  60.7342,   0.4554, -21.6892,  -4.2392,  17.8218, -21.7365, -21.3959],\n",
              "        [ 91.0678,  16.3917,   6.6375,  35.1328,   0.7276,  -9.3610, -20.4363,  13.9474, -16.1729,   3.5406]], grad_fn=<AddBackward0>)"
            ]
          },
          "metadata": {
            "tags": []
          },
          "execution_count": 59
        }
      ]
    },
    {
      "cell_type": "code",
      "metadata": {
        "id": "m0Dt31sDFuZ8",
        "outputId": "9bd9374c-e99e-4c94-aebf-d3d90b0e9390",
        "colab": {
          "base_uri": "https://localhost:8080/"
        }
      },
      "source": [
        "test_tensor = tensor([1,-2,3], [-2,7,4]).float()\r\n",
        "test_tensor.shape"
      ],
      "execution_count": 15,
      "outputs": [
        {
          "output_type": "execute_result",
          "data": {
            "text/plain": [
              "torch.Size([2, 3])"
            ]
          },
          "metadata": {
            "tags": []
          },
          "execution_count": 15
        }
      ]
    },
    {
      "cell_type": "code",
      "metadata": {
        "id": "gEaVFpT8IcSR",
        "outputId": "7faa03c5-30dc-4618-d5ba-5dadd9add2d4",
        "colab": {
          "base_uri": "https://localhost:8080/"
        }
      },
      "source": [
        "(torch.exp(test_tensor) / torch.exp(test_tensor).sum(dim = 1).unsqueeze(1)).sum(1)"
      ],
      "execution_count": 16,
      "outputs": [
        {
          "output_type": "execute_result",
          "data": {
            "text/plain": [
              "tensor([1., 1.])"
            ]
          },
          "metadata": {
            "tags": []
          },
          "execution_count": 16
        }
      ]
    },
    {
      "cell_type": "code",
      "metadata": {
        "id": "p1_XkQclKEc_",
        "outputId": "b84a16d8-d936-4702-a26e-e987cdb44bac",
        "colab": {
          "base_uri": "https://localhost:8080/"
        }
      },
      "source": [
        "my_softmax(tensor([1,1,3], [-2,7,1]).float())\r\n",
        "(tensor(1) - tensor([[0.1065], [0.0025]])).mean()"
      ],
      "execution_count": 46,
      "outputs": [
        {
          "output_type": "execute_result",
          "data": {
            "text/plain": [
              "tensor(0.9455)"
            ]
          },
          "metadata": {
            "tags": []
          },
          "execution_count": 46
        }
      ]
    },
    {
      "cell_type": "code",
      "metadata": {
        "id": "bd-GrnPULQpX",
        "outputId": "483a395c-131b-43e2-ace5-06e1ce471501",
        "colab": {
          "base_uri": "https://localhost:8080/"
        }
      },
      "source": [
        "my_centloss(tensor([1,1,3], [-2,7,1]).float(), tensor([1,2]))"
      ],
      "execution_count": 43,
      "outputs": [
        {
          "output_type": "stream",
          "text": [
            "tensor([[0.1065],\n",
            "        [0.0025]])\n"
          ],
          "name": "stdout"
        },
        {
          "output_type": "execute_result",
          "data": {
            "text/plain": [
              "tensor(0.9455)"
            ]
          },
          "metadata": {
            "tags": []
          },
          "execution_count": 43
        }
      ]
    },
    {
      "cell_type": "code",
      "metadata": {
        "id": "DHhPrxgHdP_L",
        "outputId": "b317fa6f-b625-436d-af0f-5a02fe9919e7",
        "colab": {
          "base_uri": "https://localhost:8080/"
        }
      },
      "source": [
        "test_tensor = torch.tensor([[1,-2,3], [-2,7,4], [1,1,1]]).float()\r\n",
        "select_tensor = torch.tensor([1,2, 0], dtype=torch.int64).view(-1,1) # number of dimension should match with the test tensor.\r\n",
        "final_tensor = torch.gather(test_tensor, 1, select_tensor)\r\n",
        "final_tensor"
      ],
      "execution_count": 26,
      "outputs": [
        {
          "output_type": "execute_result",
          "data": {
            "text/plain": [
              "tensor([[-2.],\n",
              "        [ 4.],\n",
              "        [ 1.]])"
            ]
          },
          "metadata": {
            "tags": []
          },
          "execution_count": 26
        }
      ]
    },
    {
      "cell_type": "code",
      "metadata": {
        "id": "1QLInqcxdW-V",
        "outputId": "01bab4fd-77e1-40a3-9314-0c398c74d8d7",
        "colab": {
          "base_uri": "https://localhost:8080/"
        }
      },
      "source": [
        "torch.gather(test_tensor, 0, select_tensor)"
      ],
      "execution_count": 27,
      "outputs": [
        {
          "output_type": "execute_result",
          "data": {
            "text/plain": [
              "tensor([[-2.],\n",
              "        [ 1.],\n",
              "        [ 1.]])"
            ]
          },
          "metadata": {
            "tags": []
          },
          "execution_count": 27
        }
      ]
    }
  ]
}