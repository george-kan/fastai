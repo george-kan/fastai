{
 "cells": [
  {
   "cell_type": "markdown",
   "metadata": {},
   "source": [
    "1) Where do text models currenty have a major deficiency?  \n",
    "They do not have the possibility to create 'correct' responses to for example medical questions. But they can provide an answer which sounds correct to a non-specialist."
   ]
  },
  {
   "cell_type": "markdown",
   "metadata": {},
   "source": [
    "2) What are possible negative societal implications of text generation models?  \n",
    "As mentioned before, text generation models are in a position to provide answers to questions and generate social media replies that seem correct and sound convincing to the average person. Given how easy it is to generate these replies, it could be used to cause unrest in society by spreading harmful messages"
   ]
  },
  {
   "cell_type": "markdown",
   "metadata": {},
   "source": [
    "3) In situations where a model might make mistakes, and those mistakes could be harmful, what is a good alternative to automating a process?  \n",
    "Combining the model input with some supervision from humans. The models could generate predictions and based on the prediction type (if it is urgent or crucial to the company) a system could notify the human to double check these incidents"
   ]
  },
  {
   "cell_type": "markdown",
   "metadata": {},
   "source": [
    "4) What kind of tabular data is deep learning particularly good at?  \n",
    "Deep learning is good for using complex tabular information such as text or categorical columns with a lot of values."
   ]
  },
  {
   "cell_type": "markdown",
   "metadata": {},
   "source": [
    "5) What's a key downside of directly using a deep learning model for recommendation systems?  \n",
    "The deep learning model provides choices which are answering the question 'What would the user like' but this might not be ideal for a recommendation system. For example, such a system would recommend to the user some of the products they have already purchased but in a different packaging which is not very helpful."
   ]
  }
 ],
 "metadata": {
  "kernelspec": {
   "display_name": "Python 3",
   "language": "python",
   "name": "python3"
  },
  "language_info": {
   "codemirror_mode": {
    "name": "ipython",
    "version": 3
   },
   "file_extension": ".py",
   "mimetype": "text/x-python",
   "name": "python",
   "nbconvert_exporter": "python",
   "pygments_lexer": "ipython3",
   "version": "3.7.3"
  }
 },
 "nbformat": 4,
 "nbformat_minor": 4
}
