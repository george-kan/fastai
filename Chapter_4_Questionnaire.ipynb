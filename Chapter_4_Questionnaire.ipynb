{
 "cells": [
  {
   "cell_type": "markdown",
   "metadata": {},
   "source": [
    "Chapter 4 Questionnaire"
   ]
  },
  {
   "cell_type": "markdown",
   "metadata": {},
   "source": [
    "1) How is a grayscale image represented on a computer? How about a color image?\n",
    "For a greyscale image, every pixel is a number where white corresponds to 0 and fully back corresponds to 255\n",
    "For a color image, every pixel is represented by 3 values on 3 arrays of the same size. They are Red, Green and Blue (RGB)"
   ]
  },
  {
   "cell_type": "markdown",
   "metadata": {},
   "source": [
    "2) How are the files and folders in the MNIST_SAMPLE dataset structured? Why?\n",
    "There is one folder for the Train samples and one folder for the Validation/Test samples. The subfolders are split based on the number the pictures correspond to, so the subfolder 'threes' contains all the images of 3. \n",
    "This separation helps for creating the target variables and for separating Train and Test data."
   ]
  },
  {
   "cell_type": "markdown",
   "metadata": {},
   "source": [
    "3) Explain how the \"pixel similarity\" approach to classifying digits work\n",
    "The first part of the pixel similarity approach is to create the \"average three\" and the \"average seven\". Each pixel value of these averages corresponds to the mean of all the values of this particular pixel from all threes (or all sevens respectively). This is what we compare against in the classifier. \n",
    "\n",
    "The second part consists of establishing a measure of distance between the picture at hand and the average three (or the average seven). This is done by taking the mean of either the absolute difference of each pixel or of the squared difference of each pixel. \n",
    "\n",
    "After establishing the distance of the picture at hand from the averages, the classifier picks the value that is the smallest, that is if the distance of the test picture is smaller from the \"average three\" than it is from the \"average seven\" then the classifier selects 3 as its guess."
   ]
  },
  {
   "cell_type": "markdown",
   "metadata": {},
   "source": [
    "4) What is a list comprehension? Create one now that selects odd numbers from a list and doubles them\n",
    "A list comprehension is a python operation that allows operations to be performed on each element of a list in a compactly written form"
   ]
  },
  {
   "cell_type": "code",
   "execution_count": 1,
   "metadata": {},
   "outputs": [
    {
     "data": {
      "text/plain": [
       "[2, 6, 10, 14, 18, 22, 26, 30, 34, 38, 42, 46, 50, 54, 58]"
      ]
     },
     "execution_count": 1,
     "metadata": {},
     "output_type": "execute_result"
    }
   ],
   "source": [
    "my_list = list(range(30))\n",
    "[x*2 for x in my_list if x%2 != 0]"
   ]
  },
  {
   "cell_type": "markdown",
   "metadata": {},
   "source": [
    "5) What is a rank 3 tensor?\n",
    "A rank 3 tensor is a tensor that has 3 dimensions or axes. When running tensor.shape this should return 3 numbers"
   ]
  },
  {
   "cell_type": "markdown",
   "metadata": {},
   "source": [
    "6) What is the difference between tensor rank and shape? How do you get the rank from the shape? \n",
    "The shape of a tensor tells the user how many entries correspond to each dimension of the tensor. For example a tensor that has a shape 3,7,4 is essentially a 3 dimensional matrix with 4 entries available in the first dimension, 7 entries for the second and 3 for the 3rd. The three numbers that are returned via the tensor.shape attribute correspond to the rank of the tensor."
   ]
  },
  {
   "cell_type": "markdown",
   "metadata": {},
   "source": [
    "7) What are RMSE and L1 norm?\n",
    "RMSE stands for root mean squared error and as the name suggests takes the error between prediction and target squares it, averages it and then takes the square root. It is also called the L2 norm.\n",
    "L1 norm is the mean of the absolute value of the difference between prediction and target. "
   ]
  },
  {
   "cell_type": "markdown",
   "metadata": {},
   "source": [
    "8) How can you apply a calculation on thousands of numbers at once, many thousands of times faster than a Python loop? \n",
    "By using broadcasting. Python computes elementwise calculations very fast in an efficient manner in C. Broadcasting works in two scenarios:\n",
    "a) One of the two dimensions that differ are equal to 1 and this one is \"streched\" to match the other one\n",
    "b) The dimension is missing completely"
   ]
  },
  {
   "cell_type": "code",
   "execution_count": 19,
   "metadata": {},
   "outputs": [
    {
     "data": {
      "text/plain": [
       "tensor([[5, 5, 5],\n",
       "        [3, 3, 3],\n",
       "        [2, 2, 2]])"
      ]
     },
     "execution_count": 19,
     "metadata": {},
     "output_type": "execute_result"
    }
   ],
   "source": [
    "import torch\n",
    "M_data = [[1., 2., 3.], [4., 5., 6]]\n",
    "M = torch.tensor(M_data)\n",
    "M.shape\n",
    "(M-1).shape\n",
    "# Here the following changes happened to the tensors:\n",
    "# 1 which is a tensor with dimensions (1) was stretched initially to match the first dimension of the M tensor (3)\n",
    "# As there is no second dimension for 1 it was just \"copied\" as many times as needed\n",
    "M2 = torch.tensor([[1,2], [4,6]])\n",
    "M2.shape\n",
    "#M + M2 This does not work as the dimensions are not aligned \n",
    "M3 = torch.tensor([[4], [2], [1]])\n",
    "M3.shape\n",
    "\n",
    "M4 = torch.tensor([1,1,1]).unsqueeze(0)\n",
    "M4.shape\n",
    "M3 + M4\n",
    "\n",
    "# Here what happened is the following: M3 has a shape of (3,1) and M4 has a shape of (1,3).\n",
    "# Starting from the 1st dimension M3 was expanded to have 3 columns so it became [[4,4,4], [2,2,2], [1,1,1]]\n",
    "# For the 2nd dimension M4 was expanded to have 3 rows so [[1,1,1], [1,1,1], [1,1,1]]"
   ]
  }
 ],
 "metadata": {
  "kernelspec": {
   "display_name": "Python 3",
   "language": "python",
   "name": "python3"
  },
  "language_info": {
   "codemirror_mode": {
    "name": "ipython",
    "version": 3
   },
   "file_extension": ".py",
   "mimetype": "text/x-python",
   "name": "python",
   "nbconvert_exporter": "python",
   "pygments_lexer": "ipython3",
   "version": "3.7.3"
  }
 },
 "nbformat": 4,
 "nbformat_minor": 4
}
