{
  "nbformat": 4,
  "nbformat_minor": 0,
  "metadata": {
    "colab": {
      "name": "Chapter 13 notes",
      "provenance": [],
      "authorship_tag": "ABX9TyOItfHSggS7IATHCDVzhabb",
      "include_colab_link": true
    },
    "kernelspec": {
      "name": "python3",
      "display_name": "Python 3"
    },
    "accelerator": "GPU"
  },
  "cells": [
    {
      "cell_type": "markdown",
      "metadata": {
        "id": "view-in-github",
        "colab_type": "text"
      },
      "source": [
        "<a href=\"https://colab.research.google.com/github/george-kan/fastai/blob/main/Chapter13/Chapter_13_notes.ipynb\" target=\"_parent\"><img src=\"https://colab.research.google.com/assets/colab-badge.svg\" alt=\"Open In Colab\"/></a>"
      ]
    },
    {
      "cell_type": "code",
      "metadata": {
        "colab": {
          "base_uri": "https://localhost:8080/"
        },
        "id": "iAH-iS8glwXL",
        "outputId": "612865ed-2865-4c53-adc4-ff452adef874"
      },
      "source": [
        "!pip install --upgrade fastai\r\n",
        "from fastai.vision.all import *\r\n",
        "from fastai import *"
      ],
      "execution_count": 1,
      "outputs": [
        {
          "output_type": "stream",
          "text": [
            "Collecting fastai\n",
            "\u001b[?25l  Downloading https://files.pythonhosted.org/packages/f3/09/36d4d472d0c953f5d931f4c415f715a909793e5d222af205f3e65c034da3/fastai-2.2.5-py3-none-any.whl (191kB)\n",
            "\r\u001b[K     |█▊                              | 10kB 21.1MB/s eta 0:00:01\r\u001b[K     |███▍                            | 20kB 20.7MB/s eta 0:00:01\r\u001b[K     |█████▏                          | 30kB 11.8MB/s eta 0:00:01\r\u001b[K     |██████▉                         | 40kB 9.6MB/s eta 0:00:01\r\u001b[K     |████████▋                       | 51kB 7.8MB/s eta 0:00:01\r\u001b[K     |██████████▎                     | 61kB 8.2MB/s eta 0:00:01\r\u001b[K     |████████████                    | 71kB 8.5MB/s eta 0:00:01\r\u001b[K     |█████████████▊                  | 81kB 8.8MB/s eta 0:00:01\r\u001b[K     |███████████████▍                | 92kB 8.1MB/s eta 0:00:01\r\u001b[K     |█████████████████▏              | 102kB 7.5MB/s eta 0:00:01\r\u001b[K     |██████████████████▉             | 112kB 7.5MB/s eta 0:00:01\r\u001b[K     |████████████████████▋           | 122kB 7.5MB/s eta 0:00:01\r\u001b[K     |██████████████████████▎         | 133kB 7.5MB/s eta 0:00:01\r\u001b[K     |████████████████████████        | 143kB 7.5MB/s eta 0:00:01\r\u001b[K     |█████████████████████████▊      | 153kB 7.5MB/s eta 0:00:01\r\u001b[K     |███████████████████████████▍    | 163kB 7.5MB/s eta 0:00:01\r\u001b[K     |█████████████████████████████▏  | 174kB 7.5MB/s eta 0:00:01\r\u001b[K     |██████████████████████████████▉ | 184kB 7.5MB/s eta 0:00:01\r\u001b[K     |████████████████████████████████| 194kB 7.5MB/s \n",
            "\u001b[?25hRequirement already satisfied, skipping upgrade: torch<1.8,>=1.7.0 in /usr/local/lib/python3.6/dist-packages (from fastai) (1.7.0+cu101)\n",
            "Requirement already satisfied, skipping upgrade: requests in /usr/local/lib/python3.6/dist-packages (from fastai) (2.23.0)\n",
            "Requirement already satisfied, skipping upgrade: packaging in /usr/local/lib/python3.6/dist-packages (from fastai) (20.9)\n",
            "Requirement already satisfied, skipping upgrade: fastprogress>=0.2.4 in /usr/local/lib/python3.6/dist-packages (from fastai) (1.0.0)\n",
            "Requirement already satisfied, skipping upgrade: matplotlib in /usr/local/lib/python3.6/dist-packages (from fastai) (3.2.2)\n",
            "Requirement already satisfied, skipping upgrade: torchvision<0.9,>=0.8 in /usr/local/lib/python3.6/dist-packages (from fastai) (0.8.1+cu101)\n",
            "Requirement already satisfied, skipping upgrade: pillow>6.0.0 in /usr/local/lib/python3.6/dist-packages (from fastai) (7.0.0)\n",
            "Requirement already satisfied, skipping upgrade: scikit-learn in /usr/local/lib/python3.6/dist-packages (from fastai) (0.22.2.post1)\n",
            "Requirement already satisfied, skipping upgrade: scipy in /usr/local/lib/python3.6/dist-packages (from fastai) (1.4.1)\n",
            "Requirement already satisfied, skipping upgrade: pip in /usr/local/lib/python3.6/dist-packages (from fastai) (19.3.1)\n",
            "Requirement already satisfied, skipping upgrade: pandas in /usr/local/lib/python3.6/dist-packages (from fastai) (1.1.5)\n",
            "Requirement already satisfied, skipping upgrade: spacy in /usr/local/lib/python3.6/dist-packages (from fastai) (2.2.4)\n",
            "Requirement already satisfied, skipping upgrade: pyyaml in /usr/local/lib/python3.6/dist-packages (from fastai) (3.13)\n",
            "Collecting fastcore<1.4,>=1.3.8\n",
            "\u001b[?25l  Downloading https://files.pythonhosted.org/packages/0c/98/60404e2817cff113a6ae4023bc1772e23179408fdf7857fa410551758dfe/fastcore-1.3.19-py3-none-any.whl (53kB)\n",
            "\u001b[K     |████████████████████████████████| 61kB 7.7MB/s \n",
            "\u001b[?25hRequirement already satisfied, skipping upgrade: future in /usr/local/lib/python3.6/dist-packages (from torch<1.8,>=1.7.0->fastai) (0.16.0)\n",
            "Requirement already satisfied, skipping upgrade: dataclasses in /usr/local/lib/python3.6/dist-packages (from torch<1.8,>=1.7.0->fastai) (0.8)\n",
            "Requirement already satisfied, skipping upgrade: numpy in /usr/local/lib/python3.6/dist-packages (from torch<1.8,>=1.7.0->fastai) (1.19.5)\n",
            "Requirement already satisfied, skipping upgrade: typing-extensions in /usr/local/lib/python3.6/dist-packages (from torch<1.8,>=1.7.0->fastai) (3.7.4.3)\n",
            "Requirement already satisfied, skipping upgrade: idna<3,>=2.5 in /usr/local/lib/python3.6/dist-packages (from requests->fastai) (2.10)\n",
            "Requirement already satisfied, skipping upgrade: chardet<4,>=3.0.2 in /usr/local/lib/python3.6/dist-packages (from requests->fastai) (3.0.4)\n",
            "Requirement already satisfied, skipping upgrade: certifi>=2017.4.17 in /usr/local/lib/python3.6/dist-packages (from requests->fastai) (2020.12.5)\n",
            "Requirement already satisfied, skipping upgrade: urllib3!=1.25.0,!=1.25.1,<1.26,>=1.21.1 in /usr/local/lib/python3.6/dist-packages (from requests->fastai) (1.24.3)\n",
            "Requirement already satisfied, skipping upgrade: pyparsing>=2.0.2 in /usr/local/lib/python3.6/dist-packages (from packaging->fastai) (2.4.7)\n",
            "Requirement already satisfied, skipping upgrade: cycler>=0.10 in /usr/local/lib/python3.6/dist-packages (from matplotlib->fastai) (0.10.0)\n",
            "Requirement already satisfied, skipping upgrade: kiwisolver>=1.0.1 in /usr/local/lib/python3.6/dist-packages (from matplotlib->fastai) (1.3.1)\n",
            "Requirement already satisfied, skipping upgrade: python-dateutil>=2.1 in /usr/local/lib/python3.6/dist-packages (from matplotlib->fastai) (2.8.1)\n",
            "Requirement already satisfied, skipping upgrade: joblib>=0.11 in /usr/local/lib/python3.6/dist-packages (from scikit-learn->fastai) (1.0.0)\n",
            "Requirement already satisfied, skipping upgrade: pytz>=2017.2 in /usr/local/lib/python3.6/dist-packages (from pandas->fastai) (2018.9)\n",
            "Requirement already satisfied, skipping upgrade: blis<0.5.0,>=0.4.0 in /usr/local/lib/python3.6/dist-packages (from spacy->fastai) (0.4.1)\n",
            "Requirement already satisfied, skipping upgrade: tqdm<5.0.0,>=4.38.0 in /usr/local/lib/python3.6/dist-packages (from spacy->fastai) (4.41.1)\n",
            "Requirement already satisfied, skipping upgrade: murmurhash<1.1.0,>=0.28.0 in /usr/local/lib/python3.6/dist-packages (from spacy->fastai) (1.0.5)\n",
            "Requirement already satisfied, skipping upgrade: wasabi<1.1.0,>=0.4.0 in /usr/local/lib/python3.6/dist-packages (from spacy->fastai) (0.8.2)\n",
            "Requirement already satisfied, skipping upgrade: cymem<2.1.0,>=2.0.2 in /usr/local/lib/python3.6/dist-packages (from spacy->fastai) (2.0.5)\n",
            "Requirement already satisfied, skipping upgrade: preshed<3.1.0,>=3.0.2 in /usr/local/lib/python3.6/dist-packages (from spacy->fastai) (3.0.5)\n",
            "Requirement already satisfied, skipping upgrade: srsly<1.1.0,>=1.0.2 in /usr/local/lib/python3.6/dist-packages (from spacy->fastai) (1.0.5)\n",
            "Requirement already satisfied, skipping upgrade: plac<1.2.0,>=0.9.6 in /usr/local/lib/python3.6/dist-packages (from spacy->fastai) (1.1.3)\n",
            "Requirement already satisfied, skipping upgrade: setuptools in /usr/local/lib/python3.6/dist-packages (from spacy->fastai) (53.0.0)\n",
            "Requirement already satisfied, skipping upgrade: catalogue<1.1.0,>=0.0.7 in /usr/local/lib/python3.6/dist-packages (from spacy->fastai) (1.0.0)\n",
            "Requirement already satisfied, skipping upgrade: thinc==7.4.0 in /usr/local/lib/python3.6/dist-packages (from spacy->fastai) (7.4.0)\n",
            "Requirement already satisfied, skipping upgrade: six in /usr/local/lib/python3.6/dist-packages (from cycler>=0.10->matplotlib->fastai) (1.15.0)\n",
            "Requirement already satisfied, skipping upgrade: importlib-metadata>=0.20; python_version < \"3.8\" in /usr/local/lib/python3.6/dist-packages (from catalogue<1.1.0,>=0.0.7->spacy->fastai) (3.4.0)\n",
            "Requirement already satisfied, skipping upgrade: zipp>=0.5 in /usr/local/lib/python3.6/dist-packages (from importlib-metadata>=0.20; python_version < \"3.8\"->catalogue<1.1.0,>=0.0.7->spacy->fastai) (3.4.0)\n",
            "Installing collected packages: fastcore, fastai\n",
            "  Found existing installation: fastai 1.0.61\n",
            "    Uninstalling fastai-1.0.61:\n",
            "      Successfully uninstalled fastai-1.0.61\n",
            "Successfully installed fastai-2.2.5 fastcore-1.3.19\n"
          ],
          "name": "stdout"
        }
      ]
    },
    {
      "cell_type": "code",
      "metadata": {
        "id": "FuMv-SymmOA4"
      },
      "source": [
        "top_edge = tensor([[-1,-1,-1],\r\n",
        "                  [0,0,0],\r\n",
        "                  [1,1,1]]).float()"
      ],
      "execution_count": 2,
      "outputs": []
    },
    {
      "cell_type": "code",
      "metadata": {
        "colab": {
          "base_uri": "https://localhost:8080/",
          "height": 102
        },
        "id": "eSjyNJ58mn1w",
        "outputId": "23f3b9bf-b52a-4e4e-8fa3-67fdbd883560"
      },
      "source": [
        "path = untar_data(URLs.MNIST_SAMPLE)\r\n",
        "im3 = Image.open(path/'train'/'3'/'12.png')\r\n",
        "show_image(im3, cmap = 'gray')"
      ],
      "execution_count": 3,
      "outputs": [
        {
          "output_type": "display_data",
          "data": {
            "text/html": [
              ""
            ],
            "text/plain": [
              "<IPython.core.display.HTML object>"
            ]
          },
          "metadata": {
            "tags": []
          }
        },
        {
          "output_type": "execute_result",
          "data": {
            "text/plain": [
              "<matplotlib.axes._subplots.AxesSubplot at 0x7f10d5c54160>"
            ]
          },
          "metadata": {
            "tags": []
          },
          "execution_count": 3
        },
        {
          "output_type": "display_data",
          "data": {
            "image/png": "[encoded data removed]",
            "text/plain": [
              "<Figure size 72x72 with 1 Axes>"
            ]
          },
          "metadata": {
            "tags": [],
            "needs_background": "light"
          }
        }
      ]
    },
    {
      "cell_type": "code",
      "metadata": {
        "colab": {
          "base_uri": "https://localhost:8080/",
          "height": 250
        },
        "id": "P-oLf6lwnIWt",
        "outputId": "77dbf272-ea70-4502-dc5c-437aed0812e2"
      },
      "source": [
        "im3_t = tensor(im3)\r\n",
        "df = pd.DataFrame(im3_t[:10, :20])\r\n",
        "df.style.set_properties(**{'font-size':'6pt'}).background_gradient('Greys')"
      ],
      "execution_count": 4,
      "outputs": [
        {
          "output_type": "execute_result",
          "data": {
            "text/html": [
              "<style  type=\"text/css\" >\n",
              "#T_7df3113e_69d4_11eb_b46b_0242ac1c0002row0_col0,#T_7df3113e_69d4_11eb_b46b_0242ac1c0002row0_col1,#T_7df3113e_69d4_11eb_b46b_0242ac1c0002row0_col2,#T_7df3113e_69d4_11eb_b46b_0242ac1c0002row0_col3,#T_7df3113e_69d4_11eb_b46b_0242ac1c0002row0_col4,#T_7df3113e_69d4_11eb_b46b_0242ac1c0002row0_col5,#T_7df3113e_69d4_11eb_b46b_0242ac1c0002row0_col6,#T_7df3113e_69d4_11eb_b46b_0242ac1c0002row0_col7,#T_7df3113e_69d4_11eb_b46b_0242ac1c0002row0_col8,#T_7df3113e_69d4_11eb_b46b_0242ac1c0002row0_col9,#T_7df3113e_69d4_11eb_b46b_0242ac1c0002row0_col10,#T_7df3113e_69d4_11eb_b46b_0242ac1c0002row0_col11,#T_7df3113e_69d4_11eb_b46b_0242ac1c0002row0_col12,#T_7df3113e_69d4_11eb_b46b_0242ac1c0002row0_col13,#T_7df3113e_69d4_11eb_b46b_0242ac1c0002row0_col14,#T_7df3113e_69d4_11eb_b46b_0242ac1c0002row0_col15,#T_7df3113e_69d4_11eb_b46b_0242ac1c0002row0_col16,#T_7df3113e_69d4_11eb_b46b_0242ac1c0002row0_col17,#T_7df3113e_69d4_11eb_b46b_0242ac1c0002row0_col18,#T_7df3113e_69d4_11eb_b46b_0242ac1c0002row0_col19,#T_7df3113e_69d4_11eb_b46b_0242ac1c0002row1_col0,#T_7df3113e_69d4_11eb_b46b_0242ac1c0002row1_col1,#T_7df3113e_69d4_11eb_b46b_0242ac1c0002row1_col2,#T_7df3113e_69d4_11eb_b46b_0242ac1c0002row1_col3,#T_7df3113e_69d4_11eb_b46b_0242ac1c0002row1_col4,#T_7df3113e_69d4_11eb_b46b_0242ac1c0002row1_col5,#T_7df3113e_69d4_11eb_b46b_0242ac1c0002row1_col6,#T_7df3113e_69d4_11eb_b46b_0242ac1c0002row1_col7,#T_7df3113e_69d4_11eb_b46b_0242ac1c0002row1_col8,#T_7df3113e_69d4_11eb_b46b_0242ac1c0002row1_col9,#T_7df3113e_69d4_11eb_b46b_0242ac1c0002row1_col10,#T_7df3113e_69d4_11eb_b46b_0242ac1c0002row1_col11,#T_7df3113e_69d4_11eb_b46b_0242ac1c0002row1_col12,#T_7df3113e_69d4_11eb_b46b_0242ac1c0002row1_col13,#T_7df3113e_69d4_11eb_b46b_0242ac1c0002row1_col14,#T_7df3113e_69d4_11eb_b46b_0242ac1c0002row1_col15,#T_7df3113e_69d4_11eb_b46b_0242ac1c0002row1_col16,#T_7df3113e_69d4_11eb_b46b_0242ac1c0002row1_col17,#T_7df3113e_69d4_11eb_b46b_0242ac1c0002row1_col18,#T_7df3113e_69d4_11eb_b46b_0242ac1c0002row1_col19,#T_7df3113e_69d4_11eb_b46b_0242ac1c0002row2_col0,#T_7df3113e_69d4_11eb_b46b_0242ac1c0002row2_col1,#T_7df3113e_69d4_11eb_b46b_0242ac1c0002row2_col2,#T_7df3113e_69d4_11eb_b46b_0242ac1c0002row2_col3,#T_7df3113e_69d4_11eb_b46b_0242ac1c0002row2_col4,#T_7df3113e_69d4_11eb_b46b_0242ac1c0002row2_col5,#T_7df3113e_69d4_11eb_b46b_0242ac1c0002row2_col6,#T_7df3113e_69d4_11eb_b46b_0242ac1c0002row2_col7,#T_7df3113e_69d4_11eb_b46b_0242ac1c0002row2_col8,#T_7df3113e_69d4_11eb_b46b_0242ac1c0002row2_col9,#T_7df3113e_69d4_11eb_b46b_0242ac1c0002row2_col10,#T_7df3113e_69d4_11eb_b46b_0242ac1c0002row2_col11,#T_7df3113e_69d4_11eb_b46b_0242ac1c0002row2_col12,#T_7df3113e_69d4_11eb_b46b_0242ac1c0002row2_col13,#T_7df3113e_69d4_11eb_b46b_0242ac1c0002row2_col14,#T_7df3113e_69d4_11eb_b46b_0242ac1c0002row2_col15,#T_7df3113e_69d4_11eb_b46b_0242ac1c0002row2_col16,#T_7df3113e_69d4_11eb_b46b_0242ac1c0002row2_col17,#T_7df3113e_69d4_11eb_b46b_0242ac1c0002row2_col18,#T_7df3113e_69d4_11eb_b46b_0242ac1c0002row2_col19,#T_7df3113e_69d4_11eb_b46b_0242ac1c0002row3_col0,#T_7df3113e_69d4_11eb_b46b_0242ac1c0002row3_col1,#T_7df3113e_69d4_11eb_b46b_0242ac1c0002row3_col2,#T_7df3113e_69d4_11eb_b46b_0242ac1c0002row3_col3,#T_7df3113e_69d4_11eb_b46b_0242ac1c0002row3_col4,#T_7df3113e_69d4_11eb_b46b_0242ac1c0002row3_col5,#T_7df3113e_69d4_11eb_b46b_0242ac1c0002row3_col6,#T_7df3113e_69d4_11eb_b46b_0242ac1c0002row3_col7,#T_7df3113e_69d4_11eb_b46b_0242ac1c0002row3_col8,#T_7df3113e_69d4_11eb_b46b_0242ac1c0002row3_col9,#T_7df3113e_69d4_11eb_b46b_0242ac1c0002row3_col10,#T_7df3113e_69d4_11eb_b46b_0242ac1c0002row3_col11,#T_7df3113e_69d4_11eb_b46b_0242ac1c0002row3_col12,#T_7df3113e_69d4_11eb_b46b_0242ac1c0002row3_col13,#T_7df3113e_69d4_11eb_b46b_0242ac1c0002row3_col14,#T_7df3113e_69d4_11eb_b46b_0242ac1c0002row3_col15,#T_7df3113e_69d4_11eb_b46b_0242ac1c0002row3_col16,#T_7df3113e_69d4_11eb_b46b_0242ac1c0002row3_col17,#T_7df3113e_69d4_11eb_b46b_0242ac1c0002row3_col18,#T_7df3113e_69d4_11eb_b46b_0242ac1c0002row3_col19,#T_7df3113e_69d4_11eb_b46b_0242ac1c0002row4_col0,#T_7df3113e_69d4_11eb_b46b_0242ac1c0002row4_col1,#T_7df3113e_69d4_11eb_b46b_0242ac1c0002row4_col2,#T_7df3113e_69d4_11eb_b46b_0242ac1c0002row4_col3,#T_7df3113e_69d4_11eb_b46b_0242ac1c0002row4_col4,#T_7df3113e_69d4_11eb_b46b_0242ac1c0002row4_col5,#T_7df3113e_69d4_11eb_b46b_0242ac1c0002row4_col6,#T_7df3113e_69d4_11eb_b46b_0242ac1c0002row4_col7,#T_7df3113e_69d4_11eb_b46b_0242ac1c0002row4_col8,#T_7df3113e_69d4_11eb_b46b_0242ac1c0002row4_col9,#T_7df3113e_69d4_11eb_b46b_0242ac1c0002row4_col10,#T_7df3113e_69d4_11eb_b46b_0242ac1c0002row4_col11,#T_7df3113e_69d4_11eb_b46b_0242ac1c0002row4_col12,#T_7df3113e_69d4_11eb_b46b_0242ac1c0002row4_col13,#T_7df3113e_69d4_11eb_b46b_0242ac1c0002row4_col14,#T_7df3113e_69d4_11eb_b46b_0242ac1c0002row4_col15,#T_7df3113e_69d4_11eb_b46b_0242ac1c0002row4_col16,#T_7df3113e_69d4_11eb_b46b_0242ac1c0002row4_col17,#T_7df3113e_69d4_11eb_b46b_0242ac1c0002row4_col18,#T_7df3113e_69d4_11eb_b46b_0242ac1c0002row4_col19,#T_7df3113e_69d4_11eb_b46b_0242ac1c0002row5_col0,#T_7df3113e_69d4_11eb_b46b_0242ac1c0002row5_col1,#T_7df3113e_69d4_11eb_b46b_0242ac1c0002row5_col2,#T_7df3113e_69d4_11eb_b46b_0242ac1c0002row5_col16,#T_7df3113e_69d4_11eb_b46b_0242ac1c0002row5_col17,#T_7df3113e_69d4_11eb_b46b_0242ac1c0002row5_col18,#T_7df3113e_69d4_11eb_b46b_0242ac1c0002row5_col19,#T_7df3113e_69d4_11eb_b46b_0242ac1c0002row6_col0,#T_7df3113e_69d4_11eb_b46b_0242ac1c0002row6_col1,#T_7df3113e_69d4_11eb_b46b_0242ac1c0002row6_col2,#T_7df3113e_69d4_11eb_b46b_0242ac1c0002row6_col19,#T_7df3113e_69d4_11eb_b46b_0242ac1c0002row7_col0,#T_7df3113e_69d4_11eb_b46b_0242ac1c0002row7_col1,#T_7df3113e_69d4_11eb_b46b_0242ac1c0002row7_col2,#T_7df3113e_69d4_11eb_b46b_0242ac1c0002row7_col19,#T_7df3113e_69d4_11eb_b46b_0242ac1c0002row8_col0,#T_7df3113e_69d4_11eb_b46b_0242ac1c0002row8_col1,#T_7df3113e_69d4_11eb_b46b_0242ac1c0002row8_col2,#T_7df3113e_69d4_11eb_b46b_0242ac1c0002row8_col8,#T_7df3113e_69d4_11eb_b46b_0242ac1c0002row8_col9,#T_7df3113e_69d4_11eb_b46b_0242ac1c0002row8_col10,#T_7df3113e_69d4_11eb_b46b_0242ac1c0002row8_col11,#T_7df3113e_69d4_11eb_b46b_0242ac1c0002row8_col12,#T_7df3113e_69d4_11eb_b46b_0242ac1c0002row8_col13,#T_7df3113e_69d4_11eb_b46b_0242ac1c0002row8_col19,#T_7df3113e_69d4_11eb_b46b_0242ac1c0002row9_col0,#T_7df3113e_69d4_11eb_b46b_0242ac1c0002row9_col1,#T_7df3113e_69d4_11eb_b46b_0242ac1c0002row9_col2,#T_7df3113e_69d4_11eb_b46b_0242ac1c0002row9_col3,#T_7df3113e_69d4_11eb_b46b_0242ac1c0002row9_col4,#T_7df3113e_69d4_11eb_b46b_0242ac1c0002row9_col5,#T_7df3113e_69d4_11eb_b46b_0242ac1c0002row9_col6,#T_7df3113e_69d4_11eb_b46b_0242ac1c0002row9_col7,#T_7df3113e_69d4_11eb_b46b_0242ac1c0002row9_col8,#T_7df3113e_69d4_11eb_b46b_0242ac1c0002row9_col9,#T_7df3113e_69d4_11eb_b46b_0242ac1c0002row9_col10,#T_7df3113e_69d4_11eb_b46b_0242ac1c0002row9_col11,#T_7df3113e_69d4_11eb_b46b_0242ac1c0002row9_col12,#T_7df3113e_69d4_11eb_b46b_0242ac1c0002row9_col13,#T_7df3113e_69d4_11eb_b46b_0242ac1c0002row9_col19{\n",
              "            font-size:  6pt;\n",
              "            background-color:  #ffffff;\n",
              "            color:  #000000;\n",
              "        }#T_7df3113e_69d4_11eb_b46b_0242ac1c0002row5_col3,#T_7df3113e_69d4_11eb_b46b_0242ac1c0002row8_col14{\n",
              "            font-size:  6pt;\n",
              "            background-color:  #f9f9f9;\n",
              "            color:  #000000;\n",
              "        }#T_7df3113e_69d4_11eb_b46b_0242ac1c0002row5_col4{\n",
              "            font-size:  6pt;\n",
              "            background-color:  #b9b9b9;\n",
              "            color:  #000000;\n",
              "        }#T_7df3113e_69d4_11eb_b46b_0242ac1c0002row5_col5{\n",
              "            font-size:  6pt;\n",
              "            background-color:  #c1c1c1;\n",
              "            color:  #000000;\n",
              "        }#T_7df3113e_69d4_11eb_b46b_0242ac1c0002row5_col6{\n",
              "            font-size:  6pt;\n",
              "            background-color:  #858585;\n",
              "            color:  #000000;\n",
              "        }#T_7df3113e_69d4_11eb_b46b_0242ac1c0002row5_col7,#T_7df3113e_69d4_11eb_b46b_0242ac1c0002row5_col10,#T_7df3113e_69d4_11eb_b46b_0242ac1c0002row5_col11,#T_7df3113e_69d4_11eb_b46b_0242ac1c0002row5_col12,#T_7df3113e_69d4_11eb_b46b_0242ac1c0002row5_col13{\n",
              "            font-size:  6pt;\n",
              "            background-color:  #777777;\n",
              "            color:  #000000;\n",
              "        }#T_7df3113e_69d4_11eb_b46b_0242ac1c0002row5_col8{\n",
              "            font-size:  6pt;\n",
              "            background-color:  #090909;\n",
              "            color:  #f1f1f1;\n",
              "        }#T_7df3113e_69d4_11eb_b46b_0242ac1c0002row5_col9{\n",
              "            font-size:  6pt;\n",
              "            background-color:  #5b5b5b;\n",
              "            color:  #f1f1f1;\n",
              "        }#T_7df3113e_69d4_11eb_b46b_0242ac1c0002row5_col14{\n",
              "            font-size:  6pt;\n",
              "            background-color:  #919191;\n",
              "            color:  #000000;\n",
              "        }#T_7df3113e_69d4_11eb_b46b_0242ac1c0002row5_col15{\n",
              "            font-size:  6pt;\n",
              "            background-color:  #e1e1e1;\n",
              "            color:  #000000;\n",
              "        }#T_7df3113e_69d4_11eb_b46b_0242ac1c0002row6_col3{\n",
              "            font-size:  6pt;\n",
              "            background-color:  #727272;\n",
              "            color:  #000000;\n",
              "        }#T_7df3113e_69d4_11eb_b46b_0242ac1c0002row6_col4,#T_7df3113e_69d4_11eb_b46b_0242ac1c0002row6_col5,#T_7df3113e_69d4_11eb_b46b_0242ac1c0002row6_col6,#T_7df3113e_69d4_11eb_b46b_0242ac1c0002row6_col7,#T_7df3113e_69d4_11eb_b46b_0242ac1c0002row6_col8,#T_7df3113e_69d4_11eb_b46b_0242ac1c0002row6_col9,#T_7df3113e_69d4_11eb_b46b_0242ac1c0002row6_col10,#T_7df3113e_69d4_11eb_b46b_0242ac1c0002row6_col11,#T_7df3113e_69d4_11eb_b46b_0242ac1c0002row6_col12,#T_7df3113e_69d4_11eb_b46b_0242ac1c0002row6_col13,#T_7df3113e_69d4_11eb_b46b_0242ac1c0002row6_col14,#T_7df3113e_69d4_11eb_b46b_0242ac1c0002row7_col3,#T_7df3113e_69d4_11eb_b46b_0242ac1c0002row7_col4,#T_7df3113e_69d4_11eb_b46b_0242ac1c0002row7_col5,#T_7df3113e_69d4_11eb_b46b_0242ac1c0002row7_col6,#T_7df3113e_69d4_11eb_b46b_0242ac1c0002row7_col15,#T_7df3113e_69d4_11eb_b46b_0242ac1c0002row7_col16,#T_7df3113e_69d4_11eb_b46b_0242ac1c0002row7_col17,#T_7df3113e_69d4_11eb_b46b_0242ac1c0002row8_col16,#T_7df3113e_69d4_11eb_b46b_0242ac1c0002row8_col17,#T_7df3113e_69d4_11eb_b46b_0242ac1c0002row8_col18,#T_7df3113e_69d4_11eb_b46b_0242ac1c0002row9_col15,#T_7df3113e_69d4_11eb_b46b_0242ac1c0002row9_col16{\n",
              "            font-size:  6pt;\n",
              "            background-color:  #000000;\n",
              "            color:  #f1f1f1;\n",
              "        }#T_7df3113e_69d4_11eb_b46b_0242ac1c0002row6_col15{\n",
              "            font-size:  6pt;\n",
              "            background-color:  #020202;\n",
              "            color:  #f1f1f1;\n",
              "        }#T_7df3113e_69d4_11eb_b46b_0242ac1c0002row6_col16{\n",
              "            font-size:  6pt;\n",
              "            background-color:  #363636;\n",
              "            color:  #f1f1f1;\n",
              "        }#T_7df3113e_69d4_11eb_b46b_0242ac1c0002row6_col17{\n",
              "            font-size:  6pt;\n",
              "            background-color:  #9d9d9d;\n",
              "            color:  #000000;\n",
              "        }#T_7df3113e_69d4_11eb_b46b_0242ac1c0002row6_col18{\n",
              "            font-size:  6pt;\n",
              "            background-color:  #dfdfdf;\n",
              "            color:  #000000;\n",
              "        }#T_7df3113e_69d4_11eb_b46b_0242ac1c0002row7_col7{\n",
              "            font-size:  6pt;\n",
              "            background-color:  #161616;\n",
              "            color:  #f1f1f1;\n",
              "        }#T_7df3113e_69d4_11eb_b46b_0242ac1c0002row7_col8,#T_7df3113e_69d4_11eb_b46b_0242ac1c0002row7_col9,#T_7df3113e_69d4_11eb_b46b_0242ac1c0002row7_col10,#T_7df3113e_69d4_11eb_b46b_0242ac1c0002row7_col11,#T_7df3113e_69d4_11eb_b46b_0242ac1c0002row7_col13{\n",
              "            font-size:  6pt;\n",
              "            background-color:  #535353;\n",
              "            color:  #f1f1f1;\n",
              "        }#T_7df3113e_69d4_11eb_b46b_0242ac1c0002row7_col12{\n",
              "            font-size:  6pt;\n",
              "            background-color:  #7c7c7c;\n",
              "            color:  #000000;\n",
              "        }#T_7df3113e_69d4_11eb_b46b_0242ac1c0002row7_col14{\n",
              "            font-size:  6pt;\n",
              "            background-color:  #3d3d3d;\n",
              "            color:  #f1f1f1;\n",
              "        }#T_7df3113e_69d4_11eb_b46b_0242ac1c0002row7_col18{\n",
              "            font-size:  6pt;\n",
              "            background-color:  #999999;\n",
              "            color:  #000000;\n",
              "        }#T_7df3113e_69d4_11eb_b46b_0242ac1c0002row8_col3{\n",
              "            font-size:  6pt;\n",
              "            background-color:  #eaeaea;\n",
              "            color:  #000000;\n",
              "        }#T_7df3113e_69d4_11eb_b46b_0242ac1c0002row8_col4{\n",
              "            font-size:  6pt;\n",
              "            background-color:  #d0d0d0;\n",
              "            color:  #000000;\n",
              "        }#T_7df3113e_69d4_11eb_b46b_0242ac1c0002row8_col5,#T_7df3113e_69d4_11eb_b46b_0242ac1c0002row8_col6{\n",
              "            font-size:  6pt;\n",
              "            background-color:  #eeeeee;\n",
              "            color:  #000000;\n",
              "        }#T_7df3113e_69d4_11eb_b46b_0242ac1c0002row8_col7{\n",
              "            font-size:  6pt;\n",
              "            background-color:  #f3f3f3;\n",
              "            color:  #000000;\n",
              "        }#T_7df3113e_69d4_11eb_b46b_0242ac1c0002row8_col15{\n",
              "            font-size:  6pt;\n",
              "            background-color:  #232323;\n",
              "            color:  #f1f1f1;\n",
              "        }#T_7df3113e_69d4_11eb_b46b_0242ac1c0002row9_col14{\n",
              "            font-size:  6pt;\n",
              "            background-color:  #c2c2c2;\n",
              "            color:  #000000;\n",
              "        }#T_7df3113e_69d4_11eb_b46b_0242ac1c0002row9_col17{\n",
              "            font-size:  6pt;\n",
              "            background-color:  #080808;\n",
              "            color:  #f1f1f1;\n",
              "        }#T_7df3113e_69d4_11eb_b46b_0242ac1c0002row9_col18{\n",
              "            font-size:  6pt;\n",
              "            background-color:  #c4c4c4;\n",
              "            color:  #000000;\n",
              "        }</style><table id=\"T_7df3113e_69d4_11eb_b46b_0242ac1c0002\" ><thead>    <tr>        <th class=\"blank level0\" ></th>        <th class=\"col_heading level0 col0\" >0</th>        <th class=\"col_heading level0 col1\" >1</th>        <th class=\"col_heading level0 col2\" >2</th>        <th class=\"col_heading level0 col3\" >3</th>        <th class=\"col_heading level0 col4\" >4</th>        <th class=\"col_heading level0 col5\" >5</th>        <th class=\"col_heading level0 col6\" >6</th>        <th class=\"col_heading level0 col7\" >7</th>        <th class=\"col_heading level0 col8\" >8</th>        <th class=\"col_heading level0 col9\" >9</th>        <th class=\"col_heading level0 col10\" >10</th>        <th class=\"col_heading level0 col11\" >11</th>        <th class=\"col_heading level0 col12\" >12</th>        <th class=\"col_heading level0 col13\" >13</th>        <th class=\"col_heading level0 col14\" >14</th>        <th class=\"col_heading level0 col15\" >15</th>        <th class=\"col_heading level0 col16\" >16</th>        <th class=\"col_heading level0 col17\" >17</th>        <th class=\"col_heading level0 col18\" >18</th>        <th class=\"col_heading level0 col19\" >19</th>    </tr></thead><tbody>\n",
              "                <tr>\n",
              "                        <th id=\"T_7df3113e_69d4_11eb_b46b_0242ac1c0002level0_row0\" class=\"row_heading level0 row0\" >0</th>\n",
              "                        <td id=\"T_7df3113e_69d4_11eb_b46b_0242ac1c0002row0_col0\" class=\"data row0 col0\" >0</td>\n",
              "                        <td id=\"T_7df3113e_69d4_11eb_b46b_0242ac1c0002row0_col1\" class=\"data row0 col1\" >0</td>\n",
              "                        <td id=\"T_7df3113e_69d4_11eb_b46b_0242ac1c0002row0_col2\" class=\"data row0 col2\" >0</td>\n",
              "                        <td id=\"T_7df3113e_69d4_11eb_b46b_0242ac1c0002row0_col3\" class=\"data row0 col3\" >0</td>\n",
              "                        <td id=\"T_7df3113e_69d4_11eb_b46b_0242ac1c0002row0_col4\" class=\"data row0 col4\" >0</td>\n",
              "                        <td id=\"T_7df3113e_69d4_11eb_b46b_0242ac1c0002row0_col5\" class=\"data row0 col5\" >0</td>\n",
              "                        <td id=\"T_7df3113e_69d4_11eb_b46b_0242ac1c0002row0_col6\" class=\"data row0 col6\" >0</td>\n",
              "                        <td id=\"T_7df3113e_69d4_11eb_b46b_0242ac1c0002row0_col7\" class=\"data row0 col7\" >0</td>\n",
              "                        <td id=\"T_7df3113e_69d4_11eb_b46b_0242ac1c0002row0_col8\" class=\"data row0 col8\" >0</td>\n",
              "                        <td id=\"T_7df3113e_69d4_11eb_b46b_0242ac1c0002row0_col9\" class=\"data row0 col9\" >0</td>\n",
              "                        <td id=\"T_7df3113e_69d4_11eb_b46b_0242ac1c0002row0_col10\" class=\"data row0 col10\" >0</td>\n",
              "                        <td id=\"T_7df3113e_69d4_11eb_b46b_0242ac1c0002row0_col11\" class=\"data row0 col11\" >0</td>\n",
              "                        <td id=\"T_7df3113e_69d4_11eb_b46b_0242ac1c0002row0_col12\" class=\"data row0 col12\" >0</td>\n",
              "                        <td id=\"T_7df3113e_69d4_11eb_b46b_0242ac1c0002row0_col13\" class=\"data row0 col13\" >0</td>\n",
              "                        <td id=\"T_7df3113e_69d4_11eb_b46b_0242ac1c0002row0_col14\" class=\"data row0 col14\" >0</td>\n",
              "                        <td id=\"T_7df3113e_69d4_11eb_b46b_0242ac1c0002row0_col15\" class=\"data row0 col15\" >0</td>\n",
              "                        <td id=\"T_7df3113e_69d4_11eb_b46b_0242ac1c0002row0_col16\" class=\"data row0 col16\" >0</td>\n",
              "                        <td id=\"T_7df3113e_69d4_11eb_b46b_0242ac1c0002row0_col17\" class=\"data row0 col17\" >0</td>\n",
              "                        <td id=\"T_7df3113e_69d4_11eb_b46b_0242ac1c0002row0_col18\" class=\"data row0 col18\" >0</td>\n",
              "                        <td id=\"T_7df3113e_69d4_11eb_b46b_0242ac1c0002row0_col19\" class=\"data row0 col19\" >0</td>\n",
              "            </tr>\n",
              "            <tr>\n",
              "                        <th id=\"T_7df3113e_69d4_11eb_b46b_0242ac1c0002level0_row1\" class=\"row_heading level0 row1\" >1</th>\n",
              "                        <td id=\"T_7df3113e_69d4_11eb_b46b_0242ac1c0002row1_col0\" class=\"data row1 col0\" >0</td>\n",
              "                        <td id=\"T_7df3113e_69d4_11eb_b46b_0242ac1c0002row1_col1\" class=\"data row1 col1\" >0</td>\n",
              "                        <td id=\"T_7df3113e_69d4_11eb_b46b_0242ac1c0002row1_col2\" class=\"data row1 col2\" >0</td>\n",
              "                        <td id=\"T_7df3113e_69d4_11eb_b46b_0242ac1c0002row1_col3\" class=\"data row1 col3\" >0</td>\n",
              "                        <td id=\"T_7df3113e_69d4_11eb_b46b_0242ac1c0002row1_col4\" class=\"data row1 col4\" >0</td>\n",
              "                        <td id=\"T_7df3113e_69d4_11eb_b46b_0242ac1c0002row1_col5\" class=\"data row1 col5\" >0</td>\n",
              "                        <td id=\"T_7df3113e_69d4_11eb_b46b_0242ac1c0002row1_col6\" class=\"data row1 col6\" >0</td>\n",
              "                        <td id=\"T_7df3113e_69d4_11eb_b46b_0242ac1c0002row1_col7\" class=\"data row1 col7\" >0</td>\n",
              "                        <td id=\"T_7df3113e_69d4_11eb_b46b_0242ac1c0002row1_col8\" class=\"data row1 col8\" >0</td>\n",
              "                        <td id=\"T_7df3113e_69d4_11eb_b46b_0242ac1c0002row1_col9\" class=\"data row1 col9\" >0</td>\n",
              "                        <td id=\"T_7df3113e_69d4_11eb_b46b_0242ac1c0002row1_col10\" class=\"data row1 col10\" >0</td>\n",
              "                        <td id=\"T_7df3113e_69d4_11eb_b46b_0242ac1c0002row1_col11\" class=\"data row1 col11\" >0</td>\n",
              "                        <td id=\"T_7df3113e_69d4_11eb_b46b_0242ac1c0002row1_col12\" class=\"data row1 col12\" >0</td>\n",
              "                        <td id=\"T_7df3113e_69d4_11eb_b46b_0242ac1c0002row1_col13\" class=\"data row1 col13\" >0</td>\n",
              "                        <td id=\"T_7df3113e_69d4_11eb_b46b_0242ac1c0002row1_col14\" class=\"data row1 col14\" >0</td>\n",
              "                        <td id=\"T_7df3113e_69d4_11eb_b46b_0242ac1c0002row1_col15\" class=\"data row1 col15\" >0</td>\n",
              "                        <td id=\"T_7df3113e_69d4_11eb_b46b_0242ac1c0002row1_col16\" class=\"data row1 col16\" >0</td>\n",
              "                        <td id=\"T_7df3113e_69d4_11eb_b46b_0242ac1c0002row1_col17\" class=\"data row1 col17\" >0</td>\n",
              "                        <td id=\"T_7df3113e_69d4_11eb_b46b_0242ac1c0002row1_col18\" class=\"data row1 col18\" >0</td>\n",
              "                        <td id=\"T_7df3113e_69d4_11eb_b46b_0242ac1c0002row1_col19\" class=\"data row1 col19\" >0</td>\n",
              "            </tr>\n",
              "            <tr>\n",
              "                        <th id=\"T_7df3113e_69d4_11eb_b46b_0242ac1c0002level0_row2\" class=\"row_heading level0 row2\" >2</th>\n",
              "                        <td id=\"T_7df3113e_69d4_11eb_b46b_0242ac1c0002row2_col0\" class=\"data row2 col0\" >0</td>\n",
              "                        <td id=\"T_7df3113e_69d4_11eb_b46b_0242ac1c0002row2_col1\" class=\"data row2 col1\" >0</td>\n",
              "                        <td id=\"T_7df3113e_69d4_11eb_b46b_0242ac1c0002row2_col2\" class=\"data row2 col2\" >0</td>\n",
              "                        <td id=\"T_7df3113e_69d4_11eb_b46b_0242ac1c0002row2_col3\" class=\"data row2 col3\" >0</td>\n",
              "                        <td id=\"T_7df3113e_69d4_11eb_b46b_0242ac1c0002row2_col4\" class=\"data row2 col4\" >0</td>\n",
              "                        <td id=\"T_7df3113e_69d4_11eb_b46b_0242ac1c0002row2_col5\" class=\"data row2 col5\" >0</td>\n",
              "                        <td id=\"T_7df3113e_69d4_11eb_b46b_0242ac1c0002row2_col6\" class=\"data row2 col6\" >0</td>\n",
              "                        <td id=\"T_7df3113e_69d4_11eb_b46b_0242ac1c0002row2_col7\" class=\"data row2 col7\" >0</td>\n",
              "                        <td id=\"T_7df3113e_69d4_11eb_b46b_0242ac1c0002row2_col8\" class=\"data row2 col8\" >0</td>\n",
              "                        <td id=\"T_7df3113e_69d4_11eb_b46b_0242ac1c0002row2_col9\" class=\"data row2 col9\" >0</td>\n",
              "                        <td id=\"T_7df3113e_69d4_11eb_b46b_0242ac1c0002row2_col10\" class=\"data row2 col10\" >0</td>\n",
              "                        <td id=\"T_7df3113e_69d4_11eb_b46b_0242ac1c0002row2_col11\" class=\"data row2 col11\" >0</td>\n",
              "                        <td id=\"T_7df3113e_69d4_11eb_b46b_0242ac1c0002row2_col12\" class=\"data row2 col12\" >0</td>\n",
              "                        <td id=\"T_7df3113e_69d4_11eb_b46b_0242ac1c0002row2_col13\" class=\"data row2 col13\" >0</td>\n",
              "                        <td id=\"T_7df3113e_69d4_11eb_b46b_0242ac1c0002row2_col14\" class=\"data row2 col14\" >0</td>\n",
              "                        <td id=\"T_7df3113e_69d4_11eb_b46b_0242ac1c0002row2_col15\" class=\"data row2 col15\" >0</td>\n",
              "                        <td id=\"T_7df3113e_69d4_11eb_b46b_0242ac1c0002row2_col16\" class=\"data row2 col16\" >0</td>\n",
              "                        <td id=\"T_7df3113e_69d4_11eb_b46b_0242ac1c0002row2_col17\" class=\"data row2 col17\" >0</td>\n",
              "                        <td id=\"T_7df3113e_69d4_11eb_b46b_0242ac1c0002row2_col18\" class=\"data row2 col18\" >0</td>\n",
              "                        <td id=\"T_7df3113e_69d4_11eb_b46b_0242ac1c0002row2_col19\" class=\"data row2 col19\" >0</td>\n",
              "            </tr>\n",
              "            <tr>\n",
              "                        <th id=\"T_7df3113e_69d4_11eb_b46b_0242ac1c0002level0_row3\" class=\"row_heading level0 row3\" >3</th>\n",
              "                        <td id=\"T_7df3113e_69d4_11eb_b46b_0242ac1c0002row3_col0\" class=\"data row3 col0\" >0</td>\n",
              "                        <td id=\"T_7df3113e_69d4_11eb_b46b_0242ac1c0002row3_col1\" class=\"data row3 col1\" >0</td>\n",
              "                        <td id=\"T_7df3113e_69d4_11eb_b46b_0242ac1c0002row3_col2\" class=\"data row3 col2\" >0</td>\n",
              "                        <td id=\"T_7df3113e_69d4_11eb_b46b_0242ac1c0002row3_col3\" class=\"data row3 col3\" >0</td>\n",
              "                        <td id=\"T_7df3113e_69d4_11eb_b46b_0242ac1c0002row3_col4\" class=\"data row3 col4\" >0</td>\n",
              "                        <td id=\"T_7df3113e_69d4_11eb_b46b_0242ac1c0002row3_col5\" class=\"data row3 col5\" >0</td>\n",
              "                        <td id=\"T_7df3113e_69d4_11eb_b46b_0242ac1c0002row3_col6\" class=\"data row3 col6\" >0</td>\n",
              "                        <td id=\"T_7df3113e_69d4_11eb_b46b_0242ac1c0002row3_col7\" class=\"data row3 col7\" >0</td>\n",
              "                        <td id=\"T_7df3113e_69d4_11eb_b46b_0242ac1c0002row3_col8\" class=\"data row3 col8\" >0</td>\n",
              "                        <td id=\"T_7df3113e_69d4_11eb_b46b_0242ac1c0002row3_col9\" class=\"data row3 col9\" >0</td>\n",
              "                        <td id=\"T_7df3113e_69d4_11eb_b46b_0242ac1c0002row3_col10\" class=\"data row3 col10\" >0</td>\n",
              "                        <td id=\"T_7df3113e_69d4_11eb_b46b_0242ac1c0002row3_col11\" class=\"data row3 col11\" >0</td>\n",
              "                        <td id=\"T_7df3113e_69d4_11eb_b46b_0242ac1c0002row3_col12\" class=\"data row3 col12\" >0</td>\n",
              "                        <td id=\"T_7df3113e_69d4_11eb_b46b_0242ac1c0002row3_col13\" class=\"data row3 col13\" >0</td>\n",
              "                        <td id=\"T_7df3113e_69d4_11eb_b46b_0242ac1c0002row3_col14\" class=\"data row3 col14\" >0</td>\n",
              "                        <td id=\"T_7df3113e_69d4_11eb_b46b_0242ac1c0002row3_col15\" class=\"data row3 col15\" >0</td>\n",
              "                        <td id=\"T_7df3113e_69d4_11eb_b46b_0242ac1c0002row3_col16\" class=\"data row3 col16\" >0</td>\n",
              "                        <td id=\"T_7df3113e_69d4_11eb_b46b_0242ac1c0002row3_col17\" class=\"data row3 col17\" >0</td>\n",
              "                        <td id=\"T_7df3113e_69d4_11eb_b46b_0242ac1c0002row3_col18\" class=\"data row3 col18\" >0</td>\n",
              "                        <td id=\"T_7df3113e_69d4_11eb_b46b_0242ac1c0002row3_col19\" class=\"data row3 col19\" >0</td>\n",
              "            </tr>\n",
              "            <tr>\n",
              "                        <th id=\"T_7df3113e_69d4_11eb_b46b_0242ac1c0002level0_row4\" class=\"row_heading level0 row4\" >4</th>\n",
              "                        <td id=\"T_7df3113e_69d4_11eb_b46b_0242ac1c0002row4_col0\" class=\"data row4 col0\" >0</td>\n",
              "                        <td id=\"T_7df3113e_69d4_11eb_b46b_0242ac1c0002row4_col1\" class=\"data row4 col1\" >0</td>\n",
              "                        <td id=\"T_7df3113e_69d4_11eb_b46b_0242ac1c0002row4_col2\" class=\"data row4 col2\" >0</td>\n",
              "                        <td id=\"T_7df3113e_69d4_11eb_b46b_0242ac1c0002row4_col3\" class=\"data row4 col3\" >0</td>\n",
              "                        <td id=\"T_7df3113e_69d4_11eb_b46b_0242ac1c0002row4_col4\" class=\"data row4 col4\" >0</td>\n",
              "                        <td id=\"T_7df3113e_69d4_11eb_b46b_0242ac1c0002row4_col5\" class=\"data row4 col5\" >0</td>\n",
              "                        <td id=\"T_7df3113e_69d4_11eb_b46b_0242ac1c0002row4_col6\" class=\"data row4 col6\" >0</td>\n",
              "                        <td id=\"T_7df3113e_69d4_11eb_b46b_0242ac1c0002row4_col7\" class=\"data row4 col7\" >0</td>\n",
              "                        <td id=\"T_7df3113e_69d4_11eb_b46b_0242ac1c0002row4_col8\" class=\"data row4 col8\" >0</td>\n",
              "                        <td id=\"T_7df3113e_69d4_11eb_b46b_0242ac1c0002row4_col9\" class=\"data row4 col9\" >0</td>\n",
              "                        <td id=\"T_7df3113e_69d4_11eb_b46b_0242ac1c0002row4_col10\" class=\"data row4 col10\" >0</td>\n",
              "                        <td id=\"T_7df3113e_69d4_11eb_b46b_0242ac1c0002row4_col11\" class=\"data row4 col11\" >0</td>\n",
              "                        <td id=\"T_7df3113e_69d4_11eb_b46b_0242ac1c0002row4_col12\" class=\"data row4 col12\" >0</td>\n",
              "                        <td id=\"T_7df3113e_69d4_11eb_b46b_0242ac1c0002row4_col13\" class=\"data row4 col13\" >0</td>\n",
              "                        <td id=\"T_7df3113e_69d4_11eb_b46b_0242ac1c0002row4_col14\" class=\"data row4 col14\" >0</td>\n",
              "                        <td id=\"T_7df3113e_69d4_11eb_b46b_0242ac1c0002row4_col15\" class=\"data row4 col15\" >0</td>\n",
              "                        <td id=\"T_7df3113e_69d4_11eb_b46b_0242ac1c0002row4_col16\" class=\"data row4 col16\" >0</td>\n",
              "                        <td id=\"T_7df3113e_69d4_11eb_b46b_0242ac1c0002row4_col17\" class=\"data row4 col17\" >0</td>\n",
              "                        <td id=\"T_7df3113e_69d4_11eb_b46b_0242ac1c0002row4_col18\" class=\"data row4 col18\" >0</td>\n",
              "                        <td id=\"T_7df3113e_69d4_11eb_b46b_0242ac1c0002row4_col19\" class=\"data row4 col19\" >0</td>\n",
              "            </tr>\n",
              "            <tr>\n",
              "                        <th id=\"T_7df3113e_69d4_11eb_b46b_0242ac1c0002level0_row5\" class=\"row_heading level0 row5\" >5</th>\n",
              "                        <td id=\"T_7df3113e_69d4_11eb_b46b_0242ac1c0002row5_col0\" class=\"data row5 col0\" >0</td>\n",
              "                        <td id=\"T_7df3113e_69d4_11eb_b46b_0242ac1c0002row5_col1\" class=\"data row5 col1\" >0</td>\n",
              "                        <td id=\"T_7df3113e_69d4_11eb_b46b_0242ac1c0002row5_col2\" class=\"data row5 col2\" >0</td>\n",
              "                        <td id=\"T_7df3113e_69d4_11eb_b46b_0242ac1c0002row5_col3\" class=\"data row5 col3\" >12</td>\n",
              "                        <td id=\"T_7df3113e_69d4_11eb_b46b_0242ac1c0002row5_col4\" class=\"data row5 col4\" >99</td>\n",
              "                        <td id=\"T_7df3113e_69d4_11eb_b46b_0242ac1c0002row5_col5\" class=\"data row5 col5\" >91</td>\n",
              "                        <td id=\"T_7df3113e_69d4_11eb_b46b_0242ac1c0002row5_col6\" class=\"data row5 col6\" >142</td>\n",
              "                        <td id=\"T_7df3113e_69d4_11eb_b46b_0242ac1c0002row5_col7\" class=\"data row5 col7\" >155</td>\n",
              "                        <td id=\"T_7df3113e_69d4_11eb_b46b_0242ac1c0002row5_col8\" class=\"data row5 col8\" >246</td>\n",
              "                        <td id=\"T_7df3113e_69d4_11eb_b46b_0242ac1c0002row5_col9\" class=\"data row5 col9\" >182</td>\n",
              "                        <td id=\"T_7df3113e_69d4_11eb_b46b_0242ac1c0002row5_col10\" class=\"data row5 col10\" >155</td>\n",
              "                        <td id=\"T_7df3113e_69d4_11eb_b46b_0242ac1c0002row5_col11\" class=\"data row5 col11\" >155</td>\n",
              "                        <td id=\"T_7df3113e_69d4_11eb_b46b_0242ac1c0002row5_col12\" class=\"data row5 col12\" >155</td>\n",
              "                        <td id=\"T_7df3113e_69d4_11eb_b46b_0242ac1c0002row5_col13\" class=\"data row5 col13\" >155</td>\n",
              "                        <td id=\"T_7df3113e_69d4_11eb_b46b_0242ac1c0002row5_col14\" class=\"data row5 col14\" >131</td>\n",
              "                        <td id=\"T_7df3113e_69d4_11eb_b46b_0242ac1c0002row5_col15\" class=\"data row5 col15\" >52</td>\n",
              "                        <td id=\"T_7df3113e_69d4_11eb_b46b_0242ac1c0002row5_col16\" class=\"data row5 col16\" >0</td>\n",
              "                        <td id=\"T_7df3113e_69d4_11eb_b46b_0242ac1c0002row5_col17\" class=\"data row5 col17\" >0</td>\n",
              "                        <td id=\"T_7df3113e_69d4_11eb_b46b_0242ac1c0002row5_col18\" class=\"data row5 col18\" >0</td>\n",
              "                        <td id=\"T_7df3113e_69d4_11eb_b46b_0242ac1c0002row5_col19\" class=\"data row5 col19\" >0</td>\n",
              "            </tr>\n",
              "            <tr>\n",
              "                        <th id=\"T_7df3113e_69d4_11eb_b46b_0242ac1c0002level0_row6\" class=\"row_heading level0 row6\" >6</th>\n",
              "                        <td id=\"T_7df3113e_69d4_11eb_b46b_0242ac1c0002row6_col0\" class=\"data row6 col0\" >0</td>\n",
              "                        <td id=\"T_7df3113e_69d4_11eb_b46b_0242ac1c0002row6_col1\" class=\"data row6 col1\" >0</td>\n",
              "                        <td id=\"T_7df3113e_69d4_11eb_b46b_0242ac1c0002row6_col2\" class=\"data row6 col2\" >0</td>\n",
              "                        <td id=\"T_7df3113e_69d4_11eb_b46b_0242ac1c0002row6_col3\" class=\"data row6 col3\" >138</td>\n",
              "                        <td id=\"T_7df3113e_69d4_11eb_b46b_0242ac1c0002row6_col4\" class=\"data row6 col4\" >254</td>\n",
              "                        <td id=\"T_7df3113e_69d4_11eb_b46b_0242ac1c0002row6_col5\" class=\"data row6 col5\" >254</td>\n",
              "                        <td id=\"T_7df3113e_69d4_11eb_b46b_0242ac1c0002row6_col6\" class=\"data row6 col6\" >254</td>\n",
              "                        <td id=\"T_7df3113e_69d4_11eb_b46b_0242ac1c0002row6_col7\" class=\"data row6 col7\" >254</td>\n",
              "                        <td id=\"T_7df3113e_69d4_11eb_b46b_0242ac1c0002row6_col8\" class=\"data row6 col8\" >254</td>\n",
              "                        <td id=\"T_7df3113e_69d4_11eb_b46b_0242ac1c0002row6_col9\" class=\"data row6 col9\" >254</td>\n",
              "                        <td id=\"T_7df3113e_69d4_11eb_b46b_0242ac1c0002row6_col10\" class=\"data row6 col10\" >254</td>\n",
              "                        <td id=\"T_7df3113e_69d4_11eb_b46b_0242ac1c0002row6_col11\" class=\"data row6 col11\" >254</td>\n",
              "                        <td id=\"T_7df3113e_69d4_11eb_b46b_0242ac1c0002row6_col12\" class=\"data row6 col12\" >254</td>\n",
              "                        <td id=\"T_7df3113e_69d4_11eb_b46b_0242ac1c0002row6_col13\" class=\"data row6 col13\" >254</td>\n",
              "                        <td id=\"T_7df3113e_69d4_11eb_b46b_0242ac1c0002row6_col14\" class=\"data row6 col14\" >254</td>\n",
              "                        <td id=\"T_7df3113e_69d4_11eb_b46b_0242ac1c0002row6_col15\" class=\"data row6 col15\" >252</td>\n",
              "                        <td id=\"T_7df3113e_69d4_11eb_b46b_0242ac1c0002row6_col16\" class=\"data row6 col16\" >210</td>\n",
              "                        <td id=\"T_7df3113e_69d4_11eb_b46b_0242ac1c0002row6_col17\" class=\"data row6 col17\" >122</td>\n",
              "                        <td id=\"T_7df3113e_69d4_11eb_b46b_0242ac1c0002row6_col18\" class=\"data row6 col18\" >33</td>\n",
              "                        <td id=\"T_7df3113e_69d4_11eb_b46b_0242ac1c0002row6_col19\" class=\"data row6 col19\" >0</td>\n",
              "            </tr>\n",
              "            <tr>\n",
              "                        <th id=\"T_7df3113e_69d4_11eb_b46b_0242ac1c0002level0_row7\" class=\"row_heading level0 row7\" >7</th>\n",
              "                        <td id=\"T_7df3113e_69d4_11eb_b46b_0242ac1c0002row7_col0\" class=\"data row7 col0\" >0</td>\n",
              "                        <td id=\"T_7df3113e_69d4_11eb_b46b_0242ac1c0002row7_col1\" class=\"data row7 col1\" >0</td>\n",
              "                        <td id=\"T_7df3113e_69d4_11eb_b46b_0242ac1c0002row7_col2\" class=\"data row7 col2\" >0</td>\n",
              "                        <td id=\"T_7df3113e_69d4_11eb_b46b_0242ac1c0002row7_col3\" class=\"data row7 col3\" >220</td>\n",
              "                        <td id=\"T_7df3113e_69d4_11eb_b46b_0242ac1c0002row7_col4\" class=\"data row7 col4\" >254</td>\n",
              "                        <td id=\"T_7df3113e_69d4_11eb_b46b_0242ac1c0002row7_col5\" class=\"data row7 col5\" >254</td>\n",
              "                        <td id=\"T_7df3113e_69d4_11eb_b46b_0242ac1c0002row7_col6\" class=\"data row7 col6\" >254</td>\n",
              "                        <td id=\"T_7df3113e_69d4_11eb_b46b_0242ac1c0002row7_col7\" class=\"data row7 col7\" >235</td>\n",
              "                        <td id=\"T_7df3113e_69d4_11eb_b46b_0242ac1c0002row7_col8\" class=\"data row7 col8\" >189</td>\n",
              "                        <td id=\"T_7df3113e_69d4_11eb_b46b_0242ac1c0002row7_col9\" class=\"data row7 col9\" >189</td>\n",
              "                        <td id=\"T_7df3113e_69d4_11eb_b46b_0242ac1c0002row7_col10\" class=\"data row7 col10\" >189</td>\n",
              "                        <td id=\"T_7df3113e_69d4_11eb_b46b_0242ac1c0002row7_col11\" class=\"data row7 col11\" >189</td>\n",
              "                        <td id=\"T_7df3113e_69d4_11eb_b46b_0242ac1c0002row7_col12\" class=\"data row7 col12\" >150</td>\n",
              "                        <td id=\"T_7df3113e_69d4_11eb_b46b_0242ac1c0002row7_col13\" class=\"data row7 col13\" >189</td>\n",
              "                        <td id=\"T_7df3113e_69d4_11eb_b46b_0242ac1c0002row7_col14\" class=\"data row7 col14\" >205</td>\n",
              "                        <td id=\"T_7df3113e_69d4_11eb_b46b_0242ac1c0002row7_col15\" class=\"data row7 col15\" >254</td>\n",
              "                        <td id=\"T_7df3113e_69d4_11eb_b46b_0242ac1c0002row7_col16\" class=\"data row7 col16\" >254</td>\n",
              "                        <td id=\"T_7df3113e_69d4_11eb_b46b_0242ac1c0002row7_col17\" class=\"data row7 col17\" >254</td>\n",
              "                        <td id=\"T_7df3113e_69d4_11eb_b46b_0242ac1c0002row7_col18\" class=\"data row7 col18\" >75</td>\n",
              "                        <td id=\"T_7df3113e_69d4_11eb_b46b_0242ac1c0002row7_col19\" class=\"data row7 col19\" >0</td>\n",
              "            </tr>\n",
              "            <tr>\n",
              "                        <th id=\"T_7df3113e_69d4_11eb_b46b_0242ac1c0002level0_row8\" class=\"row_heading level0 row8\" >8</th>\n",
              "                        <td id=\"T_7df3113e_69d4_11eb_b46b_0242ac1c0002row8_col0\" class=\"data row8 col0\" >0</td>\n",
              "                        <td id=\"T_7df3113e_69d4_11eb_b46b_0242ac1c0002row8_col1\" class=\"data row8 col1\" >0</td>\n",
              "                        <td id=\"T_7df3113e_69d4_11eb_b46b_0242ac1c0002row8_col2\" class=\"data row8 col2\" >0</td>\n",
              "                        <td id=\"T_7df3113e_69d4_11eb_b46b_0242ac1c0002row8_col3\" class=\"data row8 col3\" >35</td>\n",
              "                        <td id=\"T_7df3113e_69d4_11eb_b46b_0242ac1c0002row8_col4\" class=\"data row8 col4\" >74</td>\n",
              "                        <td id=\"T_7df3113e_69d4_11eb_b46b_0242ac1c0002row8_col5\" class=\"data row8 col5\" >35</td>\n",
              "                        <td id=\"T_7df3113e_69d4_11eb_b46b_0242ac1c0002row8_col6\" class=\"data row8 col6\" >35</td>\n",
              "                        <td id=\"T_7df3113e_69d4_11eb_b46b_0242ac1c0002row8_col7\" class=\"data row8 col7\" >25</td>\n",
              "                        <td id=\"T_7df3113e_69d4_11eb_b46b_0242ac1c0002row8_col8\" class=\"data row8 col8\" >0</td>\n",
              "                        <td id=\"T_7df3113e_69d4_11eb_b46b_0242ac1c0002row8_col9\" class=\"data row8 col9\" >0</td>\n",
              "                        <td id=\"T_7df3113e_69d4_11eb_b46b_0242ac1c0002row8_col10\" class=\"data row8 col10\" >0</td>\n",
              "                        <td id=\"T_7df3113e_69d4_11eb_b46b_0242ac1c0002row8_col11\" class=\"data row8 col11\" >0</td>\n",
              "                        <td id=\"T_7df3113e_69d4_11eb_b46b_0242ac1c0002row8_col12\" class=\"data row8 col12\" >0</td>\n",
              "                        <td id=\"T_7df3113e_69d4_11eb_b46b_0242ac1c0002row8_col13\" class=\"data row8 col13\" >0</td>\n",
              "                        <td id=\"T_7df3113e_69d4_11eb_b46b_0242ac1c0002row8_col14\" class=\"data row8 col14\" >13</td>\n",
              "                        <td id=\"T_7df3113e_69d4_11eb_b46b_0242ac1c0002row8_col15\" class=\"data row8 col15\" >224</td>\n",
              "                        <td id=\"T_7df3113e_69d4_11eb_b46b_0242ac1c0002row8_col16\" class=\"data row8 col16\" >254</td>\n",
              "                        <td id=\"T_7df3113e_69d4_11eb_b46b_0242ac1c0002row8_col17\" class=\"data row8 col17\" >254</td>\n",
              "                        <td id=\"T_7df3113e_69d4_11eb_b46b_0242ac1c0002row8_col18\" class=\"data row8 col18\" >153</td>\n",
              "                        <td id=\"T_7df3113e_69d4_11eb_b46b_0242ac1c0002row8_col19\" class=\"data row8 col19\" >0</td>\n",
              "            </tr>\n",
              "            <tr>\n",
              "                        <th id=\"T_7df3113e_69d4_11eb_b46b_0242ac1c0002level0_row9\" class=\"row_heading level0 row9\" >9</th>\n",
              "                        <td id=\"T_7df3113e_69d4_11eb_b46b_0242ac1c0002row9_col0\" class=\"data row9 col0\" >0</td>\n",
              "                        <td id=\"T_7df3113e_69d4_11eb_b46b_0242ac1c0002row9_col1\" class=\"data row9 col1\" >0</td>\n",
              "                        <td id=\"T_7df3113e_69d4_11eb_b46b_0242ac1c0002row9_col2\" class=\"data row9 col2\" >0</td>\n",
              "                        <td id=\"T_7df3113e_69d4_11eb_b46b_0242ac1c0002row9_col3\" class=\"data row9 col3\" >0</td>\n",
              "                        <td id=\"T_7df3113e_69d4_11eb_b46b_0242ac1c0002row9_col4\" class=\"data row9 col4\" >0</td>\n",
              "                        <td id=\"T_7df3113e_69d4_11eb_b46b_0242ac1c0002row9_col5\" class=\"data row9 col5\" >0</td>\n",
              "                        <td id=\"T_7df3113e_69d4_11eb_b46b_0242ac1c0002row9_col6\" class=\"data row9 col6\" >0</td>\n",
              "                        <td id=\"T_7df3113e_69d4_11eb_b46b_0242ac1c0002row9_col7\" class=\"data row9 col7\" >0</td>\n",
              "                        <td id=\"T_7df3113e_69d4_11eb_b46b_0242ac1c0002row9_col8\" class=\"data row9 col8\" >0</td>\n",
              "                        <td id=\"T_7df3113e_69d4_11eb_b46b_0242ac1c0002row9_col9\" class=\"data row9 col9\" >0</td>\n",
              "                        <td id=\"T_7df3113e_69d4_11eb_b46b_0242ac1c0002row9_col10\" class=\"data row9 col10\" >0</td>\n",
              "                        <td id=\"T_7df3113e_69d4_11eb_b46b_0242ac1c0002row9_col11\" class=\"data row9 col11\" >0</td>\n",
              "                        <td id=\"T_7df3113e_69d4_11eb_b46b_0242ac1c0002row9_col12\" class=\"data row9 col12\" >0</td>\n",
              "                        <td id=\"T_7df3113e_69d4_11eb_b46b_0242ac1c0002row9_col13\" class=\"data row9 col13\" >0</td>\n",
              "                        <td id=\"T_7df3113e_69d4_11eb_b46b_0242ac1c0002row9_col14\" class=\"data row9 col14\" >90</td>\n",
              "                        <td id=\"T_7df3113e_69d4_11eb_b46b_0242ac1c0002row9_col15\" class=\"data row9 col15\" >254</td>\n",
              "                        <td id=\"T_7df3113e_69d4_11eb_b46b_0242ac1c0002row9_col16\" class=\"data row9 col16\" >254</td>\n",
              "                        <td id=\"T_7df3113e_69d4_11eb_b46b_0242ac1c0002row9_col17\" class=\"data row9 col17\" >247</td>\n",
              "                        <td id=\"T_7df3113e_69d4_11eb_b46b_0242ac1c0002row9_col18\" class=\"data row9 col18\" >53</td>\n",
              "                        <td id=\"T_7df3113e_69d4_11eb_b46b_0242ac1c0002row9_col19\" class=\"data row9 col19\" >0</td>\n",
              "            </tr>\n",
              "    </tbody></table>"
            ],
            "text/plain": [
              "<pandas.io.formats.style.Styler at 0x7f10d5c247f0>"
            ]
          },
          "metadata": {
            "tags": []
          },
          "execution_count": 4
        }
      ]
    },
    {
      "cell_type": "markdown",
      "metadata": {
        "id": "4oreCoAMoUSS"
      },
      "source": [
        "For the top edge of the 3, we have the values above the middle row being 0 (so no contribution) and the values on the bottom row being high positive numbers so overall we get a high positive number from the multiplication.\r\n",
        "For the bottom edge, the opposite is true."
      ]
    },
    {
      "cell_type": "code",
      "metadata": {
        "colab": {
          "base_uri": "https://localhost:8080/"
        },
        "id": "psg1X-NYn5jp",
        "outputId": "d9a6813a-217b-4359-c476-95f133ec4092"
      },
      "source": [
        "(im3_t[4:7, 6:9]*top_edge).sum()"
      ],
      "execution_count": 5,
      "outputs": [
        {
          "output_type": "execute_result",
          "data": {
            "text/plain": [
              "tensor(762.)"
            ]
          },
          "metadata": {
            "tags": []
          },
          "execution_count": 5
        }
      ]
    },
    {
      "cell_type": "code",
      "metadata": {
        "id": "esjjAUCnpGIf"
      },
      "source": [
        "def apply_kernel(row, col, kernel):\r\n",
        "    return (im3_t[row-1:row+2, col-1:col+2]*kernel).sum()"
      ],
      "execution_count": 6,
      "outputs": []
    },
    {
      "cell_type": "code",
      "metadata": {
        "colab": {
          "base_uri": "https://localhost:8080/"
        },
        "id": "q3vKYh85pXd3",
        "outputId": "c3eea547-df20-45aa-c123-723a9e158a01"
      },
      "source": [
        "apply_kernel(5, 7, top_edge)"
      ],
      "execution_count": 7,
      "outputs": [
        {
          "output_type": "execute_result",
          "data": {
            "text/plain": [
              "tensor(762.)"
            ]
          },
          "metadata": {
            "tags": []
          },
          "execution_count": 7
        }
      ]
    },
    {
      "cell_type": "code",
      "metadata": {
        "colab": {
          "base_uri": "https://localhost:8080/",
          "height": 102
        },
        "id": "pff5gEkEprny",
        "outputId": "851a0465-0b06-445b-a01a-c3c42c60f211"
      },
      "source": [
        "top_edge3 = tensor([[apply_kernel(row, col, top_edge) for col in range(1,27)] for row in range(1,27)])\r\n",
        "show_image(top_edge3)"
      ],
      "execution_count": 8,
      "outputs": [
        {
          "output_type": "execute_result",
          "data": {
            "text/plain": [
              "<matplotlib.axes._subplots.AxesSubplot at 0x7f10d60f25f8>"
            ]
          },
          "metadata": {
            "tags": []
          },
          "execution_count": 8
        },
        {
          "output_type": "display_data",
          "data": {
            "image/png": "[encoded data removed]",
            "text/plain": [
              "<Figure size 72x72 with 1 Axes>"
            ]
          },
          "metadata": {
            "tags": [],
            "needs_background": "light"
          }
        }
      ]
    },
    {
      "cell_type": "code",
      "metadata": {
        "id": "DxaQnWcXpuQq"
      },
      "source": [
        "left_edge = tensor([[-1, 0, 1],\r\n",
        "                    [-1,0,1],\r\n",
        "                    [-1,0,1]])"
      ],
      "execution_count": 9,
      "outputs": []
    },
    {
      "cell_type": "code",
      "metadata": {
        "colab": {
          "base_uri": "https://localhost:8080/",
          "height": 102
        },
        "id": "akQSluARtE-s",
        "outputId": "11e0a175-6f23-48b0-b4cb-5ab3210b9d5d"
      },
      "source": [
        "left_edge3 = tensor([[apply_kernel(row, col, left_edge) for col in range(1,27)] for row in range(1,27)])\r\n",
        "show_image(left_edge3)"
      ],
      "execution_count": 10,
      "outputs": [
        {
          "output_type": "execute_result",
          "data": {
            "text/plain": [
              "<matplotlib.axes._subplots.AxesSubplot at 0x7f10d5436550>"
            ]
          },
          "metadata": {
            "tags": []
          },
          "execution_count": 10
        },
        {
          "output_type": "display_data",
          "data": {
            "image/png": "[encoded data removed]",
            "text/plain": [
              "<Figure size 72x72 with 1 Axes>"
            ]
          },
          "metadata": {
            "tags": [],
            "needs_background": "light"
          }
        }
      ]
    },
    {
      "cell_type": "code",
      "metadata": {
        "id": "GHmWfBphtWIC"
      },
      "source": [
        "diag1_edge = tensor([[0,-1,1],\r\n",
        "                     [-1,1,0],\r\n",
        "                     [1,0,0]])"
      ],
      "execution_count": 11,
      "outputs": []
    },
    {
      "cell_type": "code",
      "metadata": {
        "colab": {
          "base_uri": "https://localhost:8080/",
          "height": 102
        },
        "id": "DqglKpKpvkgw",
        "outputId": "f5439fba-b592-410e-cfae-f1d54e0702e3"
      },
      "source": [
        "diag1 = tensor([[apply_kernel(row, col, diag1_edge) for col in range(1,27)] for row in range(1,27)])\r\n",
        "show_image(diag1)"
      ],
      "execution_count": 12,
      "outputs": [
        {
          "output_type": "execute_result",
          "data": {
            "text/plain": [
              "<matplotlib.axes._subplots.AxesSubplot at 0x7f10d53fa978>"
            ]
          },
          "metadata": {
            "tags": []
          },
          "execution_count": 12
        },
        {
          "output_type": "display_data",
          "data": {
            "image/png": "[encoded data removed]",
            "text/plain": [
              "<Figure size 72x72 with 1 Axes>"
            ]
          },
          "metadata": {
            "tags": [],
            "needs_background": "light"
          }
        }
      ]
    },
    {
      "cell_type": "code",
      "metadata": {
        "colab": {
          "base_uri": "https://localhost:8080/",
          "height": 102
        },
        "id": "OkuBhwQevyCR",
        "outputId": "831a6f9c-e5f6-44ab-9a68-1ec58c2924fb"
      },
      "source": [
        "diag2_edge = tensor([[1,-1,0],\r\n",
        "                     [0,1,-1],\r\n",
        "                     [0,0,1]])\r\n",
        "diag2 = tensor([[apply_kernel(row, col, diag2_edge) for col in range(1,27)] for row in range(1,27)])\r\n",
        "show_image(diag2)"
      ],
      "execution_count": 13,
      "outputs": [
        {
          "output_type": "execute_result",
          "data": {
            "text/plain": [
              "<matplotlib.axes._subplots.AxesSubplot at 0x7f10d5348748>"
            ]
          },
          "metadata": {
            "tags": []
          },
          "execution_count": 13
        },
        {
          "output_type": "display_data",
          "data": {
            "image/png": "[encoded data removed]",
            "text/plain": [
              "<Figure size 72x72 with 1 Axes>"
            ]
          },
          "metadata": {
            "tags": [],
            "needs_background": "light"
          }
        }
      ]
    },
    {
      "cell_type": "code",
      "metadata": {
        "colab": {
          "base_uri": "https://localhost:8080/"
        },
        "id": "QZhWdYnMwKIz",
        "outputId": "b8e75706-833c-46b2-8623-d1496e737306"
      },
      "source": [
        "edge_kernels = torch.stack([left_edge, top_edge, diag1_edge, diag2_edge])\r\n",
        "edge_kernels.shape"
      ],
      "execution_count": 14,
      "outputs": [
        {
          "output_type": "execute_result",
          "data": {
            "text/plain": [
              "torch.Size([4, 3, 3])"
            ]
          },
          "metadata": {
            "tags": []
          },
          "execution_count": 14
        }
      ]
    },
    {
      "cell_type": "code",
      "metadata": {
        "colab": {
          "base_uri": "https://localhost:8080/"
        },
        "id": "yxqnKXx9wX8V",
        "outputId": "bec435af-d27e-4fb1-da4b-8f013321f5e0"
      },
      "source": [
        "mnist = DataBlock((ImageBlock(cls = PILImageBW), CategoryBlock),\r\n",
        "                  get_items=get_image_files,\r\n",
        "                  splitter = GrandparentSplitter(),\r\n",
        "                  get_y = parent_label)\r\n",
        "dls = mnist.dataloaders(path)\r\n",
        "xb,yb = first(dls.valid)\r\n",
        "xb.shape"
      ],
      "execution_count": 15,
      "outputs": [
        {
          "output_type": "execute_result",
          "data": {
            "text/plain": [
              "(64, 1, 28, 28)"
            ]
          },
          "metadata": {
            "tags": []
          },
          "execution_count": 15
        }
      ]
    },
    {
      "cell_type": "code",
      "metadata": {
        "id": "aUWfj-uGwzym"
      },
      "source": [
        "xb, yb = to_cpu(xb), to_cpu(yb)"
      ],
      "execution_count": 16,
      "outputs": []
    },
    {
      "cell_type": "code",
      "metadata": {
        "colab": {
          "base_uri": "https://localhost:8080/",
          "height": 1000
        },
        "id": "52bnNdIcxFX1",
        "outputId": "3710e05c-ca1b-4f6e-bfad-e832862fe0a2"
      },
      "source": [
        "!pip install nbdev\r\n",
        "doc(ImageBlock)"
      ],
      "execution_count": 17,
      "outputs": [
        {
          "output_type": "stream",
          "text": [
            "Collecting nbdev\n",
            "\u001b[?25l  Downloading https://files.pythonhosted.org/packages/b7/81/7ae0d7f03a69601943b7f77216f014f0668286cf67ac7780b2351a962291/nbdev-1.1.12-py3-none-any.whl (46kB)\n",
            "\r\u001b[K     |███████▏                        | 10kB 25.9MB/s eta 0:00:01\r\u001b[K     |██████████████▎                 | 20kB 11.5MB/s eta 0:00:01\r\u001b[K     |█████████████████████▍          | 30kB 12.4MB/s eta 0:00:01\r\u001b[K     |████████████████████████████▌   | 40kB 11.6MB/s eta 0:00:01\r\u001b[K     |████████████████████████████████| 51kB 4.5MB/s \n",
            "\u001b[?25hRequirement already satisfied: jupyter-client in /usr/local/lib/python3.6/dist-packages (from nbdev) (5.3.5)\n",
            "Requirement already satisfied: nbconvert<6 in /usr/local/lib/python3.6/dist-packages (from nbdev) (5.6.1)\n",
            "Requirement already satisfied: nbformat>=4.4.0 in /usr/local/lib/python3.6/dist-packages (from nbdev) (5.1.2)\n",
            "Requirement already satisfied: pyyaml in /usr/local/lib/python3.6/dist-packages (from nbdev) (3.13)\n",
            "Requirement already satisfied: pip in /usr/local/lib/python3.6/dist-packages (from nbdev) (19.3.1)\n",
            "Requirement already satisfied: fastcore>=1.3.19 in /usr/local/lib/python3.6/dist-packages (from nbdev) (1.3.19)\n",
            "Requirement already satisfied: jupyter in /usr/local/lib/python3.6/dist-packages (from nbdev) (1.0.0)\n",
            "Requirement already satisfied: ipykernel in /usr/local/lib/python3.6/dist-packages (from nbdev) (4.10.1)\n",
            "Requirement already satisfied: packaging in /usr/local/lib/python3.6/dist-packages (from nbdev) (20.9)\n",
            "Requirement already satisfied: pyzmq>=13 in /usr/local/lib/python3.6/dist-packages (from jupyter-client->nbdev) (22.0.2)\n",
            "Requirement already satisfied: jupyter-core>=4.6.0 in /usr/local/lib/python3.6/dist-packages (from jupyter-client->nbdev) (4.7.1)\n",
            "Requirement already satisfied: tornado>=4.1 in /usr/local/lib/python3.6/dist-packages (from jupyter-client->nbdev) (5.1.1)\n",
            "Requirement already satisfied: python-dateutil>=2.1 in /usr/local/lib/python3.6/dist-packages (from jupyter-client->nbdev) (2.8.1)\n",
            "Requirement already satisfied: traitlets in /usr/local/lib/python3.6/dist-packages (from jupyter-client->nbdev) (4.3.3)\n",
            "Requirement already satisfied: mistune<2,>=0.8.1 in /usr/local/lib/python3.6/dist-packages (from nbconvert<6->nbdev) (0.8.4)\n",
            "Requirement already satisfied: bleach in /usr/local/lib/python3.6/dist-packages (from nbconvert<6->nbdev) (3.3.0)\n",
            "Requirement already satisfied: pygments in /usr/local/lib/python3.6/dist-packages (from nbconvert<6->nbdev) (2.6.1)\n",
            "Requirement already satisfied: defusedxml in /usr/local/lib/python3.6/dist-packages (from nbconvert<6->nbdev) (0.6.0)\n",
            "Requirement already satisfied: testpath in /usr/local/lib/python3.6/dist-packages (from nbconvert<6->nbdev) (0.4.4)\n",
            "Requirement already satisfied: entrypoints>=0.2.2 in /usr/local/lib/python3.6/dist-packages (from nbconvert<6->nbdev) (0.3)\n",
            "Requirement already satisfied: pandocfilters>=1.4.1 in /usr/local/lib/python3.6/dist-packages (from nbconvert<6->nbdev) (1.4.3)\n",
            "Requirement already satisfied: jinja2>=2.4 in /usr/local/lib/python3.6/dist-packages (from nbconvert<6->nbdev) (2.11.3)\n",
            "Requirement already satisfied: jsonschema!=2.5.0,>=2.4 in /usr/local/lib/python3.6/dist-packages (from nbformat>=4.4.0->nbdev) (2.6.0)\n",
            "Requirement already satisfied: ipython-genutils in /usr/local/lib/python3.6/dist-packages (from nbformat>=4.4.0->nbdev) (0.2.0)\n",
            "Requirement already satisfied: jupyter-console in /usr/local/lib/python3.6/dist-packages (from jupyter->nbdev) (5.2.0)\n",
            "Requirement already satisfied: qtconsole in /usr/local/lib/python3.6/dist-packages (from jupyter->nbdev) (5.0.2)\n",
            "Requirement already satisfied: ipywidgets in /usr/local/lib/python3.6/dist-packages (from jupyter->nbdev) (7.6.3)\n",
            "Requirement already satisfied: notebook in /usr/local/lib/python3.6/dist-packages (from jupyter->nbdev) (5.3.1)\n",
            "Requirement already satisfied: ipython>=4.0.0 in /usr/local/lib/python3.6/dist-packages (from ipykernel->nbdev) (5.5.0)\n",
            "Requirement already satisfied: pyparsing>=2.0.2 in /usr/local/lib/python3.6/dist-packages (from packaging->nbdev) (2.4.7)\n",
            "Requirement already satisfied: six>=1.5 in /usr/local/lib/python3.6/dist-packages (from python-dateutil>=2.1->jupyter-client->nbdev) (1.15.0)\n",
            "Requirement already satisfied: decorator in /usr/local/lib/python3.6/dist-packages (from traitlets->jupyter-client->nbdev) (4.4.2)\n",
            "Requirement already satisfied: webencodings in /usr/local/lib/python3.6/dist-packages (from bleach->nbconvert<6->nbdev) (0.5.1)\n",
            "Requirement already satisfied: MarkupSafe>=0.23 in /usr/local/lib/python3.6/dist-packages (from jinja2>=2.4->nbconvert<6->nbdev) (1.1.1)\n",
            "Requirement already satisfied: prompt-toolkit<2.0.0,>=1.0.0 in /usr/local/lib/python3.6/dist-packages (from jupyter-console->jupyter->nbdev) (1.0.18)\n",
            "Requirement already satisfied: qtpy in /usr/local/lib/python3.6/dist-packages (from qtconsole->jupyter->nbdev) (1.9.0)\n",
            "Requirement already satisfied: widgetsnbextension~=3.5.0 in /usr/local/lib/python3.6/dist-packages (from ipywidgets->jupyter->nbdev) (3.5.1)\n",
            "Requirement already satisfied: jupyterlab-widgets>=1.0.0; python_version >= \"3.6\" in /usr/local/lib/python3.6/dist-packages (from ipywidgets->jupyter->nbdev) (1.0.0)\n",
            "Requirement already satisfied: Send2Trash in /usr/local/lib/python3.6/dist-packages (from notebook->jupyter->nbdev) (1.5.0)\n",
            "Requirement already satisfied: terminado>=0.8.1 in /usr/local/lib/python3.6/dist-packages (from notebook->jupyter->nbdev) (0.9.2)\n",
            "Requirement already satisfied: pickleshare in /usr/local/lib/python3.6/dist-packages (from ipython>=4.0.0->ipykernel->nbdev) (0.7.5)\n",
            "Requirement already satisfied: setuptools>=18.5 in /usr/local/lib/python3.6/dist-packages (from ipython>=4.0.0->ipykernel->nbdev) (53.0.0)\n",
            "Requirement already satisfied: simplegeneric>0.8 in /usr/local/lib/python3.6/dist-packages (from ipython>=4.0.0->ipykernel->nbdev) (0.8.1)\n",
            "Requirement already satisfied: pexpect; sys_platform != \"win32\" in /usr/local/lib/python3.6/dist-packages (from ipython>=4.0.0->ipykernel->nbdev) (4.8.0)\n",
            "Requirement already satisfied: wcwidth in /usr/local/lib/python3.6/dist-packages (from prompt-toolkit<2.0.0,>=1.0.0->jupyter-console->jupyter->nbdev) (0.2.5)\n",
            "Requirement already satisfied: ptyprocess; os_name != \"nt\" in /usr/local/lib/python3.6/dist-packages (from terminado>=0.8.1->notebook->jupyter->nbdev) (0.7.0)\n",
            "Installing collected packages: nbdev\n",
            "Successfully installed nbdev-1.1.12\n"
          ],
          "name": "stdout"
        },
        {
          "output_type": "display_data",
          "data": {
            "text/html": [
              "<h4 id=\"ImageBlock\" class=\"doc_header\"><code>ImageBlock</code><a href=\"https://github.com/fastai/fastai/tree/master/fastai/vision/data.py#L57\" class=\"source_link\" style=\"float:right\">[source]</a></h4><blockquote><p><code>ImageBlock</code>()</p>\n",
              "</blockquote>\n",
              "<p>A <code>TransformBlock</code> for images of <code>cls</code></p>\n",
              "<p><a href=\"https://docs.fast.ai/vision.data#ImageBlock\" target=\"_blank\" rel=\"noreferrer noopener\">Show in docs</a></p>\n"
            ],
            "text/plain": [
              "<IPython.core.display.HTML object>"
            ]
          },
          "metadata": {
            "tags": []
          }
        }
      ]
    },
    {
      "cell_type": "code",
      "metadata": {
        "colab": {
          "base_uri": "https://localhost:8080/"
        },
        "id": "IChpOfANA88D",
        "outputId": "053d62d1-28ef-423c-dbca-91702d1c282b"
      },
      "source": [
        "edge_kernels = edge_kernels.unsqueeze(1)\r\n",
        "edge_kernels.shape\r\n",
        "# We need to add an extra dimension here because torch expects a 4 dimensional tensor"
      ],
      "execution_count": 18,
      "outputs": [
        {
          "output_type": "execute_result",
          "data": {
            "text/plain": [
              "torch.Size([4, 1, 3, 3])"
            ]
          },
          "metadata": {
            "tags": []
          },
          "execution_count": 18
        }
      ]
    },
    {
      "cell_type": "code",
      "metadata": {
        "colab": {
          "base_uri": "https://localhost:8080/"
        },
        "id": "ldoGWEvzBNd7",
        "outputId": "b1cc586f-6fad-4a88-9dc8-758f6f273978"
      },
      "source": [
        "batch_features = F.conv2d(xb, edge_kernels)\r\n",
        "batch_features.shape"
      ],
      "execution_count": 19,
      "outputs": [
        {
          "output_type": "execute_result",
          "data": {
            "text/plain": [
              "(64, 4, 26, 26)"
            ]
          },
          "metadata": {
            "tags": []
          },
          "execution_count": 19
        }
      ]
    },
    {
      "cell_type": "code",
      "metadata": {
        "colab": {
          "base_uri": "https://localhost:8080/",
          "height": 102
        },
        "id": "JrwDXmsrBs9M",
        "outputId": "bac926c9-1a5e-4b5f-8af3-9884b203762b"
      },
      "source": [
        "show_image(batch_features[0,3])"
      ],
      "execution_count": 20,
      "outputs": [
        {
          "output_type": "execute_result",
          "data": {
            "text/plain": [
              "<matplotlib.axes._subplots.AxesSubplot at 0x7f10d4e0bef0>"
            ]
          },
          "metadata": {
            "tags": []
          },
          "execution_count": 20
        },
        {
          "output_type": "display_data",
          "data": {
            "image/png": "[encoded data removed]",
            "text/plain": [
              "<Figure size 72x72 with 1 Axes>"
            ]
          },
          "metadata": {
            "tags": [],
            "needs_background": "light"
          }
        }
      ]
    },
    {
      "cell_type": "code",
      "metadata": {
        "colab": {
          "base_uri": "https://localhost:8080/"
        },
        "id": "IN5fTCVeDvAF",
        "outputId": "8285c5fe-cd13-4cad-8a46-bd2b5b846503"
      },
      "source": [
        "simple_net = nn.Sequential(\r\n",
        "    nn.Linear(28*28, 30),\r\n",
        "    nn.ReLU(),\r\n",
        "    nn.Linear(30, 1)\r\n",
        ")\r\n",
        "simple_net"
      ],
      "execution_count": 21,
      "outputs": [
        {
          "output_type": "execute_result",
          "data": {
            "text/plain": [
              "Sequential(\n",
              "  (0): Linear(in_features=784, out_features=30, bias=True)\n",
              "  (1): ReLU()\n",
              "  (2): Linear(in_features=30, out_features=1, bias=True)\n",
              ")"
            ]
          },
          "metadata": {
            "tags": []
          },
          "execution_count": 21
        }
      ]
    },
    {
      "cell_type": "code",
      "metadata": {
        "id": "4ntx8VtfEoBD"
      },
      "source": [
        "broken_cnn = nn.Sequential(\r\n",
        "    nn.Conv2d(1,30, kernel_size=3, padding = 1), #Does the 30 here stand for how many convolutions of this size I want to run on my data? Probably\r\n",
        "    nn.ReLU(),\r\n",
        "    nn.Conv2d(30, 1, kernel_size=3, padding=1)\r\n",
        ")\r\n",
        "#Conv2d has 1 channel and will apply the conv to all the pixels of the input. But what about the output?"
      ],
      "execution_count": 22,
      "outputs": []
    },
    {
      "cell_type": "code",
      "metadata": {
        "colab": {
          "base_uri": "https://localhost:8080/",
          "height": 102
        },
        "id": "ny8It7e8FX7m",
        "outputId": "d6000f80-baf9-4cee-c8e5-9dc923f0ca8b"
      },
      "source": [
        "show_image(broken_cnn(xb)[0,0])"
      ],
      "execution_count": 23,
      "outputs": [
        {
          "output_type": "execute_result",
          "data": {
            "text/plain": [
              "<matplotlib.axes._subplots.AxesSubplot at 0x7f10d40bcef0>"
            ]
          },
          "metadata": {
            "tags": []
          },
          "execution_count": 23
        },
        {
          "output_type": "display_data",
          "data": {
            "image/png": "[encoded data removed]",
            "text/plain": [
              "<Figure size 72x72 with 1 Axes>"
            ]
          },
          "metadata": {
            "tags": [],
            "needs_background": "light"
          }
        }
      ]
    },
    {
      "cell_type": "code",
      "metadata": {
        "id": "liI1cbSKFc5E"
      },
      "source": [
        "def conv(ni, nf, ks=3, act=True):\r\n",
        "    res = nn.Conv2d(ni, nf, stride=2, kernel_size=ks, padding=ks//2)\r\n",
        "    if act: res = nn.Sequential(res, nn.ReLU())\r\n",
        "    return res"
      ],
      "execution_count": 24,
      "outputs": []
    },
    {
      "cell_type": "code",
      "metadata": {
        "id": "DSUZx_C4G0kU"
      },
      "source": [
        "simple_cnn = sequential(\r\n",
        "    conv(1,4), #14x14\r\n",
        "    conv(4,8), #7x7\r\n",
        "    conv(8,16), #4x4\r\n",
        "    conv(16, 32), #2x2\r\n",
        "    conv(32, 2, act=False),\r\n",
        "    Flatten()\r\n",
        ")"
      ],
      "execution_count": 25,
      "outputs": []
    },
    {
      "cell_type": "code",
      "metadata": {
        "colab": {
          "base_uri": "https://localhost:8080/"
        },
        "id": "bSc2t2A7UsQW",
        "outputId": "9e68168f-d30d-4cd0-9092-17bcb4d52ac0"
      },
      "source": [
        "simple_cnn(xb).shape"
      ],
      "execution_count": 26,
      "outputs": [
        {
          "output_type": "execute_result",
          "data": {
            "text/plain": [
              "(64, 2)"
            ]
          },
          "metadata": {
            "tags": []
          },
          "execution_count": 26
        }
      ]
    },
    {
      "cell_type": "code",
      "metadata": {
        "colab": {
          "base_uri": "https://localhost:8080/",
          "height": 663
        },
        "id": "cypAsedPU4UC",
        "outputId": "4b2388a9-4823-4cd1-ebf4-129102c25976"
      },
      "source": [
        "learn = Learner(dls, simple_cnn, loss_func=F.cross_entropy, metrics=accuracy)\r\n",
        "learn.summary()"
      ],
      "execution_count": 28,
      "outputs": [
        {
          "output_type": "display_data",
          "data": {
            "text/html": [
              ""
            ],
            "text/plain": [
              "<IPython.core.display.HTML object>"
            ]
          },
          "metadata": {
            "tags": []
          }
        },
        {
          "output_type": "execute_result",
          "data": {
            "application/vnd.google.colaboratory.intrinsic+json": {
              "type": "string"
            },
            "text/plain": [
              "Sequential (Input shape: 64)\n",
              "============================================================================\n",
              "Layer (type)         Output Shape         Param #    Trainable \n",
              "============================================================================\n",
              "                     64 x 4 x 14 x 14    \n",
              "Conv2d                                    40         True      \n",
              "ReLU                                                           \n",
              "____________________________________________________________________________\n",
              "                     64 x 8 x 7 x 7      \n",
              "Conv2d                                    296        True      \n",
              "ReLU                                                           \n",
              "____________________________________________________________________________\n",
              "                     64 x 16 x 4 x 4     \n",
              "Conv2d                                    1168       True      \n",
              "ReLU                                                           \n",
              "____________________________________________________________________________\n",
              "                     64 x 32 x 2 x 2     \n",
              "Conv2d                                    4640       True      \n",
              "ReLU                                                           \n",
              "____________________________________________________________________________\n",
              "                     64 x 2 x 1 x 1      \n",
              "Conv2d                                    578        True      \n",
              "____________________________________________________________________________\n",
              "                     []                  \n",
              "Flatten                                                        \n",
              "____________________________________________________________________________\n",
              "\n",
              "Total params: 6,722\n",
              "Total trainable params: 6,722\n",
              "Total non-trainable params: 0\n",
              "\n",
              "Optimizer used: <function Adam at 0x7f10d625a1e0>\n",
              "Loss function: <function cross_entropy at 0x7f11029f88c8>\n",
              "\n",
              "Callbacks:\n",
              "  - TrainEvalCallback\n",
              "  - Recorder\n",
              "  - ProgressCallback"
            ]
          },
          "metadata": {
            "tags": []
          },
          "execution_count": 28
        }
      ]
    },
    {
      "cell_type": "code",
      "metadata": {
        "colab": {
          "base_uri": "https://localhost:8080/",
          "height": 111
        },
        "id": "v0zYOScNVPdK",
        "outputId": "c0633d69-0105-4d1a-a1ae-a6725d8185a2"
      },
      "source": [
        "learn.fit_one_cycle(2, 0.01)"
      ],
      "execution_count": 29,
      "outputs": [
        {
          "output_type": "display_data",
          "data": {
            "text/html": [
              "<table border=\"1\" class=\"dataframe\">\n",
              "  <thead>\n",
              "    <tr style=\"text-align: left;\">\n",
              "      <th>epoch</th>\n",
              "      <th>train_loss</th>\n",
              "      <th>valid_loss</th>\n",
              "      <th>accuracy</th>\n",
              "      <th>time</th>\n",
              "    </tr>\n",
              "  </thead>\n",
              "  <tbody>\n",
              "    <tr>\n",
              "      <td>0</td>\n",
              "      <td>0.069498</td>\n",
              "      <td>0.052890</td>\n",
              "      <td>0.981845</td>\n",
              "      <td>00:11</td>\n",
              "    </tr>\n",
              "    <tr>\n",
              "      <td>1</td>\n",
              "      <td>0.027843</td>\n",
              "      <td>0.034182</td>\n",
              "      <td>0.990186</td>\n",
              "      <td>00:12</td>\n",
              "    </tr>\n",
              "  </tbody>\n",
              "</table>"
            ],
            "text/plain": [
              "<IPython.core.display.HTML object>"
            ]
          },
          "metadata": {
            "tags": []
          }
        }
      ]
    },
    {
      "cell_type": "code",
      "metadata": {
        "colab": {
          "base_uri": "https://localhost:8080/"
        },
        "id": "zyAfx9fGVfpZ",
        "outputId": "8aa3efaf-c239-48db-dd4e-8216923ff295"
      },
      "source": [
        "learn.model"
      ],
      "execution_count": 31,
      "outputs": [
        {
          "output_type": "execute_result",
          "data": {
            "text/plain": [
              "Sequential(\n",
              "  (0): Sequential(\n",
              "    (0): Conv2d(1, 4, kernel_size=(3, 3), stride=(2, 2), padding=(1, 1))\n",
              "    (1): ReLU()\n",
              "  )\n",
              "  (1): Sequential(\n",
              "    (0): Conv2d(4, 8, kernel_size=(3, 3), stride=(2, 2), padding=(1, 1))\n",
              "    (1): ReLU()\n",
              "  )\n",
              "  (2): Sequential(\n",
              "    (0): Conv2d(8, 16, kernel_size=(3, 3), stride=(2, 2), padding=(1, 1))\n",
              "    (1): ReLU()\n",
              "  )\n",
              "  (3): Sequential(\n",
              "    (0): Conv2d(16, 32, kernel_size=(3, 3), stride=(2, 2), padding=(1, 1))\n",
              "    (1): ReLU()\n",
              "  )\n",
              "  (4): Conv2d(32, 2, kernel_size=(3, 3), stride=(2, 2), padding=(1, 1))\n",
              "  (5): Flatten(full=False)\n",
              ")"
            ]
          },
          "metadata": {
            "tags": []
          },
          "execution_count": 31
        }
      ]
    },
    {
      "cell_type": "code",
      "metadata": {
        "colab": {
          "base_uri": "https://localhost:8080/"
        },
        "id": "N2AXWPY0VkB5",
        "outputId": "f24cc23f-4a28-4a8b-aeff-6e71739a118b"
      },
      "source": [
        "m = learn.model[0]\r\n",
        "m[0].weight.shape, m[0].bias.shape #These are the 40 parameters that are output above, 4*1*3*3 + 4 = 40"
      ],
      "execution_count": 34,
      "outputs": [
        {
          "output_type": "execute_result",
          "data": {
            "text/plain": [
              "(torch.Size([4, 1, 3, 3]), torch.Size([4]))"
            ]
          },
          "metadata": {
            "tags": []
          },
          "execution_count": 34
        }
      ]
    },
    {
      "cell_type": "code",
      "metadata": {
        "colab": {
          "base_uri": "https://localhost:8080/",
          "height": 17
        },
        "id": "08xVxEFeZ5kp",
        "outputId": "266a9026-de76-4314-cd65-519b6437bcc6"
      },
      "source": [
        "path = untar_data(URLs.MNIST)"
      ],
      "execution_count": 36,
      "outputs": [
        {
          "output_type": "display_data",
          "data": {
            "text/html": [
              ""
            ],
            "text/plain": [
              "<IPython.core.display.HTML object>"
            ]
          },
          "metadata": {
            "tags": []
          }
        }
      ]
    },
    {
      "cell_type": "code",
      "metadata": {
        "id": "usV2DbSkaEy6"
      },
      "source": [
        "def get_dls(bs = 64):\r\n",
        "    return DataBlock(blocks = (ImageBlock(cls=PILImageBW), CategoryBlock),\r\n",
        "              get_items = get_image_files,\r\n",
        "              splitter = GrandparentSplitter('training', 'testing'),\r\n",
        "              get_y = parent_label,\r\n",
        "              batch_tfms = Normalize()).dataloaders(path, bs = bs)"
      ],
      "execution_count": 61,
      "outputs": []
    },
    {
      "cell_type": "code",
      "metadata": {
        "id": "VxYPB89KaxEr"
      },
      "source": [
        "dls = get_dls()"
      ],
      "execution_count": 62,
      "outputs": []
    },
    {
      "cell_type": "code",
      "metadata": {
        "colab": {
          "base_uri": "https://localhost:8080/",
          "height": 536
        },
        "id": "B-h2UoxSa8TD",
        "outputId": "f6f769ac-d939-4062-f2fa-a5a1afbe1101"
      },
      "source": [
        "dls.show_batch()"
      ],
      "execution_count": 63,
      "outputs": [
        {
          "output_type": "display_data",
          "data": {
            "image/png": "[encoded data removed]",
            "text/plain": [
              "<Figure size 648x648 with 9 Axes>"
            ]
          },
          "metadata": {
            "tags": [],
            "needs_background": "light"
          }
        }
      ]
    },
    {
      "cell_type": "code",
      "metadata": {
        "id": "RvPMb1C_c5mU"
      },
      "source": [
        "def simple_cnn():\r\n",
        "    return sequential(\r\n",
        "        conv(1 ,8, ks=5),        #14x14\r\n",
        "        conv(8 ,16),             #7x7\r\n",
        "        conv(16,32),             #4x4\r\n",
        "        conv(32,64),             #2x2\r\n",
        "        conv(64,10, act=False),  #1x1\r\n",
        "        Flatten(),\r\n",
        "    )\r\n",
        "# Why did we make the network bigger?\r\n",
        "# This time we have to \"learn\" more numbers, so at first we increase the number of filters\r\n",
        "# Why do we increase the ks at the first layer?\r\n",
        "# Before we had a ks=3 for 4 filters. This meant that from 3x3=9 pixels we were learning 4 stuff. \r\n",
        "# But with a ks=3 for 8 filters we are not learning anything. The NN will simply copy the pixels\r\n",
        "# Therefore we have a ks=5 to force the NN to learn from 5*5=25 pixels 8 stuff.\r\n",
        "# Why only for the first layer?"
      ],
      "execution_count": 57,
      "outputs": []
    },
    {
      "cell_type": "code",
      "metadata": {
        "id": "0BJ52-begsnr"
      },
      "source": [
        "from fastai.callback.hook import *"
      ],
      "execution_count": 58,
      "outputs": []
    },
    {
      "cell_type": "code",
      "metadata": {
        "colab": {
          "base_uri": "https://localhost:8080/",
          "height": 134
        },
        "id": "csrmreyEe57a",
        "outputId": "7a485d68-237f-4b40-d3f7-053ee6cb8def"
      },
      "source": [
        "def fit(epochs=1):\r\n",
        "    learn = Learner(dls, simple_cnn(), loss_func=F.cross_entropy,\r\n",
        "                    metrics=accuracy, cbs=ActivationStats(with_hist=True))\r\n",
        "    learn.fit(epochs, 0.06)\r\n",
        "    return learn\r\n",
        "\r\n",
        "learn = fit()"
      ],
      "execution_count": 64,
      "outputs": [
        {
          "output_type": "stream",
          "text": [
            "/usr/local/lib/python3.6/dist-packages/fastai/callback/core.py:50: UserWarning: You are shadowing an attribute (modules) that exists in the learner. Use `self.learn.modules` to avoid this\n",
            "  warn(f\"You are shadowing an attribute ({name}) that exists in the learner. Use `self.learn.{name}` to avoid this\")\n"
          ],
          "name": "stderr"
        },
        {
          "output_type": "display_data",
          "data": {
            "text/html": [
              "<table border=\"1\" class=\"dataframe\">\n",
              "  <thead>\n",
              "    <tr style=\"text-align: left;\">\n",
              "      <th>epoch</th>\n",
              "      <th>train_loss</th>\n",
              "      <th>valid_loss</th>\n",
              "      <th>accuracy</th>\n",
              "      <th>time</th>\n",
              "    </tr>\n",
              "  </thead>\n",
              "  <tbody>\n",
              "    <tr>\n",
              "      <td>0</td>\n",
              "      <td>2.306121</td>\n",
              "      <td>2.304876</td>\n",
              "      <td>0.101000</td>\n",
              "      <td>01:01</td>\n",
              "    </tr>\n",
              "  </tbody>\n",
              "</table>"
            ],
            "text/plain": [
              "<IPython.core.display.HTML object>"
            ]
          },
          "metadata": {
            "tags": []
          }
        }
      ]
    },
    {
      "cell_type": "code",
      "metadata": {
        "colab": {
          "base_uri": "https://localhost:8080/",
          "height": 227
        },
        "id": "E4K2S8zBg1vD",
        "outputId": "c5d1d379-8929-442f-d8e5-b81c658c2321"
      },
      "source": [
        "learn.activation_stats.plot_layer_stats(0)"
      ],
      "execution_count": 65,
      "outputs": [
        {
          "output_type": "display_data",
          "data": {
            "image/png": "[encoded data removed]",
            "text/plain": [
              "<Figure size 864x216 with 3 Axes>"
            ]
          },
          "metadata": {
            "tags": [],
            "needs_background": "light"
          }
        }
      ]
    },
    {
      "cell_type": "code",
      "metadata": {
        "colab": {
          "base_uri": "https://localhost:8080/",
          "height": 227
        },
        "id": "m5AxofkhhlS0",
        "outputId": "04d68660-6d03-430f-ffee-ace8763510e7"
      },
      "source": [
        "learn.activation_stats.plot_layer_stats(-2)"
      ],
      "execution_count": 66,
      "outputs": [
        {
          "output_type": "display_data",
          "data": {
            "image/png": "[encoded data removed]",
            "text/plain": [
              "<Figure size 864x216 with 3 Axes>"
            ]
          },
          "metadata": {
            "tags": [],
            "needs_background": "light"
          }
        }
      ]
    },
    {
      "cell_type": "code",
      "metadata": {
        "id": "WU6ShH69hoQk"
      },
      "source": [
        "# The activations that are close to 0 is almost 100% in the end and therefore \r\n",
        "#the NN fails to train correctly"
      ],
      "execution_count": null,
      "outputs": []
    },
    {
      "cell_type": "code",
      "metadata": {
        "colab": {
          "base_uri": "https://localhost:8080/",
          "height": 134
        },
        "id": "G3zYiuDghw0X",
        "outputId": "7a262460-d6d9-417c-eed8-5d7c667fd7e3"
      },
      "source": [
        "dls = get_dls(512)\r\n",
        "learn = fit()"
      ],
      "execution_count": 67,
      "outputs": [
        {
          "output_type": "stream",
          "text": [
            "/usr/local/lib/python3.6/dist-packages/fastai/callback/core.py:50: UserWarning: You are shadowing an attribute (modules) that exists in the learner. Use `self.learn.modules` to avoid this\n",
            "  warn(f\"You are shadowing an attribute ({name}) that exists in the learner. Use `self.learn.{name}` to avoid this\")\n"
          ],
          "name": "stderr"
        },
        {
          "output_type": "display_data",
          "data": {
            "text/html": [
              "<table border=\"1\" class=\"dataframe\">\n",
              "  <thead>\n",
              "    <tr style=\"text-align: left;\">\n",
              "      <th>epoch</th>\n",
              "      <th>train_loss</th>\n",
              "      <th>valid_loss</th>\n",
              "      <th>accuracy</th>\n",
              "      <th>time</th>\n",
              "    </tr>\n",
              "  </thead>\n",
              "  <tbody>\n",
              "    <tr>\n",
              "      <td>0</td>\n",
              "      <td>0.554073</td>\n",
              "      <td>0.320074</td>\n",
              "      <td>0.900800</td>\n",
              "      <td>00:52</td>\n",
              "    </tr>\n",
              "  </tbody>\n",
              "</table>"
            ],
            "text/plain": [
              "<IPython.core.display.HTML object>"
            ]
          },
          "metadata": {
            "tags": []
          }
        }
      ]
    },
    {
      "cell_type": "code",
      "metadata": {
        "colab": {
          "base_uri": "https://localhost:8080/",
          "height": 134
        },
        "id": "oBHJILZMjTFC",
        "outputId": "041966cd-491b-49f7-f87e-eabc90a627bf"
      },
      "source": [
        "def fit(epochs=1, lr=0.06):\r\n",
        "    learn = Learner(dls, simple_cnn(), loss_func=F.cross_entropy,\r\n",
        "                    metrics=accuracy, cbs=ActivationStats(with_hist=True))\r\n",
        "    learn.fit_one_cycle(epochs, lr)\r\n",
        "    return learn\r\n",
        "\r\n",
        "learn = fit()"
      ],
      "execution_count": 68,
      "outputs": [
        {
          "output_type": "stream",
          "text": [
            "/usr/local/lib/python3.6/dist-packages/fastai/callback/core.py:50: UserWarning: You are shadowing an attribute (modules) that exists in the learner. Use `self.learn.modules` to avoid this\n",
            "  warn(f\"You are shadowing an attribute ({name}) that exists in the learner. Use `self.learn.{name}` to avoid this\")\n"
          ],
          "name": "stderr"
        },
        {
          "output_type": "display_data",
          "data": {
            "text/html": [
              "<table border=\"1\" class=\"dataframe\">\n",
              "  <thead>\n",
              "    <tr style=\"text-align: left;\">\n",
              "      <th>epoch</th>\n",
              "      <th>train_loss</th>\n",
              "      <th>valid_loss</th>\n",
              "      <th>accuracy</th>\n",
              "      <th>time</th>\n",
              "    </tr>\n",
              "  </thead>\n",
              "  <tbody>\n",
              "    <tr>\n",
              "      <td>0</td>\n",
              "      <td>0.224520</td>\n",
              "      <td>0.084017</td>\n",
              "      <td>0.974400</td>\n",
              "      <td>00:51</td>\n",
              "    </tr>\n",
              "  </tbody>\n",
              "</table>"
            ],
            "text/plain": [
              "<IPython.core.display.HTML object>"
            ]
          },
          "metadata": {
            "tags": []
          }
        }
      ]
    },
    {
      "cell_type": "code",
      "metadata": {
        "colab": {
          "base_uri": "https://localhost:8080/",
          "height": 161
        },
        "id": "T8N61z6Mjdz1",
        "outputId": "25843c8e-2ecd-4dbf-81e1-203546d9d8ab"
      },
      "source": [
        "doc(learn.fit_one_cycle)"
      ],
      "execution_count": 70,
      "outputs": [
        {
          "output_type": "display_data",
          "data": {
            "text/html": [
              "<h4 id=\"Learner.fit_one_cycle\" class=\"doc_header\"><code>Learner.fit_one_cycle</code><a href=\"https://github.com/fastai/fastai/tree/master/fastai/callback/schedule.py#L103\" class=\"source_link\" style=\"float:right\">[source]</a></h4><blockquote><p><code>Learner.fit_one_cycle</code>(<strong><code>n_epoch</code></strong>, <strong><code>lr_max</code></strong>=<em><code>None</code></em>, <strong><code>div</code></strong>=<em><code>25.0</code></em>, <strong><code>div_final</code></strong>=<em><code>100000.0</code></em>, <strong><code>pct_start</code></strong>=<em><code>0.25</code></em>, <strong><code>wd</code></strong>=<em><code>None</code></em>, <strong><code>moms</code></strong>=<em><code>None</code></em>, <strong><code>cbs</code></strong>=<em><code>None</code></em>, <strong><code>reset_opt</code></strong>=<em><code>False</code></em>)</p>\n",
              "</blockquote>\n",
              "<p>Fit <code>self.model</code> for <code>n_epoch</code> using the 1cycle policy.</p>\n",
              "<p><a href=\"https://docs.fast.ai/callback.schedule#Learner.fit_one_cycle\" target=\"_blank\" rel=\"noreferrer noopener\">Show in docs</a></p>\n"
            ],
            "text/plain": [
              "<IPython.core.display.HTML object>"
            ]
          },
          "metadata": {
            "tags": []
          }
        }
      ]
    }
  ]
}