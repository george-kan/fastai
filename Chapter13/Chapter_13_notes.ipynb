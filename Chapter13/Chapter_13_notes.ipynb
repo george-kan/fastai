{
  "nbformat": 4,
  "nbformat_minor": 0,
  "metadata": {
    "colab": {
      "name": "Chapter 13 notes",
      "provenance": [],
      "authorship_tag": "ABX9TyPX8h8SyBZklf02P5GvLthO",
      "include_colab_link": true
    },
    "kernelspec": {
      "name": "python3",
      "display_name": "Python 3"
    },
    "accelerator": "GPU"
  },
  "cells": [
    {
      "cell_type": "markdown",
      "metadata": {
        "id": "view-in-github",
        "colab_type": "text"
      },
      "source": [
        "<a href=\"https://colab.research.google.com/github/george-kan/fastai/blob/main/Chapter13/Chapter_13_notes.ipynb\" target=\"_parent\"><img src=\"https://colab.research.google.com/assets/colab-badge.svg\" alt=\"Open In Colab\"/></a>"
      ]
    },
    {
      "cell_type": "code",
      "metadata": {
        "id": "iAH-iS8glwXL"
      },
      "source": [
        "!pip install --upgrade fastai\n",
        "from fastai.vision.all import *\n",
        "from fastai import *"
      ],
      "execution_count": null,
      "outputs": []
    },
    {
      "cell_type": "code",
      "metadata": {
        "id": "lRmf_Yjx6wgU"
      },
      "source": [
        "matplotlib.rc('image', cmap='Greys')"
      ],
      "execution_count": 11,
      "outputs": []
    },
    {
      "cell_type": "code",
      "metadata": {
        "id": "FuMv-SymmOA4"
      },
      "source": [
        "top_edge = tensor([[-1,-1,-1],\n",
        "                  [0,0,0],\n",
        "                  [1,1,1]]).float()"
      ],
      "execution_count": 2,
      "outputs": []
    },
    {
      "cell_type": "code",
      "metadata": {
        "colab": {
          "base_uri": "https://localhost:8080/",
          "height": 102
        },
        "id": "eSjyNJ58mn1w",
        "outputId": "f825b8cc-3deb-4ae5-e9ed-fbcaaa200646"
      },
      "source": [
        "path = untar_data(URLs.MNIST_SAMPLE)\n",
        "im3 = Image.open(path/'train'/'3'/'12.png')\n",
        "show_image(im3, cmap = 'gray')"
      ],
      "execution_count": 3,
      "outputs": [
        {
          "output_type": "display_data",
          "data": {
            "text/html": [
              ""
            ],
            "text/plain": [
              "<IPython.core.display.HTML object>"
            ]
          },
          "metadata": {
            "tags": []
          }
        },
        {
          "output_type": "execute_result",
          "data": {
            "text/plain": [
              "<matplotlib.axes._subplots.AxesSubplot at 0x7fd05b1f2610>"
            ]
          },
          "metadata": {
            "tags": []
          },
          "execution_count": 3
        },
        {
          "output_type": "display_data",
          "data": {
            "image/png": "[encoded data removed]",
            "text/plain": [
              "<Figure size 72x72 with 1 Axes>"
            ]
          },
          "metadata": {
            "tags": [],
            "needs_background": "light"
          }
        }
      ]
    },
    {
      "cell_type": "code",
      "metadata": {
        "colab": {
          "base_uri": "https://localhost:8080/",
          "height": 250
        },
        "id": "P-oLf6lwnIWt",
        "outputId": "54b29d12-520d-414e-d889-3064b4fcd693"
      },
      "source": [
        "im3_t = tensor(im3)\n",
        "df = pd.DataFrame(im3_t[:10, :20])\n",
        "df.style.set_properties(**{'font-size':'6pt'}).background_gradient('Greys')"
      ],
      "execution_count": 4,
      "outputs": [
        {
          "output_type": "execute_result",
          "data": {
            "text/html": [
              "<style  type=\"text/css\" >\n",
              "#T_1b79c0c2_8ba6_11eb_9c64_0242ac1c0002row0_col0,#T_1b79c0c2_8ba6_11eb_9c64_0242ac1c0002row0_col1,#T_1b79c0c2_8ba6_11eb_9c64_0242ac1c0002row0_col2,#T_1b79c0c2_8ba6_11eb_9c64_0242ac1c0002row0_col3,#T_1b79c0c2_8ba6_11eb_9c64_0242ac1c0002row0_col4,#T_1b79c0c2_8ba6_11eb_9c64_0242ac1c0002row0_col5,#T_1b79c0c2_8ba6_11eb_9c64_0242ac1c0002row0_col6,#T_1b79c0c2_8ba6_11eb_9c64_0242ac1c0002row0_col7,#T_1b79c0c2_8ba6_11eb_9c64_0242ac1c0002row0_col8,#T_1b79c0c2_8ba6_11eb_9c64_0242ac1c0002row0_col9,#T_1b79c0c2_8ba6_11eb_9c64_0242ac1c0002row0_col10,#T_1b79c0c2_8ba6_11eb_9c64_0242ac1c0002row0_col11,#T_1b79c0c2_8ba6_11eb_9c64_0242ac1c0002row0_col12,#T_1b79c0c2_8ba6_11eb_9c64_0242ac1c0002row0_col13,#T_1b79c0c2_8ba6_11eb_9c64_0242ac1c0002row0_col14,#T_1b79c0c2_8ba6_11eb_9c64_0242ac1c0002row0_col15,#T_1b79c0c2_8ba6_11eb_9c64_0242ac1c0002row0_col16,#T_1b79c0c2_8ba6_11eb_9c64_0242ac1c0002row0_col17,#T_1b79c0c2_8ba6_11eb_9c64_0242ac1c0002row0_col18,#T_1b79c0c2_8ba6_11eb_9c64_0242ac1c0002row0_col19,#T_1b79c0c2_8ba6_11eb_9c64_0242ac1c0002row1_col0,#T_1b79c0c2_8ba6_11eb_9c64_0242ac1c0002row1_col1,#T_1b79c0c2_8ba6_11eb_9c64_0242ac1c0002row1_col2,#T_1b79c0c2_8ba6_11eb_9c64_0242ac1c0002row1_col3,#T_1b79c0c2_8ba6_11eb_9c64_0242ac1c0002row1_col4,#T_1b79c0c2_8ba6_11eb_9c64_0242ac1c0002row1_col5,#T_1b79c0c2_8ba6_11eb_9c64_0242ac1c0002row1_col6,#T_1b79c0c2_8ba6_11eb_9c64_0242ac1c0002row1_col7,#T_1b79c0c2_8ba6_11eb_9c64_0242ac1c0002row1_col8,#T_1b79c0c2_8ba6_11eb_9c64_0242ac1c0002row1_col9,#T_1b79c0c2_8ba6_11eb_9c64_0242ac1c0002row1_col10,#T_1b79c0c2_8ba6_11eb_9c64_0242ac1c0002row1_col11,#T_1b79c0c2_8ba6_11eb_9c64_0242ac1c0002row1_col12,#T_1b79c0c2_8ba6_11eb_9c64_0242ac1c0002row1_col13,#T_1b79c0c2_8ba6_11eb_9c64_0242ac1c0002row1_col14,#T_1b79c0c2_8ba6_11eb_9c64_0242ac1c0002row1_col15,#T_1b79c0c2_8ba6_11eb_9c64_0242ac1c0002row1_col16,#T_1b79c0c2_8ba6_11eb_9c64_0242ac1c0002row1_col17,#T_1b79c0c2_8ba6_11eb_9c64_0242ac1c0002row1_col18,#T_1b79c0c2_8ba6_11eb_9c64_0242ac1c0002row1_col19,#T_1b79c0c2_8ba6_11eb_9c64_0242ac1c0002row2_col0,#T_1b79c0c2_8ba6_11eb_9c64_0242ac1c0002row2_col1,#T_1b79c0c2_8ba6_11eb_9c64_0242ac1c0002row2_col2,#T_1b79c0c2_8ba6_11eb_9c64_0242ac1c0002row2_col3,#T_1b79c0c2_8ba6_11eb_9c64_0242ac1c0002row2_col4,#T_1b79c0c2_8ba6_11eb_9c64_0242ac1c0002row2_col5,#T_1b79c0c2_8ba6_11eb_9c64_0242ac1c0002row2_col6,#T_1b79c0c2_8ba6_11eb_9c64_0242ac1c0002row2_col7,#T_1b79c0c2_8ba6_11eb_9c64_0242ac1c0002row2_col8,#T_1b79c0c2_8ba6_11eb_9c64_0242ac1c0002row2_col9,#T_1b79c0c2_8ba6_11eb_9c64_0242ac1c0002row2_col10,#T_1b79c0c2_8ba6_11eb_9c64_0242ac1c0002row2_col11,#T_1b79c0c2_8ba6_11eb_9c64_0242ac1c0002row2_col12,#T_1b79c0c2_8ba6_11eb_9c64_0242ac1c0002row2_col13,#T_1b79c0c2_8ba6_11eb_9c64_0242ac1c0002row2_col14,#T_1b79c0c2_8ba6_11eb_9c64_0242ac1c0002row2_col15,#T_1b79c0c2_8ba6_11eb_9c64_0242ac1c0002row2_col16,#T_1b79c0c2_8ba6_11eb_9c64_0242ac1c0002row2_col17,#T_1b79c0c2_8ba6_11eb_9c64_0242ac1c0002row2_col18,#T_1b79c0c2_8ba6_11eb_9c64_0242ac1c0002row2_col19,#T_1b79c0c2_8ba6_11eb_9c64_0242ac1c0002row3_col0,#T_1b79c0c2_8ba6_11eb_9c64_0242ac1c0002row3_col1,#T_1b79c0c2_8ba6_11eb_9c64_0242ac1c0002row3_col2,#T_1b79c0c2_8ba6_11eb_9c64_0242ac1c0002row3_col3,#T_1b79c0c2_8ba6_11eb_9c64_0242ac1c0002row3_col4,#T_1b79c0c2_8ba6_11eb_9c64_0242ac1c0002row3_col5,#T_1b79c0c2_8ba6_11eb_9c64_0242ac1c0002row3_col6,#T_1b79c0c2_8ba6_11eb_9c64_0242ac1c0002row3_col7,#T_1b79c0c2_8ba6_11eb_9c64_0242ac1c0002row3_col8,#T_1b79c0c2_8ba6_11eb_9c64_0242ac1c0002row3_col9,#T_1b79c0c2_8ba6_11eb_9c64_0242ac1c0002row3_col10,#T_1b79c0c2_8ba6_11eb_9c64_0242ac1c0002row3_col11,#T_1b79c0c2_8ba6_11eb_9c64_0242ac1c0002row3_col12,#T_1b79c0c2_8ba6_11eb_9c64_0242ac1c0002row3_col13,#T_1b79c0c2_8ba6_11eb_9c64_0242ac1c0002row3_col14,#T_1b79c0c2_8ba6_11eb_9c64_0242ac1c0002row3_col15,#T_1b79c0c2_8ba6_11eb_9c64_0242ac1c0002row3_col16,#T_1b79c0c2_8ba6_11eb_9c64_0242ac1c0002row3_col17,#T_1b79c0c2_8ba6_11eb_9c64_0242ac1c0002row3_col18,#T_1b79c0c2_8ba6_11eb_9c64_0242ac1c0002row3_col19,#T_1b79c0c2_8ba6_11eb_9c64_0242ac1c0002row4_col0,#T_1b79c0c2_8ba6_11eb_9c64_0242ac1c0002row4_col1,#T_1b79c0c2_8ba6_11eb_9c64_0242ac1c0002row4_col2,#T_1b79c0c2_8ba6_11eb_9c64_0242ac1c0002row4_col3,#T_1b79c0c2_8ba6_11eb_9c64_0242ac1c0002row4_col4,#T_1b79c0c2_8ba6_11eb_9c64_0242ac1c0002row4_col5,#T_1b79c0c2_8ba6_11eb_9c64_0242ac1c0002row4_col6,#T_1b79c0c2_8ba6_11eb_9c64_0242ac1c0002row4_col7,#T_1b79c0c2_8ba6_11eb_9c64_0242ac1c0002row4_col8,#T_1b79c0c2_8ba6_11eb_9c64_0242ac1c0002row4_col9,#T_1b79c0c2_8ba6_11eb_9c64_0242ac1c0002row4_col10,#T_1b79c0c2_8ba6_11eb_9c64_0242ac1c0002row4_col11,#T_1b79c0c2_8ba6_11eb_9c64_0242ac1c0002row4_col12,#T_1b79c0c2_8ba6_11eb_9c64_0242ac1c0002row4_col13,#T_1b79c0c2_8ba6_11eb_9c64_0242ac1c0002row4_col14,#T_1b79c0c2_8ba6_11eb_9c64_0242ac1c0002row4_col15,#T_1b79c0c2_8ba6_11eb_9c64_0242ac1c0002row4_col16,#T_1b79c0c2_8ba6_11eb_9c64_0242ac1c0002row4_col17,#T_1b79c0c2_8ba6_11eb_9c64_0242ac1c0002row4_col18,#T_1b79c0c2_8ba6_11eb_9c64_0242ac1c0002row4_col19,#T_1b79c0c2_8ba6_11eb_9c64_0242ac1c0002row5_col0,#T_1b79c0c2_8ba6_11eb_9c64_0242ac1c0002row5_col1,#T_1b79c0c2_8ba6_11eb_9c64_0242ac1c0002row5_col2,#T_1b79c0c2_8ba6_11eb_9c64_0242ac1c0002row5_col16,#T_1b79c0c2_8ba6_11eb_9c64_0242ac1c0002row5_col17,#T_1b79c0c2_8ba6_11eb_9c64_0242ac1c0002row5_col18,#T_1b79c0c2_8ba6_11eb_9c64_0242ac1c0002row5_col19,#T_1b79c0c2_8ba6_11eb_9c64_0242ac1c0002row6_col0,#T_1b79c0c2_8ba6_11eb_9c64_0242ac1c0002row6_col1,#T_1b79c0c2_8ba6_11eb_9c64_0242ac1c0002row6_col2,#T_1b79c0c2_8ba6_11eb_9c64_0242ac1c0002row6_col19,#T_1b79c0c2_8ba6_11eb_9c64_0242ac1c0002row7_col0,#T_1b79c0c2_8ba6_11eb_9c64_0242ac1c0002row7_col1,#T_1b79c0c2_8ba6_11eb_9c64_0242ac1c0002row7_col2,#T_1b79c0c2_8ba6_11eb_9c64_0242ac1c0002row7_col19,#T_1b79c0c2_8ba6_11eb_9c64_0242ac1c0002row8_col0,#T_1b79c0c2_8ba6_11eb_9c64_0242ac1c0002row8_col1,#T_1b79c0c2_8ba6_11eb_9c64_0242ac1c0002row8_col2,#T_1b79c0c2_8ba6_11eb_9c64_0242ac1c0002row8_col8,#T_1b79c0c2_8ba6_11eb_9c64_0242ac1c0002row8_col9,#T_1b79c0c2_8ba6_11eb_9c64_0242ac1c0002row8_col10,#T_1b79c0c2_8ba6_11eb_9c64_0242ac1c0002row8_col11,#T_1b79c0c2_8ba6_11eb_9c64_0242ac1c0002row8_col12,#T_1b79c0c2_8ba6_11eb_9c64_0242ac1c0002row8_col13,#T_1b79c0c2_8ba6_11eb_9c64_0242ac1c0002row8_col19,#T_1b79c0c2_8ba6_11eb_9c64_0242ac1c0002row9_col0,#T_1b79c0c2_8ba6_11eb_9c64_0242ac1c0002row9_col1,#T_1b79c0c2_8ba6_11eb_9c64_0242ac1c0002row9_col2,#T_1b79c0c2_8ba6_11eb_9c64_0242ac1c0002row9_col3,#T_1b79c0c2_8ba6_11eb_9c64_0242ac1c0002row9_col4,#T_1b79c0c2_8ba6_11eb_9c64_0242ac1c0002row9_col5,#T_1b79c0c2_8ba6_11eb_9c64_0242ac1c0002row9_col6,#T_1b79c0c2_8ba6_11eb_9c64_0242ac1c0002row9_col7,#T_1b79c0c2_8ba6_11eb_9c64_0242ac1c0002row9_col8,#T_1b79c0c2_8ba6_11eb_9c64_0242ac1c0002row9_col9,#T_1b79c0c2_8ba6_11eb_9c64_0242ac1c0002row9_col10,#T_1b79c0c2_8ba6_11eb_9c64_0242ac1c0002row9_col11,#T_1b79c0c2_8ba6_11eb_9c64_0242ac1c0002row9_col12,#T_1b79c0c2_8ba6_11eb_9c64_0242ac1c0002row9_col13,#T_1b79c0c2_8ba6_11eb_9c64_0242ac1c0002row9_col19{\n",
              "            font-size:  6pt;\n",
              "            background-color:  #ffffff;\n",
              "            color:  #000000;\n",
              "        }#T_1b79c0c2_8ba6_11eb_9c64_0242ac1c0002row5_col3,#T_1b79c0c2_8ba6_11eb_9c64_0242ac1c0002row8_col14{\n",
              "            font-size:  6pt;\n",
              "            background-color:  #f9f9f9;\n",
              "            color:  #000000;\n",
              "        }#T_1b79c0c2_8ba6_11eb_9c64_0242ac1c0002row5_col4{\n",
              "            font-size:  6pt;\n",
              "            background-color:  #b9b9b9;\n",
              "            color:  #000000;\n",
              "        }#T_1b79c0c2_8ba6_11eb_9c64_0242ac1c0002row5_col5{\n",
              "            font-size:  6pt;\n",
              "            background-color:  #c1c1c1;\n",
              "            color:  #000000;\n",
              "        }#T_1b79c0c2_8ba6_11eb_9c64_0242ac1c0002row5_col6{\n",
              "            font-size:  6pt;\n",
              "            background-color:  #858585;\n",
              "            color:  #000000;\n",
              "        }#T_1b79c0c2_8ba6_11eb_9c64_0242ac1c0002row5_col7,#T_1b79c0c2_8ba6_11eb_9c64_0242ac1c0002row5_col10,#T_1b79c0c2_8ba6_11eb_9c64_0242ac1c0002row5_col11,#T_1b79c0c2_8ba6_11eb_9c64_0242ac1c0002row5_col12,#T_1b79c0c2_8ba6_11eb_9c64_0242ac1c0002row5_col13{\n",
              "            font-size:  6pt;\n",
              "            background-color:  #777777;\n",
              "            color:  #000000;\n",
              "        }#T_1b79c0c2_8ba6_11eb_9c64_0242ac1c0002row5_col8{\n",
              "            font-size:  6pt;\n",
              "            background-color:  #090909;\n",
              "            color:  #f1f1f1;\n",
              "        }#T_1b79c0c2_8ba6_11eb_9c64_0242ac1c0002row5_col9{\n",
              "            font-size:  6pt;\n",
              "            background-color:  #5b5b5b;\n",
              "            color:  #f1f1f1;\n",
              "        }#T_1b79c0c2_8ba6_11eb_9c64_0242ac1c0002row5_col14{\n",
              "            font-size:  6pt;\n",
              "            background-color:  #919191;\n",
              "            color:  #000000;\n",
              "        }#T_1b79c0c2_8ba6_11eb_9c64_0242ac1c0002row5_col15{\n",
              "            font-size:  6pt;\n",
              "            background-color:  #e1e1e1;\n",
              "            color:  #000000;\n",
              "        }#T_1b79c0c2_8ba6_11eb_9c64_0242ac1c0002row6_col3{\n",
              "            font-size:  6pt;\n",
              "            background-color:  #727272;\n",
              "            color:  #000000;\n",
              "        }#T_1b79c0c2_8ba6_11eb_9c64_0242ac1c0002row6_col4,#T_1b79c0c2_8ba6_11eb_9c64_0242ac1c0002row6_col5,#T_1b79c0c2_8ba6_11eb_9c64_0242ac1c0002row6_col6,#T_1b79c0c2_8ba6_11eb_9c64_0242ac1c0002row6_col7,#T_1b79c0c2_8ba6_11eb_9c64_0242ac1c0002row6_col8,#T_1b79c0c2_8ba6_11eb_9c64_0242ac1c0002row6_col9,#T_1b79c0c2_8ba6_11eb_9c64_0242ac1c0002row6_col10,#T_1b79c0c2_8ba6_11eb_9c64_0242ac1c0002row6_col11,#T_1b79c0c2_8ba6_11eb_9c64_0242ac1c0002row6_col12,#T_1b79c0c2_8ba6_11eb_9c64_0242ac1c0002row6_col13,#T_1b79c0c2_8ba6_11eb_9c64_0242ac1c0002row6_col14,#T_1b79c0c2_8ba6_11eb_9c64_0242ac1c0002row7_col3,#T_1b79c0c2_8ba6_11eb_9c64_0242ac1c0002row7_col4,#T_1b79c0c2_8ba6_11eb_9c64_0242ac1c0002row7_col5,#T_1b79c0c2_8ba6_11eb_9c64_0242ac1c0002row7_col6,#T_1b79c0c2_8ba6_11eb_9c64_0242ac1c0002row7_col15,#T_1b79c0c2_8ba6_11eb_9c64_0242ac1c0002row7_col16,#T_1b79c0c2_8ba6_11eb_9c64_0242ac1c0002row7_col17,#T_1b79c0c2_8ba6_11eb_9c64_0242ac1c0002row8_col16,#T_1b79c0c2_8ba6_11eb_9c64_0242ac1c0002row8_col17,#T_1b79c0c2_8ba6_11eb_9c64_0242ac1c0002row8_col18,#T_1b79c0c2_8ba6_11eb_9c64_0242ac1c0002row9_col15,#T_1b79c0c2_8ba6_11eb_9c64_0242ac1c0002row9_col16{\n",
              "            font-size:  6pt;\n",
              "            background-color:  #000000;\n",
              "            color:  #f1f1f1;\n",
              "        }#T_1b79c0c2_8ba6_11eb_9c64_0242ac1c0002row6_col15{\n",
              "            font-size:  6pt;\n",
              "            background-color:  #020202;\n",
              "            color:  #f1f1f1;\n",
              "        }#T_1b79c0c2_8ba6_11eb_9c64_0242ac1c0002row6_col16{\n",
              "            font-size:  6pt;\n",
              "            background-color:  #363636;\n",
              "            color:  #f1f1f1;\n",
              "        }#T_1b79c0c2_8ba6_11eb_9c64_0242ac1c0002row6_col17{\n",
              "            font-size:  6pt;\n",
              "            background-color:  #9d9d9d;\n",
              "            color:  #000000;\n",
              "        }#T_1b79c0c2_8ba6_11eb_9c64_0242ac1c0002row6_col18{\n",
              "            font-size:  6pt;\n",
              "            background-color:  #dfdfdf;\n",
              "            color:  #000000;\n",
              "        }#T_1b79c0c2_8ba6_11eb_9c64_0242ac1c0002row7_col7{\n",
              "            font-size:  6pt;\n",
              "            background-color:  #161616;\n",
              "            color:  #f1f1f1;\n",
              "        }#T_1b79c0c2_8ba6_11eb_9c64_0242ac1c0002row7_col8,#T_1b79c0c2_8ba6_11eb_9c64_0242ac1c0002row7_col9,#T_1b79c0c2_8ba6_11eb_9c64_0242ac1c0002row7_col10,#T_1b79c0c2_8ba6_11eb_9c64_0242ac1c0002row7_col11,#T_1b79c0c2_8ba6_11eb_9c64_0242ac1c0002row7_col13{\n",
              "            font-size:  6pt;\n",
              "            background-color:  #535353;\n",
              "            color:  #f1f1f1;\n",
              "        }#T_1b79c0c2_8ba6_11eb_9c64_0242ac1c0002row7_col12{\n",
              "            font-size:  6pt;\n",
              "            background-color:  #7c7c7c;\n",
              "            color:  #000000;\n",
              "        }#T_1b79c0c2_8ba6_11eb_9c64_0242ac1c0002row7_col14{\n",
              "            font-size:  6pt;\n",
              "            background-color:  #3d3d3d;\n",
              "            color:  #f1f1f1;\n",
              "        }#T_1b79c0c2_8ba6_11eb_9c64_0242ac1c0002row7_col18{\n",
              "            font-size:  6pt;\n",
              "            background-color:  #999999;\n",
              "            color:  #000000;\n",
              "        }#T_1b79c0c2_8ba6_11eb_9c64_0242ac1c0002row8_col3{\n",
              "            font-size:  6pt;\n",
              "            background-color:  #eaeaea;\n",
              "            color:  #000000;\n",
              "        }#T_1b79c0c2_8ba6_11eb_9c64_0242ac1c0002row8_col4{\n",
              "            font-size:  6pt;\n",
              "            background-color:  #d0d0d0;\n",
              "            color:  #000000;\n",
              "        }#T_1b79c0c2_8ba6_11eb_9c64_0242ac1c0002row8_col5,#T_1b79c0c2_8ba6_11eb_9c64_0242ac1c0002row8_col6{\n",
              "            font-size:  6pt;\n",
              "            background-color:  #eeeeee;\n",
              "            color:  #000000;\n",
              "        }#T_1b79c0c2_8ba6_11eb_9c64_0242ac1c0002row8_col7{\n",
              "            font-size:  6pt;\n",
              "            background-color:  #f3f3f3;\n",
              "            color:  #000000;\n",
              "        }#T_1b79c0c2_8ba6_11eb_9c64_0242ac1c0002row8_col15{\n",
              "            font-size:  6pt;\n",
              "            background-color:  #232323;\n",
              "            color:  #f1f1f1;\n",
              "        }#T_1b79c0c2_8ba6_11eb_9c64_0242ac1c0002row9_col14{\n",
              "            font-size:  6pt;\n",
              "            background-color:  #c2c2c2;\n",
              "            color:  #000000;\n",
              "        }#T_1b79c0c2_8ba6_11eb_9c64_0242ac1c0002row9_col17{\n",
              "            font-size:  6pt;\n",
              "            background-color:  #080808;\n",
              "            color:  #f1f1f1;\n",
              "        }#T_1b79c0c2_8ba6_11eb_9c64_0242ac1c0002row9_col18{\n",
              "            font-size:  6pt;\n",
              "            background-color:  #c4c4c4;\n",
              "            color:  #000000;\n",
              "        }</style><table id=\"T_1b79c0c2_8ba6_11eb_9c64_0242ac1c0002\" ><thead>    <tr>        <th class=\"blank level0\" ></th>        <th class=\"col_heading level0 col0\" >0</th>        <th class=\"col_heading level0 col1\" >1</th>        <th class=\"col_heading level0 col2\" >2</th>        <th class=\"col_heading level0 col3\" >3</th>        <th class=\"col_heading level0 col4\" >4</th>        <th class=\"col_heading level0 col5\" >5</th>        <th class=\"col_heading level0 col6\" >6</th>        <th class=\"col_heading level0 col7\" >7</th>        <th class=\"col_heading level0 col8\" >8</th>        <th class=\"col_heading level0 col9\" >9</th>        <th class=\"col_heading level0 col10\" >10</th>        <th class=\"col_heading level0 col11\" >11</th>        <th class=\"col_heading level0 col12\" >12</th>        <th class=\"col_heading level0 col13\" >13</th>        <th class=\"col_heading level0 col14\" >14</th>        <th class=\"col_heading level0 col15\" >15</th>        <th class=\"col_heading level0 col16\" >16</th>        <th class=\"col_heading level0 col17\" >17</th>        <th class=\"col_heading level0 col18\" >18</th>        <th class=\"col_heading level0 col19\" >19</th>    </tr></thead><tbody>\n",
              "                <tr>\n",
              "                        <th id=\"T_1b79c0c2_8ba6_11eb_9c64_0242ac1c0002level0_row0\" class=\"row_heading level0 row0\" >0</th>\n",
              "                        <td id=\"T_1b79c0c2_8ba6_11eb_9c64_0242ac1c0002row0_col0\" class=\"data row0 col0\" >0</td>\n",
              "                        <td id=\"T_1b79c0c2_8ba6_11eb_9c64_0242ac1c0002row0_col1\" class=\"data row0 col1\" >0</td>\n",
              "                        <td id=\"T_1b79c0c2_8ba6_11eb_9c64_0242ac1c0002row0_col2\" class=\"data row0 col2\" >0</td>\n",
              "                        <td id=\"T_1b79c0c2_8ba6_11eb_9c64_0242ac1c0002row0_col3\" class=\"data row0 col3\" >0</td>\n",
              "                        <td id=\"T_1b79c0c2_8ba6_11eb_9c64_0242ac1c0002row0_col4\" class=\"data row0 col4\" >0</td>\n",
              "                        <td id=\"T_1b79c0c2_8ba6_11eb_9c64_0242ac1c0002row0_col5\" class=\"data row0 col5\" >0</td>\n",
              "                        <td id=\"T_1b79c0c2_8ba6_11eb_9c64_0242ac1c0002row0_col6\" class=\"data row0 col6\" >0</td>\n",
              "                        <td id=\"T_1b79c0c2_8ba6_11eb_9c64_0242ac1c0002row0_col7\" class=\"data row0 col7\" >0</td>\n",
              "                        <td id=\"T_1b79c0c2_8ba6_11eb_9c64_0242ac1c0002row0_col8\" class=\"data row0 col8\" >0</td>\n",
              "                        <td id=\"T_1b79c0c2_8ba6_11eb_9c64_0242ac1c0002row0_col9\" class=\"data row0 col9\" >0</td>\n",
              "                        <td id=\"T_1b79c0c2_8ba6_11eb_9c64_0242ac1c0002row0_col10\" class=\"data row0 col10\" >0</td>\n",
              "                        <td id=\"T_1b79c0c2_8ba6_11eb_9c64_0242ac1c0002row0_col11\" class=\"data row0 col11\" >0</td>\n",
              "                        <td id=\"T_1b79c0c2_8ba6_11eb_9c64_0242ac1c0002row0_col12\" class=\"data row0 col12\" >0</td>\n",
              "                        <td id=\"T_1b79c0c2_8ba6_11eb_9c64_0242ac1c0002row0_col13\" class=\"data row0 col13\" >0</td>\n",
              "                        <td id=\"T_1b79c0c2_8ba6_11eb_9c64_0242ac1c0002row0_col14\" class=\"data row0 col14\" >0</td>\n",
              "                        <td id=\"T_1b79c0c2_8ba6_11eb_9c64_0242ac1c0002row0_col15\" class=\"data row0 col15\" >0</td>\n",
              "                        <td id=\"T_1b79c0c2_8ba6_11eb_9c64_0242ac1c0002row0_col16\" class=\"data row0 col16\" >0</td>\n",
              "                        <td id=\"T_1b79c0c2_8ba6_11eb_9c64_0242ac1c0002row0_col17\" class=\"data row0 col17\" >0</td>\n",
              "                        <td id=\"T_1b79c0c2_8ba6_11eb_9c64_0242ac1c0002row0_col18\" class=\"data row0 col18\" >0</td>\n",
              "                        <td id=\"T_1b79c0c2_8ba6_11eb_9c64_0242ac1c0002row0_col19\" class=\"data row0 col19\" >0</td>\n",
              "            </tr>\n",
              "            <tr>\n",
              "                        <th id=\"T_1b79c0c2_8ba6_11eb_9c64_0242ac1c0002level0_row1\" class=\"row_heading level0 row1\" >1</th>\n",
              "                        <td id=\"T_1b79c0c2_8ba6_11eb_9c64_0242ac1c0002row1_col0\" class=\"data row1 col0\" >0</td>\n",
              "                        <td id=\"T_1b79c0c2_8ba6_11eb_9c64_0242ac1c0002row1_col1\" class=\"data row1 col1\" >0</td>\n",
              "                        <td id=\"T_1b79c0c2_8ba6_11eb_9c64_0242ac1c0002row1_col2\" class=\"data row1 col2\" >0</td>\n",
              "                        <td id=\"T_1b79c0c2_8ba6_11eb_9c64_0242ac1c0002row1_col3\" class=\"data row1 col3\" >0</td>\n",
              "                        <td id=\"T_1b79c0c2_8ba6_11eb_9c64_0242ac1c0002row1_col4\" class=\"data row1 col4\" >0</td>\n",
              "                        <td id=\"T_1b79c0c2_8ba6_11eb_9c64_0242ac1c0002row1_col5\" class=\"data row1 col5\" >0</td>\n",
              "                        <td id=\"T_1b79c0c2_8ba6_11eb_9c64_0242ac1c0002row1_col6\" class=\"data row1 col6\" >0</td>\n",
              "                        <td id=\"T_1b79c0c2_8ba6_11eb_9c64_0242ac1c0002row1_col7\" class=\"data row1 col7\" >0</td>\n",
              "                        <td id=\"T_1b79c0c2_8ba6_11eb_9c64_0242ac1c0002row1_col8\" class=\"data row1 col8\" >0</td>\n",
              "                        <td id=\"T_1b79c0c2_8ba6_11eb_9c64_0242ac1c0002row1_col9\" class=\"data row1 col9\" >0</td>\n",
              "                        <td id=\"T_1b79c0c2_8ba6_11eb_9c64_0242ac1c0002row1_col10\" class=\"data row1 col10\" >0</td>\n",
              "                        <td id=\"T_1b79c0c2_8ba6_11eb_9c64_0242ac1c0002row1_col11\" class=\"data row1 col11\" >0</td>\n",
              "                        <td id=\"T_1b79c0c2_8ba6_11eb_9c64_0242ac1c0002row1_col12\" class=\"data row1 col12\" >0</td>\n",
              "                        <td id=\"T_1b79c0c2_8ba6_11eb_9c64_0242ac1c0002row1_col13\" class=\"data row1 col13\" >0</td>\n",
              "                        <td id=\"T_1b79c0c2_8ba6_11eb_9c64_0242ac1c0002row1_col14\" class=\"data row1 col14\" >0</td>\n",
              "                        <td id=\"T_1b79c0c2_8ba6_11eb_9c64_0242ac1c0002row1_col15\" class=\"data row1 col15\" >0</td>\n",
              "                        <td id=\"T_1b79c0c2_8ba6_11eb_9c64_0242ac1c0002row1_col16\" class=\"data row1 col16\" >0</td>\n",
              "                        <td id=\"T_1b79c0c2_8ba6_11eb_9c64_0242ac1c0002row1_col17\" class=\"data row1 col17\" >0</td>\n",
              "                        <td id=\"T_1b79c0c2_8ba6_11eb_9c64_0242ac1c0002row1_col18\" class=\"data row1 col18\" >0</td>\n",
              "                        <td id=\"T_1b79c0c2_8ba6_11eb_9c64_0242ac1c0002row1_col19\" class=\"data row1 col19\" >0</td>\n",
              "            </tr>\n",
              "            <tr>\n",
              "                        <th id=\"T_1b79c0c2_8ba6_11eb_9c64_0242ac1c0002level0_row2\" class=\"row_heading level0 row2\" >2</th>\n",
              "                        <td id=\"T_1b79c0c2_8ba6_11eb_9c64_0242ac1c0002row2_col0\" class=\"data row2 col0\" >0</td>\n",
              "                        <td id=\"T_1b79c0c2_8ba6_11eb_9c64_0242ac1c0002row2_col1\" class=\"data row2 col1\" >0</td>\n",
              "                        <td id=\"T_1b79c0c2_8ba6_11eb_9c64_0242ac1c0002row2_col2\" class=\"data row2 col2\" >0</td>\n",
              "                        <td id=\"T_1b79c0c2_8ba6_11eb_9c64_0242ac1c0002row2_col3\" class=\"data row2 col3\" >0</td>\n",
              "                        <td id=\"T_1b79c0c2_8ba6_11eb_9c64_0242ac1c0002row2_col4\" class=\"data row2 col4\" >0</td>\n",
              "                        <td id=\"T_1b79c0c2_8ba6_11eb_9c64_0242ac1c0002row2_col5\" class=\"data row2 col5\" >0</td>\n",
              "                        <td id=\"T_1b79c0c2_8ba6_11eb_9c64_0242ac1c0002row2_col6\" class=\"data row2 col6\" >0</td>\n",
              "                        <td id=\"T_1b79c0c2_8ba6_11eb_9c64_0242ac1c0002row2_col7\" class=\"data row2 col7\" >0</td>\n",
              "                        <td id=\"T_1b79c0c2_8ba6_11eb_9c64_0242ac1c0002row2_col8\" class=\"data row2 col8\" >0</td>\n",
              "                        <td id=\"T_1b79c0c2_8ba6_11eb_9c64_0242ac1c0002row2_col9\" class=\"data row2 col9\" >0</td>\n",
              "                        <td id=\"T_1b79c0c2_8ba6_11eb_9c64_0242ac1c0002row2_col10\" class=\"data row2 col10\" >0</td>\n",
              "                        <td id=\"T_1b79c0c2_8ba6_11eb_9c64_0242ac1c0002row2_col11\" class=\"data row2 col11\" >0</td>\n",
              "                        <td id=\"T_1b79c0c2_8ba6_11eb_9c64_0242ac1c0002row2_col12\" class=\"data row2 col12\" >0</td>\n",
              "                        <td id=\"T_1b79c0c2_8ba6_11eb_9c64_0242ac1c0002row2_col13\" class=\"data row2 col13\" >0</td>\n",
              "                        <td id=\"T_1b79c0c2_8ba6_11eb_9c64_0242ac1c0002row2_col14\" class=\"data row2 col14\" >0</td>\n",
              "                        <td id=\"T_1b79c0c2_8ba6_11eb_9c64_0242ac1c0002row2_col15\" class=\"data row2 col15\" >0</td>\n",
              "                        <td id=\"T_1b79c0c2_8ba6_11eb_9c64_0242ac1c0002row2_col16\" class=\"data row2 col16\" >0</td>\n",
              "                        <td id=\"T_1b79c0c2_8ba6_11eb_9c64_0242ac1c0002row2_col17\" class=\"data row2 col17\" >0</td>\n",
              "                        <td id=\"T_1b79c0c2_8ba6_11eb_9c64_0242ac1c0002row2_col18\" class=\"data row2 col18\" >0</td>\n",
              "                        <td id=\"T_1b79c0c2_8ba6_11eb_9c64_0242ac1c0002row2_col19\" class=\"data row2 col19\" >0</td>\n",
              "            </tr>\n",
              "            <tr>\n",
              "                        <th id=\"T_1b79c0c2_8ba6_11eb_9c64_0242ac1c0002level0_row3\" class=\"row_heading level0 row3\" >3</th>\n",
              "                        <td id=\"T_1b79c0c2_8ba6_11eb_9c64_0242ac1c0002row3_col0\" class=\"data row3 col0\" >0</td>\n",
              "                        <td id=\"T_1b79c0c2_8ba6_11eb_9c64_0242ac1c0002row3_col1\" class=\"data row3 col1\" >0</td>\n",
              "                        <td id=\"T_1b79c0c2_8ba6_11eb_9c64_0242ac1c0002row3_col2\" class=\"data row3 col2\" >0</td>\n",
              "                        <td id=\"T_1b79c0c2_8ba6_11eb_9c64_0242ac1c0002row3_col3\" class=\"data row3 col3\" >0</td>\n",
              "                        <td id=\"T_1b79c0c2_8ba6_11eb_9c64_0242ac1c0002row3_col4\" class=\"data row3 col4\" >0</td>\n",
              "                        <td id=\"T_1b79c0c2_8ba6_11eb_9c64_0242ac1c0002row3_col5\" class=\"data row3 col5\" >0</td>\n",
              "                        <td id=\"T_1b79c0c2_8ba6_11eb_9c64_0242ac1c0002row3_col6\" class=\"data row3 col6\" >0</td>\n",
              "                        <td id=\"T_1b79c0c2_8ba6_11eb_9c64_0242ac1c0002row3_col7\" class=\"data row3 col7\" >0</td>\n",
              "                        <td id=\"T_1b79c0c2_8ba6_11eb_9c64_0242ac1c0002row3_col8\" class=\"data row3 col8\" >0</td>\n",
              "                        <td id=\"T_1b79c0c2_8ba6_11eb_9c64_0242ac1c0002row3_col9\" class=\"data row3 col9\" >0</td>\n",
              "                        <td id=\"T_1b79c0c2_8ba6_11eb_9c64_0242ac1c0002row3_col10\" class=\"data row3 col10\" >0</td>\n",
              "                        <td id=\"T_1b79c0c2_8ba6_11eb_9c64_0242ac1c0002row3_col11\" class=\"data row3 col11\" >0</td>\n",
              "                        <td id=\"T_1b79c0c2_8ba6_11eb_9c64_0242ac1c0002row3_col12\" class=\"data row3 col12\" >0</td>\n",
              "                        <td id=\"T_1b79c0c2_8ba6_11eb_9c64_0242ac1c0002row3_col13\" class=\"data row3 col13\" >0</td>\n",
              "                        <td id=\"T_1b79c0c2_8ba6_11eb_9c64_0242ac1c0002row3_col14\" class=\"data row3 col14\" >0</td>\n",
              "                        <td id=\"T_1b79c0c2_8ba6_11eb_9c64_0242ac1c0002row3_col15\" class=\"data row3 col15\" >0</td>\n",
              "                        <td id=\"T_1b79c0c2_8ba6_11eb_9c64_0242ac1c0002row3_col16\" class=\"data row3 col16\" >0</td>\n",
              "                        <td id=\"T_1b79c0c2_8ba6_11eb_9c64_0242ac1c0002row3_col17\" class=\"data row3 col17\" >0</td>\n",
              "                        <td id=\"T_1b79c0c2_8ba6_11eb_9c64_0242ac1c0002row3_col18\" class=\"data row3 col18\" >0</td>\n",
              "                        <td id=\"T_1b79c0c2_8ba6_11eb_9c64_0242ac1c0002row3_col19\" class=\"data row3 col19\" >0</td>\n",
              "            </tr>\n",
              "            <tr>\n",
              "                        <th id=\"T_1b79c0c2_8ba6_11eb_9c64_0242ac1c0002level0_row4\" class=\"row_heading level0 row4\" >4</th>\n",
              "                        <td id=\"T_1b79c0c2_8ba6_11eb_9c64_0242ac1c0002row4_col0\" class=\"data row4 col0\" >0</td>\n",
              "                        <td id=\"T_1b79c0c2_8ba6_11eb_9c64_0242ac1c0002row4_col1\" class=\"data row4 col1\" >0</td>\n",
              "                        <td id=\"T_1b79c0c2_8ba6_11eb_9c64_0242ac1c0002row4_col2\" class=\"data row4 col2\" >0</td>\n",
              "                        <td id=\"T_1b79c0c2_8ba6_11eb_9c64_0242ac1c0002row4_col3\" class=\"data row4 col3\" >0</td>\n",
              "                        <td id=\"T_1b79c0c2_8ba6_11eb_9c64_0242ac1c0002row4_col4\" class=\"data row4 col4\" >0</td>\n",
              "                        <td id=\"T_1b79c0c2_8ba6_11eb_9c64_0242ac1c0002row4_col5\" class=\"data row4 col5\" >0</td>\n",
              "                        <td id=\"T_1b79c0c2_8ba6_11eb_9c64_0242ac1c0002row4_col6\" class=\"data row4 col6\" >0</td>\n",
              "                        <td id=\"T_1b79c0c2_8ba6_11eb_9c64_0242ac1c0002row4_col7\" class=\"data row4 col7\" >0</td>\n",
              "                        <td id=\"T_1b79c0c2_8ba6_11eb_9c64_0242ac1c0002row4_col8\" class=\"data row4 col8\" >0</td>\n",
              "                        <td id=\"T_1b79c0c2_8ba6_11eb_9c64_0242ac1c0002row4_col9\" class=\"data row4 col9\" >0</td>\n",
              "                        <td id=\"T_1b79c0c2_8ba6_11eb_9c64_0242ac1c0002row4_col10\" class=\"data row4 col10\" >0</td>\n",
              "                        <td id=\"T_1b79c0c2_8ba6_11eb_9c64_0242ac1c0002row4_col11\" class=\"data row4 col11\" >0</td>\n",
              "                        <td id=\"T_1b79c0c2_8ba6_11eb_9c64_0242ac1c0002row4_col12\" class=\"data row4 col12\" >0</td>\n",
              "                        <td id=\"T_1b79c0c2_8ba6_11eb_9c64_0242ac1c0002row4_col13\" class=\"data row4 col13\" >0</td>\n",
              "                        <td id=\"T_1b79c0c2_8ba6_11eb_9c64_0242ac1c0002row4_col14\" class=\"data row4 col14\" >0</td>\n",
              "                        <td id=\"T_1b79c0c2_8ba6_11eb_9c64_0242ac1c0002row4_col15\" class=\"data row4 col15\" >0</td>\n",
              "                        <td id=\"T_1b79c0c2_8ba6_11eb_9c64_0242ac1c0002row4_col16\" class=\"data row4 col16\" >0</td>\n",
              "                        <td id=\"T_1b79c0c2_8ba6_11eb_9c64_0242ac1c0002row4_col17\" class=\"data row4 col17\" >0</td>\n",
              "                        <td id=\"T_1b79c0c2_8ba6_11eb_9c64_0242ac1c0002row4_col18\" class=\"data row4 col18\" >0</td>\n",
              "                        <td id=\"T_1b79c0c2_8ba6_11eb_9c64_0242ac1c0002row4_col19\" class=\"data row4 col19\" >0</td>\n",
              "            </tr>\n",
              "            <tr>\n",
              "                        <th id=\"T_1b79c0c2_8ba6_11eb_9c64_0242ac1c0002level0_row5\" class=\"row_heading level0 row5\" >5</th>\n",
              "                        <td id=\"T_1b79c0c2_8ba6_11eb_9c64_0242ac1c0002row5_col0\" class=\"data row5 col0\" >0</td>\n",
              "                        <td id=\"T_1b79c0c2_8ba6_11eb_9c64_0242ac1c0002row5_col1\" class=\"data row5 col1\" >0</td>\n",
              "                        <td id=\"T_1b79c0c2_8ba6_11eb_9c64_0242ac1c0002row5_col2\" class=\"data row5 col2\" >0</td>\n",
              "                        <td id=\"T_1b79c0c2_8ba6_11eb_9c64_0242ac1c0002row5_col3\" class=\"data row5 col3\" >12</td>\n",
              "                        <td id=\"T_1b79c0c2_8ba6_11eb_9c64_0242ac1c0002row5_col4\" class=\"data row5 col4\" >99</td>\n",
              "                        <td id=\"T_1b79c0c2_8ba6_11eb_9c64_0242ac1c0002row5_col5\" class=\"data row5 col5\" >91</td>\n",
              "                        <td id=\"T_1b79c0c2_8ba6_11eb_9c64_0242ac1c0002row5_col6\" class=\"data row5 col6\" >142</td>\n",
              "                        <td id=\"T_1b79c0c2_8ba6_11eb_9c64_0242ac1c0002row5_col7\" class=\"data row5 col7\" >155</td>\n",
              "                        <td id=\"T_1b79c0c2_8ba6_11eb_9c64_0242ac1c0002row5_col8\" class=\"data row5 col8\" >246</td>\n",
              "                        <td id=\"T_1b79c0c2_8ba6_11eb_9c64_0242ac1c0002row5_col9\" class=\"data row5 col9\" >182</td>\n",
              "                        <td id=\"T_1b79c0c2_8ba6_11eb_9c64_0242ac1c0002row5_col10\" class=\"data row5 col10\" >155</td>\n",
              "                        <td id=\"T_1b79c0c2_8ba6_11eb_9c64_0242ac1c0002row5_col11\" class=\"data row5 col11\" >155</td>\n",
              "                        <td id=\"T_1b79c0c2_8ba6_11eb_9c64_0242ac1c0002row5_col12\" class=\"data row5 col12\" >155</td>\n",
              "                        <td id=\"T_1b79c0c2_8ba6_11eb_9c64_0242ac1c0002row5_col13\" class=\"data row5 col13\" >155</td>\n",
              "                        <td id=\"T_1b79c0c2_8ba6_11eb_9c64_0242ac1c0002row5_col14\" class=\"data row5 col14\" >131</td>\n",
              "                        <td id=\"T_1b79c0c2_8ba6_11eb_9c64_0242ac1c0002row5_col15\" class=\"data row5 col15\" >52</td>\n",
              "                        <td id=\"T_1b79c0c2_8ba6_11eb_9c64_0242ac1c0002row5_col16\" class=\"data row5 col16\" >0</td>\n",
              "                        <td id=\"T_1b79c0c2_8ba6_11eb_9c64_0242ac1c0002row5_col17\" class=\"data row5 col17\" >0</td>\n",
              "                        <td id=\"T_1b79c0c2_8ba6_11eb_9c64_0242ac1c0002row5_col18\" class=\"data row5 col18\" >0</td>\n",
              "                        <td id=\"T_1b79c0c2_8ba6_11eb_9c64_0242ac1c0002row5_col19\" class=\"data row5 col19\" >0</td>\n",
              "            </tr>\n",
              "            <tr>\n",
              "                        <th id=\"T_1b79c0c2_8ba6_11eb_9c64_0242ac1c0002level0_row6\" class=\"row_heading level0 row6\" >6</th>\n",
              "                        <td id=\"T_1b79c0c2_8ba6_11eb_9c64_0242ac1c0002row6_col0\" class=\"data row6 col0\" >0</td>\n",
              "                        <td id=\"T_1b79c0c2_8ba6_11eb_9c64_0242ac1c0002row6_col1\" class=\"data row6 col1\" >0</td>\n",
              "                        <td id=\"T_1b79c0c2_8ba6_11eb_9c64_0242ac1c0002row6_col2\" class=\"data row6 col2\" >0</td>\n",
              "                        <td id=\"T_1b79c0c2_8ba6_11eb_9c64_0242ac1c0002row6_col3\" class=\"data row6 col3\" >138</td>\n",
              "                        <td id=\"T_1b79c0c2_8ba6_11eb_9c64_0242ac1c0002row6_col4\" class=\"data row6 col4\" >254</td>\n",
              "                        <td id=\"T_1b79c0c2_8ba6_11eb_9c64_0242ac1c0002row6_col5\" class=\"data row6 col5\" >254</td>\n",
              "                        <td id=\"T_1b79c0c2_8ba6_11eb_9c64_0242ac1c0002row6_col6\" class=\"data row6 col6\" >254</td>\n",
              "                        <td id=\"T_1b79c0c2_8ba6_11eb_9c64_0242ac1c0002row6_col7\" class=\"data row6 col7\" >254</td>\n",
              "                        <td id=\"T_1b79c0c2_8ba6_11eb_9c64_0242ac1c0002row6_col8\" class=\"data row6 col8\" >254</td>\n",
              "                        <td id=\"T_1b79c0c2_8ba6_11eb_9c64_0242ac1c0002row6_col9\" class=\"data row6 col9\" >254</td>\n",
              "                        <td id=\"T_1b79c0c2_8ba6_11eb_9c64_0242ac1c0002row6_col10\" class=\"data row6 col10\" >254</td>\n",
              "                        <td id=\"T_1b79c0c2_8ba6_11eb_9c64_0242ac1c0002row6_col11\" class=\"data row6 col11\" >254</td>\n",
              "                        <td id=\"T_1b79c0c2_8ba6_11eb_9c64_0242ac1c0002row6_col12\" class=\"data row6 col12\" >254</td>\n",
              "                        <td id=\"T_1b79c0c2_8ba6_11eb_9c64_0242ac1c0002row6_col13\" class=\"data row6 col13\" >254</td>\n",
              "                        <td id=\"T_1b79c0c2_8ba6_11eb_9c64_0242ac1c0002row6_col14\" class=\"data row6 col14\" >254</td>\n",
              "                        <td id=\"T_1b79c0c2_8ba6_11eb_9c64_0242ac1c0002row6_col15\" class=\"data row6 col15\" >252</td>\n",
              "                        <td id=\"T_1b79c0c2_8ba6_11eb_9c64_0242ac1c0002row6_col16\" class=\"data row6 col16\" >210</td>\n",
              "                        <td id=\"T_1b79c0c2_8ba6_11eb_9c64_0242ac1c0002row6_col17\" class=\"data row6 col17\" >122</td>\n",
              "                        <td id=\"T_1b79c0c2_8ba6_11eb_9c64_0242ac1c0002row6_col18\" class=\"data row6 col18\" >33</td>\n",
              "                        <td id=\"T_1b79c0c2_8ba6_11eb_9c64_0242ac1c0002row6_col19\" class=\"data row6 col19\" >0</td>\n",
              "            </tr>\n",
              "            <tr>\n",
              "                        <th id=\"T_1b79c0c2_8ba6_11eb_9c64_0242ac1c0002level0_row7\" class=\"row_heading level0 row7\" >7</th>\n",
              "                        <td id=\"T_1b79c0c2_8ba6_11eb_9c64_0242ac1c0002row7_col0\" class=\"data row7 col0\" >0</td>\n",
              "                        <td id=\"T_1b79c0c2_8ba6_11eb_9c64_0242ac1c0002row7_col1\" class=\"data row7 col1\" >0</td>\n",
              "                        <td id=\"T_1b79c0c2_8ba6_11eb_9c64_0242ac1c0002row7_col2\" class=\"data row7 col2\" >0</td>\n",
              "                        <td id=\"T_1b79c0c2_8ba6_11eb_9c64_0242ac1c0002row7_col3\" class=\"data row7 col3\" >220</td>\n",
              "                        <td id=\"T_1b79c0c2_8ba6_11eb_9c64_0242ac1c0002row7_col4\" class=\"data row7 col4\" >254</td>\n",
              "                        <td id=\"T_1b79c0c2_8ba6_11eb_9c64_0242ac1c0002row7_col5\" class=\"data row7 col5\" >254</td>\n",
              "                        <td id=\"T_1b79c0c2_8ba6_11eb_9c64_0242ac1c0002row7_col6\" class=\"data row7 col6\" >254</td>\n",
              "                        <td id=\"T_1b79c0c2_8ba6_11eb_9c64_0242ac1c0002row7_col7\" class=\"data row7 col7\" >235</td>\n",
              "                        <td id=\"T_1b79c0c2_8ba6_11eb_9c64_0242ac1c0002row7_col8\" class=\"data row7 col8\" >189</td>\n",
              "                        <td id=\"T_1b79c0c2_8ba6_11eb_9c64_0242ac1c0002row7_col9\" class=\"data row7 col9\" >189</td>\n",
              "                        <td id=\"T_1b79c0c2_8ba6_11eb_9c64_0242ac1c0002row7_col10\" class=\"data row7 col10\" >189</td>\n",
              "                        <td id=\"T_1b79c0c2_8ba6_11eb_9c64_0242ac1c0002row7_col11\" class=\"data row7 col11\" >189</td>\n",
              "                        <td id=\"T_1b79c0c2_8ba6_11eb_9c64_0242ac1c0002row7_col12\" class=\"data row7 col12\" >150</td>\n",
              "                        <td id=\"T_1b79c0c2_8ba6_11eb_9c64_0242ac1c0002row7_col13\" class=\"data row7 col13\" >189</td>\n",
              "                        <td id=\"T_1b79c0c2_8ba6_11eb_9c64_0242ac1c0002row7_col14\" class=\"data row7 col14\" >205</td>\n",
              "                        <td id=\"T_1b79c0c2_8ba6_11eb_9c64_0242ac1c0002row7_col15\" class=\"data row7 col15\" >254</td>\n",
              "                        <td id=\"T_1b79c0c2_8ba6_11eb_9c64_0242ac1c0002row7_col16\" class=\"data row7 col16\" >254</td>\n",
              "                        <td id=\"T_1b79c0c2_8ba6_11eb_9c64_0242ac1c0002row7_col17\" class=\"data row7 col17\" >254</td>\n",
              "                        <td id=\"T_1b79c0c2_8ba6_11eb_9c64_0242ac1c0002row7_col18\" class=\"data row7 col18\" >75</td>\n",
              "                        <td id=\"T_1b79c0c2_8ba6_11eb_9c64_0242ac1c0002row7_col19\" class=\"data row7 col19\" >0</td>\n",
              "            </tr>\n",
              "            <tr>\n",
              "                        <th id=\"T_1b79c0c2_8ba6_11eb_9c64_0242ac1c0002level0_row8\" class=\"row_heading level0 row8\" >8</th>\n",
              "                        <td id=\"T_1b79c0c2_8ba6_11eb_9c64_0242ac1c0002row8_col0\" class=\"data row8 col0\" >0</td>\n",
              "                        <td id=\"T_1b79c0c2_8ba6_11eb_9c64_0242ac1c0002row8_col1\" class=\"data row8 col1\" >0</td>\n",
              "                        <td id=\"T_1b79c0c2_8ba6_11eb_9c64_0242ac1c0002row8_col2\" class=\"data row8 col2\" >0</td>\n",
              "                        <td id=\"T_1b79c0c2_8ba6_11eb_9c64_0242ac1c0002row8_col3\" class=\"data row8 col3\" >35</td>\n",
              "                        <td id=\"T_1b79c0c2_8ba6_11eb_9c64_0242ac1c0002row8_col4\" class=\"data row8 col4\" >74</td>\n",
              "                        <td id=\"T_1b79c0c2_8ba6_11eb_9c64_0242ac1c0002row8_col5\" class=\"data row8 col5\" >35</td>\n",
              "                        <td id=\"T_1b79c0c2_8ba6_11eb_9c64_0242ac1c0002row8_col6\" class=\"data row8 col6\" >35</td>\n",
              "                        <td id=\"T_1b79c0c2_8ba6_11eb_9c64_0242ac1c0002row8_col7\" class=\"data row8 col7\" >25</td>\n",
              "                        <td id=\"T_1b79c0c2_8ba6_11eb_9c64_0242ac1c0002row8_col8\" class=\"data row8 col8\" >0</td>\n",
              "                        <td id=\"T_1b79c0c2_8ba6_11eb_9c64_0242ac1c0002row8_col9\" class=\"data row8 col9\" >0</td>\n",
              "                        <td id=\"T_1b79c0c2_8ba6_11eb_9c64_0242ac1c0002row8_col10\" class=\"data row8 col10\" >0</td>\n",
              "                        <td id=\"T_1b79c0c2_8ba6_11eb_9c64_0242ac1c0002row8_col11\" class=\"data row8 col11\" >0</td>\n",
              "                        <td id=\"T_1b79c0c2_8ba6_11eb_9c64_0242ac1c0002row8_col12\" class=\"data row8 col12\" >0</td>\n",
              "                        <td id=\"T_1b79c0c2_8ba6_11eb_9c64_0242ac1c0002row8_col13\" class=\"data row8 col13\" >0</td>\n",
              "                        <td id=\"T_1b79c0c2_8ba6_11eb_9c64_0242ac1c0002row8_col14\" class=\"data row8 col14\" >13</td>\n",
              "                        <td id=\"T_1b79c0c2_8ba6_11eb_9c64_0242ac1c0002row8_col15\" class=\"data row8 col15\" >224</td>\n",
              "                        <td id=\"T_1b79c0c2_8ba6_11eb_9c64_0242ac1c0002row8_col16\" class=\"data row8 col16\" >254</td>\n",
              "                        <td id=\"T_1b79c0c2_8ba6_11eb_9c64_0242ac1c0002row8_col17\" class=\"data row8 col17\" >254</td>\n",
              "                        <td id=\"T_1b79c0c2_8ba6_11eb_9c64_0242ac1c0002row8_col18\" class=\"data row8 col18\" >153</td>\n",
              "                        <td id=\"T_1b79c0c2_8ba6_11eb_9c64_0242ac1c0002row8_col19\" class=\"data row8 col19\" >0</td>\n",
              "            </tr>\n",
              "            <tr>\n",
              "                        <th id=\"T_1b79c0c2_8ba6_11eb_9c64_0242ac1c0002level0_row9\" class=\"row_heading level0 row9\" >9</th>\n",
              "                        <td id=\"T_1b79c0c2_8ba6_11eb_9c64_0242ac1c0002row9_col0\" class=\"data row9 col0\" >0</td>\n",
              "                        <td id=\"T_1b79c0c2_8ba6_11eb_9c64_0242ac1c0002row9_col1\" class=\"data row9 col1\" >0</td>\n",
              "                        <td id=\"T_1b79c0c2_8ba6_11eb_9c64_0242ac1c0002row9_col2\" class=\"data row9 col2\" >0</td>\n",
              "                        <td id=\"T_1b79c0c2_8ba6_11eb_9c64_0242ac1c0002row9_col3\" class=\"data row9 col3\" >0</td>\n",
              "                        <td id=\"T_1b79c0c2_8ba6_11eb_9c64_0242ac1c0002row9_col4\" class=\"data row9 col4\" >0</td>\n",
              "                        <td id=\"T_1b79c0c2_8ba6_11eb_9c64_0242ac1c0002row9_col5\" class=\"data row9 col5\" >0</td>\n",
              "                        <td id=\"T_1b79c0c2_8ba6_11eb_9c64_0242ac1c0002row9_col6\" class=\"data row9 col6\" >0</td>\n",
              "                        <td id=\"T_1b79c0c2_8ba6_11eb_9c64_0242ac1c0002row9_col7\" class=\"data row9 col7\" >0</td>\n",
              "                        <td id=\"T_1b79c0c2_8ba6_11eb_9c64_0242ac1c0002row9_col8\" class=\"data row9 col8\" >0</td>\n",
              "                        <td id=\"T_1b79c0c2_8ba6_11eb_9c64_0242ac1c0002row9_col9\" class=\"data row9 col9\" >0</td>\n",
              "                        <td id=\"T_1b79c0c2_8ba6_11eb_9c64_0242ac1c0002row9_col10\" class=\"data row9 col10\" >0</td>\n",
              "                        <td id=\"T_1b79c0c2_8ba6_11eb_9c64_0242ac1c0002row9_col11\" class=\"data row9 col11\" >0</td>\n",
              "                        <td id=\"T_1b79c0c2_8ba6_11eb_9c64_0242ac1c0002row9_col12\" class=\"data row9 col12\" >0</td>\n",
              "                        <td id=\"T_1b79c0c2_8ba6_11eb_9c64_0242ac1c0002row9_col13\" class=\"data row9 col13\" >0</td>\n",
              "                        <td id=\"T_1b79c0c2_8ba6_11eb_9c64_0242ac1c0002row9_col14\" class=\"data row9 col14\" >90</td>\n",
              "                        <td id=\"T_1b79c0c2_8ba6_11eb_9c64_0242ac1c0002row9_col15\" class=\"data row9 col15\" >254</td>\n",
              "                        <td id=\"T_1b79c0c2_8ba6_11eb_9c64_0242ac1c0002row9_col16\" class=\"data row9 col16\" >254</td>\n",
              "                        <td id=\"T_1b79c0c2_8ba6_11eb_9c64_0242ac1c0002row9_col17\" class=\"data row9 col17\" >247</td>\n",
              "                        <td id=\"T_1b79c0c2_8ba6_11eb_9c64_0242ac1c0002row9_col18\" class=\"data row9 col18\" >53</td>\n",
              "                        <td id=\"T_1b79c0c2_8ba6_11eb_9c64_0242ac1c0002row9_col19\" class=\"data row9 col19\" >0</td>\n",
              "            </tr>\n",
              "    </tbody></table>"
            ],
            "text/plain": [
              "<pandas.io.formats.style.Styler at 0x7fd05b683e10>"
            ]
          },
          "metadata": {
            "tags": []
          },
          "execution_count": 4
        }
      ]
    },
    {
      "cell_type": "markdown",
      "metadata": {
        "id": "4oreCoAMoUSS"
      },
      "source": [
        "For the top edge of the 3, we have the values above the middle row being 0 (so no contribution) and the values on the bottom row being high positive numbers so overall we get a high positive number from the multiplication.\n",
        "For the bottom edge, the opposite is true."
      ]
    },
    {
      "cell_type": "code",
      "metadata": {
        "colab": {
          "base_uri": "https://localhost:8080/"
        },
        "id": "psg1X-NYn5jp",
        "outputId": "04adceea-57ab-49bb-c5ad-2f18677eee48"
      },
      "source": [
        "(im3_t[4:7, 6:9]*top_edge).sum()"
      ],
      "execution_count": 5,
      "outputs": [
        {
          "output_type": "execute_result",
          "data": {
            "text/plain": [
              "tensor(762.)"
            ]
          },
          "metadata": {
            "tags": []
          },
          "execution_count": 5
        }
      ]
    },
    {
      "cell_type": "code",
      "metadata": {
        "id": "esjjAUCnpGIf"
      },
      "source": [
        "def apply_kernel(row, col, kernel):\n",
        "    return (im3_t[row-1:row+2, col-1:col+2]*kernel).sum()"
      ],
      "execution_count": 6,
      "outputs": []
    },
    {
      "cell_type": "code",
      "metadata": {
        "colab": {
          "base_uri": "https://localhost:8080/"
        },
        "id": "q3vKYh85pXd3",
        "outputId": "8b8f37b1-1e99-449e-d2f1-86399ccbf297"
      },
      "source": [
        "apply_kernel(5, 7, top_edge)"
      ],
      "execution_count": 7,
      "outputs": [
        {
          "output_type": "execute_result",
          "data": {
            "text/plain": [
              "tensor(762.)"
            ]
          },
          "metadata": {
            "tags": []
          },
          "execution_count": 7
        }
      ]
    },
    {
      "cell_type": "code",
      "metadata": {
        "id": "d37F2MrR6WYb"
      },
      "source": [
        "??show_image"
      ],
      "execution_count": 9,
      "outputs": []
    },
    {
      "cell_type": "code",
      "metadata": {
        "colab": {
          "base_uri": "https://localhost:8080/",
          "height": 102
        },
        "id": "pff5gEkEprny",
        "outputId": "8d11963a-b292-4af0-f8f2-f53411b1de6b"
      },
      "source": [
        "top_edge3 = tensor([[apply_kernel(row, col, top_edge) for col in range(1,27)] for row in range(1,27)])\n",
        "show_image(top_edge3)"
      ],
      "execution_count": 13,
      "outputs": [
        {
          "output_type": "execute_result",
          "data": {
            "text/plain": [
              "<matplotlib.axes._subplots.AxesSubplot at 0x7fd05a8c0210>"
            ]
          },
          "metadata": {
            "tags": []
          },
          "execution_count": 13
        },
        {
          "output_type": "display_data",
          "data": {
            "image/png": "[encoded data removed]",
            "text/plain": [
              "<Figure size 72x72 with 1 Axes>"
            ]
          },
          "metadata": {
            "tags": [],
            "needs_background": "light"
          }
        }
      ]
    },
    {
      "cell_type": "code",
      "metadata": {
        "id": "DxaQnWcXpuQq"
      },
      "source": [
        "left_edge = tensor([[-1, 0, 1],\n",
        "                    [-1,0,1],\n",
        "                    [-1,0,1]])"
      ],
      "execution_count": 14,
      "outputs": []
    },
    {
      "cell_type": "code",
      "metadata": {
        "colab": {
          "base_uri": "https://localhost:8080/",
          "height": 102
        },
        "id": "akQSluARtE-s",
        "outputId": "14af3c21-d7cf-4908-ba5f-426a719fe45a"
      },
      "source": [
        "left_edge3 = tensor([[apply_kernel(row, col, left_edge) for col in range(1,27)] for row in range(1,27)])\n",
        "show_image(left_edge3)"
      ],
      "execution_count": 15,
      "outputs": [
        {
          "output_type": "execute_result",
          "data": {
            "text/plain": [
              "<matplotlib.axes._subplots.AxesSubplot at 0x7fd05aa301d0>"
            ]
          },
          "metadata": {
            "tags": []
          },
          "execution_count": 15
        },
        {
          "output_type": "display_data",
          "data": {
            "image/png": "[encoded data removed]",
            "text/plain": [
              "<Figure size 72x72 with 1 Axes>"
            ]
          },
          "metadata": {
            "tags": [],
            "needs_background": "light"
          }
        }
      ]
    },
    {
      "cell_type": "code",
      "metadata": {
        "id": "GHmWfBphtWIC"
      },
      "source": [
        "diag1_edge = tensor([[0,-1,1],\n",
        "                     [-1,1,0],\n",
        "                     [1,0,0]])\n",
        "# This diag edge finds only the diag edges without anything above them. \n",
        "# See the picture below, there is a white diag edge below the black one"
      ],
      "execution_count": 18,
      "outputs": []
    },
    {
      "cell_type": "code",
      "metadata": {
        "colab": {
          "base_uri": "https://localhost:8080/",
          "height": 102
        },
        "id": "DqglKpKpvkgw",
        "outputId": "7c841a24-370b-4531-82c6-398917dfe377"
      },
      "source": [
        "diag1 = tensor([[apply_kernel(row, col, diag1_edge) for col in range(1,27)] for row in range(1,27)])\n",
        "show_image(diag1)"
      ],
      "execution_count": 19,
      "outputs": [
        {
          "output_type": "execute_result",
          "data": {
            "text/plain": [
              "<matplotlib.axes._subplots.AxesSubplot at 0x7fd05a38f410>"
            ]
          },
          "metadata": {
            "tags": []
          },
          "execution_count": 19
        },
        {
          "output_type": "display_data",
          "data": {
            "image/png": "[encoded data removed]",
            "text/plain": [
              "<Figure size 72x72 with 1 Axes>"
            ]
          },
          "metadata": {
            "tags": [],
            "needs_background": "light"
          }
        }
      ]
    },
    {
      "cell_type": "code",
      "metadata": {
        "colab": {
          "base_uri": "https://localhost:8080/",
          "height": 102
        },
        "id": "OkuBhwQevyCR",
        "outputId": "7a69ec6d-ce7d-4ca5-8177-26343c65a7db"
      },
      "source": [
        "diag2_edge = tensor([[1,-1,0],\n",
        "                     [0,1,-1],\n",
        "                     [0,0,1]])\n",
        "diag2 = tensor([[apply_kernel(row, col, diag2_edge) for col in range(1,27)] for row in range(1,27)])\n",
        "show_image(diag2)"
      ],
      "execution_count": 20,
      "outputs": [
        {
          "output_type": "execute_result",
          "data": {
            "text/plain": [
              "<matplotlib.axes._subplots.AxesSubplot at 0x7fd05a395810>"
            ]
          },
          "metadata": {
            "tags": []
          },
          "execution_count": 20
        },
        {
          "output_type": "display_data",
          "data": {
            "image/png": "[encoded data removed]",
            "text/plain": [
              "<Figure size 72x72 with 1 Axes>"
            ]
          },
          "metadata": {
            "tags": [],
            "needs_background": "light"
          }
        }
      ]
    },
    {
      "cell_type": "code",
      "metadata": {
        "colab": {
          "base_uri": "https://localhost:8080/"
        },
        "id": "QZhWdYnMwKIz",
        "outputId": "339758dc-d0aa-4f26-82b8-1a85a12ee712"
      },
      "source": [
        "edge_kernels = torch.stack([left_edge, top_edge, diag1_edge, diag2_edge])\n",
        "edge_kernels.shape"
      ],
      "execution_count": 21,
      "outputs": [
        {
          "output_type": "execute_result",
          "data": {
            "text/plain": [
              "torch.Size([4, 3, 3])"
            ]
          },
          "metadata": {
            "tags": []
          },
          "execution_count": 21
        }
      ]
    },
    {
      "cell_type": "code",
      "metadata": {
        "colab": {
          "base_uri": "https://localhost:8080/"
        },
        "id": "yxqnKXx9wX8V",
        "outputId": "45452980-1eaa-4a67-ae78-c7ee70ebccb1"
      },
      "source": [
        "mnist = DataBlock((ImageBlock(cls = PILImageBW), CategoryBlock),\n",
        "                  get_items=get_image_files,\n",
        "                  splitter = GrandparentSplitter(),\n",
        "                  get_y = parent_label)\n",
        "dls = mnist.dataloaders(path)\n",
        "xb,yb = first(dls.valid)\n",
        "xb.shape"
      ],
      "execution_count": 22,
      "outputs": [
        {
          "output_type": "execute_result",
          "data": {
            "text/plain": [
              "torch.Size([64, 1, 28, 28])"
            ]
          },
          "metadata": {
            "tags": []
          },
          "execution_count": 22
        }
      ]
    },
    {
      "cell_type": "code",
      "metadata": {
        "id": "aUWfj-uGwzym"
      },
      "source": [
        "xb, yb = to_cpu(xb), to_cpu(yb)"
      ],
      "execution_count": 23,
      "outputs": []
    },
    {
      "cell_type": "code",
      "metadata": {
        "colab": {
          "base_uri": "https://localhost:8080/"
        },
        "id": "IChpOfANA88D",
        "outputId": "58a96984-1b22-48db-d9aa-24304135efd9"
      },
      "source": [
        "edge_kernels = edge_kernels.unsqueeze(1)\n",
        "edge_kernels.shape\n",
        "# We need to add an extra dimension here because torch expects a 4 dimensional tensor"
      ],
      "execution_count": 25,
      "outputs": [
        {
          "output_type": "execute_result",
          "data": {
            "text/plain": [
              "torch.Size([4, 1, 3, 3])"
            ]
          },
          "metadata": {
            "tags": []
          },
          "execution_count": 25
        }
      ]
    },
    {
      "cell_type": "code",
      "metadata": {
        "colab": {
          "base_uri": "https://localhost:8080/"
        },
        "id": "ldoGWEvzBNd7",
        "outputId": "cd3f7fd5-255f-4e00-ffc5-5e2402faed9a"
      },
      "source": [
        "batch_features = F.conv2d(xb, edge_kernels)\n",
        "batch_features.shape"
      ],
      "execution_count": 26,
      "outputs": [
        {
          "output_type": "execute_result",
          "data": {
            "text/plain": [
              "torch.Size([64, 4, 26, 26])"
            ]
          },
          "metadata": {
            "tags": []
          },
          "execution_count": 26
        }
      ]
    },
    {
      "cell_type": "code",
      "metadata": {
        "colab": {
          "base_uri": "https://localhost:8080/",
          "height": 102
        },
        "id": "JrwDXmsrBs9M",
        "outputId": "9085b244-cb96-4775-9d43-25d2641cfb20"
      },
      "source": [
        "show_image(batch_features[0,3])"
      ],
      "execution_count": null,
      "outputs": [
        {
          "output_type": "execute_result",
          "data": {
            "text/plain": [
              "<matplotlib.axes._subplots.AxesSubplot at 0x7f5b3763f048>"
            ]
          },
          "metadata": {
            "tags": []
          },
          "execution_count": 20
        },
        {
          "output_type": "display_data",
          "data": {
            "image/png": "[encoded data removed]",
            "text/plain": [
              "<Figure size 72x72 with 1 Axes>"
            ]
          },
          "metadata": {
            "tags": [],
            "needs_background": "light"
          }
        }
      ]
    },
    {
      "cell_type": "code",
      "metadata": {
        "colab": {
          "base_uri": "https://localhost:8080/"
        },
        "id": "IN5fTCVeDvAF",
        "outputId": "921b8e55-8944-466b-f857-037e96d48339"
      },
      "source": [
        "simple_net = nn.Sequential(\n",
        "    nn.Linear(28*28, 30),\n",
        "    nn.ReLU(),\n",
        "    nn.Linear(30, 1)\n",
        ")\n",
        "simple_net"
      ],
      "execution_count": null,
      "outputs": [
        {
          "output_type": "execute_result",
          "data": {
            "text/plain": [
              "Sequential(\n",
              "  (0): Linear(in_features=784, out_features=30, bias=True)\n",
              "  (1): ReLU()\n",
              "  (2): Linear(in_features=30, out_features=1, bias=True)\n",
              ")"
            ]
          },
          "metadata": {
            "tags": []
          },
          "execution_count": 21
        }
      ]
    },
    {
      "cell_type": "code",
      "metadata": {
        "id": "4ntx8VtfEoBD"
      },
      "source": [
        "broken_cnn = nn.Sequential(\n",
        "    nn.Conv2d(1,30, kernel_size=3, padding = 1), #Does the 30 here stand for how many convolutions of this size I want to run on my data? Probably\n",
        "    nn.ReLU(),\n",
        "    nn.Conv2d(30, 1, kernel_size=3, padding=1)\n",
        ")\n",
        "#Conv2d has 1 channel and will apply the conv to all the pixels of the input. But what about the output?"
      ],
      "execution_count": null,
      "outputs": []
    },
    {
      "cell_type": "code",
      "metadata": {
        "colab": {
          "base_uri": "https://localhost:8080/",
          "height": 102
        },
        "id": "ny8It7e8FX7m",
        "outputId": "442f4a04-3a23-4c4c-b220-8e1ff1962d2e"
      },
      "source": [
        "show_image(broken_cnn(xb)[0,0])"
      ],
      "execution_count": null,
      "outputs": [
        {
          "output_type": "execute_result",
          "data": {
            "text/plain": [
              "<matplotlib.axes._subplots.AxesSubplot at 0x7f5b3766ff60>"
            ]
          },
          "metadata": {
            "tags": []
          },
          "execution_count": 23
        },
        {
          "output_type": "display_data",
          "data": {
            "image/png": "[encoded data removed]",
            "text/plain": [
              "<Figure size 72x72 with 1 Axes>"
            ]
          },
          "metadata": {
            "tags": [],
            "needs_background": "light"
          }
        }
      ]
    },
    {
      "cell_type": "code",
      "metadata": {
        "id": "liI1cbSKFc5E"
      },
      "source": [
        "def conv(ni, nf, ks=3, act=True):\n",
        "    res = nn.Conv2d(ni, nf, stride=2, kernel_size=ks, padding=ks//2)\n",
        "    if act: res = nn.Sequential(res, nn.ReLU())\n",
        "    return res"
      ],
      "execution_count": null,
      "outputs": []
    },
    {
      "cell_type": "code",
      "metadata": {
        "id": "DSUZx_C4G0kU"
      },
      "source": [
        "simple_cnn = sequential(\n",
        "    conv(1,4), #14x14\n",
        "    conv(4,8), #7x7\n",
        "    conv(8,16), #4x4\n",
        "    conv(16, 32), #2x2\n",
        "    conv(32, 2, act=False),\n",
        "    Flatten()\n",
        ")"
      ],
      "execution_count": null,
      "outputs": []
    },
    {
      "cell_type": "code",
      "metadata": {
        "colab": {
          "base_uri": "https://localhost:8080/"
        },
        "id": "bSc2t2A7UsQW",
        "outputId": "bdd35eb1-e74a-45ed-efbb-a28293229831"
      },
      "source": [
        "simple_cnn(xb).shape"
      ],
      "execution_count": null,
      "outputs": [
        {
          "output_type": "execute_result",
          "data": {
            "text/plain": [
              "(64, 2)"
            ]
          },
          "metadata": {
            "tags": []
          },
          "execution_count": 26
        }
      ]
    },
    {
      "cell_type": "code",
      "metadata": {
        "colab": {
          "base_uri": "https://localhost:8080/",
          "height": 663
        },
        "id": "cypAsedPU4UC",
        "outputId": "7e983225-57a0-4a74-b391-0dd01e746cb8"
      },
      "source": [
        "learn = Learner(dls, simple_cnn, loss_func=F.cross_entropy, metrics=accuracy)\n",
        "learn.summary()"
      ],
      "execution_count": null,
      "outputs": [
        {
          "output_type": "display_data",
          "data": {
            "text/html": [
              ""
            ],
            "text/plain": [
              "<IPython.core.display.HTML object>"
            ]
          },
          "metadata": {
            "tags": []
          }
        },
        {
          "output_type": "execute_result",
          "data": {
            "application/vnd.google.colaboratory.intrinsic+json": {
              "type": "string"
            },
            "text/plain": [
              "Sequential (Input shape: 64)\n",
              "============================================================================\n",
              "Layer (type)         Output Shape         Param #    Trainable \n",
              "============================================================================\n",
              "                     64 x 4 x 14 x 14    \n",
              "Conv2d                                    40         True      \n",
              "ReLU                                                           \n",
              "____________________________________________________________________________\n",
              "                     64 x 8 x 7 x 7      \n",
              "Conv2d                                    296        True      \n",
              "ReLU                                                           \n",
              "____________________________________________________________________________\n",
              "                     64 x 16 x 4 x 4     \n",
              "Conv2d                                    1168       True      \n",
              "ReLU                                                           \n",
              "____________________________________________________________________________\n",
              "                     64 x 32 x 2 x 2     \n",
              "Conv2d                                    4640       True      \n",
              "ReLU                                                           \n",
              "____________________________________________________________________________\n",
              "                     64 x 2 x 1 x 1      \n",
              "Conv2d                                    578        True      \n",
              "____________________________________________________________________________\n",
              "                     []                  \n",
              "Flatten                                                        \n",
              "____________________________________________________________________________\n",
              "\n",
              "Total params: 6,722\n",
              "Total trainable params: 6,722\n",
              "Total non-trainable params: 0\n",
              "\n",
              "Optimizer used: <function Adam at 0x7f5b760231e0>\n",
              "Loss function: <function cross_entropy at 0x7f5ba27dd8c8>\n",
              "\n",
              "Callbacks:\n",
              "  - TrainEvalCallback\n",
              "  - Recorder\n",
              "  - ProgressCallback"
            ]
          },
          "metadata": {
            "tags": []
          },
          "execution_count": 27
        }
      ]
    },
    {
      "cell_type": "code",
      "metadata": {
        "colab": {
          "base_uri": "https://localhost:8080/",
          "height": 111
        },
        "id": "v0zYOScNVPdK",
        "outputId": "10529605-7194-4c85-d87c-d4d828749cbc"
      },
      "source": [
        "learn.fit_one_cycle(2, 0.01)"
      ],
      "execution_count": null,
      "outputs": [
        {
          "output_type": "display_data",
          "data": {
            "text/html": [
              "<table border=\"1\" class=\"dataframe\">\n",
              "  <thead>\n",
              "    <tr style=\"text-align: left;\">\n",
              "      <th>epoch</th>\n",
              "      <th>train_loss</th>\n",
              "      <th>valid_loss</th>\n",
              "      <th>accuracy</th>\n",
              "      <th>time</th>\n",
              "    </tr>\n",
              "  </thead>\n",
              "  <tbody>\n",
              "    <tr>\n",
              "      <td>0</td>\n",
              "      <td>0.057891</td>\n",
              "      <td>0.038354</td>\n",
              "      <td>0.986752</td>\n",
              "      <td>00:11</td>\n",
              "    </tr>\n",
              "    <tr>\n",
              "      <td>1</td>\n",
              "      <td>0.017768</td>\n",
              "      <td>0.020998</td>\n",
              "      <td>0.993621</td>\n",
              "      <td>00:12</td>\n",
              "    </tr>\n",
              "  </tbody>\n",
              "</table>"
            ],
            "text/plain": [
              "<IPython.core.display.HTML object>"
            ]
          },
          "metadata": {
            "tags": []
          }
        }
      ]
    },
    {
      "cell_type": "code",
      "metadata": {
        "colab": {
          "base_uri": "https://localhost:8080/"
        },
        "id": "zyAfx9fGVfpZ",
        "outputId": "0c1a0a3e-51ab-4f22-8c65-b28e27d04d1a"
      },
      "source": [
        "learn.model"
      ],
      "execution_count": null,
      "outputs": [
        {
          "output_type": "execute_result",
          "data": {
            "text/plain": [
              "Sequential(\n",
              "  (0): Sequential(\n",
              "    (0): Conv2d(1, 4, kernel_size=(3, 3), stride=(2, 2), padding=(1, 1))\n",
              "    (1): ReLU()\n",
              "  )\n",
              "  (1): Sequential(\n",
              "    (0): Conv2d(4, 8, kernel_size=(3, 3), stride=(2, 2), padding=(1, 1))\n",
              "    (1): ReLU()\n",
              "  )\n",
              "  (2): Sequential(\n",
              "    (0): Conv2d(8, 16, kernel_size=(3, 3), stride=(2, 2), padding=(1, 1))\n",
              "    (1): ReLU()\n",
              "  )\n",
              "  (3): Sequential(\n",
              "    (0): Conv2d(16, 32, kernel_size=(3, 3), stride=(2, 2), padding=(1, 1))\n",
              "    (1): ReLU()\n",
              "  )\n",
              "  (4): Conv2d(32, 2, kernel_size=(3, 3), stride=(2, 2), padding=(1, 1))\n",
              "  (5): Flatten(full=False)\n",
              ")"
            ]
          },
          "metadata": {
            "tags": []
          },
          "execution_count": 29
        }
      ]
    },
    {
      "cell_type": "code",
      "metadata": {
        "colab": {
          "base_uri": "https://localhost:8080/"
        },
        "id": "N2AXWPY0VkB5",
        "outputId": "adf78a87-7c53-48f4-8275-5c99b2b95d3c"
      },
      "source": [
        "m = learn.model[0]\n",
        "m[0].weight.shape, m[0].bias.shape #These are the 40 parameters that are output above, 4*1*3*3 + 4 = 40"
      ],
      "execution_count": null,
      "outputs": [
        {
          "output_type": "execute_result",
          "data": {
            "text/plain": [
              "(torch.Size([4, 1, 3, 3]), torch.Size([4]))"
            ]
          },
          "metadata": {
            "tags": []
          },
          "execution_count": 30
        }
      ]
    },
    {
      "cell_type": "code",
      "metadata": {
        "colab": {
          "base_uri": "https://localhost:8080/",
          "height": 17
        },
        "id": "08xVxEFeZ5kp",
        "outputId": "ec6af7b5-ffac-420a-ff05-9ef41b24d3dd"
      },
      "source": [
        "path = untar_data(URLs.MNIST)"
      ],
      "execution_count": null,
      "outputs": [
        {
          "output_type": "display_data",
          "data": {
            "text/html": [
              ""
            ],
            "text/plain": [
              "<IPython.core.display.HTML object>"
            ]
          },
          "metadata": {
            "tags": []
          }
        }
      ]
    },
    {
      "cell_type": "code",
      "metadata": {
        "id": "usV2DbSkaEy6"
      },
      "source": [
        "def get_dls(bs = 64):\n",
        "    return DataBlock(blocks = (ImageBlock(cls=PILImageBW), CategoryBlock),\n",
        "              get_items = get_image_files,\n",
        "              splitter = GrandparentSplitter('training', 'testing'),\n",
        "              get_y = parent_label,\n",
        "              batch_tfms = Normalize()).dataloaders(path, bs = bs)"
      ],
      "execution_count": null,
      "outputs": []
    },
    {
      "cell_type": "code",
      "metadata": {
        "id": "VxYPB89KaxEr"
      },
      "source": [
        "dls = get_dls()"
      ],
      "execution_count": null,
      "outputs": []
    },
    {
      "cell_type": "code",
      "metadata": {
        "colab": {
          "base_uri": "https://localhost:8080/",
          "height": 536
        },
        "id": "B-h2UoxSa8TD",
        "outputId": "de777c94-e21a-4c49-f311-0a2666e25eb3"
      },
      "source": [
        "dls.show_batch()"
      ],
      "execution_count": null,
      "outputs": [
        {
          "output_type": "display_data",
          "data": {
            "image/png": "[encoded data removed]",
            "text/plain": [
              "<Figure size 648x648 with 9 Axes>"
            ]
          },
          "metadata": {
            "tags": [],
            "needs_background": "light"
          }
        }
      ]
    },
    {
      "cell_type": "code",
      "metadata": {
        "id": "RvPMb1C_c5mU"
      },
      "source": [
        "def simple_cnn():\n",
        "    return sequential(\n",
        "        conv(1 ,8, ks=5),        #14x14\n",
        "        conv(8 ,16),             #7x7\n",
        "        conv(16,32),             #4x4\n",
        "        conv(32,64),             #2x2\n",
        "        conv(64,10, act=False),  #1x1\n",
        "        Flatten(),\n",
        "    )\n",
        "# Why did we make the network bigger?\n",
        "# This time we have to \"learn\" more numbers, so at first we increase the number of filters\n",
        "# Why do we increase the ks at the first layer?\n",
        "# Before we had a ks=3 for 4 filters. This meant that from 3x3=9 pixels we were learning 4 stuff. \n",
        "# But with a ks=3 for 8 filters we are not learning anything. The NN will simply copy the pixels\n",
        "# Therefore we have a ks=5 to force the NN to learn from 5*5=25 pixels 8 stuff.\n",
        "# Why only for the first layer?"
      ],
      "execution_count": null,
      "outputs": []
    },
    {
      "cell_type": "code",
      "metadata": {
        "id": "0BJ52-begsnr"
      },
      "source": [
        "from fastai.callback.hook import *"
      ],
      "execution_count": null,
      "outputs": []
    },
    {
      "cell_type": "code",
      "metadata": {
        "colab": {
          "base_uri": "https://localhost:8080/",
          "height": 134
        },
        "id": "csrmreyEe57a",
        "outputId": "bf975149-1a7b-4cd5-cf3c-ac590ad56bc1"
      },
      "source": [
        "def fit(epochs=1):\n",
        "    learn = Learner(dls, simple_cnn(), loss_func=F.cross_entropy,\n",
        "                    metrics=accuracy, cbs=ActivationStats(with_hist=True))\n",
        "    learn.fit(epochs, 0.06)\n",
        "    return learn\n",
        "\n",
        "learn = fit()"
      ],
      "execution_count": null,
      "outputs": [
        {
          "output_type": "stream",
          "text": [
            "/usr/local/lib/python3.6/dist-packages/fastai/callback/core.py:50: UserWarning: You are shadowing an attribute (modules) that exists in the learner. Use `self.learn.modules` to avoid this\n",
            "  warn(f\"You are shadowing an attribute ({name}) that exists in the learner. Use `self.learn.{name}` to avoid this\")\n"
          ],
          "name": "stderr"
        },
        {
          "output_type": "display_data",
          "data": {
            "text/html": [
              "<table border=\"1\" class=\"dataframe\">\n",
              "  <thead>\n",
              "    <tr style=\"text-align: left;\">\n",
              "      <th>epoch</th>\n",
              "      <th>train_loss</th>\n",
              "      <th>valid_loss</th>\n",
              "      <th>accuracy</th>\n",
              "      <th>time</th>\n",
              "    </tr>\n",
              "  </thead>\n",
              "  <tbody>\n",
              "    <tr>\n",
              "      <td>0</td>\n",
              "      <td>2.307107</td>\n",
              "      <td>2.309694</td>\n",
              "      <td>0.102800</td>\n",
              "      <td>01:01</td>\n",
              "    </tr>\n",
              "  </tbody>\n",
              "</table>"
            ],
            "text/plain": [
              "<IPython.core.display.HTML object>"
            ]
          },
          "metadata": {
            "tags": []
          }
        }
      ]
    },
    {
      "cell_type": "code",
      "metadata": {
        "colab": {
          "base_uri": "https://localhost:8080/",
          "height": 227
        },
        "id": "E4K2S8zBg1vD",
        "outputId": "5141bfa3-a0d7-4893-e82e-59f98b4ba5f5"
      },
      "source": [
        "learn.activation_stats.plot_layer_stats(0)"
      ],
      "execution_count": null,
      "outputs": [
        {
          "output_type": "display_data",
          "data": {
            "image/png": "[encoded data removed]",
            "text/plain": [
              "<Figure size 864x216 with 3 Axes>"
            ]
          },
          "metadata": {
            "tags": [],
            "needs_background": "light"
          }
        }
      ]
    },
    {
      "cell_type": "code",
      "metadata": {
        "colab": {
          "base_uri": "https://localhost:8080/",
          "height": 227
        },
        "id": "m5AxofkhhlS0",
        "outputId": "f93e3075-7bd9-462a-9bdc-1b5adb98327b"
      },
      "source": [
        "learn.activation_stats.plot_layer_stats(-2)"
      ],
      "execution_count": null,
      "outputs": [
        {
          "output_type": "display_data",
          "data": {
            "image/png": "[encoded data removed]",
            "text/plain": [
              "<Figure size 864x216 with 3 Axes>"
            ]
          },
          "metadata": {
            "tags": [],
            "needs_background": "light"
          }
        }
      ]
    },
    {
      "cell_type": "code",
      "metadata": {
        "id": "WU6ShH69hoQk"
      },
      "source": [
        "# The activations that are close to 0 is almost 100% in the end and therefore \n",
        "#the NN fails to train correctly"
      ],
      "execution_count": null,
      "outputs": []
    },
    {
      "cell_type": "code",
      "metadata": {
        "colab": {
          "base_uri": "https://localhost:8080/",
          "height": 134
        },
        "id": "G3zYiuDghw0X",
        "outputId": "cb32a99b-3db8-43a7-ecc5-cf481dd1df11"
      },
      "source": [
        "dls = get_dls(512)\n",
        "learn = fit()"
      ],
      "execution_count": null,
      "outputs": [
        {
          "output_type": "stream",
          "text": [
            "/usr/local/lib/python3.6/dist-packages/fastai/callback/core.py:50: UserWarning: You are shadowing an attribute (modules) that exists in the learner. Use `self.learn.modules` to avoid this\n",
            "  warn(f\"You are shadowing an attribute ({name}) that exists in the learner. Use `self.learn.{name}` to avoid this\")\n"
          ],
          "name": "stderr"
        },
        {
          "output_type": "display_data",
          "data": {
            "text/html": [
              "<table border=\"1\" class=\"dataframe\">\n",
              "  <thead>\n",
              "    <tr style=\"text-align: left;\">\n",
              "      <th>epoch</th>\n",
              "      <th>train_loss</th>\n",
              "      <th>valid_loss</th>\n",
              "      <th>accuracy</th>\n",
              "      <th>time</th>\n",
              "    </tr>\n",
              "  </thead>\n",
              "  <tbody>\n",
              "    <tr>\n",
              "      <td>0</td>\n",
              "      <td>2.331166</td>\n",
              "      <td>2.302685</td>\n",
              "      <td>0.100900</td>\n",
              "      <td>00:51</td>\n",
              "    </tr>\n",
              "  </tbody>\n",
              "</table>"
            ],
            "text/plain": [
              "<IPython.core.display.HTML object>"
            ]
          },
          "metadata": {
            "tags": []
          }
        }
      ]
    },
    {
      "cell_type": "code",
      "metadata": {
        "colab": {
          "base_uri": "https://localhost:8080/",
          "height": 134
        },
        "id": "oBHJILZMjTFC",
        "outputId": "857b37dc-0b96-4725-b8e7-45c46dc550dc"
      },
      "source": [
        "def fit(epochs=1, lr=0.06):\n",
        "    learn = Learner(dls, simple_cnn(), loss_func=F.cross_entropy,\n",
        "                    metrics=accuracy, cbs=ActivationStats(with_hist=True))\n",
        "    learn.fit_one_cycle(epochs, lr)\n",
        "    return learn\n",
        "\n",
        "learn = fit()"
      ],
      "execution_count": null,
      "outputs": [
        {
          "output_type": "stream",
          "text": [
            "/usr/local/lib/python3.6/dist-packages/fastai/callback/core.py:50: UserWarning: You are shadowing an attribute (modules) that exists in the learner. Use `self.learn.modules` to avoid this\n",
            "  warn(f\"You are shadowing an attribute ({name}) that exists in the learner. Use `self.learn.{name}` to avoid this\")\n"
          ],
          "name": "stderr"
        },
        {
          "output_type": "display_data",
          "data": {
            "text/html": [
              "<table border=\"1\" class=\"dataframe\">\n",
              "  <thead>\n",
              "    <tr style=\"text-align: left;\">\n",
              "      <th>epoch</th>\n",
              "      <th>train_loss</th>\n",
              "      <th>valid_loss</th>\n",
              "      <th>accuracy</th>\n",
              "      <th>time</th>\n",
              "    </tr>\n",
              "  </thead>\n",
              "  <tbody>\n",
              "    <tr>\n",
              "      <td>0</td>\n",
              "      <td>0.223772</td>\n",
              "      <td>0.074465</td>\n",
              "      <td>0.975500</td>\n",
              "      <td>00:51</td>\n",
              "    </tr>\n",
              "  </tbody>\n",
              "</table>"
            ],
            "text/plain": [
              "<IPython.core.display.HTML object>"
            ]
          },
          "metadata": {
            "tags": []
          }
        }
      ]
    },
    {
      "cell_type": "code",
      "metadata": {
        "colab": {
          "base_uri": "https://localhost:8080/",
          "height": 161
        },
        "id": "T8N61z6Mjdz1",
        "outputId": "414c3bea-a71f-43a1-aec5-a1fabf34fe90"
      },
      "source": [
        "doc(learn.fit_one_cycle)"
      ],
      "execution_count": null,
      "outputs": [
        {
          "output_type": "display_data",
          "data": {
            "text/html": [
              "<h4 id=\"Learner.fit_one_cycle\" class=\"doc_header\"><code>Learner.fit_one_cycle</code><a href=\"https://github.com/fastai/fastai/tree/master/fastai/callback/schedule.py#L103\" class=\"source_link\" style=\"float:right\">[source]</a></h4><blockquote><p><code>Learner.fit_one_cycle</code>(<strong><code>n_epoch</code></strong>, <strong><code>lr_max</code></strong>=<em><code>None</code></em>, <strong><code>div</code></strong>=<em><code>25.0</code></em>, <strong><code>div_final</code></strong>=<em><code>100000.0</code></em>, <strong><code>pct_start</code></strong>=<em><code>0.25</code></em>, <strong><code>wd</code></strong>=<em><code>None</code></em>, <strong><code>moms</code></strong>=<em><code>None</code></em>, <strong><code>cbs</code></strong>=<em><code>None</code></em>, <strong><code>reset_opt</code></strong>=<em><code>False</code></em>)</p>\n",
              "</blockquote>\n",
              "<p>Fit <code>self.model</code> for <code>n_epoch</code> using the 1cycle policy.</p>\n",
              "<p><a href=\"https://docs.fast.ai/callback.schedule#Learner.fit_one_cycle\" target=\"_blank\" rel=\"noreferrer noopener\">Show in docs</a></p>\n"
            ],
            "text/plain": [
              "<IPython.core.display.HTML object>"
            ]
          },
          "metadata": {
            "tags": []
          }
        }
      ]
    },
    {
      "cell_type": "code",
      "metadata": {
        "colab": {
          "base_uri": "https://localhost:8080/",
          "height": 265
        },
        "id": "tX23oFESBNkM",
        "outputId": "d4e0060e-f188-4ac4-96d4-535c087d40ab"
      },
      "source": [
        "learn.recorder.plot_sched()"
      ],
      "execution_count": null,
      "outputs": [
        {
          "output_type": "display_data",
          "data": {
            "image/png": "[encoded data removed]",
            "text/plain": [
              "<Figure size 864x288 with 2 Axes>"
            ]
          },
          "metadata": {
            "tags": [],
            "needs_background": "light"
          }
        }
      ]
    },
    {
      "cell_type": "code",
      "metadata": {
        "id": "fOBLvEk_Bfqx"
      },
      "source": [
        "??learn.recorder.plot_sched()"
      ],
      "execution_count": null,
      "outputs": []
    },
    {
      "cell_type": "code",
      "metadata": {
        "colab": {
          "base_uri": "https://localhost:8080/",
          "height": 227
        },
        "id": "aKXjHGRVC0I6",
        "outputId": "5a55a3f3-4517-4096-f117-ba24dc6a3d35"
      },
      "source": [
        "learn.activation_stats.plot_layer_stats(-2)"
      ],
      "execution_count": null,
      "outputs": [
        {
          "output_type": "display_data",
          "data": {
            "image/png": "[encoded data removed]",
            "text/plain": [
              "<Figure size 864x216 with 3 Axes>"
            ]
          },
          "metadata": {
            "tags": [],
            "needs_background": "light"
          }
        }
      ]
    }
  ]
}