{
  "nbformat": 4,
  "nbformat_minor": 0,
  "metadata": {
    "colab": {
      "name": "Chapter 13 notes",
      "provenance": [],
      "authorship_tag": "ABX9TyOyzdot4oiNURwYkE595RI8",
      "include_colab_link": true
    },
    "kernelspec": {
      "name": "python3",
      "display_name": "Python 3"
    },
    "accelerator": "GPU"
  },
  "cells": [
    {
      "cell_type": "markdown",
      "metadata": {
        "id": "view-in-github",
        "colab_type": "text"
      },
      "source": [
        "<a href=\"https://colab.research.google.com/github/george-kan/fastai/blob/main/Chapter13/Chapter_13_notes.ipynb\" target=\"_parent\"><img src=\"https://colab.research.google.com/assets/colab-badge.svg\" alt=\"Open In Colab\"/></a>"
      ]
    },
    {
      "cell_type": "code",
      "metadata": {
        "id": "iAH-iS8glwXL"
      },
      "source": [
        "!pip install --upgrade fastai\n",
        "from fastai.vision.all import *\n",
        "from fastai import *"
      ],
      "execution_count": null,
      "outputs": []
    },
    {
      "cell_type": "code",
      "metadata": {
        "id": "lRmf_Yjx6wgU"
      },
      "source": [
        "matplotlib.rc('image', cmap='Greys')"
      ],
      "execution_count": 2,
      "outputs": []
    },
    {
      "cell_type": "code",
      "metadata": {
        "id": "FuMv-SymmOA4"
      },
      "source": [
        "top_edge = tensor([[-1,-1,-1],\n",
        "                  [0,0,0],\n",
        "                  [1,1,1]]).float()"
      ],
      "execution_count": 3,
      "outputs": []
    },
    {
      "cell_type": "code",
      "metadata": {
        "colab": {
          "base_uri": "https://localhost:8080/",
          "height": 102
        },
        "id": "eSjyNJ58mn1w",
        "outputId": "0f66f7bd-04d4-479a-e038-8908c41ad453"
      },
      "source": [
        "path = untar_data(URLs.MNIST_SAMPLE)\n",
        "im3 = Image.open(path/'train'/'3'/'12.png')\n",
        "show_image(im3, cmap = 'gray')"
      ],
      "execution_count": 4,
      "outputs": [
        {
          "output_type": "display_data",
          "data": {
            "text/html": [
              ""
            ],
            "text/plain": [
              "<IPython.core.display.HTML object>"
            ]
          },
          "metadata": {
            "tags": []
          }
        },
        {
          "output_type": "execute_result",
          "data": {
            "text/plain": [
              "<matplotlib.axes._subplots.AxesSubplot at 0x7f5ad2b6d710>"
            ]
          },
          "metadata": {
            "tags": []
          },
          "execution_count": 4
        },
        {
          "output_type": "display_data",
          "data": {
            "image/png": "[encoded data removed]",
            "text/plain": [
              "<Figure size 72x72 with 1 Axes>"
            ]
          },
          "metadata": {
            "tags": [],
            "needs_background": "light"
          }
        }
      ]
    },
    {
      "cell_type": "code",
      "metadata": {
        "colab": {
          "base_uri": "https://localhost:8080/",
          "height": 250
        },
        "id": "P-oLf6lwnIWt",
        "outputId": "84fc91bf-bfd3-475e-8b2a-46511c6c7f6a"
      },
      "source": [
        "im3_t = tensor(im3)\n",
        "df = pd.DataFrame(im3_t[:10, :20])\n",
        "df.style.set_properties(**{'font-size':'6pt'}).background_gradient('Greys')"
      ],
      "execution_count": 5,
      "outputs": [
        {
          "output_type": "execute_result",
          "data": {
            "text/html": [
              "<style  type=\"text/css\" >\n",
              "#T_b31c3670_8cce_11eb_a37b_0242ac1c0002row0_col0,#T_b31c3670_8cce_11eb_a37b_0242ac1c0002row0_col1,#T_b31c3670_8cce_11eb_a37b_0242ac1c0002row0_col2,#T_b31c3670_8cce_11eb_a37b_0242ac1c0002row0_col3,#T_b31c3670_8cce_11eb_a37b_0242ac1c0002row0_col4,#T_b31c3670_8cce_11eb_a37b_0242ac1c0002row0_col5,#T_b31c3670_8cce_11eb_a37b_0242ac1c0002row0_col6,#T_b31c3670_8cce_11eb_a37b_0242ac1c0002row0_col7,#T_b31c3670_8cce_11eb_a37b_0242ac1c0002row0_col8,#T_b31c3670_8cce_11eb_a37b_0242ac1c0002row0_col9,#T_b31c3670_8cce_11eb_a37b_0242ac1c0002row0_col10,#T_b31c3670_8cce_11eb_a37b_0242ac1c0002row0_col11,#T_b31c3670_8cce_11eb_a37b_0242ac1c0002row0_col12,#T_b31c3670_8cce_11eb_a37b_0242ac1c0002row0_col13,#T_b31c3670_8cce_11eb_a37b_0242ac1c0002row0_col14,#T_b31c3670_8cce_11eb_a37b_0242ac1c0002row0_col15,#T_b31c3670_8cce_11eb_a37b_0242ac1c0002row0_col16,#T_b31c3670_8cce_11eb_a37b_0242ac1c0002row0_col17,#T_b31c3670_8cce_11eb_a37b_0242ac1c0002row0_col18,#T_b31c3670_8cce_11eb_a37b_0242ac1c0002row0_col19,#T_b31c3670_8cce_11eb_a37b_0242ac1c0002row1_col0,#T_b31c3670_8cce_11eb_a37b_0242ac1c0002row1_col1,#T_b31c3670_8cce_11eb_a37b_0242ac1c0002row1_col2,#T_b31c3670_8cce_11eb_a37b_0242ac1c0002row1_col3,#T_b31c3670_8cce_11eb_a37b_0242ac1c0002row1_col4,#T_b31c3670_8cce_11eb_a37b_0242ac1c0002row1_col5,#T_b31c3670_8cce_11eb_a37b_0242ac1c0002row1_col6,#T_b31c3670_8cce_11eb_a37b_0242ac1c0002row1_col7,#T_b31c3670_8cce_11eb_a37b_0242ac1c0002row1_col8,#T_b31c3670_8cce_11eb_a37b_0242ac1c0002row1_col9,#T_b31c3670_8cce_11eb_a37b_0242ac1c0002row1_col10,#T_b31c3670_8cce_11eb_a37b_0242ac1c0002row1_col11,#T_b31c3670_8cce_11eb_a37b_0242ac1c0002row1_col12,#T_b31c3670_8cce_11eb_a37b_0242ac1c0002row1_col13,#T_b31c3670_8cce_11eb_a37b_0242ac1c0002row1_col14,#T_b31c3670_8cce_11eb_a37b_0242ac1c0002row1_col15,#T_b31c3670_8cce_11eb_a37b_0242ac1c0002row1_col16,#T_b31c3670_8cce_11eb_a37b_0242ac1c0002row1_col17,#T_b31c3670_8cce_11eb_a37b_0242ac1c0002row1_col18,#T_b31c3670_8cce_11eb_a37b_0242ac1c0002row1_col19,#T_b31c3670_8cce_11eb_a37b_0242ac1c0002row2_col0,#T_b31c3670_8cce_11eb_a37b_0242ac1c0002row2_col1,#T_b31c3670_8cce_11eb_a37b_0242ac1c0002row2_col2,#T_b31c3670_8cce_11eb_a37b_0242ac1c0002row2_col3,#T_b31c3670_8cce_11eb_a37b_0242ac1c0002row2_col4,#T_b31c3670_8cce_11eb_a37b_0242ac1c0002row2_col5,#T_b31c3670_8cce_11eb_a37b_0242ac1c0002row2_col6,#T_b31c3670_8cce_11eb_a37b_0242ac1c0002row2_col7,#T_b31c3670_8cce_11eb_a37b_0242ac1c0002row2_col8,#T_b31c3670_8cce_11eb_a37b_0242ac1c0002row2_col9,#T_b31c3670_8cce_11eb_a37b_0242ac1c0002row2_col10,#T_b31c3670_8cce_11eb_a37b_0242ac1c0002row2_col11,#T_b31c3670_8cce_11eb_a37b_0242ac1c0002row2_col12,#T_b31c3670_8cce_11eb_a37b_0242ac1c0002row2_col13,#T_b31c3670_8cce_11eb_a37b_0242ac1c0002row2_col14,#T_b31c3670_8cce_11eb_a37b_0242ac1c0002row2_col15,#T_b31c3670_8cce_11eb_a37b_0242ac1c0002row2_col16,#T_b31c3670_8cce_11eb_a37b_0242ac1c0002row2_col17,#T_b31c3670_8cce_11eb_a37b_0242ac1c0002row2_col18,#T_b31c3670_8cce_11eb_a37b_0242ac1c0002row2_col19,#T_b31c3670_8cce_11eb_a37b_0242ac1c0002row3_col0,#T_b31c3670_8cce_11eb_a37b_0242ac1c0002row3_col1,#T_b31c3670_8cce_11eb_a37b_0242ac1c0002row3_col2,#T_b31c3670_8cce_11eb_a37b_0242ac1c0002row3_col3,#T_b31c3670_8cce_11eb_a37b_0242ac1c0002row3_col4,#T_b31c3670_8cce_11eb_a37b_0242ac1c0002row3_col5,#T_b31c3670_8cce_11eb_a37b_0242ac1c0002row3_col6,#T_b31c3670_8cce_11eb_a37b_0242ac1c0002row3_col7,#T_b31c3670_8cce_11eb_a37b_0242ac1c0002row3_col8,#T_b31c3670_8cce_11eb_a37b_0242ac1c0002row3_col9,#T_b31c3670_8cce_11eb_a37b_0242ac1c0002row3_col10,#T_b31c3670_8cce_11eb_a37b_0242ac1c0002row3_col11,#T_b31c3670_8cce_11eb_a37b_0242ac1c0002row3_col12,#T_b31c3670_8cce_11eb_a37b_0242ac1c0002row3_col13,#T_b31c3670_8cce_11eb_a37b_0242ac1c0002row3_col14,#T_b31c3670_8cce_11eb_a37b_0242ac1c0002row3_col15,#T_b31c3670_8cce_11eb_a37b_0242ac1c0002row3_col16,#T_b31c3670_8cce_11eb_a37b_0242ac1c0002row3_col17,#T_b31c3670_8cce_11eb_a37b_0242ac1c0002row3_col18,#T_b31c3670_8cce_11eb_a37b_0242ac1c0002row3_col19,#T_b31c3670_8cce_11eb_a37b_0242ac1c0002row4_col0,#T_b31c3670_8cce_11eb_a37b_0242ac1c0002row4_col1,#T_b31c3670_8cce_11eb_a37b_0242ac1c0002row4_col2,#T_b31c3670_8cce_11eb_a37b_0242ac1c0002row4_col3,#T_b31c3670_8cce_11eb_a37b_0242ac1c0002row4_col4,#T_b31c3670_8cce_11eb_a37b_0242ac1c0002row4_col5,#T_b31c3670_8cce_11eb_a37b_0242ac1c0002row4_col6,#T_b31c3670_8cce_11eb_a37b_0242ac1c0002row4_col7,#T_b31c3670_8cce_11eb_a37b_0242ac1c0002row4_col8,#T_b31c3670_8cce_11eb_a37b_0242ac1c0002row4_col9,#T_b31c3670_8cce_11eb_a37b_0242ac1c0002row4_col10,#T_b31c3670_8cce_11eb_a37b_0242ac1c0002row4_col11,#T_b31c3670_8cce_11eb_a37b_0242ac1c0002row4_col12,#T_b31c3670_8cce_11eb_a37b_0242ac1c0002row4_col13,#T_b31c3670_8cce_11eb_a37b_0242ac1c0002row4_col14,#T_b31c3670_8cce_11eb_a37b_0242ac1c0002row4_col15,#T_b31c3670_8cce_11eb_a37b_0242ac1c0002row4_col16,#T_b31c3670_8cce_11eb_a37b_0242ac1c0002row4_col17,#T_b31c3670_8cce_11eb_a37b_0242ac1c0002row4_col18,#T_b31c3670_8cce_11eb_a37b_0242ac1c0002row4_col19,#T_b31c3670_8cce_11eb_a37b_0242ac1c0002row5_col0,#T_b31c3670_8cce_11eb_a37b_0242ac1c0002row5_col1,#T_b31c3670_8cce_11eb_a37b_0242ac1c0002row5_col2,#T_b31c3670_8cce_11eb_a37b_0242ac1c0002row5_col16,#T_b31c3670_8cce_11eb_a37b_0242ac1c0002row5_col17,#T_b31c3670_8cce_11eb_a37b_0242ac1c0002row5_col18,#T_b31c3670_8cce_11eb_a37b_0242ac1c0002row5_col19,#T_b31c3670_8cce_11eb_a37b_0242ac1c0002row6_col0,#T_b31c3670_8cce_11eb_a37b_0242ac1c0002row6_col1,#T_b31c3670_8cce_11eb_a37b_0242ac1c0002row6_col2,#T_b31c3670_8cce_11eb_a37b_0242ac1c0002row6_col19,#T_b31c3670_8cce_11eb_a37b_0242ac1c0002row7_col0,#T_b31c3670_8cce_11eb_a37b_0242ac1c0002row7_col1,#T_b31c3670_8cce_11eb_a37b_0242ac1c0002row7_col2,#T_b31c3670_8cce_11eb_a37b_0242ac1c0002row7_col19,#T_b31c3670_8cce_11eb_a37b_0242ac1c0002row8_col0,#T_b31c3670_8cce_11eb_a37b_0242ac1c0002row8_col1,#T_b31c3670_8cce_11eb_a37b_0242ac1c0002row8_col2,#T_b31c3670_8cce_11eb_a37b_0242ac1c0002row8_col8,#T_b31c3670_8cce_11eb_a37b_0242ac1c0002row8_col9,#T_b31c3670_8cce_11eb_a37b_0242ac1c0002row8_col10,#T_b31c3670_8cce_11eb_a37b_0242ac1c0002row8_col11,#T_b31c3670_8cce_11eb_a37b_0242ac1c0002row8_col12,#T_b31c3670_8cce_11eb_a37b_0242ac1c0002row8_col13,#T_b31c3670_8cce_11eb_a37b_0242ac1c0002row8_col19,#T_b31c3670_8cce_11eb_a37b_0242ac1c0002row9_col0,#T_b31c3670_8cce_11eb_a37b_0242ac1c0002row9_col1,#T_b31c3670_8cce_11eb_a37b_0242ac1c0002row9_col2,#T_b31c3670_8cce_11eb_a37b_0242ac1c0002row9_col3,#T_b31c3670_8cce_11eb_a37b_0242ac1c0002row9_col4,#T_b31c3670_8cce_11eb_a37b_0242ac1c0002row9_col5,#T_b31c3670_8cce_11eb_a37b_0242ac1c0002row9_col6,#T_b31c3670_8cce_11eb_a37b_0242ac1c0002row9_col7,#T_b31c3670_8cce_11eb_a37b_0242ac1c0002row9_col8,#T_b31c3670_8cce_11eb_a37b_0242ac1c0002row9_col9,#T_b31c3670_8cce_11eb_a37b_0242ac1c0002row9_col10,#T_b31c3670_8cce_11eb_a37b_0242ac1c0002row9_col11,#T_b31c3670_8cce_11eb_a37b_0242ac1c0002row9_col12,#T_b31c3670_8cce_11eb_a37b_0242ac1c0002row9_col13,#T_b31c3670_8cce_11eb_a37b_0242ac1c0002row9_col19{\n",
              "            font-size:  6pt;\n",
              "            background-color:  #ffffff;\n",
              "            color:  #000000;\n",
              "        }#T_b31c3670_8cce_11eb_a37b_0242ac1c0002row5_col3,#T_b31c3670_8cce_11eb_a37b_0242ac1c0002row8_col14{\n",
              "            font-size:  6pt;\n",
              "            background-color:  #f9f9f9;\n",
              "            color:  #000000;\n",
              "        }#T_b31c3670_8cce_11eb_a37b_0242ac1c0002row5_col4{\n",
              "            font-size:  6pt;\n",
              "            background-color:  #b9b9b9;\n",
              "            color:  #000000;\n",
              "        }#T_b31c3670_8cce_11eb_a37b_0242ac1c0002row5_col5{\n",
              "            font-size:  6pt;\n",
              "            background-color:  #c1c1c1;\n",
              "            color:  #000000;\n",
              "        }#T_b31c3670_8cce_11eb_a37b_0242ac1c0002row5_col6{\n",
              "            font-size:  6pt;\n",
              "            background-color:  #858585;\n",
              "            color:  #000000;\n",
              "        }#T_b31c3670_8cce_11eb_a37b_0242ac1c0002row5_col7,#T_b31c3670_8cce_11eb_a37b_0242ac1c0002row5_col10,#T_b31c3670_8cce_11eb_a37b_0242ac1c0002row5_col11,#T_b31c3670_8cce_11eb_a37b_0242ac1c0002row5_col12,#T_b31c3670_8cce_11eb_a37b_0242ac1c0002row5_col13{\n",
              "            font-size:  6pt;\n",
              "            background-color:  #777777;\n",
              "            color:  #000000;\n",
              "        }#T_b31c3670_8cce_11eb_a37b_0242ac1c0002row5_col8{\n",
              "            font-size:  6pt;\n",
              "            background-color:  #090909;\n",
              "            color:  #f1f1f1;\n",
              "        }#T_b31c3670_8cce_11eb_a37b_0242ac1c0002row5_col9{\n",
              "            font-size:  6pt;\n",
              "            background-color:  #5b5b5b;\n",
              "            color:  #f1f1f1;\n",
              "        }#T_b31c3670_8cce_11eb_a37b_0242ac1c0002row5_col14{\n",
              "            font-size:  6pt;\n",
              "            background-color:  #919191;\n",
              "            color:  #000000;\n",
              "        }#T_b31c3670_8cce_11eb_a37b_0242ac1c0002row5_col15{\n",
              "            font-size:  6pt;\n",
              "            background-color:  #e1e1e1;\n",
              "            color:  #000000;\n",
              "        }#T_b31c3670_8cce_11eb_a37b_0242ac1c0002row6_col3{\n",
              "            font-size:  6pt;\n",
              "            background-color:  #727272;\n",
              "            color:  #000000;\n",
              "        }#T_b31c3670_8cce_11eb_a37b_0242ac1c0002row6_col4,#T_b31c3670_8cce_11eb_a37b_0242ac1c0002row6_col5,#T_b31c3670_8cce_11eb_a37b_0242ac1c0002row6_col6,#T_b31c3670_8cce_11eb_a37b_0242ac1c0002row6_col7,#T_b31c3670_8cce_11eb_a37b_0242ac1c0002row6_col8,#T_b31c3670_8cce_11eb_a37b_0242ac1c0002row6_col9,#T_b31c3670_8cce_11eb_a37b_0242ac1c0002row6_col10,#T_b31c3670_8cce_11eb_a37b_0242ac1c0002row6_col11,#T_b31c3670_8cce_11eb_a37b_0242ac1c0002row6_col12,#T_b31c3670_8cce_11eb_a37b_0242ac1c0002row6_col13,#T_b31c3670_8cce_11eb_a37b_0242ac1c0002row6_col14,#T_b31c3670_8cce_11eb_a37b_0242ac1c0002row7_col3,#T_b31c3670_8cce_11eb_a37b_0242ac1c0002row7_col4,#T_b31c3670_8cce_11eb_a37b_0242ac1c0002row7_col5,#T_b31c3670_8cce_11eb_a37b_0242ac1c0002row7_col6,#T_b31c3670_8cce_11eb_a37b_0242ac1c0002row7_col15,#T_b31c3670_8cce_11eb_a37b_0242ac1c0002row7_col16,#T_b31c3670_8cce_11eb_a37b_0242ac1c0002row7_col17,#T_b31c3670_8cce_11eb_a37b_0242ac1c0002row8_col16,#T_b31c3670_8cce_11eb_a37b_0242ac1c0002row8_col17,#T_b31c3670_8cce_11eb_a37b_0242ac1c0002row8_col18,#T_b31c3670_8cce_11eb_a37b_0242ac1c0002row9_col15,#T_b31c3670_8cce_11eb_a37b_0242ac1c0002row9_col16{\n",
              "            font-size:  6pt;\n",
              "            background-color:  #000000;\n",
              "            color:  #f1f1f1;\n",
              "        }#T_b31c3670_8cce_11eb_a37b_0242ac1c0002row6_col15{\n",
              "            font-size:  6pt;\n",
              "            background-color:  #020202;\n",
              "            color:  #f1f1f1;\n",
              "        }#T_b31c3670_8cce_11eb_a37b_0242ac1c0002row6_col16{\n",
              "            font-size:  6pt;\n",
              "            background-color:  #363636;\n",
              "            color:  #f1f1f1;\n",
              "        }#T_b31c3670_8cce_11eb_a37b_0242ac1c0002row6_col17{\n",
              "            font-size:  6pt;\n",
              "            background-color:  #9d9d9d;\n",
              "            color:  #000000;\n",
              "        }#T_b31c3670_8cce_11eb_a37b_0242ac1c0002row6_col18{\n",
              "            font-size:  6pt;\n",
              "            background-color:  #dfdfdf;\n",
              "            color:  #000000;\n",
              "        }#T_b31c3670_8cce_11eb_a37b_0242ac1c0002row7_col7{\n",
              "            font-size:  6pt;\n",
              "            background-color:  #161616;\n",
              "            color:  #f1f1f1;\n",
              "        }#T_b31c3670_8cce_11eb_a37b_0242ac1c0002row7_col8,#T_b31c3670_8cce_11eb_a37b_0242ac1c0002row7_col9,#T_b31c3670_8cce_11eb_a37b_0242ac1c0002row7_col10,#T_b31c3670_8cce_11eb_a37b_0242ac1c0002row7_col11,#T_b31c3670_8cce_11eb_a37b_0242ac1c0002row7_col13{\n",
              "            font-size:  6pt;\n",
              "            background-color:  #535353;\n",
              "            color:  #f1f1f1;\n",
              "        }#T_b31c3670_8cce_11eb_a37b_0242ac1c0002row7_col12{\n",
              "            font-size:  6pt;\n",
              "            background-color:  #7c7c7c;\n",
              "            color:  #000000;\n",
              "        }#T_b31c3670_8cce_11eb_a37b_0242ac1c0002row7_col14{\n",
              "            font-size:  6pt;\n",
              "            background-color:  #3d3d3d;\n",
              "            color:  #f1f1f1;\n",
              "        }#T_b31c3670_8cce_11eb_a37b_0242ac1c0002row7_col18{\n",
              "            font-size:  6pt;\n",
              "            background-color:  #999999;\n",
              "            color:  #000000;\n",
              "        }#T_b31c3670_8cce_11eb_a37b_0242ac1c0002row8_col3{\n",
              "            font-size:  6pt;\n",
              "            background-color:  #eaeaea;\n",
              "            color:  #000000;\n",
              "        }#T_b31c3670_8cce_11eb_a37b_0242ac1c0002row8_col4{\n",
              "            font-size:  6pt;\n",
              "            background-color:  #d0d0d0;\n",
              "            color:  #000000;\n",
              "        }#T_b31c3670_8cce_11eb_a37b_0242ac1c0002row8_col5,#T_b31c3670_8cce_11eb_a37b_0242ac1c0002row8_col6{\n",
              "            font-size:  6pt;\n",
              "            background-color:  #eeeeee;\n",
              "            color:  #000000;\n",
              "        }#T_b31c3670_8cce_11eb_a37b_0242ac1c0002row8_col7{\n",
              "            font-size:  6pt;\n",
              "            background-color:  #f3f3f3;\n",
              "            color:  #000000;\n",
              "        }#T_b31c3670_8cce_11eb_a37b_0242ac1c0002row8_col15{\n",
              "            font-size:  6pt;\n",
              "            background-color:  #232323;\n",
              "            color:  #f1f1f1;\n",
              "        }#T_b31c3670_8cce_11eb_a37b_0242ac1c0002row9_col14{\n",
              "            font-size:  6pt;\n",
              "            background-color:  #c2c2c2;\n",
              "            color:  #000000;\n",
              "        }#T_b31c3670_8cce_11eb_a37b_0242ac1c0002row9_col17{\n",
              "            font-size:  6pt;\n",
              "            background-color:  #080808;\n",
              "            color:  #f1f1f1;\n",
              "        }#T_b31c3670_8cce_11eb_a37b_0242ac1c0002row9_col18{\n",
              "            font-size:  6pt;\n",
              "            background-color:  #c4c4c4;\n",
              "            color:  #000000;\n",
              "        }</style><table id=\"T_b31c3670_8cce_11eb_a37b_0242ac1c0002\" ><thead>    <tr>        <th class=\"blank level0\" ></th>        <th class=\"col_heading level0 col0\" >0</th>        <th class=\"col_heading level0 col1\" >1</th>        <th class=\"col_heading level0 col2\" >2</th>        <th class=\"col_heading level0 col3\" >3</th>        <th class=\"col_heading level0 col4\" >4</th>        <th class=\"col_heading level0 col5\" >5</th>        <th class=\"col_heading level0 col6\" >6</th>        <th class=\"col_heading level0 col7\" >7</th>        <th class=\"col_heading level0 col8\" >8</th>        <th class=\"col_heading level0 col9\" >9</th>        <th class=\"col_heading level0 col10\" >10</th>        <th class=\"col_heading level0 col11\" >11</th>        <th class=\"col_heading level0 col12\" >12</th>        <th class=\"col_heading level0 col13\" >13</th>        <th class=\"col_heading level0 col14\" >14</th>        <th class=\"col_heading level0 col15\" >15</th>        <th class=\"col_heading level0 col16\" >16</th>        <th class=\"col_heading level0 col17\" >17</th>        <th class=\"col_heading level0 col18\" >18</th>        <th class=\"col_heading level0 col19\" >19</th>    </tr></thead><tbody>\n",
              "                <tr>\n",
              "                        <th id=\"T_b31c3670_8cce_11eb_a37b_0242ac1c0002level0_row0\" class=\"row_heading level0 row0\" >0</th>\n",
              "                        <td id=\"T_b31c3670_8cce_11eb_a37b_0242ac1c0002row0_col0\" class=\"data row0 col0\" >0</td>\n",
              "                        <td id=\"T_b31c3670_8cce_11eb_a37b_0242ac1c0002row0_col1\" class=\"data row0 col1\" >0</td>\n",
              "                        <td id=\"T_b31c3670_8cce_11eb_a37b_0242ac1c0002row0_col2\" class=\"data row0 col2\" >0</td>\n",
              "                        <td id=\"T_b31c3670_8cce_11eb_a37b_0242ac1c0002row0_col3\" class=\"data row0 col3\" >0</td>\n",
              "                        <td id=\"T_b31c3670_8cce_11eb_a37b_0242ac1c0002row0_col4\" class=\"data row0 col4\" >0</td>\n",
              "                        <td id=\"T_b31c3670_8cce_11eb_a37b_0242ac1c0002row0_col5\" class=\"data row0 col5\" >0</td>\n",
              "                        <td id=\"T_b31c3670_8cce_11eb_a37b_0242ac1c0002row0_col6\" class=\"data row0 col6\" >0</td>\n",
              "                        <td id=\"T_b31c3670_8cce_11eb_a37b_0242ac1c0002row0_col7\" class=\"data row0 col7\" >0</td>\n",
              "                        <td id=\"T_b31c3670_8cce_11eb_a37b_0242ac1c0002row0_col8\" class=\"data row0 col8\" >0</td>\n",
              "                        <td id=\"T_b31c3670_8cce_11eb_a37b_0242ac1c0002row0_col9\" class=\"data row0 col9\" >0</td>\n",
              "                        <td id=\"T_b31c3670_8cce_11eb_a37b_0242ac1c0002row0_col10\" class=\"data row0 col10\" >0</td>\n",
              "                        <td id=\"T_b31c3670_8cce_11eb_a37b_0242ac1c0002row0_col11\" class=\"data row0 col11\" >0</td>\n",
              "                        <td id=\"T_b31c3670_8cce_11eb_a37b_0242ac1c0002row0_col12\" class=\"data row0 col12\" >0</td>\n",
              "                        <td id=\"T_b31c3670_8cce_11eb_a37b_0242ac1c0002row0_col13\" class=\"data row0 col13\" >0</td>\n",
              "                        <td id=\"T_b31c3670_8cce_11eb_a37b_0242ac1c0002row0_col14\" class=\"data row0 col14\" >0</td>\n",
              "                        <td id=\"T_b31c3670_8cce_11eb_a37b_0242ac1c0002row0_col15\" class=\"data row0 col15\" >0</td>\n",
              "                        <td id=\"T_b31c3670_8cce_11eb_a37b_0242ac1c0002row0_col16\" class=\"data row0 col16\" >0</td>\n",
              "                        <td id=\"T_b31c3670_8cce_11eb_a37b_0242ac1c0002row0_col17\" class=\"data row0 col17\" >0</td>\n",
              "                        <td id=\"T_b31c3670_8cce_11eb_a37b_0242ac1c0002row0_col18\" class=\"data row0 col18\" >0</td>\n",
              "                        <td id=\"T_b31c3670_8cce_11eb_a37b_0242ac1c0002row0_col19\" class=\"data row0 col19\" >0</td>\n",
              "            </tr>\n",
              "            <tr>\n",
              "                        <th id=\"T_b31c3670_8cce_11eb_a37b_0242ac1c0002level0_row1\" class=\"row_heading level0 row1\" >1</th>\n",
              "                        <td id=\"T_b31c3670_8cce_11eb_a37b_0242ac1c0002row1_col0\" class=\"data row1 col0\" >0</td>\n",
              "                        <td id=\"T_b31c3670_8cce_11eb_a37b_0242ac1c0002row1_col1\" class=\"data row1 col1\" >0</td>\n",
              "                        <td id=\"T_b31c3670_8cce_11eb_a37b_0242ac1c0002row1_col2\" class=\"data row1 col2\" >0</td>\n",
              "                        <td id=\"T_b31c3670_8cce_11eb_a37b_0242ac1c0002row1_col3\" class=\"data row1 col3\" >0</td>\n",
              "                        <td id=\"T_b31c3670_8cce_11eb_a37b_0242ac1c0002row1_col4\" class=\"data row1 col4\" >0</td>\n",
              "                        <td id=\"T_b31c3670_8cce_11eb_a37b_0242ac1c0002row1_col5\" class=\"data row1 col5\" >0</td>\n",
              "                        <td id=\"T_b31c3670_8cce_11eb_a37b_0242ac1c0002row1_col6\" class=\"data row1 col6\" >0</td>\n",
              "                        <td id=\"T_b31c3670_8cce_11eb_a37b_0242ac1c0002row1_col7\" class=\"data row1 col7\" >0</td>\n",
              "                        <td id=\"T_b31c3670_8cce_11eb_a37b_0242ac1c0002row1_col8\" class=\"data row1 col8\" >0</td>\n",
              "                        <td id=\"T_b31c3670_8cce_11eb_a37b_0242ac1c0002row1_col9\" class=\"data row1 col9\" >0</td>\n",
              "                        <td id=\"T_b31c3670_8cce_11eb_a37b_0242ac1c0002row1_col10\" class=\"data row1 col10\" >0</td>\n",
              "                        <td id=\"T_b31c3670_8cce_11eb_a37b_0242ac1c0002row1_col11\" class=\"data row1 col11\" >0</td>\n",
              "                        <td id=\"T_b31c3670_8cce_11eb_a37b_0242ac1c0002row1_col12\" class=\"data row1 col12\" >0</td>\n",
              "                        <td id=\"T_b31c3670_8cce_11eb_a37b_0242ac1c0002row1_col13\" class=\"data row1 col13\" >0</td>\n",
              "                        <td id=\"T_b31c3670_8cce_11eb_a37b_0242ac1c0002row1_col14\" class=\"data row1 col14\" >0</td>\n",
              "                        <td id=\"T_b31c3670_8cce_11eb_a37b_0242ac1c0002row1_col15\" class=\"data row1 col15\" >0</td>\n",
              "                        <td id=\"T_b31c3670_8cce_11eb_a37b_0242ac1c0002row1_col16\" class=\"data row1 col16\" >0</td>\n",
              "                        <td id=\"T_b31c3670_8cce_11eb_a37b_0242ac1c0002row1_col17\" class=\"data row1 col17\" >0</td>\n",
              "                        <td id=\"T_b31c3670_8cce_11eb_a37b_0242ac1c0002row1_col18\" class=\"data row1 col18\" >0</td>\n",
              "                        <td id=\"T_b31c3670_8cce_11eb_a37b_0242ac1c0002row1_col19\" class=\"data row1 col19\" >0</td>\n",
              "            </tr>\n",
              "            <tr>\n",
              "                        <th id=\"T_b31c3670_8cce_11eb_a37b_0242ac1c0002level0_row2\" class=\"row_heading level0 row2\" >2</th>\n",
              "                        <td id=\"T_b31c3670_8cce_11eb_a37b_0242ac1c0002row2_col0\" class=\"data row2 col0\" >0</td>\n",
              "                        <td id=\"T_b31c3670_8cce_11eb_a37b_0242ac1c0002row2_col1\" class=\"data row2 col1\" >0</td>\n",
              "                        <td id=\"T_b31c3670_8cce_11eb_a37b_0242ac1c0002row2_col2\" class=\"data row2 col2\" >0</td>\n",
              "                        <td id=\"T_b31c3670_8cce_11eb_a37b_0242ac1c0002row2_col3\" class=\"data row2 col3\" >0</td>\n",
              "                        <td id=\"T_b31c3670_8cce_11eb_a37b_0242ac1c0002row2_col4\" class=\"data row2 col4\" >0</td>\n",
              "                        <td id=\"T_b31c3670_8cce_11eb_a37b_0242ac1c0002row2_col5\" class=\"data row2 col5\" >0</td>\n",
              "                        <td id=\"T_b31c3670_8cce_11eb_a37b_0242ac1c0002row2_col6\" class=\"data row2 col6\" >0</td>\n",
              "                        <td id=\"T_b31c3670_8cce_11eb_a37b_0242ac1c0002row2_col7\" class=\"data row2 col7\" >0</td>\n",
              "                        <td id=\"T_b31c3670_8cce_11eb_a37b_0242ac1c0002row2_col8\" class=\"data row2 col8\" >0</td>\n",
              "                        <td id=\"T_b31c3670_8cce_11eb_a37b_0242ac1c0002row2_col9\" class=\"data row2 col9\" >0</td>\n",
              "                        <td id=\"T_b31c3670_8cce_11eb_a37b_0242ac1c0002row2_col10\" class=\"data row2 col10\" >0</td>\n",
              "                        <td id=\"T_b31c3670_8cce_11eb_a37b_0242ac1c0002row2_col11\" class=\"data row2 col11\" >0</td>\n",
              "                        <td id=\"T_b31c3670_8cce_11eb_a37b_0242ac1c0002row2_col12\" class=\"data row2 col12\" >0</td>\n",
              "                        <td id=\"T_b31c3670_8cce_11eb_a37b_0242ac1c0002row2_col13\" class=\"data row2 col13\" >0</td>\n",
              "                        <td id=\"T_b31c3670_8cce_11eb_a37b_0242ac1c0002row2_col14\" class=\"data row2 col14\" >0</td>\n",
              "                        <td id=\"T_b31c3670_8cce_11eb_a37b_0242ac1c0002row2_col15\" class=\"data row2 col15\" >0</td>\n",
              "                        <td id=\"T_b31c3670_8cce_11eb_a37b_0242ac1c0002row2_col16\" class=\"data row2 col16\" >0</td>\n",
              "                        <td id=\"T_b31c3670_8cce_11eb_a37b_0242ac1c0002row2_col17\" class=\"data row2 col17\" >0</td>\n",
              "                        <td id=\"T_b31c3670_8cce_11eb_a37b_0242ac1c0002row2_col18\" class=\"data row2 col18\" >0</td>\n",
              "                        <td id=\"T_b31c3670_8cce_11eb_a37b_0242ac1c0002row2_col19\" class=\"data row2 col19\" >0</td>\n",
              "            </tr>\n",
              "            <tr>\n",
              "                        <th id=\"T_b31c3670_8cce_11eb_a37b_0242ac1c0002level0_row3\" class=\"row_heading level0 row3\" >3</th>\n",
              "                        <td id=\"T_b31c3670_8cce_11eb_a37b_0242ac1c0002row3_col0\" class=\"data row3 col0\" >0</td>\n",
              "                        <td id=\"T_b31c3670_8cce_11eb_a37b_0242ac1c0002row3_col1\" class=\"data row3 col1\" >0</td>\n",
              "                        <td id=\"T_b31c3670_8cce_11eb_a37b_0242ac1c0002row3_col2\" class=\"data row3 col2\" >0</td>\n",
              "                        <td id=\"T_b31c3670_8cce_11eb_a37b_0242ac1c0002row3_col3\" class=\"data row3 col3\" >0</td>\n",
              "                        <td id=\"T_b31c3670_8cce_11eb_a37b_0242ac1c0002row3_col4\" class=\"data row3 col4\" >0</td>\n",
              "                        <td id=\"T_b31c3670_8cce_11eb_a37b_0242ac1c0002row3_col5\" class=\"data row3 col5\" >0</td>\n",
              "                        <td id=\"T_b31c3670_8cce_11eb_a37b_0242ac1c0002row3_col6\" class=\"data row3 col6\" >0</td>\n",
              "                        <td id=\"T_b31c3670_8cce_11eb_a37b_0242ac1c0002row3_col7\" class=\"data row3 col7\" >0</td>\n",
              "                        <td id=\"T_b31c3670_8cce_11eb_a37b_0242ac1c0002row3_col8\" class=\"data row3 col8\" >0</td>\n",
              "                        <td id=\"T_b31c3670_8cce_11eb_a37b_0242ac1c0002row3_col9\" class=\"data row3 col9\" >0</td>\n",
              "                        <td id=\"T_b31c3670_8cce_11eb_a37b_0242ac1c0002row3_col10\" class=\"data row3 col10\" >0</td>\n",
              "                        <td id=\"T_b31c3670_8cce_11eb_a37b_0242ac1c0002row3_col11\" class=\"data row3 col11\" >0</td>\n",
              "                        <td id=\"T_b31c3670_8cce_11eb_a37b_0242ac1c0002row3_col12\" class=\"data row3 col12\" >0</td>\n",
              "                        <td id=\"T_b31c3670_8cce_11eb_a37b_0242ac1c0002row3_col13\" class=\"data row3 col13\" >0</td>\n",
              "                        <td id=\"T_b31c3670_8cce_11eb_a37b_0242ac1c0002row3_col14\" class=\"data row3 col14\" >0</td>\n",
              "                        <td id=\"T_b31c3670_8cce_11eb_a37b_0242ac1c0002row3_col15\" class=\"data row3 col15\" >0</td>\n",
              "                        <td id=\"T_b31c3670_8cce_11eb_a37b_0242ac1c0002row3_col16\" class=\"data row3 col16\" >0</td>\n",
              "                        <td id=\"T_b31c3670_8cce_11eb_a37b_0242ac1c0002row3_col17\" class=\"data row3 col17\" >0</td>\n",
              "                        <td id=\"T_b31c3670_8cce_11eb_a37b_0242ac1c0002row3_col18\" class=\"data row3 col18\" >0</td>\n",
              "                        <td id=\"T_b31c3670_8cce_11eb_a37b_0242ac1c0002row3_col19\" class=\"data row3 col19\" >0</td>\n",
              "            </tr>\n",
              "            <tr>\n",
              "                        <th id=\"T_b31c3670_8cce_11eb_a37b_0242ac1c0002level0_row4\" class=\"row_heading level0 row4\" >4</th>\n",
              "                        <td id=\"T_b31c3670_8cce_11eb_a37b_0242ac1c0002row4_col0\" class=\"data row4 col0\" >0</td>\n",
              "                        <td id=\"T_b31c3670_8cce_11eb_a37b_0242ac1c0002row4_col1\" class=\"data row4 col1\" >0</td>\n",
              "                        <td id=\"T_b31c3670_8cce_11eb_a37b_0242ac1c0002row4_col2\" class=\"data row4 col2\" >0</td>\n",
              "                        <td id=\"T_b31c3670_8cce_11eb_a37b_0242ac1c0002row4_col3\" class=\"data row4 col3\" >0</td>\n",
              "                        <td id=\"T_b31c3670_8cce_11eb_a37b_0242ac1c0002row4_col4\" class=\"data row4 col4\" >0</td>\n",
              "                        <td id=\"T_b31c3670_8cce_11eb_a37b_0242ac1c0002row4_col5\" class=\"data row4 col5\" >0</td>\n",
              "                        <td id=\"T_b31c3670_8cce_11eb_a37b_0242ac1c0002row4_col6\" class=\"data row4 col6\" >0</td>\n",
              "                        <td id=\"T_b31c3670_8cce_11eb_a37b_0242ac1c0002row4_col7\" class=\"data row4 col7\" >0</td>\n",
              "                        <td id=\"T_b31c3670_8cce_11eb_a37b_0242ac1c0002row4_col8\" class=\"data row4 col8\" >0</td>\n",
              "                        <td id=\"T_b31c3670_8cce_11eb_a37b_0242ac1c0002row4_col9\" class=\"data row4 col9\" >0</td>\n",
              "                        <td id=\"T_b31c3670_8cce_11eb_a37b_0242ac1c0002row4_col10\" class=\"data row4 col10\" >0</td>\n",
              "                        <td id=\"T_b31c3670_8cce_11eb_a37b_0242ac1c0002row4_col11\" class=\"data row4 col11\" >0</td>\n",
              "                        <td id=\"T_b31c3670_8cce_11eb_a37b_0242ac1c0002row4_col12\" class=\"data row4 col12\" >0</td>\n",
              "                        <td id=\"T_b31c3670_8cce_11eb_a37b_0242ac1c0002row4_col13\" class=\"data row4 col13\" >0</td>\n",
              "                        <td id=\"T_b31c3670_8cce_11eb_a37b_0242ac1c0002row4_col14\" class=\"data row4 col14\" >0</td>\n",
              "                        <td id=\"T_b31c3670_8cce_11eb_a37b_0242ac1c0002row4_col15\" class=\"data row4 col15\" >0</td>\n",
              "                        <td id=\"T_b31c3670_8cce_11eb_a37b_0242ac1c0002row4_col16\" class=\"data row4 col16\" >0</td>\n",
              "                        <td id=\"T_b31c3670_8cce_11eb_a37b_0242ac1c0002row4_col17\" class=\"data row4 col17\" >0</td>\n",
              "                        <td id=\"T_b31c3670_8cce_11eb_a37b_0242ac1c0002row4_col18\" class=\"data row4 col18\" >0</td>\n",
              "                        <td id=\"T_b31c3670_8cce_11eb_a37b_0242ac1c0002row4_col19\" class=\"data row4 col19\" >0</td>\n",
              "            </tr>\n",
              "            <tr>\n",
              "                        <th id=\"T_b31c3670_8cce_11eb_a37b_0242ac1c0002level0_row5\" class=\"row_heading level0 row5\" >5</th>\n",
              "                        <td id=\"T_b31c3670_8cce_11eb_a37b_0242ac1c0002row5_col0\" class=\"data row5 col0\" >0</td>\n",
              "                        <td id=\"T_b31c3670_8cce_11eb_a37b_0242ac1c0002row5_col1\" class=\"data row5 col1\" >0</td>\n",
              "                        <td id=\"T_b31c3670_8cce_11eb_a37b_0242ac1c0002row5_col2\" class=\"data row5 col2\" >0</td>\n",
              "                        <td id=\"T_b31c3670_8cce_11eb_a37b_0242ac1c0002row5_col3\" class=\"data row5 col3\" >12</td>\n",
              "                        <td id=\"T_b31c3670_8cce_11eb_a37b_0242ac1c0002row5_col4\" class=\"data row5 col4\" >99</td>\n",
              "                        <td id=\"T_b31c3670_8cce_11eb_a37b_0242ac1c0002row5_col5\" class=\"data row5 col5\" >91</td>\n",
              "                        <td id=\"T_b31c3670_8cce_11eb_a37b_0242ac1c0002row5_col6\" class=\"data row5 col6\" >142</td>\n",
              "                        <td id=\"T_b31c3670_8cce_11eb_a37b_0242ac1c0002row5_col7\" class=\"data row5 col7\" >155</td>\n",
              "                        <td id=\"T_b31c3670_8cce_11eb_a37b_0242ac1c0002row5_col8\" class=\"data row5 col8\" >246</td>\n",
              "                        <td id=\"T_b31c3670_8cce_11eb_a37b_0242ac1c0002row5_col9\" class=\"data row5 col9\" >182</td>\n",
              "                        <td id=\"T_b31c3670_8cce_11eb_a37b_0242ac1c0002row5_col10\" class=\"data row5 col10\" >155</td>\n",
              "                        <td id=\"T_b31c3670_8cce_11eb_a37b_0242ac1c0002row5_col11\" class=\"data row5 col11\" >155</td>\n",
              "                        <td id=\"T_b31c3670_8cce_11eb_a37b_0242ac1c0002row5_col12\" class=\"data row5 col12\" >155</td>\n",
              "                        <td id=\"T_b31c3670_8cce_11eb_a37b_0242ac1c0002row5_col13\" class=\"data row5 col13\" >155</td>\n",
              "                        <td id=\"T_b31c3670_8cce_11eb_a37b_0242ac1c0002row5_col14\" class=\"data row5 col14\" >131</td>\n",
              "                        <td id=\"T_b31c3670_8cce_11eb_a37b_0242ac1c0002row5_col15\" class=\"data row5 col15\" >52</td>\n",
              "                        <td id=\"T_b31c3670_8cce_11eb_a37b_0242ac1c0002row5_col16\" class=\"data row5 col16\" >0</td>\n",
              "                        <td id=\"T_b31c3670_8cce_11eb_a37b_0242ac1c0002row5_col17\" class=\"data row5 col17\" >0</td>\n",
              "                        <td id=\"T_b31c3670_8cce_11eb_a37b_0242ac1c0002row5_col18\" class=\"data row5 col18\" >0</td>\n",
              "                        <td id=\"T_b31c3670_8cce_11eb_a37b_0242ac1c0002row5_col19\" class=\"data row5 col19\" >0</td>\n",
              "            </tr>\n",
              "            <tr>\n",
              "                        <th id=\"T_b31c3670_8cce_11eb_a37b_0242ac1c0002level0_row6\" class=\"row_heading level0 row6\" >6</th>\n",
              "                        <td id=\"T_b31c3670_8cce_11eb_a37b_0242ac1c0002row6_col0\" class=\"data row6 col0\" >0</td>\n",
              "                        <td id=\"T_b31c3670_8cce_11eb_a37b_0242ac1c0002row6_col1\" class=\"data row6 col1\" >0</td>\n",
              "                        <td id=\"T_b31c3670_8cce_11eb_a37b_0242ac1c0002row6_col2\" class=\"data row6 col2\" >0</td>\n",
              "                        <td id=\"T_b31c3670_8cce_11eb_a37b_0242ac1c0002row6_col3\" class=\"data row6 col3\" >138</td>\n",
              "                        <td id=\"T_b31c3670_8cce_11eb_a37b_0242ac1c0002row6_col4\" class=\"data row6 col4\" >254</td>\n",
              "                        <td id=\"T_b31c3670_8cce_11eb_a37b_0242ac1c0002row6_col5\" class=\"data row6 col5\" >254</td>\n",
              "                        <td id=\"T_b31c3670_8cce_11eb_a37b_0242ac1c0002row6_col6\" class=\"data row6 col6\" >254</td>\n",
              "                        <td id=\"T_b31c3670_8cce_11eb_a37b_0242ac1c0002row6_col7\" class=\"data row6 col7\" >254</td>\n",
              "                        <td id=\"T_b31c3670_8cce_11eb_a37b_0242ac1c0002row6_col8\" class=\"data row6 col8\" >254</td>\n",
              "                        <td id=\"T_b31c3670_8cce_11eb_a37b_0242ac1c0002row6_col9\" class=\"data row6 col9\" >254</td>\n",
              "                        <td id=\"T_b31c3670_8cce_11eb_a37b_0242ac1c0002row6_col10\" class=\"data row6 col10\" >254</td>\n",
              "                        <td id=\"T_b31c3670_8cce_11eb_a37b_0242ac1c0002row6_col11\" class=\"data row6 col11\" >254</td>\n",
              "                        <td id=\"T_b31c3670_8cce_11eb_a37b_0242ac1c0002row6_col12\" class=\"data row6 col12\" >254</td>\n",
              "                        <td id=\"T_b31c3670_8cce_11eb_a37b_0242ac1c0002row6_col13\" class=\"data row6 col13\" >254</td>\n",
              "                        <td id=\"T_b31c3670_8cce_11eb_a37b_0242ac1c0002row6_col14\" class=\"data row6 col14\" >254</td>\n",
              "                        <td id=\"T_b31c3670_8cce_11eb_a37b_0242ac1c0002row6_col15\" class=\"data row6 col15\" >252</td>\n",
              "                        <td id=\"T_b31c3670_8cce_11eb_a37b_0242ac1c0002row6_col16\" class=\"data row6 col16\" >210</td>\n",
              "                        <td id=\"T_b31c3670_8cce_11eb_a37b_0242ac1c0002row6_col17\" class=\"data row6 col17\" >122</td>\n",
              "                        <td id=\"T_b31c3670_8cce_11eb_a37b_0242ac1c0002row6_col18\" class=\"data row6 col18\" >33</td>\n",
              "                        <td id=\"T_b31c3670_8cce_11eb_a37b_0242ac1c0002row6_col19\" class=\"data row6 col19\" >0</td>\n",
              "            </tr>\n",
              "            <tr>\n",
              "                        <th id=\"T_b31c3670_8cce_11eb_a37b_0242ac1c0002level0_row7\" class=\"row_heading level0 row7\" >7</th>\n",
              "                        <td id=\"T_b31c3670_8cce_11eb_a37b_0242ac1c0002row7_col0\" class=\"data row7 col0\" >0</td>\n",
              "                        <td id=\"T_b31c3670_8cce_11eb_a37b_0242ac1c0002row7_col1\" class=\"data row7 col1\" >0</td>\n",
              "                        <td id=\"T_b31c3670_8cce_11eb_a37b_0242ac1c0002row7_col2\" class=\"data row7 col2\" >0</td>\n",
              "                        <td id=\"T_b31c3670_8cce_11eb_a37b_0242ac1c0002row7_col3\" class=\"data row7 col3\" >220</td>\n",
              "                        <td id=\"T_b31c3670_8cce_11eb_a37b_0242ac1c0002row7_col4\" class=\"data row7 col4\" >254</td>\n",
              "                        <td id=\"T_b31c3670_8cce_11eb_a37b_0242ac1c0002row7_col5\" class=\"data row7 col5\" >254</td>\n",
              "                        <td id=\"T_b31c3670_8cce_11eb_a37b_0242ac1c0002row7_col6\" class=\"data row7 col6\" >254</td>\n",
              "                        <td id=\"T_b31c3670_8cce_11eb_a37b_0242ac1c0002row7_col7\" class=\"data row7 col7\" >235</td>\n",
              "                        <td id=\"T_b31c3670_8cce_11eb_a37b_0242ac1c0002row7_col8\" class=\"data row7 col8\" >189</td>\n",
              "                        <td id=\"T_b31c3670_8cce_11eb_a37b_0242ac1c0002row7_col9\" class=\"data row7 col9\" >189</td>\n",
              "                        <td id=\"T_b31c3670_8cce_11eb_a37b_0242ac1c0002row7_col10\" class=\"data row7 col10\" >189</td>\n",
              "                        <td id=\"T_b31c3670_8cce_11eb_a37b_0242ac1c0002row7_col11\" class=\"data row7 col11\" >189</td>\n",
              "                        <td id=\"T_b31c3670_8cce_11eb_a37b_0242ac1c0002row7_col12\" class=\"data row7 col12\" >150</td>\n",
              "                        <td id=\"T_b31c3670_8cce_11eb_a37b_0242ac1c0002row7_col13\" class=\"data row7 col13\" >189</td>\n",
              "                        <td id=\"T_b31c3670_8cce_11eb_a37b_0242ac1c0002row7_col14\" class=\"data row7 col14\" >205</td>\n",
              "                        <td id=\"T_b31c3670_8cce_11eb_a37b_0242ac1c0002row7_col15\" class=\"data row7 col15\" >254</td>\n",
              "                        <td id=\"T_b31c3670_8cce_11eb_a37b_0242ac1c0002row7_col16\" class=\"data row7 col16\" >254</td>\n",
              "                        <td id=\"T_b31c3670_8cce_11eb_a37b_0242ac1c0002row7_col17\" class=\"data row7 col17\" >254</td>\n",
              "                        <td id=\"T_b31c3670_8cce_11eb_a37b_0242ac1c0002row7_col18\" class=\"data row7 col18\" >75</td>\n",
              "                        <td id=\"T_b31c3670_8cce_11eb_a37b_0242ac1c0002row7_col19\" class=\"data row7 col19\" >0</td>\n",
              "            </tr>\n",
              "            <tr>\n",
              "                        <th id=\"T_b31c3670_8cce_11eb_a37b_0242ac1c0002level0_row8\" class=\"row_heading level0 row8\" >8</th>\n",
              "                        <td id=\"T_b31c3670_8cce_11eb_a37b_0242ac1c0002row8_col0\" class=\"data row8 col0\" >0</td>\n",
              "                        <td id=\"T_b31c3670_8cce_11eb_a37b_0242ac1c0002row8_col1\" class=\"data row8 col1\" >0</td>\n",
              "                        <td id=\"T_b31c3670_8cce_11eb_a37b_0242ac1c0002row8_col2\" class=\"data row8 col2\" >0</td>\n",
              "                        <td id=\"T_b31c3670_8cce_11eb_a37b_0242ac1c0002row8_col3\" class=\"data row8 col3\" >35</td>\n",
              "                        <td id=\"T_b31c3670_8cce_11eb_a37b_0242ac1c0002row8_col4\" class=\"data row8 col4\" >74</td>\n",
              "                        <td id=\"T_b31c3670_8cce_11eb_a37b_0242ac1c0002row8_col5\" class=\"data row8 col5\" >35</td>\n",
              "                        <td id=\"T_b31c3670_8cce_11eb_a37b_0242ac1c0002row8_col6\" class=\"data row8 col6\" >35</td>\n",
              "                        <td id=\"T_b31c3670_8cce_11eb_a37b_0242ac1c0002row8_col7\" class=\"data row8 col7\" >25</td>\n",
              "                        <td id=\"T_b31c3670_8cce_11eb_a37b_0242ac1c0002row8_col8\" class=\"data row8 col8\" >0</td>\n",
              "                        <td id=\"T_b31c3670_8cce_11eb_a37b_0242ac1c0002row8_col9\" class=\"data row8 col9\" >0</td>\n",
              "                        <td id=\"T_b31c3670_8cce_11eb_a37b_0242ac1c0002row8_col10\" class=\"data row8 col10\" >0</td>\n",
              "                        <td id=\"T_b31c3670_8cce_11eb_a37b_0242ac1c0002row8_col11\" class=\"data row8 col11\" >0</td>\n",
              "                        <td id=\"T_b31c3670_8cce_11eb_a37b_0242ac1c0002row8_col12\" class=\"data row8 col12\" >0</td>\n",
              "                        <td id=\"T_b31c3670_8cce_11eb_a37b_0242ac1c0002row8_col13\" class=\"data row8 col13\" >0</td>\n",
              "                        <td id=\"T_b31c3670_8cce_11eb_a37b_0242ac1c0002row8_col14\" class=\"data row8 col14\" >13</td>\n",
              "                        <td id=\"T_b31c3670_8cce_11eb_a37b_0242ac1c0002row8_col15\" class=\"data row8 col15\" >224</td>\n",
              "                        <td id=\"T_b31c3670_8cce_11eb_a37b_0242ac1c0002row8_col16\" class=\"data row8 col16\" >254</td>\n",
              "                        <td id=\"T_b31c3670_8cce_11eb_a37b_0242ac1c0002row8_col17\" class=\"data row8 col17\" >254</td>\n",
              "                        <td id=\"T_b31c3670_8cce_11eb_a37b_0242ac1c0002row8_col18\" class=\"data row8 col18\" >153</td>\n",
              "                        <td id=\"T_b31c3670_8cce_11eb_a37b_0242ac1c0002row8_col19\" class=\"data row8 col19\" >0</td>\n",
              "            </tr>\n",
              "            <tr>\n",
              "                        <th id=\"T_b31c3670_8cce_11eb_a37b_0242ac1c0002level0_row9\" class=\"row_heading level0 row9\" >9</th>\n",
              "                        <td id=\"T_b31c3670_8cce_11eb_a37b_0242ac1c0002row9_col0\" class=\"data row9 col0\" >0</td>\n",
              "                        <td id=\"T_b31c3670_8cce_11eb_a37b_0242ac1c0002row9_col1\" class=\"data row9 col1\" >0</td>\n",
              "                        <td id=\"T_b31c3670_8cce_11eb_a37b_0242ac1c0002row9_col2\" class=\"data row9 col2\" >0</td>\n",
              "                        <td id=\"T_b31c3670_8cce_11eb_a37b_0242ac1c0002row9_col3\" class=\"data row9 col3\" >0</td>\n",
              "                        <td id=\"T_b31c3670_8cce_11eb_a37b_0242ac1c0002row9_col4\" class=\"data row9 col4\" >0</td>\n",
              "                        <td id=\"T_b31c3670_8cce_11eb_a37b_0242ac1c0002row9_col5\" class=\"data row9 col5\" >0</td>\n",
              "                        <td id=\"T_b31c3670_8cce_11eb_a37b_0242ac1c0002row9_col6\" class=\"data row9 col6\" >0</td>\n",
              "                        <td id=\"T_b31c3670_8cce_11eb_a37b_0242ac1c0002row9_col7\" class=\"data row9 col7\" >0</td>\n",
              "                        <td id=\"T_b31c3670_8cce_11eb_a37b_0242ac1c0002row9_col8\" class=\"data row9 col8\" >0</td>\n",
              "                        <td id=\"T_b31c3670_8cce_11eb_a37b_0242ac1c0002row9_col9\" class=\"data row9 col9\" >0</td>\n",
              "                        <td id=\"T_b31c3670_8cce_11eb_a37b_0242ac1c0002row9_col10\" class=\"data row9 col10\" >0</td>\n",
              "                        <td id=\"T_b31c3670_8cce_11eb_a37b_0242ac1c0002row9_col11\" class=\"data row9 col11\" >0</td>\n",
              "                        <td id=\"T_b31c3670_8cce_11eb_a37b_0242ac1c0002row9_col12\" class=\"data row9 col12\" >0</td>\n",
              "                        <td id=\"T_b31c3670_8cce_11eb_a37b_0242ac1c0002row9_col13\" class=\"data row9 col13\" >0</td>\n",
              "                        <td id=\"T_b31c3670_8cce_11eb_a37b_0242ac1c0002row9_col14\" class=\"data row9 col14\" >90</td>\n",
              "                        <td id=\"T_b31c3670_8cce_11eb_a37b_0242ac1c0002row9_col15\" class=\"data row9 col15\" >254</td>\n",
              "                        <td id=\"T_b31c3670_8cce_11eb_a37b_0242ac1c0002row9_col16\" class=\"data row9 col16\" >254</td>\n",
              "                        <td id=\"T_b31c3670_8cce_11eb_a37b_0242ac1c0002row9_col17\" class=\"data row9 col17\" >247</td>\n",
              "                        <td id=\"T_b31c3670_8cce_11eb_a37b_0242ac1c0002row9_col18\" class=\"data row9 col18\" >53</td>\n",
              "                        <td id=\"T_b31c3670_8cce_11eb_a37b_0242ac1c0002row9_col19\" class=\"data row9 col19\" >0</td>\n",
              "            </tr>\n",
              "    </tbody></table>"
            ],
            "text/plain": [
              "<pandas.io.formats.style.Styler at 0x7f5ad2af1610>"
            ]
          },
          "metadata": {
            "tags": []
          },
          "execution_count": 5
        }
      ]
    },
    {
      "cell_type": "markdown",
      "metadata": {
        "id": "4oreCoAMoUSS"
      },
      "source": [
        "For the top edge of the 3, we have the values above the middle row being 0 (so no contribution) and the values on the bottom row being high positive numbers so overall we get a high positive number from the multiplication.\n",
        "For the bottom edge, the opposite is true."
      ]
    },
    {
      "cell_type": "code",
      "metadata": {
        "colab": {
          "base_uri": "https://localhost:8080/"
        },
        "id": "psg1X-NYn5jp",
        "outputId": "aa82ab47-3d5b-4b52-b897-bfdf44315a67"
      },
      "source": [
        "(im3_t[4:7, 6:9]*top_edge).sum()"
      ],
      "execution_count": 6,
      "outputs": [
        {
          "output_type": "execute_result",
          "data": {
            "text/plain": [
              "tensor(762.)"
            ]
          },
          "metadata": {
            "tags": []
          },
          "execution_count": 6
        }
      ]
    },
    {
      "cell_type": "code",
      "metadata": {
        "id": "esjjAUCnpGIf"
      },
      "source": [
        "def apply_kernel(row, col, kernel):\n",
        "    return (im3_t[row-1:row+2, col-1:col+2]*kernel).sum()"
      ],
      "execution_count": 7,
      "outputs": []
    },
    {
      "cell_type": "code",
      "metadata": {
        "colab": {
          "base_uri": "https://localhost:8080/"
        },
        "id": "q3vKYh85pXd3",
        "outputId": "a6612c31-77ee-456d-88cc-0de417e1d826"
      },
      "source": [
        "apply_kernel(5, 7, top_edge)"
      ],
      "execution_count": 8,
      "outputs": [
        {
          "output_type": "execute_result",
          "data": {
            "text/plain": [
              "tensor(762.)"
            ]
          },
          "metadata": {
            "tags": []
          },
          "execution_count": 8
        }
      ]
    },
    {
      "cell_type": "code",
      "metadata": {
        "id": "d37F2MrR6WYb"
      },
      "source": [
        "??show_image"
      ],
      "execution_count": 9,
      "outputs": []
    },
    {
      "cell_type": "code",
      "metadata": {
        "colab": {
          "base_uri": "https://localhost:8080/",
          "height": 102
        },
        "id": "pff5gEkEprny",
        "outputId": "da15641f-8ee4-4035-8ef3-2c759575d954"
      },
      "source": [
        "top_edge3 = tensor([[apply_kernel(row, col, top_edge) for col in range(1,27)] for row in range(1,27)])\n",
        "show_image(top_edge3)"
      ],
      "execution_count": 10,
      "outputs": [
        {
          "output_type": "execute_result",
          "data": {
            "text/plain": [
              "<matplotlib.axes._subplots.AxesSubplot at 0x7f5ad2af1150>"
            ]
          },
          "metadata": {
            "tags": []
          },
          "execution_count": 10
        },
        {
          "output_type": "display_data",
          "data": {
            "image/png": "[encoded data removed]",
            "text/plain": [
              "<Figure size 72x72 with 1 Axes>"
            ]
          },
          "metadata": {
            "tags": [],
            "needs_background": "light"
          }
        }
      ]
    },
    {
      "cell_type": "code",
      "metadata": {
        "id": "DxaQnWcXpuQq"
      },
      "source": [
        "left_edge = tensor([[-1, 0, 1],\n",
        "                    [-1,0,1],\n",
        "                    [-1,0,1]])"
      ],
      "execution_count": 11,
      "outputs": []
    },
    {
      "cell_type": "code",
      "metadata": {
        "colab": {
          "base_uri": "https://localhost:8080/",
          "height": 102
        },
        "id": "akQSluARtE-s",
        "outputId": "f48a1fb5-d3b9-4704-8d60-58bc18d4cd66"
      },
      "source": [
        "left_edge3 = tensor([[apply_kernel(row, col, left_edge) for col in range(1,27)] for row in range(1,27)])\n",
        "show_image(left_edge3)"
      ],
      "execution_count": 12,
      "outputs": [
        {
          "output_type": "execute_result",
          "data": {
            "text/plain": [
              "<matplotlib.axes._subplots.AxesSubplot at 0x7f5ad222a9d0>"
            ]
          },
          "metadata": {
            "tags": []
          },
          "execution_count": 12
        },
        {
          "output_type": "display_data",
          "data": {
            "image/png": "[encoded data removed]",
            "text/plain": [
              "<Figure size 72x72 with 1 Axes>"
            ]
          },
          "metadata": {
            "tags": [],
            "needs_background": "light"
          }
        }
      ]
    },
    {
      "cell_type": "code",
      "metadata": {
        "id": "GHmWfBphtWIC"
      },
      "source": [
        "diag1_edge = tensor([[0,-1,1],\n",
        "                     [-1,1,0],\n",
        "                     [1,0,0]])\n",
        "# This diag edge finds only the diag edges without anything above them. \n",
        "# See the picture below, there is a white diag edge below the black one"
      ],
      "execution_count": 13,
      "outputs": []
    },
    {
      "cell_type": "code",
      "metadata": {
        "colab": {
          "base_uri": "https://localhost:8080/",
          "height": 102
        },
        "id": "DqglKpKpvkgw",
        "outputId": "3a9c272c-a27a-4668-a195-2da150dffa9f"
      },
      "source": [
        "diag1 = tensor([[apply_kernel(row, col, diag1_edge) for col in range(1,27)] for row in range(1,27)])\n",
        "show_image(diag1)"
      ],
      "execution_count": 14,
      "outputs": [
        {
          "output_type": "execute_result",
          "data": {
            "text/plain": [
              "<matplotlib.axes._subplots.AxesSubplot at 0x7f5ad2288850>"
            ]
          },
          "metadata": {
            "tags": []
          },
          "execution_count": 14
        },
        {
          "output_type": "display_data",
          "data": {
            "image/png": "[encoded data removed]",
            "text/plain": [
              "<Figure size 72x72 with 1 Axes>"
            ]
          },
          "metadata": {
            "tags": [],
            "needs_background": "light"
          }
        }
      ]
    },
    {
      "cell_type": "code",
      "metadata": {
        "colab": {
          "base_uri": "https://localhost:8080/",
          "height": 102
        },
        "id": "OkuBhwQevyCR",
        "outputId": "fa2e216f-e166-4381-93a6-fd62de25f89d"
      },
      "source": [
        "diag2_edge = tensor([[1,-1,0],\n",
        "                     [0,1,-1],\n",
        "                     [0,0,1]])\n",
        "diag2 = tensor([[apply_kernel(row, col, diag2_edge) for col in range(1,27)] for row in range(1,27)])\n",
        "show_image(diag2)"
      ],
      "execution_count": 15,
      "outputs": [
        {
          "output_type": "execute_result",
          "data": {
            "text/plain": [
              "<matplotlib.axes._subplots.AxesSubplot at 0x7f5ad22fe050>"
            ]
          },
          "metadata": {
            "tags": []
          },
          "execution_count": 15
        },
        {
          "output_type": "display_data",
          "data": {
            "image/png": "[encoded data removed]",
            "text/plain": [
              "<Figure size 72x72 with 1 Axes>"
            ]
          },
          "metadata": {
            "tags": [],
            "needs_background": "light"
          }
        }
      ]
    },
    {
      "cell_type": "code",
      "metadata": {
        "colab": {
          "base_uri": "https://localhost:8080/"
        },
        "id": "QZhWdYnMwKIz",
        "outputId": "413d37ab-672e-46ba-db47-3c5b7df1c472"
      },
      "source": [
        "edge_kernels = torch.stack([left_edge, top_edge, diag1_edge, diag2_edge])\n",
        "edge_kernels.shape"
      ],
      "execution_count": 16,
      "outputs": [
        {
          "output_type": "execute_result",
          "data": {
            "text/plain": [
              "torch.Size([4, 3, 3])"
            ]
          },
          "metadata": {
            "tags": []
          },
          "execution_count": 16
        }
      ]
    },
    {
      "cell_type": "code",
      "metadata": {
        "colab": {
          "base_uri": "https://localhost:8080/"
        },
        "id": "yxqnKXx9wX8V",
        "outputId": "26d3be19-50c0-4712-f05e-d93b70e84c55"
      },
      "source": [
        "mnist = DataBlock((ImageBlock(cls = PILImageBW), CategoryBlock),\n",
        "                  get_items=get_image_files,\n",
        "                  splitter = GrandparentSplitter(),\n",
        "                  get_y = parent_label)\n",
        "dls = mnist.dataloaders(path)\n",
        "xb,yb = first(dls.valid)\n",
        "xb.shape"
      ],
      "execution_count": 17,
      "outputs": [
        {
          "output_type": "execute_result",
          "data": {
            "text/plain": [
              "torch.Size([64, 1, 28, 28])"
            ]
          },
          "metadata": {
            "tags": []
          },
          "execution_count": 17
        }
      ]
    },
    {
      "cell_type": "code",
      "metadata": {
        "id": "aUWfj-uGwzym"
      },
      "source": [
        "xb, yb = to_cpu(xb), to_cpu(yb)"
      ],
      "execution_count": 18,
      "outputs": []
    },
    {
      "cell_type": "code",
      "metadata": {
        "colab": {
          "base_uri": "https://localhost:8080/"
        },
        "id": "IChpOfANA88D",
        "outputId": "94cfb32e-ed1c-4042-d507-0e6107e466a8"
      },
      "source": [
        "edge_kernels = edge_kernels.unsqueeze(1)\n",
        "edge_kernels.shape\n",
        "# We need to add an extra dimension here because torch expects a 4 dimensional tensor"
      ],
      "execution_count": 19,
      "outputs": [
        {
          "output_type": "execute_result",
          "data": {
            "text/plain": [
              "torch.Size([4, 1, 3, 3])"
            ]
          },
          "metadata": {
            "tags": []
          },
          "execution_count": 19
        }
      ]
    },
    {
      "cell_type": "code",
      "metadata": {
        "id": "Y7WzkBRLyn7t",
        "colab": {
          "base_uri": "https://localhost:8080/"
        },
        "outputId": "602a9699-88d4-44e6-9b83-671846e9f857"
      },
      "source": [
        "xb.shape"
      ],
      "execution_count": 20,
      "outputs": [
        {
          "output_type": "execute_result",
          "data": {
            "text/plain": [
              "torch.Size([64, 1, 28, 28])"
            ]
          },
          "metadata": {
            "tags": []
          },
          "execution_count": 20
        }
      ]
    },
    {
      "cell_type": "code",
      "metadata": {
        "id": "QX94aAPjw5ln"
      },
      "source": [
        "??F.conv2d"
      ],
      "execution_count": 21,
      "outputs": []
    },
    {
      "cell_type": "code",
      "metadata": {
        "colab": {
          "base_uri": "https://localhost:8080/"
        },
        "id": "ldoGWEvzBNd7",
        "outputId": "e1be397a-a2ef-4dcd-9c22-02c473fd1f75"
      },
      "source": [
        "batch_features = F.conv2d(xb, edge_kernels)\n",
        "batch_features.shape"
      ],
      "execution_count": 22,
      "outputs": [
        {
          "output_type": "execute_result",
          "data": {
            "text/plain": [
              "torch.Size([64, 4, 26, 26])"
            ]
          },
          "metadata": {
            "tags": []
          },
          "execution_count": 22
        }
      ]
    },
    {
      "cell_type": "code",
      "metadata": {
        "colab": {
          "base_uri": "https://localhost:8080/",
          "height": 102
        },
        "id": "JrwDXmsrBs9M",
        "outputId": "4502e2a2-7575-4bb8-8c82-cbce3eea3e7b"
      },
      "source": [
        "show_image(batch_features[0,3])\n",
        "# First image example, 4th convolution (diag2)"
      ],
      "execution_count": 23,
      "outputs": [
        {
          "output_type": "execute_result",
          "data": {
            "text/plain": [
              "<matplotlib.axes._subplots.AxesSubplot at 0x7f5ad1fd3cd0>"
            ]
          },
          "metadata": {
            "tags": []
          },
          "execution_count": 23
        },
        {
          "output_type": "display_data",
          "data": {
            "image/png": "[encoded data removed]",
            "text/plain": [
              "<Figure size 72x72 with 1 Axes>"
            ]
          },
          "metadata": {
            "tags": [],
            "needs_background": "light"
          }
        }
      ]
    },
    {
      "cell_type": "code",
      "metadata": {
        "colab": {
          "base_uri": "https://localhost:8080/"
        },
        "id": "IN5fTCVeDvAF",
        "outputId": "008c31fa-be3d-4824-bb96-a2338c93317f"
      },
      "source": [
        "simple_net = nn.Sequential(\n",
        "    nn.Linear(28*28, 30),\n",
        "    nn.ReLU(),\n",
        "    nn.Linear(30, 1)\n",
        ")\n",
        "simple_net"
      ],
      "execution_count": 24,
      "outputs": [
        {
          "output_type": "execute_result",
          "data": {
            "text/plain": [
              "Sequential(\n",
              "  (0): Linear(in_features=784, out_features=30, bias=True)\n",
              "  (1): ReLU()\n",
              "  (2): Linear(in_features=30, out_features=1, bias=True)\n",
              ")"
            ]
          },
          "metadata": {
            "tags": []
          },
          "execution_count": 24
        }
      ]
    },
    {
      "cell_type": "code",
      "metadata": {
        "id": "4ntx8VtfEoBD"
      },
      "source": [
        "broken_cnn = nn.Sequential(\n",
        "    nn.Conv2d(1,30, kernel_size=3, padding = 1), #1 is the input and 30 is the output channels\n",
        "    nn.ReLU(),\n",
        "    nn.Conv2d(30, 1, kernel_size=3, padding=1)\n",
        ")\n",
        "# The input to the convolution is n, 1 (we have black-white images), 28, 28\n",
        "# The output of the first convolution is n, 30, 28, 28 --> A different kernel is applied to the original image 30 times\n",
        "# The output of the final convolution is n, 1, 28, 28 --> One kernel is applied to all the \"images\" and the output is summed up to 1\n",
        "# For example the pixel 1,1 is the output of the same one kernel applied to the first 3x3 pixels of all 30 of the input channels and then summed up\n",
        "\n"
      ],
      "execution_count": 25,
      "outputs": []
    },
    {
      "cell_type": "code",
      "metadata": {
        "colab": {
          "base_uri": "https://localhost:8080/",
          "height": 102
        },
        "id": "ny8It7e8FX7m",
        "outputId": "66251169-6934-450e-9380-439971b007b2"
      },
      "source": [
        "show_image(broken_cnn(xb)[0,0])"
      ],
      "execution_count": 26,
      "outputs": [
        {
          "output_type": "execute_result",
          "data": {
            "text/plain": [
              "<matplotlib.axes._subplots.AxesSubplot at 0x7f5ad06cb050>"
            ]
          },
          "metadata": {
            "tags": []
          },
          "execution_count": 26
        },
        {
          "output_type": "display_data",
          "data": {
            "image/png": "[encoded data removed]",
            "text/plain": [
              "<Figure size 72x72 with 1 Axes>"
            ]
          },
          "metadata": {
            "tags": [],
            "needs_background": "light"
          }
        }
      ]
    },
    {
      "cell_type": "code",
      "metadata": {
        "id": "UIWYhjGJ4fv8",
        "outputId": "06209a01-def3-43eb-bc6a-ce627fe68d78",
        "colab": {
          "base_uri": "https://localhost:8080/"
        }
      },
      "source": [
        "my_broken_cnn = nn.Sequential(\n",
        "    nn.Conv2d(1,30, kernel_size=3, padding = 1))\n",
        "\n",
        "my_broken_cnn(xb).shape\n"
      ],
      "execution_count": 27,
      "outputs": [
        {
          "output_type": "execute_result",
          "data": {
            "text/plain": [
              "torch.Size([64, 30, 28, 28])"
            ]
          },
          "metadata": {
            "tags": []
          },
          "execution_count": 27
        }
      ]
    },
    {
      "cell_type": "code",
      "metadata": {
        "id": "VRbQS-gr49B7",
        "colab": {
          "base_uri": "https://localhost:8080/"
        },
        "outputId": "91e148ec-b665-4249-ed6b-cba0229f2d83"
      },
      "source": [
        "my_broken_cnn(xb)[0, 1].shape"
      ],
      "execution_count": 28,
      "outputs": [
        {
          "output_type": "execute_result",
          "data": {
            "text/plain": [
              "torch.Size([28, 28])"
            ]
          },
          "metadata": {
            "tags": []
          },
          "execution_count": 28
        }
      ]
    },
    {
      "cell_type": "code",
      "metadata": {
        "id": "liI1cbSKFc5E"
      },
      "source": [
        "def conv(ni, nf, ks=3, act=True):\n",
        "    res = nn.Conv2d(ni, nf, stride=2, kernel_size=ks, padding=ks//2)\n",
        "    if act: res = nn.Sequential(res, nn.ReLU())\n",
        "    return res"
      ],
      "execution_count": 29,
      "outputs": []
    },
    {
      "cell_type": "code",
      "metadata": {
        "id": "DSUZx_C4G0kU"
      },
      "source": [
        "simple_cnn = sequential(\n",
        "    conv(1,4), #14x14\n",
        "    conv(4,8), #7x7\n",
        "    conv(8,16), #4x4\n",
        "    conv(16, 32), #2x2\n",
        "    conv(32, 2, act=False),\n",
        "    Flatten()\n",
        ")"
      ],
      "execution_count": 30,
      "outputs": []
    },
    {
      "cell_type": "code",
      "metadata": {
        "colab": {
          "base_uri": "https://localhost:8080/"
        },
        "id": "bSc2t2A7UsQW",
        "outputId": "7a43bfcd-84d2-48dd-8fb7-7db1041a31b0"
      },
      "source": [
        "simple_cnn(xb).shape"
      ],
      "execution_count": 31,
      "outputs": [
        {
          "output_type": "execute_result",
          "data": {
            "text/plain": [
              "torch.Size([64, 2])"
            ]
          },
          "metadata": {
            "tags": []
          },
          "execution_count": 31
        }
      ]
    },
    {
      "cell_type": "code",
      "metadata": {
        "colab": {
          "base_uri": "https://localhost:8080/",
          "height": 663
        },
        "id": "cypAsedPU4UC",
        "outputId": "9a01abb7-757c-4dac-e89b-f4fb0b25c9cb"
      },
      "source": [
        "learn = Learner(dls, simple_cnn, loss_func=F.cross_entropy, metrics=accuracy)\n",
        "learn.summary()"
      ],
      "execution_count": 32,
      "outputs": [
        {
          "output_type": "display_data",
          "data": {
            "text/html": [
              ""
            ],
            "text/plain": [
              "<IPython.core.display.HTML object>"
            ]
          },
          "metadata": {
            "tags": []
          }
        },
        {
          "output_type": "execute_result",
          "data": {
            "application/vnd.google.colaboratory.intrinsic+json": {
              "type": "string"
            },
            "text/plain": [
              "Sequential (Input shape: 64)\n",
              "============================================================================\n",
              "Layer (type)         Output Shape         Param #    Trainable \n",
              "============================================================================\n",
              "                     64 x 4 x 14 x 14    \n",
              "Conv2d                                    40         True      \n",
              "ReLU                                                           \n",
              "____________________________________________________________________________\n",
              "                     64 x 8 x 7 x 7      \n",
              "Conv2d                                    296        True      \n",
              "ReLU                                                           \n",
              "____________________________________________________________________________\n",
              "                     64 x 16 x 4 x 4     \n",
              "Conv2d                                    1168       True      \n",
              "ReLU                                                           \n",
              "____________________________________________________________________________\n",
              "                     64 x 32 x 2 x 2     \n",
              "Conv2d                                    4640       True      \n",
              "ReLU                                                           \n",
              "____________________________________________________________________________\n",
              "                     64 x 2 x 1 x 1      \n",
              "Conv2d                                    578        True      \n",
              "____________________________________________________________________________\n",
              "                     []                  \n",
              "Flatten                                                        \n",
              "____________________________________________________________________________\n",
              "\n",
              "Total params: 6,722\n",
              "Total trainable params: 6,722\n",
              "Total non-trainable params: 0\n",
              "\n",
              "Optimizer used: <function Adam at 0x7f5ad3366170>\n",
              "Loss function: <function cross_entropy at 0x7f5aff8a4170>\n",
              "\n",
              "Callbacks:\n",
              "  - TrainEvalCallback\n",
              "  - Recorder\n",
              "  - ProgressCallback"
            ]
          },
          "metadata": {
            "tags": []
          },
          "execution_count": 32
        }
      ]
    },
    {
      "cell_type": "code",
      "metadata": {
        "colab": {
          "base_uri": "https://localhost:8080/",
          "height": 111
        },
        "id": "v0zYOScNVPdK",
        "outputId": "3424fcd9-c817-496b-98e6-8cabe164a4cc"
      },
      "source": [
        "learn.fit_one_cycle(2, 0.01)"
      ],
      "execution_count": 33,
      "outputs": [
        {
          "output_type": "display_data",
          "data": {
            "text/html": [
              "<table border=\"1\" class=\"dataframe\">\n",
              "  <thead>\n",
              "    <tr style=\"text-align: left;\">\n",
              "      <th>epoch</th>\n",
              "      <th>train_loss</th>\n",
              "      <th>valid_loss</th>\n",
              "      <th>accuracy</th>\n",
              "      <th>time</th>\n",
              "    </tr>\n",
              "  </thead>\n",
              "  <tbody>\n",
              "    <tr>\n",
              "      <td>0</td>\n",
              "      <td>0.064139</td>\n",
              "      <td>0.041274</td>\n",
              "      <td>0.986752</td>\n",
              "      <td>00:12</td>\n",
              "    </tr>\n",
              "    <tr>\n",
              "      <td>1</td>\n",
              "      <td>0.017858</td>\n",
              "      <td>0.017192</td>\n",
              "      <td>0.994112</td>\n",
              "      <td>00:11</td>\n",
              "    </tr>\n",
              "  </tbody>\n",
              "</table>"
            ],
            "text/plain": [
              "<IPython.core.display.HTML object>"
            ]
          },
          "metadata": {
            "tags": []
          }
        }
      ]
    },
    {
      "cell_type": "code",
      "metadata": {
        "colab": {
          "base_uri": "https://localhost:8080/"
        },
        "id": "zyAfx9fGVfpZ",
        "outputId": "68e70ae9-56d8-4ea5-ecb5-83df9d3a5acc"
      },
      "source": [
        "learn.model"
      ],
      "execution_count": 34,
      "outputs": [
        {
          "output_type": "execute_result",
          "data": {
            "text/plain": [
              "Sequential(\n",
              "  (0): Sequential(\n",
              "    (0): Conv2d(1, 4, kernel_size=(3, 3), stride=(2, 2), padding=(1, 1))\n",
              "    (1): ReLU()\n",
              "  )\n",
              "  (1): Sequential(\n",
              "    (0): Conv2d(4, 8, kernel_size=(3, 3), stride=(2, 2), padding=(1, 1))\n",
              "    (1): ReLU()\n",
              "  )\n",
              "  (2): Sequential(\n",
              "    (0): Conv2d(8, 16, kernel_size=(3, 3), stride=(2, 2), padding=(1, 1))\n",
              "    (1): ReLU()\n",
              "  )\n",
              "  (3): Sequential(\n",
              "    (0): Conv2d(16, 32, kernel_size=(3, 3), stride=(2, 2), padding=(1, 1))\n",
              "    (1): ReLU()\n",
              "  )\n",
              "  (4): Conv2d(32, 2, kernel_size=(3, 3), stride=(2, 2), padding=(1, 1))\n",
              "  (5): Flatten(full=False)\n",
              ")"
            ]
          },
          "metadata": {
            "tags": []
          },
          "execution_count": 34
        }
      ]
    },
    {
      "cell_type": "code",
      "metadata": {
        "colab": {
          "base_uri": "https://localhost:8080/"
        },
        "id": "N2AXWPY0VkB5",
        "outputId": "5507a0e1-1c82-4341-bcc2-3a2c9688eb78"
      },
      "source": [
        "m = learn.model\n",
        "m[0][0].weight.shape, m[0][0].bias.shape, m[1][0].weight.shape, m[1][0].bias.shape\n",
        "# For each layer the weights are OutChannels x InpChannels x Kernel_size"
      ],
      "execution_count": 35,
      "outputs": [
        {
          "output_type": "execute_result",
          "data": {
            "text/plain": [
              "(torch.Size([4, 1, 3, 3]),\n",
              " torch.Size([4]),\n",
              " torch.Size([8, 4, 3, 3]),\n",
              " torch.Size([8]))"
            ]
          },
          "metadata": {
            "tags": []
          },
          "execution_count": 35
        }
      ]
    },
    {
      "cell_type": "markdown",
      "metadata": {
        "id": "_eUmw4JzEQ0E"
      },
      "source": [
        "Convolution notes\n",
        "Layer 1  \n",
        "Input 1x28x28  \n",
        "Conv2d(1, 4, ks = 3, pad = 1, stride = 2)  \n",
        "--> Weights: 4x1x3x3  \n",
        "Why? We have 4 output channels. Therefore, we need 4 of our kernels for each of our input channels (1). Each kernel is 3x3.  \n",
        "--> Multiplications: 1x4x3x3x28x28  \n",
        "Why? We need to multiply each of our input channels (1) by each of our kernels (4x3x3) for every pixel (28x28).  \n",
        "\n",
        "Layer 2\n",
        "Input 4x14x14  \n",
        "Conv2d(4, 8, ks = 3, pad = 1, stride = 2)  \n",
        "--> Weights: 8x4x3x3  \n",
        "Why? We have 8 output channels. Therefore, we need 8 of our kernels for each of our input channels (4). Each kernel is 3x3.  \n",
        "--> Multiplications: 4x8x3x3x14x14  \n",
        "Why? We need to multiply each of our input channels (4) by each of our kernels (8x3x3) for every pixel (14x14).  \n"
      ]
    },
    {
      "cell_type": "code",
      "metadata": {
        "colab": {
          "base_uri": "https://localhost:8080/",
          "height": 17
        },
        "id": "08xVxEFeZ5kp",
        "outputId": "61fc6e6b-9f17-4e95-8671-29d5346d8523"
      },
      "source": [
        "path = untar_data(URLs.MNIST)"
      ],
      "execution_count": 36,
      "outputs": [
        {
          "output_type": "display_data",
          "data": {
            "text/html": [
              ""
            ],
            "text/plain": [
              "<IPython.core.display.HTML object>"
            ]
          },
          "metadata": {
            "tags": []
          }
        }
      ]
    },
    {
      "cell_type": "code",
      "metadata": {
        "id": "kwbn8MwGiUSq",
        "outputId": "42781dad-b9ef-45b0-ab6b-e51a9187a7a6",
        "colab": {
          "base_uri": "https://localhost:8080/"
        }
      },
      "source": [
        "(path/'training').ls()"
      ],
      "execution_count": 41,
      "outputs": [
        {
          "output_type": "execute_result",
          "data": {
            "text/plain": [
              "(#10) [Path('/root/.fastai/data/mnist_png/training/2'),Path('/root/.fastai/data/mnist_png/training/6'),Path('/root/.fastai/data/mnist_png/training/1'),Path('/root/.fastai/data/mnist_png/training/9'),Path('/root/.fastai/data/mnist_png/training/7'),Path('/root/.fastai/data/mnist_png/training/5'),Path('/root/.fastai/data/mnist_png/training/3'),Path('/root/.fastai/data/mnist_png/training/4'),Path('/root/.fastai/data/mnist_png/training/8'),Path('/root/.fastai/data/mnist_png/training/0')]"
            ]
          },
          "metadata": {
            "tags": []
          },
          "execution_count": 41
        }
      ]
    },
    {
      "cell_type": "code",
      "metadata": {
        "id": "usV2DbSkaEy6"
      },
      "source": [
        "def get_dls(bs = 64):\n",
        "    return DataBlock(blocks = (ImageBlock(cls=PILImageBW), CategoryBlock),\n",
        "              get_items = get_image_files,\n",
        "              splitter = GrandparentSplitter('training', 'testing'),\n",
        "              get_y = parent_label,\n",
        "              batch_tfms = Normalize()).dataloaders(path, bs = bs)"
      ],
      "execution_count": 37,
      "outputs": []
    },
    {
      "cell_type": "code",
      "metadata": {
        "id": "VxYPB89KaxEr"
      },
      "source": [
        "dls = get_dls()"
      ],
      "execution_count": 38,
      "outputs": []
    },
    {
      "cell_type": "code",
      "metadata": {
        "colab": {
          "base_uri": "https://localhost:8080/",
          "height": 536
        },
        "id": "B-h2UoxSa8TD",
        "outputId": "86176504-2429-4121-be4b-14c8b251069f"
      },
      "source": [
        "dls.show_batch()"
      ],
      "execution_count": 39,
      "outputs": [
        {
          "output_type": "display_data",
          "data": {
            "image/png": "[encoded data removed]",
            "text/plain": [
              "<Figure size 648x648 with 9 Axes>"
            ]
          },
          "metadata": {
            "tags": [],
            "needs_background": "light"
          }
        }
      ]
    },
    {
      "cell_type": "code",
      "metadata": {
        "id": "RvPMb1C_c5mU"
      },
      "source": [
        "def simple_cnn():\n",
        "    return sequential(\n",
        "        conv(1 ,8, ks=5),        #14x14\n",
        "        conv(8 ,16),             #7x7\n",
        "        conv(16,32),             #4x4\n",
        "        conv(32,64),             #2x2\n",
        "        conv(64,10, act=False),  #1x1\n",
        "        Flatten(),\n",
        "    )\n",
        "# Why did we make the network bigger?\n",
        "# This time we have to \"learn\" more numbers, so at first we increase the number of filters\n",
        "# Why do we increase the ks at the first layer?\n",
        "# Before we had a ks=3 for 4 filters. This meant that from 3x3=9 pixels we were learning 4 stuff. \n",
        "# But with a ks=3 for 8 filters we are not learning anything. The NN will simply copy the pixels\n",
        "# Therefore we have a ks=5 to force the NN to learn from 5*5=25 pixels 8 stuff.\n",
        "# Why only for the first layer?"
      ],
      "execution_count": 42,
      "outputs": []
    },
    {
      "cell_type": "markdown",
      "metadata": {
        "id": "WVeYKnB1jaFC"
      },
      "source": [
        "Let's analyse the above comments in more detail:  \n",
        "Before we had 1, 4, 3, 3 => This meant we have 1 input layer (constant before and currently), 4 channel outputs and a kernel of size 3x3 applied on the input.  \n",
        "This meant that we had essentially 4 3x3 kernels applied to our input, each one of them returning 1 value from every 9 input values (pixels).   \n",
        "\n",
        "In the new configuration we would have 1, 8, 3, 3\n",
        "This meant that we have 8 3x3 kernels applied to our input and each one of them returning 1 value from every 9 input values (pixels).\n",
        "\n",
        "??? I am not sure why is that neccessarily bad. It is true that we are deriving 8 values from 9 input values but I don't undestand why the NN will not learn anything...\n",
        "\n",
        "### Apparently in order for the network to learn it needs to condense information...\n",
        "\n",
        "\n"
      ]
    },
    {
      "cell_type": "code",
      "metadata": {
        "id": "0BJ52-begsnr"
      },
      "source": [
        "from fastai.callback.hook import *"
      ],
      "execution_count": 43,
      "outputs": []
    },
    {
      "cell_type": "code",
      "metadata": {
        "colab": {
          "base_uri": "https://localhost:8080/",
          "height": 134
        },
        "id": "csrmreyEe57a",
        "outputId": "51409e35-5aa3-4965-d631-1fd510b34251"
      },
      "source": [
        "def fit(epochs=1):\n",
        "    learn = Learner(dls, simple_cnn(), loss_func=F.cross_entropy,\n",
        "                    metrics=accuracy, cbs=ActivationStats(with_hist=True))\n",
        "    learn.fit(epochs, 0.06)\n",
        "    return learn\n",
        "\n",
        "learn = fit()"
      ],
      "execution_count": 44,
      "outputs": [
        {
          "output_type": "stream",
          "text": [
            "/usr/local/lib/python3.7/dist-packages/fastai/callback/core.py:50: UserWarning: You are shadowing an attribute (modules) that exists in the learner. Use `self.learn.modules` to avoid this\n",
            "  warn(f\"You are shadowing an attribute ({name}) that exists in the learner. Use `self.learn.{name}` to avoid this\")\n"
          ],
          "name": "stderr"
        },
        {
          "output_type": "display_data",
          "data": {
            "text/html": [
              "<table border=\"1\" class=\"dataframe\">\n",
              "  <thead>\n",
              "    <tr style=\"text-align: left;\">\n",
              "      <th>epoch</th>\n",
              "      <th>train_loss</th>\n",
              "      <th>valid_loss</th>\n",
              "      <th>accuracy</th>\n",
              "      <th>time</th>\n",
              "    </tr>\n",
              "  </thead>\n",
              "  <tbody>\n",
              "    <tr>\n",
              "      <td>0</td>\n",
              "      <td>2.305551</td>\n",
              "      <td>2.303992</td>\n",
              "      <td>0.100900</td>\n",
              "      <td>01:01</td>\n",
              "    </tr>\n",
              "  </tbody>\n",
              "</table>"
            ],
            "text/plain": [
              "<IPython.core.display.HTML object>"
            ]
          },
          "metadata": {
            "tags": []
          }
        }
      ]
    },
    {
      "cell_type": "code",
      "metadata": {
        "colab": {
          "base_uri": "https://localhost:8080/",
          "height": 227
        },
        "id": "E4K2S8zBg1vD",
        "outputId": "ed07e412-a64f-4898-98ea-768eb73ec0f9"
      },
      "source": [
        "learn.activation_stats.plot_layer_stats(0)"
      ],
      "execution_count": 45,
      "outputs": [
        {
          "output_type": "display_data",
          "data": {
            "image/png": "[encoded data removed]",
            "text/plain": [
              "<Figure size 864x216 with 3 Axes>"
            ]
          },
          "metadata": {
            "tags": [],
            "needs_background": "light"
          }
        }
      ]
    },
    {
      "cell_type": "code",
      "metadata": {
        "colab": {
          "base_uri": "https://localhost:8080/",
          "height": 227
        },
        "id": "m5AxofkhhlS0",
        "outputId": "0f293562-20a6-420e-8f3a-b9eb6a1adcad"
      },
      "source": [
        "learn.activation_stats.plot_layer_stats(-2)"
      ],
      "execution_count": 46,
      "outputs": [
        {
          "output_type": "display_data",
          "data": {
            "image/png": "[encoded data removed]",
            "text/plain": [
              "<Figure size 864x216 with 3 Axes>"
            ]
          },
          "metadata": {
            "tags": [],
            "needs_background": "light"
          }
        }
      ]
    },
    {
      "cell_type": "code",
      "metadata": {
        "id": "WU6ShH69hoQk"
      },
      "source": [
        "# The activations that are close to 0 is almost 100% in the end and therefore \n",
        "#the NN fails to train correctly"
      ],
      "execution_count": 47,
      "outputs": []
    },
    {
      "cell_type": "code",
      "metadata": {
        "colab": {
          "base_uri": "https://localhost:8080/",
          "height": 134
        },
        "id": "G3zYiuDghw0X",
        "outputId": "aaa6cbe9-4a07-4f90-d685-231bf9358532"
      },
      "source": [
        "dls = get_dls(512)\n",
        "learn = fit()"
      ],
      "execution_count": 48,
      "outputs": [
        {
          "output_type": "stream",
          "text": [
            "/usr/local/lib/python3.7/dist-packages/fastai/callback/core.py:50: UserWarning: You are shadowing an attribute (modules) that exists in the learner. Use `self.learn.modules` to avoid this\n",
            "  warn(f\"You are shadowing an attribute ({name}) that exists in the learner. Use `self.learn.{name}` to avoid this\")\n"
          ],
          "name": "stderr"
        },
        {
          "output_type": "display_data",
          "data": {
            "text/html": [
              "<table border=\"1\" class=\"dataframe\">\n",
              "  <thead>\n",
              "    <tr style=\"text-align: left;\">\n",
              "      <th>epoch</th>\n",
              "      <th>train_loss</th>\n",
              "      <th>valid_loss</th>\n",
              "      <th>accuracy</th>\n",
              "      <th>time</th>\n",
              "    </tr>\n",
              "  </thead>\n",
              "  <tbody>\n",
              "    <tr>\n",
              "      <td>0</td>\n",
              "      <td>2.339775</td>\n",
              "      <td>2.303016</td>\n",
              "      <td>0.102800</td>\n",
              "      <td>00:51</td>\n",
              "    </tr>\n",
              "  </tbody>\n",
              "</table>"
            ],
            "text/plain": [
              "<IPython.core.display.HTML object>"
            ]
          },
          "metadata": {
            "tags": []
          }
        }
      ]
    },
    {
      "cell_type": "code",
      "metadata": {
        "colab": {
          "base_uri": "https://localhost:8080/",
          "height": 134
        },
        "id": "oBHJILZMjTFC",
        "outputId": "39a0b4fe-302f-49ac-911c-c9a9a46ab996"
      },
      "source": [
        "def fit(epochs=1, lr=0.06):\n",
        "    learn = Learner(dls, simple_cnn(), loss_func=F.cross_entropy,\n",
        "                    metrics=accuracy, cbs=ActivationStats(with_hist=True))\n",
        "    learn.fit_one_cycle(epochs, lr)\n",
        "    return learn\n",
        "\n",
        "learn = fit()"
      ],
      "execution_count": 49,
      "outputs": [
        {
          "output_type": "stream",
          "text": [
            "/usr/local/lib/python3.7/dist-packages/fastai/callback/core.py:50: UserWarning: You are shadowing an attribute (modules) that exists in the learner. Use `self.learn.modules` to avoid this\n",
            "  warn(f\"You are shadowing an attribute ({name}) that exists in the learner. Use `self.learn.{name}` to avoid this\")\n"
          ],
          "name": "stderr"
        },
        {
          "output_type": "display_data",
          "data": {
            "text/html": [
              "<table border=\"1\" class=\"dataframe\">\n",
              "  <thead>\n",
              "    <tr style=\"text-align: left;\">\n",
              "      <th>epoch</th>\n",
              "      <th>train_loss</th>\n",
              "      <th>valid_loss</th>\n",
              "      <th>accuracy</th>\n",
              "      <th>time</th>\n",
              "    </tr>\n",
              "  </thead>\n",
              "  <tbody>\n",
              "    <tr>\n",
              "      <td>0</td>\n",
              "      <td>0.206133</td>\n",
              "      <td>0.072099</td>\n",
              "      <td>0.976800</td>\n",
              "      <td>00:51</td>\n",
              "    </tr>\n",
              "  </tbody>\n",
              "</table>"
            ],
            "text/plain": [
              "<IPython.core.display.HTML object>"
            ]
          },
          "metadata": {
            "tags": []
          }
        }
      ]
    },
    {
      "cell_type": "code",
      "metadata": {
        "id": "T8N61z6Mjdz1"
      },
      "source": [
        "??learn.fit_one_cycle"
      ],
      "execution_count": 52,
      "outputs": []
    },
    {
      "cell_type": "code",
      "metadata": {
        "colab": {
          "base_uri": "https://localhost:8080/",
          "height": 265
        },
        "id": "tX23oFESBNkM",
        "outputId": "abcbefd5-6145-4650-8502-2b19315924f4"
      },
      "source": [
        "learn.recorder.plot_sched()"
      ],
      "execution_count": 53,
      "outputs": [
        {
          "output_type": "display_data",
          "data": {
            "image/png": "[encoded data removed]",
            "text/plain": [
              "<Figure size 864x288 with 2 Axes>"
            ]
          },
          "metadata": {
            "tags": [],
            "needs_background": "light"
          }
        }
      ]
    },
    {
      "cell_type": "code",
      "metadata": {
        "id": "fOBLvEk_Bfqx"
      },
      "source": [
        "??learn.recorder.plot_sched()"
      ],
      "execution_count": 54,
      "outputs": []
    },
    {
      "cell_type": "code",
      "metadata": {
        "colab": {
          "base_uri": "https://localhost:8080/",
          "height": 227
        },
        "id": "aKXjHGRVC0I6",
        "outputId": "d21a32cf-c43e-44ac-ef0a-7172e6e631b9"
      },
      "source": [
        "learn.activation_stats.plot_layer_stats(-2)"
      ],
      "execution_count": 55,
      "outputs": [
        {
          "output_type": "display_data",
          "data": {
            "image/png": "[encoded data removed]",
            "text/plain": [
              "<Figure size 864x216 with 3 Axes>"
            ]
          },
          "metadata": {
            "tags": [],
            "needs_background": "light"
          }
        }
      ]
    },
    {
      "cell_type": "code",
      "metadata": {
        "id": "h5oOr18ipCy5",
        "outputId": "522c2353-6664-4e7a-8c15-930b6965297d",
        "colab": {
          "base_uri": "https://localhost:8080/",
          "height": 222
        }
      },
      "source": [
        "learn.activation_stats.color_dim(-2)"
      ],
      "execution_count": 56,
      "outputs": [
        {
          "output_type": "display_data",
          "data": {
            "image/png": "[encoded data removed]",
            "text/plain": [
              "<Figure size 720x360 with 1 Axes>"
            ]
          },
          "metadata": {
            "tags": [],
            "needs_background": "light"
          }
        }
      ]
    },
    {
      "cell_type": "code",
      "metadata": {
        "id": "qw029lgbqXXF"
      },
      "source": [
        "def conv(ni, nf, ks=3, act = True):\n",
        "    layers = [nn.Conv2d(ni, nf, stride=2, kernel_size=ks, padding=ks//2)]\n",
        "    layers.append(nn.BatchNorm2d(nf))\n",
        "    if act: layers.append(nn.ReLU())\n",
        "    return nn.Sequential(*layers)"
      ],
      "execution_count": 57,
      "outputs": []
    },
    {
      "cell_type": "code",
      "metadata": {
        "id": "HkJXgu4HqtsM",
        "outputId": "221d7085-cec0-494c-f01c-c36ece6639c0",
        "colab": {
          "base_uri": "https://localhost:8080/",
          "height": 134
        }
      },
      "source": [
        "learn = fit()"
      ],
      "execution_count": 58,
      "outputs": [
        {
          "output_type": "stream",
          "text": [
            "/usr/local/lib/python3.7/dist-packages/fastai/callback/core.py:50: UserWarning: You are shadowing an attribute (modules) that exists in the learner. Use `self.learn.modules` to avoid this\n",
            "  warn(f\"You are shadowing an attribute ({name}) that exists in the learner. Use `self.learn.{name}` to avoid this\")\n"
          ],
          "name": "stderr"
        },
        {
          "output_type": "display_data",
          "data": {
            "text/html": [
              "<table border=\"1\" class=\"dataframe\">\n",
              "  <thead>\n",
              "    <tr style=\"text-align: left;\">\n",
              "      <th>epoch</th>\n",
              "      <th>train_loss</th>\n",
              "      <th>valid_loss</th>\n",
              "      <th>accuracy</th>\n",
              "      <th>time</th>\n",
              "    </tr>\n",
              "  </thead>\n",
              "  <tbody>\n",
              "    <tr>\n",
              "      <td>0</td>\n",
              "      <td>0.132217</td>\n",
              "      <td>0.056823</td>\n",
              "      <td>0.986300</td>\n",
              "      <td>00:54</td>\n",
              "    </tr>\n",
              "  </tbody>\n",
              "</table>"
            ],
            "text/plain": [
              "<IPython.core.display.HTML object>"
            ]
          },
          "metadata": {
            "tags": []
          }
        }
      ]
    }
  ]
}