{
  "nbformat": 4,
  "nbformat_minor": 0,
  "metadata": {
    "colab": {
      "name": "Pytorch notes",
      "provenance": [],
      "authorship_tag": "ABX9TyNELHOM3Z6YygIECCGy6RtW",
      "include_colab_link": true
    },
    "kernelspec": {
      "name": "python3",
      "display_name": "Python 3"
    },
    "accelerator": "GPU"
  },
  "cells": [
    {
      "cell_type": "markdown",
      "metadata": {
        "id": "view-in-github",
        "colab_type": "text"
      },
      "source": [
        "<a href=\"https://colab.research.google.com/github/george-kan/fastai/blob/main/Pytorch_notes.ipynb\" target=\"_parent\"><img src=\"https://colab.research.google.com/assets/colab-badge.svg\" alt=\"Open In Colab\"/></a>"
      ]
    },
    {
      "cell_type": "code",
      "metadata": {
        "colab": {
          "base_uri": "https://localhost:8080/",
          "height": 1000
        },
        "id": "NAVwHRtpUwzc",
        "outputId": "202cc91a-61c5-435b-e925-c6fc73d72d6a"
      },
      "source": [
        "!pip install --upgrade fastai"
      ],
      "execution_count": 5,
      "outputs": [
        {
          "output_type": "stream",
          "text": [
            "Collecting fastai\n",
            "\u001b[?25l  Downloading https://files.pythonhosted.org/packages/79/50/0b81742909d433ef5b67b4417597b41cd37b38a073714bc83dc150c81b2f/fastai-2.2.7-py3-none-any.whl (193kB)\n",
            "\u001b[K     |████████████████████████████████| 194kB 5.4MB/s \n",
            "\u001b[?25hRequirement already satisfied, skipping upgrade: scikit-learn in /usr/local/lib/python3.7/dist-packages (from fastai) (0.22.2.post1)\n",
            "Requirement already satisfied, skipping upgrade: pip in /usr/local/lib/python3.7/dist-packages (from fastai) (19.3.1)\n",
            "Requirement already satisfied, skipping upgrade: pandas in /usr/local/lib/python3.7/dist-packages (from fastai) (1.1.5)\n",
            "Collecting torch<1.8,>=1.7.0\n",
            "\u001b[?25l  Downloading https://files.pythonhosted.org/packages/90/5d/095ddddc91c8a769a68c791c019c5793f9c4456a688ddd235d6670924ecb/torch-1.7.1-cp37-cp37m-manylinux1_x86_64.whl (776.8MB)\n",
            "\u001b[K     |████████████████████████████████| 776.8MB 20kB/s \n",
            "\u001b[?25hCollecting torchvision<0.9,>=0.8\n",
            "\u001b[?25l  Downloading https://files.pythonhosted.org/packages/94/df/969e69a94cff1c8911acb0688117f95e1915becc1e01c73e7960a2c76ec8/torchvision-0.8.2-cp37-cp37m-manylinux1_x86_64.whl (12.8MB)\n",
            "\u001b[K     |████████████████████████████████| 12.8MB 234kB/s \n",
            "\u001b[?25hRequirement already satisfied, skipping upgrade: spacy<3 in /usr/local/lib/python3.7/dist-packages (from fastai) (2.2.4)\n",
            "Collecting fastcore<1.4,>=1.3.8\n",
            "\u001b[?25l  Downloading https://files.pythonhosted.org/packages/0c/98/60404e2817cff113a6ae4023bc1772e23179408fdf7857fa410551758dfe/fastcore-1.3.19-py3-none-any.whl (53kB)\n",
            "\u001b[K     |████████████████████████████████| 61kB 7.0MB/s \n",
            "\u001b[?25hRequirement already satisfied, skipping upgrade: pyyaml in /usr/local/lib/python3.7/dist-packages (from fastai) (3.13)\n",
            "Requirement already satisfied, skipping upgrade: requests in /usr/local/lib/python3.7/dist-packages (from fastai) (2.23.0)\n",
            "Requirement already satisfied, skipping upgrade: matplotlib in /usr/local/lib/python3.7/dist-packages (from fastai) (3.2.2)\n",
            "Requirement already satisfied, skipping upgrade: scipy in /usr/local/lib/python3.7/dist-packages (from fastai) (1.4.1)\n",
            "Requirement already satisfied, skipping upgrade: pillow>6.0.0 in /usr/local/lib/python3.7/dist-packages (from fastai) (7.0.0)\n",
            "Requirement already satisfied, skipping upgrade: packaging in /usr/local/lib/python3.7/dist-packages (from fastai) (20.9)\n",
            "Requirement already satisfied, skipping upgrade: fastprogress>=0.2.4 in /usr/local/lib/python3.7/dist-packages (from fastai) (1.0.0)\n",
            "Requirement already satisfied, skipping upgrade: joblib>=0.11 in /usr/local/lib/python3.7/dist-packages (from scikit-learn->fastai) (1.0.1)\n",
            "Requirement already satisfied, skipping upgrade: numpy>=1.11.0 in /usr/local/lib/python3.7/dist-packages (from scikit-learn->fastai) (1.19.5)\n",
            "Requirement already satisfied, skipping upgrade: pytz>=2017.2 in /usr/local/lib/python3.7/dist-packages (from pandas->fastai) (2018.9)\n",
            "Requirement already satisfied, skipping upgrade: python-dateutil>=2.7.3 in /usr/local/lib/python3.7/dist-packages (from pandas->fastai) (2.8.1)\n",
            "Requirement already satisfied, skipping upgrade: typing-extensions in /usr/local/lib/python3.7/dist-packages (from torch<1.8,>=1.7.0->fastai) (3.7.4.3)\n",
            "Requirement already satisfied, skipping upgrade: wasabi<1.1.0,>=0.4.0 in /usr/local/lib/python3.7/dist-packages (from spacy<3->fastai) (0.8.2)\n",
            "Requirement already satisfied, skipping upgrade: thinc==7.4.0 in /usr/local/lib/python3.7/dist-packages (from spacy<3->fastai) (7.4.0)\n",
            "Requirement already satisfied, skipping upgrade: preshed<3.1.0,>=3.0.2 in /usr/local/lib/python3.7/dist-packages (from spacy<3->fastai) (3.0.5)\n",
            "Requirement already satisfied, skipping upgrade: catalogue<1.1.0,>=0.0.7 in /usr/local/lib/python3.7/dist-packages (from spacy<3->fastai) (1.0.0)\n",
            "Requirement already satisfied, skipping upgrade: blis<0.5.0,>=0.4.0 in /usr/local/lib/python3.7/dist-packages (from spacy<3->fastai) (0.4.1)\n",
            "Requirement already satisfied, skipping upgrade: murmurhash<1.1.0,>=0.28.0 in /usr/local/lib/python3.7/dist-packages (from spacy<3->fastai) (1.0.5)\n",
            "Requirement already satisfied, skipping upgrade: cymem<2.1.0,>=2.0.2 in /usr/local/lib/python3.7/dist-packages (from spacy<3->fastai) (2.0.5)\n",
            "Requirement already satisfied, skipping upgrade: setuptools in /usr/local/lib/python3.7/dist-packages (from spacy<3->fastai) (54.0.0)\n",
            "Requirement already satisfied, skipping upgrade: srsly<1.1.0,>=1.0.2 in /usr/local/lib/python3.7/dist-packages (from spacy<3->fastai) (1.0.5)\n",
            "Requirement already satisfied, skipping upgrade: tqdm<5.0.0,>=4.38.0 in /usr/local/lib/python3.7/dist-packages (from spacy<3->fastai) (4.41.1)\n",
            "Requirement already satisfied, skipping upgrade: plac<1.2.0,>=0.9.6 in /usr/local/lib/python3.7/dist-packages (from spacy<3->fastai) (1.1.3)\n",
            "Requirement already satisfied, skipping upgrade: urllib3!=1.25.0,!=1.25.1,<1.26,>=1.21.1 in /usr/local/lib/python3.7/dist-packages (from requests->fastai) (1.24.3)\n",
            "Requirement already satisfied, skipping upgrade: certifi>=2017.4.17 in /usr/local/lib/python3.7/dist-packages (from requests->fastai) (2020.12.5)\n",
            "Requirement already satisfied, skipping upgrade: chardet<4,>=3.0.2 in /usr/local/lib/python3.7/dist-packages (from requests->fastai) (3.0.4)\n",
            "Requirement already satisfied, skipping upgrade: idna<3,>=2.5 in /usr/local/lib/python3.7/dist-packages (from requests->fastai) (2.10)\n",
            "Requirement already satisfied, skipping upgrade: cycler>=0.10 in /usr/local/lib/python3.7/dist-packages (from matplotlib->fastai) (0.10.0)\n",
            "Requirement already satisfied, skipping upgrade: pyparsing!=2.0.4,!=2.1.2,!=2.1.6,>=2.0.1 in /usr/local/lib/python3.7/dist-packages (from matplotlib->fastai) (2.4.7)\n",
            "Requirement already satisfied, skipping upgrade: kiwisolver>=1.0.1 in /usr/local/lib/python3.7/dist-packages (from matplotlib->fastai) (1.3.1)\n",
            "Requirement already satisfied, skipping upgrade: six>=1.5 in /usr/local/lib/python3.7/dist-packages (from python-dateutil>=2.7.3->pandas->fastai) (1.15.0)\n",
            "Requirement already satisfied, skipping upgrade: importlib-metadata>=0.20; python_version < \"3.8\" in /usr/local/lib/python3.7/dist-packages (from catalogue<1.1.0,>=0.0.7->spacy<3->fastai) (3.7.2)\n",
            "Requirement already satisfied, skipping upgrade: zipp>=0.5 in /usr/local/lib/python3.7/dist-packages (from importlib-metadata>=0.20; python_version < \"3.8\"->catalogue<1.1.0,>=0.0.7->spacy<3->fastai) (3.4.1)\n",
            "\u001b[31mERROR: torchtext 0.9.0 has requirement torch==1.8.0, but you'll have torch 1.7.1 which is incompatible.\u001b[0m\n",
            "Installing collected packages: torch, torchvision, fastcore, fastai\n",
            "  Found existing installation: torch 1.8.0+cu101\n",
            "    Uninstalling torch-1.8.0+cu101:\n",
            "      Successfully uninstalled torch-1.8.0+cu101\n",
            "  Found existing installation: torchvision 0.9.0+cu101\n",
            "    Uninstalling torchvision-0.9.0+cu101:\n",
            "      Successfully uninstalled torchvision-0.9.0+cu101\n",
            "  Found existing installation: fastai 1.0.61\n",
            "    Uninstalling fastai-1.0.61:\n",
            "      Successfully uninstalled fastai-1.0.61\n",
            "Successfully installed fastai-2.2.7 fastcore-1.3.19 torch-1.7.1 torchvision-0.8.2\n"
          ],
          "name": "stdout"
        },
        {
          "output_type": "display_data",
          "data": {
            "application/vnd.colab-display-data+json": {
              "pip_warning": {
                "packages": [
                  "fastai",
                  "torch",
                  "torchvision"
                ]
              }
            }
          },
          "metadata": {
            "tags": []
          }
        }
      ]
    },
    {
      "cell_type": "code",
      "metadata": {
        "id": "AF9vXqKwTvmM"
      },
      "source": [
        "from fastai import *\r\n",
        "from fastai.vision.all import *"
      ],
      "execution_count": 1,
      "outputs": []
    },
    {
      "cell_type": "code",
      "metadata": {
        "colab": {
          "base_uri": "https://localhost:8080/",
          "height": 17
        },
        "id": "K8NLxmpDT2aU",
        "outputId": "c11bc942-0288-4946-c85e-80ba61cf27ec"
      },
      "source": [
        "path = untar_data(URLs.IMAGENETTE_160)\r\n",
        "path.ls()"
      ],
      "execution_count": 2,
      "outputs": [
        {
          "output_type": "display_data",
          "data": {
            "text/html": [
              ""
            ],
            "text/plain": [
              "<IPython.core.display.HTML object>"
            ]
          },
          "metadata": {
            "tags": []
          }
        }
      ]
    },
    {
      "cell_type": "code",
      "metadata": {
        "colab": {
          "base_uri": "https://localhost:8080/"
        },
        "id": "LoEefpzlXJ4x",
        "outputId": "ff26bc04-eb5e-4610-c704-d27622997e9f"
      },
      "source": [
        "path.ls()"
      ],
      "execution_count": 18,
      "outputs": [
        {
          "output_type": "execute_result",
          "data": {
            "text/plain": [
              "(#4) [Path('/root/.fastai/data/imagenette2-160/noisy_imagenette.csv'),Path('/root/.fastai/data/imagenette2-160/.DS_Store'),Path('/root/.fastai/data/imagenette2-160/train'),Path('/root/.fastai/data/imagenette2-160/val')]"
            ]
          },
          "metadata": {
            "tags": []
          },
          "execution_count": 18
        }
      ]
    },
    {
      "cell_type": "code",
      "metadata": {
        "colab": {
          "base_uri": "https://localhost:8080/"
        },
        "id": "4KWk55b5VyGk",
        "outputId": "9d0de9c2-240a-48bb-e659-ea369956184a"
      },
      "source": [
        "(path/'train'/'n03417042').ls()"
      ],
      "execution_count": 17,
      "outputs": [
        {
          "output_type": "execute_result",
          "data": {
            "text/plain": [
              "(#961) [Path('/root/.fastai/data/imagenette2-160/train/n03417042/n03417042_12168.JPEG'),Path('/root/.fastai/data/imagenette2-160/train/n03417042/n03417042_12235.JPEG'),Path('/root/.fastai/data/imagenette2-160/train/n03417042/n03417042_17037.JPEG'),Path('/root/.fastai/data/imagenette2-160/train/n03417042/n03417042_3107.JPEG'),Path('/root/.fastai/data/imagenette2-160/train/n03417042/n03417042_23445.JPEG'),Path('/root/.fastai/data/imagenette2-160/train/n03417042/n03417042_15484.JPEG'),Path('/root/.fastai/data/imagenette2-160/train/n03417042/n03417042_4238.JPEG'),Path('/root/.fastai/data/imagenette2-160/train/n03417042/n03417042_10796.JPEG'),Path('/root/.fastai/data/imagenette2-160/train/n03417042/n03417042_21705.JPEG'),Path('/root/.fastai/data/imagenette2-160/train/n03417042/n03417042_28584.JPEG')...]"
            ]
          },
          "metadata": {
            "tags": []
          },
          "execution_count": 17
        }
      ]
    },
    {
      "cell_type": "code",
      "metadata": {
        "colab": {
          "base_uri": "https://localhost:8080/"
        },
        "id": "tfrUW57KahD7",
        "outputId": "61aa5d77-a257-4aa6-d354-53a5ee1f8566"
      },
      "source": [
        "train_path = path/'train'\r\n",
        "[img for img in train_path.ls()]"
      ],
      "execution_count": 24,
      "outputs": [
        {
          "output_type": "execute_result",
          "data": {
            "text/plain": [
              "[Path('/root/.fastai/data/imagenette2-160/train/n03417042'),\n",
              " Path('/root/.fastai/data/imagenette2-160/train/n03425413'),\n",
              " Path('/root/.fastai/data/imagenette2-160/train/.DS_Store'),\n",
              " Path('/root/.fastai/data/imagenette2-160/train/n02979186'),\n",
              " Path('/root/.fastai/data/imagenette2-160/train/n02102040'),\n",
              " Path('/root/.fastai/data/imagenette2-160/train/n01440764'),\n",
              " Path('/root/.fastai/data/imagenette2-160/train/n03394916'),\n",
              " Path('/root/.fastai/data/imagenette2-160/train/n03028079'),\n",
              " Path('/root/.fastai/data/imagenette2-160/train/n03888257'),\n",
              " Path('/root/.fastai/data/imagenette2-160/train/n03000684'),\n",
              " Path('/root/.fastai/data/imagenette2-160/train/n03445777')]"
            ]
          },
          "metadata": {
            "tags": []
          },
          "execution_count": 24
        }
      ]
    },
    {
      "cell_type": "code",
      "metadata": {
        "colab": {
          "base_uri": "https://localhost:8080/",
          "height": 35
        },
        "id": "eqRMRM88cUTT",
        "outputId": "8787c2e2-d0b9-4d66-ad48-43de483740ca"
      },
      "source": [
        "import re\r\n",
        "re.sub('.*/', '', '/root/.fastai/data/imagenette2-160/train/n03417042')"
      ],
      "execution_count": 26,
      "outputs": [
        {
          "output_type": "execute_result",
          "data": {
            "application/vnd.google.colaboratory.intrinsic+json": {
              "type": "string"
            },
            "text/plain": [
              "'n03417042'"
            ]
          },
          "metadata": {
            "tags": []
          },
          "execution_count": 26
        }
      ]
    },
    {
      "cell_type": "code",
      "metadata": {
        "id": "LZRpeL0AbpU2"
      },
      "source": [
        "def get_folder_data(path):\r\n",
        "    label = re.sub('.*/', '', str(path))\r\n",
        "    return path.ls(), [label]*len(path.ls())"
      ],
      "execution_count": 43,
      "outputs": []
    },
    {
      "cell_type": "code",
      "metadata": {
        "id": "M8tO-T12d3I5"
      },
      "source": [
        "list(get_folder_data((path/'train/n03445777')))"
      ],
      "execution_count": null,
      "outputs": []
    },
    {
      "cell_type": "code",
      "metadata": {
        "colab": {
          "base_uri": "https://localhost:8080/",
          "height": 35
        },
        "id": "FkmjFzTeeJyq",
        "outputId": "a2648c62-299a-42d1-a875-95944deb31cc"
      },
      "source": [
        "label = re.sub('.*/', '', str((path/'train/n03445777')))\r\n",
        "label"
      ],
      "execution_count": 37,
      "outputs": [
        {
          "output_type": "execute_result",
          "data": {
            "application/vnd.google.colaboratory.intrinsic+json": {
              "type": "string"
            },
            "text/plain": [
              "'n03445777'"
            ]
          },
          "metadata": {
            "tags": []
          },
          "execution_count": 37
        }
      ]
    },
    {
      "cell_type": "code",
      "metadata": {
        "colab": {
          "base_uri": "https://localhost:8080/"
        },
        "id": "TH1wvPL6efXs",
        "outputId": "9575a197-a226-4fbf-c2f9-c718c5767d3d"
      },
      "source": [
        "len((path/'train/n03445777').ls())"
      ],
      "execution_count": 38,
      "outputs": [
        {
          "output_type": "execute_result",
          "data": {
            "text/plain": [
              "951"
            ]
          },
          "metadata": {
            "tags": []
          },
          "execution_count": 38
        }
      ]
    },
    {
      "cell_type": "code",
      "metadata": {
        "colab": {
          "base_uri": "https://localhost:8080/",
          "height": 120
        },
        "id": "FxKIyxjZekRl",
        "outputId": "ddcaaf44-4b4b-444e-9331-4d6489235a8b"
      },
      "source": [
        "label*911"
      ],
      "execution_count": 39,
      "outputs": [
        {
          "output_type": "execute_result",
          "data": {
            "application/vnd.google.colaboratory.intrinsic+json": {
              "type": "string"
            },
            "text/plain": [
              "'n03445777n03445777n03445777n03445777n03445777n03445777n03445777n03445777n03445777n03445777n03445777n03445777n03445777n03445777n03445777n03445777n03445777n03445777n03445777n03445777n03445777n03445777n03445777n03445777n03445777n03445777n03445777n03445777n03445777n03445777n03445777n03445777n03445777n03445777n03445777n03445777n03445777n03445777n03445777n03445777n03445777n03445777n03445777n03445777n03445777n03445777n03445777n03445777n03445777n03445777n03445777n03445777n03445777n03445777n03445777n03445777n03445777n03445777n03445777n03445777n03445777n03445777n03445777n03445777n03445777n03445777n03445777n03445777n03445777n03445777n03445777n03445777n03445777n03445777n03445777n03445777n03445777n03445777n03445777n03445777n03445777n03445777n03445777n03445777n03445777n03445777n03445777n03445777n03445777n03445777n03445777n03445777n03445777n03445777n03445777n03445777n03445777n03445777n03445777n03445777n03445777n03445777n03445777n03445777n03445777n03445777n03445777n03445777n03445777n03445777n03445777n03445777n03445777n03445777n03445777n03445777n03445777n03445777n03445777n03445777n03445777n03445777n03445777n03445777n03445777n03445777n03445777n03445777n03445777n03445777n03445777n03445777n03445777n03445777n03445777n03445777n03445777n03445777n03445777n03445777n03445777n03445777n03445777n03445777n03445777n03445777n03445777n03445777n03445777n03445777n03445777n03445777n03445777n03445777n03445777n03445777n03445777n03445777n03445777n03445777n03445777n03445777n03445777n03445777n03445777n03445777n03445777n03445777n03445777n03445777n03445777n03445777n03445777n03445777n03445777n03445777n03445777n03445777n03445777n03445777n03445777n03445777n03445777n03445777n03445777n03445777n03445777n03445777n03445777n03445777n03445777n03445777n03445777n03445777n03445777n03445777n03445777n03445777n03445777n03445777n03445777n03445777n03445777n03445777n03445777n03445777n03445777n03445777n03445777n03445777n03445777n03445777n03445777n03445777n03445777n03445777n03445777n03445777n03445777n03445777n03445777n03445777n03445777n03445777n03445777n03445777n03445777n03445777n03445777n03445777n03445777n03445777n03445777n03445777n03445777n03445777n03445777n03445777n03445777n03445777n03445777n03445777n03445777n03445777n03445777n03445777n03445777n03445777n03445777n03445777n03445777n03445777n03445777n03445777n03445777n03445777n03445777n03445777n03445777n03445777n03445777n03445777n03445777n03445777n03445777n03445777n03445777n03445777n03445777n03445777n03445777n03445777n03445777n03445777n03445777n03445777n03445777n03445777n03445777n03445777n03445777n03445777n03445777n03445777n03445777n03445777n03445777n03445777n03445777n03445777n03445777n03445777n03445777n03445777n03445777n03445777n03445777n03445777n03445777n03445777n03445777n03445777n03445777n03445777n03445777n03445777n03445777n03445777n03445777n03445777n03445777n03445777n03445777n03445777n03445777n03445777n03445777n03445777n03445777n03445777n03445777n03445777n03445777n03445777n03445777n03445777n03445777n03445777n03445777n03445777n03445777n03445777n03445777n03445777n03445777n03445777n03445777n03445777n03445777n03445777n03445777n03445777n03445777n03445777n03445777n03445777n03445777n03445777n03445777n03445777n03445777n03445777n03445777n03445777n03445777n03445777n03445777n03445777n03445777n03445777n03445777n03445777n03445777n03445777n03445777n03445777n03445777n03445777n03445777n03445777n03445777n03445777n03445777n03445777n03445777n03445777n03445777n03445777n03445777n03445777n03445777n03445777n03445777n03445777n03445777n03445777n03445777n03445777n03445777n03445777n03445777n03445777n03445777n03445777n03445777n03445777n03445777n03445777n03445777n03445777n03445777n03445777n03445777n03445777n03445777n03445777n03445777n03445777n03445777n03445777n03445777n03445777n03445777n03445777n03445777n03445777n03445777n03445777n03445777n03445777n03445777n03445777n03445777n03445777n03445777n03445777n03445777n03445777n03445777n03445777n03445777n03445777n03445777n03445777n03445777n03445777n03445777n03445777n03445777n03445777n03445777n03445777n03445777n03445777n03445777n03445777n03445777n03445777n03445777n03445777n03445777n03445777n03445777n03445777n03445777n03445777n03445777n03445777n03445777n03445777n03445777n03445777n03445777n03445777n03445777n03445777n03445777n03445777n03445777n03445777n03445777n03445777n03445777n03445777n03445777n03445777n03445777n03445777n03445777n03445777n03445777n03445777n03445777n03445777n03445777n03445777n03445777n03445777n03445777n03445777n03445777n03445777n03445777n03445777n03445777n03445777n03445777n03445777n03445777n03445777n03445777n03445777n03445777n03445777n03445777n03445777n03445777n03445777n03445777n03445777n03445777n03445777n03445777n03445777n03445777n03445777n03445777n03445777n03445777n03445777n03445777n03445777n03445777n03445777n03445777n03445777n03445777n03445777n03445777n03445777n03445777n03445777n03445777n03445777n03445777n03445777n03445777n03445777n03445777n03445777n03445777n03445777n03445777n03445777n03445777n03445777n03445777n03445777n03445777n03445777n03445777n03445777n03445777n03445777n03445777n03445777n03445777n03445777n03445777n03445777n03445777n03445777n03445777n03445777n03445777n03445777n03445777n03445777n03445777n03445777n03445777n03445777n03445777n03445777n03445777n03445777n03445777n03445777n03445777n03445777n03445777n03445777n03445777n03445777n03445777n03445777n03445777n03445777n03445777n03445777n03445777n03445777n03445777n03445777n03445777n03445777n03445777n03445777n03445777n03445777n03445777n03445777n03445777n03445777n03445777n03445777n03445777n03445777n03445777n03445777n03445777n03445777n03445777n03445777n03445777n03445777n03445777n03445777n03445777n03445777n03445777n03445777n03445777n03445777n03445777n03445777n03445777n03445777n03445777n03445777n03445777n03445777n03445777n03445777n03445777n03445777n03445777n03445777n03445777n03445777n03445777n03445777n03445777n03445777n03445777n03445777n03445777n03445777n03445777n03445777n03445777n03445777n03445777n03445777n03445777n03445777n03445777n03445777n03445777n03445777n03445777n03445777n03445777n03445777n03445777n03445777n03445777n03445777n03445777n03445777n03445777n03445777n03445777n03445777n03445777n03445777n03445777n03445777n03445777n03445777n03445777n03445777n03445777n03445777n03445777n03445777n03445777n03445777n03445777n03445777n03445777n03445777n03445777n03445777n03445777n03445777n03445777n03445777n03445777n03445777n03445777n03445777n03445777n03445777n03445777n03445777n03445777n03445777n03445777n03445777n03445777n03445777n03445777n03445777n03445777n03445777n03445777n03445777n03445777n03445777n03445777n03445777n03445777n03445777n03445777n03445777n03445777n03445777n03445777n03445777n03445777n03445777n03445777n03445777n03445777n03445777n03445777n03445777n03445777n03445777n03445777n03445777n03445777n03445777n03445777n03445777n03445777n03445777n03445777n03445777n03445777n03445777n03445777n03445777n03445777n03445777n03445777n03445777n03445777n03445777n03445777n03445777n03445777n03445777n03445777n03445777n03445777n03445777n03445777n03445777n03445777n03445777n03445777n03445777n03445777n03445777n03445777n03445777n03445777n03445777n03445777n03445777n03445777n03445777n03445777n03445777n03445777n03445777n03445777n03445777n03445777n03445777n03445777n03445777n03445777n03445777n03445777n03445777n03445777n03445777n03445777n03445777n03445777n03445777n03445777n03445777n03445777n03445777n03445777n03445777n03445777n03445777n03445777n03445777n03445777n03445777n03445777n03445777n03445777n03445777n03445777n03445777n03445777n03445777n03445777n03445777n03445777n03445777n03445777n03445777n03445777n03445777n03445777n03445777n03445777n03445777n03445777n03445777n03445777n03445777n03445777n03445777n03445777n03445777n03445777n03445777n03445777n03445777n03445777n03445777n03445777n03445777n03445777n03445777n03445777n03445777n03445777n03445777n03445777n03445777n03445777n03445777n03445777n03445777n03445777n03445777n03445777n03445777n03445777n03445777n03445777n03445777n03445777n03445777n03445777n03445777n03445777n03445777n03445777n03445777n03445777n03445777n03445777n03445777n03445777n03445777n03445777n03445777n03445777n03445777n03445777n03445777n03445777n03445777n03445777n03445777n03445777n03445777n03445777n03445777n03445777n03445777n03445777n03445777n03445777n03445777n03445777n03445777n03445777n03445777n03445777'"
            ]
          },
          "metadata": {
            "tags": []
          },
          "execution_count": 39
        }
      ]
    },
    {
      "cell_type": "code",
      "metadata": {
        "id": "ohREt0hSZJNj"
      },
      "source": [
        "class myDatasetClass(img_path):\r\n",
        "    def __init__(self, img_path, transform=None, target_transform=None):\r\n",
        "        self.images = \r\n",
        "        self.transform = transform\r\n",
        "        self.target_transform = target_transform\r\n",
        "\r\n",
        "    def __len__(self):\r\n",
        "        return"
      ],
      "execution_count": null,
      "outputs": []
    },
    {
      "cell_type": "code",
      "metadata": {
        "colab": {
          "base_uri": "https://localhost:8080/"
        },
        "id": "u_j26g3Uc3f-",
        "outputId": "de2c556c-91d2-412e-f12b-94a05d965dd6"
      },
      "source": [
        "(path/'train/n03445777').ls()"
      ],
      "execution_count": 31,
      "outputs": [
        {
          "output_type": "execute_result",
          "data": {
            "text/plain": [
              "(#951) [Path('/root/.fastai/data/imagenette2-160/train/n03445777/ILSVRC2012_val_00031486.JPEG'),Path('/root/.fastai/data/imagenette2-160/train/n03445777/n03445777_9118.JPEG'),Path('/root/.fastai/data/imagenette2-160/train/n03445777/n03445777_10039.JPEG'),Path('/root/.fastai/data/imagenette2-160/train/n03445777/n03445777_12117.JPEG'),Path('/root/.fastai/data/imagenette2-160/train/n03445777/n03445777_743.JPEG'),Path('/root/.fastai/data/imagenette2-160/train/n03445777/n03445777_5665.JPEG'),Path('/root/.fastai/data/imagenette2-160/train/n03445777/n03445777_6038.JPEG'),Path('/root/.fastai/data/imagenette2-160/train/n03445777/n03445777_3927.JPEG'),Path('/root/.fastai/data/imagenette2-160/train/n03445777/n03445777_4475.JPEG'),Path('/root/.fastai/data/imagenette2-160/train/n03445777/n03445777_15388.JPEG')...]"
            ]
          },
          "metadata": {
            "tags": []
          },
          "execution_count": 31
        }
      ]
    }
  ]
}