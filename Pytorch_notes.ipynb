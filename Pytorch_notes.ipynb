{
  "nbformat": 4,
  "nbformat_minor": 0,
  "metadata": {
    "colab": {
      "name": "Pytorch notes",
      "provenance": [],
      "authorship_tag": "ABX9TyMkhPs7aRXj/zAEGPrt8CVb",
      "include_colab_link": true
    },
    "kernelspec": {
      "name": "python3",
      "display_name": "Python 3"
    },
    "accelerator": "GPU",
    "widgets": {
      "application/vnd.jupyter.widget-state+json": {
        "b50a89278c7d4a529998b621387e1de7": {
          "model_module": "@jupyter-widgets/controls",
          "model_name": "HBoxModel",
          "state": {
            "_view_name": "HBoxView",
            "_dom_classes": [],
            "_model_name": "HBoxModel",
            "_view_module": "@jupyter-widgets/controls",
            "_model_module_version": "1.5.0",
            "_view_count": null,
            "_view_module_version": "1.5.0",
            "box_style": "",
            "layout": "IPY_MODEL_a866c63fe67f49d0849ccc5f8f0dfa4e",
            "_model_module": "@jupyter-widgets/controls",
            "children": [
              "IPY_MODEL_c66edbdcdda249f6bab0f1a6d1d06b01",
              "IPY_MODEL_73ca8a2f2bf0456fb653687401498f40"
            ]
          }
        },
        "a866c63fe67f49d0849ccc5f8f0dfa4e": {
          "model_module": "@jupyter-widgets/base",
          "model_name": "LayoutModel",
          "state": {
            "_view_name": "LayoutView",
            "grid_template_rows": null,
            "right": null,
            "justify_content": null,
            "_view_module": "@jupyter-widgets/base",
            "overflow": null,
            "_model_module_version": "1.2.0",
            "_view_count": null,
            "flex_flow": null,
            "width": null,
            "min_width": null,
            "border": null,
            "align_items": null,
            "bottom": null,
            "_model_module": "@jupyter-widgets/base",
            "top": null,
            "grid_column": null,
            "overflow_y": null,
            "overflow_x": null,
            "grid_auto_flow": null,
            "grid_area": null,
            "grid_template_columns": null,
            "flex": null,
            "_model_name": "LayoutModel",
            "justify_items": null,
            "grid_row": null,
            "max_height": null,
            "align_content": null,
            "visibility": null,
            "align_self": null,
            "height": null,
            "min_height": null,
            "padding": null,
            "grid_auto_rows": null,
            "grid_gap": null,
            "max_width": null,
            "order": null,
            "_view_module_version": "1.2.0",
            "grid_template_areas": null,
            "object_position": null,
            "object_fit": null,
            "grid_auto_columns": null,
            "margin": null,
            "display": null,
            "left": null
          }
        },
        "c66edbdcdda249f6bab0f1a6d1d06b01": {
          "model_module": "@jupyter-widgets/controls",
          "model_name": "FloatProgressModel",
          "state": {
            "_view_name": "ProgressView",
            "style": "IPY_MODEL_06b8f4d75a7045008e72c4d5462d0fdf",
            "_dom_classes": [],
            "description": "100%",
            "_model_name": "FloatProgressModel",
            "bar_style": "success",
            "max": 108857766,
            "_view_module": "@jupyter-widgets/controls",
            "_model_module_version": "1.5.0",
            "value": 108857766,
            "_view_count": null,
            "_view_module_version": "1.5.0",
            "orientation": "horizontal",
            "min": 0,
            "description_tooltip": null,
            "_model_module": "@jupyter-widgets/controls",
            "layout": "IPY_MODEL_4a080c60bfcc4a8d81c75ff70a94be5b"
          }
        },
        "73ca8a2f2bf0456fb653687401498f40": {
          "model_module": "@jupyter-widgets/controls",
          "model_name": "HTMLModel",
          "state": {
            "_view_name": "HTMLView",
            "style": "IPY_MODEL_506f1ec7491f4c239265623137ed9a78",
            "_dom_classes": [],
            "description": "",
            "_model_name": "HTMLModel",
            "placeholder": "​",
            "_view_module": "@jupyter-widgets/controls",
            "_model_module_version": "1.5.0",
            "value": " 104M/104M [01:30&lt;00:00, 1.20MB/s]",
            "_view_count": null,
            "_view_module_version": "1.5.0",
            "description_tooltip": null,
            "_model_module": "@jupyter-widgets/controls",
            "layout": "IPY_MODEL_61c8b2d22e6041799acfac8c09958b80"
          }
        },
        "06b8f4d75a7045008e72c4d5462d0fdf": {
          "model_module": "@jupyter-widgets/controls",
          "model_name": "ProgressStyleModel",
          "state": {
            "_view_name": "StyleView",
            "_model_name": "ProgressStyleModel",
            "description_width": "initial",
            "_view_module": "@jupyter-widgets/base",
            "_model_module_version": "1.5.0",
            "_view_count": null,
            "_view_module_version": "1.2.0",
            "bar_color": null,
            "_model_module": "@jupyter-widgets/controls"
          }
        },
        "4a080c60bfcc4a8d81c75ff70a94be5b": {
          "model_module": "@jupyter-widgets/base",
          "model_name": "LayoutModel",
          "state": {
            "_view_name": "LayoutView",
            "grid_template_rows": null,
            "right": null,
            "justify_content": null,
            "_view_module": "@jupyter-widgets/base",
            "overflow": null,
            "_model_module_version": "1.2.0",
            "_view_count": null,
            "flex_flow": null,
            "width": null,
            "min_width": null,
            "border": null,
            "align_items": null,
            "bottom": null,
            "_model_module": "@jupyter-widgets/base",
            "top": null,
            "grid_column": null,
            "overflow_y": null,
            "overflow_x": null,
            "grid_auto_flow": null,
            "grid_area": null,
            "grid_template_columns": null,
            "flex": null,
            "_model_name": "LayoutModel",
            "justify_items": null,
            "grid_row": null,
            "max_height": null,
            "align_content": null,
            "visibility": null,
            "align_self": null,
            "height": null,
            "min_height": null,
            "padding": null,
            "grid_auto_rows": null,
            "grid_gap": null,
            "max_width": null,
            "order": null,
            "_view_module_version": "1.2.0",
            "grid_template_areas": null,
            "object_position": null,
            "object_fit": null,
            "grid_auto_columns": null,
            "margin": null,
            "display": null,
            "left": null
          }
        },
        "506f1ec7491f4c239265623137ed9a78": {
          "model_module": "@jupyter-widgets/controls",
          "model_name": "DescriptionStyleModel",
          "state": {
            "_view_name": "StyleView",
            "_model_name": "DescriptionStyleModel",
            "description_width": "",
            "_view_module": "@jupyter-widgets/base",
            "_model_module_version": "1.5.0",
            "_view_count": null,
            "_view_module_version": "1.2.0",
            "_model_module": "@jupyter-widgets/controls"
          }
        },
        "61c8b2d22e6041799acfac8c09958b80": {
          "model_module": "@jupyter-widgets/base",
          "model_name": "LayoutModel",
          "state": {
            "_view_name": "LayoutView",
            "grid_template_rows": null,
            "right": null,
            "justify_content": null,
            "_view_module": "@jupyter-widgets/base",
            "overflow": null,
            "_model_module_version": "1.2.0",
            "_view_count": null,
            "flex_flow": null,
            "width": null,
            "min_width": null,
            "border": null,
            "align_items": null,
            "bottom": null,
            "_model_module": "@jupyter-widgets/base",
            "top": null,
            "grid_column": null,
            "overflow_y": null,
            "overflow_x": null,
            "grid_auto_flow": null,
            "grid_area": null,
            "grid_template_columns": null,
            "flex": null,
            "_model_name": "LayoutModel",
            "justify_items": null,
            "grid_row": null,
            "max_height": null,
            "align_content": null,
            "visibility": null,
            "align_self": null,
            "height": null,
            "min_height": null,
            "padding": null,
            "grid_auto_rows": null,
            "grid_gap": null,
            "max_width": null,
            "order": null,
            "_view_module_version": "1.2.0",
            "grid_template_areas": null,
            "object_position": null,
            "object_fit": null,
            "grid_auto_columns": null,
            "margin": null,
            "display": null,
            "left": null
          }
        }
      }
    }
  },
  "cells": [
    {
      "cell_type": "markdown",
      "metadata": {
        "id": "view-in-github",
        "colab_type": "text"
      },
      "source": [
        "<a href=\"https://colab.research.google.com/github/george-kan/fastai/blob/main/Pytorch_notes.ipynb\" target=\"_parent\"><img src=\"https://colab.research.google.com/assets/colab-badge.svg\" alt=\"Open In Colab\"/></a>"
      ]
    },
    {
      "cell_type": "code",
      "metadata": {
        "colab": {
          "base_uri": "https://localhost:8080/",
          "height": 1000
        },
        "id": "NAVwHRtpUwzc",
        "outputId": "50f7965d-2a5a-49c6-89dc-b18107fcc90a"
      },
      "source": [
        "!pip install --upgrade fastai"
      ],
      "execution_count": 2,
      "outputs": [
        {
          "output_type": "stream",
          "text": [
            "Collecting fastai\n",
            "\u001b[?25l  Downloading https://files.pythonhosted.org/packages/79/50/0b81742909d433ef5b67b4417597b41cd37b38a073714bc83dc150c81b2f/fastai-2.2.7-py3-none-any.whl (193kB)\n",
            "\u001b[K     |████████████████████████████████| 194kB 13.0MB/s \n",
            "\u001b[?25hCollecting fastcore<1.4,>=1.3.8\n",
            "\u001b[?25l  Downloading https://files.pythonhosted.org/packages/0c/98/60404e2817cff113a6ae4023bc1772e23179408fdf7857fa410551758dfe/fastcore-1.3.19-py3-none-any.whl (53kB)\n",
            "\u001b[K     |████████████████████████████████| 61kB 8.5MB/s \n",
            "\u001b[?25hRequirement already satisfied, skipping upgrade: pillow>6.0.0 in /usr/local/lib/python3.7/dist-packages (from fastai) (7.0.0)\n",
            "Requirement already satisfied, skipping upgrade: pip in /usr/local/lib/python3.7/dist-packages (from fastai) (19.3.1)\n",
            "Collecting torch<1.8,>=1.7.0\n",
            "\u001b[?25l  Downloading https://files.pythonhosted.org/packages/90/5d/095ddddc91c8a769a68c791c019c5793f9c4456a688ddd235d6670924ecb/torch-1.7.1-cp37-cp37m-manylinux1_x86_64.whl (776.8MB)\n",
            "\u001b[K     |████████████████████████████████| 776.8MB 21kB/s \n",
            "\u001b[?25hRequirement already satisfied, skipping upgrade: packaging in /usr/local/lib/python3.7/dist-packages (from fastai) (20.9)\n",
            "Requirement already satisfied, skipping upgrade: pandas in /usr/local/lib/python3.7/dist-packages (from fastai) (1.1.5)\n",
            "Requirement already satisfied, skipping upgrade: pyyaml in /usr/local/lib/python3.7/dist-packages (from fastai) (3.13)\n",
            "Collecting torchvision<0.9,>=0.8\n",
            "\u001b[?25l  Downloading https://files.pythonhosted.org/packages/94/df/969e69a94cff1c8911acb0688117f95e1915becc1e01c73e7960a2c76ec8/torchvision-0.8.2-cp37-cp37m-manylinux1_x86_64.whl (12.8MB)\n",
            "\u001b[K     |████████████████████████████████| 12.8MB 234kB/s \n",
            "\u001b[?25hRequirement already satisfied, skipping upgrade: requests in /usr/local/lib/python3.7/dist-packages (from fastai) (2.23.0)\n",
            "Requirement already satisfied, skipping upgrade: spacy<3 in /usr/local/lib/python3.7/dist-packages (from fastai) (2.2.4)\n",
            "Requirement already satisfied, skipping upgrade: scikit-learn in /usr/local/lib/python3.7/dist-packages (from fastai) (0.22.2.post1)\n",
            "Requirement already satisfied, skipping upgrade: scipy in /usr/local/lib/python3.7/dist-packages (from fastai) (1.4.1)\n",
            "Requirement already satisfied, skipping upgrade: fastprogress>=0.2.4 in /usr/local/lib/python3.7/dist-packages (from fastai) (1.0.0)\n",
            "Requirement already satisfied, skipping upgrade: matplotlib in /usr/local/lib/python3.7/dist-packages (from fastai) (3.2.2)\n",
            "Requirement already satisfied, skipping upgrade: typing-extensions in /usr/local/lib/python3.7/dist-packages (from torch<1.8,>=1.7.0->fastai) (3.7.4.3)\n",
            "Requirement already satisfied, skipping upgrade: numpy in /usr/local/lib/python3.7/dist-packages (from torch<1.8,>=1.7.0->fastai) (1.19.5)\n",
            "Requirement already satisfied, skipping upgrade: pyparsing>=2.0.2 in /usr/local/lib/python3.7/dist-packages (from packaging->fastai) (2.4.7)\n",
            "Requirement already satisfied, skipping upgrade: pytz>=2017.2 in /usr/local/lib/python3.7/dist-packages (from pandas->fastai) (2018.9)\n",
            "Requirement already satisfied, skipping upgrade: python-dateutil>=2.7.3 in /usr/local/lib/python3.7/dist-packages (from pandas->fastai) (2.8.1)\n",
            "Requirement already satisfied, skipping upgrade: certifi>=2017.4.17 in /usr/local/lib/python3.7/dist-packages (from requests->fastai) (2020.12.5)\n",
            "Requirement already satisfied, skipping upgrade: chardet<4,>=3.0.2 in /usr/local/lib/python3.7/dist-packages (from requests->fastai) (3.0.4)\n",
            "Requirement already satisfied, skipping upgrade: idna<3,>=2.5 in /usr/local/lib/python3.7/dist-packages (from requests->fastai) (2.10)\n",
            "Requirement already satisfied, skipping upgrade: urllib3!=1.25.0,!=1.25.1,<1.26,>=1.21.1 in /usr/local/lib/python3.7/dist-packages (from requests->fastai) (1.24.3)\n",
            "Requirement already satisfied, skipping upgrade: tqdm<5.0.0,>=4.38.0 in /usr/local/lib/python3.7/dist-packages (from spacy<3->fastai) (4.41.1)\n",
            "Requirement already satisfied, skipping upgrade: preshed<3.1.0,>=3.0.2 in /usr/local/lib/python3.7/dist-packages (from spacy<3->fastai) (3.0.5)\n",
            "Requirement already satisfied, skipping upgrade: srsly<1.1.0,>=1.0.2 in /usr/local/lib/python3.7/dist-packages (from spacy<3->fastai) (1.0.5)\n",
            "Requirement already satisfied, skipping upgrade: plac<1.2.0,>=0.9.6 in /usr/local/lib/python3.7/dist-packages (from spacy<3->fastai) (1.1.3)\n",
            "Requirement already satisfied, skipping upgrade: blis<0.5.0,>=0.4.0 in /usr/local/lib/python3.7/dist-packages (from spacy<3->fastai) (0.4.1)\n",
            "Requirement already satisfied, skipping upgrade: setuptools in /usr/local/lib/python3.7/dist-packages (from spacy<3->fastai) (54.0.0)\n",
            "Requirement already satisfied, skipping upgrade: wasabi<1.1.0,>=0.4.0 in /usr/local/lib/python3.7/dist-packages (from spacy<3->fastai) (0.8.2)\n",
            "Requirement already satisfied, skipping upgrade: cymem<2.1.0,>=2.0.2 in /usr/local/lib/python3.7/dist-packages (from spacy<3->fastai) (2.0.5)\n",
            "Requirement already satisfied, skipping upgrade: thinc==7.4.0 in /usr/local/lib/python3.7/dist-packages (from spacy<3->fastai) (7.4.0)\n",
            "Requirement already satisfied, skipping upgrade: murmurhash<1.1.0,>=0.28.0 in /usr/local/lib/python3.7/dist-packages (from spacy<3->fastai) (1.0.5)\n",
            "Requirement already satisfied, skipping upgrade: catalogue<1.1.0,>=0.0.7 in /usr/local/lib/python3.7/dist-packages (from spacy<3->fastai) (1.0.0)\n",
            "Requirement already satisfied, skipping upgrade: joblib>=0.11 in /usr/local/lib/python3.7/dist-packages (from scikit-learn->fastai) (1.0.1)\n",
            "Requirement already satisfied, skipping upgrade: cycler>=0.10 in /usr/local/lib/python3.7/dist-packages (from matplotlib->fastai) (0.10.0)\n",
            "Requirement already satisfied, skipping upgrade: kiwisolver>=1.0.1 in /usr/local/lib/python3.7/dist-packages (from matplotlib->fastai) (1.3.1)\n",
            "Requirement already satisfied, skipping upgrade: six>=1.5 in /usr/local/lib/python3.7/dist-packages (from python-dateutil>=2.7.3->pandas->fastai) (1.15.0)\n",
            "Requirement already satisfied, skipping upgrade: importlib-metadata>=0.20; python_version < \"3.8\" in /usr/local/lib/python3.7/dist-packages (from catalogue<1.1.0,>=0.0.7->spacy<3->fastai) (3.7.2)\n",
            "Requirement already satisfied, skipping upgrade: zipp>=0.5 in /usr/local/lib/python3.7/dist-packages (from importlib-metadata>=0.20; python_version < \"3.8\"->catalogue<1.1.0,>=0.0.7->spacy<3->fastai) (3.4.1)\n",
            "\u001b[31mERROR: torchtext 0.9.0 has requirement torch==1.8.0, but you'll have torch 1.7.1 which is incompatible.\u001b[0m\n",
            "Installing collected packages: fastcore, torch, torchvision, fastai\n",
            "  Found existing installation: torch 1.8.0+cu101\n",
            "    Uninstalling torch-1.8.0+cu101:\n",
            "      Successfully uninstalled torch-1.8.0+cu101\n",
            "  Found existing installation: torchvision 0.9.0+cu101\n",
            "    Uninstalling torchvision-0.9.0+cu101:\n",
            "      Successfully uninstalled torchvision-0.9.0+cu101\n",
            "  Found existing installation: fastai 1.0.61\n",
            "    Uninstalling fastai-1.0.61:\n",
            "      Successfully uninstalled fastai-1.0.61\n",
            "Successfully installed fastai-2.2.7 fastcore-1.3.19 torch-1.7.1 torchvision-0.8.2\n"
          ],
          "name": "stdout"
        },
        {
          "output_type": "display_data",
          "data": {
            "application/vnd.colab-display-data+json": {
              "pip_warning": {
                "packages": [
                  "fastai",
                  "torch",
                  "torchvision"
                ]
              }
            }
          },
          "metadata": {
            "tags": []
          }
        }
      ]
    },
    {
      "cell_type": "code",
      "metadata": {
        "id": "AF9vXqKwTvmM"
      },
      "source": [
        "from fastai import *\r\n",
        "from fastai.vision.all import *\r\n",
        "import re\r\n",
        "from torch.utils.data import Dataset, DataLoader\r\n",
        "from torchvision.io import read_image\r\n",
        "from torchvision import transforms, datasets"
      ],
      "execution_count": 69,
      "outputs": []
    },
    {
      "cell_type": "code",
      "metadata": {
        "colab": {
          "base_uri": "https://localhost:8080/",
          "height": 34
        },
        "id": "K8NLxmpDT2aU",
        "outputId": "5c55c5d3-593f-49ab-c965-f5c0f8f72a6a"
      },
      "source": [
        "path = untar_data(URLs.IMAGENETTE_160)\r\n",
        "path.ls()"
      ],
      "execution_count": 2,
      "outputs": [
        {
          "output_type": "display_data",
          "data": {
            "text/html": [
              ""
            ],
            "text/plain": [
              "<IPython.core.display.HTML object>"
            ]
          },
          "metadata": {
            "tags": []
          }
        },
        {
          "output_type": "execute_result",
          "data": {
            "text/plain": [
              "(#4) [Path('/root/.fastai/data/imagenette2-160/noisy_imagenette.csv'),Path('/root/.fastai/data/imagenette2-160/.DS_Store'),Path('/root/.fastai/data/imagenette2-160/train'),Path('/root/.fastai/data/imagenette2-160/val')]"
            ]
          },
          "metadata": {
            "tags": []
          },
          "execution_count": 2
        }
      ]
    },
    {
      "cell_type": "code",
      "metadata": {
        "colab": {
          "base_uri": "https://localhost:8080/"
        },
        "id": "LoEefpzlXJ4x",
        "outputId": "0001b452-f5e3-48aa-8921-a2bb9c76d6e3"
      },
      "source": [
        "path.ls()"
      ],
      "execution_count": 3,
      "outputs": [
        {
          "output_type": "execute_result",
          "data": {
            "text/plain": [
              "(#4) [Path('/root/.fastai/data/imagenette2-160/noisy_imagenette.csv'),Path('/root/.fastai/data/imagenette2-160/.DS_Store'),Path('/root/.fastai/data/imagenette2-160/train'),Path('/root/.fastai/data/imagenette2-160/val')]"
            ]
          },
          "metadata": {
            "tags": []
          },
          "execution_count": 3
        }
      ]
    },
    {
      "cell_type": "code",
      "metadata": {
        "colab": {
          "base_uri": "https://localhost:8080/"
        },
        "id": "4KWk55b5VyGk",
        "outputId": "6033f5c6-5c09-42f7-fb5d-93122f271f0b"
      },
      "source": [
        "(path/'train'/'n03417042').ls()"
      ],
      "execution_count": 4,
      "outputs": [
        {
          "output_type": "execute_result",
          "data": {
            "text/plain": [
              "(#961) [Path('/root/.fastai/data/imagenette2-160/train/n03417042/n03417042_12168.JPEG'),Path('/root/.fastai/data/imagenette2-160/train/n03417042/n03417042_12235.JPEG'),Path('/root/.fastai/data/imagenette2-160/train/n03417042/n03417042_17037.JPEG'),Path('/root/.fastai/data/imagenette2-160/train/n03417042/n03417042_3107.JPEG'),Path('/root/.fastai/data/imagenette2-160/train/n03417042/n03417042_23445.JPEG'),Path('/root/.fastai/data/imagenette2-160/train/n03417042/n03417042_15484.JPEG'),Path('/root/.fastai/data/imagenette2-160/train/n03417042/n03417042_4238.JPEG'),Path('/root/.fastai/data/imagenette2-160/train/n03417042/n03417042_10796.JPEG'),Path('/root/.fastai/data/imagenette2-160/train/n03417042/n03417042_21705.JPEG'),Path('/root/.fastai/data/imagenette2-160/train/n03417042/n03417042_28584.JPEG')...]"
            ]
          },
          "metadata": {
            "tags": []
          },
          "execution_count": 4
        }
      ]
    },
    {
      "cell_type": "code",
      "metadata": {
        "colab": {
          "base_uri": "https://localhost:8080/"
        },
        "id": "tfrUW57KahD7",
        "outputId": "a10a1215-bdae-42ee-f886-1c74f0165b1c"
      },
      "source": [
        "train_path = path/'train'\r\n",
        "[folder for folder in train_path.ls() if re.search('.*/n.*$', str(folder))]"
      ],
      "execution_count": 28,
      "outputs": [
        {
          "output_type": "execute_result",
          "data": {
            "text/plain": [
              "[Path('/root/.fastai/data/imagenette2-160/train/n03417042'),\n",
              " Path('/root/.fastai/data/imagenette2-160/train/n03425413'),\n",
              " Path('/root/.fastai/data/imagenette2-160/train/n02979186'),\n",
              " Path('/root/.fastai/data/imagenette2-160/train/n02102040'),\n",
              " Path('/root/.fastai/data/imagenette2-160/train/n01440764'),\n",
              " Path('/root/.fastai/data/imagenette2-160/train/n03394916'),\n",
              " Path('/root/.fastai/data/imagenette2-160/train/n03028079'),\n",
              " Path('/root/.fastai/data/imagenette2-160/train/n03888257'),\n",
              " Path('/root/.fastai/data/imagenette2-160/train/n03000684'),\n",
              " Path('/root/.fastai/data/imagenette2-160/train/n03445777')]"
            ]
          },
          "metadata": {
            "tags": []
          },
          "execution_count": 28
        }
      ]
    },
    {
      "cell_type": "code",
      "metadata": {
        "id": "3ZUKAxDiqapr"
      },
      "source": [
        "x = [1,2,3]\r\n",
        "y = [1,1,1]\r\n",
        "\r\n",
        "x, y = [7], [9]"
      ],
      "execution_count": 32,
      "outputs": []
    },
    {
      "cell_type": "code",
      "metadata": {
        "colab": {
          "base_uri": "https://localhost:8080/",
          "height": 35
        },
        "id": "eqRMRM88cUTT",
        "outputId": "8787c2e2-d0b9-4d66-ad48-43de483740ca"
      },
      "source": [
        "re.sub('.*/', '', '/root/.fastai/data/imagenette2-160/train/n03417042')"
      ],
      "execution_count": null,
      "outputs": [
        {
          "output_type": "execute_result",
          "data": {
            "application/vnd.google.colaboratory.intrinsic+json": {
              "type": "string"
            },
            "text/plain": [
              "'n03417042'"
            ]
          },
          "metadata": {
            "tags": []
          },
          "execution_count": 26
        }
      ]
    },
    {
      "cell_type": "code",
      "metadata": {
        "id": "LZRpeL0AbpU2"
      },
      "source": [
        "def get_folder_data(path):\r\n",
        "    label = re.sub('.*/', '', str(path))\r\n",
        "    return path.ls(), [label]*len(path.ls())"
      ],
      "execution_count": 40,
      "outputs": []
    },
    {
      "cell_type": "code",
      "metadata": {
        "id": "M8tO-T12d3I5"
      },
      "source": [
        "xa, xo = get_folder_data((path/'train/n03445777'))"
      ],
      "execution_count": 41,
      "outputs": []
    },
    {
      "cell_type": "code",
      "metadata": {
        "colab": {
          "base_uri": "https://localhost:8080/"
        },
        "id": "fSkLe9rDtF17",
        "outputId": "f32c277b-a5db-42dd-e4e8-7926587f1a05"
      },
      "source": [
        ""
      ],
      "execution_count": 44,
      "outputs": [
        {
          "output_type": "execute_result",
          "data": {
            "text/plain": [
              "951"
            ]
          },
          "metadata": {
            "tags": []
          },
          "execution_count": 44
        }
      ]
    },
    {
      "cell_type": "code",
      "metadata": {
        "colab": {
          "base_uri": "https://localhost:8080/",
          "height": 35
        },
        "id": "FkmjFzTeeJyq",
        "outputId": "a2648c62-299a-42d1-a875-95944deb31cc"
      },
      "source": [
        "label = re.sub('.*/', '', str((path/'train/n03445777')))\r\n",
        "label"
      ],
      "execution_count": null,
      "outputs": [
        {
          "output_type": "execute_result",
          "data": {
            "application/vnd.google.colaboratory.intrinsic+json": {
              "type": "string"
            },
            "text/plain": [
              "'n03445777'"
            ]
          },
          "metadata": {
            "tags": []
          },
          "execution_count": 37
        }
      ]
    },
    {
      "cell_type": "code",
      "metadata": {
        "colab": {
          "base_uri": "https://localhost:8080/"
        },
        "id": "TH1wvPL6efXs",
        "outputId": "9575a197-a226-4fbf-c2f9-c718c5767d3d"
      },
      "source": [
        "len((path/'train/n03445777').ls())"
      ],
      "execution_count": null,
      "outputs": [
        {
          "output_type": "execute_result",
          "data": {
            "text/plain": [
              "951"
            ]
          },
          "metadata": {
            "tags": []
          },
          "execution_count": 38
        }
      ]
    },
    {
      "cell_type": "code",
      "metadata": {
        "colab": {
          "base_uri": "https://localhost:8080/",
          "height": 120
        },
        "id": "FxKIyxjZekRl",
        "outputId": "ddcaaf44-4b4b-444e-9331-4d6489235a8b"
      },
      "source": [
        "label*911"
      ],
      "execution_count": null,
      "outputs": [
        {
          "output_type": "execute_result",
          "data": {
            "application/vnd.google.colaboratory.intrinsic+json": {
              "type": "string"
            },
            "text/plain": [
              "'n03445777n03445777n03445777n03445777n03445777n03445777n03445777n03445777n03445777n03445777n03445777n03445777n03445777n03445777n03445777n03445777n03445777n03445777n03445777n03445777n03445777n03445777n03445777n03445777n03445777n03445777n03445777n03445777n03445777n03445777n03445777n03445777n03445777n03445777n03445777n03445777n03445777n03445777n03445777n03445777n03445777n03445777n03445777n03445777n03445777n03445777n03445777n03445777n03445777n03445777n03445777n03445777n03445777n03445777n03445777n03445777n03445777n03445777n03445777n03445777n03445777n03445777n03445777n03445777n03445777n03445777n03445777n03445777n03445777n03445777n03445777n03445777n03445777n03445777n03445777n03445777n03445777n03445777n03445777n03445777n03445777n03445777n03445777n03445777n03445777n03445777n03445777n03445777n03445777n03445777n03445777n03445777n03445777n03445777n03445777n03445777n03445777n03445777n03445777n03445777n03445777n03445777n03445777n03445777n03445777n03445777n03445777n03445777n03445777n03445777n03445777n03445777n03445777n03445777n03445777n03445777n03445777n03445777n03445777n03445777n03445777n03445777n03445777n03445777n03445777n03445777n03445777n03445777n03445777n03445777n03445777n03445777n03445777n03445777n03445777n03445777n03445777n03445777n03445777n03445777n03445777n03445777n03445777n03445777n03445777n03445777n03445777n03445777n03445777n03445777n03445777n03445777n03445777n03445777n03445777n03445777n03445777n03445777n03445777n03445777n03445777n03445777n03445777n03445777n03445777n03445777n03445777n03445777n03445777n03445777n03445777n03445777n03445777n03445777n03445777n03445777n03445777n03445777n03445777n03445777n03445777n03445777n03445777n03445777n03445777n03445777n03445777n03445777n03445777n03445777n03445777n03445777n03445777n03445777n03445777n03445777n03445777n03445777n03445777n03445777n03445777n03445777n03445777n03445777n03445777n03445777n03445777n03445777n03445777n03445777n03445777n03445777n03445777n03445777n03445777n03445777n03445777n03445777n03445777n03445777n03445777n03445777n03445777n03445777n03445777n03445777n03445777n03445777n03445777n03445777n03445777n03445777n03445777n03445777n03445777n03445777n03445777n03445777n03445777n03445777n03445777n03445777n03445777n03445777n03445777n03445777n03445777n03445777n03445777n03445777n03445777n03445777n03445777n03445777n03445777n03445777n03445777n03445777n03445777n03445777n03445777n03445777n03445777n03445777n03445777n03445777n03445777n03445777n03445777n03445777n03445777n03445777n03445777n03445777n03445777n03445777n03445777n03445777n03445777n03445777n03445777n03445777n03445777n03445777n03445777n03445777n03445777n03445777n03445777n03445777n03445777n03445777n03445777n03445777n03445777n03445777n03445777n03445777n03445777n03445777n03445777n03445777n03445777n03445777n03445777n03445777n03445777n03445777n03445777n03445777n03445777n03445777n03445777n03445777n03445777n03445777n03445777n03445777n03445777n03445777n03445777n03445777n03445777n03445777n03445777n03445777n03445777n03445777n03445777n03445777n03445777n03445777n03445777n03445777n03445777n03445777n03445777n03445777n03445777n03445777n03445777n03445777n03445777n03445777n03445777n03445777n03445777n03445777n03445777n03445777n03445777n03445777n03445777n03445777n03445777n03445777n03445777n03445777n03445777n03445777n03445777n03445777n03445777n03445777n03445777n03445777n03445777n03445777n03445777n03445777n03445777n03445777n03445777n03445777n03445777n03445777n03445777n03445777n03445777n03445777n03445777n03445777n03445777n03445777n03445777n03445777n03445777n03445777n03445777n03445777n03445777n03445777n03445777n03445777n03445777n03445777n03445777n03445777n03445777n03445777n03445777n03445777n03445777n03445777n03445777n03445777n03445777n03445777n03445777n03445777n03445777n03445777n03445777n03445777n03445777n03445777n03445777n03445777n03445777n03445777n03445777n03445777n03445777n03445777n03445777n03445777n03445777n03445777n03445777n03445777n03445777n03445777n03445777n03445777n03445777n03445777n03445777n03445777n03445777n03445777n03445777n03445777n03445777n03445777n03445777n03445777n03445777n03445777n03445777n03445777n03445777n03445777n03445777n03445777n03445777n03445777n03445777n03445777n03445777n03445777n03445777n03445777n03445777n03445777n03445777n03445777n03445777n03445777n03445777n03445777n03445777n03445777n03445777n03445777n03445777n03445777n03445777n03445777n03445777n03445777n03445777n03445777n03445777n03445777n03445777n03445777n03445777n03445777n03445777n03445777n03445777n03445777n03445777n03445777n03445777n03445777n03445777n03445777n03445777n03445777n03445777n03445777n03445777n03445777n03445777n03445777n03445777n03445777n03445777n03445777n03445777n03445777n03445777n03445777n03445777n03445777n03445777n03445777n03445777n03445777n03445777n03445777n03445777n03445777n03445777n03445777n03445777n03445777n03445777n03445777n03445777n03445777n03445777n03445777n03445777n03445777n03445777n03445777n03445777n03445777n03445777n03445777n03445777n03445777n03445777n03445777n03445777n03445777n03445777n03445777n03445777n03445777n03445777n03445777n03445777n03445777n03445777n03445777n03445777n03445777n03445777n03445777n03445777n03445777n03445777n03445777n03445777n03445777n03445777n03445777n03445777n03445777n03445777n03445777n03445777n03445777n03445777n03445777n03445777n03445777n03445777n03445777n03445777n03445777n03445777n03445777n03445777n03445777n03445777n03445777n03445777n03445777n03445777n03445777n03445777n03445777n03445777n03445777n03445777n03445777n03445777n03445777n03445777n03445777n03445777n03445777n03445777n03445777n03445777n03445777n03445777n03445777n03445777n03445777n03445777n03445777n03445777n03445777n03445777n03445777n03445777n03445777n03445777n03445777n03445777n03445777n03445777n03445777n03445777n03445777n03445777n03445777n03445777n03445777n03445777n03445777n03445777n03445777n03445777n03445777n03445777n03445777n03445777n03445777n03445777n03445777n03445777n03445777n03445777n03445777n03445777n03445777n03445777n03445777n03445777n03445777n03445777n03445777n03445777n03445777n03445777n03445777n03445777n03445777n03445777n03445777n03445777n03445777n03445777n03445777n03445777n03445777n03445777n03445777n03445777n03445777n03445777n03445777n03445777n03445777n03445777n03445777n03445777n03445777n03445777n03445777n03445777n03445777n03445777n03445777n03445777n03445777n03445777n03445777n03445777n03445777n03445777n03445777n03445777n03445777n03445777n03445777n03445777n03445777n03445777n03445777n03445777n03445777n03445777n03445777n03445777n03445777n03445777n03445777n03445777n03445777n03445777n03445777n03445777n03445777n03445777n03445777n03445777n03445777n03445777n03445777n03445777n03445777n03445777n03445777n03445777n03445777n03445777n03445777n03445777n03445777n03445777n03445777n03445777n03445777n03445777n03445777n03445777n03445777n03445777n03445777n03445777n03445777n03445777n03445777n03445777n03445777n03445777n03445777n03445777n03445777n03445777n03445777n03445777n03445777n03445777n03445777n03445777n03445777n03445777n03445777n03445777n03445777n03445777n03445777n03445777n03445777n03445777n03445777n03445777n03445777n03445777n03445777n03445777n03445777n03445777n03445777n03445777n03445777n03445777n03445777n03445777n03445777n03445777n03445777n03445777n03445777n03445777n03445777n03445777n03445777n03445777n03445777n03445777n03445777n03445777n03445777n03445777n03445777n03445777n03445777n03445777n03445777n03445777n03445777n03445777n03445777n03445777n03445777n03445777n03445777n03445777n03445777n03445777n03445777n03445777n03445777n03445777n03445777n03445777n03445777n03445777n03445777n03445777n03445777n03445777n03445777n03445777n03445777n03445777n03445777n03445777n03445777n03445777n03445777n03445777n03445777n03445777n03445777n03445777n03445777n03445777n03445777n03445777n03445777n03445777n03445777n03445777n03445777n03445777n03445777n03445777n03445777n03445777n03445777n03445777n03445777n03445777n03445777n03445777n03445777n03445777n03445777n03445777n03445777n03445777n03445777n03445777n03445777n03445777n03445777n03445777n03445777n03445777n03445777n03445777n03445777n03445777n03445777n03445777n03445777n03445777n03445777n03445777n03445777n03445777n03445777n03445777n03445777n03445777n03445777n03445777n03445777n03445777n03445777n03445777n03445777n03445777n03445777n03445777n03445777n03445777n03445777n03445777n03445777n03445777'"
            ]
          },
          "metadata": {
            "tags": []
          },
          "execution_count": 39
        }
      ]
    },
    {
      "cell_type": "code",
      "metadata": {
        "id": "ohREt0hSZJNj"
      },
      "source": [
        "class myDatasetClass(Dataset):\r\n",
        "    def __init__(self, img_path, transform=None, target_transform=None):\r\n",
        "        folders = [folder for folder in img_path.ls() if re.search('.*/n.*$', str(folder))]\r\n",
        "        self.images, self.labels = [], []\r\n",
        "        for folder in folders:\r\n",
        "            tmp_images, tmp_labels = get_folder_data(folder)\r\n",
        "            self.images += tmp_images\r\n",
        "            self.labels += tmp_labels\r\n",
        "        self.transform = transform\r\n",
        "        self.target_transform = target_transform\r\n",
        "\r\n",
        "    def __len__(self):\r\n",
        "        return len(self.labels)\r\n",
        "\r\n",
        "    def __getitem__(self, idx):\r\n",
        "        image = Image.open(str(self.images[idx]))\r\n",
        "        image = image.convert(\"RGB\")\r\n",
        "        label = self.labels[idx]\r\n",
        "        if self.transform:\r\n",
        "            image = self.transform(image)\r\n",
        "        if self.target_transform:\r\n",
        "            label = self.target_transform(label)\r\n",
        "        #sample = {\"image\":image, \"label\":label}\r\n",
        "        return image, label"
      ],
      "execution_count": 106,
      "outputs": []
    },
    {
      "cell_type": "code",
      "metadata": {
        "id": "u_j26g3Uc3f-"
      },
      "source": [
        "composed = transforms.Compose([transforms.Resize(256), transforms.RandomCrop(224),  transforms.ToTensor(), transforms.Normalize(mean=[0.485, 0.456, 0.406],\r\n",
        "                                 std=[0.229, 0.224, 0.225])])\r\n",
        "train_dataloader = DataLoader(myDatasetClass(train_path, transform = composed), batch_size=64, shuffle=True)"
      ],
      "execution_count": 118,
      "outputs": []
    },
    {
      "cell_type": "code",
      "metadata": {
        "colab": {
          "base_uri": "https://localhost:8080/",
          "height": 286
        },
        "id": "3K0ZZL7vv6fM",
        "outputId": "bc157b49-916c-4fb9-f32a-a79e09bd8c2d"
      },
      "source": [
        "train_features, train_labels = next(iter(train_dataloader))\r\n",
        "#xa = next(iter(train_dataloader))\r\n",
        "img = train_features[0].permute(1,2,0).numpy()\r\n",
        "label = train_labels[0]\r\n",
        "mean = np.array([0.485, 0.456, 0.406])\r\n",
        "std = np.array([0.229, 0.224, 0.225])\r\n",
        "img = std * img + mean\r\n",
        "img = np.clip(img, 0, 1)\r\n",
        "\r\n",
        "plt.imshow(img)\r\n",
        "plt.show()\r\n",
        "print(f\"Label: {label}\")"
      ],
      "execution_count": 125,
      "outputs": [
        {
          "output_type": "display_data",
          "data": {
            "image/png": "[encoded data removed]",
            "text/plain": [
              "<Figure size 432x288 with 1 Axes>"
            ]
          },
          "metadata": {
            "tags": [],
            "needs_background": "light"
          }
        },
        {
          "output_type": "stream",
          "text": [
            "Label: n03417042\n"
          ],
          "name": "stdout"
        }
      ]
    },
    {
      "cell_type": "code",
      "metadata": {
        "colab": {
          "base_uri": "https://localhost:8080/"
        },
        "id": "JzcDi6dQwLej",
        "outputId": "487f0045-20f8-415a-a5a8-3da9f07f9b45"
      },
      "source": [
        "train_features[0].permute(1,2,0).shape"
      ],
      "execution_count": 113,
      "outputs": [
        {
          "output_type": "execute_result",
          "data": {
            "text/plain": [
              "torch.Size([224, 224, 3])"
            ]
          },
          "metadata": {
            "tags": []
          },
          "execution_count": 113
        }
      ]
    },
    {
      "cell_type": "code",
      "metadata": {
        "id": "FFzPuVpUL4yj",
        "outputId": "41d39396-7538-43e7-f435-2d8a76882cad",
        "colab": {
          "base_uri": "https://localhost:8080/",
          "height": 163
        }
      },
      "source": [
        ""
      ],
      "execution_count": 126,
      "outputs": [
        {
          "output_type": "error",
          "ename": "AttributeError",
          "evalue": "ignored",
          "traceback": [
            "\u001b[0;31m---------------------------------------------------------------------------\u001b[0m",
            "\u001b[0;31mAttributeError\u001b[0m                            Traceback (most recent call last)",
            "\u001b[0;32m<ipython-input-126-0c349accacd0>\u001b[0m in \u001b[0;36m<module>\u001b[0;34m()\u001b[0m\n\u001b[0;32m----> 1\u001b[0;31m \u001b[0mtrain_dataloader\u001b[0m\u001b[0;34m.\u001b[0m\u001b[0mvocab\u001b[0m\u001b[0;34m\u001b[0m\u001b[0;34m\u001b[0m\u001b[0m\n\u001b[0m",
            "\u001b[0;31mAttributeError\u001b[0m: 'DataLoader' object has no attribute 'vocab'"
          ]
        }
      ]
    },
    {
      "cell_type": "code",
      "metadata": {
        "colab": {
          "base_uri": "https://localhost:8080/",
          "height": 83,
          "referenced_widgets": [
            "b50a89278c7d4a529998b621387e1de7",
            "a866c63fe67f49d0849ccc5f8f0dfa4e",
            "c66edbdcdda249f6bab0f1a6d1d06b01",
            "73ca8a2f2bf0456fb653687401498f40",
            "06b8f4d75a7045008e72c4d5462d0fdf",
            "4a080c60bfcc4a8d81c75ff70a94be5b",
            "506f1ec7491f4c239265623137ed9a78",
            "61c8b2d22e6041799acfac8c09958b80"
          ]
        },
        "id": "QEiSE-zB7dnu",
        "outputId": "d1460ae4-b633-4c73-8c78-588b31ccd6d1"
      },
      "source": [
        "import torchvision.models as models\r\n",
        "inception = models.inception_v3(pretrained=True)"
      ],
      "execution_count": 122,
      "outputs": [
        {
          "output_type": "stream",
          "text": [
            "Downloading: \"https://download.pytorch.org/models/inception_v3_google-1a9a5a14.pth\" to /root/.cache/torch/hub/checkpoints/inception_v3_google-1a9a5a14.pth\n"
          ],
          "name": "stderr"
        },
        {
          "output_type": "display_data",
          "data": {
            "application/vnd.jupyter.widget-view+json": {
              "model_id": "b50a89278c7d4a529998b621387e1de7",
              "version_minor": 0,
              "version_major": 2
            },
            "text/plain": [
              "HBox(children=(FloatProgress(value=0.0, max=108857766.0), HTML(value='')))"
            ]
          },
          "metadata": {
            "tags": []
          }
        },
        {
          "output_type": "stream",
          "text": [
            "\n"
          ],
          "name": "stdout"
        }
      ]
    }
  ]
}