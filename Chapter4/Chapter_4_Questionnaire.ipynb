{
 "cells": [
  {
   "cell_type": "markdown",
   "metadata": {},
   "source": [
    "**Chapter 4 Questionnaire**"
   ]
  },
  {
   "cell_type": "markdown",
   "metadata": {},
   "source": [
    "1) How is a grayscale image represented on a computer? How about a color image?  \n",
    "For a greyscale image, every pixel is a number where white corresponds to 0 and fully back corresponds to 255\n",
    "For a color image, every pixel is represented by 3 values on 3 arrays of the same size. They are Red, Green and Blue (RGB)"
   ]
  },
  {
   "cell_type": "markdown",
   "metadata": {},
   "source": [
    "2) How are the files and folders in the MNIST_SAMPLE dataset structured? Why?  \n",
    "There is one folder for the Train samples and one folder for the Validation/Test samples. The subfolders are split based on the number the pictures correspond to, so the subfolder 'threes' contains all the images of 3. \n",
    "This separation helps for creating the target variables and for separating Train and Test data."
   ]
  },
  {
   "cell_type": "markdown",
   "metadata": {},
   "source": [
    "3) Explain how the \"pixel similarity\" approach to classifying digits work  \n",
    "The first part of the pixel similarity approach is to create the \"average three\" and the \"average seven\". Each pixel value of these averages corresponds to the mean of all the values of this particular pixel from all threes (or all sevens respectively). This is what we compare against in the classifier. \n",
    "\n",
    "The second part consists of establishing a measure of distance between the picture at hand and the average three (or the average seven). This is done by taking the mean of either the absolute difference of each pixel or of the squared difference of each pixel. \n",
    "\n",
    "After establishing the distance of the picture at hand from the averages, the classifier picks the value that is the smallest, that is if the distance of the test picture is smaller from the \"average three\" than it is from the \"average seven\" then the classifier selects 3 as its guess."
   ]
  },
  {
   "cell_type": "markdown",
   "metadata": {},
   "source": [
    "4) What is a list comprehension? Create one now that selects odd numbers from a list and doubles them  \n",
    "A list comprehension is a python operation that allows operations to be performed on each element of a list in a compactly written form"
   ]
  },
  {
   "cell_type": "code",
   "execution_count": 1,
   "metadata": {},
   "outputs": [
    {
     "data": {
      "text/plain": [
       "[2, 6, 10, 14, 18, 22, 26, 30, 34, 38, 42, 46, 50, 54, 58]"
      ]
     },
     "execution_count": 1,
     "metadata": {},
     "output_type": "execute_result"
    }
   ],
   "source": [
    "my_list = list(range(30))\n",
    "[x*2 for x in my_list if x%2 != 0]"
   ]
  },
  {
   "cell_type": "markdown",
   "metadata": {},
   "source": [
    "5) What is a rank 3 tensor?  \n",
    "A rank 3 tensor is a tensor that has 3 dimensions or axes. When running tensor.shape this should return 3 numbers"
   ]
  },
  {
   "cell_type": "markdown",
   "metadata": {},
   "source": [
    "6) What is the difference between tensor rank and shape? How do you get the rank from the shape?   \n",
    "The shape of a tensor tells the user how many entries correspond to each dimension of the tensor. For example a tensor that has a shape 3,7,4 is essentially a 3 dimensional matrix with 4 entries available in the first dimension, 7 entries for the second and 3 for the 3rd. The three numbers that are returned via the tensor.shape attribute correspond to the rank of the tensor."
   ]
  },
  {
   "cell_type": "markdown",
   "metadata": {},
   "source": [
    "7) What are RMSE and L1 norm?  \n",
    "RMSE stands for root mean squared error and as the name suggests takes the error between prediction and target squares it, averages it and then takes the square root. It is also called the L2 norm.\n",
    "L1 norm is the mean of the absolute value of the difference between prediction and target. "
   ]
  },
  {
   "cell_type": "markdown",
   "metadata": {},
   "source": [
    "8) How can you apply a calculation on thousands of numbers at once, many thousands of times faster than a Python loop?  \n",
    "By using broadcasting. Python computes elementwise calculations very fast in an efficient manner in C. Broadcasting works in two scenarios:\n",
    "a) One of the two dimensions that differ are equal to 1 and this one is \"streched\" to match the other one\n",
    "b) The dimension is missing completely"
   ]
  },
  {
   "cell_type": "code",
   "execution_count": 2,
   "metadata": {},
   "outputs": [
    {
     "data": {
      "text/plain": [
       "tensor([[5, 5, 5],\n",
       "        [3, 3, 3],\n",
       "        [2, 2, 2]])"
      ]
     },
     "execution_count": 2,
     "metadata": {},
     "output_type": "execute_result"
    }
   ],
   "source": [
    "import torch\n",
    "M_data = [[1., 2., 3.], [4., 5., 6]]\n",
    "M = torch.tensor(M_data)\n",
    "M.shape\n",
    "(M-1).shape\n",
    "# Here the following changes happened to the tensors:\n",
    "# 1 which is a tensor with dimensions (1) was stretched initially to match the first dimension of the M tensor (3)\n",
    "# As there is no second dimension for 1 it was just \"copied\" as many times as needed\n",
    "M2 = torch.tensor([[1,2], [4,6]])\n",
    "M2.shape\n",
    "#M + M2 This does not work as the dimensions are not aligned \n",
    "M3 = torch.tensor([[4], [2], [1]])\n",
    "M3.shape\n",
    "\n",
    "M4 = torch.tensor([1,1,1]).unsqueeze(0)\n",
    "M4.shape\n",
    "M3 + M4\n",
    "\n",
    "# Here what happened is the following: M3 has a shape of (3,1) and M4 has a shape of (1,3).\n",
    "# Starting from the 1st dimension M3 was expanded to have 3 columns so it became [[4,4,4], [2,2,2], [1,1,1]]\n",
    "# For the 2nd dimension M4 was expanded to have 3 rows so [[1,1,1], [1,1,1], [1,1,1]]"
   ]
  },
  {
   "cell_type": "markdown",
   "metadata": {},
   "source": [
    "9) Create a 3x3 tensor or array containing the numbers from 1 to 9. Double it. Select the bottom-right four numbers"
   ]
  },
  {
   "cell_type": "code",
   "execution_count": 5,
   "metadata": {},
   "outputs": [
    {
     "data": {
      "text/plain": [
       "tensor([[5, 6],\n",
       "        [8, 9]])"
      ]
     },
     "execution_count": 5,
     "metadata": {},
     "output_type": "execute_result"
    }
   ],
   "source": [
    "myt = torch.tensor(range(1,10)).view(3,3)\n",
    "myt[1:, 1:]"
   ]
  },
  {
   "cell_type": "markdown",
   "metadata": {},
   "source": [
    "10) What is broadcasting? (See question 8)"
   ]
  },
  {
   "cell_type": "markdown",
   "metadata": {},
   "source": [
    "11) Are metrics generaly calculated using the training set or the validation set? Why?  \n",
    "In general the validation set is used for the calculation of metrics. The reasoning is that the training set is used for finetuning weights/parameters and therefore using the metrics on the train set can lead the model to overfit."
   ]
  },
  {
   "cell_type": "markdown",
   "metadata": {},
   "source": [
    "12) What is SGD?  \n",
    "SGD stands for Stochastic Gradient Descent. The main difference between GD and SGD is that a single round of updating parameters in GD requires the gradient to be calculated on the full train dataset, while in SGD the updates are done incrementally based on batches where the gradient is being calculated. This results in faster improvements in the parameters and can overall be faster than GD. The drawback is that getting to the optimal point might not be so smooth and it could sometimes get stuck."
   ]
  },
  {
   "cell_type": "markdown",
   "metadata": {},
   "source": [
    "13) Why does SGD use mini-batches?  \n",
    "Mini-batches are the compromise struck between using the full dataset (GD) which is slow, and using a single training example for updating the parameters, which might not be reflective of the correct direction the parameters should take or it might be too steep. Using a number of observations that is smaller than the total dataset but larger than a single observation is fast and gets us in the right direction in terms of optimization. "
   ]
  },
  {
   "cell_type": "markdown",
   "metadata": {},
   "source": [
    "14) What are the seven steps in SGD for machine learning?  \n",
    "- Initialise the parameters\n",
    "- Make predictions\n",
    "- Calculate loss\n",
    "- Calculate gradients\n",
    "- Update parameters\n",
    "- Repeat\n",
    "- Stop"
   ]
  },
  {
   "cell_type": "markdown",
   "metadata": {},
   "source": [
    "15) How do we initialize the weights in a model?  \n",
    "If no previous model is available for this task, just randomly and without using the same number for all the weights.\n",
    "Otherwise, we can use a pre-trained model for some of the weights (not the last layer usually as the pre-trained models were used for a different task)"
   ]
  },
  {
   "cell_type": "markdown",
   "metadata": {},
   "source": [
    "16) What is loss?  \n",
    "Loss is a metric which quantifies how far our predictions are from the target we are aiming to achieve."
   ]
  },
  {
   "cell_type": "markdown",
   "metadata": {},
   "source": [
    "17) Why can't we always use a higher learning rate?  \n",
    "In some situations a higher learning rate can lead the model to diverge and move away from the optimal point. "
   ]
  },
  {
   "cell_type": "markdown",
   "metadata": {},
   "source": [
    "18) What is a gradient?  \n",
    "Gradient is value of the derivative function at a specific point. We use the gradient of the loss function with respect to the parameters in order to understand the direction we have to push our parameters to. If the gradient is positive we push in the negative the direction for example, as we want the loss to become smaller."
   ]
  },
  {
   "cell_type": "markdown",
   "metadata": {},
   "source": [
    "19) Do you need to know how to calculate gradinets yourself?  \n",
    "No, as PyTorch does it for you."
   ]
  },
  {
   "cell_type": "markdown",
   "metadata": {},
   "source": [
    "20) Why can't we use accuracy as a loss function?  \n",
    "The loss function has to be a function that responds positively or negatively to small changes in the weights of the model. Accuracy is not such a function. In order for the accuracy to change our prediction for the training example has to change significantly. \n",
    "For example: In the MNIST_SAMPLE case the training examples are classified to 3 or 7 based on whether the prediction on them is above or below 0. A wrong prediction (a 3 classified as 7) will have a value negative value associated with it (let's say -7). If we change the weights so that the prediction in this training example moves in the correct direction (positive) and this results in a new value of -5, the accuracy will not change despite the fact that we are making progress."
   ]
  },
  {
   "cell_type": "markdown",
   "metadata": {},
   "source": [
    "21) Draw the sigmoid function. What is so special about its shape?  \n",
    "The shape of the sigmoid is very smooth (good for derivatives) and it also restricts the values between 0 and 1"
   ]
  },
  {
   "cell_type": "code",
   "execution_count": 13,
   "metadata": {},
   "outputs": [
    {
     "data": {
      "text/plain": [
       "[<matplotlib.lines.Line2D at 0x22accf2dbe0>]"
      ]
     },
     "execution_count": 13,
     "metadata": {},
     "output_type": "execute_result"
    },
    {
     "data": {
      "image/png": "[encoded data removed]",
      "text/plain": [
       "<Figure size 432x288 with 1 Axes>"
      ]
     },
     "metadata": {
      "needs_background": "light"
     },
     "output_type": "display_data"
    }
   ],
   "source": [
    "import torch\n",
    "import matplotlib.pyplot as plt\n",
    "import numpy as np\n",
    "\n",
    "def sigmoid(x): return 1/(1+torch.exp(-x))\n",
    "x = np.linspace(-5,5,100)\n",
    "y = sigmoid(torch.tensor(x))\n",
    "plt.plot(x, y)\n"
   ]
  },
  {
   "cell_type": "markdown",
   "metadata": {},
   "source": [
    "22) What is the difference between a loss function and a metric?  \n",
    "A loss function is a function used for the model to update the parameters incrementally. On the other hand a metric is a function used for humans so that they can assess how well the model performs. "
   ]
  },
  {
   "cell_type": "markdown",
   "metadata": {},
   "source": [
    "23) What is the function to calculate new weights using a learning rate?  \n",
    "The step function. This function takes the old values of the parameters and \"pushes\" them into the oppoiste direction of the gradient times the learning rate."
   ]
  },
  {
   "cell_type": "markdown",
   "metadata": {},
   "source": [
    "24) What does the DataLoader class do?  \n",
    "The DataLoader class prepares our data for SGD. In particular, it creates an iterable that returns a batch of predifined size with X and Y values so that we can train our model on them and then update the gradients.\n"
   ]
  },
  {
   "cell_type": "markdown",
   "metadata": {},
   "source": [
    "25) Write pseudocode showing the basic steps taken in each epoch for SGD  \n",
    "for each batch:\n",
    "    calc_grads(parameters)\n",
    "    for p in params:\n",
    "        p.data -= p.grad.data*lr\n",
    "        p.grad = None"
   ]
  },
  {
   "cell_type": "markdown",
   "metadata": {},
   "source": [
    "26) Create a function that with input [1,2,3,4] and 'abcd' returns [(1,'a'), (2,'b')...]"
   ]
  },
  {
   "cell_type": "code",
   "execution_count": 2,
   "metadata": {},
   "outputs": [
    {
     "data": {
      "text/plain": [
       "[(1, 'a'), (2, 'b'), (3, 'c'), (4, 'd')]"
      ]
     },
     "execution_count": 2,
     "metadata": {},
     "output_type": "execute_result"
    }
   ],
   "source": [
    "def my_zipper(l1, l2):\n",
    "    return list(zip(l1, l2))\n",
    "my_zipper([1,2,3,4], 'abcd')"
   ]
  },
  {
   "cell_type": "markdown",
   "metadata": {},
   "source": [
    "27) What does view do in PyTorch?  \n",
    "View is PyTorch's way of reshaping a tensor to certain dimensions."
   ]
  },
  {
   "cell_type": "markdown",
   "metadata": {},
   "source": [
    "28) What are the bias parameters in a neural network? Why do we need them?  \n",
    "The bias parameter is a neuron which does not depend on input and is constant (x_0). A similar example from linear regression: y = a*x + b, b is the constant in the output. \n",
    "This neuron is very useful for prediction purposes though as it can move the output value of any node up or down / left and right according to the prediction needs. \n",
    "https://stackoverflow.com/questions/2480650/what-is-the-role-of-the-bias-in-neural-networks"
   ]
  },
  {
   "cell_type": "markdown",
   "metadata": {},
   "source": [
    "29) What does the @ operator do in Python?  \n",
    "The @ operator is used for performing matrix multiplication"
   ]
  },
  {
   "cell_type": "markdown",
   "metadata": {},
   "source": [
    "30) What does the backward method do?  \n",
    "The backward method tells PyTorch to compute the gradients of the parameters based on the calculated loss. It is a crucial step in training a NN"
   ]
  },
  {
   "cell_type": "markdown",
   "metadata": {},
   "source": [
    "31) Why do we have to zero the gradients?  \n",
    "Every time backward is called, PyTorch adds the newly calculated gradients to the already existing ones. This is problematic as the gradients that were calculated in a previous iteration are no longer relevant and therefore we need to zero them before the next iteration."
   ]
  },
  {
   "cell_type": "markdown",
   "metadata": {},
   "source": [
    "32) What information do we have to pass to Learner?  \n",
    "We have to pass:\n",
    "1. A train set and a validation set\n",
    "2. A Neural Network\n",
    "3. An optimizer (optional) for example SGD\n",
    "4. A loss function (optional as fastai picks a reasonable one)\n",
    "5. A batch accuracy function in order to measure the performance of our model on the validation set"
   ]
  },
  {
   "cell_type": "markdown",
   "metadata": {},
   "source": [
    "33) Show Python or pseudocode for the basic steps of a training loop.  \n",
    "for _ in epochs:\n",
    "    for x,y in DataLoader:\n",
    "        predictions = model(x)\n",
    "        loss = loss_fun(predictions, y)\n",
    "        loss.backward()\n",
    "        update_gradients()\n",
    "    eval_batch(validation_data)"
   ]
  },
  {
   "cell_type": "markdown",
   "metadata": {},
   "source": [
    "34) What is ReLU? Draw a plot of it for values from -2 to +2  \n",
    "ReLU (rectified linear unit) is a function that takes an input and returns it if the input is positive otherwise returns 0."
   ]
  },
  {
   "cell_type": "code",
   "execution_count": 31,
   "metadata": {},
   "outputs": [
    {
     "data": {
      "text/plain": [
       "[<matplotlib.lines.Line2D at 0x2b52ae24198>]"
      ]
     },
     "execution_count": 31,
     "metadata": {},
     "output_type": "execute_result"
    },
    {
     "data": {
      "image/png": "[encoded data removed]",
      "text/plain": [
       "<Figure size 432x288 with 1 Axes>"
      ]
     },
     "metadata": {
      "needs_background": "light"
     },
     "output_type": "display_data"
    }
   ],
   "source": [
    "import torch\n",
    "import matplotlib.pyplot as plt\n",
    "import numpy as np\n",
    "def my_relu(x): return torch.max(x, torch.tensor(0))\n",
    "def my_relu2(x): return torch.where(x > 0, x, 0.0)\n",
    "x = np.linspace(-2,2,100)\n",
    "y = my_relu2(torch.tensor(x))\n",
    "plt.plot(x, y)"
   ]
  },
  {
   "cell_type": "markdown",
   "metadata": {},
   "source": [
    "35) What is an activation function?  \n",
    "An activation function is a function applied at the outputs of each layer of a NN after the matrix multiplication / linear calculations have been applied. The activation function is usually a non-linear transformation (for example a ReLU) in order to be able to allow for the NN to improve its predictions."
   ]
  },
  {
   "cell_type": "markdown",
   "metadata": {},
   "source": [
    "36) What's the difference between F.ReLU and nn.ReLU?  \n",
    "nn.ReLU() creates an nn.Module which you can add e.g. to an nn.Sequential model.\n",
    "nn.functional.relu on the other side is just the functional API call to the relu function, so that you can add it e.g. in your forward method yourself.\n",
    "\n",
    "Generally speaking it might depend on your coding style if you prefer modules for the activations or the functional calls. Personally I prefer the module approach if the activation has an internal state, e.g. PReLU.\n"
   ]
  },
  {
   "cell_type": "markdown",
   "metadata": {},
   "source": [
    "37) The universal approximation theorem shows that any function can be approximated as closely as needed using just one nonlinearity. So why do we normally use more?\n",
    "For computational reasons. It has been proven empirically that "
   ]
  }
 ],
 "metadata": {
  "kernelspec": {
   "display_name": "Python 3",
   "language": "python",
   "name": "python3"
  },
  "language_info": {
   "codemirror_mode": {
    "name": "ipython",
    "version": 3
   },
   "file_extension": ".py",
   "mimetype": "text/x-python",
   "name": "python",
   "nbconvert_exporter": "python",
   "pygments_lexer": "ipython3",
   "version": "3.7.3"
  }
 },
 "nbformat": 4,
 "nbformat_minor": 4
}
