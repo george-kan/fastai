{
  "nbformat": 4,
  "nbformat_minor": 0,
  "metadata": {
    "colab": {
      "name": "Chapter 4 notes",
      "provenance": [],
      "collapsed_sections": [],
      "authorship_tag": "ABX9TyMjckNfSueWfEQo1R6ai0mM",
      "include_colab_link": true
    },
    "kernelspec": {
      "name": "python3",
      "display_name": "Python 3"
    },
    "accelerator": "GPU"
  },
  "cells": [
    {
      "cell_type": "markdown",
      "metadata": {
        "id": "view-in-github",
        "colab_type": "text"
      },
      "source": [
        "<a href=\"https://colab.research.google.com/github/george-kan/fastai/blob/main/Chapter4/Chapter_4_notes.ipynb\" target=\"_parent\"><img src=\"https://colab.research.google.com/assets/colab-badge.svg\" alt=\"Open In Colab\"/></a>"
      ]
    },
    {
      "cell_type": "code",
      "metadata": {
        "id": "c0-OFH96BoRW",
        "colab": {
          "base_uri": "https://localhost:8080/"
        },
        "outputId": "5e077b14-cf0b-4359-d901-008271926f52"
      },
      "source": [
        "#hide\r\n",
        "!pip install -Uqq fastbook\r\n",
        "import fastbook"
      ],
      "execution_count": null,
      "outputs": [
        {
          "output_type": "stream",
          "text": [
            "\u001b[K     |████████████████████████████████| 727kB 10.1MB/s \n",
            "\u001b[K     |████████████████████████████████| 194kB 45.1MB/s \n",
            "\u001b[K     |████████████████████████████████| 51kB 7.7MB/s \n",
            "\u001b[K     |████████████████████████████████| 1.2MB 52.6MB/s \n",
            "\u001b[K     |████████████████████████████████| 61kB 9.7MB/s \n",
            "\u001b[?25h"
          ],
          "name": "stdout"
        }
      ]
    },
    {
      "cell_type": "code",
      "metadata": {
        "id": "8BlUvja4DZA7"
      },
      "source": [
        "#hide\r\n",
        "from fastai.vision.all import *\r\n",
        "from fastbook import *\r\n",
        "\r\n",
        "matplotlib.rc('image', cmap='Greys')"
      ],
      "execution_count": null,
      "outputs": []
    },
    {
      "cell_type": "code",
      "metadata": {
        "id": "eKLvcaDlDkOD",
        "colab": {
          "base_uri": "https://localhost:8080/",
          "height": 17
        },
        "outputId": "be37efca-adb1-4aa9-fb8c-0e5ced7d7007"
      },
      "source": [
        "path = untar_data(URLs.MNIST_SAMPLE)"
      ],
      "execution_count": null,
      "outputs": [
        {
          "output_type": "display_data",
          "data": {
            "text/html": [
              ""
            ],
            "text/plain": [
              "<IPython.core.display.HTML object>"
            ]
          },
          "metadata": {
            "tags": []
          }
        }
      ]
    },
    {
      "cell_type": "code",
      "metadata": {
        "colab": {
          "base_uri": "https://localhost:8080/"
        },
        "id": "fHZ0YKYnDwf6",
        "outputId": "8c4b4062-24c5-4a04-f812-d17a914cf45a"
      },
      "source": [
        "(path/'train/3').ls()"
      ],
      "execution_count": null,
      "outputs": [
        {
          "output_type": "execute_result",
          "data": {
            "text/plain": [
              "(#6131) [Path('/root/.fastai/data/mnist_sample/train/3/45979.png'),Path('/root/.fastai/data/mnist_sample/train/3/39686.png'),Path('/root/.fastai/data/mnist_sample/train/3/50007.png'),Path('/root/.fastai/data/mnist_sample/train/3/54249.png'),Path('/root/.fastai/data/mnist_sample/train/3/21359.png'),Path('/root/.fastai/data/mnist_sample/train/3/16793.png'),Path('/root/.fastai/data/mnist_sample/train/3/16924.png'),Path('/root/.fastai/data/mnist_sample/train/3/1432.png'),Path('/root/.fastai/data/mnist_sample/train/3/54339.png'),Path('/root/.fastai/data/mnist_sample/train/3/52191.png')...]"
            ]
          },
          "metadata": {
            "tags": []
          },
          "execution_count": 4
        }
      ]
    },
    {
      "cell_type": "code",
      "metadata": {
        "colab": {
          "base_uri": "https://localhost:8080/"
        },
        "id": "uZjSg6a7FDTC",
        "outputId": "82c3827d-fff2-461e-9c84-2c7c7dbdecdd"
      },
      "source": [
        "tensor(Image.open((path/'train/3').ls()[0]))"
      ],
      "execution_count": null,
      "outputs": [
        {
          "output_type": "execute_result",
          "data": {
            "text/plain": [
              "tensor([[  0,   0,   0,   0,   0,   0,   0,   0,   0,   0,   0,   0,   0,   0,   0,   0,   0,   0,   0,   0,   0,   0,   0,   0,   0,   0,   0,   0],\n",
              "        [  0,   0,   0,   0,   0,   0,   0,   0,   0,   0,   0,   0,   0,   0,   0,   0,   0,   0,   0,   0,   0,   0,   0,   0,   0,   0,   0,   0],\n",
              "        [  0,   0,   0,   0,   0,   0,   0,   0,   0,   0,   0,   0,   0,   0,   0,   0,   0,   0,   0,   0,   0,   0,   0,   0,   0,   0,   0,   0],\n",
              "        [  0,   0,   0,   0,   0,   0,   0,   0,   0,   0,   0,   0,   0,   0,   0,   0,   0,   0,   0,   0,   0,   0,   0,   0,   0,   0,   0,   0],\n",
              "        [  0,   0,   0,   0,   0,   0,   0,   0,   0,   0,   0,   0,   0,   0,  35, 226, 247, 161,  77,  33,  83,  25,   0,   0,   0,   0,   0,   0],\n",
              "        [  0,   0,   0,   0,   0,   0,   0,   0,   0,   0,   0,   0,   0,   0,  35, 254, 254, 254, 254, 252, 254, 252, 136,   0,   0,   0,   0,   0],\n",
              "        [  0,   0,   0,   0,   0,   0,   0,   0,   0,   0,   0,   0,   0,   0,  25, 181, 181, 123, 181, 176, 129, 254, 168,   0,   0,   0,   0,   0],\n",
              "        [  0,   0,   0,   0,   0,   0,   0,   0,   0,   0,   0,   0,   0,   0,   0,   0,   0,   0,   0,   0,   9, 255, 168,   0,   0,   0,   0,   0],\n",
              "        [  0,   0,   0,   0,   0,   0,   0,   0,   0,   0,   0,   0,   0,   0,   0,   0,   0,   0,   0,  26, 130, 252,  69,   0,   0,   0,   0,   0],\n",
              "        [  0,   0,   0,   0,   0,   0,   0,   0,   0,   0,   0,   0,   0,   0,   0,   0,   0,   6, 103, 242, 249,  77,   0,   0,   0,   0,   0,   0],\n",
              "        [  0,   0,   0,   0,   0,   0,   0,   0,   0,   0,   0,  11,  57, 116, 138, 170, 161, 211, 254, 247, 109,   0,   0,   0,   0,   0,   0,   0],\n",
              "        [  0,   0,   0,   0,   0,   0,   0,   0,   0,   0,  47, 231, 254, 254, 254, 254, 254, 254, 174,  28,   0,   0,   0,   0,   0,   0,   0,   0],\n",
              "        [  0,   0,   0,   0,   0,   0,   0,   0,   0,   0,  53, 254, 254, 254, 254, 254, 254, 254, 185,   0,   0,   0,   0,   0,   0,   0,   0,   0],\n",
              "        [  0,   0,   0,   0,   0,   0,   0,   0,   0,   0,  44, 195, 125, 125,  55,  39,  86, 230, 249,  47,   0,   0,   0,   0,   0,   0,   0,   0],\n",
              "        [  0,   0,   0,   0,   0,   0,   0,   0,   0,   0,   0,   0,   0,   0,   0,   0,   0,  33, 242, 129,   0,   0,   0,   0,   0,   0,   0,   0],\n",
              "        [  0,   0,   0,   0,   0,   0,   0,   0,   0,   0,   0,   0,   0,   0,   0,   0,   0,   8, 212,  85,   0,   0,   0,   0,   0,   0,   0,   0],\n",
              "        [  0,   0,   0,  10,   1,   0,   0,   0,   0,   0,   0,   0,   0,   0,   0,   0,   0,  18, 242,  69,   0,   0,   0,   0,   0,   0,   0,   0],\n",
              "        [  0,   0,   0,  92, 110,   0,   0,   0,   0,   0,   0,   0,   0,   0,   0,   0,   0,  99, 247,  39,   0,   0,   0,   0,   0,   0,   0,   0],\n",
              "        [  0,   0,   0, 169, 236,   6,   0,   0,   0,   0,   0,   0,   0,   0,   0,   0,  28, 240, 193,   0,   0,   0,   0,   0,   0,   0,   0,   0],\n",
              "        [  0,   0,   0, 163, 254,  44,   0,   0,   0,   0,   0,   0,   0,   0,   0,  19, 200, 246,  38,   0,   0,   0,   0,   0,   0,   0,   0,   0],\n",
              "        [  0,   0,   0,  83, 254, 186,  14,   0,   0,   0,   0,   0,   0,   7,  67, 217, 253, 132,   0,   0,   0,   0,   0,   0,   0,   0,   0,   0],\n",
              "        [  0,   0,   0,  24, 217, 254, 235, 160,  46,  39,  86,  96,  96, 203, 255, 237, 114,   0,   0,   0,   0,   0,   0,   0,   0,   0,   0,   0],\n",
              "        [  0,   0,   0,   0,  51, 219, 254, 254, 254, 254, 255, 254, 254, 194,  78,  16,   0,   0,   0,   0,   0,   0,   0,   0,   0,   0,   0,   0],\n",
              "        [  0,   0,   0,   0,   0,  24, 158, 254, 254, 254, 254, 238, 111,   0,   0,   0,   0,   0,   0,   0,   0,   0,   0,   0,   0,   0,   0,   0],\n",
              "        [  0,   0,   0,   0,   0,   0,   0,   0,   0,   0,   0,   0,   0,   0,   0,   0,   0,   0,   0,   0,   0,   0,   0,   0,   0,   0,   0,   0],\n",
              "        [  0,   0,   0,   0,   0,   0,   0,   0,   0,   0,   0,   0,   0,   0,   0,   0,   0,   0,   0,   0,   0,   0,   0,   0,   0,   0,   0,   0],\n",
              "        [  0,   0,   0,   0,   0,   0,   0,   0,   0,   0,   0,   0,   0,   0,   0,   0,   0,   0,   0,   0,   0,   0,   0,   0,   0,   0,   0,   0],\n",
              "        [  0,   0,   0,   0,   0,   0,   0,   0,   0,   0,   0,   0,   0,   0,   0,   0,   0,   0,   0,   0,   0,   0,   0,   0,   0,   0,   0,   0]], dtype=torch.uint8)"
            ]
          },
          "metadata": {
            "tags": []
          },
          "execution_count": 5
        }
      ]
    },
    {
      "cell_type": "markdown",
      "metadata": {
        "id": "Dk87fEe-Fj2T"
      },
      "source": [
        "The \"picture\" above is the internal representation of an image. A series of 0s indicating white and various positive numbers indicating the intensity of black. For example we can see that the numbers at the edges of the picture tend to be smaller than the ones in the center."
      ]
    },
    {
      "cell_type": "markdown",
      "metadata": {
        "id": "utr25fvcGj7q"
      },
      "source": [
        "We need to create some baseline model for classifying digits. One reasonable try is to use the \"average\" 3 or the \"average\" 7 and compare a new digit to those two images and calculate the distance."
      ]
    },
    {
      "cell_type": "code",
      "metadata": {
        "id": "9mf8Pkj_G0Ci"
      },
      "source": [
        "threes = [tensor(Image.open(x)) for x in (path/'train/3').ls()]\r\n",
        "sevens = [tensor(Image.open(x)) for x in (path/'train/7').ls()]\r\n",
        "# Here we have a list of tensors and we need the mean of all of them. The way to do this is to stack them (create a 3 dim tensor), convert them to float tensors (mean does not work on ints) and then take the mean\r\n",
        "threes = torch.stack(threes).float()\r\n",
        "sevens = torch.stack(sevens).float()\r\n",
        "# I could have simply divided the whole thing by 1.0 and Torch would have done the conversion automatically"
      ],
      "execution_count": null,
      "outputs": []
    },
    {
      "cell_type": "code",
      "metadata": {
        "id": "ApMwEaCzG_v6"
      },
      "source": [
        "average_three = torch.mean(threes, dim = 0)\r\n",
        "average_seven = torch.mean(sevens, dim = 0)\r\n",
        "# The dimension specified in torch.mean is the one you collapse by. Here we had tensors of size X*28*28 where X is the number of training examples. So this is the dimension we want to collapse by"
      ],
      "execution_count": null,
      "outputs": []
    },
    {
      "cell_type": "code",
      "metadata": {
        "colab": {
          "base_uri": "https://localhost:8080/",
          "height": 625
        },
        "id": "4Z7DscLaINPS",
        "outputId": "8377b2d8-1107-475a-e30c-3eaaa9031437"
      },
      "source": [
        "df = pd.DataFrame(torch.trunc(average_three))\r\n",
        "df.style.set_properties(**{'font-size':'6pt'}).background_gradient('Greys')"
      ],
      "execution_count": null,
      "outputs": [
        {
          "output_type": "execute_result",
          "data": {
            "text/html": [
              "<style  type=\"text/css\" >\n",
              "#T_bba4fa6a_580e_11eb_ac3e_0242ac1c0002row0_col0,#T_bba4fa6a_580e_11eb_ac3e_0242ac1c0002row0_col1,#T_bba4fa6a_580e_11eb_ac3e_0242ac1c0002row0_col2,#T_bba4fa6a_580e_11eb_ac3e_0242ac1c0002row0_col3,#T_bba4fa6a_580e_11eb_ac3e_0242ac1c0002row0_col4,#T_bba4fa6a_580e_11eb_ac3e_0242ac1c0002row0_col5,#T_bba4fa6a_580e_11eb_ac3e_0242ac1c0002row0_col6,#T_bba4fa6a_580e_11eb_ac3e_0242ac1c0002row0_col7,#T_bba4fa6a_580e_11eb_ac3e_0242ac1c0002row0_col8,#T_bba4fa6a_580e_11eb_ac3e_0242ac1c0002row0_col9,#T_bba4fa6a_580e_11eb_ac3e_0242ac1c0002row0_col10,#T_bba4fa6a_580e_11eb_ac3e_0242ac1c0002row0_col11,#T_bba4fa6a_580e_11eb_ac3e_0242ac1c0002row0_col12,#T_bba4fa6a_580e_11eb_ac3e_0242ac1c0002row0_col13,#T_bba4fa6a_580e_11eb_ac3e_0242ac1c0002row0_col14,#T_bba4fa6a_580e_11eb_ac3e_0242ac1c0002row0_col15,#T_bba4fa6a_580e_11eb_ac3e_0242ac1c0002row0_col16,#T_bba4fa6a_580e_11eb_ac3e_0242ac1c0002row0_col17,#T_bba4fa6a_580e_11eb_ac3e_0242ac1c0002row0_col18,#T_bba4fa6a_580e_11eb_ac3e_0242ac1c0002row0_col19,#T_bba4fa6a_580e_11eb_ac3e_0242ac1c0002row0_col20,#T_bba4fa6a_580e_11eb_ac3e_0242ac1c0002row0_col21,#T_bba4fa6a_580e_11eb_ac3e_0242ac1c0002row0_col22,#T_bba4fa6a_580e_11eb_ac3e_0242ac1c0002row0_col23,#T_bba4fa6a_580e_11eb_ac3e_0242ac1c0002row0_col24,#T_bba4fa6a_580e_11eb_ac3e_0242ac1c0002row0_col25,#T_bba4fa6a_580e_11eb_ac3e_0242ac1c0002row0_col26,#T_bba4fa6a_580e_11eb_ac3e_0242ac1c0002row0_col27,#T_bba4fa6a_580e_11eb_ac3e_0242ac1c0002row1_col0,#T_bba4fa6a_580e_11eb_ac3e_0242ac1c0002row1_col1,#T_bba4fa6a_580e_11eb_ac3e_0242ac1c0002row1_col2,#T_bba4fa6a_580e_11eb_ac3e_0242ac1c0002row1_col3,#T_bba4fa6a_580e_11eb_ac3e_0242ac1c0002row1_col4,#T_bba4fa6a_580e_11eb_ac3e_0242ac1c0002row1_col5,#T_bba4fa6a_580e_11eb_ac3e_0242ac1c0002row1_col6,#T_bba4fa6a_580e_11eb_ac3e_0242ac1c0002row1_col7,#T_bba4fa6a_580e_11eb_ac3e_0242ac1c0002row1_col8,#T_bba4fa6a_580e_11eb_ac3e_0242ac1c0002row1_col9,#T_bba4fa6a_580e_11eb_ac3e_0242ac1c0002row1_col10,#T_bba4fa6a_580e_11eb_ac3e_0242ac1c0002row1_col11,#T_bba4fa6a_580e_11eb_ac3e_0242ac1c0002row1_col12,#T_bba4fa6a_580e_11eb_ac3e_0242ac1c0002row1_col13,#T_bba4fa6a_580e_11eb_ac3e_0242ac1c0002row1_col14,#T_bba4fa6a_580e_11eb_ac3e_0242ac1c0002row1_col15,#T_bba4fa6a_580e_11eb_ac3e_0242ac1c0002row1_col16,#T_bba4fa6a_580e_11eb_ac3e_0242ac1c0002row1_col17,#T_bba4fa6a_580e_11eb_ac3e_0242ac1c0002row1_col18,#T_bba4fa6a_580e_11eb_ac3e_0242ac1c0002row1_col19,#T_bba4fa6a_580e_11eb_ac3e_0242ac1c0002row1_col20,#T_bba4fa6a_580e_11eb_ac3e_0242ac1c0002row1_col21,#T_bba4fa6a_580e_11eb_ac3e_0242ac1c0002row1_col22,#T_bba4fa6a_580e_11eb_ac3e_0242ac1c0002row1_col23,#T_bba4fa6a_580e_11eb_ac3e_0242ac1c0002row1_col24,#T_bba4fa6a_580e_11eb_ac3e_0242ac1c0002row1_col25,#T_bba4fa6a_580e_11eb_ac3e_0242ac1c0002row1_col26,#T_bba4fa6a_580e_11eb_ac3e_0242ac1c0002row1_col27,#T_bba4fa6a_580e_11eb_ac3e_0242ac1c0002row2_col0,#T_bba4fa6a_580e_11eb_ac3e_0242ac1c0002row2_col1,#T_bba4fa6a_580e_11eb_ac3e_0242ac1c0002row2_col2,#T_bba4fa6a_580e_11eb_ac3e_0242ac1c0002row2_col3,#T_bba4fa6a_580e_11eb_ac3e_0242ac1c0002row2_col4,#T_bba4fa6a_580e_11eb_ac3e_0242ac1c0002row2_col5,#T_bba4fa6a_580e_11eb_ac3e_0242ac1c0002row2_col6,#T_bba4fa6a_580e_11eb_ac3e_0242ac1c0002row2_col7,#T_bba4fa6a_580e_11eb_ac3e_0242ac1c0002row2_col8,#T_bba4fa6a_580e_11eb_ac3e_0242ac1c0002row2_col9,#T_bba4fa6a_580e_11eb_ac3e_0242ac1c0002row2_col10,#T_bba4fa6a_580e_11eb_ac3e_0242ac1c0002row2_col11,#T_bba4fa6a_580e_11eb_ac3e_0242ac1c0002row2_col12,#T_bba4fa6a_580e_11eb_ac3e_0242ac1c0002row2_col13,#T_bba4fa6a_580e_11eb_ac3e_0242ac1c0002row2_col14,#T_bba4fa6a_580e_11eb_ac3e_0242ac1c0002row2_col15,#T_bba4fa6a_580e_11eb_ac3e_0242ac1c0002row2_col16,#T_bba4fa6a_580e_11eb_ac3e_0242ac1c0002row2_col17,#T_bba4fa6a_580e_11eb_ac3e_0242ac1c0002row2_col18,#T_bba4fa6a_580e_11eb_ac3e_0242ac1c0002row2_col19,#T_bba4fa6a_580e_11eb_ac3e_0242ac1c0002row2_col20,#T_bba4fa6a_580e_11eb_ac3e_0242ac1c0002row2_col21,#T_bba4fa6a_580e_11eb_ac3e_0242ac1c0002row2_col22,#T_bba4fa6a_580e_11eb_ac3e_0242ac1c0002row2_col23,#T_bba4fa6a_580e_11eb_ac3e_0242ac1c0002row2_col24,#T_bba4fa6a_580e_11eb_ac3e_0242ac1c0002row2_col25,#T_bba4fa6a_580e_11eb_ac3e_0242ac1c0002row2_col26,#T_bba4fa6a_580e_11eb_ac3e_0242ac1c0002row2_col27,#T_bba4fa6a_580e_11eb_ac3e_0242ac1c0002row3_col0,#T_bba4fa6a_580e_11eb_ac3e_0242ac1c0002row3_col1,#T_bba4fa6a_580e_11eb_ac3e_0242ac1c0002row3_col2,#T_bba4fa6a_580e_11eb_ac3e_0242ac1c0002row3_col3,#T_bba4fa6a_580e_11eb_ac3e_0242ac1c0002row3_col4,#T_bba4fa6a_580e_11eb_ac3e_0242ac1c0002row3_col5,#T_bba4fa6a_580e_11eb_ac3e_0242ac1c0002row3_col6,#T_bba4fa6a_580e_11eb_ac3e_0242ac1c0002row3_col7,#T_bba4fa6a_580e_11eb_ac3e_0242ac1c0002row3_col8,#T_bba4fa6a_580e_11eb_ac3e_0242ac1c0002row3_col9,#T_bba4fa6a_580e_11eb_ac3e_0242ac1c0002row3_col19,#T_bba4fa6a_580e_11eb_ac3e_0242ac1c0002row3_col21,#T_bba4fa6a_580e_11eb_ac3e_0242ac1c0002row3_col22,#T_bba4fa6a_580e_11eb_ac3e_0242ac1c0002row3_col23,#T_bba4fa6a_580e_11eb_ac3e_0242ac1c0002row3_col24,#T_bba4fa6a_580e_11eb_ac3e_0242ac1c0002row3_col25,#T_bba4fa6a_580e_11eb_ac3e_0242ac1c0002row3_col26,#T_bba4fa6a_580e_11eb_ac3e_0242ac1c0002row3_col27,#T_bba4fa6a_580e_11eb_ac3e_0242ac1c0002row4_col0,#T_bba4fa6a_580e_11eb_ac3e_0242ac1c0002row4_col1,#T_bba4fa6a_580e_11eb_ac3e_0242ac1c0002row4_col2,#T_bba4fa6a_580e_11eb_ac3e_0242ac1c0002row4_col3,#T_bba4fa6a_580e_11eb_ac3e_0242ac1c0002row4_col4,#T_bba4fa6a_580e_11eb_ac3e_0242ac1c0002row4_col23,#T_bba4fa6a_580e_11eb_ac3e_0242ac1c0002row4_col24,#T_bba4fa6a_580e_11eb_ac3e_0242ac1c0002row4_col25,#T_bba4fa6a_580e_11eb_ac3e_0242ac1c0002row4_col26,#T_bba4fa6a_580e_11eb_ac3e_0242ac1c0002row4_col27,#T_bba4fa6a_580e_11eb_ac3e_0242ac1c0002row5_col0,#T_bba4fa6a_580e_11eb_ac3e_0242ac1c0002row5_col1,#T_bba4fa6a_580e_11eb_ac3e_0242ac1c0002row5_col2,#T_bba4fa6a_580e_11eb_ac3e_0242ac1c0002row5_col3,#T_bba4fa6a_580e_11eb_ac3e_0242ac1c0002row5_col23,#T_bba4fa6a_580e_11eb_ac3e_0242ac1c0002row5_col24,#T_bba4fa6a_580e_11eb_ac3e_0242ac1c0002row5_col25,#T_bba4fa6a_580e_11eb_ac3e_0242ac1c0002row5_col26,#T_bba4fa6a_580e_11eb_ac3e_0242ac1c0002row5_col27,#T_bba4fa6a_580e_11eb_ac3e_0242ac1c0002row6_col0,#T_bba4fa6a_580e_11eb_ac3e_0242ac1c0002row6_col1,#T_bba4fa6a_580e_11eb_ac3e_0242ac1c0002row6_col2,#T_bba4fa6a_580e_11eb_ac3e_0242ac1c0002row6_col24,#T_bba4fa6a_580e_11eb_ac3e_0242ac1c0002row6_col25,#T_bba4fa6a_580e_11eb_ac3e_0242ac1c0002row6_col26,#T_bba4fa6a_580e_11eb_ac3e_0242ac1c0002row6_col27,#T_bba4fa6a_580e_11eb_ac3e_0242ac1c0002row7_col0,#T_bba4fa6a_580e_11eb_ac3e_0242ac1c0002row7_col1,#T_bba4fa6a_580e_11eb_ac3e_0242ac1c0002row7_col2,#T_bba4fa6a_580e_11eb_ac3e_0242ac1c0002row7_col24,#T_bba4fa6a_580e_11eb_ac3e_0242ac1c0002row7_col25,#T_bba4fa6a_580e_11eb_ac3e_0242ac1c0002row7_col26,#T_bba4fa6a_580e_11eb_ac3e_0242ac1c0002row7_col27,#T_bba4fa6a_580e_11eb_ac3e_0242ac1c0002row8_col0,#T_bba4fa6a_580e_11eb_ac3e_0242ac1c0002row8_col1,#T_bba4fa6a_580e_11eb_ac3e_0242ac1c0002row8_col2,#T_bba4fa6a_580e_11eb_ac3e_0242ac1c0002row8_col24,#T_bba4fa6a_580e_11eb_ac3e_0242ac1c0002row8_col25,#T_bba4fa6a_580e_11eb_ac3e_0242ac1c0002row8_col26,#T_bba4fa6a_580e_11eb_ac3e_0242ac1c0002row8_col27,#T_bba4fa6a_580e_11eb_ac3e_0242ac1c0002row9_col0,#T_bba4fa6a_580e_11eb_ac3e_0242ac1c0002row9_col1,#T_bba4fa6a_580e_11eb_ac3e_0242ac1c0002row9_col2,#T_bba4fa6a_580e_11eb_ac3e_0242ac1c0002row9_col24,#T_bba4fa6a_580e_11eb_ac3e_0242ac1c0002row9_col25,#T_bba4fa6a_580e_11eb_ac3e_0242ac1c0002row9_col26,#T_bba4fa6a_580e_11eb_ac3e_0242ac1c0002row9_col27,#T_bba4fa6a_580e_11eb_ac3e_0242ac1c0002row10_col0,#T_bba4fa6a_580e_11eb_ac3e_0242ac1c0002row10_col1,#T_bba4fa6a_580e_11eb_ac3e_0242ac1c0002row10_col2,#T_bba4fa6a_580e_11eb_ac3e_0242ac1c0002row10_col24,#T_bba4fa6a_580e_11eb_ac3e_0242ac1c0002row10_col25,#T_bba4fa6a_580e_11eb_ac3e_0242ac1c0002row10_col26,#T_bba4fa6a_580e_11eb_ac3e_0242ac1c0002row10_col27,#T_bba4fa6a_580e_11eb_ac3e_0242ac1c0002row11_col0,#T_bba4fa6a_580e_11eb_ac3e_0242ac1c0002row11_col1,#T_bba4fa6a_580e_11eb_ac3e_0242ac1c0002row11_col2,#T_bba4fa6a_580e_11eb_ac3e_0242ac1c0002row11_col3,#T_bba4fa6a_580e_11eb_ac3e_0242ac1c0002row11_col23,#T_bba4fa6a_580e_11eb_ac3e_0242ac1c0002row11_col24,#T_bba4fa6a_580e_11eb_ac3e_0242ac1c0002row11_col25,#T_bba4fa6a_580e_11eb_ac3e_0242ac1c0002row11_col26,#T_bba4fa6a_580e_11eb_ac3e_0242ac1c0002row11_col27,#T_bba4fa6a_580e_11eb_ac3e_0242ac1c0002row12_col0,#T_bba4fa6a_580e_11eb_ac3e_0242ac1c0002row12_col1,#T_bba4fa6a_580e_11eb_ac3e_0242ac1c0002row12_col2,#T_bba4fa6a_580e_11eb_ac3e_0242ac1c0002row12_col3,#T_bba4fa6a_580e_11eb_ac3e_0242ac1c0002row12_col23,#T_bba4fa6a_580e_11eb_ac3e_0242ac1c0002row12_col24,#T_bba4fa6a_580e_11eb_ac3e_0242ac1c0002row12_col25,#T_bba4fa6a_580e_11eb_ac3e_0242ac1c0002row12_col26,#T_bba4fa6a_580e_11eb_ac3e_0242ac1c0002row12_col27,#T_bba4fa6a_580e_11eb_ac3e_0242ac1c0002row13_col0,#T_bba4fa6a_580e_11eb_ac3e_0242ac1c0002row13_col1,#T_bba4fa6a_580e_11eb_ac3e_0242ac1c0002row13_col2,#T_bba4fa6a_580e_11eb_ac3e_0242ac1c0002row13_col3,#T_bba4fa6a_580e_11eb_ac3e_0242ac1c0002row13_col4,#T_bba4fa6a_580e_11eb_ac3e_0242ac1c0002row13_col23,#T_bba4fa6a_580e_11eb_ac3e_0242ac1c0002row13_col24,#T_bba4fa6a_580e_11eb_ac3e_0242ac1c0002row13_col25,#T_bba4fa6a_580e_11eb_ac3e_0242ac1c0002row13_col26,#T_bba4fa6a_580e_11eb_ac3e_0242ac1c0002row13_col27,#T_bba4fa6a_580e_11eb_ac3e_0242ac1c0002row14_col0,#T_bba4fa6a_580e_11eb_ac3e_0242ac1c0002row14_col1,#T_bba4fa6a_580e_11eb_ac3e_0242ac1c0002row14_col2,#T_bba4fa6a_580e_11eb_ac3e_0242ac1c0002row14_col3,#T_bba4fa6a_580e_11eb_ac3e_0242ac1c0002row14_col4,#T_bba4fa6a_580e_11eb_ac3e_0242ac1c0002row14_col24,#T_bba4fa6a_580e_11eb_ac3e_0242ac1c0002row14_col25,#T_bba4fa6a_580e_11eb_ac3e_0242ac1c0002row14_col26,#T_bba4fa6a_580e_11eb_ac3e_0242ac1c0002row14_col27,#T_bba4fa6a_580e_11eb_ac3e_0242ac1c0002row15_col0,#T_bba4fa6a_580e_11eb_ac3e_0242ac1c0002row15_col1,#T_bba4fa6a_580e_11eb_ac3e_0242ac1c0002row15_col2,#T_bba4fa6a_580e_11eb_ac3e_0242ac1c0002row15_col3,#T_bba4fa6a_580e_11eb_ac3e_0242ac1c0002row15_col24,#T_bba4fa6a_580e_11eb_ac3e_0242ac1c0002row15_col25,#T_bba4fa6a_580e_11eb_ac3e_0242ac1c0002row15_col26,#T_bba4fa6a_580e_11eb_ac3e_0242ac1c0002row15_col27,#T_bba4fa6a_580e_11eb_ac3e_0242ac1c0002row16_col0,#T_bba4fa6a_580e_11eb_ac3e_0242ac1c0002row16_col1,#T_bba4fa6a_580e_11eb_ac3e_0242ac1c0002row16_col2,#T_bba4fa6a_580e_11eb_ac3e_0242ac1c0002row16_col24,#T_bba4fa6a_580e_11eb_ac3e_0242ac1c0002row16_col25,#T_bba4fa6a_580e_11eb_ac3e_0242ac1c0002row16_col26,#T_bba4fa6a_580e_11eb_ac3e_0242ac1c0002row16_col27,#T_bba4fa6a_580e_11eb_ac3e_0242ac1c0002row17_col0,#T_bba4fa6a_580e_11eb_ac3e_0242ac1c0002row17_col1,#T_bba4fa6a_580e_11eb_ac3e_0242ac1c0002row17_col2,#T_bba4fa6a_580e_11eb_ac3e_0242ac1c0002row17_col24,#T_bba4fa6a_580e_11eb_ac3e_0242ac1c0002row17_col25,#T_bba4fa6a_580e_11eb_ac3e_0242ac1c0002row17_col26,#T_bba4fa6a_580e_11eb_ac3e_0242ac1c0002row17_col27,#T_bba4fa6a_580e_11eb_ac3e_0242ac1c0002row18_col0,#T_bba4fa6a_580e_11eb_ac3e_0242ac1c0002row18_col1,#T_bba4fa6a_580e_11eb_ac3e_0242ac1c0002row18_col24,#T_bba4fa6a_580e_11eb_ac3e_0242ac1c0002row18_col25,#T_bba4fa6a_580e_11eb_ac3e_0242ac1c0002row18_col26,#T_bba4fa6a_580e_11eb_ac3e_0242ac1c0002row18_col27,#T_bba4fa6a_580e_11eb_ac3e_0242ac1c0002row19_col0,#T_bba4fa6a_580e_11eb_ac3e_0242ac1c0002row19_col1,#T_bba4fa6a_580e_11eb_ac3e_0242ac1c0002row19_col24,#T_bba4fa6a_580e_11eb_ac3e_0242ac1c0002row19_col25,#T_bba4fa6a_580e_11eb_ac3e_0242ac1c0002row19_col26,#T_bba4fa6a_580e_11eb_ac3e_0242ac1c0002row19_col27,#T_bba4fa6a_580e_11eb_ac3e_0242ac1c0002row20_col0,#T_bba4fa6a_580e_11eb_ac3e_0242ac1c0002row20_col1,#T_bba4fa6a_580e_11eb_ac3e_0242ac1c0002row20_col24,#T_bba4fa6a_580e_11eb_ac3e_0242ac1c0002row20_col25,#T_bba4fa6a_580e_11eb_ac3e_0242ac1c0002row20_col26,#T_bba4fa6a_580e_11eb_ac3e_0242ac1c0002row20_col27,#T_bba4fa6a_580e_11eb_ac3e_0242ac1c0002row21_col0,#T_bba4fa6a_580e_11eb_ac3e_0242ac1c0002row21_col1,#T_bba4fa6a_580e_11eb_ac3e_0242ac1c0002row21_col24,#T_bba4fa6a_580e_11eb_ac3e_0242ac1c0002row21_col25,#T_bba4fa6a_580e_11eb_ac3e_0242ac1c0002row21_col26,#T_bba4fa6a_580e_11eb_ac3e_0242ac1c0002row21_col27,#T_bba4fa6a_580e_11eb_ac3e_0242ac1c0002row22_col0,#T_bba4fa6a_580e_11eb_ac3e_0242ac1c0002row22_col1,#T_bba4fa6a_580e_11eb_ac3e_0242ac1c0002row22_col23,#T_bba4fa6a_580e_11eb_ac3e_0242ac1c0002row22_col24,#T_bba4fa6a_580e_11eb_ac3e_0242ac1c0002row22_col25,#T_bba4fa6a_580e_11eb_ac3e_0242ac1c0002row22_col26,#T_bba4fa6a_580e_11eb_ac3e_0242ac1c0002row22_col27,#T_bba4fa6a_580e_11eb_ac3e_0242ac1c0002row23_col0,#T_bba4fa6a_580e_11eb_ac3e_0242ac1c0002row23_col1,#T_bba4fa6a_580e_11eb_ac3e_0242ac1c0002row23_col2,#T_bba4fa6a_580e_11eb_ac3e_0242ac1c0002row23_col22,#T_bba4fa6a_580e_11eb_ac3e_0242ac1c0002row23_col23,#T_bba4fa6a_580e_11eb_ac3e_0242ac1c0002row23_col24,#T_bba4fa6a_580e_11eb_ac3e_0242ac1c0002row23_col25,#T_bba4fa6a_580e_11eb_ac3e_0242ac1c0002row23_col26,#T_bba4fa6a_580e_11eb_ac3e_0242ac1c0002row23_col27,#T_bba4fa6a_580e_11eb_ac3e_0242ac1c0002row24_col0,#T_bba4fa6a_580e_11eb_ac3e_0242ac1c0002row24_col1,#T_bba4fa6a_580e_11eb_ac3e_0242ac1c0002row24_col2,#T_bba4fa6a_580e_11eb_ac3e_0242ac1c0002row24_col21,#T_bba4fa6a_580e_11eb_ac3e_0242ac1c0002row24_col22,#T_bba4fa6a_580e_11eb_ac3e_0242ac1c0002row24_col23,#T_bba4fa6a_580e_11eb_ac3e_0242ac1c0002row24_col24,#T_bba4fa6a_580e_11eb_ac3e_0242ac1c0002row24_col25,#T_bba4fa6a_580e_11eb_ac3e_0242ac1c0002row24_col26,#T_bba4fa6a_580e_11eb_ac3e_0242ac1c0002row24_col27,#T_bba4fa6a_580e_11eb_ac3e_0242ac1c0002row25_col0,#T_bba4fa6a_580e_11eb_ac3e_0242ac1c0002row25_col1,#T_bba4fa6a_580e_11eb_ac3e_0242ac1c0002row25_col2,#T_bba4fa6a_580e_11eb_ac3e_0242ac1c0002row25_col3,#T_bba4fa6a_580e_11eb_ac3e_0242ac1c0002row25_col4,#T_bba4fa6a_580e_11eb_ac3e_0242ac1c0002row25_col5,#T_bba4fa6a_580e_11eb_ac3e_0242ac1c0002row25_col18,#T_bba4fa6a_580e_11eb_ac3e_0242ac1c0002row25_col19,#T_bba4fa6a_580e_11eb_ac3e_0242ac1c0002row25_col20,#T_bba4fa6a_580e_11eb_ac3e_0242ac1c0002row25_col21,#T_bba4fa6a_580e_11eb_ac3e_0242ac1c0002row25_col22,#T_bba4fa6a_580e_11eb_ac3e_0242ac1c0002row25_col23,#T_bba4fa6a_580e_11eb_ac3e_0242ac1c0002row25_col24,#T_bba4fa6a_580e_11eb_ac3e_0242ac1c0002row25_col25,#T_bba4fa6a_580e_11eb_ac3e_0242ac1c0002row25_col26,#T_bba4fa6a_580e_11eb_ac3e_0242ac1c0002row25_col27,#T_bba4fa6a_580e_11eb_ac3e_0242ac1c0002row26_col0,#T_bba4fa6a_580e_11eb_ac3e_0242ac1c0002row26_col1,#T_bba4fa6a_580e_11eb_ac3e_0242ac1c0002row26_col2,#T_bba4fa6a_580e_11eb_ac3e_0242ac1c0002row26_col3,#T_bba4fa6a_580e_11eb_ac3e_0242ac1c0002row26_col4,#T_bba4fa6a_580e_11eb_ac3e_0242ac1c0002row26_col5,#T_bba4fa6a_580e_11eb_ac3e_0242ac1c0002row26_col6,#T_bba4fa6a_580e_11eb_ac3e_0242ac1c0002row26_col7,#T_bba4fa6a_580e_11eb_ac3e_0242ac1c0002row26_col8,#T_bba4fa6a_580e_11eb_ac3e_0242ac1c0002row26_col9,#T_bba4fa6a_580e_11eb_ac3e_0242ac1c0002row26_col10,#T_bba4fa6a_580e_11eb_ac3e_0242ac1c0002row26_col11,#T_bba4fa6a_580e_11eb_ac3e_0242ac1c0002row26_col12,#T_bba4fa6a_580e_11eb_ac3e_0242ac1c0002row26_col13,#T_bba4fa6a_580e_11eb_ac3e_0242ac1c0002row26_col14,#T_bba4fa6a_580e_11eb_ac3e_0242ac1c0002row26_col15,#T_bba4fa6a_580e_11eb_ac3e_0242ac1c0002row26_col16,#T_bba4fa6a_580e_11eb_ac3e_0242ac1c0002row26_col17,#T_bba4fa6a_580e_11eb_ac3e_0242ac1c0002row26_col18,#T_bba4fa6a_580e_11eb_ac3e_0242ac1c0002row26_col19,#T_bba4fa6a_580e_11eb_ac3e_0242ac1c0002row26_col20,#T_bba4fa6a_580e_11eb_ac3e_0242ac1c0002row26_col21,#T_bba4fa6a_580e_11eb_ac3e_0242ac1c0002row26_col22,#T_bba4fa6a_580e_11eb_ac3e_0242ac1c0002row26_col23,#T_bba4fa6a_580e_11eb_ac3e_0242ac1c0002row26_col24,#T_bba4fa6a_580e_11eb_ac3e_0242ac1c0002row26_col25,#T_bba4fa6a_580e_11eb_ac3e_0242ac1c0002row26_col26,#T_bba4fa6a_580e_11eb_ac3e_0242ac1c0002row26_col27,#T_bba4fa6a_580e_11eb_ac3e_0242ac1c0002row27_col0,#T_bba4fa6a_580e_11eb_ac3e_0242ac1c0002row27_col1,#T_bba4fa6a_580e_11eb_ac3e_0242ac1c0002row27_col2,#T_bba4fa6a_580e_11eb_ac3e_0242ac1c0002row27_col3,#T_bba4fa6a_580e_11eb_ac3e_0242ac1c0002row27_col4,#T_bba4fa6a_580e_11eb_ac3e_0242ac1c0002row27_col5,#T_bba4fa6a_580e_11eb_ac3e_0242ac1c0002row27_col6,#T_bba4fa6a_580e_11eb_ac3e_0242ac1c0002row27_col7,#T_bba4fa6a_580e_11eb_ac3e_0242ac1c0002row27_col8,#T_bba4fa6a_580e_11eb_ac3e_0242ac1c0002row27_col9,#T_bba4fa6a_580e_11eb_ac3e_0242ac1c0002row27_col10,#T_bba4fa6a_580e_11eb_ac3e_0242ac1c0002row27_col11,#T_bba4fa6a_580e_11eb_ac3e_0242ac1c0002row27_col12,#T_bba4fa6a_580e_11eb_ac3e_0242ac1c0002row27_col13,#T_bba4fa6a_580e_11eb_ac3e_0242ac1c0002row27_col14,#T_bba4fa6a_580e_11eb_ac3e_0242ac1c0002row27_col15,#T_bba4fa6a_580e_11eb_ac3e_0242ac1c0002row27_col16,#T_bba4fa6a_580e_11eb_ac3e_0242ac1c0002row27_col17,#T_bba4fa6a_580e_11eb_ac3e_0242ac1c0002row27_col18,#T_bba4fa6a_580e_11eb_ac3e_0242ac1c0002row27_col19,#T_bba4fa6a_580e_11eb_ac3e_0242ac1c0002row27_col20,#T_bba4fa6a_580e_11eb_ac3e_0242ac1c0002row27_col21,#T_bba4fa6a_580e_11eb_ac3e_0242ac1c0002row27_col22,#T_bba4fa6a_580e_11eb_ac3e_0242ac1c0002row27_col23,#T_bba4fa6a_580e_11eb_ac3e_0242ac1c0002row27_col24,#T_bba4fa6a_580e_11eb_ac3e_0242ac1c0002row27_col25,#T_bba4fa6a_580e_11eb_ac3e_0242ac1c0002row27_col26,#T_bba4fa6a_580e_11eb_ac3e_0242ac1c0002row27_col27{\n",
              "            font-size:  6pt;\n",
              "            background-color:  #ffffff;\n",
              "            color:  #000000;\n",
              "        }#T_bba4fa6a_580e_11eb_ac3e_0242ac1c0002row3_col10,#T_bba4fa6a_580e_11eb_ac3e_0242ac1c0002row3_col18,#T_bba4fa6a_580e_11eb_ac3e_0242ac1c0002row3_col20,#T_bba4fa6a_580e_11eb_ac3e_0242ac1c0002row24_col20,#T_bba4fa6a_580e_11eb_ac3e_0242ac1c0002row25_col6,#T_bba4fa6a_580e_11eb_ac3e_0242ac1c0002row25_col17{\n",
              "            font-size:  6pt;\n",
              "            background-color:  #fefefe;\n",
              "            color:  #000000;\n",
              "        }#T_bba4fa6a_580e_11eb_ac3e_0242ac1c0002row3_col11,#T_bba4fa6a_580e_11eb_ac3e_0242ac1c0002row4_col5,#T_bba4fa6a_580e_11eb_ac3e_0242ac1c0002row13_col5,#T_bba4fa6a_580e_11eb_ac3e_0242ac1c0002row14_col5,#T_bba4fa6a_580e_11eb_ac3e_0242ac1c0002row25_col7,#T_bba4fa6a_580e_11eb_ac3e_0242ac1c0002row25_col16{\n",
              "            font-size:  6pt;\n",
              "            background-color:  #fdfdfd;\n",
              "            color:  #000000;\n",
              "        }#T_bba4fa6a_580e_11eb_ac3e_0242ac1c0002row3_col12,#T_bba4fa6a_580e_11eb_ac3e_0242ac1c0002row3_col13,#T_bba4fa6a_580e_11eb_ac3e_0242ac1c0002row3_col14,#T_bba4fa6a_580e_11eb_ac3e_0242ac1c0002row3_col15,#T_bba4fa6a_580e_11eb_ac3e_0242ac1c0002row3_col16,#T_bba4fa6a_580e_11eb_ac3e_0242ac1c0002row3_col17,#T_bba4fa6a_580e_11eb_ac3e_0242ac1c0002row24_col19,#T_bba4fa6a_580e_11eb_ac3e_0242ac1c0002row25_col15{\n",
              "            font-size:  6pt;\n",
              "            background-color:  #fcfcfc;\n",
              "            color:  #000000;\n",
              "        }#T_bba4fa6a_580e_11eb_ac3e_0242ac1c0002row4_col6,#T_bba4fa6a_580e_11eb_ac3e_0242ac1c0002row12_col5,#T_bba4fa6a_580e_11eb_ac3e_0242ac1c0002row12_col6,#T_bba4fa6a_580e_11eb_ac3e_0242ac1c0002row13_col6,#T_bba4fa6a_580e_11eb_ac3e_0242ac1c0002row14_col6,#T_bba4fa6a_580e_11eb_ac3e_0242ac1c0002row15_col5,#T_bba4fa6a_580e_11eb_ac3e_0242ac1c0002row25_col9,#T_bba4fa6a_580e_11eb_ac3e_0242ac1c0002row25_col13{\n",
              "            font-size:  6pt;\n",
              "            background-color:  #fafafa;\n",
              "            color:  #000000;\n",
              "        }#T_bba4fa6a_580e_11eb_ac3e_0242ac1c0002row4_col7,#T_bba4fa6a_580e_11eb_ac3e_0242ac1c0002row5_col4,#T_bba4fa6a_580e_11eb_ac3e_0242ac1c0002row11_col4,#T_bba4fa6a_580e_11eb_ac3e_0242ac1c0002row11_col5,#T_bba4fa6a_580e_11eb_ac3e_0242ac1c0002row11_col6,#T_bba4fa6a_580e_11eb_ac3e_0242ac1c0002row11_col7,#T_bba4fa6a_580e_11eb_ac3e_0242ac1c0002row11_col22,#T_bba4fa6a_580e_11eb_ac3e_0242ac1c0002row12_col7,#T_bba4fa6a_580e_11eb_ac3e_0242ac1c0002row18_col11,#T_bba4fa6a_580e_11eb_ac3e_0242ac1c0002row18_col12,#T_bba4fa6a_580e_11eb_ac3e_0242ac1c0002row18_col13,#T_bba4fa6a_580e_11eb_ac3e_0242ac1c0002row22_col22{\n",
              "            font-size:  6pt;\n",
              "            background-color:  #f7f7f7;\n",
              "            color:  #000000;\n",
              "        }#T_bba4fa6a_580e_11eb_ac3e_0242ac1c0002row4_col8,#T_bba4fa6a_580e_11eb_ac3e_0242ac1c0002row13_col22,#T_bba4fa6a_580e_11eb_ac3e_0242ac1c0002row16_col4,#T_bba4fa6a_580e_11eb_ac3e_0242ac1c0002row16_col5,#T_bba4fa6a_580e_11eb_ac3e_0242ac1c0002row24_col4{\n",
              "            font-size:  6pt;\n",
              "            background-color:  #f2f2f2;\n",
              "            color:  #000000;\n",
              "        }#T_bba4fa6a_580e_11eb_ac3e_0242ac1c0002row4_col9,#T_bba4fa6a_580e_11eb_ac3e_0242ac1c0002row5_col5,#T_bba4fa6a_580e_11eb_ac3e_0242ac1c0002row5_col22,#T_bba4fa6a_580e_11eb_ac3e_0242ac1c0002row10_col4,#T_bba4fa6a_580e_11eb_ac3e_0242ac1c0002row10_col5,#T_bba4fa6a_580e_11eb_ac3e_0242ac1c0002row10_col7,#T_bba4fa6a_580e_11eb_ac3e_0242ac1c0002row17_col7,#T_bba4fa6a_580e_11eb_ac3e_0242ac1c0002row23_col19,#T_bba4fa6a_580e_11eb_ac3e_0242ac1c0002row24_col5{\n",
              "            font-size:  6pt;\n",
              "            background-color:  #ececec;\n",
              "            color:  #000000;\n",
              "        }#T_bba4fa6a_580e_11eb_ac3e_0242ac1c0002row4_col10,#T_bba4fa6a_580e_11eb_ac3e_0242ac1c0002row5_col6,#T_bba4fa6a_580e_11eb_ac3e_0242ac1c0002row11_col10,#T_bba4fa6a_580e_11eb_ac3e_0242ac1c0002row13_col8,#T_bba4fa6a_580e_11eb_ac3e_0242ac1c0002row16_col10{\n",
              "            font-size:  6pt;\n",
              "            background-color:  #e1e1e1;\n",
              "            color:  #000000;\n",
              "        }#T_bba4fa6a_580e_11eb_ac3e_0242ac1c0002row4_col11,#T_bba4fa6a_580e_11eb_ac3e_0242ac1c0002row9_col4,#T_bba4fa6a_580e_11eb_ac3e_0242ac1c0002row9_col9,#T_bba4fa6a_580e_11eb_ac3e_0242ac1c0002row21_col22{\n",
              "            font-size:  6pt;\n",
              "            background-color:  #d7d7d7;\n",
              "            color:  #000000;\n",
              "        }#T_bba4fa6a_580e_11eb_ac3e_0242ac1c0002row4_col12,#T_bba4fa6a_580e_11eb_ac3e_0242ac1c0002row5_col20,#T_bba4fa6a_580e_11eb_ac3e_0242ac1c0002row9_col6{\n",
              "            font-size:  6pt;\n",
              "            background-color:  #cccccc;\n",
              "            color:  #000000;\n",
              "        }#T_bba4fa6a_580e_11eb_ac3e_0242ac1c0002row4_col13,#T_bba4fa6a_580e_11eb_ac3e_0242ac1c0002row4_col14,#T_bba4fa6a_580e_11eb_ac3e_0242ac1c0002row6_col5,#T_bba4fa6a_580e_11eb_ac3e_0242ac1c0002row11_col20{\n",
              "            font-size:  6pt;\n",
              "            background-color:  #cacaca;\n",
              "            color:  #000000;\n",
              "        }#T_bba4fa6a_580e_11eb_ac3e_0242ac1c0002row4_col15{\n",
              "            font-size:  6pt;\n",
              "            background-color:  #cdcdcd;\n",
              "            color:  #000000;\n",
              "        }#T_bba4fa6a_580e_11eb_ac3e_0242ac1c0002row4_col16{\n",
              "            font-size:  6pt;\n",
              "            background-color:  #d4d4d4;\n",
              "            color:  #000000;\n",
              "        }#T_bba4fa6a_580e_11eb_ac3e_0242ac1c0002row4_col17{\n",
              "            font-size:  6pt;\n",
              "            background-color:  #dbdbdb;\n",
              "            color:  #000000;\n",
              "        }#T_bba4fa6a_580e_11eb_ac3e_0242ac1c0002row4_col18,#T_bba4fa6a_580e_11eb_ac3e_0242ac1c0002row10_col11,#T_bba4fa6a_580e_11eb_ac3e_0242ac1c0002row11_col21{\n",
              "            font-size:  6pt;\n",
              "            background-color:  #e7e7e7;\n",
              "            color:  #000000;\n",
              "        }#T_bba4fa6a_580e_11eb_ac3e_0242ac1c0002row4_col19,#T_bba4fa6a_580e_11eb_ac3e_0242ac1c0002row10_col9,#T_bba4fa6a_580e_11eb_ac3e_0242ac1c0002row10_col23,#T_bba4fa6a_580e_11eb_ac3e_0242ac1c0002row11_col9,#T_bba4fa6a_580e_11eb_ac3e_0242ac1c0002row12_col21,#T_bba4fa6a_580e_11eb_ac3e_0242ac1c0002row14_col23,#T_bba4fa6a_580e_11eb_ac3e_0242ac1c0002row17_col14,#T_bba4fa6a_580e_11eb_ac3e_0242ac1c0002row18_col9,#T_bba4fa6a_580e_11eb_ac3e_0242ac1c0002row19_col12,#T_bba4fa6a_580e_11eb_ac3e_0242ac1c0002row21_col23{\n",
              "            font-size:  6pt;\n",
              "            background-color:  #f0f0f0;\n",
              "            color:  #000000;\n",
              "        }#T_bba4fa6a_580e_11eb_ac3e_0242ac1c0002row4_col20,#T_bba4fa6a_580e_11eb_ac3e_0242ac1c0002row6_col3,#T_bba4fa6a_580e_11eb_ac3e_0242ac1c0002row10_col3,#T_bba4fa6a_580e_11eb_ac3e_0242ac1c0002row11_col8,#T_bba4fa6a_580e_11eb_ac3e_0242ac1c0002row16_col3,#T_bba4fa6a_580e_11eb_ac3e_0242ac1c0002row17_col10,#T_bba4fa6a_580e_11eb_ac3e_0242ac1c0002row17_col12,#T_bba4fa6a_580e_11eb_ac3e_0242ac1c0002row18_col10,#T_bba4fa6a_580e_11eb_ac3e_0242ac1c0002row24_col3{\n",
              "            font-size:  6pt;\n",
              "            background-color:  #f5f5f5;\n",
              "            color:  #000000;\n",
              "        }#T_bba4fa6a_580e_11eb_ac3e_0242ac1c0002row4_col21,#T_bba4fa6a_580e_11eb_ac3e_0242ac1c0002row25_col10,#T_bba4fa6a_580e_11eb_ac3e_0242ac1c0002row25_col11,#T_bba4fa6a_580e_11eb_ac3e_0242ac1c0002row25_col12{\n",
              "            font-size:  6pt;\n",
              "            background-color:  #f9f9f9;\n",
              "            color:  #000000;\n",
              "        }#T_bba4fa6a_580e_11eb_ac3e_0242ac1c0002row4_col22,#T_bba4fa6a_580e_11eb_ac3e_0242ac1c0002row12_col4,#T_bba4fa6a_580e_11eb_ac3e_0242ac1c0002row12_col22,#T_bba4fa6a_580e_11eb_ac3e_0242ac1c0002row15_col4,#T_bba4fa6a_580e_11eb_ac3e_0242ac1c0002row23_col21,#T_bba4fa6a_580e_11eb_ac3e_0242ac1c0002row25_col8,#T_bba4fa6a_580e_11eb_ac3e_0242ac1c0002row25_col14{\n",
              "            font-size:  6pt;\n",
              "            background-color:  #fbfbfb;\n",
              "            color:  #000000;\n",
              "        }#T_bba4fa6a_580e_11eb_ac3e_0242ac1c0002row5_col7,#T_bba4fa6a_580e_11eb_ac3e_0242ac1c0002row14_col22,#T_bba4fa6a_580e_11eb_ac3e_0242ac1c0002row17_col4,#T_bba4fa6a_580e_11eb_ac3e_0242ac1c0002row24_col8{\n",
              "            font-size:  6pt;\n",
              "            background-color:  #cfcfcf;\n",
              "            color:  #000000;\n",
              "        }#T_bba4fa6a_580e_11eb_ac3e_0242ac1c0002row5_col8,#T_bba4fa6a_580e_11eb_ac3e_0242ac1c0002row8_col4,#T_bba4fa6a_580e_11eb_ac3e_0242ac1c0002row9_col14,#T_bba4fa6a_580e_11eb_ac3e_0242ac1c0002row23_col4{\n",
              "            font-size:  6pt;\n",
              "            background-color:  #bebebe;\n",
              "            color:  #000000;\n",
              "        }#T_bba4fa6a_580e_11eb_ac3e_0242ac1c0002row5_col9,#T_bba4fa6a_580e_11eb_ac3e_0242ac1c0002row8_col6,#T_bba4fa6a_580e_11eb_ac3e_0242ac1c0002row8_col14{\n",
              "            font-size:  6pt;\n",
              "            background-color:  #9f9f9f;\n",
              "            color:  #000000;\n",
              "        }#T_bba4fa6a_580e_11eb_ac3e_0242ac1c0002row5_col10,#T_bba4fa6a_580e_11eb_ac3e_0242ac1c0002row8_col15{\n",
              "            font-size:  6pt;\n",
              "            background-color:  #7f7f7f;\n",
              "            color:  #000000;\n",
              "        }#T_bba4fa6a_580e_11eb_ac3e_0242ac1c0002row5_col11{\n",
              "            font-size:  6pt;\n",
              "            background-color:  #626262;\n",
              "            color:  #f1f1f1;\n",
              "        }#T_bba4fa6a_580e_11eb_ac3e_0242ac1c0002row5_col12,#T_bba4fa6a_580e_11eb_ac3e_0242ac1c0002row16_col22{\n",
              "            font-size:  6pt;\n",
              "            background-color:  #474747;\n",
              "            color:  #f1f1f1;\n",
              "        }#T_bba4fa6a_580e_11eb_ac3e_0242ac1c0002row5_col13,#T_bba4fa6a_580e_11eb_ac3e_0242ac1c0002row5_col14,#T_bba4fa6a_580e_11eb_ac3e_0242ac1c0002row15_col20{\n",
              "            font-size:  6pt;\n",
              "            background-color:  #404040;\n",
              "            color:  #f1f1f1;\n",
              "        }#T_bba4fa6a_580e_11eb_ac3e_0242ac1c0002row5_col15,#T_bba4fa6a_580e_11eb_ac3e_0242ac1c0002row18_col17,#T_bba4fa6a_580e_11eb_ac3e_0242ac1c0002row20_col7,#T_bba4fa6a_580e_11eb_ac3e_0242ac1c0002row22_col5{\n",
              "            font-size:  6pt;\n",
              "            background-color:  #4b4b4b;\n",
              "            color:  #f1f1f1;\n",
              "        }#T_bba4fa6a_580e_11eb_ac3e_0242ac1c0002row5_col16,#T_bba4fa6a_580e_11eb_ac3e_0242ac1c0002row22_col17{\n",
              "            font-size:  6pt;\n",
              "            background-color:  #545454;\n",
              "            color:  #f1f1f1;\n",
              "        }#T_bba4fa6a_580e_11eb_ac3e_0242ac1c0002row5_col17,#T_bba4fa6a_580e_11eb_ac3e_0242ac1c0002row15_col21,#T_bba4fa6a_580e_11eb_ac3e_0242ac1c0002row20_col21{\n",
              "            font-size:  6pt;\n",
              "            background-color:  #656565;\n",
              "            color:  #f1f1f1;\n",
              "        }#T_bba4fa6a_580e_11eb_ac3e_0242ac1c0002row5_col18,#T_bba4fa6a_580e_11eb_ac3e_0242ac1c0002row15_col12,#T_bba4fa6a_580e_11eb_ac3e_0242ac1c0002row15_col15{\n",
              "            font-size:  6pt;\n",
              "            background-color:  #8e8e8e;\n",
              "            color:  #000000;\n",
              "        }#T_bba4fa6a_580e_11eb_ac3e_0242ac1c0002row5_col19{\n",
              "            font-size:  6pt;\n",
              "            background-color:  #b9b9b9;\n",
              "            color:  #000000;\n",
              "        }#T_bba4fa6a_580e_11eb_ac3e_0242ac1c0002row5_col21,#T_bba4fa6a_580e_11eb_ac3e_0242ac1c0002row9_col11,#T_bba4fa6a_580e_11eb_ac3e_0242ac1c0002row9_col12,#T_bba4fa6a_580e_11eb_ac3e_0242ac1c0002row14_col8,#T_bba4fa6a_580e_11eb_ac3e_0242ac1c0002row16_col12,#T_bba4fa6a_580e_11eb_ac3e_0242ac1c0002row17_col5,#T_bba4fa6a_580e_11eb_ac3e_0242ac1c0002row18_col15{\n",
              "            font-size:  6pt;\n",
              "            background-color:  #dcdcdc;\n",
              "            color:  #000000;\n",
              "        }#T_bba4fa6a_580e_11eb_ac3e_0242ac1c0002row6_col4,#T_bba4fa6a_580e_11eb_ac3e_0242ac1c0002row10_col22,#T_bba4fa6a_580e_11eb_ac3e_0242ac1c0002row16_col13,#T_bba4fa6a_580e_11eb_ac3e_0242ac1c0002row19_col14,#T_bba4fa6a_580e_11eb_ac3e_0242ac1c0002row24_col15{\n",
              "            font-size:  6pt;\n",
              "            background-color:  #dfdfdf;\n",
              "            color:  #000000;\n",
              "        }#T_bba4fa6a_580e_11eb_ac3e_0242ac1c0002row6_col6{\n",
              "            font-size:  6pt;\n",
              "            background-color:  #b0b0b0;\n",
              "            color:  #000000;\n",
              "        }#T_bba4fa6a_580e_11eb_ac3e_0242ac1c0002row6_col7{\n",
              "            font-size:  6pt;\n",
              "            background-color:  #888888;\n",
              "            color:  #000000;\n",
              "        }#T_bba4fa6a_580e_11eb_ac3e_0242ac1c0002row6_col8,#T_bba4fa6a_580e_11eb_ac3e_0242ac1c0002row7_col7,#T_bba4fa6a_580e_11eb_ac3e_0242ac1c0002row7_col21{\n",
              "            font-size:  6pt;\n",
              "            background-color:  #6e6e6e;\n",
              "            color:  #000000;\n",
              "        }#T_bba4fa6a_580e_11eb_ac3e_0242ac1c0002row6_col9,#T_bba4fa6a_580e_11eb_ac3e_0242ac1c0002row23_col14{\n",
              "            font-size:  6pt;\n",
              "            background-color:  #555555;\n",
              "            color:  #f1f1f1;\n",
              "        }#T_bba4fa6a_580e_11eb_ac3e_0242ac1c0002row6_col10,#T_bba4fa6a_580e_11eb_ac3e_0242ac1c0002row21_col18{\n",
              "            font-size:  6pt;\n",
              "            background-color:  #363636;\n",
              "            color:  #f1f1f1;\n",
              "        }#T_bba4fa6a_580e_11eb_ac3e_0242ac1c0002row6_col11,#T_bba4fa6a_580e_11eb_ac3e_0242ac1c0002row9_col18,#T_bba4fa6a_580e_11eb_ac3e_0242ac1c0002row14_col18,#T_bba4fa6a_580e_11eb_ac3e_0242ac1c0002row21_col8{\n",
              "            font-size:  6pt;\n",
              "            background-color:  #1c1c1c;\n",
              "            color:  #f1f1f1;\n",
              "        }#T_bba4fa6a_580e_11eb_ac3e_0242ac1c0002row6_col12,#T_bba4fa6a_580e_11eb_ac3e_0242ac1c0002row6_col14,#T_bba4fa6a_580e_11eb_ac3e_0242ac1c0002row6_col15,#T_bba4fa6a_580e_11eb_ac3e_0242ac1c0002row14_col17{\n",
              "            font-size:  6pt;\n",
              "            background-color:  #0d0d0d;\n",
              "            color:  #f1f1f1;\n",
              "        }#T_bba4fa6a_580e_11eb_ac3e_0242ac1c0002row6_col13{\n",
              "            font-size:  6pt;\n",
              "            background-color:  #101010;\n",
              "            color:  #f1f1f1;\n",
              "        }#T_bba4fa6a_580e_11eb_ac3e_0242ac1c0002row6_col16,#T_bba4fa6a_580e_11eb_ac3e_0242ac1c0002row12_col14{\n",
              "            font-size:  6pt;\n",
              "            background-color:  #020202;\n",
              "            color:  #f1f1f1;\n",
              "        }#T_bba4fa6a_580e_11eb_ac3e_0242ac1c0002row6_col17,#T_bba4fa6a_580e_11eb_ac3e_0242ac1c0002row17_col21,#T_bba4fa6a_580e_11eb_ac3e_0242ac1c0002row20_col17{\n",
              "            font-size:  6pt;\n",
              "            background-color:  #050505;\n",
              "            color:  #f1f1f1;\n",
              "        }#T_bba4fa6a_580e_11eb_ac3e_0242ac1c0002row6_col18,#T_bba4fa6a_580e_11eb_ac3e_0242ac1c0002row10_col18,#T_bba4fa6a_580e_11eb_ac3e_0242ac1c0002row14_col12{\n",
              "            font-size:  6pt;\n",
              "            background-color:  #303030;\n",
              "            color:  #f1f1f1;\n",
              "        }#T_bba4fa6a_580e_11eb_ac3e_0242ac1c0002row6_col19,#T_bba4fa6a_580e_11eb_ac3e_0242ac1c0002row9_col20{\n",
              "            font-size:  6pt;\n",
              "            background-color:  #6a6a6a;\n",
              "            color:  #000000;\n",
              "        }#T_bba4fa6a_580e_11eb_ac3e_0242ac1c0002row6_col20{\n",
              "            font-size:  6pt;\n",
              "            background-color:  #818181;\n",
              "            color:  #000000;\n",
              "        }#T_bba4fa6a_580e_11eb_ac3e_0242ac1c0002row6_col21,#T_bba4fa6a_580e_11eb_ac3e_0242ac1c0002row7_col22,#T_bba4fa6a_580e_11eb_ac3e_0242ac1c0002row16_col16,#T_bba4fa6a_580e_11eb_ac3e_0242ac1c0002row19_col7{\n",
              "            font-size:  6pt;\n",
              "            background-color:  #9c9c9c;\n",
              "            color:  #000000;\n",
              "        }#T_bba4fa6a_580e_11eb_ac3e_0242ac1c0002row6_col22,#T_bba4fa6a_580e_11eb_ac3e_0242ac1c0002row7_col4,#T_bba4fa6a_580e_11eb_ac3e_0242ac1c0002row11_col11,#T_bba4fa6a_580e_11eb_ac3e_0242ac1c0002row18_col6{\n",
              "            font-size:  6pt;\n",
              "            background-color:  #c6c6c6;\n",
              "            color:  #000000;\n",
              "        }#T_bba4fa6a_580e_11eb_ac3e_0242ac1c0002row6_col23,#T_bba4fa6a_580e_11eb_ac3e_0242ac1c0002row7_col23,#T_bba4fa6a_580e_11eb_ac3e_0242ac1c0002row8_col3,#T_bba4fa6a_580e_11eb_ac3e_0242ac1c0002row8_col23,#T_bba4fa6a_580e_11eb_ac3e_0242ac1c0002row9_col23,#T_bba4fa6a_580e_11eb_ac3e_0242ac1c0002row17_col3,#T_bba4fa6a_580e_11eb_ac3e_0242ac1c0002row19_col9,#T_bba4fa6a_580e_11eb_ac3e_0242ac1c0002row23_col3,#T_bba4fa6a_580e_11eb_ac3e_0242ac1c0002row24_col7{\n",
              "            font-size:  6pt;\n",
              "            background-color:  #d9d9d9;\n",
              "            color:  #000000;\n",
              "        }#T_bba4fa6a_580e_11eb_ac3e_0242ac1c0002row7_col3,#T_bba4fa6a_580e_11eb_ac3e_0242ac1c0002row9_col3,#T_bba4fa6a_580e_11eb_ac3e_0242ac1c0002row16_col9,#T_bba4fa6a_580e_11eb_ac3e_0242ac1c0002row17_col6,#T_bba4fa6a_580e_11eb_ac3e_0242ac1c0002row22_col21,#T_bba4fa6a_580e_11eb_ac3e_0242ac1c0002row24_col16{\n",
              "            font-size:  6pt;\n",
              "            background-color:  #e9e9e9;\n",
              "            color:  #000000;\n",
              "        }#T_bba4fa6a_580e_11eb_ac3e_0242ac1c0002row7_col5,#T_bba4fa6a_580e_11eb_ac3e_0242ac1c0002row18_col5,#T_bba4fa6a_580e_11eb_ac3e_0242ac1c0002row23_col5{\n",
              "            font-size:  6pt;\n",
              "            background-color:  #a7a7a7;\n",
              "            color:  #000000;\n",
              "        }#T_bba4fa6a_580e_11eb_ac3e_0242ac1c0002row7_col6,#T_bba4fa6a_580e_11eb_ac3e_0242ac1c0002row23_col6{\n",
              "            font-size:  6pt;\n",
              "            background-color:  #8a8a8a;\n",
              "            color:  #000000;\n",
              "        }#T_bba4fa6a_580e_11eb_ac3e_0242ac1c0002row7_col8,#T_bba4fa6a_580e_11eb_ac3e_0242ac1c0002row21_col12{\n",
              "            font-size:  6pt;\n",
              "            background-color:  #646464;\n",
              "            color:  #f1f1f1;\n",
              "        }#T_bba4fa6a_580e_11eb_ac3e_0242ac1c0002row7_col9,#T_bba4fa6a_580e_11eb_ac3e_0242ac1c0002row11_col18,#T_bba4fa6a_580e_11eb_ac3e_0242ac1c0002row14_col19{\n",
              "            font-size:  6pt;\n",
              "            background-color:  #5b5b5b;\n",
              "            color:  #f1f1f1;\n",
              "        }#T_bba4fa6a_580e_11eb_ac3e_0242ac1c0002row7_col10{\n",
              "            font-size:  6pt;\n",
              "            background-color:  #525252;\n",
              "            color:  #f1f1f1;\n",
              "        }#T_bba4fa6a_580e_11eb_ac3e_0242ac1c0002row7_col11,#T_bba4fa6a_580e_11eb_ac3e_0242ac1c0002row8_col16,#T_bba4fa6a_580e_11eb_ac3e_0242ac1c0002row9_col19,#T_bba4fa6a_580e_11eb_ac3e_0242ac1c0002row20_col20,#T_bba4fa6a_580e_11eb_ac3e_0242ac1c0002row23_col8{\n",
              "            font-size:  6pt;\n",
              "            background-color:  #505050;\n",
              "            color:  #f1f1f1;\n",
              "        }#T_bba4fa6a_580e_11eb_ac3e_0242ac1c0002row7_col12,#T_bba4fa6a_580e_11eb_ac3e_0242ac1c0002row13_col18{\n",
              "            font-size:  6pt;\n",
              "            background-color:  #4e4e4e;\n",
              "            color:  #f1f1f1;\n",
              "        }#T_bba4fa6a_580e_11eb_ac3e_0242ac1c0002row7_col13,#T_bba4fa6a_580e_11eb_ac3e_0242ac1c0002row17_col17{\n",
              "            font-size:  6pt;\n",
              "            background-color:  #575757;\n",
              "            color:  #f1f1f1;\n",
              "        }#T_bba4fa6a_580e_11eb_ac3e_0242ac1c0002row7_col14,#T_bba4fa6a_580e_11eb_ac3e_0242ac1c0002row14_col11,#T_bba4fa6a_580e_11eb_ac3e_0242ac1c0002row16_col23,#T_bba4fa6a_580e_11eb_ac3e_0242ac1c0002row19_col23{\n",
              "            font-size:  6pt;\n",
              "            background-color:  #515151;\n",
              "            color:  #f1f1f1;\n",
              "        }#T_bba4fa6a_580e_11eb_ac3e_0242ac1c0002row7_col15,#T_bba4fa6a_580e_11eb_ac3e_0242ac1c0002row14_col14,#T_bba4fa6a_580e_11eb_ac3e_0242ac1c0002row21_col9{\n",
              "            font-size:  6pt;\n",
              "            background-color:  #3d3d3d;\n",
              "            color:  #f1f1f1;\n",
              "        }#T_bba4fa6a_580e_11eb_ac3e_0242ac1c0002row7_col16,#T_bba4fa6a_580e_11eb_ac3e_0242ac1c0002row8_col17,#T_bba4fa6a_580e_11eb_ac3e_0242ac1c0002row12_col13,#T_bba4fa6a_580e_11eb_ac3e_0242ac1c0002row19_col20{\n",
              "            font-size:  6pt;\n",
              "            background-color:  #181818;\n",
              "            color:  #f1f1f1;\n",
              "        }#T_bba4fa6a_580e_11eb_ac3e_0242ac1c0002row7_col17,#T_bba4fa6a_580e_11eb_ac3e_0242ac1c0002row12_col15,#T_bba4fa6a_580e_11eb_ac3e_0242ac1c0002row12_col16,#T_bba4fa6a_580e_11eb_ac3e_0242ac1c0002row13_col13,#T_bba4fa6a_580e_11eb_ac3e_0242ac1c0002row13_col14,#T_bba4fa6a_580e_11eb_ac3e_0242ac1c0002row17_col19,#T_bba4fa6a_580e_11eb_ac3e_0242ac1c0002row17_col20,#T_bba4fa6a_580e_11eb_ac3e_0242ac1c0002row17_col23,#T_bba4fa6a_580e_11eb_ac3e_0242ac1c0002row18_col21,#T_bba4fa6a_580e_11eb_ac3e_0242ac1c0002row18_col22,#T_bba4fa6a_580e_11eb_ac3e_0242ac1c0002row18_col23,#T_bba4fa6a_580e_11eb_ac3e_0242ac1c0002row19_col2,#T_bba4fa6a_580e_11eb_ac3e_0242ac1c0002row19_col18,#T_bba4fa6a_580e_11eb_ac3e_0242ac1c0002row20_col2,#T_bba4fa6a_580e_11eb_ac3e_0242ac1c0002row20_col3,#T_bba4fa6a_580e_11eb_ac3e_0242ac1c0002row20_col4,#T_bba4fa6a_580e_11eb_ac3e_0242ac1c0002row21_col2,#T_bba4fa6a_580e_11eb_ac3e_0242ac1c0002row21_col5,#T_bba4fa6a_580e_11eb_ac3e_0242ac1c0002row21_col6,#T_bba4fa6a_580e_11eb_ac3e_0242ac1c0002row21_col7,#T_bba4fa6a_580e_11eb_ac3e_0242ac1c0002row22_col7,#T_bba4fa6a_580e_11eb_ac3e_0242ac1c0002row22_col8,#T_bba4fa6a_580e_11eb_ac3e_0242ac1c0002row22_col9,#T_bba4fa6a_580e_11eb_ac3e_0242ac1c0002row22_col10,#T_bba4fa6a_580e_11eb_ac3e_0242ac1c0002row22_col11,#T_bba4fa6a_580e_11eb_ac3e_0242ac1c0002row22_col12{\n",
              "            font-size:  6pt;\n",
              "            background-color:  #000000;\n",
              "            color:  #f1f1f1;\n",
              "        }#T_bba4fa6a_580e_11eb_ac3e_0242ac1c0002row7_col18,#T_bba4fa6a_580e_11eb_ac3e_0242ac1c0002row8_col18,#T_bba4fa6a_580e_11eb_ac3e_0242ac1c0002row9_col17{\n",
              "            font-size:  6pt;\n",
              "            background-color:  #161616;\n",
              "            color:  #f1f1f1;\n",
              "        }#T_bba4fa6a_580e_11eb_ac3e_0242ac1c0002row7_col19{\n",
              "            font-size:  6pt;\n",
              "            background-color:  #444444;\n",
              "            color:  #f1f1f1;\n",
              "        }#T_bba4fa6a_580e_11eb_ac3e_0242ac1c0002row7_col20,#T_bba4fa6a_580e_11eb_ac3e_0242ac1c0002row19_col5{\n",
              "            font-size:  6pt;\n",
              "            background-color:  #585858;\n",
              "            color:  #f1f1f1;\n",
              "        }#T_bba4fa6a_580e_11eb_ac3e_0242ac1c0002row8_col5{\n",
              "            font-size:  6pt;\n",
              "            background-color:  #aeaeae;\n",
              "            color:  #000000;\n",
              "        }#T_bba4fa6a_580e_11eb_ac3e_0242ac1c0002row8_col7,#T_bba4fa6a_580e_11eb_ac3e_0242ac1c0002row8_col22,#T_bba4fa6a_580e_11eb_ac3e_0242ac1c0002row18_col4{\n",
              "            font-size:  6pt;\n",
              "            background-color:  #919191;\n",
              "            color:  #000000;\n",
              "        }#T_bba4fa6a_580e_11eb_ac3e_0242ac1c0002row8_col8,#T_bba4fa6a_580e_11eb_ac3e_0242ac1c0002row15_col14,#T_bba4fa6a_580e_11eb_ac3e_0242ac1c0002row18_col2,#T_bba4fa6a_580e_11eb_ac3e_0242ac1c0002row22_col2,#T_bba4fa6a_580e_11eb_ac3e_0242ac1c0002row22_col3{\n",
              "            font-size:  6pt;\n",
              "            background-color:  #959595;\n",
              "            color:  #000000;\n",
              "        }#T_bba4fa6a_580e_11eb_ac3e_0242ac1c0002row8_col9,#T_bba4fa6a_580e_11eb_ac3e_0242ac1c0002row15_col11,#T_bba4fa6a_580e_11eb_ac3e_0242ac1c0002row15_col13,#T_bba4fa6a_580e_11eb_ac3e_0242ac1c0002row23_col16{\n",
              "            font-size:  6pt;\n",
              "            background-color:  #979797;\n",
              "            color:  #000000;\n",
              "        }#T_bba4fa6a_580e_11eb_ac3e_0242ac1c0002row8_col10,#T_bba4fa6a_580e_11eb_ac3e_0242ac1c0002row10_col20{\n",
              "            font-size:  6pt;\n",
              "            background-color:  #9d9d9d;\n",
              "            color:  #000000;\n",
              "        }#T_bba4fa6a_580e_11eb_ac3e_0242ac1c0002row8_col11{\n",
              "            font-size:  6pt;\n",
              "            background-color:  #a5a5a5;\n",
              "            color:  #000000;\n",
              "        }#T_bba4fa6a_580e_11eb_ac3e_0242ac1c0002row8_col12{\n",
              "            font-size:  6pt;\n",
              "            background-color:  #aaaaaa;\n",
              "            color:  #000000;\n",
              "        }#T_bba4fa6a_580e_11eb_ac3e_0242ac1c0002row8_col13,#T_bba4fa6a_580e_11eb_ac3e_0242ac1c0002row12_col10{\n",
              "            font-size:  6pt;\n",
              "            background-color:  #afafaf;\n",
              "            color:  #000000;\n",
              "        }#T_bba4fa6a_580e_11eb_ac3e_0242ac1c0002row8_col19{\n",
              "            font-size:  6pt;\n",
              "            background-color:  #3c3c3c;\n",
              "            color:  #f1f1f1;\n",
              "        }#T_bba4fa6a_580e_11eb_ac3e_0242ac1c0002row8_col20,#T_bba4fa6a_580e_11eb_ac3e_0242ac1c0002row9_col16{\n",
              "            font-size:  6pt;\n",
              "            background-color:  #535353;\n",
              "            color:  #f1f1f1;\n",
              "        }#T_bba4fa6a_580e_11eb_ac3e_0242ac1c0002row8_col21,#T_bba4fa6a_580e_11eb_ac3e_0242ac1c0002row12_col18,#T_bba4fa6a_580e_11eb_ac3e_0242ac1c0002row15_col16{\n",
              "            font-size:  6pt;\n",
              "            background-color:  #696969;\n",
              "            color:  #000000;\n",
              "        }#T_bba4fa6a_580e_11eb_ac3e_0242ac1c0002row9_col5,#T_bba4fa6a_580e_11eb_ac3e_0242ac1c0002row15_col9{\n",
              "            font-size:  6pt;\n",
              "            background-color:  #cecece;\n",
              "            color:  #000000;\n",
              "        }#T_bba4fa6a_580e_11eb_ac3e_0242ac1c0002row9_col7,#T_bba4fa6a_580e_11eb_ac3e_0242ac1c0002row16_col15{\n",
              "            font-size:  6pt;\n",
              "            background-color:  #cbcbcb;\n",
              "            color:  #000000;\n",
              "        }#T_bba4fa6a_580e_11eb_ac3e_0242ac1c0002row9_col8{\n",
              "            font-size:  6pt;\n",
              "            background-color:  #d1d1d1;\n",
              "            color:  #000000;\n",
              "        }#T_bba4fa6a_580e_11eb_ac3e_0242ac1c0002row9_col10,#T_bba4fa6a_580e_11eb_ac3e_0242ac1c0002row10_col12,#T_bba4fa6a_580e_11eb_ac3e_0242ac1c0002row12_col9,#T_bba4fa6a_580e_11eb_ac3e_0242ac1c0002row16_col14,#T_bba4fa6a_580e_11eb_ac3e_0242ac1c0002row23_col18{\n",
              "            font-size:  6pt;\n",
              "            background-color:  #dadada;\n",
              "            color:  #000000;\n",
              "        }#T_bba4fa6a_580e_11eb_ac3e_0242ac1c0002row9_col13{\n",
              "            font-size:  6pt;\n",
              "            background-color:  #d5d5d5;\n",
              "            color:  #000000;\n",
              "        }#T_bba4fa6a_580e_11eb_ac3e_0242ac1c0002row9_col15,#T_bba4fa6a_580e_11eb_ac3e_0242ac1c0002row9_col21{\n",
              "            font-size:  6pt;\n",
              "            background-color:  #8c8c8c;\n",
              "            color:  #000000;\n",
              "        }#T_bba4fa6a_580e_11eb_ac3e_0242ac1c0002row9_col22,#T_bba4fa6a_580e_11eb_ac3e_0242ac1c0002row17_col16,#T_bba4fa6a_580e_11eb_ac3e_0242ac1c0002row24_col12{\n",
              "            font-size:  6pt;\n",
              "            background-color:  #b3b3b3;\n",
              "            color:  #000000;\n",
              "        }#T_bba4fa6a_580e_11eb_ac3e_0242ac1c0002row10_col6{\n",
              "            font-size:  6pt;\n",
              "            background-color:  #ebebeb;\n",
              "            color:  #000000;\n",
              "        }#T_bba4fa6a_580e_11eb_ac3e_0242ac1c0002row10_col8,#T_bba4fa6a_580e_11eb_ac3e_0242ac1c0002row12_col8{\n",
              "            font-size:  6pt;\n",
              "            background-color:  #eeeeee;\n",
              "            color:  #000000;\n",
              "        }#T_bba4fa6a_580e_11eb_ac3e_0242ac1c0002row10_col10,#T_bba4fa6a_580e_11eb_ac3e_0242ac1c0002row19_col11,#T_bba4fa6a_580e_11eb_ac3e_0242ac1c0002row19_col13{\n",
              "            font-size:  6pt;\n",
              "            background-color:  #ededed;\n",
              "            color:  #000000;\n",
              "        }#T_bba4fa6a_580e_11eb_ac3e_0242ac1c0002row10_col13{\n",
              "            font-size:  6pt;\n",
              "            background-color:  #c2c2c2;\n",
              "            color:  #000000;\n",
              "        }#T_bba4fa6a_580e_11eb_ac3e_0242ac1c0002row10_col14{\n",
              "            font-size:  6pt;\n",
              "            background-color:  #929292;\n",
              "            color:  #000000;\n",
              "        }#T_bba4fa6a_580e_11eb_ac3e_0242ac1c0002row10_col15,#T_bba4fa6a_580e_11eb_ac3e_0242ac1c0002row21_col11,#T_bba4fa6a_580e_11eb_ac3e_0242ac1c0002row23_col7{\n",
              "            font-size:  6pt;\n",
              "            background-color:  #636363;\n",
              "            color:  #f1f1f1;\n",
              "        }#T_bba4fa6a_580e_11eb_ac3e_0242ac1c0002row10_col16,#T_bba4fa6a_580e_11eb_ac3e_0242ac1c0002row14_col16{\n",
              "            font-size:  6pt;\n",
              "            background-color:  #292929;\n",
              "            color:  #f1f1f1;\n",
              "        }#T_bba4fa6a_580e_11eb_ac3e_0242ac1c0002row10_col17,#T_bba4fa6a_580e_11eb_ac3e_0242ac1c0002row11_col16,#T_bba4fa6a_580e_11eb_ac3e_0242ac1c0002row13_col15,#T_bba4fa6a_580e_11eb_ac3e_0242ac1c0002row17_col22{\n",
              "            font-size:  6pt;\n",
              "            background-color:  #0a0a0a;\n",
              "            color:  #f1f1f1;\n",
              "        }#T_bba4fa6a_580e_11eb_ac3e_0242ac1c0002row10_col19,#T_bba4fa6a_580e_11eb_ac3e_0242ac1c0002row20_col8{\n",
              "            font-size:  6pt;\n",
              "            background-color:  #757575;\n",
              "            color:  #000000;\n",
              "        }#T_bba4fa6a_580e_11eb_ac3e_0242ac1c0002row10_col21,#T_bba4fa6a_580e_11eb_ac3e_0242ac1c0002row20_col11{\n",
              "            font-size:  6pt;\n",
              "            background-color:  #c5c5c5;\n",
              "            color:  #000000;\n",
              "        }#T_bba4fa6a_580e_11eb_ac3e_0242ac1c0002row11_col12{\n",
              "            font-size:  6pt;\n",
              "            background-color:  #989898;\n",
              "            color:  #000000;\n",
              "        }#T_bba4fa6a_580e_11eb_ac3e_0242ac1c0002row11_col13{\n",
              "            font-size:  6pt;\n",
              "            background-color:  #707070;\n",
              "            color:  #000000;\n",
              "        }#T_bba4fa6a_580e_11eb_ac3e_0242ac1c0002row11_col14{\n",
              "            font-size:  6pt;\n",
              "            background-color:  #464646;\n",
              "            color:  #f1f1f1;\n",
              "        }#T_bba4fa6a_580e_11eb_ac3e_0242ac1c0002row11_col15,#T_bba4fa6a_580e_11eb_ac3e_0242ac1c0002row23_col10{\n",
              "            font-size:  6pt;\n",
              "            background-color:  #222222;\n",
              "            color:  #f1f1f1;\n",
              "        }#T_bba4fa6a_580e_11eb_ac3e_0242ac1c0002row11_col17,#T_bba4fa6a_580e_11eb_ac3e_0242ac1c0002row13_col17{\n",
              "            font-size:  6pt;\n",
              "            background-color:  #131313;\n",
              "            color:  #f1f1f1;\n",
              "        }#T_bba4fa6a_580e_11eb_ac3e_0242ac1c0002row11_col19{\n",
              "            font-size:  6pt;\n",
              "            background-color:  #9e9e9e;\n",
              "            color:  #000000;\n",
              "        }#T_bba4fa6a_580e_11eb_ac3e_0242ac1c0002row12_col11{\n",
              "            font-size:  6pt;\n",
              "            background-color:  #737373;\n",
              "            color:  #000000;\n",
              "        }#T_bba4fa6a_580e_11eb_ac3e_0242ac1c0002row12_col12,#T_bba4fa6a_580e_11eb_ac3e_0242ac1c0002row13_col11,#T_bba4fa6a_580e_11eb_ac3e_0242ac1c0002row19_col4{\n",
              "            font-size:  6pt;\n",
              "            background-color:  #3a3a3a;\n",
              "            color:  #f1f1f1;\n",
              "        }#T_bba4fa6a_580e_11eb_ac3e_0242ac1c0002row12_col17,#T_bba4fa6a_580e_11eb_ac3e_0242ac1c0002row19_col21{\n",
              "            font-size:  6pt;\n",
              "            background-color:  #1a1a1a;\n",
              "            color:  #f1f1f1;\n",
              "        }#T_bba4fa6a_580e_11eb_ac3e_0242ac1c0002row12_col19,#T_bba4fa6a_580e_11eb_ac3e_0242ac1c0002row15_col10,#T_bba4fa6a_580e_11eb_ac3e_0242ac1c0002row24_col11{\n",
              "            font-size:  6pt;\n",
              "            background-color:  #b2b2b2;\n",
              "            color:  #000000;\n",
              "        }#T_bba4fa6a_580e_11eb_ac3e_0242ac1c0002row12_col20,#T_bba4fa6a_580e_11eb_ac3e_0242ac1c0002row22_col20{\n",
              "            font-size:  6pt;\n",
              "            background-color:  #d8d8d8;\n",
              "            color:  #000000;\n",
              "        }#T_bba4fa6a_580e_11eb_ac3e_0242ac1c0002row13_col7,#T_bba4fa6a_580e_11eb_ac3e_0242ac1c0002row16_col6,#T_bba4fa6a_580e_11eb_ac3e_0242ac1c0002row17_col11,#T_bba4fa6a_580e_11eb_ac3e_0242ac1c0002row17_col13{\n",
              "            font-size:  6pt;\n",
              "            background-color:  #f4f4f4;\n",
              "            color:  #000000;\n",
              "        }#T_bba4fa6a_580e_11eb_ac3e_0242ac1c0002row13_col9,#T_bba4fa6a_580e_11eb_ac3e_0242ac1c0002row15_col23,#T_bba4fa6a_580e_11eb_ac3e_0242ac1c0002row20_col23{\n",
              "            font-size:  6pt;\n",
              "            background-color:  #bdbdbd;\n",
              "            color:  #000000;\n",
              "        }#T_bba4fa6a_580e_11eb_ac3e_0242ac1c0002row13_col10{\n",
              "            font-size:  6pt;\n",
              "            background-color:  #7a7a7a;\n",
              "            color:  #000000;\n",
              "        }#T_bba4fa6a_580e_11eb_ac3e_0242ac1c0002row13_col12,#T_bba4fa6a_580e_11eb_ac3e_0242ac1c0002row15_col18,#T_bba4fa6a_580e_11eb_ac3e_0242ac1c0002row16_col19,#T_bba4fa6a_580e_11eb_ac3e_0242ac1c0002row18_col20,#T_bba4fa6a_580e_11eb_ac3e_0242ac1c0002row20_col5,#T_bba4fa6a_580e_11eb_ac3e_0242ac1c0002row20_col18{\n",
              "            font-size:  6pt;\n",
              "            background-color:  #060606;\n",
              "            color:  #f1f1f1;\n",
              "        }#T_bba4fa6a_580e_11eb_ac3e_0242ac1c0002row13_col16,#T_bba4fa6a_580e_11eb_ac3e_0242ac1c0002row18_col18{\n",
              "            font-size:  6pt;\n",
              "            background-color:  #080808;\n",
              "            color:  #f1f1f1;\n",
              "        }#T_bba4fa6a_580e_11eb_ac3e_0242ac1c0002row13_col19,#T_bba4fa6a_580e_11eb_ac3e_0242ac1c0002row21_col20{\n",
              "            font-size:  6pt;\n",
              "            background-color:  #939393;\n",
              "            color:  #000000;\n",
              "        }#T_bba4fa6a_580e_11eb_ac3e_0242ac1c0002row13_col20,#T_bba4fa6a_580e_11eb_ac3e_0242ac1c0002row19_col8{\n",
              "            font-size:  6pt;\n",
              "            background-color:  #c3c3c3;\n",
              "            color:  #000000;\n",
              "        }#T_bba4fa6a_580e_11eb_ac3e_0242ac1c0002row13_col21,#T_bba4fa6a_580e_11eb_ac3e_0242ac1c0002row17_col15{\n",
              "            font-size:  6pt;\n",
              "            background-color:  #e0e0e0;\n",
              "            color:  #000000;\n",
              "        }#T_bba4fa6a_580e_11eb_ac3e_0242ac1c0002row14_col7,#T_bba4fa6a_580e_11eb_ac3e_0242ac1c0002row16_col8,#T_bba4fa6a_580e_11eb_ac3e_0242ac1c0002row17_col8,#T_bba4fa6a_580e_11eb_ac3e_0242ac1c0002row18_col14,#T_bba4fa6a_580e_11eb_ac3e_0242ac1c0002row24_col17{\n",
              "            font-size:  6pt;\n",
              "            background-color:  #f1f1f1;\n",
              "            color:  #000000;\n",
              "        }#T_bba4fa6a_580e_11eb_ac3e_0242ac1c0002row14_col9{\n",
              "            font-size:  6pt;\n",
              "            background-color:  #b4b4b4;\n",
              "            color:  #000000;\n",
              "        }#T_bba4fa6a_580e_11eb_ac3e_0242ac1c0002row14_col10{\n",
              "            font-size:  6pt;\n",
              "            background-color:  #7c7c7c;\n",
              "            color:  #000000;\n",
              "        }#T_bba4fa6a_580e_11eb_ac3e_0242ac1c0002row14_col13,#T_bba4fa6a_580e_11eb_ac3e_0242ac1c0002row23_col9{\n",
              "            font-size:  6pt;\n",
              "            background-color:  #383838;\n",
              "            color:  #f1f1f1;\n",
              "        }#T_bba4fa6a_580e_11eb_ac3e_0242ac1c0002row14_col15{\n",
              "            font-size:  6pt;\n",
              "            background-color:  #434343;\n",
              "            color:  #f1f1f1;\n",
              "        }#T_bba4fa6a_580e_11eb_ac3e_0242ac1c0002row14_col20{\n",
              "            font-size:  6pt;\n",
              "            background-color:  #848484;\n",
              "            color:  #000000;\n",
              "        }#T_bba4fa6a_580e_11eb_ac3e_0242ac1c0002row14_col21{\n",
              "            font-size:  6pt;\n",
              "            background-color:  #adadad;\n",
              "            color:  #000000;\n",
              "        }#T_bba4fa6a_580e_11eb_ac3e_0242ac1c0002row15_col6,#T_bba4fa6a_580e_11eb_ac3e_0242ac1c0002row24_col18{\n",
              "            font-size:  6pt;\n",
              "            background-color:  #f8f8f8;\n",
              "            color:  #000000;\n",
              "        }#T_bba4fa6a_580e_11eb_ac3e_0242ac1c0002row15_col7,#T_bba4fa6a_580e_11eb_ac3e_0242ac1c0002row16_col7,#T_bba4fa6a_580e_11eb_ac3e_0242ac1c0002row17_col9{\n",
              "            font-size:  6pt;\n",
              "            background-color:  #f3f3f3;\n",
              "            color:  #000000;\n",
              "        }#T_bba4fa6a_580e_11eb_ac3e_0242ac1c0002row15_col8,#T_bba4fa6a_580e_11eb_ac3e_0242ac1c0002row18_col8{\n",
              "            font-size:  6pt;\n",
              "            background-color:  #e6e6e6;\n",
              "            color:  #000000;\n",
              "        }#T_bba4fa6a_580e_11eb_ac3e_0242ac1c0002row15_col17,#T_bba4fa6a_580e_11eb_ac3e_0242ac1c0002row19_col17{\n",
              "            font-size:  6pt;\n",
              "            background-color:  #232323;\n",
              "            color:  #f1f1f1;\n",
              "        }#T_bba4fa6a_580e_11eb_ac3e_0242ac1c0002row15_col19{\n",
              "            font-size:  6pt;\n",
              "            background-color:  #1f1f1f;\n",
              "            color:  #f1f1f1;\n",
              "        }#T_bba4fa6a_580e_11eb_ac3e_0242ac1c0002row15_col22,#T_bba4fa6a_580e_11eb_ac3e_0242ac1c0002row20_col22{\n",
              "            font-size:  6pt;\n",
              "            background-color:  #868686;\n",
              "            color:  #000000;\n",
              "        }#T_bba4fa6a_580e_11eb_ac3e_0242ac1c0002row16_col11{\n",
              "            font-size:  6pt;\n",
              "            background-color:  #dedede;\n",
              "            color:  #000000;\n",
              "        }#T_bba4fa6a_580e_11eb_ac3e_0242ac1c0002row16_col17{\n",
              "            font-size:  6pt;\n",
              "            background-color:  #4a4a4a;\n",
              "            color:  #f1f1f1;\n",
              "        }#T_bba4fa6a_580e_11eb_ac3e_0242ac1c0002row16_col18,#T_bba4fa6a_580e_11eb_ac3e_0242ac1c0002row18_col19{\n",
              "            font-size:  6pt;\n",
              "            background-color:  #030303;\n",
              "            color:  #f1f1f1;\n",
              "        }#T_bba4fa6a_580e_11eb_ac3e_0242ac1c0002row16_col20,#T_bba4fa6a_580e_11eb_ac3e_0242ac1c0002row19_col19,#T_bba4fa6a_580e_11eb_ac3e_0242ac1c0002row22_col13{\n",
              "            font-size:  6pt;\n",
              "            background-color:  #0f0f0f;\n",
              "            color:  #f1f1f1;\n",
              "        }#T_bba4fa6a_580e_11eb_ac3e_0242ac1c0002row16_col21{\n",
              "            font-size:  6pt;\n",
              "            background-color:  #242424;\n",
              "            color:  #f1f1f1;\n",
              "        }#T_bba4fa6a_580e_11eb_ac3e_0242ac1c0002row17_col18,#T_bba4fa6a_580e_11eb_ac3e_0242ac1c0002row21_col17{\n",
              "            font-size:  6pt;\n",
              "            background-color:  #090909;\n",
              "            color:  #f1f1f1;\n",
              "        }#T_bba4fa6a_580e_11eb_ac3e_0242ac1c0002row18_col3{\n",
              "            font-size:  6pt;\n",
              "            background-color:  #7e7e7e;\n",
              "            color:  #000000;\n",
              "        }#T_bba4fa6a_580e_11eb_ac3e_0242ac1c0002row18_col7{\n",
              "            font-size:  6pt;\n",
              "            background-color:  #d6d6d6;\n",
              "            color:  #000000;\n",
              "        }#T_bba4fa6a_580e_11eb_ac3e_0242ac1c0002row18_col16{\n",
              "            font-size:  6pt;\n",
              "            background-color:  #a3a3a3;\n",
              "            color:  #000000;\n",
              "        }#T_bba4fa6a_580e_11eb_ac3e_0242ac1c0002row19_col3,#T_bba4fa6a_580e_11eb_ac3e_0242ac1c0002row20_col19,#T_bba4fa6a_580e_11eb_ac3e_0242ac1c0002row21_col3,#T_bba4fa6a_580e_11eb_ac3e_0242ac1c0002row21_col15,#T_bba4fa6a_580e_11eb_ac3e_0242ac1c0002row23_col13{\n",
              "            font-size:  6pt;\n",
              "            background-color:  #333333;\n",
              "            color:  #f1f1f1;\n",
              "        }#T_bba4fa6a_580e_11eb_ac3e_0242ac1c0002row19_col6,#T_bba4fa6a_580e_11eb_ac3e_0242ac1c0002row20_col15{\n",
              "            font-size:  6pt;\n",
              "            background-color:  #7b7b7b;\n",
              "            color:  #000000;\n",
              "        }#T_bba4fa6a_580e_11eb_ac3e_0242ac1c0002row19_col10{\n",
              "            font-size:  6pt;\n",
              "            background-color:  #e5e5e5;\n",
              "            color:  #000000;\n",
              "        }#T_bba4fa6a_580e_11eb_ac3e_0242ac1c0002row19_col15{\n",
              "            font-size:  6pt;\n",
              "            background-color:  #bfbfbf;\n",
              "            color:  #000000;\n",
              "        }#T_bba4fa6a_580e_11eb_ac3e_0242ac1c0002row19_col16{\n",
              "            font-size:  6pt;\n",
              "            background-color:  #797979;\n",
              "            color:  #000000;\n",
              "        }#T_bba4fa6a_580e_11eb_ac3e_0242ac1c0002row19_col22{\n",
              "            font-size:  6pt;\n",
              "            background-color:  #2c2c2c;\n",
              "            color:  #f1f1f1;\n",
              "        }#T_bba4fa6a_580e_11eb_ac3e_0242ac1c0002row20_col6{\n",
              "            font-size:  6pt;\n",
              "            background-color:  #2f2f2f;\n",
              "            color:  #f1f1f1;\n",
              "        }#T_bba4fa6a_580e_11eb_ac3e_0242ac1c0002row20_col9{\n",
              "            font-size:  6pt;\n",
              "            background-color:  #999999;\n",
              "            color:  #000000;\n",
              "        }#T_bba4fa6a_580e_11eb_ac3e_0242ac1c0002row20_col10{\n",
              "            font-size:  6pt;\n",
              "            background-color:  #b6b6b6;\n",
              "            color:  #000000;\n",
              "        }#T_bba4fa6a_580e_11eb_ac3e_0242ac1c0002row20_col12{\n",
              "            font-size:  6pt;\n",
              "            background-color:  #c9c9c9;\n",
              "            color:  #000000;\n",
              "        }#T_bba4fa6a_580e_11eb_ac3e_0242ac1c0002row20_col13,#T_bba4fa6a_580e_11eb_ac3e_0242ac1c0002row22_col19,#T_bba4fa6a_580e_11eb_ac3e_0242ac1c0002row24_col13{\n",
              "            font-size:  6pt;\n",
              "            background-color:  #c1c1c1;\n",
              "            color:  #000000;\n",
              "        }#T_bba4fa6a_580e_11eb_ac3e_0242ac1c0002row20_col14{\n",
              "            font-size:  6pt;\n",
              "            background-color:  #a4a4a4;\n",
              "            color:  #000000;\n",
              "        }#T_bba4fa6a_580e_11eb_ac3e_0242ac1c0002row20_col16{\n",
              "            font-size:  6pt;\n",
              "            background-color:  #3f3f3f;\n",
              "            color:  #f1f1f1;\n",
              "        }#T_bba4fa6a_580e_11eb_ac3e_0242ac1c0002row21_col4,#T_bba4fa6a_580e_11eb_ac3e_0242ac1c0002row21_col16,#T_bba4fa6a_580e_11eb_ac3e_0242ac1c0002row22_col14,#T_bba4fa6a_580e_11eb_ac3e_0242ac1c0002row23_col11,#T_bba4fa6a_580e_11eb_ac3e_0242ac1c0002row23_col12{\n",
              "            font-size:  6pt;\n",
              "            background-color:  #151515;\n",
              "            color:  #f1f1f1;\n",
              "        }#T_bba4fa6a_580e_11eb_ac3e_0242ac1c0002row21_col10{\n",
              "            font-size:  6pt;\n",
              "            background-color:  #565656;\n",
              "            color:  #f1f1f1;\n",
              "        }#T_bba4fa6a_580e_11eb_ac3e_0242ac1c0002row21_col13{\n",
              "            font-size:  6pt;\n",
              "            background-color:  #616161;\n",
              "            color:  #f1f1f1;\n",
              "        }#T_bba4fa6a_580e_11eb_ac3e_0242ac1c0002row21_col14{\n",
              "            font-size:  6pt;\n",
              "            background-color:  #4d4d4d;\n",
              "            color:  #f1f1f1;\n",
              "        }#T_bba4fa6a_580e_11eb_ac3e_0242ac1c0002row21_col19{\n",
              "            font-size:  6pt;\n",
              "            background-color:  #727272;\n",
              "            color:  #000000;\n",
              "        }#T_bba4fa6a_580e_11eb_ac3e_0242ac1c0002row21_col21{\n",
              "            font-size:  6pt;\n",
              "            background-color:  #b8b8b8;\n",
              "            color:  #000000;\n",
              "        }#T_bba4fa6a_580e_11eb_ac3e_0242ac1c0002row22_col4{\n",
              "            font-size:  6pt;\n",
              "            background-color:  #686868;\n",
              "            color:  #f1f1f1;\n",
              "        }#T_bba4fa6a_580e_11eb_ac3e_0242ac1c0002row22_col6{\n",
              "            font-size:  6pt;\n",
              "            background-color:  #212121;\n",
              "            color:  #f1f1f1;\n",
              "        }#T_bba4fa6a_580e_11eb_ac3e_0242ac1c0002row22_col15{\n",
              "            font-size:  6pt;\n",
              "            background-color:  #252525;\n",
              "            color:  #f1f1f1;\n",
              "        }#T_bba4fa6a_580e_11eb_ac3e_0242ac1c0002row22_col16{\n",
              "            font-size:  6pt;\n",
              "            background-color:  #353535;\n",
              "            color:  #f1f1f1;\n",
              "        }#T_bba4fa6a_580e_11eb_ac3e_0242ac1c0002row22_col18{\n",
              "            font-size:  6pt;\n",
              "            background-color:  #878787;\n",
              "            color:  #000000;\n",
              "        }#T_bba4fa6a_580e_11eb_ac3e_0242ac1c0002row23_col15{\n",
              "            font-size:  6pt;\n",
              "            background-color:  #787878;\n",
              "            color:  #000000;\n",
              "        }#T_bba4fa6a_580e_11eb_ac3e_0242ac1c0002row23_col17{\n",
              "            font-size:  6pt;\n",
              "            background-color:  #bbbbbb;\n",
              "            color:  #000000;\n",
              "        }#T_bba4fa6a_580e_11eb_ac3e_0242ac1c0002row23_col20{\n",
              "            font-size:  6pt;\n",
              "            background-color:  #f6f6f6;\n",
              "            color:  #000000;\n",
              "        }#T_bba4fa6a_580e_11eb_ac3e_0242ac1c0002row24_col6{\n",
              "            font-size:  6pt;\n",
              "            background-color:  #e4e4e4;\n",
              "            color:  #000000;\n",
              "        }#T_bba4fa6a_580e_11eb_ac3e_0242ac1c0002row24_col9{\n",
              "            font-size:  6pt;\n",
              "            background-color:  #c4c4c4;\n",
              "            color:  #000000;\n",
              "        }#T_bba4fa6a_580e_11eb_ac3e_0242ac1c0002row24_col10{\n",
              "            font-size:  6pt;\n",
              "            background-color:  #bababa;\n",
              "            color:  #000000;\n",
              "        }#T_bba4fa6a_580e_11eb_ac3e_0242ac1c0002row24_col14{\n",
              "            font-size:  6pt;\n",
              "            background-color:  #d0d0d0;\n",
              "            color:  #000000;\n",
              "        }</style><table id=\"T_bba4fa6a_580e_11eb_ac3e_0242ac1c0002\" ><thead>    <tr>        <th class=\"blank level0\" ></th>        <th class=\"col_heading level0 col0\" >0</th>        <th class=\"col_heading level0 col1\" >1</th>        <th class=\"col_heading level0 col2\" >2</th>        <th class=\"col_heading level0 col3\" >3</th>        <th class=\"col_heading level0 col4\" >4</th>        <th class=\"col_heading level0 col5\" >5</th>        <th class=\"col_heading level0 col6\" >6</th>        <th class=\"col_heading level0 col7\" >7</th>        <th class=\"col_heading level0 col8\" >8</th>        <th class=\"col_heading level0 col9\" >9</th>        <th class=\"col_heading level0 col10\" >10</th>        <th class=\"col_heading level0 col11\" >11</th>        <th class=\"col_heading level0 col12\" >12</th>        <th class=\"col_heading level0 col13\" >13</th>        <th class=\"col_heading level0 col14\" >14</th>        <th class=\"col_heading level0 col15\" >15</th>        <th class=\"col_heading level0 col16\" >16</th>        <th class=\"col_heading level0 col17\" >17</th>        <th class=\"col_heading level0 col18\" >18</th>        <th class=\"col_heading level0 col19\" >19</th>        <th class=\"col_heading level0 col20\" >20</th>        <th class=\"col_heading level0 col21\" >21</th>        <th class=\"col_heading level0 col22\" >22</th>        <th class=\"col_heading level0 col23\" >23</th>        <th class=\"col_heading level0 col24\" >24</th>        <th class=\"col_heading level0 col25\" >25</th>        <th class=\"col_heading level0 col26\" >26</th>        <th class=\"col_heading level0 col27\" >27</th>    </tr></thead><tbody>\n",
              "                <tr>\n",
              "                        <th id=\"T_bba4fa6a_580e_11eb_ac3e_0242ac1c0002level0_row0\" class=\"row_heading level0 row0\" >0</th>\n",
              "                        <td id=\"T_bba4fa6a_580e_11eb_ac3e_0242ac1c0002row0_col0\" class=\"data row0 col0\" >0.000000</td>\n",
              "                        <td id=\"T_bba4fa6a_580e_11eb_ac3e_0242ac1c0002row0_col1\" class=\"data row0 col1\" >0.000000</td>\n",
              "                        <td id=\"T_bba4fa6a_580e_11eb_ac3e_0242ac1c0002row0_col2\" class=\"data row0 col2\" >0.000000</td>\n",
              "                        <td id=\"T_bba4fa6a_580e_11eb_ac3e_0242ac1c0002row0_col3\" class=\"data row0 col3\" >0.000000</td>\n",
              "                        <td id=\"T_bba4fa6a_580e_11eb_ac3e_0242ac1c0002row0_col4\" class=\"data row0 col4\" >0.000000</td>\n",
              "                        <td id=\"T_bba4fa6a_580e_11eb_ac3e_0242ac1c0002row0_col5\" class=\"data row0 col5\" >0.000000</td>\n",
              "                        <td id=\"T_bba4fa6a_580e_11eb_ac3e_0242ac1c0002row0_col6\" class=\"data row0 col6\" >0.000000</td>\n",
              "                        <td id=\"T_bba4fa6a_580e_11eb_ac3e_0242ac1c0002row0_col7\" class=\"data row0 col7\" >0.000000</td>\n",
              "                        <td id=\"T_bba4fa6a_580e_11eb_ac3e_0242ac1c0002row0_col8\" class=\"data row0 col8\" >0.000000</td>\n",
              "                        <td id=\"T_bba4fa6a_580e_11eb_ac3e_0242ac1c0002row0_col9\" class=\"data row0 col9\" >0.000000</td>\n",
              "                        <td id=\"T_bba4fa6a_580e_11eb_ac3e_0242ac1c0002row0_col10\" class=\"data row0 col10\" >0.000000</td>\n",
              "                        <td id=\"T_bba4fa6a_580e_11eb_ac3e_0242ac1c0002row0_col11\" class=\"data row0 col11\" >0.000000</td>\n",
              "                        <td id=\"T_bba4fa6a_580e_11eb_ac3e_0242ac1c0002row0_col12\" class=\"data row0 col12\" >0.000000</td>\n",
              "                        <td id=\"T_bba4fa6a_580e_11eb_ac3e_0242ac1c0002row0_col13\" class=\"data row0 col13\" >0.000000</td>\n",
              "                        <td id=\"T_bba4fa6a_580e_11eb_ac3e_0242ac1c0002row0_col14\" class=\"data row0 col14\" >0.000000</td>\n",
              "                        <td id=\"T_bba4fa6a_580e_11eb_ac3e_0242ac1c0002row0_col15\" class=\"data row0 col15\" >0.000000</td>\n",
              "                        <td id=\"T_bba4fa6a_580e_11eb_ac3e_0242ac1c0002row0_col16\" class=\"data row0 col16\" >0.000000</td>\n",
              "                        <td id=\"T_bba4fa6a_580e_11eb_ac3e_0242ac1c0002row0_col17\" class=\"data row0 col17\" >0.000000</td>\n",
              "                        <td id=\"T_bba4fa6a_580e_11eb_ac3e_0242ac1c0002row0_col18\" class=\"data row0 col18\" >0.000000</td>\n",
              "                        <td id=\"T_bba4fa6a_580e_11eb_ac3e_0242ac1c0002row0_col19\" class=\"data row0 col19\" >0.000000</td>\n",
              "                        <td id=\"T_bba4fa6a_580e_11eb_ac3e_0242ac1c0002row0_col20\" class=\"data row0 col20\" >0.000000</td>\n",
              "                        <td id=\"T_bba4fa6a_580e_11eb_ac3e_0242ac1c0002row0_col21\" class=\"data row0 col21\" >0.000000</td>\n",
              "                        <td id=\"T_bba4fa6a_580e_11eb_ac3e_0242ac1c0002row0_col22\" class=\"data row0 col22\" >0.000000</td>\n",
              "                        <td id=\"T_bba4fa6a_580e_11eb_ac3e_0242ac1c0002row0_col23\" class=\"data row0 col23\" >0.000000</td>\n",
              "                        <td id=\"T_bba4fa6a_580e_11eb_ac3e_0242ac1c0002row0_col24\" class=\"data row0 col24\" >0.000000</td>\n",
              "                        <td id=\"T_bba4fa6a_580e_11eb_ac3e_0242ac1c0002row0_col25\" class=\"data row0 col25\" >0.000000</td>\n",
              "                        <td id=\"T_bba4fa6a_580e_11eb_ac3e_0242ac1c0002row0_col26\" class=\"data row0 col26\" >0.000000</td>\n",
              "                        <td id=\"T_bba4fa6a_580e_11eb_ac3e_0242ac1c0002row0_col27\" class=\"data row0 col27\" >0.000000</td>\n",
              "            </tr>\n",
              "            <tr>\n",
              "                        <th id=\"T_bba4fa6a_580e_11eb_ac3e_0242ac1c0002level0_row1\" class=\"row_heading level0 row1\" >1</th>\n",
              "                        <td id=\"T_bba4fa6a_580e_11eb_ac3e_0242ac1c0002row1_col0\" class=\"data row1 col0\" >0.000000</td>\n",
              "                        <td id=\"T_bba4fa6a_580e_11eb_ac3e_0242ac1c0002row1_col1\" class=\"data row1 col1\" >0.000000</td>\n",
              "                        <td id=\"T_bba4fa6a_580e_11eb_ac3e_0242ac1c0002row1_col2\" class=\"data row1 col2\" >0.000000</td>\n",
              "                        <td id=\"T_bba4fa6a_580e_11eb_ac3e_0242ac1c0002row1_col3\" class=\"data row1 col3\" >0.000000</td>\n",
              "                        <td id=\"T_bba4fa6a_580e_11eb_ac3e_0242ac1c0002row1_col4\" class=\"data row1 col4\" >0.000000</td>\n",
              "                        <td id=\"T_bba4fa6a_580e_11eb_ac3e_0242ac1c0002row1_col5\" class=\"data row1 col5\" >0.000000</td>\n",
              "                        <td id=\"T_bba4fa6a_580e_11eb_ac3e_0242ac1c0002row1_col6\" class=\"data row1 col6\" >0.000000</td>\n",
              "                        <td id=\"T_bba4fa6a_580e_11eb_ac3e_0242ac1c0002row1_col7\" class=\"data row1 col7\" >0.000000</td>\n",
              "                        <td id=\"T_bba4fa6a_580e_11eb_ac3e_0242ac1c0002row1_col8\" class=\"data row1 col8\" >0.000000</td>\n",
              "                        <td id=\"T_bba4fa6a_580e_11eb_ac3e_0242ac1c0002row1_col9\" class=\"data row1 col9\" >0.000000</td>\n",
              "                        <td id=\"T_bba4fa6a_580e_11eb_ac3e_0242ac1c0002row1_col10\" class=\"data row1 col10\" >0.000000</td>\n",
              "                        <td id=\"T_bba4fa6a_580e_11eb_ac3e_0242ac1c0002row1_col11\" class=\"data row1 col11\" >0.000000</td>\n",
              "                        <td id=\"T_bba4fa6a_580e_11eb_ac3e_0242ac1c0002row1_col12\" class=\"data row1 col12\" >0.000000</td>\n",
              "                        <td id=\"T_bba4fa6a_580e_11eb_ac3e_0242ac1c0002row1_col13\" class=\"data row1 col13\" >0.000000</td>\n",
              "                        <td id=\"T_bba4fa6a_580e_11eb_ac3e_0242ac1c0002row1_col14\" class=\"data row1 col14\" >0.000000</td>\n",
              "                        <td id=\"T_bba4fa6a_580e_11eb_ac3e_0242ac1c0002row1_col15\" class=\"data row1 col15\" >0.000000</td>\n",
              "                        <td id=\"T_bba4fa6a_580e_11eb_ac3e_0242ac1c0002row1_col16\" class=\"data row1 col16\" >0.000000</td>\n",
              "                        <td id=\"T_bba4fa6a_580e_11eb_ac3e_0242ac1c0002row1_col17\" class=\"data row1 col17\" >0.000000</td>\n",
              "                        <td id=\"T_bba4fa6a_580e_11eb_ac3e_0242ac1c0002row1_col18\" class=\"data row1 col18\" >0.000000</td>\n",
              "                        <td id=\"T_bba4fa6a_580e_11eb_ac3e_0242ac1c0002row1_col19\" class=\"data row1 col19\" >0.000000</td>\n",
              "                        <td id=\"T_bba4fa6a_580e_11eb_ac3e_0242ac1c0002row1_col20\" class=\"data row1 col20\" >0.000000</td>\n",
              "                        <td id=\"T_bba4fa6a_580e_11eb_ac3e_0242ac1c0002row1_col21\" class=\"data row1 col21\" >0.000000</td>\n",
              "                        <td id=\"T_bba4fa6a_580e_11eb_ac3e_0242ac1c0002row1_col22\" class=\"data row1 col22\" >0.000000</td>\n",
              "                        <td id=\"T_bba4fa6a_580e_11eb_ac3e_0242ac1c0002row1_col23\" class=\"data row1 col23\" >0.000000</td>\n",
              "                        <td id=\"T_bba4fa6a_580e_11eb_ac3e_0242ac1c0002row1_col24\" class=\"data row1 col24\" >0.000000</td>\n",
              "                        <td id=\"T_bba4fa6a_580e_11eb_ac3e_0242ac1c0002row1_col25\" class=\"data row1 col25\" >0.000000</td>\n",
              "                        <td id=\"T_bba4fa6a_580e_11eb_ac3e_0242ac1c0002row1_col26\" class=\"data row1 col26\" >0.000000</td>\n",
              "                        <td id=\"T_bba4fa6a_580e_11eb_ac3e_0242ac1c0002row1_col27\" class=\"data row1 col27\" >0.000000</td>\n",
              "            </tr>\n",
              "            <tr>\n",
              "                        <th id=\"T_bba4fa6a_580e_11eb_ac3e_0242ac1c0002level0_row2\" class=\"row_heading level0 row2\" >2</th>\n",
              "                        <td id=\"T_bba4fa6a_580e_11eb_ac3e_0242ac1c0002row2_col0\" class=\"data row2 col0\" >0.000000</td>\n",
              "                        <td id=\"T_bba4fa6a_580e_11eb_ac3e_0242ac1c0002row2_col1\" class=\"data row2 col1\" >0.000000</td>\n",
              "                        <td id=\"T_bba4fa6a_580e_11eb_ac3e_0242ac1c0002row2_col2\" class=\"data row2 col2\" >0.000000</td>\n",
              "                        <td id=\"T_bba4fa6a_580e_11eb_ac3e_0242ac1c0002row2_col3\" class=\"data row2 col3\" >0.000000</td>\n",
              "                        <td id=\"T_bba4fa6a_580e_11eb_ac3e_0242ac1c0002row2_col4\" class=\"data row2 col4\" >0.000000</td>\n",
              "                        <td id=\"T_bba4fa6a_580e_11eb_ac3e_0242ac1c0002row2_col5\" class=\"data row2 col5\" >0.000000</td>\n",
              "                        <td id=\"T_bba4fa6a_580e_11eb_ac3e_0242ac1c0002row2_col6\" class=\"data row2 col6\" >0.000000</td>\n",
              "                        <td id=\"T_bba4fa6a_580e_11eb_ac3e_0242ac1c0002row2_col7\" class=\"data row2 col7\" >0.000000</td>\n",
              "                        <td id=\"T_bba4fa6a_580e_11eb_ac3e_0242ac1c0002row2_col8\" class=\"data row2 col8\" >0.000000</td>\n",
              "                        <td id=\"T_bba4fa6a_580e_11eb_ac3e_0242ac1c0002row2_col9\" class=\"data row2 col9\" >0.000000</td>\n",
              "                        <td id=\"T_bba4fa6a_580e_11eb_ac3e_0242ac1c0002row2_col10\" class=\"data row2 col10\" >0.000000</td>\n",
              "                        <td id=\"T_bba4fa6a_580e_11eb_ac3e_0242ac1c0002row2_col11\" class=\"data row2 col11\" >0.000000</td>\n",
              "                        <td id=\"T_bba4fa6a_580e_11eb_ac3e_0242ac1c0002row2_col12\" class=\"data row2 col12\" >0.000000</td>\n",
              "                        <td id=\"T_bba4fa6a_580e_11eb_ac3e_0242ac1c0002row2_col13\" class=\"data row2 col13\" >0.000000</td>\n",
              "                        <td id=\"T_bba4fa6a_580e_11eb_ac3e_0242ac1c0002row2_col14\" class=\"data row2 col14\" >0.000000</td>\n",
              "                        <td id=\"T_bba4fa6a_580e_11eb_ac3e_0242ac1c0002row2_col15\" class=\"data row2 col15\" >0.000000</td>\n",
              "                        <td id=\"T_bba4fa6a_580e_11eb_ac3e_0242ac1c0002row2_col16\" class=\"data row2 col16\" >0.000000</td>\n",
              "                        <td id=\"T_bba4fa6a_580e_11eb_ac3e_0242ac1c0002row2_col17\" class=\"data row2 col17\" >0.000000</td>\n",
              "                        <td id=\"T_bba4fa6a_580e_11eb_ac3e_0242ac1c0002row2_col18\" class=\"data row2 col18\" >0.000000</td>\n",
              "                        <td id=\"T_bba4fa6a_580e_11eb_ac3e_0242ac1c0002row2_col19\" class=\"data row2 col19\" >0.000000</td>\n",
              "                        <td id=\"T_bba4fa6a_580e_11eb_ac3e_0242ac1c0002row2_col20\" class=\"data row2 col20\" >0.000000</td>\n",
              "                        <td id=\"T_bba4fa6a_580e_11eb_ac3e_0242ac1c0002row2_col21\" class=\"data row2 col21\" >0.000000</td>\n",
              "                        <td id=\"T_bba4fa6a_580e_11eb_ac3e_0242ac1c0002row2_col22\" class=\"data row2 col22\" >0.000000</td>\n",
              "                        <td id=\"T_bba4fa6a_580e_11eb_ac3e_0242ac1c0002row2_col23\" class=\"data row2 col23\" >0.000000</td>\n",
              "                        <td id=\"T_bba4fa6a_580e_11eb_ac3e_0242ac1c0002row2_col24\" class=\"data row2 col24\" >0.000000</td>\n",
              "                        <td id=\"T_bba4fa6a_580e_11eb_ac3e_0242ac1c0002row2_col25\" class=\"data row2 col25\" >0.000000</td>\n",
              "                        <td id=\"T_bba4fa6a_580e_11eb_ac3e_0242ac1c0002row2_col26\" class=\"data row2 col26\" >0.000000</td>\n",
              "                        <td id=\"T_bba4fa6a_580e_11eb_ac3e_0242ac1c0002row2_col27\" class=\"data row2 col27\" >0.000000</td>\n",
              "            </tr>\n",
              "            <tr>\n",
              "                        <th id=\"T_bba4fa6a_580e_11eb_ac3e_0242ac1c0002level0_row3\" class=\"row_heading level0 row3\" >3</th>\n",
              "                        <td id=\"T_bba4fa6a_580e_11eb_ac3e_0242ac1c0002row3_col0\" class=\"data row3 col0\" >0.000000</td>\n",
              "                        <td id=\"T_bba4fa6a_580e_11eb_ac3e_0242ac1c0002row3_col1\" class=\"data row3 col1\" >0.000000</td>\n",
              "                        <td id=\"T_bba4fa6a_580e_11eb_ac3e_0242ac1c0002row3_col2\" class=\"data row3 col2\" >0.000000</td>\n",
              "                        <td id=\"T_bba4fa6a_580e_11eb_ac3e_0242ac1c0002row3_col3\" class=\"data row3 col3\" >0.000000</td>\n",
              "                        <td id=\"T_bba4fa6a_580e_11eb_ac3e_0242ac1c0002row3_col4\" class=\"data row3 col4\" >0.000000</td>\n",
              "                        <td id=\"T_bba4fa6a_580e_11eb_ac3e_0242ac1c0002row3_col5\" class=\"data row3 col5\" >0.000000</td>\n",
              "                        <td id=\"T_bba4fa6a_580e_11eb_ac3e_0242ac1c0002row3_col6\" class=\"data row3 col6\" >0.000000</td>\n",
              "                        <td id=\"T_bba4fa6a_580e_11eb_ac3e_0242ac1c0002row3_col7\" class=\"data row3 col7\" >0.000000</td>\n",
              "                        <td id=\"T_bba4fa6a_580e_11eb_ac3e_0242ac1c0002row3_col8\" class=\"data row3 col8\" >0.000000</td>\n",
              "                        <td id=\"T_bba4fa6a_580e_11eb_ac3e_0242ac1c0002row3_col9\" class=\"data row3 col9\" >1.000000</td>\n",
              "                        <td id=\"T_bba4fa6a_580e_11eb_ac3e_0242ac1c0002row3_col10\" class=\"data row3 col10\" >2.000000</td>\n",
              "                        <td id=\"T_bba4fa6a_580e_11eb_ac3e_0242ac1c0002row3_col11\" class=\"data row3 col11\" >4.000000</td>\n",
              "                        <td id=\"T_bba4fa6a_580e_11eb_ac3e_0242ac1c0002row3_col12\" class=\"data row3 col12\" >5.000000</td>\n",
              "                        <td id=\"T_bba4fa6a_580e_11eb_ac3e_0242ac1c0002row3_col13\" class=\"data row3 col13\" >6.000000</td>\n",
              "                        <td id=\"T_bba4fa6a_580e_11eb_ac3e_0242ac1c0002row3_col14\" class=\"data row3 col14\" >6.000000</td>\n",
              "                        <td id=\"T_bba4fa6a_580e_11eb_ac3e_0242ac1c0002row3_col15\" class=\"data row3 col15\" >6.000000</td>\n",
              "                        <td id=\"T_bba4fa6a_580e_11eb_ac3e_0242ac1c0002row3_col16\" class=\"data row3 col16\" >5.000000</td>\n",
              "                        <td id=\"T_bba4fa6a_580e_11eb_ac3e_0242ac1c0002row3_col17\" class=\"data row3 col17\" >4.000000</td>\n",
              "                        <td id=\"T_bba4fa6a_580e_11eb_ac3e_0242ac1c0002row3_col18\" class=\"data row3 col18\" >2.000000</td>\n",
              "                        <td id=\"T_bba4fa6a_580e_11eb_ac3e_0242ac1c0002row3_col19\" class=\"data row3 col19\" >1.000000</td>\n",
              "                        <td id=\"T_bba4fa6a_580e_11eb_ac3e_0242ac1c0002row3_col20\" class=\"data row3 col20\" >1.000000</td>\n",
              "                        <td id=\"T_bba4fa6a_580e_11eb_ac3e_0242ac1c0002row3_col21\" class=\"data row3 col21\" >0.000000</td>\n",
              "                        <td id=\"T_bba4fa6a_580e_11eb_ac3e_0242ac1c0002row3_col22\" class=\"data row3 col22\" >0.000000</td>\n",
              "                        <td id=\"T_bba4fa6a_580e_11eb_ac3e_0242ac1c0002row3_col23\" class=\"data row3 col23\" >0.000000</td>\n",
              "                        <td id=\"T_bba4fa6a_580e_11eb_ac3e_0242ac1c0002row3_col24\" class=\"data row3 col24\" >0.000000</td>\n",
              "                        <td id=\"T_bba4fa6a_580e_11eb_ac3e_0242ac1c0002row3_col25\" class=\"data row3 col25\" >0.000000</td>\n",
              "                        <td id=\"T_bba4fa6a_580e_11eb_ac3e_0242ac1c0002row3_col26\" class=\"data row3 col26\" >0.000000</td>\n",
              "                        <td id=\"T_bba4fa6a_580e_11eb_ac3e_0242ac1c0002row3_col27\" class=\"data row3 col27\" >0.000000</td>\n",
              "            </tr>\n",
              "            <tr>\n",
              "                        <th id=\"T_bba4fa6a_580e_11eb_ac3e_0242ac1c0002level0_row4\" class=\"row_heading level0 row4\" >4</th>\n",
              "                        <td id=\"T_bba4fa6a_580e_11eb_ac3e_0242ac1c0002row4_col0\" class=\"data row4 col0\" >0.000000</td>\n",
              "                        <td id=\"T_bba4fa6a_580e_11eb_ac3e_0242ac1c0002row4_col1\" class=\"data row4 col1\" >0.000000</td>\n",
              "                        <td id=\"T_bba4fa6a_580e_11eb_ac3e_0242ac1c0002row4_col2\" class=\"data row4 col2\" >0.000000</td>\n",
              "                        <td id=\"T_bba4fa6a_580e_11eb_ac3e_0242ac1c0002row4_col3\" class=\"data row4 col3\" >0.000000</td>\n",
              "                        <td id=\"T_bba4fa6a_580e_11eb_ac3e_0242ac1c0002row4_col4\" class=\"data row4 col4\" >0.000000</td>\n",
              "                        <td id=\"T_bba4fa6a_580e_11eb_ac3e_0242ac1c0002row4_col5\" class=\"data row4 col5\" >1.000000</td>\n",
              "                        <td id=\"T_bba4fa6a_580e_11eb_ac3e_0242ac1c0002row4_col6\" class=\"data row4 col6\" >3.000000</td>\n",
              "                        <td id=\"T_bba4fa6a_580e_11eb_ac3e_0242ac1c0002row4_col7\" class=\"data row4 col7\" >7.000000</td>\n",
              "                        <td id=\"T_bba4fa6a_580e_11eb_ac3e_0242ac1c0002row4_col8\" class=\"data row4 col8\" >14.000000</td>\n",
              "                        <td id=\"T_bba4fa6a_580e_11eb_ac3e_0242ac1c0002row4_col9\" class=\"data row4 col9\" >23.000000</td>\n",
              "                        <td id=\"T_bba4fa6a_580e_11eb_ac3e_0242ac1c0002row4_col10\" class=\"data row4 col10\" >34.000000</td>\n",
              "                        <td id=\"T_bba4fa6a_580e_11eb_ac3e_0242ac1c0002row4_col11\" class=\"data row4 col11\" >46.000000</td>\n",
              "                        <td id=\"T_bba4fa6a_580e_11eb_ac3e_0242ac1c0002row4_col12\" class=\"data row4 col12\" >56.000000</td>\n",
              "                        <td id=\"T_bba4fa6a_580e_11eb_ac3e_0242ac1c0002row4_col13\" class=\"data row4 col13\" >62.000000</td>\n",
              "                        <td id=\"T_bba4fa6a_580e_11eb_ac3e_0242ac1c0002row4_col14\" class=\"data row4 col14\" >63.000000</td>\n",
              "                        <td id=\"T_bba4fa6a_580e_11eb_ac3e_0242ac1c0002row4_col15\" class=\"data row4 col15\" >60.000000</td>\n",
              "                        <td id=\"T_bba4fa6a_580e_11eb_ac3e_0242ac1c0002row4_col16\" class=\"data row4 col16\" >50.000000</td>\n",
              "                        <td id=\"T_bba4fa6a_580e_11eb_ac3e_0242ac1c0002row4_col17\" class=\"data row4 col17\" >38.000000</td>\n",
              "                        <td id=\"T_bba4fa6a_580e_11eb_ac3e_0242ac1c0002row4_col18\" class=\"data row4 col18\" >26.000000</td>\n",
              "                        <td id=\"T_bba4fa6a_580e_11eb_ac3e_0242ac1c0002row4_col19\" class=\"data row4 col19\" >16.000000</td>\n",
              "                        <td id=\"T_bba4fa6a_580e_11eb_ac3e_0242ac1c0002row4_col20\" class=\"data row4 col20\" >8.000000</td>\n",
              "                        <td id=\"T_bba4fa6a_580e_11eb_ac3e_0242ac1c0002row4_col21\" class=\"data row4 col21\" >3.000000</td>\n",
              "                        <td id=\"T_bba4fa6a_580e_11eb_ac3e_0242ac1c0002row4_col22\" class=\"data row4 col22\" >1.000000</td>\n",
              "                        <td id=\"T_bba4fa6a_580e_11eb_ac3e_0242ac1c0002row4_col23\" class=\"data row4 col23\" >0.000000</td>\n",
              "                        <td id=\"T_bba4fa6a_580e_11eb_ac3e_0242ac1c0002row4_col24\" class=\"data row4 col24\" >0.000000</td>\n",
              "                        <td id=\"T_bba4fa6a_580e_11eb_ac3e_0242ac1c0002row4_col25\" class=\"data row4 col25\" >0.000000</td>\n",
              "                        <td id=\"T_bba4fa6a_580e_11eb_ac3e_0242ac1c0002row4_col26\" class=\"data row4 col26\" >0.000000</td>\n",
              "                        <td id=\"T_bba4fa6a_580e_11eb_ac3e_0242ac1c0002row4_col27\" class=\"data row4 col27\" >0.000000</td>\n",
              "            </tr>\n",
              "            <tr>\n",
              "                        <th id=\"T_bba4fa6a_580e_11eb_ac3e_0242ac1c0002level0_row5\" class=\"row_heading level0 row5\" >5</th>\n",
              "                        <td id=\"T_bba4fa6a_580e_11eb_ac3e_0242ac1c0002row5_col0\" class=\"data row5 col0\" >0.000000</td>\n",
              "                        <td id=\"T_bba4fa6a_580e_11eb_ac3e_0242ac1c0002row5_col1\" class=\"data row5 col1\" >0.000000</td>\n",
              "                        <td id=\"T_bba4fa6a_580e_11eb_ac3e_0242ac1c0002row5_col2\" class=\"data row5 col2\" >0.000000</td>\n",
              "                        <td id=\"T_bba4fa6a_580e_11eb_ac3e_0242ac1c0002row5_col3\" class=\"data row5 col3\" >0.000000</td>\n",
              "                        <td id=\"T_bba4fa6a_580e_11eb_ac3e_0242ac1c0002row5_col4\" class=\"data row5 col4\" >2.000000</td>\n",
              "                        <td id=\"T_bba4fa6a_580e_11eb_ac3e_0242ac1c0002row5_col5\" class=\"data row5 col5\" >7.000000</td>\n",
              "                        <td id=\"T_bba4fa6a_580e_11eb_ac3e_0242ac1c0002row5_col6\" class=\"data row5 col6\" >15.000000</td>\n",
              "                        <td id=\"T_bba4fa6a_580e_11eb_ac3e_0242ac1c0002row5_col7\" class=\"data row5 col7\" >28.000000</td>\n",
              "                        <td id=\"T_bba4fa6a_580e_11eb_ac3e_0242ac1c0002row5_col8\" class=\"data row5 col8\" >47.000000</td>\n",
              "                        <td id=\"T_bba4fa6a_580e_11eb_ac3e_0242ac1c0002row5_col9\" class=\"data row5 col9\" >71.000000</td>\n",
              "                        <td id=\"T_bba4fa6a_580e_11eb_ac3e_0242ac1c0002row5_col10\" class=\"data row5 col10\" >97.000000</td>\n",
              "                        <td id=\"T_bba4fa6a_580e_11eb_ac3e_0242ac1c0002row5_col11\" class=\"data row5 col11\" >122.000000</td>\n",
              "                        <td id=\"T_bba4fa6a_580e_11eb_ac3e_0242ac1c0002row5_col12\" class=\"data row5 col12\" >142.000000</td>\n",
              "                        <td id=\"T_bba4fa6a_580e_11eb_ac3e_0242ac1c0002row5_col13\" class=\"data row5 col13\" >156.000000</td>\n",
              "                        <td id=\"T_bba4fa6a_580e_11eb_ac3e_0242ac1c0002row5_col14\" class=\"data row5 col14\" >158.000000</td>\n",
              "                        <td id=\"T_bba4fa6a_580e_11eb_ac3e_0242ac1c0002row5_col15\" class=\"data row5 col15\" >152.000000</td>\n",
              "                        <td id=\"T_bba4fa6a_580e_11eb_ac3e_0242ac1c0002row5_col16\" class=\"data row5 col16\" >134.000000</td>\n",
              "                        <td id=\"T_bba4fa6a_580e_11eb_ac3e_0242ac1c0002row5_col17\" class=\"data row5 col17\" >107.000000</td>\n",
              "                        <td id=\"T_bba4fa6a_580e_11eb_ac3e_0242ac1c0002row5_col18\" class=\"data row5 col18\" >77.000000</td>\n",
              "                        <td id=\"T_bba4fa6a_580e_11eb_ac3e_0242ac1c0002row5_col19\" class=\"data row5 col19\" >51.000000</td>\n",
              "                        <td id=\"T_bba4fa6a_580e_11eb_ac3e_0242ac1c0002row5_col20\" class=\"data row5 col20\" >29.000000</td>\n",
              "                        <td id=\"T_bba4fa6a_580e_11eb_ac3e_0242ac1c0002row5_col21\" class=\"data row5 col21\" >13.000000</td>\n",
              "                        <td id=\"T_bba4fa6a_580e_11eb_ac3e_0242ac1c0002row5_col22\" class=\"data row5 col22\" >4.000000</td>\n",
              "                        <td id=\"T_bba4fa6a_580e_11eb_ac3e_0242ac1c0002row5_col23\" class=\"data row5 col23\" >0.000000</td>\n",
              "                        <td id=\"T_bba4fa6a_580e_11eb_ac3e_0242ac1c0002row5_col24\" class=\"data row5 col24\" >0.000000</td>\n",
              "                        <td id=\"T_bba4fa6a_580e_11eb_ac3e_0242ac1c0002row5_col25\" class=\"data row5 col25\" >0.000000</td>\n",
              "                        <td id=\"T_bba4fa6a_580e_11eb_ac3e_0242ac1c0002row5_col26\" class=\"data row5 col26\" >0.000000</td>\n",
              "                        <td id=\"T_bba4fa6a_580e_11eb_ac3e_0242ac1c0002row5_col27\" class=\"data row5 col27\" >0.000000</td>\n",
              "            </tr>\n",
              "            <tr>\n",
              "                        <th id=\"T_bba4fa6a_580e_11eb_ac3e_0242ac1c0002level0_row6\" class=\"row_heading level0 row6\" >6</th>\n",
              "                        <td id=\"T_bba4fa6a_580e_11eb_ac3e_0242ac1c0002row6_col0\" class=\"data row6 col0\" >0.000000</td>\n",
              "                        <td id=\"T_bba4fa6a_580e_11eb_ac3e_0242ac1c0002row6_col1\" class=\"data row6 col1\" >0.000000</td>\n",
              "                        <td id=\"T_bba4fa6a_580e_11eb_ac3e_0242ac1c0002row6_col2\" class=\"data row6 col2\" >0.000000</td>\n",
              "                        <td id=\"T_bba4fa6a_580e_11eb_ac3e_0242ac1c0002row6_col3\" class=\"data row6 col3\" >1.000000</td>\n",
              "                        <td id=\"T_bba4fa6a_580e_11eb_ac3e_0242ac1c0002row6_col4\" class=\"data row6 col4\" >6.000000</td>\n",
              "                        <td id=\"T_bba4fa6a_580e_11eb_ac3e_0242ac1c0002row6_col5\" class=\"data row6 col5\" >15.000000</td>\n",
              "                        <td id=\"T_bba4fa6a_580e_11eb_ac3e_0242ac1c0002row6_col6\" class=\"data row6 col6\" >30.000000</td>\n",
              "                        <td id=\"T_bba4fa6a_580e_11eb_ac3e_0242ac1c0002row6_col7\" class=\"data row6 col7\" >52.000000</td>\n",
              "                        <td id=\"T_bba4fa6a_580e_11eb_ac3e_0242ac1c0002row6_col8\" class=\"data row6 col8\" >81.000000</td>\n",
              "                        <td id=\"T_bba4fa6a_580e_11eb_ac3e_0242ac1c0002row6_col9\" class=\"data row6 col9\" >111.000000</td>\n",
              "                        <td id=\"T_bba4fa6a_580e_11eb_ac3e_0242ac1c0002row6_col10\" class=\"data row6 col10\" >138.000000</td>\n",
              "                        <td id=\"T_bba4fa6a_580e_11eb_ac3e_0242ac1c0002row6_col11\" class=\"data row6 col11\" >160.000000</td>\n",
              "                        <td id=\"T_bba4fa6a_580e_11eb_ac3e_0242ac1c0002row6_col12\" class=\"data row6 col12\" >174.000000</td>\n",
              "                        <td id=\"T_bba4fa6a_580e_11eb_ac3e_0242ac1c0002row6_col13\" class=\"data row6 col13\" >184.000000</td>\n",
              "                        <td id=\"T_bba4fa6a_580e_11eb_ac3e_0242ac1c0002row6_col14\" class=\"data row6 col14\" >189.000000</td>\n",
              "                        <td id=\"T_bba4fa6a_580e_11eb_ac3e_0242ac1c0002row6_col15\" class=\"data row6 col15\" >189.000000</td>\n",
              "                        <td id=\"T_bba4fa6a_580e_11eb_ac3e_0242ac1c0002row6_col16\" class=\"data row6 col16\" >179.000000</td>\n",
              "                        <td id=\"T_bba4fa6a_580e_11eb_ac3e_0242ac1c0002row6_col17\" class=\"data row6 col17\" >155.000000</td>\n",
              "                        <td id=\"T_bba4fa6a_580e_11eb_ac3e_0242ac1c0002row6_col18\" class=\"data row6 col18\" >122.000000</td>\n",
              "                        <td id=\"T_bba4fa6a_580e_11eb_ac3e_0242ac1c0002row6_col19\" class=\"data row6 col19\" >86.000000</td>\n",
              "                        <td id=\"T_bba4fa6a_580e_11eb_ac3e_0242ac1c0002row6_col20\" class=\"data row6 col20\" >54.000000</td>\n",
              "                        <td id=\"T_bba4fa6a_580e_11eb_ac3e_0242ac1c0002row6_col21\" class=\"data row6 col21\" >27.000000</td>\n",
              "                        <td id=\"T_bba4fa6a_580e_11eb_ac3e_0242ac1c0002row6_col22\" class=\"data row6 col22\" >9.000000</td>\n",
              "                        <td id=\"T_bba4fa6a_580e_11eb_ac3e_0242ac1c0002row6_col23\" class=\"data row6 col23\" >2.000000</td>\n",
              "                        <td id=\"T_bba4fa6a_580e_11eb_ac3e_0242ac1c0002row6_col24\" class=\"data row6 col24\" >0.000000</td>\n",
              "                        <td id=\"T_bba4fa6a_580e_11eb_ac3e_0242ac1c0002row6_col25\" class=\"data row6 col25\" >0.000000</td>\n",
              "                        <td id=\"T_bba4fa6a_580e_11eb_ac3e_0242ac1c0002row6_col26\" class=\"data row6 col26\" >0.000000</td>\n",
              "                        <td id=\"T_bba4fa6a_580e_11eb_ac3e_0242ac1c0002row6_col27\" class=\"data row6 col27\" >0.000000</td>\n",
              "            </tr>\n",
              "            <tr>\n",
              "                        <th id=\"T_bba4fa6a_580e_11eb_ac3e_0242ac1c0002level0_row7\" class=\"row_heading level0 row7\" >7</th>\n",
              "                        <td id=\"T_bba4fa6a_580e_11eb_ac3e_0242ac1c0002row7_col0\" class=\"data row7 col0\" >0.000000</td>\n",
              "                        <td id=\"T_bba4fa6a_580e_11eb_ac3e_0242ac1c0002row7_col1\" class=\"data row7 col1\" >0.000000</td>\n",
              "                        <td id=\"T_bba4fa6a_580e_11eb_ac3e_0242ac1c0002row7_col2\" class=\"data row7 col2\" >0.000000</td>\n",
              "                        <td id=\"T_bba4fa6a_580e_11eb_ac3e_0242ac1c0002row7_col3\" class=\"data row7 col3\" >2.000000</td>\n",
              "                        <td id=\"T_bba4fa6a_580e_11eb_ac3e_0242ac1c0002row7_col4\" class=\"data row7 col4\" >9.000000</td>\n",
              "                        <td id=\"T_bba4fa6a_580e_11eb_ac3e_0242ac1c0002row7_col5\" class=\"data row7 col5\" >21.000000</td>\n",
              "                        <td id=\"T_bba4fa6a_580e_11eb_ac3e_0242ac1c0002row7_col6\" class=\"data row7 col6\" >39.000000</td>\n",
              "                        <td id=\"T_bba4fa6a_580e_11eb_ac3e_0242ac1c0002row7_col7\" class=\"data row7 col7\" >61.000000</td>\n",
              "                        <td id=\"T_bba4fa6a_580e_11eb_ac3e_0242ac1c0002row7_col8\" class=\"data row7 col8\" >86.000000</td>\n",
              "                        <td id=\"T_bba4fa6a_580e_11eb_ac3e_0242ac1c0002row7_col9\" class=\"data row7 col9\" >108.000000</td>\n",
              "                        <td id=\"T_bba4fa6a_580e_11eb_ac3e_0242ac1c0002row7_col10\" class=\"data row7 col10\" >125.000000</td>\n",
              "                        <td id=\"T_bba4fa6a_580e_11eb_ac3e_0242ac1c0002row7_col11\" class=\"data row7 col11\" >134.000000</td>\n",
              "                        <td id=\"T_bba4fa6a_580e_11eb_ac3e_0242ac1c0002row7_col12\" class=\"data row7 col12\" >138.000000</td>\n",
              "                        <td id=\"T_bba4fa6a_580e_11eb_ac3e_0242ac1c0002row7_col13\" class=\"data row7 col13\" >142.000000</td>\n",
              "                        <td id=\"T_bba4fa6a_580e_11eb_ac3e_0242ac1c0002row7_col14\" class=\"data row7 col14\" >149.000000</td>\n",
              "                        <td id=\"T_bba4fa6a_580e_11eb_ac3e_0242ac1c0002row7_col15\" class=\"data row7 col15\" >160.000000</td>\n",
              "                        <td id=\"T_bba4fa6a_580e_11eb_ac3e_0242ac1c0002row7_col16\" class=\"data row7 col16\" >166.000000</td>\n",
              "                        <td id=\"T_bba4fa6a_580e_11eb_ac3e_0242ac1c0002row7_col17\" class=\"data row7 col17\" >158.000000</td>\n",
              "                        <td id=\"T_bba4fa6a_580e_11eb_ac3e_0242ac1c0002row7_col18\" class=\"data row7 col18\" >134.000000</td>\n",
              "                        <td id=\"T_bba4fa6a_580e_11eb_ac3e_0242ac1c0002row7_col19\" class=\"data row7 col19\" >103.000000</td>\n",
              "                        <td id=\"T_bba4fa6a_580e_11eb_ac3e_0242ac1c0002row7_col20\" class=\"data row7 col20\" >68.000000</td>\n",
              "                        <td id=\"T_bba4fa6a_580e_11eb_ac3e_0242ac1c0002row7_col21\" class=\"data row7 col21\" >36.000000</td>\n",
              "                        <td id=\"T_bba4fa6a_580e_11eb_ac3e_0242ac1c0002row7_col22\" class=\"data row7 col22\" >13.000000</td>\n",
              "                        <td id=\"T_bba4fa6a_580e_11eb_ac3e_0242ac1c0002row7_col23\" class=\"data row7 col23\" >2.000000</td>\n",
              "                        <td id=\"T_bba4fa6a_580e_11eb_ac3e_0242ac1c0002row7_col24\" class=\"data row7 col24\" >0.000000</td>\n",
              "                        <td id=\"T_bba4fa6a_580e_11eb_ac3e_0242ac1c0002row7_col25\" class=\"data row7 col25\" >0.000000</td>\n",
              "                        <td id=\"T_bba4fa6a_580e_11eb_ac3e_0242ac1c0002row7_col26\" class=\"data row7 col26\" >0.000000</td>\n",
              "                        <td id=\"T_bba4fa6a_580e_11eb_ac3e_0242ac1c0002row7_col27\" class=\"data row7 col27\" >0.000000</td>\n",
              "            </tr>\n",
              "            <tr>\n",
              "                        <th id=\"T_bba4fa6a_580e_11eb_ac3e_0242ac1c0002level0_row8\" class=\"row_heading level0 row8\" >8</th>\n",
              "                        <td id=\"T_bba4fa6a_580e_11eb_ac3e_0242ac1c0002row8_col0\" class=\"data row8 col0\" >0.000000</td>\n",
              "                        <td id=\"T_bba4fa6a_580e_11eb_ac3e_0242ac1c0002row8_col1\" class=\"data row8 col1\" >0.000000</td>\n",
              "                        <td id=\"T_bba4fa6a_580e_11eb_ac3e_0242ac1c0002row8_col2\" class=\"data row8 col2\" >0.000000</td>\n",
              "                        <td id=\"T_bba4fa6a_580e_11eb_ac3e_0242ac1c0002row8_col3\" class=\"data row8 col3\" >3.000000</td>\n",
              "                        <td id=\"T_bba4fa6a_580e_11eb_ac3e_0242ac1c0002row8_col4\" class=\"data row8 col4\" >10.000000</td>\n",
              "                        <td id=\"T_bba4fa6a_580e_11eb_ac3e_0242ac1c0002row8_col5\" class=\"data row8 col5\" >20.000000</td>\n",
              "                        <td id=\"T_bba4fa6a_580e_11eb_ac3e_0242ac1c0002row8_col6\" class=\"data row8 col6\" >34.000000</td>\n",
              "                        <td id=\"T_bba4fa6a_580e_11eb_ac3e_0242ac1c0002row8_col7\" class=\"data row8 col7\" >49.000000</td>\n",
              "                        <td id=\"T_bba4fa6a_580e_11eb_ac3e_0242ac1c0002row8_col8\" class=\"data row8 col8\" >63.000000</td>\n",
              "                        <td id=\"T_bba4fa6a_580e_11eb_ac3e_0242ac1c0002row8_col9\" class=\"data row8 col9\" >75.000000</td>\n",
              "                        <td id=\"T_bba4fa6a_580e_11eb_ac3e_0242ac1c0002row8_col10\" class=\"data row8 col10\" >80.000000</td>\n",
              "                        <td id=\"T_bba4fa6a_580e_11eb_ac3e_0242ac1c0002row8_col11\" class=\"data row8 col11\" >80.000000</td>\n",
              "                        <td id=\"T_bba4fa6a_580e_11eb_ac3e_0242ac1c0002row8_col12\" class=\"data row8 col12\" >79.000000</td>\n",
              "                        <td id=\"T_bba4fa6a_580e_11eb_ac3e_0242ac1c0002row8_col13\" class=\"data row8 col13\" >82.000000</td>\n",
              "                        <td id=\"T_bba4fa6a_580e_11eb_ac3e_0242ac1c0002row8_col14\" class=\"data row8 col14\" >93.000000</td>\n",
              "                        <td id=\"T_bba4fa6a_580e_11eb_ac3e_0242ac1c0002row8_col15\" class=\"data row8 col15\" >115.000000</td>\n",
              "                        <td id=\"T_bba4fa6a_580e_11eb_ac3e_0242ac1c0002row8_col16\" class=\"data row8 col16\" >137.000000</td>\n",
              "                        <td id=\"T_bba4fa6a_580e_11eb_ac3e_0242ac1c0002row8_col17\" class=\"data row8 col17\" >145.000000</td>\n",
              "                        <td id=\"T_bba4fa6a_580e_11eb_ac3e_0242ac1c0002row8_col18\" class=\"data row8 col18\" >134.000000</td>\n",
              "                        <td id=\"T_bba4fa6a_580e_11eb_ac3e_0242ac1c0002row8_col19\" class=\"data row8 col19\" >106.000000</td>\n",
              "                        <td id=\"T_bba4fa6a_580e_11eb_ac3e_0242ac1c0002row8_col20\" class=\"data row8 col20\" >70.000000</td>\n",
              "                        <td id=\"T_bba4fa6a_580e_11eb_ac3e_0242ac1c0002row8_col21\" class=\"data row8 col21\" >37.000000</td>\n",
              "                        <td id=\"T_bba4fa6a_580e_11eb_ac3e_0242ac1c0002row8_col22\" class=\"data row8 col22\" >14.000000</td>\n",
              "                        <td id=\"T_bba4fa6a_580e_11eb_ac3e_0242ac1c0002row8_col23\" class=\"data row8 col23\" >2.000000</td>\n",
              "                        <td id=\"T_bba4fa6a_580e_11eb_ac3e_0242ac1c0002row8_col24\" class=\"data row8 col24\" >0.000000</td>\n",
              "                        <td id=\"T_bba4fa6a_580e_11eb_ac3e_0242ac1c0002row8_col25\" class=\"data row8 col25\" >0.000000</td>\n",
              "                        <td id=\"T_bba4fa6a_580e_11eb_ac3e_0242ac1c0002row8_col26\" class=\"data row8 col26\" >0.000000</td>\n",
              "                        <td id=\"T_bba4fa6a_580e_11eb_ac3e_0242ac1c0002row8_col27\" class=\"data row8 col27\" >0.000000</td>\n",
              "            </tr>\n",
              "            <tr>\n",
              "                        <th id=\"T_bba4fa6a_580e_11eb_ac3e_0242ac1c0002level0_row9\" class=\"row_heading level0 row9\" >9</th>\n",
              "                        <td id=\"T_bba4fa6a_580e_11eb_ac3e_0242ac1c0002row9_col0\" class=\"data row9 col0\" >0.000000</td>\n",
              "                        <td id=\"T_bba4fa6a_580e_11eb_ac3e_0242ac1c0002row9_col1\" class=\"data row9 col1\" >0.000000</td>\n",
              "                        <td id=\"T_bba4fa6a_580e_11eb_ac3e_0242ac1c0002row9_col2\" class=\"data row9 col2\" >0.000000</td>\n",
              "                        <td id=\"T_bba4fa6a_580e_11eb_ac3e_0242ac1c0002row9_col3\" class=\"data row9 col3\" >2.000000</td>\n",
              "                        <td id=\"T_bba4fa6a_580e_11eb_ac3e_0242ac1c0002row9_col4\" class=\"data row9 col4\" >7.000000</td>\n",
              "                        <td id=\"T_bba4fa6a_580e_11eb_ac3e_0242ac1c0002row9_col5\" class=\"data row9 col5\" >14.000000</td>\n",
              "                        <td id=\"T_bba4fa6a_580e_11eb_ac3e_0242ac1c0002row9_col6\" class=\"data row9 col6\" >22.000000</td>\n",
              "                        <td id=\"T_bba4fa6a_580e_11eb_ac3e_0242ac1c0002row9_col7\" class=\"data row9 col7\" >30.000000</td>\n",
              "                        <td id=\"T_bba4fa6a_580e_11eb_ac3e_0242ac1c0002row9_col8\" class=\"data row9 col8\" >36.000000</td>\n",
              "                        <td id=\"T_bba4fa6a_580e_11eb_ac3e_0242ac1c0002row9_col9\" class=\"data row9 col9\" >39.000000</td>\n",
              "                        <td id=\"T_bba4fa6a_580e_11eb_ac3e_0242ac1c0002row9_col10\" class=\"data row9 col10\" >41.000000</td>\n",
              "                        <td id=\"T_bba4fa6a_580e_11eb_ac3e_0242ac1c0002row9_col11\" class=\"data row9 col11\" >41.000000</td>\n",
              "                        <td id=\"T_bba4fa6a_580e_11eb_ac3e_0242ac1c0002row9_col12\" class=\"data row9 col12\" >43.000000</td>\n",
              "                        <td id=\"T_bba4fa6a_580e_11eb_ac3e_0242ac1c0002row9_col13\" class=\"data row9 col13\" >52.000000</td>\n",
              "                        <td id=\"T_bba4fa6a_580e_11eb_ac3e_0242ac1c0002row9_col14\" class=\"data row9 col14\" >74.000000</td>\n",
              "                        <td id=\"T_bba4fa6a_580e_11eb_ac3e_0242ac1c0002row9_col15\" class=\"data row9 col15\" >106.000000</td>\n",
              "                        <td id=\"T_bba4fa6a_580e_11eb_ac3e_0242ac1c0002row9_col16\" class=\"data row9 col16\" >135.000000</td>\n",
              "                        <td id=\"T_bba4fa6a_580e_11eb_ac3e_0242ac1c0002row9_col17\" class=\"data row9 col17\" >146.000000</td>\n",
              "                        <td id=\"T_bba4fa6a_580e_11eb_ac3e_0242ac1c0002row9_col18\" class=\"data row9 col18\" >131.000000</td>\n",
              "                        <td id=\"T_bba4fa6a_580e_11eb_ac3e_0242ac1c0002row9_col19\" class=\"data row9 col19\" >99.000000</td>\n",
              "                        <td id=\"T_bba4fa6a_580e_11eb_ac3e_0242ac1c0002row9_col20\" class=\"data row9 col20\" >62.000000</td>\n",
              "                        <td id=\"T_bba4fa6a_580e_11eb_ac3e_0242ac1c0002row9_col21\" class=\"data row9 col21\" >30.000000</td>\n",
              "                        <td id=\"T_bba4fa6a_580e_11eb_ac3e_0242ac1c0002row9_col22\" class=\"data row9 col22\" >11.000000</td>\n",
              "                        <td id=\"T_bba4fa6a_580e_11eb_ac3e_0242ac1c0002row9_col23\" class=\"data row9 col23\" >2.000000</td>\n",
              "                        <td id=\"T_bba4fa6a_580e_11eb_ac3e_0242ac1c0002row9_col24\" class=\"data row9 col24\" >0.000000</td>\n",
              "                        <td id=\"T_bba4fa6a_580e_11eb_ac3e_0242ac1c0002row9_col25\" class=\"data row9 col25\" >0.000000</td>\n",
              "                        <td id=\"T_bba4fa6a_580e_11eb_ac3e_0242ac1c0002row9_col26\" class=\"data row9 col26\" >0.000000</td>\n",
              "                        <td id=\"T_bba4fa6a_580e_11eb_ac3e_0242ac1c0002row9_col27\" class=\"data row9 col27\" >0.000000</td>\n",
              "            </tr>\n",
              "            <tr>\n",
              "                        <th id=\"T_bba4fa6a_580e_11eb_ac3e_0242ac1c0002level0_row10\" class=\"row_heading level0 row10\" >10</th>\n",
              "                        <td id=\"T_bba4fa6a_580e_11eb_ac3e_0242ac1c0002row10_col0\" class=\"data row10 col0\" >0.000000</td>\n",
              "                        <td id=\"T_bba4fa6a_580e_11eb_ac3e_0242ac1c0002row10_col1\" class=\"data row10 col1\" >0.000000</td>\n",
              "                        <td id=\"T_bba4fa6a_580e_11eb_ac3e_0242ac1c0002row10_col2\" class=\"data row10 col2\" >0.000000</td>\n",
              "                        <td id=\"T_bba4fa6a_580e_11eb_ac3e_0242ac1c0002row10_col3\" class=\"data row10 col3\" >1.000000</td>\n",
              "                        <td id=\"T_bba4fa6a_580e_11eb_ac3e_0242ac1c0002row10_col4\" class=\"data row10 col4\" >4.000000</td>\n",
              "                        <td id=\"T_bba4fa6a_580e_11eb_ac3e_0242ac1c0002row10_col5\" class=\"data row10 col5\" >7.000000</td>\n",
              "                        <td id=\"T_bba4fa6a_580e_11eb_ac3e_0242ac1c0002row10_col6\" class=\"data row10 col6\" >11.000000</td>\n",
              "                        <td id=\"T_bba4fa6a_580e_11eb_ac3e_0242ac1c0002row10_col7\" class=\"data row10 col7\" >14.000000</td>\n",
              "                        <td id=\"T_bba4fa6a_580e_11eb_ac3e_0242ac1c0002row10_col8\" class=\"data row10 col8\" >17.000000</td>\n",
              "                        <td id=\"T_bba4fa6a_580e_11eb_ac3e_0242ac1c0002row10_col9\" class=\"data row10 col9\" >19.000000</td>\n",
              "                        <td id=\"T_bba4fa6a_580e_11eb_ac3e_0242ac1c0002row10_col10\" class=\"data row10 col10\" >24.000000</td>\n",
              "                        <td id=\"T_bba4fa6a_580e_11eb_ac3e_0242ac1c0002row10_col11\" class=\"data row10 col11\" >31.000000</td>\n",
              "                        <td id=\"T_bba4fa6a_580e_11eb_ac3e_0242ac1c0002row10_col12\" class=\"data row10 col12\" >45.000000</td>\n",
              "                        <td id=\"T_bba4fa6a_580e_11eb_ac3e_0242ac1c0002row10_col13\" class=\"data row10 col13\" >69.000000</td>\n",
              "                        <td id=\"T_bba4fa6a_580e_11eb_ac3e_0242ac1c0002row10_col14\" class=\"data row10 col14\" >102.000000</td>\n",
              "                        <td id=\"T_bba4fa6a_580e_11eb_ac3e_0242ac1c0002row10_col15\" class=\"data row10 col15\" >136.000000</td>\n",
              "                        <td id=\"T_bba4fa6a_580e_11eb_ac3e_0242ac1c0002row10_col16\" class=\"data row10 col16\" >156.000000</td>\n",
              "                        <td id=\"T_bba4fa6a_580e_11eb_ac3e_0242ac1c0002row10_col17\" class=\"data row10 col17\" >152.000000</td>\n",
              "                        <td id=\"T_bba4fa6a_580e_11eb_ac3e_0242ac1c0002row10_col18\" class=\"data row10 col18\" >122.000000</td>\n",
              "                        <td id=\"T_bba4fa6a_580e_11eb_ac3e_0242ac1c0002row10_col19\" class=\"data row10 col19\" >81.000000</td>\n",
              "                        <td id=\"T_bba4fa6a_580e_11eb_ac3e_0242ac1c0002row10_col20\" class=\"data row10 col20\" >45.000000</td>\n",
              "                        <td id=\"T_bba4fa6a_580e_11eb_ac3e_0242ac1c0002row10_col21\" class=\"data row10 col21\" >19.000000</td>\n",
              "                        <td id=\"T_bba4fa6a_580e_11eb_ac3e_0242ac1c0002row10_col22\" class=\"data row10 col22\" >6.000000</td>\n",
              "                        <td id=\"T_bba4fa6a_580e_11eb_ac3e_0242ac1c0002row10_col23\" class=\"data row10 col23\" >1.000000</td>\n",
              "                        <td id=\"T_bba4fa6a_580e_11eb_ac3e_0242ac1c0002row10_col24\" class=\"data row10 col24\" >0.000000</td>\n",
              "                        <td id=\"T_bba4fa6a_580e_11eb_ac3e_0242ac1c0002row10_col25\" class=\"data row10 col25\" >0.000000</td>\n",
              "                        <td id=\"T_bba4fa6a_580e_11eb_ac3e_0242ac1c0002row10_col26\" class=\"data row10 col26\" >0.000000</td>\n",
              "                        <td id=\"T_bba4fa6a_580e_11eb_ac3e_0242ac1c0002row10_col27\" class=\"data row10 col27\" >0.000000</td>\n",
              "            </tr>\n",
              "            <tr>\n",
              "                        <th id=\"T_bba4fa6a_580e_11eb_ac3e_0242ac1c0002level0_row11\" class=\"row_heading level0 row11\" >11</th>\n",
              "                        <td id=\"T_bba4fa6a_580e_11eb_ac3e_0242ac1c0002row11_col0\" class=\"data row11 col0\" >0.000000</td>\n",
              "                        <td id=\"T_bba4fa6a_580e_11eb_ac3e_0242ac1c0002row11_col1\" class=\"data row11 col1\" >0.000000</td>\n",
              "                        <td id=\"T_bba4fa6a_580e_11eb_ac3e_0242ac1c0002row11_col2\" class=\"data row11 col2\" >0.000000</td>\n",
              "                        <td id=\"T_bba4fa6a_580e_11eb_ac3e_0242ac1c0002row11_col3\" class=\"data row11 col3\" >0.000000</td>\n",
              "                        <td id=\"T_bba4fa6a_580e_11eb_ac3e_0242ac1c0002row11_col4\" class=\"data row11 col4\" >2.000000</td>\n",
              "                        <td id=\"T_bba4fa6a_580e_11eb_ac3e_0242ac1c0002row11_col5\" class=\"data row11 col5\" >3.000000</td>\n",
              "                        <td id=\"T_bba4fa6a_580e_11eb_ac3e_0242ac1c0002row11_col6\" class=\"data row11 col6\" >5.000000</td>\n",
              "                        <td id=\"T_bba4fa6a_580e_11eb_ac3e_0242ac1c0002row11_col7\" class=\"data row11 col7\" >7.000000</td>\n",
              "                        <td id=\"T_bba4fa6a_580e_11eb_ac3e_0242ac1c0002row11_col8\" class=\"data row11 col8\" >11.000000</td>\n",
              "                        <td id=\"T_bba4fa6a_580e_11eb_ac3e_0242ac1c0002row11_col9\" class=\"data row11 col9\" >19.000000</td>\n",
              "                        <td id=\"T_bba4fa6a_580e_11eb_ac3e_0242ac1c0002row11_col10\" class=\"data row11 col10\" >35.000000</td>\n",
              "                        <td id=\"T_bba4fa6a_580e_11eb_ac3e_0242ac1c0002row11_col11\" class=\"data row11 col11\" >59.000000</td>\n",
              "                        <td id=\"T_bba4fa6a_580e_11eb_ac3e_0242ac1c0002row11_col12\" class=\"data row11 col12\" >90.000000</td>\n",
              "                        <td id=\"T_bba4fa6a_580e_11eb_ac3e_0242ac1c0002row11_col13\" class=\"data row11 col13\" >124.000000</td>\n",
              "                        <td id=\"T_bba4fa6a_580e_11eb_ac3e_0242ac1c0002row11_col14\" class=\"data row11 col14\" >155.000000</td>\n",
              "                        <td id=\"T_bba4fa6a_580e_11eb_ac3e_0242ac1c0002row11_col15\" class=\"data row11 col15\" >175.000000</td>\n",
              "                        <td id=\"T_bba4fa6a_580e_11eb_ac3e_0242ac1c0002row11_col16\" class=\"data row11 col16\" >174.000000</td>\n",
              "                        <td id=\"T_bba4fa6a_580e_11eb_ac3e_0242ac1c0002row11_col17\" class=\"data row11 col17\" >148.000000</td>\n",
              "                        <td id=\"T_bba4fa6a_580e_11eb_ac3e_0242ac1c0002row11_col18\" class=\"data row11 col18\" >104.000000</td>\n",
              "                        <td id=\"T_bba4fa6a_580e_11eb_ac3e_0242ac1c0002row11_col19\" class=\"data row11 col19\" >62.000000</td>\n",
              "                        <td id=\"T_bba4fa6a_580e_11eb_ac3e_0242ac1c0002row11_col20\" class=\"data row11 col20\" >30.000000</td>\n",
              "                        <td id=\"T_bba4fa6a_580e_11eb_ac3e_0242ac1c0002row11_col21\" class=\"data row11 col21\" >10.000000</td>\n",
              "                        <td id=\"T_bba4fa6a_580e_11eb_ac3e_0242ac1c0002row11_col22\" class=\"data row11 col22\" >2.000000</td>\n",
              "                        <td id=\"T_bba4fa6a_580e_11eb_ac3e_0242ac1c0002row11_col23\" class=\"data row11 col23\" >0.000000</td>\n",
              "                        <td id=\"T_bba4fa6a_580e_11eb_ac3e_0242ac1c0002row11_col24\" class=\"data row11 col24\" >0.000000</td>\n",
              "                        <td id=\"T_bba4fa6a_580e_11eb_ac3e_0242ac1c0002row11_col25\" class=\"data row11 col25\" >0.000000</td>\n",
              "                        <td id=\"T_bba4fa6a_580e_11eb_ac3e_0242ac1c0002row11_col26\" class=\"data row11 col26\" >0.000000</td>\n",
              "                        <td id=\"T_bba4fa6a_580e_11eb_ac3e_0242ac1c0002row11_col27\" class=\"data row11 col27\" >0.000000</td>\n",
              "            </tr>\n",
              "            <tr>\n",
              "                        <th id=\"T_bba4fa6a_580e_11eb_ac3e_0242ac1c0002level0_row12\" class=\"row_heading level0 row12\" >12</th>\n",
              "                        <td id=\"T_bba4fa6a_580e_11eb_ac3e_0242ac1c0002row12_col0\" class=\"data row12 col0\" >0.000000</td>\n",
              "                        <td id=\"T_bba4fa6a_580e_11eb_ac3e_0242ac1c0002row12_col1\" class=\"data row12 col1\" >0.000000</td>\n",
              "                        <td id=\"T_bba4fa6a_580e_11eb_ac3e_0242ac1c0002row12_col2\" class=\"data row12 col2\" >0.000000</td>\n",
              "                        <td id=\"T_bba4fa6a_580e_11eb_ac3e_0242ac1c0002row12_col3\" class=\"data row12 col3\" >0.000000</td>\n",
              "                        <td id=\"T_bba4fa6a_580e_11eb_ac3e_0242ac1c0002row12_col4\" class=\"data row12 col4\" >1.000000</td>\n",
              "                        <td id=\"T_bba4fa6a_580e_11eb_ac3e_0242ac1c0002row12_col5\" class=\"data row12 col5\" >2.000000</td>\n",
              "                        <td id=\"T_bba4fa6a_580e_11eb_ac3e_0242ac1c0002row12_col6\" class=\"data row12 col6\" >3.000000</td>\n",
              "                        <td id=\"T_bba4fa6a_580e_11eb_ac3e_0242ac1c0002row12_col7\" class=\"data row12 col7\" >7.000000</td>\n",
              "                        <td id=\"T_bba4fa6a_580e_11eb_ac3e_0242ac1c0002row12_col8\" class=\"data row12 col8\" >17.000000</td>\n",
              "                        <td id=\"T_bba4fa6a_580e_11eb_ac3e_0242ac1c0002row12_col9\" class=\"data row12 col9\" >37.000000</td>\n",
              "                        <td id=\"T_bba4fa6a_580e_11eb_ac3e_0242ac1c0002row12_col10\" class=\"data row12 col10\" >70.000000</td>\n",
              "                        <td id=\"T_bba4fa6a_580e_11eb_ac3e_0242ac1c0002row12_col11\" class=\"data row12 col11\" >110.000000</td>\n",
              "                        <td id=\"T_bba4fa6a_580e_11eb_ac3e_0242ac1c0002row12_col12\" class=\"data row12 col12\" >148.000000</td>\n",
              "                        <td id=\"T_bba4fa6a_580e_11eb_ac3e_0242ac1c0002row12_col13\" class=\"data row12 col13\" >179.000000</td>\n",
              "                        <td id=\"T_bba4fa6a_580e_11eb_ac3e_0242ac1c0002row12_col14\" class=\"data row12 col14\" >196.000000</td>\n",
              "                        <td id=\"T_bba4fa6a_580e_11eb_ac3e_0242ac1c0002row12_col15\" class=\"data row12 col15\" >198.000000</td>\n",
              "                        <td id=\"T_bba4fa6a_580e_11eb_ac3e_0242ac1c0002row12_col16\" class=\"data row12 col16\" >181.000000</td>\n",
              "                        <td id=\"T_bba4fa6a_580e_11eb_ac3e_0242ac1c0002row12_col17\" class=\"data row12 col17\" >144.000000</td>\n",
              "                        <td id=\"T_bba4fa6a_580e_11eb_ac3e_0242ac1c0002row12_col18\" class=\"data row12 col18\" >96.000000</td>\n",
              "                        <td id=\"T_bba4fa6a_580e_11eb_ac3e_0242ac1c0002row12_col19\" class=\"data row12 col19\" >54.000000</td>\n",
              "                        <td id=\"T_bba4fa6a_580e_11eb_ac3e_0242ac1c0002row12_col20\" class=\"data row12 col20\" >24.000000</td>\n",
              "                        <td id=\"T_bba4fa6a_580e_11eb_ac3e_0242ac1c0002row12_col21\" class=\"data row12 col21\" >7.000000</td>\n",
              "                        <td id=\"T_bba4fa6a_580e_11eb_ac3e_0242ac1c0002row12_col22\" class=\"data row12 col22\" >1.000000</td>\n",
              "                        <td id=\"T_bba4fa6a_580e_11eb_ac3e_0242ac1c0002row12_col23\" class=\"data row12 col23\" >0.000000</td>\n",
              "                        <td id=\"T_bba4fa6a_580e_11eb_ac3e_0242ac1c0002row12_col24\" class=\"data row12 col24\" >0.000000</td>\n",
              "                        <td id=\"T_bba4fa6a_580e_11eb_ac3e_0242ac1c0002row12_col25\" class=\"data row12 col25\" >0.000000</td>\n",
              "                        <td id=\"T_bba4fa6a_580e_11eb_ac3e_0242ac1c0002row12_col26\" class=\"data row12 col26\" >0.000000</td>\n",
              "                        <td id=\"T_bba4fa6a_580e_11eb_ac3e_0242ac1c0002row12_col27\" class=\"data row12 col27\" >0.000000</td>\n",
              "            </tr>\n",
              "            <tr>\n",
              "                        <th id=\"T_bba4fa6a_580e_11eb_ac3e_0242ac1c0002level0_row13\" class=\"row_heading level0 row13\" >13</th>\n",
              "                        <td id=\"T_bba4fa6a_580e_11eb_ac3e_0242ac1c0002row13_col0\" class=\"data row13 col0\" >0.000000</td>\n",
              "                        <td id=\"T_bba4fa6a_580e_11eb_ac3e_0242ac1c0002row13_col1\" class=\"data row13 col1\" >0.000000</td>\n",
              "                        <td id=\"T_bba4fa6a_580e_11eb_ac3e_0242ac1c0002row13_col2\" class=\"data row13 col2\" >0.000000</td>\n",
              "                        <td id=\"T_bba4fa6a_580e_11eb_ac3e_0242ac1c0002row13_col3\" class=\"data row13 col3\" >0.000000</td>\n",
              "                        <td id=\"T_bba4fa6a_580e_11eb_ac3e_0242ac1c0002row13_col4\" class=\"data row13 col4\" >0.000000</td>\n",
              "                        <td id=\"T_bba4fa6a_580e_11eb_ac3e_0242ac1c0002row13_col5\" class=\"data row13 col5\" >1.000000</td>\n",
              "                        <td id=\"T_bba4fa6a_580e_11eb_ac3e_0242ac1c0002row13_col6\" class=\"data row13 col6\" >3.000000</td>\n",
              "                        <td id=\"T_bba4fa6a_580e_11eb_ac3e_0242ac1c0002row13_col7\" class=\"data row13 col7\" >9.000000</td>\n",
              "                        <td id=\"T_bba4fa6a_580e_11eb_ac3e_0242ac1c0002row13_col8\" class=\"data row13 col8\" >26.000000</td>\n",
              "                        <td id=\"T_bba4fa6a_580e_11eb_ac3e_0242ac1c0002row13_col9\" class=\"data row13 col9\" >57.000000</td>\n",
              "                        <td id=\"T_bba4fa6a_580e_11eb_ac3e_0242ac1c0002row13_col10\" class=\"data row13 col10\" >100.000000</td>\n",
              "                        <td id=\"T_bba4fa6a_580e_11eb_ac3e_0242ac1c0002row13_col11\" class=\"data row13 col11\" >144.000000</td>\n",
              "                        <td id=\"T_bba4fa6a_580e_11eb_ac3e_0242ac1c0002row13_col12\" class=\"data row13 col12\" >178.000000</td>\n",
              "                        <td id=\"T_bba4fa6a_580e_11eb_ac3e_0242ac1c0002row13_col13\" class=\"data row13 col13\" >195.000000</td>\n",
              "                        <td id=\"T_bba4fa6a_580e_11eb_ac3e_0242ac1c0002row13_col14\" class=\"data row13 col14\" >198.000000</td>\n",
              "                        <td id=\"T_bba4fa6a_580e_11eb_ac3e_0242ac1c0002row13_col15\" class=\"data row13 col15\" >191.000000</td>\n",
              "                        <td id=\"T_bba4fa6a_580e_11eb_ac3e_0242ac1c0002row13_col16\" class=\"data row13 col16\" >176.000000</td>\n",
              "                        <td id=\"T_bba4fa6a_580e_11eb_ac3e_0242ac1c0002row13_col17\" class=\"data row13 col17\" >148.000000</td>\n",
              "                        <td id=\"T_bba4fa6a_580e_11eb_ac3e_0242ac1c0002row13_col18\" class=\"data row13 col18\" >110.000000</td>\n",
              "                        <td id=\"T_bba4fa6a_580e_11eb_ac3e_0242ac1c0002row13_col19\" class=\"data row13 col19\" >67.000000</td>\n",
              "                        <td id=\"T_bba4fa6a_580e_11eb_ac3e_0242ac1c0002row13_col20\" class=\"data row13 col20\" >33.000000</td>\n",
              "                        <td id=\"T_bba4fa6a_580e_11eb_ac3e_0242ac1c0002row13_col21\" class=\"data row13 col21\" >12.000000</td>\n",
              "                        <td id=\"T_bba4fa6a_580e_11eb_ac3e_0242ac1c0002row13_col22\" class=\"data row13 col22\" >3.000000</td>\n",
              "                        <td id=\"T_bba4fa6a_580e_11eb_ac3e_0242ac1c0002row13_col23\" class=\"data row13 col23\" >0.000000</td>\n",
              "                        <td id=\"T_bba4fa6a_580e_11eb_ac3e_0242ac1c0002row13_col24\" class=\"data row13 col24\" >0.000000</td>\n",
              "                        <td id=\"T_bba4fa6a_580e_11eb_ac3e_0242ac1c0002row13_col25\" class=\"data row13 col25\" >0.000000</td>\n",
              "                        <td id=\"T_bba4fa6a_580e_11eb_ac3e_0242ac1c0002row13_col26\" class=\"data row13 col26\" >0.000000</td>\n",
              "                        <td id=\"T_bba4fa6a_580e_11eb_ac3e_0242ac1c0002row13_col27\" class=\"data row13 col27\" >0.000000</td>\n",
              "            </tr>\n",
              "            <tr>\n",
              "                        <th id=\"T_bba4fa6a_580e_11eb_ac3e_0242ac1c0002level0_row14\" class=\"row_heading level0 row14\" >14</th>\n",
              "                        <td id=\"T_bba4fa6a_580e_11eb_ac3e_0242ac1c0002row14_col0\" class=\"data row14 col0\" >0.000000</td>\n",
              "                        <td id=\"T_bba4fa6a_580e_11eb_ac3e_0242ac1c0002row14_col1\" class=\"data row14 col1\" >0.000000</td>\n",
              "                        <td id=\"T_bba4fa6a_580e_11eb_ac3e_0242ac1c0002row14_col2\" class=\"data row14 col2\" >0.000000</td>\n",
              "                        <td id=\"T_bba4fa6a_580e_11eb_ac3e_0242ac1c0002row14_col3\" class=\"data row14 col3\" >0.000000</td>\n",
              "                        <td id=\"T_bba4fa6a_580e_11eb_ac3e_0242ac1c0002row14_col4\" class=\"data row14 col4\" >0.000000</td>\n",
              "                        <td id=\"T_bba4fa6a_580e_11eb_ac3e_0242ac1c0002row14_col5\" class=\"data row14 col5\" >1.000000</td>\n",
              "                        <td id=\"T_bba4fa6a_580e_11eb_ac3e_0242ac1c0002row14_col6\" class=\"data row14 col6\" >3.000000</td>\n",
              "                        <td id=\"T_bba4fa6a_580e_11eb_ac3e_0242ac1c0002row14_col7\" class=\"data row14 col7\" >11.000000</td>\n",
              "                        <td id=\"T_bba4fa6a_580e_11eb_ac3e_0242ac1c0002row14_col8\" class=\"data row14 col8\" >30.000000</td>\n",
              "                        <td id=\"T_bba4fa6a_580e_11eb_ac3e_0242ac1c0002row14_col9\" class=\"data row14 col9\" >61.000000</td>\n",
              "                        <td id=\"T_bba4fa6a_580e_11eb_ac3e_0242ac1c0002row14_col10\" class=\"data row14 col10\" >99.000000</td>\n",
              "                        <td id=\"T_bba4fa6a_580e_11eb_ac3e_0242ac1c0002row14_col11\" class=\"data row14 col11\" >133.000000</td>\n",
              "                        <td id=\"T_bba4fa6a_580e_11eb_ac3e_0242ac1c0002row14_col12\" class=\"data row14 col12\" >153.000000</td>\n",
              "                        <td id=\"T_bba4fa6a_580e_11eb_ac3e_0242ac1c0002row14_col13\" class=\"data row14 col13\" >160.000000</td>\n",
              "                        <td id=\"T_bba4fa6a_580e_11eb_ac3e_0242ac1c0002row14_col14\" class=\"data row14 col14\" >160.000000</td>\n",
              "                        <td id=\"T_bba4fa6a_580e_11eb_ac3e_0242ac1c0002row14_col15\" class=\"data row14 col15\" >157.000000</td>\n",
              "                        <td id=\"T_bba4fa6a_580e_11eb_ac3e_0242ac1c0002row14_col16\" class=\"data row14 col16\" >156.000000</td>\n",
              "                        <td id=\"T_bba4fa6a_580e_11eb_ac3e_0242ac1c0002row14_col17\" class=\"data row14 col17\" >151.000000</td>\n",
              "                        <td id=\"T_bba4fa6a_580e_11eb_ac3e_0242ac1c0002row14_col18\" class=\"data row14 col18\" >131.000000</td>\n",
              "                        <td id=\"T_bba4fa6a_580e_11eb_ac3e_0242ac1c0002row14_col19\" class=\"data row14 col19\" >94.000000</td>\n",
              "                        <td id=\"T_bba4fa6a_580e_11eb_ac3e_0242ac1c0002row14_col20\" class=\"data row14 col20\" >53.000000</td>\n",
              "                        <td id=\"T_bba4fa6a_580e_11eb_ac3e_0242ac1c0002row14_col21\" class=\"data row14 col21\" >24.000000</td>\n",
              "                        <td id=\"T_bba4fa6a_580e_11eb_ac3e_0242ac1c0002row14_col22\" class=\"data row14 col22\" >8.000000</td>\n",
              "                        <td id=\"T_bba4fa6a_580e_11eb_ac3e_0242ac1c0002row14_col23\" class=\"data row14 col23\" >1.000000</td>\n",
              "                        <td id=\"T_bba4fa6a_580e_11eb_ac3e_0242ac1c0002row14_col24\" class=\"data row14 col24\" >0.000000</td>\n",
              "                        <td id=\"T_bba4fa6a_580e_11eb_ac3e_0242ac1c0002row14_col25\" class=\"data row14 col25\" >0.000000</td>\n",
              "                        <td id=\"T_bba4fa6a_580e_11eb_ac3e_0242ac1c0002row14_col26\" class=\"data row14 col26\" >0.000000</td>\n",
              "                        <td id=\"T_bba4fa6a_580e_11eb_ac3e_0242ac1c0002row14_col27\" class=\"data row14 col27\" >0.000000</td>\n",
              "            </tr>\n",
              "            <tr>\n",
              "                        <th id=\"T_bba4fa6a_580e_11eb_ac3e_0242ac1c0002level0_row15\" class=\"row_heading level0 row15\" >15</th>\n",
              "                        <td id=\"T_bba4fa6a_580e_11eb_ac3e_0242ac1c0002row15_col0\" class=\"data row15 col0\" >0.000000</td>\n",
              "                        <td id=\"T_bba4fa6a_580e_11eb_ac3e_0242ac1c0002row15_col1\" class=\"data row15 col1\" >0.000000</td>\n",
              "                        <td id=\"T_bba4fa6a_580e_11eb_ac3e_0242ac1c0002row15_col2\" class=\"data row15 col2\" >0.000000</td>\n",
              "                        <td id=\"T_bba4fa6a_580e_11eb_ac3e_0242ac1c0002row15_col3\" class=\"data row15 col3\" >0.000000</td>\n",
              "                        <td id=\"T_bba4fa6a_580e_11eb_ac3e_0242ac1c0002row15_col4\" class=\"data row15 col4\" >1.000000</td>\n",
              "                        <td id=\"T_bba4fa6a_580e_11eb_ac3e_0242ac1c0002row15_col5\" class=\"data row15 col5\" >2.000000</td>\n",
              "                        <td id=\"T_bba4fa6a_580e_11eb_ac3e_0242ac1c0002row15_col6\" class=\"data row15 col6\" >4.000000</td>\n",
              "                        <td id=\"T_bba4fa6a_580e_11eb_ac3e_0242ac1c0002row15_col7\" class=\"data row15 col7\" >10.000000</td>\n",
              "                        <td id=\"T_bba4fa6a_580e_11eb_ac3e_0242ac1c0002row15_col8\" class=\"data row15 col8\" >23.000000</td>\n",
              "                        <td id=\"T_bba4fa6a_580e_11eb_ac3e_0242ac1c0002row15_col9\" class=\"data row15 col9\" >45.000000</td>\n",
              "                        <td id=\"T_bba4fa6a_580e_11eb_ac3e_0242ac1c0002row15_col10\" class=\"data row15 col10\" >69.000000</td>\n",
              "                        <td id=\"T_bba4fa6a_580e_11eb_ac3e_0242ac1c0002row15_col11\" class=\"data row15 col11\" >88.000000</td>\n",
              "                        <td id=\"T_bba4fa6a_580e_11eb_ac3e_0242ac1c0002row15_col12\" class=\"data row15 col12\" >96.000000</td>\n",
              "                        <td id=\"T_bba4fa6a_580e_11eb_ac3e_0242ac1c0002row15_col13\" class=\"data row15 col13\" >97.000000</td>\n",
              "                        <td id=\"T_bba4fa6a_580e_11eb_ac3e_0242ac1c0002row15_col14\" class=\"data row15 col14\" >99.000000</td>\n",
              "                        <td id=\"T_bba4fa6a_580e_11eb_ac3e_0242ac1c0002row15_col15\" class=\"data row15 col15\" >105.000000</td>\n",
              "                        <td id=\"T_bba4fa6a_580e_11eb_ac3e_0242ac1c0002row15_col16\" class=\"data row15 col16\" >120.000000</td>\n",
              "                        <td id=\"T_bba4fa6a_580e_11eb_ac3e_0242ac1c0002row15_col17\" class=\"data row15 col17\" >139.000000</td>\n",
              "                        <td id=\"T_bba4fa6a_580e_11eb_ac3e_0242ac1c0002row15_col18\" class=\"data row15 col18\" >142.000000</td>\n",
              "                        <td id=\"T_bba4fa6a_580e_11eb_ac3e_0242ac1c0002row15_col19\" class=\"data row15 col19\" >117.000000</td>\n",
              "                        <td id=\"T_bba4fa6a_580e_11eb_ac3e_0242ac1c0002row15_col20\" class=\"data row15 col20\" >75.000000</td>\n",
              "                        <td id=\"T_bba4fa6a_580e_11eb_ac3e_0242ac1c0002row15_col21\" class=\"data row15 col21\" >38.000000</td>\n",
              "                        <td id=\"T_bba4fa6a_580e_11eb_ac3e_0242ac1c0002row15_col22\" class=\"data row15 col22\" >15.000000</td>\n",
              "                        <td id=\"T_bba4fa6a_580e_11eb_ac3e_0242ac1c0002row15_col23\" class=\"data row15 col23\" >3.000000</td>\n",
              "                        <td id=\"T_bba4fa6a_580e_11eb_ac3e_0242ac1c0002row15_col24\" class=\"data row15 col24\" >0.000000</td>\n",
              "                        <td id=\"T_bba4fa6a_580e_11eb_ac3e_0242ac1c0002row15_col25\" class=\"data row15 col25\" >0.000000</td>\n",
              "                        <td id=\"T_bba4fa6a_580e_11eb_ac3e_0242ac1c0002row15_col26\" class=\"data row15 col26\" >0.000000</td>\n",
              "                        <td id=\"T_bba4fa6a_580e_11eb_ac3e_0242ac1c0002row15_col27\" class=\"data row15 col27\" >0.000000</td>\n",
              "            </tr>\n",
              "            <tr>\n",
              "                        <th id=\"T_bba4fa6a_580e_11eb_ac3e_0242ac1c0002level0_row16\" class=\"row_heading level0 row16\" >16</th>\n",
              "                        <td id=\"T_bba4fa6a_580e_11eb_ac3e_0242ac1c0002row16_col0\" class=\"data row16 col0\" >0.000000</td>\n",
              "                        <td id=\"T_bba4fa6a_580e_11eb_ac3e_0242ac1c0002row16_col1\" class=\"data row16 col1\" >0.000000</td>\n",
              "                        <td id=\"T_bba4fa6a_580e_11eb_ac3e_0242ac1c0002row16_col2\" class=\"data row16 col2\" >0.000000</td>\n",
              "                        <td id=\"T_bba4fa6a_580e_11eb_ac3e_0242ac1c0002row16_col3\" class=\"data row16 col3\" >1.000000</td>\n",
              "                        <td id=\"T_bba4fa6a_580e_11eb_ac3e_0242ac1c0002row16_col4\" class=\"data row16 col4\" >3.000000</td>\n",
              "                        <td id=\"T_bba4fa6a_580e_11eb_ac3e_0242ac1c0002row16_col5\" class=\"data row16 col5\" >5.000000</td>\n",
              "                        <td id=\"T_bba4fa6a_580e_11eb_ac3e_0242ac1c0002row16_col6\" class=\"data row16 col6\" >7.000000</td>\n",
              "                        <td id=\"T_bba4fa6a_580e_11eb_ac3e_0242ac1c0002row16_col7\" class=\"data row16 col7\" >10.000000</td>\n",
              "                        <td id=\"T_bba4fa6a_580e_11eb_ac3e_0242ac1c0002row16_col8\" class=\"data row16 col8\" >15.000000</td>\n",
              "                        <td id=\"T_bba4fa6a_580e_11eb_ac3e_0242ac1c0002row16_col9\" class=\"data row16 col9\" >25.000000</td>\n",
              "                        <td id=\"T_bba4fa6a_580e_11eb_ac3e_0242ac1c0002row16_col10\" class=\"data row16 col10\" >34.000000</td>\n",
              "                        <td id=\"T_bba4fa6a_580e_11eb_ac3e_0242ac1c0002row16_col11\" class=\"data row16 col11\" >40.000000</td>\n",
              "                        <td id=\"T_bba4fa6a_580e_11eb_ac3e_0242ac1c0002row16_col12\" class=\"data row16 col12\" >42.000000</td>\n",
              "                        <td id=\"T_bba4fa6a_580e_11eb_ac3e_0242ac1c0002row16_col13\" class=\"data row16 col13\" >43.000000</td>\n",
              "                        <td id=\"T_bba4fa6a_580e_11eb_ac3e_0242ac1c0002row16_col14\" class=\"data row16 col14\" >48.000000</td>\n",
              "                        <td id=\"T_bba4fa6a_580e_11eb_ac3e_0242ac1c0002row16_col15\" class=\"data row16 col15\" >62.000000</td>\n",
              "                        <td id=\"T_bba4fa6a_580e_11eb_ac3e_0242ac1c0002row16_col16\" class=\"data row16 col16\" >87.000000</td>\n",
              "                        <td id=\"T_bba4fa6a_580e_11eb_ac3e_0242ac1c0002row16_col17\" class=\"data row16 col17\" >122.000000</td>\n",
              "                        <td id=\"T_bba4fa6a_580e_11eb_ac3e_0242ac1c0002row16_col18\" class=\"data row16 col18\" >143.000000</td>\n",
              "                        <td id=\"T_bba4fa6a_580e_11eb_ac3e_0242ac1c0002row16_col19\" class=\"data row16 col19\" >128.000000</td>\n",
              "                        <td id=\"T_bba4fa6a_580e_11eb_ac3e_0242ac1c0002row16_col20\" class=\"data row16 col20\" >89.000000</td>\n",
              "                        <td id=\"T_bba4fa6a_580e_11eb_ac3e_0242ac1c0002row16_col21\" class=\"data row16 col21\" >49.000000</td>\n",
              "                        <td id=\"T_bba4fa6a_580e_11eb_ac3e_0242ac1c0002row16_col22\" class=\"data row16 col22\" >21.000000</td>\n",
              "                        <td id=\"T_bba4fa6a_580e_11eb_ac3e_0242ac1c0002row16_col23\" class=\"data row16 col23\" >6.000000</td>\n",
              "                        <td id=\"T_bba4fa6a_580e_11eb_ac3e_0242ac1c0002row16_col24\" class=\"data row16 col24\" >0.000000</td>\n",
              "                        <td id=\"T_bba4fa6a_580e_11eb_ac3e_0242ac1c0002row16_col25\" class=\"data row16 col25\" >0.000000</td>\n",
              "                        <td id=\"T_bba4fa6a_580e_11eb_ac3e_0242ac1c0002row16_col26\" class=\"data row16 col26\" >0.000000</td>\n",
              "                        <td id=\"T_bba4fa6a_580e_11eb_ac3e_0242ac1c0002row16_col27\" class=\"data row16 col27\" >0.000000</td>\n",
              "            </tr>\n",
              "            <tr>\n",
              "                        <th id=\"T_bba4fa6a_580e_11eb_ac3e_0242ac1c0002level0_row17\" class=\"row_heading level0 row17\" >17</th>\n",
              "                        <td id=\"T_bba4fa6a_580e_11eb_ac3e_0242ac1c0002row17_col0\" class=\"data row17 col0\" >0.000000</td>\n",
              "                        <td id=\"T_bba4fa6a_580e_11eb_ac3e_0242ac1c0002row17_col1\" class=\"data row17 col1\" >0.000000</td>\n",
              "                        <td id=\"T_bba4fa6a_580e_11eb_ac3e_0242ac1c0002row17_col2\" class=\"data row17 col2\" >0.000000</td>\n",
              "                        <td id=\"T_bba4fa6a_580e_11eb_ac3e_0242ac1c0002row17_col3\" class=\"data row17 col3\" >3.000000</td>\n",
              "                        <td id=\"T_bba4fa6a_580e_11eb_ac3e_0242ac1c0002row17_col4\" class=\"data row17 col4\" >8.000000</td>\n",
              "                        <td id=\"T_bba4fa6a_580e_11eb_ac3e_0242ac1c0002row17_col5\" class=\"data row17 col5\" >11.000000</td>\n",
              "                        <td id=\"T_bba4fa6a_580e_11eb_ac3e_0242ac1c0002row17_col6\" class=\"data row17 col6\" >12.000000</td>\n",
              "                        <td id=\"T_bba4fa6a_580e_11eb_ac3e_0242ac1c0002row17_col7\" class=\"data row17 col7\" >14.000000</td>\n",
              "                        <td id=\"T_bba4fa6a_580e_11eb_ac3e_0242ac1c0002row17_col8\" class=\"data row17 col8\" >15.000000</td>\n",
              "                        <td id=\"T_bba4fa6a_580e_11eb_ac3e_0242ac1c0002row17_col9\" class=\"data row17 col9\" >15.000000</td>\n",
              "                        <td id=\"T_bba4fa6a_580e_11eb_ac3e_0242ac1c0002row17_col10\" class=\"data row17 col10\" >15.000000</td>\n",
              "                        <td id=\"T_bba4fa6a_580e_11eb_ac3e_0242ac1c0002row17_col11\" class=\"data row17 col11\" >16.000000</td>\n",
              "                        <td id=\"T_bba4fa6a_580e_11eb_ac3e_0242ac1c0002row17_col12\" class=\"data row17 col12\" >16.000000</td>\n",
              "                        <td id=\"T_bba4fa6a_580e_11eb_ac3e_0242ac1c0002row17_col13\" class=\"data row17 col13\" >18.000000</td>\n",
              "                        <td id=\"T_bba4fa6a_580e_11eb_ac3e_0242ac1c0002row17_col14\" class=\"data row17 col14\" >25.000000</td>\n",
              "                        <td id=\"T_bba4fa6a_580e_11eb_ac3e_0242ac1c0002row17_col15\" class=\"data row17 col15\" >42.000000</td>\n",
              "                        <td id=\"T_bba4fa6a_580e_11eb_ac3e_0242ac1c0002row17_col16\" class=\"data row17 col16\" >74.000000</td>\n",
              "                        <td id=\"T_bba4fa6a_580e_11eb_ac3e_0242ac1c0002row17_col17\" class=\"data row17 col17\" >115.000000</td>\n",
              "                        <td id=\"T_bba4fa6a_580e_11eb_ac3e_0242ac1c0002row17_col18\" class=\"data row17 col18\" >140.000000</td>\n",
              "                        <td id=\"T_bba4fa6a_580e_11eb_ac3e_0242ac1c0002row17_col19\" class=\"data row17 col19\" >131.000000</td>\n",
              "                        <td id=\"T_bba4fa6a_580e_11eb_ac3e_0242ac1c0002row17_col20\" class=\"data row17 col20\" >94.000000</td>\n",
              "                        <td id=\"T_bba4fa6a_580e_11eb_ac3e_0242ac1c0002row17_col21\" class=\"data row17 col21\" >55.000000</td>\n",
              "                        <td id=\"T_bba4fa6a_580e_11eb_ac3e_0242ac1c0002row17_col22\" class=\"data row17 col22\" >26.000000</td>\n",
              "                        <td id=\"T_bba4fa6a_580e_11eb_ac3e_0242ac1c0002row17_col23\" class=\"data row17 col23\" >8.000000</td>\n",
              "                        <td id=\"T_bba4fa6a_580e_11eb_ac3e_0242ac1c0002row17_col24\" class=\"data row17 col24\" >0.000000</td>\n",
              "                        <td id=\"T_bba4fa6a_580e_11eb_ac3e_0242ac1c0002row17_col25\" class=\"data row17 col25\" >0.000000</td>\n",
              "                        <td id=\"T_bba4fa6a_580e_11eb_ac3e_0242ac1c0002row17_col26\" class=\"data row17 col26\" >0.000000</td>\n",
              "                        <td id=\"T_bba4fa6a_580e_11eb_ac3e_0242ac1c0002row17_col27\" class=\"data row17 col27\" >0.000000</td>\n",
              "            </tr>\n",
              "            <tr>\n",
              "                        <th id=\"T_bba4fa6a_580e_11eb_ac3e_0242ac1c0002level0_row18\" class=\"row_heading level0 row18\" >18</th>\n",
              "                        <td id=\"T_bba4fa6a_580e_11eb_ac3e_0242ac1c0002row18_col0\" class=\"data row18 col0\" >0.000000</td>\n",
              "                        <td id=\"T_bba4fa6a_580e_11eb_ac3e_0242ac1c0002row18_col1\" class=\"data row18 col1\" >0.000000</td>\n",
              "                        <td id=\"T_bba4fa6a_580e_11eb_ac3e_0242ac1c0002row18_col2\" class=\"data row18 col2\" >1.000000</td>\n",
              "                        <td id=\"T_bba4fa6a_580e_11eb_ac3e_0242ac1c0002row18_col3\" class=\"data row18 col3\" >7.000000</td>\n",
              "                        <td id=\"T_bba4fa6a_580e_11eb_ac3e_0242ac1c0002row18_col4\" class=\"data row18 col4\" >14.000000</td>\n",
              "                        <td id=\"T_bba4fa6a_580e_11eb_ac3e_0242ac1c0002row18_col5\" class=\"data row18 col5\" >21.000000</td>\n",
              "                        <td id=\"T_bba4fa6a_580e_11eb_ac3e_0242ac1c0002row18_col6\" class=\"data row18 col6\" >24.000000</td>\n",
              "                        <td id=\"T_bba4fa6a_580e_11eb_ac3e_0242ac1c0002row18_col7\" class=\"data row18 col7\" >25.000000</td>\n",
              "                        <td id=\"T_bba4fa6a_580e_11eb_ac3e_0242ac1c0002row18_col8\" class=\"data row18 col8\" >23.000000</td>\n",
              "                        <td id=\"T_bba4fa6a_580e_11eb_ac3e_0242ac1c0002row18_col9\" class=\"data row18 col9\" >19.000000</td>\n",
              "                        <td id=\"T_bba4fa6a_580e_11eb_ac3e_0242ac1c0002row18_col10\" class=\"data row18 col10\" >15.000000</td>\n",
              "                        <td id=\"T_bba4fa6a_580e_11eb_ac3e_0242ac1c0002row18_col11\" class=\"data row18 col11\" >13.000000</td>\n",
              "                        <td id=\"T_bba4fa6a_580e_11eb_ac3e_0242ac1c0002row18_col12\" class=\"data row18 col12\" >12.000000</td>\n",
              "                        <td id=\"T_bba4fa6a_580e_11eb_ac3e_0242ac1c0002row18_col13\" class=\"data row18 col13\" >14.000000</td>\n",
              "                        <td id=\"T_bba4fa6a_580e_11eb_ac3e_0242ac1c0002row18_col14\" class=\"data row18 col14\" >23.000000</td>\n",
              "                        <td id=\"T_bba4fa6a_580e_11eb_ac3e_0242ac1c0002row18_col15\" class=\"data row18 col15\" >46.000000</td>\n",
              "                        <td id=\"T_bba4fa6a_580e_11eb_ac3e_0242ac1c0002row18_col16\" class=\"data row18 col16\" >83.000000</td>\n",
              "                        <td id=\"T_bba4fa6a_580e_11eb_ac3e_0242ac1c0002row18_col17\" class=\"data row18 col17\" >121.000000</td>\n",
              "                        <td id=\"T_bba4fa6a_580e_11eb_ac3e_0242ac1c0002row18_col18\" class=\"data row18 col18\" >141.000000</td>\n",
              "                        <td id=\"T_bba4fa6a_580e_11eb_ac3e_0242ac1c0002row18_col19\" class=\"data row18 col19\" >129.000000</td>\n",
              "                        <td id=\"T_bba4fa6a_580e_11eb_ac3e_0242ac1c0002row18_col20\" class=\"data row18 col20\" >92.000000</td>\n",
              "                        <td id=\"T_bba4fa6a_580e_11eb_ac3e_0242ac1c0002row18_col21\" class=\"data row18 col21\" >56.000000</td>\n",
              "                        <td id=\"T_bba4fa6a_580e_11eb_ac3e_0242ac1c0002row18_col22\" class=\"data row18 col22\" >27.000000</td>\n",
              "                        <td id=\"T_bba4fa6a_580e_11eb_ac3e_0242ac1c0002row18_col23\" class=\"data row18 col23\" >8.000000</td>\n",
              "                        <td id=\"T_bba4fa6a_580e_11eb_ac3e_0242ac1c0002row18_col24\" class=\"data row18 col24\" >0.000000</td>\n",
              "                        <td id=\"T_bba4fa6a_580e_11eb_ac3e_0242ac1c0002row18_col25\" class=\"data row18 col25\" >0.000000</td>\n",
              "                        <td id=\"T_bba4fa6a_580e_11eb_ac3e_0242ac1c0002row18_col26\" class=\"data row18 col26\" >0.000000</td>\n",
              "                        <td id=\"T_bba4fa6a_580e_11eb_ac3e_0242ac1c0002row18_col27\" class=\"data row18 col27\" >0.000000</td>\n",
              "            </tr>\n",
              "            <tr>\n",
              "                        <th id=\"T_bba4fa6a_580e_11eb_ac3e_0242ac1c0002level0_row19\" class=\"row_heading level0 row19\" >19</th>\n",
              "                        <td id=\"T_bba4fa6a_580e_11eb_ac3e_0242ac1c0002row19_col0\" class=\"data row19 col0\" >0.000000</td>\n",
              "                        <td id=\"T_bba4fa6a_580e_11eb_ac3e_0242ac1c0002row19_col1\" class=\"data row19 col1\" >0.000000</td>\n",
              "                        <td id=\"T_bba4fa6a_580e_11eb_ac3e_0242ac1c0002row19_col2\" class=\"data row19 col2\" >2.000000</td>\n",
              "                        <td id=\"T_bba4fa6a_580e_11eb_ac3e_0242ac1c0002row19_col3\" class=\"data row19 col3\" >10.000000</td>\n",
              "                        <td id=\"T_bba4fa6a_580e_11eb_ac3e_0242ac1c0002row19_col4\" class=\"data row19 col4\" >22.000000</td>\n",
              "                        <td id=\"T_bba4fa6a_580e_11eb_ac3e_0242ac1c0002row19_col5\" class=\"data row19 col5\" >34.000000</td>\n",
              "                        <td id=\"T_bba4fa6a_580e_11eb_ac3e_0242ac1c0002row19_col6\" class=\"data row19 col6\" >43.000000</td>\n",
              "                        <td id=\"T_bba4fa6a_580e_11eb_ac3e_0242ac1c0002row19_col7\" class=\"data row19 col7\" >46.000000</td>\n",
              "                        <td id=\"T_bba4fa6a_580e_11eb_ac3e_0242ac1c0002row19_col8\" class=\"data row19 col8\" >44.000000</td>\n",
              "                        <td id=\"T_bba4fa6a_580e_11eb_ac3e_0242ac1c0002row19_col9\" class=\"data row19 col9\" >38.000000</td>\n",
              "                        <td id=\"T_bba4fa6a_580e_11eb_ac3e_0242ac1c0002row19_col10\" class=\"data row19 col10\" >31.000000</td>\n",
              "                        <td id=\"T_bba4fa6a_580e_11eb_ac3e_0242ac1c0002row19_col11\" class=\"data row19 col11\" >25.000000</td>\n",
              "                        <td id=\"T_bba4fa6a_580e_11eb_ac3e_0242ac1c0002row19_col12\" class=\"data row19 col12\" >23.000000</td>\n",
              "                        <td id=\"T_bba4fa6a_580e_11eb_ac3e_0242ac1c0002row19_col13\" class=\"data row19 col13\" >28.000000</td>\n",
              "                        <td id=\"T_bba4fa6a_580e_11eb_ac3e_0242ac1c0002row19_col14\" class=\"data row19 col14\" >44.000000</td>\n",
              "                        <td id=\"T_bba4fa6a_580e_11eb_ac3e_0242ac1c0002row19_col15\" class=\"data row19 col15\" >72.000000</td>\n",
              "                        <td id=\"T_bba4fa6a_580e_11eb_ac3e_0242ac1c0002row19_col16\" class=\"data row19 col16\" >109.000000</td>\n",
              "                        <td id=\"T_bba4fa6a_580e_11eb_ac3e_0242ac1c0002row19_col17\" class=\"data row19 col17\" >139.000000</td>\n",
              "                        <td id=\"T_bba4fa6a_580e_11eb_ac3e_0242ac1c0002row19_col18\" class=\"data row19 col18\" >145.000000</td>\n",
              "                        <td id=\"T_bba4fa6a_580e_11eb_ac3e_0242ac1c0002row19_col19\" class=\"data row19 col19\" >124.000000</td>\n",
              "                        <td id=\"T_bba4fa6a_580e_11eb_ac3e_0242ac1c0002row19_col20\" class=\"data row19 col20\" >86.000000</td>\n",
              "                        <td id=\"T_bba4fa6a_580e_11eb_ac3e_0242ac1c0002row19_col21\" class=\"data row19 col21\" >51.000000</td>\n",
              "                        <td id=\"T_bba4fa6a_580e_11eb_ac3e_0242ac1c0002row19_col22\" class=\"data row19 col22\" >23.000000</td>\n",
              "                        <td id=\"T_bba4fa6a_580e_11eb_ac3e_0242ac1c0002row19_col23\" class=\"data row19 col23\" >6.000000</td>\n",
              "                        <td id=\"T_bba4fa6a_580e_11eb_ac3e_0242ac1c0002row19_col24\" class=\"data row19 col24\" >0.000000</td>\n",
              "                        <td id=\"T_bba4fa6a_580e_11eb_ac3e_0242ac1c0002row19_col25\" class=\"data row19 col25\" >0.000000</td>\n",
              "                        <td id=\"T_bba4fa6a_580e_11eb_ac3e_0242ac1c0002row19_col26\" class=\"data row19 col26\" >0.000000</td>\n",
              "                        <td id=\"T_bba4fa6a_580e_11eb_ac3e_0242ac1c0002row19_col27\" class=\"data row19 col27\" >0.000000</td>\n",
              "            </tr>\n",
              "            <tr>\n",
              "                        <th id=\"T_bba4fa6a_580e_11eb_ac3e_0242ac1c0002level0_row20\" class=\"row_heading level0 row20\" >20</th>\n",
              "                        <td id=\"T_bba4fa6a_580e_11eb_ac3e_0242ac1c0002row20_col0\" class=\"data row20 col0\" >0.000000</td>\n",
              "                        <td id=\"T_bba4fa6a_580e_11eb_ac3e_0242ac1c0002row20_col1\" class=\"data row20 col1\" >0.000000</td>\n",
              "                        <td id=\"T_bba4fa6a_580e_11eb_ac3e_0242ac1c0002row20_col2\" class=\"data row20 col2\" >2.000000</td>\n",
              "                        <td id=\"T_bba4fa6a_580e_11eb_ac3e_0242ac1c0002row20_col3\" class=\"data row20 col3\" >12.000000</td>\n",
              "                        <td id=\"T_bba4fa6a_580e_11eb_ac3e_0242ac1c0002row20_col4\" class=\"data row20 col4\" >27.000000</td>\n",
              "                        <td id=\"T_bba4fa6a_580e_11eb_ac3e_0242ac1c0002row20_col5\" class=\"data row20 col5\" >46.000000</td>\n",
              "                        <td id=\"T_bba4fa6a_580e_11eb_ac3e_0242ac1c0002row20_col6\" class=\"data row20 col6\" >61.000000</td>\n",
              "                        <td id=\"T_bba4fa6a_580e_11eb_ac3e_0242ac1c0002row20_col7\" class=\"data row20 col7\" >73.000000</td>\n",
              "                        <td id=\"T_bba4fa6a_580e_11eb_ac3e_0242ac1c0002row20_col8\" class=\"data row20 col8\" >78.000000</td>\n",
              "                        <td id=\"T_bba4fa6a_580e_11eb_ac3e_0242ac1c0002row20_col9\" class=\"data row20 col9\" >74.000000</td>\n",
              "                        <td id=\"T_bba4fa6a_580e_11eb_ac3e_0242ac1c0002row20_col10\" class=\"data row20 col10\" >66.000000</td>\n",
              "                        <td id=\"T_bba4fa6a_580e_11eb_ac3e_0242ac1c0002row20_col11\" class=\"data row20 col11\" >60.000000</td>\n",
              "                        <td id=\"T_bba4fa6a_580e_11eb_ac3e_0242ac1c0002row20_col12\" class=\"data row20 col12\" >59.000000</td>\n",
              "                        <td id=\"T_bba4fa6a_580e_11eb_ac3e_0242ac1c0002row20_col13\" class=\"data row20 col13\" >70.000000</td>\n",
              "                        <td id=\"T_bba4fa6a_580e_11eb_ac3e_0242ac1c0002row20_col14\" class=\"data row20 col14\" >90.000000</td>\n",
              "                        <td id=\"T_bba4fa6a_580e_11eb_ac3e_0242ac1c0002row20_col15\" class=\"data row20 col15\" >118.000000</td>\n",
              "                        <td id=\"T_bba4fa6a_580e_11eb_ac3e_0242ac1c0002row20_col16\" class=\"data row20 col16\" >145.000000</td>\n",
              "                        <td id=\"T_bba4fa6a_580e_11eb_ac3e_0242ac1c0002row20_col17\" class=\"data row20 col17\" >155.000000</td>\n",
              "                        <td id=\"T_bba4fa6a_580e_11eb_ac3e_0242ac1c0002row20_col18\" class=\"data row20 col18\" >142.000000</td>\n",
              "                        <td id=\"T_bba4fa6a_580e_11eb_ac3e_0242ac1c0002row20_col19\" class=\"data row20 col19\" >109.000000</td>\n",
              "                        <td id=\"T_bba4fa6a_580e_11eb_ac3e_0242ac1c0002row20_col20\" class=\"data row20 col20\" >71.000000</td>\n",
              "                        <td id=\"T_bba4fa6a_580e_11eb_ac3e_0242ac1c0002row20_col21\" class=\"data row20 col21\" >38.000000</td>\n",
              "                        <td id=\"T_bba4fa6a_580e_11eb_ac3e_0242ac1c0002row20_col22\" class=\"data row20 col22\" >15.000000</td>\n",
              "                        <td id=\"T_bba4fa6a_580e_11eb_ac3e_0242ac1c0002row20_col23\" class=\"data row20 col23\" >3.000000</td>\n",
              "                        <td id=\"T_bba4fa6a_580e_11eb_ac3e_0242ac1c0002row20_col24\" class=\"data row20 col24\" >0.000000</td>\n",
              "                        <td id=\"T_bba4fa6a_580e_11eb_ac3e_0242ac1c0002row20_col25\" class=\"data row20 col25\" >0.000000</td>\n",
              "                        <td id=\"T_bba4fa6a_580e_11eb_ac3e_0242ac1c0002row20_col26\" class=\"data row20 col26\" >0.000000</td>\n",
              "                        <td id=\"T_bba4fa6a_580e_11eb_ac3e_0242ac1c0002row20_col27\" class=\"data row20 col27\" >0.000000</td>\n",
              "            </tr>\n",
              "            <tr>\n",
              "                        <th id=\"T_bba4fa6a_580e_11eb_ac3e_0242ac1c0002level0_row21\" class=\"row_heading level0 row21\" >21</th>\n",
              "                        <td id=\"T_bba4fa6a_580e_11eb_ac3e_0242ac1c0002row21_col0\" class=\"data row21 col0\" >0.000000</td>\n",
              "                        <td id=\"T_bba4fa6a_580e_11eb_ac3e_0242ac1c0002row21_col1\" class=\"data row21 col1\" >0.000000</td>\n",
              "                        <td id=\"T_bba4fa6a_580e_11eb_ac3e_0242ac1c0002row21_col2\" class=\"data row21 col2\" >2.000000</td>\n",
              "                        <td id=\"T_bba4fa6a_580e_11eb_ac3e_0242ac1c0002row21_col3\" class=\"data row21 col3\" >10.000000</td>\n",
              "                        <td id=\"T_bba4fa6a_580e_11eb_ac3e_0242ac1c0002row21_col4\" class=\"data row21 col4\" >25.000000</td>\n",
              "                        <td id=\"T_bba4fa6a_580e_11eb_ac3e_0242ac1c0002row21_col5\" class=\"data row21 col5\" >47.000000</td>\n",
              "                        <td id=\"T_bba4fa6a_580e_11eb_ac3e_0242ac1c0002row21_col6\" class=\"data row21 col6\" >72.000000</td>\n",
              "                        <td id=\"T_bba4fa6a_580e_11eb_ac3e_0242ac1c0002row21_col7\" class=\"data row21 col7\" >95.000000</td>\n",
              "                        <td id=\"T_bba4fa6a_580e_11eb_ac3e_0242ac1c0002row21_col8\" class=\"data row21 col8\" >114.000000</td>\n",
              "                        <td id=\"T_bba4fa6a_580e_11eb_ac3e_0242ac1c0002row21_col9\" class=\"data row21 col9\" >122.000000</td>\n",
              "                        <td id=\"T_bba4fa6a_580e_11eb_ac3e_0242ac1c0002row21_col10\" class=\"data row21 col10\" >122.000000</td>\n",
              "                        <td id=\"T_bba4fa6a_580e_11eb_ac3e_0242ac1c0002row21_col11\" class=\"data row21 col11\" >121.000000</td>\n",
              "                        <td id=\"T_bba4fa6a_580e_11eb_ac3e_0242ac1c0002row21_col12\" class=\"data row21 col12\" >124.000000</td>\n",
              "                        <td id=\"T_bba4fa6a_580e_11eb_ac3e_0242ac1c0002row21_col13\" class=\"data row21 col13\" >135.000000</td>\n",
              "                        <td id=\"T_bba4fa6a_580e_11eb_ac3e_0242ac1c0002row21_col14\" class=\"data row21 col14\" >151.000000</td>\n",
              "                        <td id=\"T_bba4fa6a_580e_11eb_ac3e_0242ac1c0002row21_col15\" class=\"data row21 col15\" >165.000000</td>\n",
              "                        <td id=\"T_bba4fa6a_580e_11eb_ac3e_0242ac1c0002row21_col16\" class=\"data row21 col16\" >168.000000</td>\n",
              "                        <td id=\"T_bba4fa6a_580e_11eb_ac3e_0242ac1c0002row21_col17\" class=\"data row21 col17\" >153.000000</td>\n",
              "                        <td id=\"T_bba4fa6a_580e_11eb_ac3e_0242ac1c0002row21_col18\" class=\"data row21 col18\" >120.000000</td>\n",
              "                        <td id=\"T_bba4fa6a_580e_11eb_ac3e_0242ac1c0002row21_col19\" class=\"data row21 col19\" >82.000000</td>\n",
              "                        <td id=\"T_bba4fa6a_580e_11eb_ac3e_0242ac1c0002row21_col20\" class=\"data row21 col20\" >48.000000</td>\n",
              "                        <td id=\"T_bba4fa6a_580e_11eb_ac3e_0242ac1c0002row21_col21\" class=\"data row21 col21\" >22.000000</td>\n",
              "                        <td id=\"T_bba4fa6a_580e_11eb_ac3e_0242ac1c0002row21_col22\" class=\"data row21 col22\" >7.000000</td>\n",
              "                        <td id=\"T_bba4fa6a_580e_11eb_ac3e_0242ac1c0002row21_col23\" class=\"data row21 col23\" >1.000000</td>\n",
              "                        <td id=\"T_bba4fa6a_580e_11eb_ac3e_0242ac1c0002row21_col24\" class=\"data row21 col24\" >0.000000</td>\n",
              "                        <td id=\"T_bba4fa6a_580e_11eb_ac3e_0242ac1c0002row21_col25\" class=\"data row21 col25\" >0.000000</td>\n",
              "                        <td id=\"T_bba4fa6a_580e_11eb_ac3e_0242ac1c0002row21_col26\" class=\"data row21 col26\" >0.000000</td>\n",
              "                        <td id=\"T_bba4fa6a_580e_11eb_ac3e_0242ac1c0002row21_col27\" class=\"data row21 col27\" >0.000000</td>\n",
              "            </tr>\n",
              "            <tr>\n",
              "                        <th id=\"T_bba4fa6a_580e_11eb_ac3e_0242ac1c0002level0_row22\" class=\"row_heading level0 row22\" >22</th>\n",
              "                        <td id=\"T_bba4fa6a_580e_11eb_ac3e_0242ac1c0002row22_col0\" class=\"data row22 col0\" >0.000000</td>\n",
              "                        <td id=\"T_bba4fa6a_580e_11eb_ac3e_0242ac1c0002row22_col1\" class=\"data row22 col1\" >0.000000</td>\n",
              "                        <td id=\"T_bba4fa6a_580e_11eb_ac3e_0242ac1c0002row22_col2\" class=\"data row22 col2\" >1.000000</td>\n",
              "                        <td id=\"T_bba4fa6a_580e_11eb_ac3e_0242ac1c0002row22_col3\" class=\"data row22 col3\" >6.000000</td>\n",
              "                        <td id=\"T_bba4fa6a_580e_11eb_ac3e_0242ac1c0002row22_col4\" class=\"data row22 col4\" >18.000000</td>\n",
              "                        <td id=\"T_bba4fa6a_580e_11eb_ac3e_0242ac1c0002row22_col5\" class=\"data row22 col5\" >36.000000</td>\n",
              "                        <td id=\"T_bba4fa6a_580e_11eb_ac3e_0242ac1c0002row22_col6\" class=\"data row22 col6\" >64.000000</td>\n",
              "                        <td id=\"T_bba4fa6a_580e_11eb_ac3e_0242ac1c0002row22_col7\" class=\"data row22 col7\" >95.000000</td>\n",
              "                        <td id=\"T_bba4fa6a_580e_11eb_ac3e_0242ac1c0002row22_col8\" class=\"data row22 col8\" >126.000000</td>\n",
              "                        <td id=\"T_bba4fa6a_580e_11eb_ac3e_0242ac1c0002row22_col9\" class=\"data row22 col9\" >151.000000</td>\n",
              "                        <td id=\"T_bba4fa6a_580e_11eb_ac3e_0242ac1c0002row22_col10\" class=\"data row22 col10\" >167.000000</td>\n",
              "                        <td id=\"T_bba4fa6a_580e_11eb_ac3e_0242ac1c0002row22_col11\" class=\"data row22 col11\" >177.000000</td>\n",
              "                        <td id=\"T_bba4fa6a_580e_11eb_ac3e_0242ac1c0002row22_col12\" class=\"data row22 col12\" >182.000000</td>\n",
              "                        <td id=\"T_bba4fa6a_580e_11eb_ac3e_0242ac1c0002row22_col13\" class=\"data row22 col13\" >185.000000</td>\n",
              "                        <td id=\"T_bba4fa6a_580e_11eb_ac3e_0242ac1c0002row22_col14\" class=\"data row22 col14\" >184.000000</td>\n",
              "                        <td id=\"T_bba4fa6a_580e_11eb_ac3e_0242ac1c0002row22_col15\" class=\"data row22 col15\" >173.000000</td>\n",
              "                        <td id=\"T_bba4fa6a_580e_11eb_ac3e_0242ac1c0002row22_col16\" class=\"data row22 col16\" >150.000000</td>\n",
              "                        <td id=\"T_bba4fa6a_580e_11eb_ac3e_0242ac1c0002row22_col17\" class=\"data row22 col17\" >117.000000</td>\n",
              "                        <td id=\"T_bba4fa6a_580e_11eb_ac3e_0242ac1c0002row22_col18\" class=\"data row22 col18\" >80.000000</td>\n",
              "                        <td id=\"T_bba4fa6a_580e_11eb_ac3e_0242ac1c0002row22_col19\" class=\"data row22 col19\" >47.000000</td>\n",
              "                        <td id=\"T_bba4fa6a_580e_11eb_ac3e_0242ac1c0002row22_col20\" class=\"data row22 col20\" >24.000000</td>\n",
              "                        <td id=\"T_bba4fa6a_580e_11eb_ac3e_0242ac1c0002row22_col21\" class=\"data row22 col21\" >9.000000</td>\n",
              "                        <td id=\"T_bba4fa6a_580e_11eb_ac3e_0242ac1c0002row22_col22\" class=\"data row22 col22\" >2.000000</td>\n",
              "                        <td id=\"T_bba4fa6a_580e_11eb_ac3e_0242ac1c0002row22_col23\" class=\"data row22 col23\" >0.000000</td>\n",
              "                        <td id=\"T_bba4fa6a_580e_11eb_ac3e_0242ac1c0002row22_col24\" class=\"data row22 col24\" >0.000000</td>\n",
              "                        <td id=\"T_bba4fa6a_580e_11eb_ac3e_0242ac1c0002row22_col25\" class=\"data row22 col25\" >0.000000</td>\n",
              "                        <td id=\"T_bba4fa6a_580e_11eb_ac3e_0242ac1c0002row22_col26\" class=\"data row22 col26\" >0.000000</td>\n",
              "                        <td id=\"T_bba4fa6a_580e_11eb_ac3e_0242ac1c0002row22_col27\" class=\"data row22 col27\" >0.000000</td>\n",
              "            </tr>\n",
              "            <tr>\n",
              "                        <th id=\"T_bba4fa6a_580e_11eb_ac3e_0242ac1c0002level0_row23\" class=\"row_heading level0 row23\" >23</th>\n",
              "                        <td id=\"T_bba4fa6a_580e_11eb_ac3e_0242ac1c0002row23_col0\" class=\"data row23 col0\" >0.000000</td>\n",
              "                        <td id=\"T_bba4fa6a_580e_11eb_ac3e_0242ac1c0002row23_col1\" class=\"data row23 col1\" >0.000000</td>\n",
              "                        <td id=\"T_bba4fa6a_580e_11eb_ac3e_0242ac1c0002row23_col2\" class=\"data row23 col2\" >0.000000</td>\n",
              "                        <td id=\"T_bba4fa6a_580e_11eb_ac3e_0242ac1c0002row23_col3\" class=\"data row23 col3\" >3.000000</td>\n",
              "                        <td id=\"T_bba4fa6a_580e_11eb_ac3e_0242ac1c0002row23_col4\" class=\"data row23 col4\" >10.000000</td>\n",
              "                        <td id=\"T_bba4fa6a_580e_11eb_ac3e_0242ac1c0002row23_col5\" class=\"data row23 col5\" >21.000000</td>\n",
              "                        <td id=\"T_bba4fa6a_580e_11eb_ac3e_0242ac1c0002row23_col6\" class=\"data row23 col6\" >39.000000</td>\n",
              "                        <td id=\"T_bba4fa6a_580e_11eb_ac3e_0242ac1c0002row23_col7\" class=\"data row23 col7\" >65.000000</td>\n",
              "                        <td id=\"T_bba4fa6a_580e_11eb_ac3e_0242ac1c0002row23_col8\" class=\"data row23 col8\" >95.000000</td>\n",
              "                        <td id=\"T_bba4fa6a_580e_11eb_ac3e_0242ac1c0002row23_col9\" class=\"data row23 col9\" >124.000000</td>\n",
              "                        <td id=\"T_bba4fa6a_580e_11eb_ac3e_0242ac1c0002row23_col10\" class=\"data row23 col10\" >148.000000</td>\n",
              "                        <td id=\"T_bba4fa6a_580e_11eb_ac3e_0242ac1c0002row23_col11\" class=\"data row23 col11\" >164.000000</td>\n",
              "                        <td id=\"T_bba4fa6a_580e_11eb_ac3e_0242ac1c0002row23_col12\" class=\"data row23 col12\" >169.000000</td>\n",
              "                        <td id=\"T_bba4fa6a_580e_11eb_ac3e_0242ac1c0002row23_col13\" class=\"data row23 col13\" >163.000000</td>\n",
              "                        <td id=\"T_bba4fa6a_580e_11eb_ac3e_0242ac1c0002row23_col14\" class=\"data row23 col14\" >146.000000</td>\n",
              "                        <td id=\"T_bba4fa6a_580e_11eb_ac3e_0242ac1c0002row23_col15\" class=\"data row23 col15\" >120.000000</td>\n",
              "                        <td id=\"T_bba4fa6a_580e_11eb_ac3e_0242ac1c0002row23_col16\" class=\"data row23 col16\" >90.000000</td>\n",
              "                        <td id=\"T_bba4fa6a_580e_11eb_ac3e_0242ac1c0002row23_col17\" class=\"data row23 col17\" >60.000000</td>\n",
              "                        <td id=\"T_bba4fa6a_580e_11eb_ac3e_0242ac1c0002row23_col18\" class=\"data row23 col18\" >36.000000</td>\n",
              "                        <td id=\"T_bba4fa6a_580e_11eb_ac3e_0242ac1c0002row23_col19\" class=\"data row23 col19\" >19.000000</td>\n",
              "                        <td id=\"T_bba4fa6a_580e_11eb_ac3e_0242ac1c0002row23_col20\" class=\"data row23 col20\" >7.000000</td>\n",
              "                        <td id=\"T_bba4fa6a_580e_11eb_ac3e_0242ac1c0002row23_col21\" class=\"data row23 col21\" >2.000000</td>\n",
              "                        <td id=\"T_bba4fa6a_580e_11eb_ac3e_0242ac1c0002row23_col22\" class=\"data row23 col22\" >0.000000</td>\n",
              "                        <td id=\"T_bba4fa6a_580e_11eb_ac3e_0242ac1c0002row23_col23\" class=\"data row23 col23\" >0.000000</td>\n",
              "                        <td id=\"T_bba4fa6a_580e_11eb_ac3e_0242ac1c0002row23_col24\" class=\"data row23 col24\" >0.000000</td>\n",
              "                        <td id=\"T_bba4fa6a_580e_11eb_ac3e_0242ac1c0002row23_col25\" class=\"data row23 col25\" >0.000000</td>\n",
              "                        <td id=\"T_bba4fa6a_580e_11eb_ac3e_0242ac1c0002row23_col26\" class=\"data row23 col26\" >0.000000</td>\n",
              "                        <td id=\"T_bba4fa6a_580e_11eb_ac3e_0242ac1c0002row23_col27\" class=\"data row23 col27\" >0.000000</td>\n",
              "            </tr>\n",
              "            <tr>\n",
              "                        <th id=\"T_bba4fa6a_580e_11eb_ac3e_0242ac1c0002level0_row24\" class=\"row_heading level0 row24\" >24</th>\n",
              "                        <td id=\"T_bba4fa6a_580e_11eb_ac3e_0242ac1c0002row24_col0\" class=\"data row24 col0\" >0.000000</td>\n",
              "                        <td id=\"T_bba4fa6a_580e_11eb_ac3e_0242ac1c0002row24_col1\" class=\"data row24 col1\" >0.000000</td>\n",
              "                        <td id=\"T_bba4fa6a_580e_11eb_ac3e_0242ac1c0002row24_col2\" class=\"data row24 col2\" >0.000000</td>\n",
              "                        <td id=\"T_bba4fa6a_580e_11eb_ac3e_0242ac1c0002row24_col3\" class=\"data row24 col3\" >1.000000</td>\n",
              "                        <td id=\"T_bba4fa6a_580e_11eb_ac3e_0242ac1c0002row24_col4\" class=\"data row24 col4\" >3.000000</td>\n",
              "                        <td id=\"T_bba4fa6a_580e_11eb_ac3e_0242ac1c0002row24_col5\" class=\"data row24 col5\" >7.000000</td>\n",
              "                        <td id=\"T_bba4fa6a_580e_11eb_ac3e_0242ac1c0002row24_col6\" class=\"data row24 col6\" >14.000000</td>\n",
              "                        <td id=\"T_bba4fa6a_580e_11eb_ac3e_0242ac1c0002row24_col7\" class=\"data row24 col7\" >24.000000</td>\n",
              "                        <td id=\"T_bba4fa6a_580e_11eb_ac3e_0242ac1c0002row24_col8\" class=\"data row24 col8\" >37.000000</td>\n",
              "                        <td id=\"T_bba4fa6a_580e_11eb_ac3e_0242ac1c0002row24_col9\" class=\"data row24 col9\" >52.000000</td>\n",
              "                        <td id=\"T_bba4fa6a_580e_11eb_ac3e_0242ac1c0002row24_col10\" class=\"data row24 col10\" >64.000000</td>\n",
              "                        <td id=\"T_bba4fa6a_580e_11eb_ac3e_0242ac1c0002row24_col11\" class=\"data row24 col11\" >73.000000</td>\n",
              "                        <td id=\"T_bba4fa6a_580e_11eb_ac3e_0242ac1c0002row24_col12\" class=\"data row24 col12\" >74.000000</td>\n",
              "                        <td id=\"T_bba4fa6a_580e_11eb_ac3e_0242ac1c0002row24_col13\" class=\"data row24 col13\" >70.000000</td>\n",
              "                        <td id=\"T_bba4fa6a_580e_11eb_ac3e_0242ac1c0002row24_col14\" class=\"data row24 col14\" >58.000000</td>\n",
              "                        <td id=\"T_bba4fa6a_580e_11eb_ac3e_0242ac1c0002row24_col15\" class=\"data row24 col15\" >44.000000</td>\n",
              "                        <td id=\"T_bba4fa6a_580e_11eb_ac3e_0242ac1c0002row24_col16\" class=\"data row24 col16\" >30.000000</td>\n",
              "                        <td id=\"T_bba4fa6a_580e_11eb_ac3e_0242ac1c0002row24_col17\" class=\"data row24 col17\" >18.000000</td>\n",
              "                        <td id=\"T_bba4fa6a_580e_11eb_ac3e_0242ac1c0002row24_col18\" class=\"data row24 col18\" >9.000000</td>\n",
              "                        <td id=\"T_bba4fa6a_580e_11eb_ac3e_0242ac1c0002row24_col19\" class=\"data row24 col19\" >4.000000</td>\n",
              "                        <td id=\"T_bba4fa6a_580e_11eb_ac3e_0242ac1c0002row24_col20\" class=\"data row24 col20\" >1.000000</td>\n",
              "                        <td id=\"T_bba4fa6a_580e_11eb_ac3e_0242ac1c0002row24_col21\" class=\"data row24 col21\" >0.000000</td>\n",
              "                        <td id=\"T_bba4fa6a_580e_11eb_ac3e_0242ac1c0002row24_col22\" class=\"data row24 col22\" >0.000000</td>\n",
              "                        <td id=\"T_bba4fa6a_580e_11eb_ac3e_0242ac1c0002row24_col23\" class=\"data row24 col23\" >0.000000</td>\n",
              "                        <td id=\"T_bba4fa6a_580e_11eb_ac3e_0242ac1c0002row24_col24\" class=\"data row24 col24\" >0.000000</td>\n",
              "                        <td id=\"T_bba4fa6a_580e_11eb_ac3e_0242ac1c0002row24_col25\" class=\"data row24 col25\" >0.000000</td>\n",
              "                        <td id=\"T_bba4fa6a_580e_11eb_ac3e_0242ac1c0002row24_col26\" class=\"data row24 col26\" >0.000000</td>\n",
              "                        <td id=\"T_bba4fa6a_580e_11eb_ac3e_0242ac1c0002row24_col27\" class=\"data row24 col27\" >0.000000</td>\n",
              "            </tr>\n",
              "            <tr>\n",
              "                        <th id=\"T_bba4fa6a_580e_11eb_ac3e_0242ac1c0002level0_row25\" class=\"row_heading level0 row25\" >25</th>\n",
              "                        <td id=\"T_bba4fa6a_580e_11eb_ac3e_0242ac1c0002row25_col0\" class=\"data row25 col0\" >0.000000</td>\n",
              "                        <td id=\"T_bba4fa6a_580e_11eb_ac3e_0242ac1c0002row25_col1\" class=\"data row25 col1\" >0.000000</td>\n",
              "                        <td id=\"T_bba4fa6a_580e_11eb_ac3e_0242ac1c0002row25_col2\" class=\"data row25 col2\" >0.000000</td>\n",
              "                        <td id=\"T_bba4fa6a_580e_11eb_ac3e_0242ac1c0002row25_col3\" class=\"data row25 col3\" >0.000000</td>\n",
              "                        <td id=\"T_bba4fa6a_580e_11eb_ac3e_0242ac1c0002row25_col4\" class=\"data row25 col4\" >0.000000</td>\n",
              "                        <td id=\"T_bba4fa6a_580e_11eb_ac3e_0242ac1c0002row25_col5\" class=\"data row25 col5\" >0.000000</td>\n",
              "                        <td id=\"T_bba4fa6a_580e_11eb_ac3e_0242ac1c0002row25_col6\" class=\"data row25 col6\" >1.000000</td>\n",
              "                        <td id=\"T_bba4fa6a_580e_11eb_ac3e_0242ac1c0002row25_col7\" class=\"data row25 col7\" >2.000000</td>\n",
              "                        <td id=\"T_bba4fa6a_580e_11eb_ac3e_0242ac1c0002row25_col8\" class=\"data row25 col8\" >4.000000</td>\n",
              "                        <td id=\"T_bba4fa6a_580e_11eb_ac3e_0242ac1c0002row25_col9\" class=\"data row25 col9\" >6.000000</td>\n",
              "                        <td id=\"T_bba4fa6a_580e_11eb_ac3e_0242ac1c0002row25_col10\" class=\"data row25 col10\" >8.000000</td>\n",
              "                        <td id=\"T_bba4fa6a_580e_11eb_ac3e_0242ac1c0002row25_col11\" class=\"data row25 col11\" >9.000000</td>\n",
              "                        <td id=\"T_bba4fa6a_580e_11eb_ac3e_0242ac1c0002row25_col12\" class=\"data row25 col12\" >9.000000</td>\n",
              "                        <td id=\"T_bba4fa6a_580e_11eb_ac3e_0242ac1c0002row25_col13\" class=\"data row25 col13\" >8.000000</td>\n",
              "                        <td id=\"T_bba4fa6a_580e_11eb_ac3e_0242ac1c0002row25_col14\" class=\"data row25 col14\" >7.000000</td>\n",
              "                        <td id=\"T_bba4fa6a_580e_11eb_ac3e_0242ac1c0002row25_col15\" class=\"data row25 col15\" >5.000000</td>\n",
              "                        <td id=\"T_bba4fa6a_580e_11eb_ac3e_0242ac1c0002row25_col16\" class=\"data row25 col16\" >3.000000</td>\n",
              "                        <td id=\"T_bba4fa6a_580e_11eb_ac3e_0242ac1c0002row25_col17\" class=\"data row25 col17\" >2.000000</td>\n",
              "                        <td id=\"T_bba4fa6a_580e_11eb_ac3e_0242ac1c0002row25_col18\" class=\"data row25 col18\" >1.000000</td>\n",
              "                        <td id=\"T_bba4fa6a_580e_11eb_ac3e_0242ac1c0002row25_col19\" class=\"data row25 col19\" >0.000000</td>\n",
              "                        <td id=\"T_bba4fa6a_580e_11eb_ac3e_0242ac1c0002row25_col20\" class=\"data row25 col20\" >0.000000</td>\n",
              "                        <td id=\"T_bba4fa6a_580e_11eb_ac3e_0242ac1c0002row25_col21\" class=\"data row25 col21\" >0.000000</td>\n",
              "                        <td id=\"T_bba4fa6a_580e_11eb_ac3e_0242ac1c0002row25_col22\" class=\"data row25 col22\" >0.000000</td>\n",
              "                        <td id=\"T_bba4fa6a_580e_11eb_ac3e_0242ac1c0002row25_col23\" class=\"data row25 col23\" >0.000000</td>\n",
              "                        <td id=\"T_bba4fa6a_580e_11eb_ac3e_0242ac1c0002row25_col24\" class=\"data row25 col24\" >0.000000</td>\n",
              "                        <td id=\"T_bba4fa6a_580e_11eb_ac3e_0242ac1c0002row25_col25\" class=\"data row25 col25\" >0.000000</td>\n",
              "                        <td id=\"T_bba4fa6a_580e_11eb_ac3e_0242ac1c0002row25_col26\" class=\"data row25 col26\" >0.000000</td>\n",
              "                        <td id=\"T_bba4fa6a_580e_11eb_ac3e_0242ac1c0002row25_col27\" class=\"data row25 col27\" >0.000000</td>\n",
              "            </tr>\n",
              "            <tr>\n",
              "                        <th id=\"T_bba4fa6a_580e_11eb_ac3e_0242ac1c0002level0_row26\" class=\"row_heading level0 row26\" >26</th>\n",
              "                        <td id=\"T_bba4fa6a_580e_11eb_ac3e_0242ac1c0002row26_col0\" class=\"data row26 col0\" >0.000000</td>\n",
              "                        <td id=\"T_bba4fa6a_580e_11eb_ac3e_0242ac1c0002row26_col1\" class=\"data row26 col1\" >0.000000</td>\n",
              "                        <td id=\"T_bba4fa6a_580e_11eb_ac3e_0242ac1c0002row26_col2\" class=\"data row26 col2\" >0.000000</td>\n",
              "                        <td id=\"T_bba4fa6a_580e_11eb_ac3e_0242ac1c0002row26_col3\" class=\"data row26 col3\" >0.000000</td>\n",
              "                        <td id=\"T_bba4fa6a_580e_11eb_ac3e_0242ac1c0002row26_col4\" class=\"data row26 col4\" >0.000000</td>\n",
              "                        <td id=\"T_bba4fa6a_580e_11eb_ac3e_0242ac1c0002row26_col5\" class=\"data row26 col5\" >0.000000</td>\n",
              "                        <td id=\"T_bba4fa6a_580e_11eb_ac3e_0242ac1c0002row26_col6\" class=\"data row26 col6\" >0.000000</td>\n",
              "                        <td id=\"T_bba4fa6a_580e_11eb_ac3e_0242ac1c0002row26_col7\" class=\"data row26 col7\" >0.000000</td>\n",
              "                        <td id=\"T_bba4fa6a_580e_11eb_ac3e_0242ac1c0002row26_col8\" class=\"data row26 col8\" >0.000000</td>\n",
              "                        <td id=\"T_bba4fa6a_580e_11eb_ac3e_0242ac1c0002row26_col9\" class=\"data row26 col9\" >0.000000</td>\n",
              "                        <td id=\"T_bba4fa6a_580e_11eb_ac3e_0242ac1c0002row26_col10\" class=\"data row26 col10\" >0.000000</td>\n",
              "                        <td id=\"T_bba4fa6a_580e_11eb_ac3e_0242ac1c0002row26_col11\" class=\"data row26 col11\" >0.000000</td>\n",
              "                        <td id=\"T_bba4fa6a_580e_11eb_ac3e_0242ac1c0002row26_col12\" class=\"data row26 col12\" >0.000000</td>\n",
              "                        <td id=\"T_bba4fa6a_580e_11eb_ac3e_0242ac1c0002row26_col13\" class=\"data row26 col13\" >0.000000</td>\n",
              "                        <td id=\"T_bba4fa6a_580e_11eb_ac3e_0242ac1c0002row26_col14\" class=\"data row26 col14\" >0.000000</td>\n",
              "                        <td id=\"T_bba4fa6a_580e_11eb_ac3e_0242ac1c0002row26_col15\" class=\"data row26 col15\" >0.000000</td>\n",
              "                        <td id=\"T_bba4fa6a_580e_11eb_ac3e_0242ac1c0002row26_col16\" class=\"data row26 col16\" >0.000000</td>\n",
              "                        <td id=\"T_bba4fa6a_580e_11eb_ac3e_0242ac1c0002row26_col17\" class=\"data row26 col17\" >0.000000</td>\n",
              "                        <td id=\"T_bba4fa6a_580e_11eb_ac3e_0242ac1c0002row26_col18\" class=\"data row26 col18\" >0.000000</td>\n",
              "                        <td id=\"T_bba4fa6a_580e_11eb_ac3e_0242ac1c0002row26_col19\" class=\"data row26 col19\" >0.000000</td>\n",
              "                        <td id=\"T_bba4fa6a_580e_11eb_ac3e_0242ac1c0002row26_col20\" class=\"data row26 col20\" >0.000000</td>\n",
              "                        <td id=\"T_bba4fa6a_580e_11eb_ac3e_0242ac1c0002row26_col21\" class=\"data row26 col21\" >0.000000</td>\n",
              "                        <td id=\"T_bba4fa6a_580e_11eb_ac3e_0242ac1c0002row26_col22\" class=\"data row26 col22\" >0.000000</td>\n",
              "                        <td id=\"T_bba4fa6a_580e_11eb_ac3e_0242ac1c0002row26_col23\" class=\"data row26 col23\" >0.000000</td>\n",
              "                        <td id=\"T_bba4fa6a_580e_11eb_ac3e_0242ac1c0002row26_col24\" class=\"data row26 col24\" >0.000000</td>\n",
              "                        <td id=\"T_bba4fa6a_580e_11eb_ac3e_0242ac1c0002row26_col25\" class=\"data row26 col25\" >0.000000</td>\n",
              "                        <td id=\"T_bba4fa6a_580e_11eb_ac3e_0242ac1c0002row26_col26\" class=\"data row26 col26\" >0.000000</td>\n",
              "                        <td id=\"T_bba4fa6a_580e_11eb_ac3e_0242ac1c0002row26_col27\" class=\"data row26 col27\" >0.000000</td>\n",
              "            </tr>\n",
              "            <tr>\n",
              "                        <th id=\"T_bba4fa6a_580e_11eb_ac3e_0242ac1c0002level0_row27\" class=\"row_heading level0 row27\" >27</th>\n",
              "                        <td id=\"T_bba4fa6a_580e_11eb_ac3e_0242ac1c0002row27_col0\" class=\"data row27 col0\" >0.000000</td>\n",
              "                        <td id=\"T_bba4fa6a_580e_11eb_ac3e_0242ac1c0002row27_col1\" class=\"data row27 col1\" >0.000000</td>\n",
              "                        <td id=\"T_bba4fa6a_580e_11eb_ac3e_0242ac1c0002row27_col2\" class=\"data row27 col2\" >0.000000</td>\n",
              "                        <td id=\"T_bba4fa6a_580e_11eb_ac3e_0242ac1c0002row27_col3\" class=\"data row27 col3\" >0.000000</td>\n",
              "                        <td id=\"T_bba4fa6a_580e_11eb_ac3e_0242ac1c0002row27_col4\" class=\"data row27 col4\" >0.000000</td>\n",
              "                        <td id=\"T_bba4fa6a_580e_11eb_ac3e_0242ac1c0002row27_col5\" class=\"data row27 col5\" >0.000000</td>\n",
              "                        <td id=\"T_bba4fa6a_580e_11eb_ac3e_0242ac1c0002row27_col6\" class=\"data row27 col6\" >0.000000</td>\n",
              "                        <td id=\"T_bba4fa6a_580e_11eb_ac3e_0242ac1c0002row27_col7\" class=\"data row27 col7\" >0.000000</td>\n",
              "                        <td id=\"T_bba4fa6a_580e_11eb_ac3e_0242ac1c0002row27_col8\" class=\"data row27 col8\" >0.000000</td>\n",
              "                        <td id=\"T_bba4fa6a_580e_11eb_ac3e_0242ac1c0002row27_col9\" class=\"data row27 col9\" >0.000000</td>\n",
              "                        <td id=\"T_bba4fa6a_580e_11eb_ac3e_0242ac1c0002row27_col10\" class=\"data row27 col10\" >0.000000</td>\n",
              "                        <td id=\"T_bba4fa6a_580e_11eb_ac3e_0242ac1c0002row27_col11\" class=\"data row27 col11\" >0.000000</td>\n",
              "                        <td id=\"T_bba4fa6a_580e_11eb_ac3e_0242ac1c0002row27_col12\" class=\"data row27 col12\" >0.000000</td>\n",
              "                        <td id=\"T_bba4fa6a_580e_11eb_ac3e_0242ac1c0002row27_col13\" class=\"data row27 col13\" >0.000000</td>\n",
              "                        <td id=\"T_bba4fa6a_580e_11eb_ac3e_0242ac1c0002row27_col14\" class=\"data row27 col14\" >0.000000</td>\n",
              "                        <td id=\"T_bba4fa6a_580e_11eb_ac3e_0242ac1c0002row27_col15\" class=\"data row27 col15\" >0.000000</td>\n",
              "                        <td id=\"T_bba4fa6a_580e_11eb_ac3e_0242ac1c0002row27_col16\" class=\"data row27 col16\" >0.000000</td>\n",
              "                        <td id=\"T_bba4fa6a_580e_11eb_ac3e_0242ac1c0002row27_col17\" class=\"data row27 col17\" >0.000000</td>\n",
              "                        <td id=\"T_bba4fa6a_580e_11eb_ac3e_0242ac1c0002row27_col18\" class=\"data row27 col18\" >0.000000</td>\n",
              "                        <td id=\"T_bba4fa6a_580e_11eb_ac3e_0242ac1c0002row27_col19\" class=\"data row27 col19\" >0.000000</td>\n",
              "                        <td id=\"T_bba4fa6a_580e_11eb_ac3e_0242ac1c0002row27_col20\" class=\"data row27 col20\" >0.000000</td>\n",
              "                        <td id=\"T_bba4fa6a_580e_11eb_ac3e_0242ac1c0002row27_col21\" class=\"data row27 col21\" >0.000000</td>\n",
              "                        <td id=\"T_bba4fa6a_580e_11eb_ac3e_0242ac1c0002row27_col22\" class=\"data row27 col22\" >0.000000</td>\n",
              "                        <td id=\"T_bba4fa6a_580e_11eb_ac3e_0242ac1c0002row27_col23\" class=\"data row27 col23\" >0.000000</td>\n",
              "                        <td id=\"T_bba4fa6a_580e_11eb_ac3e_0242ac1c0002row27_col24\" class=\"data row27 col24\" >0.000000</td>\n",
              "                        <td id=\"T_bba4fa6a_580e_11eb_ac3e_0242ac1c0002row27_col25\" class=\"data row27 col25\" >0.000000</td>\n",
              "                        <td id=\"T_bba4fa6a_580e_11eb_ac3e_0242ac1c0002row27_col26\" class=\"data row27 col26\" >0.000000</td>\n",
              "                        <td id=\"T_bba4fa6a_580e_11eb_ac3e_0242ac1c0002row27_col27\" class=\"data row27 col27\" >0.000000</td>\n",
              "            </tr>\n",
              "    </tbody></table>"
            ],
            "text/plain": [
              "<pandas.io.formats.style.Styler at 0x7ff211d03898>"
            ]
          },
          "metadata": {
            "tags": []
          },
          "execution_count": 8
        }
      ]
    },
    {
      "cell_type": "code",
      "metadata": {
        "colab": {
          "base_uri": "https://localhost:8080/",
          "height": 103
        },
        "id": "VYihbFaA9GAc",
        "outputId": "88664f15-7e8f-431a-86f2-89c553d2dde4"
      },
      "source": [
        "show_image(average_three)"
      ],
      "execution_count": null,
      "outputs": [
        {
          "output_type": "execute_result",
          "data": {
            "text/plain": [
              "<matplotlib.axes._subplots.AxesSubplot at 0x7ff211babf98>"
            ]
          },
          "metadata": {
            "tags": []
          },
          "execution_count": 9
        },
        {
          "output_type": "display_data",
          "data": {
            "image/png": "[encoded data removed]",
            "text/plain": [
              "<Figure size 72x72 with 1 Axes>"
            ]
          },
          "metadata": {
            "tags": [],
            "needs_background": "light"
          }
        }
      ]
    },
    {
      "cell_type": "code",
      "metadata": {
        "id": "2W9bHV0JPdDT"
      },
      "source": [
        "def dist_func(t1, bench):\r\n",
        "  return(((t1 - bench)**2).mean())"
      ],
      "execution_count": null,
      "outputs": []
    },
    {
      "cell_type": "code",
      "metadata": {
        "id": "Oii3XHFYQLP5"
      },
      "source": [
        "def my_classifier(x):\r\n",
        "  if dist_func(x, average_three) < dist_func(x, average_seven):\r\n",
        "    return(3)\r\n",
        "  else:\r\n",
        "    return(7)"
      ],
      "execution_count": null,
      "outputs": []
    },
    {
      "cell_type": "code",
      "metadata": {
        "colab": {
          "base_uri": "https://localhost:8080/"
        },
        "id": "y90TyC_-9lNV",
        "outputId": "7550c40e-f70e-49ad-bdc3-d23e24f0cf3c"
      },
      "source": [
        "dist_func(threes[0], average_three)\r\n",
        "F.mse_loss(threes[0], average_three)"
      ],
      "execution_count": null,
      "outputs": [
        {
          "output_type": "execute_result",
          "data": {
            "text/plain": [
              "tensor(4005.8728)"
            ]
          },
          "metadata": {
            "tags": []
          },
          "execution_count": 12
        }
      ]
    },
    {
      "cell_type": "code",
      "metadata": {
        "colab": {
          "base_uri": "https://localhost:8080/"
        },
        "id": "2qAts0IPRuAC",
        "outputId": "2802c607-496e-4330-d7e4-b75f0040607a"
      },
      "source": [
        "from collections import Counter\r\n",
        "print(Counter([my_classifier(x) for x in threes]))\r\n",
        "print(Counter([my_classifier(x) for x in sevens]))"
      ],
      "execution_count": null,
      "outputs": [
        {
          "output_type": "stream",
          "text": [
            "Counter({3: 5848, 7: 283})\n",
            "Counter({7: 6159, 3: 106})\n"
          ],
          "name": "stdout"
        }
      ]
    },
    {
      "cell_type": "code",
      "metadata": {
        "id": "Nnj4Jls1SOyw"
      },
      "source": [
        "threes_test = torch.stack([tensor(Image.open(x)) for x in (path/'valid/3').ls()])/1.0\r\n",
        "sevens_test = torch.stack([tensor(Image.open(x)) for x in (path/'valid/7').ls()])/1.0"
      ],
      "execution_count": null,
      "outputs": []
    },
    {
      "cell_type": "markdown",
      "metadata": {
        "id": "DO-Wy3B0DmG9"
      },
      "source": [
        "The problem with the way that I have defined the functions is that they do not work in a vectorised manner. So I have to use the pre-stacked lists in order to calculate it in an elementwise manner. I have to redo them"
      ]
    },
    {
      "cell_type": "code",
      "metadata": {
        "id": "H3F4Wj2H8Yz1"
      },
      "source": [
        "def vect_dist(ten, bench):\r\n",
        "    return(((ten - bench)**2).mean((-1,-2)))"
      ],
      "execution_count": null,
      "outputs": []
    },
    {
      "cell_type": "code",
      "metadata": {
        "id": "KMphhAOHFGIt"
      },
      "source": [
        "def vect_class(ten):\r\n",
        "    return(torch.where(vect_dist(ten, average_seven) > vect_dist(ten, average_three), 3, 7))"
      ],
      "execution_count": null,
      "outputs": []
    },
    {
      "cell_type": "code",
      "metadata": {
        "id": "2gzlekQxEE7J"
      },
      "source": [
        "correct_threes = (vect_class(threes_test) == 3).sum()\r\n",
        "correct_sevens = (vect_class(sevens_test) == 7).sum()\r\n",
        "accuracy = (correct_sevens + correct_threes) / (len(threes_test) + len(sevens_test))"
      ],
      "execution_count": null,
      "outputs": []
    },
    {
      "cell_type": "code",
      "metadata": {
        "colab": {
          "base_uri": "https://localhost:8080/"
        },
        "id": "z4y36MFmGqoN",
        "outputId": "d761f387-bd31-4297-bbe2-03810ea766c3"
      },
      "source": [
        "accuracy"
      ],
      "execution_count": null,
      "outputs": [
        {
          "output_type": "execute_result",
          "data": {
            "text/plain": [
              "tensor(0.9661)"
            ]
          },
          "metadata": {
            "tags": []
          },
          "execution_count": 18
        }
      ]
    },
    {
      "cell_type": "markdown",
      "metadata": {
        "id": "VgFu_amUOgut"
      },
      "source": [
        "Working with gradients in PyTorch"
      ]
    },
    {
      "cell_type": "code",
      "metadata": {
        "id": "twFriKU5NFDd"
      },
      "source": [
        "x = tensor([3.0, 5, 7]).requires_grad_()"
      ],
      "execution_count": null,
      "outputs": []
    },
    {
      "cell_type": "code",
      "metadata": {
        "id": "ybR6UayqOw0V"
      },
      "source": [
        "def my_fun(ten):\r\n",
        "    return((2*ten**2).sum())"
      ],
      "execution_count": null,
      "outputs": []
    },
    {
      "cell_type": "code",
      "metadata": {
        "colab": {
          "base_uri": "https://localhost:8080/"
        },
        "id": "fNe_yCprPGNO",
        "outputId": "39d9ee87-5405-4208-d741-fb2aa90dac13"
      },
      "source": [
        "y = my_fun(x)\r\n",
        "y.backward()\r\n",
        "x.grad"
      ],
      "execution_count": null,
      "outputs": [
        {
          "output_type": "execute_result",
          "data": {
            "text/plain": [
              "tensor([12., 20., 28.])"
            ]
          },
          "metadata": {
            "tags": []
          },
          "execution_count": 21
        }
      ]
    },
    {
      "cell_type": "code",
      "metadata": {
        "colab": {
          "base_uri": "https://localhost:8080/"
        },
        "id": "V1aH6o5maBaT",
        "outputId": "39448055-b759-4ba7-a1de-87de8cd595cd"
      },
      "source": [
        "x = tensor([3.0, 5, 7]).requires_grad_()\r\n",
        "y = tensor([2.0, 1, 1]).requires_grad_()\r\n",
        "z = (x*y).sum()\r\n",
        "z.backward()\r\n",
        "x.grad"
      ],
      "execution_count": null,
      "outputs": [
        {
          "output_type": "execute_result",
          "data": {
            "text/plain": [
              "tensor([2., 1., 1.])"
            ]
          },
          "metadata": {
            "tags": []
          },
          "execution_count": 22
        }
      ]
    },
    {
      "cell_type": "markdown",
      "metadata": {
        "id": "96WFPzBUP0HX"
      },
      "source": [
        "The way the gradient is calculated for this example is the following:  \r\n",
        "The function that we have at hand is 2*x^2 + 2*y^2 + 2*z^2 and the moment we calculate the gradient we get 4*x, 4*y, 4*z"
      ]
    },
    {
      "cell_type": "markdown",
      "metadata": {
        "id": "4NZgdIyGR831"
      },
      "source": [
        "Let's create a practical example for this. The function that I want to simulate is 2*(x-5)^3 - 10*x^2 - x"
      ]
    },
    {
      "cell_type": "code",
      "metadata": {
        "id": "5x8pbLQUP51j"
      },
      "source": [
        "time = torch.arange(20).float()\r\n",
        "values = torch.randn(20) + 5*(time-10)**2"
      ],
      "execution_count": null,
      "outputs": []
    },
    {
      "cell_type": "code",
      "metadata": {
        "colab": {
          "base_uri": "https://localhost:8080/",
          "height": 283
        },
        "id": "T62nr-UpTc18",
        "outputId": "d3cdae86-aabf-488c-c9d0-bd9986391e8c"
      },
      "source": [
        "plt.scatter(time, values)"
      ],
      "execution_count": null,
      "outputs": [
        {
          "output_type": "execute_result",
          "data": {
            "text/plain": [
              "<matplotlib.collections.PathCollection at 0x7ff2118b2588>"
            ]
          },
          "metadata": {
            "tags": []
          },
          "execution_count": 24
        },
        {
          "output_type": "display_data",
          "data": {
            "image/png": "[encoded data removed]",
            "text/plain": [
              "<Figure size 432x288 with 1 Axes>"
            ]
          },
          "metadata": {
            "tags": [],
            "needs_background": "light"
          }
        }
      ]
    },
    {
      "cell_type": "code",
      "metadata": {
        "colab": {
          "base_uri": "https://localhost:8080/",
          "height": 283
        },
        "id": "9HmiTpJ-UNKN",
        "outputId": "a5c38d42-b5f4-4a6e-e5cb-f5302b63d759"
      },
      "source": [
        "def f(x, params):\r\n",
        "    a, b = params\r\n",
        "    return(a*(x-b)**2)\r\n",
        "\r\n",
        "#params = torch.randn(4).requires_grad_()\r\n",
        "params = tensor([1., 1.]).requires_grad_()\r\n",
        "my_preds = f(time, params)\r\n",
        "\r\n",
        "plt.scatter(time, values)\r\n",
        "plt.scatter(time, to_np(my_preds))"
      ],
      "execution_count": null,
      "outputs": [
        {
          "output_type": "execute_result",
          "data": {
            "text/plain": [
              "<matplotlib.collections.PathCollection at 0x7ff211c9c940>"
            ]
          },
          "metadata": {
            "tags": []
          },
          "execution_count": 25
        },
        {
          "output_type": "display_data",
          "data": {
            "image/png": "[encoded data removed]",
            "text/plain": [
              "<Figure size 432x288 with 1 Axes>"
            ]
          },
          "metadata": {
            "tags": [],
            "needs_background": "light"
          }
        }
      ]
    },
    {
      "cell_type": "markdown",
      "metadata": {
        "id": "b2X5sbXMVOZ-"
      },
      "source": [
        "Clearly this is not working great, but we can use the gradients to adjust the parameters."
      ]
    },
    {
      "cell_type": "code",
      "metadata": {
        "id": "_WZBYe23Vcym"
      },
      "source": [
        "loss = mse(my_preds, values)\r\n",
        "loss.backward()"
      ],
      "execution_count": null,
      "outputs": []
    },
    {
      "cell_type": "code",
      "metadata": {
        "colab": {
          "base_uri": "https://localhost:8080/"
        },
        "id": "8BuLCzixVuk9",
        "outputId": "4e1cbaad-d393-4745-fc81-7a9bf4488a15"
      },
      "source": [
        "params.grad"
      ],
      "execution_count": null,
      "outputs": [
        {
          "output_type": "execute_result",
          "data": {
            "text/plain": [
              "tensor([4765.9160, -817.1851])"
            ]
          },
          "metadata": {
            "tags": []
          },
          "execution_count": 27
        }
      ]
    },
    {
      "cell_type": "markdown",
      "metadata": {
        "id": "xOpmQSu1WDnM"
      },
      "source": [
        "How are these values for the gradient calculated?  \r\n",
        "Let's follow the gradient steps for the parameter a. What we need to do is calculate the gradient of the loss with respect to a  \r\n",
        "$L = 1/20*\\sum_{i=1}^{20}(f(x_i) - pred(i))^2$  (The mean squared error)  \r\n",
        "The derivative with respect to a ($\\frac{\\partial L}{\\partial a}$) is equal to:\r\n",
        "$\\frac{\\partial L}{\\partial a} = 1/20*\\sum_{i=1}^{20}2*(f(x_i) - pred(i))*\\frac{\\partial f(x_i)}{\\partial a})$  (1)  \r\n",
        "And finally: $\\frac{\\partial f(x_i)}{\\partial a} = (x_i-b)^2$ (2)  \r\n",
        "Putting (1) and (2) together the derivative function is equal to:  \r\n",
        "$\\frac{\\partial L}{\\partial a} = 1/20*\\sum_{i=1}^{20}2*(f(x_i) - pred(i))*(x_i-b)^2$  \r\n",
        "So let's check that the values are indeed the same:"
      ]
    },
    {
      "cell_type": "code",
      "metadata": {
        "colab": {
          "base_uri": "https://localhost:8080/"
        },
        "id": "RMXrOncpWU_z",
        "outputId": "655cdcd0-13f5-456a-bdee-e1965385087e"
      },
      "source": [
        "1/20*(2*(f(time, params) - values)*(time-1)**2).sum()"
      ],
      "execution_count": null,
      "outputs": [
        {
          "output_type": "execute_result",
          "data": {
            "text/plain": [
              "tensor(4765.9155, grad_fn=<MulBackward0>)"
            ]
          },
          "metadata": {
            "tags": []
          },
          "execution_count": 28
        }
      ]
    },
    {
      "cell_type": "markdown",
      "metadata": {
        "id": "OLva9MTc6_bT"
      },
      "source": [
        "And indeed the manual calculation returns the same as PyTorch! We will use the gradients to make our function better"
      ]
    },
    {
      "cell_type": "code",
      "metadata": {
        "colab": {
          "base_uri": "https://localhost:8080/"
        },
        "id": "w9WsEA3G8jku",
        "outputId": "f9f1c2c1-31b4-4eaf-b7c2-99f9739c4eba"
      },
      "source": [
        "lr = 1e-4\r\n",
        "for _ in range(20):\r\n",
        "    preds = f(time, params)\r\n",
        "    loss = mse(preds, values)\r\n",
        "    loss.backward()\r\n",
        "    params.data -= lr*params.grad.data\r\n",
        "    params.grad = None\r\n",
        "    print(loss)"
      ],
      "execution_count": null,
      "outputs": [
        {
          "output_type": "stream",
          "text": [
            "TensorBase(34123.9180, grad_fn=<AliasBackward>)\n",
            "TensorBase(49257.7148, grad_fn=<AliasBackward>)\n",
            "TensorBase(186724.4688, grad_fn=<AliasBackward>)\n",
            "TensorBase(414831.8750, grad_fn=<AliasBackward>)\n",
            "TensorBase(58299.4062, grad_fn=<AliasBackward>)\n",
            "TensorBase(27473.7246, grad_fn=<AliasBackward>)\n",
            "TensorBase(20545.8457, grad_fn=<AliasBackward>)\n",
            "TensorBase(13613.5205, grad_fn=<AliasBackward>)\n",
            "TensorBase(12164.5107, grad_fn=<AliasBackward>)\n",
            "TensorBase(10610.6299, grad_fn=<AliasBackward>)\n",
            "TensorBase(8869.7129, grad_fn=<AliasBackward>)\n",
            "TensorBase(6997.8662, grad_fn=<AliasBackward>)\n",
            "TensorBase(5117.1758, grad_fn=<AliasBackward>)\n",
            "TensorBase(3400.9897, grad_fn=<AliasBackward>)\n",
            "TensorBase(2020.7654, grad_fn=<AliasBackward>)\n",
            "TensorBase(1066.6833, grad_fn=<AliasBackward>)\n",
            "TensorBase(505.5333, grad_fn=<AliasBackward>)\n",
            "TensorBase(220.9882, grad_fn=<AliasBackward>)\n",
            "TensorBase(92.1406, grad_fn=<AliasBackward>)\n",
            "TensorBase(37.7365, grad_fn=<AliasBackward>)\n"
          ],
          "name": "stdout"
        }
      ]
    },
    {
      "cell_type": "code",
      "metadata": {
        "colab": {
          "base_uri": "https://localhost:8080/",
          "height": 283
        },
        "id": "UfXgYhrswhHF",
        "outputId": "92865d20-ba25-4c8d-ac58-2174da32c5e8"
      },
      "source": [
        "plt.scatter(time, values)\r\n",
        "plt.scatter(time, to_np(f(time, params)))\r\n"
      ],
      "execution_count": null,
      "outputs": [
        {
          "output_type": "execute_result",
          "data": {
            "text/plain": [
              "<matplotlib.collections.PathCollection at 0x7ff211c0ec50>"
            ]
          },
          "metadata": {
            "tags": []
          },
          "execution_count": 30
        },
        {
          "output_type": "display_data",
          "data": {
            "image/png": "[encoded data removed]",
            "text/plain": [
              "<Figure size 432x288 with 1 Axes>"
            ]
          },
          "metadata": {
            "tags": [],
            "needs_background": "light"
          }
        }
      ]
    },
    {
      "cell_type": "markdown",
      "metadata": {
        "id": "ThpyXGwd9fiF"
      },
      "source": [
        "This looks much better!"
      ]
    },
    {
      "cell_type": "markdown",
      "metadata": {
        "id": "mffMCkonUNy2"
      },
      "source": [
        "**Back to the MNIST dataset**  \r\n",
        "We need to create a new train set which includes all of the training examples together (so not sevens and threes but all together)"
      ]
    },
    {
      "cell_type": "code",
      "metadata": {
        "id": "5HRlbgr_oksF"
      },
      "source": [
        "train_x = torch.cat([threes, sevens]).view(-1, 28*28)/255\r\n",
        "train_y = tensor([1]*len(threes) + [0]*len(sevens)).unsqueeze(1)\r\n",
        "train_x.shape, train_y.shape\r\n",
        "\r\n",
        "# This creates a \"tuple\" where each element has the input and the label\r\n",
        "ds = list(zip(train_x, train_y)) \r\n",
        "dl = DataLoader(ds, batch_size = 256, shuffle = True)\r\n",
        "\r\n",
        "valid_x = torch.cat([threes_test, sevens_test]).view(-1, 28*28)/255\r\n",
        "valid_y = tensor([1]*len(threes_test) + [0]*len(sevens_test)).unsqueeze(1)\r\n",
        "ds_valid = list(zip(valid_x, valid_y))\r\n",
        "dl_valid = DataLoader(ds_valid, batch_size = 256)"
      ],
      "execution_count": null,
      "outputs": []
    },
    {
      "cell_type": "code",
      "metadata": {
        "id": "iKbTc1UnqEcB"
      },
      "source": [
        "weights = torch.randn(28*28, 1).requires_grad_()\r\n",
        "bias = torch.randn(1).requires_grad_()\r\n",
        "params = weights, bias\r\n",
        "lr = 1"
      ],
      "execution_count": null,
      "outputs": []
    },
    {
      "cell_type": "code",
      "metadata": {
        "colab": {
          "base_uri": "https://localhost:8080/"
        },
        "id": "haoUKCDSpa7L",
        "outputId": "2566468e-791b-4464-ab2f-cd1c492eada7"
      },
      "source": [
        "def linear1(x): return x@weights + bias \r\n",
        "\r\n",
        "preds = linear1(train_x)\r\n",
        "\r\n",
        "# We have to pick a way to convert predictions from any number to a 0or1. \r\n",
        "((preds > 0) == train_y).float().mean() \r\n"
      ],
      "execution_count": null,
      "outputs": [
        {
          "output_type": "execute_result",
          "data": {
            "text/plain": [
              "tensor(0.6418)"
            ]
          },
          "metadata": {
            "tags": []
          },
          "execution_count": 33
        }
      ]
    },
    {
      "cell_type": "code",
      "metadata": {
        "id": "aQAKsdOnqfQ2"
      },
      "source": [
        "def mnist_loss(preds, targets):\r\n",
        "    preds = preds.sigmoid()\r\n",
        "    return torch.where(targets == 1, 1 - preds, preds).mean()\r\n",
        "\r\n",
        "def calc_grad(preds, targets):\r\n",
        "    loss = mnist_loss(preds, targets)\r\n",
        "    loss.backward()\r\n",
        "    for p in params:\r\n",
        "        p.data -= p.grad*lr\r\n",
        "        p.grad.zero_()"
      ],
      "execution_count": null,
      "outputs": []
    },
    {
      "cell_type": "code",
      "metadata": {
        "id": "4lyOHJFMtD2J"
      },
      "source": [
        "def run_epoch(model, lr, params):\r\n",
        "    for xb,yb in dl:\r\n",
        "        preds = model(xb)\r\n",
        "        calc_grad(preds, yb)\r\n",
        "    print(batch_accuracy(valid_x, valid_y))\r\n",
        "    "
      ],
      "execution_count": null,
      "outputs": []
    },
    {
      "cell_type": "code",
      "metadata": {
        "id": "uza6VEbc0udl"
      },
      "source": [
        "def batch_accuracy(x, y):\r\n",
        "    preds = linear1(x).sigmoid()\r\n",
        "    return ((preds > 0.5) == y).float().mean()\r\n"
      ],
      "execution_count": null,
      "outputs": []
    },
    {
      "cell_type": "code",
      "metadata": {
        "colab": {
          "base_uri": "https://localhost:8080/"
        },
        "id": "Tlu-JjgJvVym",
        "outputId": "a66445ec-d484-4896-ab76-37e50560075b"
      },
      "source": [
        "for _ in range(20):\r\n",
        "    run_epoch(linear1, lr, params)"
      ],
      "execution_count": null,
      "outputs": [
        {
          "output_type": "stream",
          "text": [
            "tensor(0.9220)\n",
            "tensor(0.9382)\n",
            "tensor(0.9460)\n",
            "tensor(0.9539)\n",
            "tensor(0.9563)\n",
            "tensor(0.9583)\n",
            "tensor(0.9622)\n",
            "tensor(0.9627)\n",
            "tensor(0.9632)\n",
            "tensor(0.9637)\n",
            "tensor(0.9652)\n",
            "tensor(0.9652)\n",
            "tensor(0.9657)\n",
            "tensor(0.9666)\n",
            "tensor(0.9671)\n",
            "tensor(0.9676)\n",
            "tensor(0.9681)\n",
            "tensor(0.9681)\n",
            "tensor(0.9686)\n",
            "tensor(0.9691)\n"
          ],
          "name": "stdout"
        }
      ]
    },
    {
      "cell_type": "code",
      "metadata": {
        "id": "toHU6wuLzrMs"
      },
      "source": [
        "linear_model = nn.Linear(28*28, 1)"
      ],
      "execution_count": null,
      "outputs": []
    },
    {
      "cell_type": "code",
      "metadata": {
        "colab": {
          "base_uri": "https://localhost:8080/"
        },
        "id": "l9-6ITGp4MbO",
        "outputId": "c16712c8-4ced-45a2-86e9-9fe9f5fe2a57"
      },
      "source": [
        "w,b = linear_model.parameters()\r\n",
        "w.shape, b.shape\r\n"
      ],
      "execution_count": null,
      "outputs": [
        {
          "output_type": "execute_result",
          "data": {
            "text/plain": [
              "(torch.Size([1, 784]), torch.Size([1]))"
            ]
          },
          "metadata": {
            "tags": []
          },
          "execution_count": 39
        }
      ]
    },
    {
      "cell_type": "code",
      "metadata": {
        "id": "8xK5y6Mc6YnN"
      },
      "source": [
        "class myLinear:\r\n",
        "    def __init__(self, inp_size, out_size):\r\n",
        "        self.weights = torch.randn(out_size, inp_size).requires_grad_()\r\n",
        "        self.bias = torch.randn(1).requires_grad_()\r\n",
        "    \r\n",
        "    def parameters(self):\r\n",
        "        return self.weights, self.bias"
      ],
      "execution_count": null,
      "outputs": []
    },
    {
      "cell_type": "code",
      "metadata": {
        "id": "hmZ0aCF44jX7"
      },
      "source": [
        "class BasicOptim:\r\n",
        "    def __init__(self, params, lr): \r\n",
        "        self.params, self.lr = list(params), lr\r\n",
        "\r\n",
        "    def step(self, *args, **kwargs):\r\n",
        "        for p in self.params: \r\n",
        "            p.data -= self.lr*p.grad.data\r\n",
        "    \r\n",
        "    def zero_grad(self, *args, **kwargs):\r\n",
        "        for p in self.params: p.grad = None\r\n"
      ],
      "execution_count": null,
      "outputs": []
    },
    {
      "cell_type": "code",
      "metadata": {
        "id": "nTSO005n7VYz"
      },
      "source": [
        "linear_model = nn.Linear(28*28, 1)\r\n",
        "w,b = linear_model.parameters()\r\n",
        "w.shape, b.shape\r\n",
        "lr = 1\r\n",
        "\r\n",
        "opt = BasicOptim(linear_model.parameters(), lr)\r\n"
      ],
      "execution_count": null,
      "outputs": []
    },
    {
      "cell_type": "code",
      "metadata": {
        "id": "f8bnwxJ676c0"
      },
      "source": [
        "def calc_grad(preds, targets):\r\n",
        "    loss = mnist_loss(preds, targets)\r\n",
        "    loss.backward()\r\n",
        "    opt.step()\r\n",
        "    opt.zero_grad()\r\n",
        "\r\n",
        "def run_epoch(model, lr):\r\n",
        "    for xb,yb in dl:\r\n",
        "        preds = model(xb)\r\n",
        "        calc_grad(preds, yb)\r\n",
        "    print(batch_accuracy(linear_model))\r\n",
        "\r\n",
        "\r\n",
        "def batch_accuracy(model):\r\n",
        "    preds = model(valid_x).sigmoid()\r\n",
        "    return ((preds > 0.5) == valid_y).float().mean()\r\n",
        "\r\n",
        "def train_model(model, epochs):\r\n",
        "    for _ in range(epochs):\r\n",
        "        run_epoch(model, lr)\r\n",
        "\r\n",
        "def new_ba(x, y):\r\n",
        "    preds = x.sigmoid()\r\n",
        "    correct = (preds>0.5) == y\r\n",
        "    return correct.float().mean()\r\n",
        "    "
      ],
      "execution_count": null,
      "outputs": []
    },
    {
      "cell_type": "code",
      "metadata": {
        "colab": {
          "base_uri": "https://localhost:8080/"
        },
        "id": "xfc00CLu8paW",
        "outputId": "2a48c1f9-ea9e-423e-f0f8-e9c0aba606e8"
      },
      "source": [
        "train_model(linear_model, 20)"
      ],
      "execution_count": null,
      "outputs": [
        {
          "output_type": "stream",
          "text": [
            "tensor(0.9715)\n",
            "tensor(0.9750)\n",
            "tensor(0.9764)\n",
            "tensor(0.9774)\n",
            "tensor(0.9794)\n",
            "tensor(0.9794)\n",
            "tensor(0.9789)\n",
            "tensor(0.9784)\n",
            "tensor(0.9794)\n",
            "tensor(0.9804)\n",
            "tensor(0.9804)\n",
            "tensor(0.9809)\n",
            "tensor(0.9814)\n",
            "tensor(0.9814)\n",
            "tensor(0.9814)\n",
            "tensor(0.9818)\n",
            "tensor(0.9818)\n",
            "tensor(0.9828)\n",
            "tensor(0.9823)\n",
            "tensor(0.9823)\n"
          ],
          "name": "stdout"
        }
      ]
    },
    {
      "cell_type": "code",
      "metadata": {
        "id": "klUPjEm5zOok"
      },
      "source": [
        "dls = DataLoaders(dl, dl_valid)\r\n",
        "learn = Learner(dls, nn.Linear(28*28, 1), opt_func = SGD, loss_func = mnist_loss, metrics = new_ba)"
      ],
      "execution_count": null,
      "outputs": []
    },
    {
      "cell_type": "code",
      "metadata": {
        "id": "1aNYLpYHzh-H",
        "colab": {
          "base_uri": "https://localhost:8080/",
          "height": 348
        },
        "outputId": "49759976-9d0b-4199-a623-46c816689894"
      },
      "source": [
        "learn.fit(10, lr = lr)"
      ],
      "execution_count": null,
      "outputs": [
        {
          "output_type": "display_data",
          "data": {
            "text/html": [
              "<table border=\"1\" class=\"dataframe\">\n",
              "  <thead>\n",
              "    <tr style=\"text-align: left;\">\n",
              "      <th>epoch</th>\n",
              "      <th>train_loss</th>\n",
              "      <th>valid_loss</th>\n",
              "      <th>new_ba</th>\n",
              "      <th>time</th>\n",
              "    </tr>\n",
              "  </thead>\n",
              "  <tbody>\n",
              "    <tr>\n",
              "      <td>0</td>\n",
              "      <td>0.057891</td>\n",
              "      <td>0.041763</td>\n",
              "      <td>0.970069</td>\n",
              "      <td>00:00</td>\n",
              "    </tr>\n",
              "    <tr>\n",
              "      <td>1</td>\n",
              "      <td>0.040024</td>\n",
              "      <td>0.034603</td>\n",
              "      <td>0.974975</td>\n",
              "      <td>00:00</td>\n",
              "    </tr>\n",
              "    <tr>\n",
              "      <td>2</td>\n",
              "      <td>0.032239</td>\n",
              "      <td>0.031491</td>\n",
              "      <td>0.976448</td>\n",
              "      <td>00:00</td>\n",
              "    </tr>\n",
              "    <tr>\n",
              "      <td>3</td>\n",
              "      <td>0.027996</td>\n",
              "      <td>0.030219</td>\n",
              "      <td>0.976448</td>\n",
              "      <td>00:00</td>\n",
              "    </tr>\n",
              "    <tr>\n",
              "      <td>4</td>\n",
              "      <td>0.025069</td>\n",
              "      <td>0.028275</td>\n",
              "      <td>0.977920</td>\n",
              "      <td>00:00</td>\n",
              "    </tr>\n",
              "    <tr>\n",
              "      <td>5</td>\n",
              "      <td>0.023639</td>\n",
              "      <td>0.027260</td>\n",
              "      <td>0.978901</td>\n",
              "      <td>00:00</td>\n",
              "    </tr>\n",
              "    <tr>\n",
              "      <td>6</td>\n",
              "      <td>0.022387</td>\n",
              "      <td>0.025909</td>\n",
              "      <td>0.979882</td>\n",
              "      <td>00:00</td>\n",
              "    </tr>\n",
              "    <tr>\n",
              "      <td>7</td>\n",
              "      <td>0.021403</td>\n",
              "      <td>0.025604</td>\n",
              "      <td>0.979882</td>\n",
              "      <td>00:00</td>\n",
              "    </tr>\n",
              "    <tr>\n",
              "      <td>8</td>\n",
              "      <td>0.020705</td>\n",
              "      <td>0.024805</td>\n",
              "      <td>0.980373</td>\n",
              "      <td>00:00</td>\n",
              "    </tr>\n",
              "    <tr>\n",
              "      <td>9</td>\n",
              "      <td>0.020092</td>\n",
              "      <td>0.024784</td>\n",
              "      <td>0.980373</td>\n",
              "      <td>00:00</td>\n",
              "    </tr>\n",
              "  </tbody>\n",
              "</table>"
            ],
            "text/plain": [
              "<IPython.core.display.HTML object>"
            ]
          },
          "metadata": {
            "tags": []
          }
        }
      ]
    },
    {
      "cell_type": "code",
      "metadata": {
        "id": "1bN6Ea7f2Z6y"
      },
      "source": [
        "simple_net = nn.Sequential(\r\n",
        "            nn.Linear(28*28, 30),\r\n",
        "            nn.ReLU(),\r\n",
        "            nn.Linear(30, 1)\r\n",
        ")\r\n",
        "learn = Learner(dls, simple_net, opt_func = SGD, loss_func = mnist_loss, metrics = new_ba)\r\n",
        "learn.fit(40, 0.1)"
      ],
      "execution_count": null,
      "outputs": []
    },
    {
      "cell_type": "code",
      "metadata": {
        "id": "nowBY1H5294s",
        "colab": {
          "base_uri": "https://localhost:8080/",
          "height": 281
        },
        "outputId": "80e2eea2-0ef9-4900-d350-43d5154cbf17"
      },
      "source": [
        "plt.plot(L(learn.recorder.values).itemgot(2))\r\n",
        "_ = plt.title('Accuracy')"
      ],
      "execution_count": null,
      "outputs": [
        {
          "output_type": "display_data",
          "data": {
            "image/png": "[encoded data removed]",
            "text/plain": [
              "<Figure size 432x288 with 1 Axes>"
            ]
          },
          "metadata": {
            "tags": [],
            "needs_background": "light"
          }
        }
      ]
    },
    {
      "cell_type": "code",
      "metadata": {
        "id": "jbXnpjoq3Ja6",
        "colab": {
          "base_uri": "https://localhost:8080/"
        },
        "outputId": "a3c440ec-0ad7-4175-d07e-61be4b65261a"
      },
      "source": [
        ""
      ],
      "execution_count": null,
      "outputs": [
        {
          "output_type": "execute_result",
          "data": {
            "text/plain": [
              "[(#3) [0.22036680579185486,0.09090142697095871,0.9636898636817932],\n",
              " (#3) [0.10685253888368607,0.054920557886362076,0.9676153063774109],\n",
              " (#3) [0.06689536571502686,0.045019254088401794,0.9700686931610107],\n",
              " (#3) [0.04863030090928078,0.04025033861398697,0.9700686931610107],\n",
              " (#3) [0.03952242061495781,0.037087421864271164,0.9715407490730286],\n",
              " (#3) [0.03404274955391884,0.03479980304837227,0.9730127453804016],\n",
              " (#3) [0.03076990693807602,0.03330394625663757,0.9739941358566284],\n",
              " (#3) [0.02879880554974079,0.03205059468746185,0.9744848012924194],\n",
              " (#3) [0.026878025382757187,0.0309249646961689,0.9749754667282104],\n",
              " (#3) [0.02585785835981369,0.029961995780467987,0.9759567975997925],\n",
              " (#3) [0.025101548060774803,0.028960207477211952,0.9764475226402283],\n",
              " (#3) [0.024272475391626358,0.02843129262328148,0.9764475226402283],\n",
              " (#3) [0.02318614162504673,0.027582425624132156,0.9769381880760193],\n",
              " (#3) [0.02291807159781456,0.027118366211652756,0.9769381880760193],\n",
              " (#3) [0.022139640524983406,0.026768231764435768,0.9764475226402283],\n",
              " (#3) [0.021191630512475967,0.026258869096636772,0.9779195189476013],\n",
              " (#3) [0.020511876791715622,0.025679850950837135,0.9789009094238281],\n",
              " (#3) [0.020471058785915375,0.02512841671705246,0.9789009094238281],\n",
              " (#3) [0.020227447152137756,0.02510233223438263,0.9789009094238281],\n",
              " (#3) [0.019992424175143242,0.02445119433104992,0.9784101843833923],\n",
              " (#3) [0.019270043820142746,0.024152832105755806,0.9784101843833923],\n",
              " (#3) [0.019059166312217712,0.023736802861094475,0.9789009094238281],\n",
              " (#3) [0.018423372879624367,0.02359338290989399,0.9798822402954102],\n",
              " (#3) [0.018283067271113396,0.023299656808376312,0.9798822402954102],\n",
              " (#3) [0.018450602889060974,0.022974206134676933,0.9798822402954102],\n",
              " (#3) [0.018322784453630447,0.022899698466062546,0.9808635711669922],\n",
              " (#3) [0.017971381545066833,0.022366860881447792,0.9798822402954102],\n",
              " (#3) [0.017549240961670876,0.022124817594885826,0.9803729057312012],\n",
              " (#3) [0.01699783466756344,0.021996337920427322,0.9803729057312012],\n",
              " (#3) [0.017397703602910042,0.02187447063624859,0.981354296207428],\n",
              " (#3) [0.016962822526693344,0.021543506532907486,0.981354296207428],\n",
              " (#3) [0.01660606823861599,0.02140369638800621,0.981354296207428],\n",
              " (#3) [0.016604864969849586,0.02135903388261795,0.981844961643219],\n",
              " (#3) [0.015902884304523468,0.02097245305776596,0.981844961643219],\n",
              " (#3) [0.015846898779273033,0.020782502368092537,0.981844961643219],\n",
              " (#3) [0.01642458885908127,0.02079201117157936,0.982826292514801],\n",
              " (#3) [0.016009604558348656,0.020586535334587097,0.982826292514801],\n",
              " (#3) [0.01585077866911888,0.020372098311781883,0.98233562707901],\n",
              " (#3) [0.015536543913185596,0.02037951909005642,0.982826292514801],\n",
              " (#3) [0.015872495248913765,0.020356951281428337,0.982826292514801]]"
            ]
          },
          "metadata": {
            "tags": []
          },
          "execution_count": 64
        }
      ]
    }
  ]
}