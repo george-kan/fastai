{
  "nbformat": 4,
  "nbformat_minor": 0,
  "metadata": {
    "colab": {
      "name": "Understanding the DataBlock API",
      "provenance": [],
      "authorship_tag": "ABX9TyNArHV1rMcYkdeBAx1MVzth",
      "include_colab_link": true
    },
    "kernelspec": {
      "name": "python3",
      "display_name": "Python 3"
    }
  },
  "cells": [
    {
      "cell_type": "markdown",
      "metadata": {
        "id": "view-in-github",
        "colab_type": "text"
      },
      "source": [
        "<a href=\"https://colab.research.google.com/github/george-kan/fastai/blob/main/Understanding_the_DataBlock_API.ipynb\" target=\"_parent\"><img src=\"https://colab.research.google.com/assets/colab-badge.svg\" alt=\"Open In Colab\"/></a>"
      ]
    },
    {
      "cell_type": "code",
      "metadata": {
        "id": "5HS-tjaV5iJa"
      },
      "source": [
        "!pip install fastai --upgrade"
      ],
      "execution_count": null,
      "outputs": []
    },
    {
      "cell_type": "code",
      "metadata": {
        "id": "6l7RHnS_5Wne"
      },
      "source": [
        "from fastai import *\n",
        "from fastai.vision.all import *"
      ],
      "execution_count": 2,
      "outputs": []
    },
    {
      "cell_type": "markdown",
      "metadata": {
        "id": "GMq8jKga-C9J"
      },
      "source": [
        "The aim of this notebook is to deep dive into the DataBlock class of fastai in order to better understand its components."
      ]
    },
    {
      "cell_type": "markdown",
      "metadata": {
        "id": "UILrR1Rq-NBM"
      },
      "source": [
        "###Let's start with a blank datablock.  "
      ]
    },
    {
      "cell_type": "code",
      "metadata": {
        "id": "OJIfJT4S5eoC"
      },
      "source": [
        "temp =  DataBlock()"
      ],
      "execution_count": 22,
      "outputs": []
    },
    {
      "cell_type": "code",
      "metadata": {
        "colab": {
          "base_uri": "https://localhost:8080/"
        },
        "id": "uTw6-HIr_OTq",
        "outputId": "e9efe033-c54c-4a2b-f0ab-a3df31f9cbbd"
      },
      "source": [
        "temp.get_x, temp.get_items, temp.splitter, temp.get_y # All these methods are initialised to None by default"
      ],
      "execution_count": 23,
      "outputs": [
        {
          "output_type": "execute_result",
          "data": {
            "text/plain": [
              "(None, None, None, None)"
            ]
          },
          "metadata": {
            "tags": []
          },
          "execution_count": 23
        }
      ]
    },
    {
      "cell_type": "code",
      "metadata": {
        "colab": {
          "base_uri": "https://localhost:8080/"
        },
        "id": "KnMKj7OP_YZJ",
        "outputId": "838cc2ef-5c7c-4f81-e1f4-03f5fbf28c98"
      },
      "source": [
        "temp.blocks, temp.dl_type # By default it is assumed that both blocks (input and output) are generic TransformBlocks and the dl_type is a Transformed Dataloader (TfmdDL)"
      ],
      "execution_count": 24,
      "outputs": [
        {
          "output_type": "execute_result",
          "data": {
            "text/plain": [
              "((fastai.data.block.TransformBlock, fastai.data.block.TransformBlock),\n",
              " fastai.data.core.TfmdDL)"
            ]
          },
          "metadata": {
            "tags": []
          },
          "execution_count": 24
        }
      ]
    },
    {
      "cell_type": "code",
      "metadata": {
        "colab": {
          "base_uri": "https://localhost:8080/"
        },
        "id": "ffGjl06D6Vzj",
        "outputId": "bcc26d45-68ee-4de2-8075-2fac7bde4724"
      },
      "source": [
        "temp._methods # All possible methods together in a list"
      ],
      "execution_count": 25,
      "outputs": [
        {
          "output_type": "execute_result",
          "data": {
            "text/plain": [
              "['get_items', 'splitter', 'get_y', 'get_x']"
            ]
          },
          "metadata": {
            "tags": []
          },
          "execution_count": 25
        }
      ]
    },
    {
      "cell_type": "markdown",
      "metadata": {
        "id": "vRxmYYW1AlKy"
      },
      "source": [
        "### Variable initialisation inside the init function"
      ]
    },
    {
      "cell_type": "code",
      "metadata": {
        "colab": {
          "base_uri": "https://localhost:8080/"
        },
        "id": "vVPxxQ7iAjX_",
        "outputId": "0ccde696-e1d3-492d-aa58-21c5e30d5b6f"
      },
      "source": [
        "temp.type_tfms \n",
        "#self.type_tfms = blocks.attrgot('type_tfms', L()) For both the input block and the output block we are initializing the type_tfms that are needed"
      ],
      "execution_count": 28,
      "outputs": [
        {
          "output_type": "execute_result",
          "data": {
            "text/plain": [
              "(#2) [[],[]]"
            ]
          },
          "metadata": {
            "tags": []
          },
          "execution_count": 28
        }
      ]
    },
    {
      "cell_type": "code",
      "metadata": {
        "colab": {
          "base_uri": "https://localhost:8080/"
        },
        "id": "seoxAXbZ-Wux",
        "outputId": "1627a577-b08c-4f8e-e769-d402aa502fdf"
      },
      "source": [
        "#self.default_item_tfms  = _merge_tfms(*blocks.attrgot('item_tfms',  L()))\n",
        "temp.default_item_tfms  \n",
        "# By default from the TransformBlock there is a ToTensor transformation in the itemblock"
      ],
      "execution_count": 29,
      "outputs": [
        {
          "output_type": "execute_result",
          "data": {
            "text/plain": [
              "(#1) [ToTensor:\n",
              "encodes: (PILMask,object) -> encodes\n",
              "(PILBase,object) -> encodes\n",
              "decodes: ]"
            ]
          },
          "metadata": {
            "tags": []
          },
          "execution_count": 29
        }
      ]
    },
    {
      "cell_type": "code",
      "metadata": {
        "colab": {
          "base_uri": "https://localhost:8080/"
        },
        "id": "xk2QAn5PHLOB",
        "outputId": "d5929643-cf0d-4320-8597-44a05b6844d3"
      },
      "source": [
        "#self.default_batch_tfms = _merge_tfms(*blocks.attrgot('batch_tfms', L()))\n",
        "temp.default_batch_tfms"
      ],
      "execution_count": 30,
      "outputs": [
        {
          "output_type": "execute_result",
          "data": {
            "text/plain": [
              "(#0) []"
            ]
          },
          "metadata": {
            "tags": []
          },
          "execution_count": 30
        }
      ]
    },
    {
      "cell_type": "code",
      "metadata": {
        "colab": {
          "base_uri": "https://localhost:8080/"
        },
        "id": "XMJeqdTL_hTl",
        "outputId": "0370660f-508e-4905-c6ab-83fbd5ab98f1"
      },
      "source": [
        "temp.dl_type"
      ],
      "execution_count": 31,
      "outputs": [
        {
          "output_type": "execute_result",
          "data": {
            "text/plain": [
              "fastai.data.core.TfmdDL"
            ]
          },
          "metadata": {
            "tags": []
          },
          "execution_count": 31
        }
      ]
    },
    {
      "cell_type": "code",
      "metadata": {
        "colab": {
          "base_uri": "https://localhost:8080/"
        },
        "id": "AYdgZ7A_PBn_",
        "outputId": "56e03ea3-5566-4372-9b41-631a0c5dd329"
      },
      "source": [
        "inspect.signature(temp.dl_type.__init__)"
      ],
      "execution_count": 12,
      "outputs": [
        {
          "output_type": "execute_result",
          "data": {
            "text/plain": [
              "<Signature (self, dataset, bs=64, shuffle=False, num_workers=None, verbose=False, do_setup=True, pin_memory=False, timeout=0, batch_size=None, drop_last=False, indexed=None, n=None, device=None, persistent_workers=False, *, wif=None, before_iter=None, after_item=None, before_batch=None, after_batch=None, after_iter=None, create_batches=None, create_item=None, create_batch=None, retain=None, get_idxs=None, sample=None, shuffle_fn=None, do_batch=None)>"
            ]
          },
          "metadata": {
            "tags": []
          },
          "execution_count": 12
        }
      ]
    },
    {
      "cell_type": "code",
      "metadata": {
        "colab": {
          "base_uri": "https://localhost:8080/"
        },
        "id": "d6VzFztANyaZ",
        "outputId": "f9889d36-bf33-436b-bc10-4bbeb1e738f2"
      },
      "source": [
        "#self.dataloaders = delegates(self.dl_type.__init__)(self.dataloaders)\n",
        "temp.dataloaders\n",
        "#self.dls_kwargs = merge(*blocks.attrgot('dls_kwargs', {}))\n",
        "temp.dls_kwargs"
      ],
      "execution_count": 32,
      "outputs": [
        {
          "output_type": "execute_result",
          "data": {
            "text/plain": [
              "{}"
            ]
          },
          "metadata": {
            "tags": []
          },
          "execution_count": 32
        }
      ]
    },
    {
      "cell_type": "code",
      "metadata": {
        "colab": {
          "base_uri": "https://localhost:8080/"
        },
        "id": "MJgeuiEeO_P_",
        "outputId": "b0d8b5e5-dcb3-4f5c-c531-73330bb024da"
      },
      "source": [
        "#self.n_inp = ifnone(n_inp, max(1, len(blocks)-1))\n",
        "temp.n_inp\n",
        "#self.getters = ifnone(getters, [noop]*len(self.type_tfms))\n",
        "temp.getters"
      ],
      "execution_count": 33,
      "outputs": [
        {
          "output_type": "execute_result",
          "data": {
            "text/plain": [
              "[<function fastai.imports.noop>, <function fastai.imports.noop>]"
            ]
          },
          "metadata": {
            "tags": []
          },
          "execution_count": 33
        }
      ]
    },
    {
      "cell_type": "code",
      "metadata": {
        "colab": {
          "base_uri": "https://localhost:8080/"
        },
        "id": "1tP0JEiRQlO_",
        "outputId": "0a088460-c459-4b75-de04-0d2a5ccc9c06"
      },
      "source": [
        "#if self.get_x:\n",
        "#           if len(L(self.get_x)) != self.n_inp:\n",
        "#               raise ValueError(f'get_x contains {len(L(self.get_x))} functions, but must contain {self.n_inp} (one for each input)\\n{self._msg}')\n",
        "#           self.getters[:self.n_inp] = L(self.get_x)\n",
        "# The idea here is that the input blocks can be more than 1 but the output block has to be 1. Therefore the n_inp is initialized to be max(1, len(blocks) - 1) where the last -1 is the output block\n",
        "temp.get_x, temp.get_y\n",
        "#if self.get_y:\n",
        "#    n_targs = len(self.getters) - self.n_inp\n",
        "#    if len(L(self.get_y)) != n_targs:\n",
        "#        raise ValueError(f'get_y contains {len(L(self.get_y))} functions, but must contain {n_targs} (one for each target)\\n{self._msg}')\n",
        "#    self.getters[self.n_inp:] = L(self.get_y)\n"
      ],
      "execution_count": 15,
      "outputs": [
        {
          "output_type": "execute_result",
          "data": {
            "text/plain": [
              "(None, None)"
            ]
          },
          "metadata": {
            "tags": []
          },
          "execution_count": 15
        }
      ]
    },
    {
      "cell_type": "markdown",
      "metadata": {
        "id": "_mE4LpU4AANW"
      },
      "source": [
        "### Using the datablock on an actual dataset\n",
        "The very traditional MNIST (sample) dataset comes to our aid in order to see the DataBlock in practice"
      ]
    },
    {
      "cell_type": "code",
      "metadata": {
        "id": "ZfHD0pZT9w7N"
      },
      "source": [
        "path = untar_data(URLs.MNIST_SAMPLE)\n",
        "path.ls()\n",
        "df = pd.read_csv('/root/.fastai/data/mnist_sample/labels.csv')"
      ],
      "execution_count": 35,
      "outputs": []
    },
    {
      "cell_type": "code",
      "metadata": {
        "id": "2oM-cQoLAIus"
      },
      "source": [
        "def get_y(r): return re.sub('.*/?(\\\\d)/.*', '\\\\1', r['name'])\n",
        "def get_x(r): return path/r['name']\n",
        "def splitter(r): return np.where(r['name'].str.startswith('train'))[0], np.where(r['name'].str.startswith('valid'))[0]\n",
        "mnist = DataBlock(blocks = (ImageBlock, CategoryBlock),\n",
        "                  get_x = get_x,\n",
        "                  get_y = get_y,\n",
        "                  splitter = splitter)\n",
        "dls = mnist.dataloaders(df)"
      ],
      "execution_count": 67,
      "outputs": []
    },
    {
      "cell_type": "code",
      "metadata": {
        "colab": {
          "base_uri": "https://localhost:8080/",
          "height": 536
        },
        "id": "ww4RKoLjDUhV",
        "outputId": "8fceab00-9919-4de8-b1b4-c46d59f66cfe"
      },
      "source": [
        "dls.show_batch()"
      ],
      "execution_count": 72,
      "outputs": [
        {
          "output_type": "display_data",
          "data": {
            "image/png": "[encoded data removed]",
            "text/plain": [
              "<Figure size 648x648 with 9 Axes>"
            ]
          },
          "metadata": {
            "tags": [],
            "needs_background": "light"
          }
        }
      ]
    },
    {
      "cell_type": "code",
      "metadata": {
        "colab": {
          "base_uri": "https://localhost:8080/"
        },
        "id": "qFFbOFFqG0Fl",
        "outputId": "7cbee790-a535-4217-83b5-764ae4310faa"
      },
      "source": [
        "mnist.blocks\n",
        "# Clearly regardless of the actual block specifications the return value is a transformblock"
      ],
      "execution_count": 78,
      "outputs": [
        {
          "output_type": "execute_result",
          "data": {
            "text/plain": [
              "(fastai.data.block.TransformBlock, fastai.data.block.TransformBlock)"
            ]
          },
          "metadata": {
            "tags": []
          },
          "execution_count": 78
        }
      ]
    },
    {
      "cell_type": "code",
      "metadata": {
        "colab": {
          "base_uri": "https://localhost:8080/"
        },
        "id": "ttACTr0vIenC",
        "outputId": "32de40bc-a66e-4bd8-d98a-f68b8ff8575f"
      },
      "source": [
        "mnist.type_tfms[0][0]"
      ],
      "execution_count": 83,
      "outputs": [
        {
          "output_type": "execute_result",
          "data": {
            "text/plain": [
              "<bound method PILBase.create of <class 'fastai.vision.core.PILImage'>>"
            ]
          },
          "metadata": {
            "tags": []
          },
          "execution_count": 83
        }
      ]
    },
    {
      "cell_type": "code",
      "metadata": {
        "id": "sCvTcD9n-nDQ"
      },
      "source": [
        "#Here we see two type tfms:\n",
        "# First is the PILBase.create of the ImageBlock which opens an image\n",
        "# The second part is the Categorize of the CategoryBlock which creates vocabulary for the Categories in the Categoryblock\n",
        "# By default the ImageBlock has a batch transformation IntToFloatTensor"
      ],
      "execution_count": null,
      "outputs": []
    },
    {
      "cell_type": "code",
      "metadata": {
        "id": "K7QgpMhq9Vfv"
      },
      "source": [
        "# Cell\n",
        "@docs\n",
        "@funcs_kwargs\n",
        "class DataBlock():\n",
        "    \"Generic container to quickly build `Datasets` and `DataLoaders`\"\n",
        "    # These 4 lines are initializing the self parts\n",
        "    get_x=get_items=splitter=get_y = None\n",
        "    blocks,dl_type = (TransformBlock,TransformBlock),TfmdDL\n",
        "    _methods = 'get_items splitter get_y get_x'.split()\n",
        "    _msg = \"If you wanted to compose several transforms in your getter don't forget to wrap them in a `Pipeline`.\"\n",
        "    def __init__(self, blocks=None, dl_type=None, getters=None, n_inp=None, item_tfms=None, batch_tfms=None, **kwargs):\n",
        "        blocks = L(self.blocks if blocks is None else blocks) #Either defaults or the blocks provided\n",
        "        blocks = L(b() if callable(b) else b for b in blocks) #Functions (CategoryBlock) or someting else?\n",
        "        self.type_tfms = blocks.attrgot('type_tfms', L()) \n",
        "        self.default_item_tfms  = _merge_tfms(*blocks.attrgot('item_tfms',  L()))\n",
        "        self.default_batch_tfms = _merge_tfms(*blocks.attrgot('batch_tfms', L()))\n",
        "        for b in blocks:\n",
        "            if getattr(b, 'dl_type', None) is not None: self.dl_type = b.dl_type\n",
        "        if dl_type is not None: self.dl_type = dl_type\n",
        "        self.dataloaders = delegates(self.dl_type.__init__)(self.dataloaders)\n",
        "        self.dls_kwargs = merge(*blocks.attrgot('dls_kwargs', {}))\n",
        "\n",
        "        self.n_inp = ifnone(n_inp, max(1, len(blocks)-1))\n",
        "        self.getters = ifnone(getters, [noop]*len(self.type_tfms))\n",
        "        if self.get_x:\n",
        "            if len(L(self.get_x)) != self.n_inp:\n",
        "                raise ValueError(f'get_x contains {len(L(self.get_x))} functions, but must contain {self.n_inp} (one for each input)\\n{self._msg}')\n",
        "            self.getters[:self.n_inp] = L(self.get_x)\n",
        "        if self.get_y:\n",
        "            n_targs = len(self.getters) - self.n_inp\n",
        "            if len(L(self.get_y)) != n_targs:\n",
        "                raise ValueError(f'get_y contains {len(L(self.get_y))} functions, but must contain {n_targs} (one for each target)\\n{self._msg}')\n",
        "            self.getters[self.n_inp:] = L(self.get_y)\n",
        "\n",
        "        if kwargs: raise TypeError(f'invalid keyword arguments: {\", \".join(kwargs.keys())}')\n",
        "        self.new(item_tfms, batch_tfms)\n",
        "\n",
        "    def _combine_type_tfms(self): return L([self.getters, self.type_tfms]).map_zip(\n",
        "        lambda g,tt: (g.fs if isinstance(g, Pipeline) else L(g)) + tt)\n",
        "\n",
        "    def new(self, item_tfms=None, batch_tfms=None):\n",
        "        self.item_tfms  = _merge_tfms(self.default_item_tfms,  item_tfms)\n",
        "        self.batch_tfms = _merge_tfms(self.default_batch_tfms, batch_tfms)\n",
        "        return self\n",
        "\n",
        "    @classmethod\n",
        "    def from_columns(cls, blocks=None, getters=None, get_items=None, **kwargs):\n",
        "        if getters is None: getters = L(ItemGetter(i) for i in range(2 if blocks is None else len(L(blocks))))\n",
        "        get_items = _zip if get_items is None else compose(get_items, _zip)\n",
        "        return cls(blocks=blocks, getters=getters, get_items=get_items, **kwargs)\n",
        "\n",
        "    def datasets(self, source, verbose=False):\n",
        "        self.source = source                     ; pv(f\"Collecting items from {source}\", verbose)\n",
        "        items = (self.get_items or noop)(source) ; pv(f\"Found {len(items)} items\", verbose)\n",
        "        splits = (self.splitter or RandomSplitter())(items)\n",
        "        pv(f\"{len(splits)} datasets of sizes {','.join([str(len(s)) for s in splits])}\", verbose)\n",
        "        return Datasets(items, tfms=self._combine_type_tfms(), splits=splits, dl_type=self.dl_type, n_inp=self.n_inp, verbose=verbose)\n",
        "\n",
        "    def dataloaders(self, source, path='.', verbose=False, **kwargs):\n",
        "        dsets = self.datasets(source, verbose=verbose)\n",
        "        kwargs = {**self.dls_kwargs, **kwargs, 'verbose': verbose}\n",
        "        return dsets.dataloaders(path=path, after_item=self.item_tfms, after_batch=self.batch_tfms, **kwargs)\n",
        "\n",
        "    _docs = dict(new=\"Create a new `DataBlock` with other `item_tfms` and `batch_tfms`\",\n",
        "                 datasets=\"Create a `Datasets` object from `source`\",\n",
        "                 dataloaders=\"Create a `DataLoaders` object from `source`\")\n"
      ],
      "execution_count": null,
      "outputs": []
    },
    {
      "cell_type": "code",
      "metadata": {
        "id": "SabJpxxY9Nta"
      },
      "source": [
        "# Cell\n",
        "class TransformBlock():\n",
        "    \"A basic wrapper that links defaults transforms for the data block API\"\n",
        "    def __init__(self, type_tfms=None, item_tfms=None, batch_tfms=None, dl_type=None, dls_kwargs=None):\n",
        "        self.type_tfms  =            L(type_tfms)\n",
        "        self.item_tfms  = ToTensor + L(item_tfms)\n",
        "        self.batch_tfms =            L(batch_tfms)\n",
        "        self.dl_type,self.dls_kwargs = dl_type,({} if dls_kwargs is None else dls_kwargs)\n",
        "\n",
        "# Cell\n",
        "def CategoryBlock(vocab=None, sort=True, add_na=False):\n",
        "    \"`TransformBlock` for single-label categorical targets\"\n",
        "    return TransformBlock(type_tfms=Categorize(vocab=vocab, sort=sort, add_na=add_na))\n",
        "\n",
        "# Cell\n",
        "def MultiCategoryBlock(encoded=False, vocab=None, add_na=False):\n",
        "    \"`TransformBlock` for multi-label categorical targets\"\n",
        "    tfm = EncodedMultiCategorize(vocab=vocab) if encoded else [MultiCategorize(vocab=vocab, add_na=add_na), OneHotEncode]\n",
        "    return TransformBlock(type_tfms=tfm)\n",
        "\n",
        "# Cell\n",
        "def RegressionBlock(n_out=None):\n",
        "    \"`TransformBlock` for float targets\"\n",
        "    return TransformBlock(type_tfms=RegressionSetup(c=n_out))\n",
        "\n",
        "# Cell\n",
        "from inspect import isfunction,ismethod\n",
        "\n",
        "# Cell\n",
        "def _merge_grouper(o):\n",
        "    if isinstance(o, LambdaType): return id(o)\n",
        "    elif isinstance(o, type): return o\n",
        "    elif (isfunction(o) or ismethod(o)): return o.__qualname__\n",
        "    return o.__class__\n",
        "\n",
        "# Cell\n",
        "def _merge_tfms(*tfms):\n",
        "    \"Group the `tfms` in a single list, removing duplicates (from the same class) and instantiating\"\n",
        "    g = groupby(concat(*tfms), _merge_grouper)\n",
        "    return L(v[-1] for k,v in g.items()).map(instantiate)\n",
        "\n",
        "def _zip(x): return L(x).zip()\n",
        "\n",
        "\n",
        "# Cell\n",
        "def _short_repr(x):\n",
        "    if isinstance(x, tuple): return f'({\", \".join([_short_repr(y) for y in x])})'\n",
        "    if isinstance(x, list): return f'[{\", \".join([_short_repr(y) for y in x])}]'\n",
        "    if not isinstance(x, Tensor): return str(x)\n",
        "    if x.numel() <= 20 and x.ndim <=1: return str(x)\n",
        "    return f'{x.__class__.__name__} of size {\"x\".join([str(d) for d in x.shape])}'\n",
        "\n",
        "# Cell\n",
        "def _apply_pipeline(p, x):\n",
        "    print(f\"  {p}\\n    starting from\\n      {_short_repr(x)}\")\n",
        "    for f in p.fs:\n",
        "        name = f.name\n",
        "        try:\n",
        "            x = f(x)\n",
        "            if name != \"noop\": print(f\"    applying {name} gives\\n      {_short_repr(x)}\")\n",
        "        except Exception as e:\n",
        "            print(f\"    applying {name} failed.\")\n",
        "            raise e\n",
        "    return x\n",
        "\n",
        "# Cell\n",
        "from .load import _collate_types\n",
        "\n",
        "def _find_fail_collate(s):\n",
        "    s = L(*s)\n",
        "    for x in s[0]:\n",
        "        if not isinstance(x, _collate_types): return f\"{type(x).__name__} is not collatable\"\n",
        "    for i in range_of(s[0]):\n",
        "        try: _ = default_collate(s.itemgot(i))\n",
        "        except:\n",
        "            shapes = [getattr(o[i], 'shape', None) for o in s]\n",
        "            return f\"Could not collate the {i}-th members of your tuples because got the following shapes\\n{','.join([str(s) for s in shapes])}\"\n",
        "\n",
        "# Cell\n",
        "@patch\n",
        "def summary(self: DataBlock, source, bs=4, show_batch=False, **kwargs):\n",
        "    \"Steps through the transform pipeline for one batch, and optionally calls `show_batch(**kwargs)` on the transient `Dataloaders`.\"\n",
        "    print(f\"Setting-up type transforms pipelines\")\n",
        "    dsets = self.datasets(source, verbose=True)\n",
        "    print(\"\\nBuilding one sample\")\n",
        "    for tl in dsets.train.tls:\n",
        "        _apply_pipeline(tl.tfms, get_first(dsets.train.items))\n",
        "    print(f\"\\nFinal sample: {dsets.train[0]}\\n\\n\")\n",
        "\n",
        "    dls = self.dataloaders(source, bs=bs, verbose=True)\n",
        "    print(\"\\nBuilding one batch\")\n",
        "    if len([f for f in dls.train.after_item.fs if f.name != 'noop'])!=0:\n",
        "        print(\"Applying item_tfms to the first sample:\")\n",
        "        s = [_apply_pipeline(dls.train.after_item, dsets.train[0])]\n",
        "        print(f\"\\nAdding the next {bs-1} samples\")\n",
        "        s += [dls.train.after_item(dsets.train[i]) for i in range(1, bs)]\n",
        "    else:\n",
        "        print(\"No item_tfms to apply\")\n",
        "        s = [dls.train.after_item(dsets.train[i]) for i in range(bs)]\n",
        "\n",
        "    if len([f for f in dls.train.before_batch.fs if f.name != 'noop'])!=0:\n",
        "        print(\"\\nApplying before_batch to the list of samples\")\n",
        "        s = _apply_pipeline(dls.train.before_batch, s)\n",
        "    else: print(\"\\nNo before_batch transform to apply\")\n",
        "\n",
        "    print(\"\\nCollating items in a batch\")\n",
        "    try:\n",
        "        b = dls.train.create_batch(s)\n",
        "        b = retain_types(b, s[0] if is_listy(s) else s)\n",
        "    except Exception as e:\n",
        "        print(\"Error! It's not possible to collate your items in a batch\")\n",
        "        why = _find_fail_collate(s)\n",
        "        print(\"Make sure all parts of your samples are tensors of the same size\" if why is None else why)\n",
        "        raise e\n",
        "\n",
        "    if len([f for f in dls.train.after_batch.fs if f.name != 'noop'])!=0:\n",
        "        print(\"\\nApplying batch_tfms to the batch built\")\n",
        "        b = to_device(b, dls.device)\n",
        "        b = _apply_pipeline(dls.train.after_batch, b)\n",
        "    else: print(\"\\nNo batch_tfms to apply\")\n",
        "\n",
        "    if show_batch: dls.show_batch(**kwargs)"
      ],
      "execution_count": null,
      "outputs": []
    }
  ]
}