{
  "nbformat": 4,
  "nbformat_minor": 0,
  "metadata": {
    "colab": {
      "name": "Chapter_5_notes",
      "provenance": [],
      "authorship_tag": "ABX9TyOF9fUs19dmIH6fZk4+KvRM",
      "include_colab_link": true
    },
    "kernelspec": {
      "name": "python3",
      "display_name": "Python 3"
    }
  },
  "cells": [
    {
      "cell_type": "markdown",
      "metadata": {
        "id": "view-in-github",
        "colab_type": "text"
      },
      "source": [
        "<a href=\"https://colab.research.google.com/github/george-kan/fastai/blob/main/Chapter5/Chapter_5_notes.ipynb\" target=\"_parent\"><img src=\"https://colab.research.google.com/assets/colab-badge.svg\" alt=\"Open In Colab\"/></a>"
      ]
    },
    {
      "cell_type": "code",
      "metadata": {
        "colab": {
          "base_uri": "https://localhost:8080/"
        },
        "id": "PFoPoqUpwIya",
        "outputId": "25463660-32d6-4517-a76d-e69e593a469a"
      },
      "source": [
        "!pip install -Uqq fastbook\r\n",
        "import fastbook\r\n",
        "from fastai.vision.all import *\r\n",
        "from fastbook import *"
      ],
      "execution_count": 1,
      "outputs": [
        {
          "output_type": "stream",
          "text": [
            "\u001b[K     |████████████████████████████████| 727kB 13.3MB/s \n",
            "\u001b[K     |████████████████████████████████| 51kB 4.2MB/s \n",
            "\u001b[K     |████████████████████████████████| 1.2MB 20.9MB/s \n",
            "\u001b[K     |████████████████████████████████| 194kB 37.3MB/s \n",
            "\u001b[K     |████████████████████████████████| 61kB 5.0MB/s \n",
            "\u001b[?25h"
          ],
          "name": "stdout"
        }
      ]
    },
    {
      "cell_type": "code",
      "metadata": {
        "colab": {
          "base_uri": "https://localhost:8080/",
          "height": 17
        },
        "id": "j2fRBTB0wZ4a",
        "outputId": "a9c10c15-2de2-4c0c-992a-0b8c400e11fa"
      },
      "source": [
        "path = untar_data(URLs.PETS)"
      ],
      "execution_count": 2,
      "outputs": [
        {
          "output_type": "display_data",
          "data": {
            "text/html": [
              ""
            ],
            "text/plain": [
              "<IPython.core.display.HTML object>"
            ]
          },
          "metadata": {
            "tags": []
          }
        }
      ]
    },
    {
      "cell_type": "code",
      "metadata": {
        "colab": {
          "base_uri": "https://localhost:8080/"
        },
        "id": "y3SfELUwxFO2",
        "outputId": "947db768-5652-4f06-ca0a-0883c881f250"
      },
      "source": [
        "(path/'images').ls()"
      ],
      "execution_count": 5,
      "outputs": [
        {
          "output_type": "execute_result",
          "data": {
            "text/plain": [
              "(#7) [Path('/root/.fastai/data/oxford-iiit-pet/annotations/._trimaps'),Path('/root/.fastai/data/oxford-iiit-pet/annotations/test.txt'),Path('/root/.fastai/data/oxford-iiit-pet/annotations/list.txt'),Path('/root/.fastai/data/oxford-iiit-pet/annotations/xmls'),Path('/root/.fastai/data/oxford-iiit-pet/annotations/trainval.txt'),Path('/root/.fastai/data/oxford-iiit-pet/annotations/trimaps'),Path('/root/.fastai/data/oxford-iiit-pet/annotations/README')]"
            ]
          },
          "metadata": {
            "tags": []
          },
          "execution_count": 5
        }
      ]
    },
    {
      "cell_type": "code",
      "metadata": {
        "colab": {
          "base_uri": "https://localhost:8080/",
          "height": 35
        },
        "id": "grB9xaQTyWPu",
        "outputId": "3beb705d-898b-4b7a-b098-ef83f248e47a"
      },
      "source": [
        "test_name = (path/'images').ls()[10]\r\n",
        "test_name.name"
      ],
      "execution_count": 17,
      "outputs": [
        {
          "output_type": "execute_result",
          "data": {
            "application/vnd.google.colaboratory.intrinsic+json": {
              "type": "string"
            },
            "text/plain": [
              "'Maine_Coon_267.jpg'"
            ]
          },
          "metadata": {
            "tags": []
          },
          "execution_count": 17
        }
      ]
    },
    {
      "cell_type": "code",
      "metadata": {
        "colab": {
          "base_uri": "https://localhost:8080/",
          "height": 35
        },
        "id": "zD-Q4nl4yi0C",
        "outputId": "e0e664bd-b6ae-437f-81d9-6d7cecab4039"
      },
      "source": [
        "re.search('(.*)_\\d+\\.jpg', test_name.name).group(1)"
      ],
      "execution_count": 18,
      "outputs": [
        {
          "output_type": "execute_result",
          "data": {
            "application/vnd.google.colaboratory.intrinsic+json": {
              "type": "string"
            },
            "text/plain": [
              "'Maine_Coon'"
            ]
          },
          "metadata": {
            "tags": []
          },
          "execution_count": 18
        }
      ]
    },
    {
      "cell_type": "code",
      "metadata": {
        "colab": {
          "base_uri": "https://localhost:8080/",
          "height": 35
        },
        "id": "xEDDzvNb1Wyv",
        "outputId": "be4188b6-4143-4d27-9a2f-422b520aef21"
      },
      "source": [
        "r = RegexLabeller(r'(.*)_\\d+\\.jpg') # RegexLabeller is essentially a different name for either re.search (default) or re.match (if match = True)\r\n",
        "r(test_name.name)"
      ],
      "execution_count": 20,
      "outputs": [
        {
          "output_type": "execute_result",
          "data": {
            "application/vnd.google.colaboratory.intrinsic+json": {
              "type": "string"
            },
            "text/plain": [
              "'Maine_Coon'"
            ]
          },
          "metadata": {
            "tags": []
          },
          "execution_count": 20
        }
      ]
    },
    {
      "cell_type": "code",
      "metadata": {
        "id": "YOszI5jbz3k-"
      },
      "source": [
        "pets = DataBlock(blocks = (ImageBlock, CategoryBlock),\r\n",
        "                get_items = get_image_files,\r\n",
        "                get_y = using_attr(RegexLabeller(r'(.*)_\\d+\\.jpg'), 'name'),\r\n",
        "                splitter = RandomSplitter(),\r\n",
        "                item_tfms = Resize(460),\r\n",
        "                batch_tfms = aug_transforms(size=224, min_scale=0.75))\r\n",
        "\r\n",
        "dls = pets.dataloaders(path/\"images\")"
      ],
      "execution_count": 22,
      "outputs": []
    }
  ]
}